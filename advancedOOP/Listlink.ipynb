{
  "nbformat": 4,
  "nbformat_minor": 0,
  "metadata": {
    "colab": {
      "provenance": [],
      "authorship_tag": "ABX9TyM9rW9cjWHakLQEAqdWQE+c",
      "include_colab_link": true
    },
    "kernelspec": {
      "name": "python3",
      "display_name": "Python 3"
    },
    "language_info": {
      "name": "python"
    }
  },
  "cells": [
    {
      "cell_type": "markdown",
      "metadata": {
        "id": "view-in-github",
        "colab_type": "text"
      },
      "source": [
        "<a href=\"https://colab.research.google.com/github/hackerFaruk/ceng111/blob/main/advancedOOP/Listlink.ipynb\" target=\"_parent\"><img src=\"https://colab.research.google.com/assets/colab-badge.svg\" alt=\"Open In Colab\"/></a>"
      ]
    },
    {
      "cell_type": "markdown",
      "source": [
        "In python you have great lists that can be editted constatnly but not all languages are that great. also learning about this data structure allows us to work on binary trees"
      ],
      "metadata": {
        "id": "CibxdjtXza_j"
      }
    },
    {
      "cell_type": "code",
      "execution_count": null,
      "metadata": {
        "id": "6ijKgAtqx022"
      },
      "outputs": [],
      "source": [
        "class DataNode:\n",
        "  def __init__(self, value):\n",
        "    self.value=value\n",
        "    self.next = None\n"
      ]
    },
    {
      "cell_type": "markdown",
      "source": [
        "lets test our node"
      ],
      "metadata": {
        "id": "-zGErSTEzuz1"
      }
    },
    {
      "cell_type": "code",
      "source": [
        "node1 = DataNode(1)"
      ],
      "metadata": {
        "id": "NRUfgy0hz1Nj"
      },
      "execution_count": null,
      "outputs": []
    },
    {
      "cell_type": "code",
      "source": [
        "node2 = DataNode(2)"
      ],
      "metadata": {
        "id": "3lqdhUGaz8BC"
      },
      "execution_count": null,
      "outputs": []
    },
    {
      "cell_type": "code",
      "source": [
        "node3 = DataNode(3)"
      ],
      "metadata": {
        "id": "pjbOV4sdz8vP"
      },
      "execution_count": null,
      "outputs": []
    },
    {
      "cell_type": "markdown",
      "source": [
        "we have 3 nodes lets bind them"
      ],
      "metadata": {
        "id": "SP5B5YVSz0UC"
      }
    },
    {
      "cell_type": "code",
      "source": [
        "node1.next  # it has no next"
      ],
      "metadata": {
        "id": "tBr6_b-m0QqD"
      },
      "execution_count": null,
      "outputs": []
    },
    {
      "cell_type": "code",
      "source": [
        "node1.next = node2"
      ],
      "metadata": {
        "id": "CcLVtf830X8Y"
      },
      "execution_count": null,
      "outputs": []
    },
    {
      "cell_type": "code",
      "source": [
        "node2.next = node3"
      ],
      "metadata": {
        "id": "SPRNWZQj2IX-"
      },
      "execution_count": null,
      "outputs": []
    },
    {
      "cell_type": "markdown",
      "source": [
        "this is our structure now node1-> node2 -> node3"
      ],
      "metadata": {
        "id": "lFI5EfqH2IH7"
      }
    },
    {
      "cell_type": "markdown",
      "source": [
        "lets have a function that prints all connected nodes"
      ],
      "metadata": {
        "id": "N1R3-g532rkT"
      }
    },
    {
      "cell_type": "code",
      "source": [
        "def printNodes(node):\n",
        "  current = node\n",
        "  while current:\n",
        "    print(current.value)\n",
        "    current = current.next"
      ],
      "metadata": {
        "id": "Z80gFzzP2gst"
      },
      "execution_count": null,
      "outputs": []
    },
    {
      "cell_type": "code",
      "source": [
        "printNodes(node1)"
      ],
      "metadata": {
        "colab": {
          "base_uri": "https://localhost:8080/"
        },
        "id": "NBm98V_M34pe",
        "outputId": "2d8d844e-3559-47c6-83bf-9c4c61ec0b6d"
      },
      "execution_count": null,
      "outputs": [
        {
          "output_type": "stream",
          "name": "stdout",
          "text": [
            "1\n",
            "2\n",
            "3\n"
          ]
        }
      ]
    },
    {
      "cell_type": "markdown",
      "source": [
        "altough it works it is not logical to rely on your memory to remember first node to start print and last to remember where to add next node"
      ],
      "metadata": {
        "id": "TIDgyNER34RA"
      }
    },
    {
      "cell_type": "markdown",
      "source": [
        "lets create a listMaker that uses our nodes to create a list"
      ],
      "metadata": {
        "id": "toKQMpUL5dvI"
      }
    },
    {
      "cell_type": "code",
      "source": [
        "class ListMaker:\n",
        "  def __init__(self):\n",
        "    self.head = None # initilizes empty head means first node\n",
        "\n",
        "  def append(self,value):\n",
        "    if self.head== None:\n",
        "      self.head = DataNode(value)\n",
        "    else:\n",
        "      current = self.head\n",
        "      while current.next != None:\n",
        "        current=current.next  # sonrası boş olana kadar git\n",
        "      current.next = DataNode(value)\n",
        "\n",
        "\n",
        "  def printNodes(self):\n",
        "    current = self.head\n",
        "    while current:\n",
        "      print(current.value)\n",
        "      current = current.next\n",
        "\n",
        "\n",
        "\n",
        "    def __repr__(self):\n",
        "      return \" print error\"\n"
      ],
      "metadata": {
        "id": "ugw4N3-U5asv"
      },
      "execution_count": 77,
      "outputs": []
    },
    {
      "cell_type": "code",
      "source": [
        "linklist = ListMaker()\n",
        "linklist.append(1)\n",
        "linklist.append(2)\n",
        "linklist.append(3)\n",
        "linklist.append(4)"
      ],
      "metadata": {
        "id": "7Zn_jh7W87C6"
      },
      "execution_count": 78,
      "outputs": []
    },
    {
      "cell_type": "code",
      "source": [
        "repr(linklist)"
      ],
      "metadata": {
        "colab": {
          "base_uri": "https://localhost:8080/",
          "height": 35
        },
        "id": "j-_YLWO59bUR",
        "outputId": "32e65d39-9c69-4576-ad73-ab942b13302d"
      },
      "execution_count": 79,
      "outputs": [
        {
          "output_type": "execute_result",
          "data": {
            "text/plain": [
              "'<__main__.ListMaker object at 0x7995c2b9b700>'"
            ],
            "application/vnd.google.colaboratory.intrinsic+json": {
              "type": "string"
            }
          },
          "metadata": {},
          "execution_count": 79
        }
      ]
    },
    {
      "cell_type": "code",
      "source": [
        "linklist.printNodes()"
      ],
      "metadata": {
        "colab": {
          "base_uri": "https://localhost:8080/"
        },
        "id": "f2nDDRjBBXVK",
        "outputId": "aab5a19f-3c7f-4b0c-c0db-29b17fe0a131"
      },
      "execution_count": 80,
      "outputs": [
        {
          "output_type": "stream",
          "name": "stdout",
          "text": [
            "1\n",
            "2\n",
            "3\n",
            "4\n"
          ]
        }
      ]
    },
    {
      "cell_type": "markdown",
      "source": [],
      "metadata": {
        "id": "3LRWWTemBW7v"
      }
    }
  ]
}