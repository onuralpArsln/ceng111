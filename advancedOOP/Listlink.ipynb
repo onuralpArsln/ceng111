{
  "cells": [
    {
      "cell_type": "markdown",
      "metadata": {
        "colab_type": "text",
        "id": "view-in-github"
      },
      "source": [
        "<a href=\"https://colab.research.google.com/github/hackerFaruk/ceng111/blob/main/advancedOOP/Listlink.ipynb\" target=\"_parent\"><img src=\"https://colab.research.google.com/assets/colab-badge.svg\" alt=\"Open In Colab\"/></a>"
      ]
    },
    {
      "cell_type": "markdown",
      "metadata": {
        "id": "CibxdjtXza_j"
      },
      "source": [
        "In python you have great lists that can be editted constatnly but not all languages are that great. also learning about this data structure allows us to work on binary trees"
      ]
    },
    {
      "cell_type": "code",
      "execution_count": 3,
      "metadata": {
        "id": "6ijKgAtqx022"
      },
      "outputs": [],
      "source": [
        "class DataNode:\n",
        "  def __init__(self, value):\n",
        "    self.value=value\n",
        "    self.next = None\n"
      ]
    },
    {
      "cell_type": "markdown",
      "metadata": {
        "id": "-zGErSTEzuz1"
      },
      "source": [
        "lets test our node"
      ]
    },
    {
      "cell_type": "code",
      "execution_count": null,
      "metadata": {
        "id": "NRUfgy0hz1Nj"
      },
      "outputs": [],
      "source": [
        "node1 = DataNode(1)"
      ]
    },
    {
      "cell_type": "code",
      "execution_count": null,
      "metadata": {
        "id": "3lqdhUGaz8BC"
      },
      "outputs": [],
      "source": [
        "node2 = DataNode(2)"
      ]
    },
    {
      "cell_type": "code",
      "execution_count": null,
      "metadata": {
        "id": "pjbOV4sdz8vP"
      },
      "outputs": [],
      "source": [
        "node3 = DataNode(3)"
      ]
    },
    {
      "cell_type": "markdown",
      "metadata": {
        "id": "SP5B5YVSz0UC"
      },
      "source": [
        "we have 3 nodes lets bind them"
      ]
    },
    {
      "cell_type": "code",
      "execution_count": null,
      "metadata": {
        "id": "tBr6_b-m0QqD"
      },
      "outputs": [],
      "source": [
        "node1.next  # it has no next"
      ]
    },
    {
      "cell_type": "code",
      "execution_count": null,
      "metadata": {
        "id": "CcLVtf830X8Y"
      },
      "outputs": [],
      "source": [
        "node1.next = node2"
      ]
    },
    {
      "cell_type": "code",
      "execution_count": null,
      "metadata": {
        "id": "SPRNWZQj2IX-"
      },
      "outputs": [],
      "source": [
        "node2.next = node3"
      ]
    },
    {
      "cell_type": "markdown",
      "metadata": {
        "id": "lFI5EfqH2IH7"
      },
      "source": [
        "this is our structure now node1-> node2 -> node3"
      ]
    },
    {
      "cell_type": "markdown",
      "metadata": {
        "id": "N1R3-g532rkT"
      },
      "source": [
        "lets have a function that prints all connected nodes"
      ]
    },
    {
      "cell_type": "code",
      "execution_count": null,
      "metadata": {
        "id": "Z80gFzzP2gst"
      },
      "outputs": [],
      "source": [
        "def printNodes(node):\n",
        "  current = node\n",
        "  while current:\n",
        "    print(current.value)\n",
        "    current = current.next"
      ]
    },
    {
      "cell_type": "code",
      "execution_count": null,
      "metadata": {
        "colab": {
          "base_uri": "https://localhost:8080/"
        },
        "id": "NBm98V_M34pe",
        "outputId": "2d8d844e-3559-47c6-83bf-9c4c61ec0b6d"
      },
      "outputs": [
        {
          "name": "stdout",
          "output_type": "stream",
          "text": [
            "1\n",
            "2\n",
            "3\n"
          ]
        }
      ],
      "source": [
        "printNodes(node1)"
      ]
    },
    {
      "cell_type": "markdown",
      "metadata": {
        "id": "TIDgyNER34RA"
      },
      "source": [
        "altough it works it is not logical to rely on your memory to remember first node to start print and last to remember where to add next node"
      ]
    },
    {
      "cell_type": "markdown",
      "metadata": {
        "id": "toKQMpUL5dvI"
      },
      "source": [
        "lets create a listMaker that uses our nodes to create a list"
      ]
    },
    {
      "cell_type": "code",
      "execution_count": 24,
      "metadata": {
        "id": "ugw4N3-U5asv"
      },
      "outputs": [],
      "source": [
        "class ListMaker:\n",
        "  def __init__(self):\n",
        "    self.head = None # initilizes empty head means first node\n",
        "\n",
        "  def append(self,value):\n",
        "    if self.head== None:\n",
        "      self.head = DataNode(value)\n",
        "    else:\n",
        "      current = self.head\n",
        "      while current.next != None:\n",
        "        current=current.next  # sonrası boş olana kadar git\n",
        "      current.next = DataNode(value)\n",
        "\n",
        "  def __repr__(self) :\n",
        "      current = self.head\n",
        "      mem=\"\"\n",
        "      while current:\n",
        "        mem += str(current.value)\n",
        "        mem +=\" \"\n",
        "        current = current.next\n",
        "      \n",
        "      return mem\n"
      ]
    },
    {
      "cell_type": "code",
      "execution_count": 28,
      "metadata": {
        "id": "7Zn_jh7W87C6"
      },
      "outputs": [],
      "source": [
        "linklist = ListMaker()\n",
        "linklist.append(1)\n",
        "linklist.append(2)\n",
        "linklist.append(3)\n",
        "linklist.append(4)"
      ]
    },
    {
      "cell_type": "code",
      "execution_count": 21,
      "metadata": {
        "colab": {
          "base_uri": "https://localhost:8080/",
          "height": 35
        },
        "id": "j-_YLWO59bUR",
        "outputId": "32e65d39-9c69-4576-ad73-ab942b13302d"
      },
      "outputs": [
        {
          "data": {
            "text/plain": [
              "'1 2 3 4 '"
            ]
          },
          "execution_count": 21,
          "metadata": {},
          "output_type": "execute_result"
        }
      ],
      "source": [
        "repr(linklist)"
      ]
    },
    {
      "cell_type": "markdown",
      "metadata": {
        "id": "3LRWWTemBW7v"
      },
      "source": [
        "Currently append travels all the  length of list to add new node lets improve on it addidng 30000 nodes takes to much time "
      ]
    },
    {
      "cell_type": "code",
      "execution_count": 29,
      "metadata": {},
      "outputs": [],
      "source": [
        "for i in range(30000):\n",
        "    linklist.append(i)"
      ]
    },
    {
      "cell_type": "code",
      "execution_count": 19,
      "metadata": {},
      "outputs": [],
      "source": [
        "class ListMaker:\n",
        "  def __init__(self):\n",
        "    self.head = None # initilizes empty head means first node\n",
        "    self.tail = None #tail will be our last element \n",
        "\n",
        "  def append(self,value):\n",
        "    if self.head== None: #ilk eklenense\n",
        "      self.head = DataNode(value)\n",
        "      self.tail=self.head  # tek eleman var tail ve head aynı\n",
        "    else:\n",
        "      self.tail.next = DataNode(value) #uca yeni datayı nopde olarak ekledi \n",
        "      self.tail= self.tail.next #taili trail nexte taşıdı \n",
        "\n",
        "  def __repr__(self) :\n",
        "      current = self.head\n",
        "      mem=\"\"\n",
        "      while current:\n",
        "        mem += str(current.value)\n",
        "        mem +=\" \"\n",
        "        current = current.next\n",
        "      \n",
        "      return mem\n"
      ]
    }
  ],
  "metadata": {
    "colab": {
      "authorship_tag": "ABX9TyM9rW9cjWHakLQEAqdWQE+c",
      "include_colab_link": true,
      "provenance": []
    },
    "kernelspec": {
      "display_name": "Python 3",
      "name": "python3"
    },
    "language_info": {
      "codemirror_mode": {
        "name": "ipython",
        "version": 3
      },
      "file_extension": ".py",
      "mimetype": "text/x-python",
      "name": "python",
      "nbconvert_exporter": "python",
      "pygments_lexer": "ipython3",
      "version": "3.11.7"
    }
  },
  "nbformat": 4,
  "nbformat_minor": 0
}
