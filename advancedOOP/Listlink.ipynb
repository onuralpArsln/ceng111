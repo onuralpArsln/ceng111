{
  "nbformat": 4,
  "nbformat_minor": 0,
  "metadata": {
    "colab": {
      "provenance": [],
      "authorship_tag": "ABX9TyOGbcnH951g9FVi8gV5ReOl",
      "include_colab_link": true
    },
    "kernelspec": {
      "name": "python3",
      "display_name": "Python 3"
    },
    "language_info": {
      "name": "python"
    }
  },
  "cells": [
    {
      "cell_type": "markdown",
      "metadata": {
        "id": "view-in-github",
        "colab_type": "text"
      },
      "source": [
        "<a href=\"https://colab.research.google.com/github/hackerFaruk/ceng111/blob/main/advancedOOP/Listlink.ipynb\" target=\"_parent\"><img src=\"https://colab.research.google.com/assets/colab-badge.svg\" alt=\"Open In Colab\"/></a>"
      ]
    },
    {
      "cell_type": "markdown",
      "source": [
        "In python you have great lists that can be editted constatnly but not all languages are that great. also learning about this data structure allows us to work on binary trees"
      ],
      "metadata": {
        "id": "CibxdjtXza_j"
      }
    },
    {
      "cell_type": "code",
      "execution_count": null,
      "metadata": {
        "id": "6ijKgAtqx022"
      },
      "outputs": [],
      "source": [
        "class DataNode:\n",
        "  def __init__(self, value):\n",
        "    self.value=value\n",
        "    self.next = None\n",
        ""
      ]
    },
    {
      "cell_type": "markdown",
      "source": [
        "lets test our node"
      ],
      "metadata": {
        "id": "-zGErSTEzuz1"
      }
    },
    {
      "cell_type": "code",
      "source": [
        "node1 = DataNode(1)"
      ],
      "metadata": {
        "id": "NRUfgy0hz1Nj"
      },
      "execution_count": null,
      "outputs": []
    },
    {
      "cell_type": "code",
      "source": [
        "node2 = DataNode(2)"
      ],
      "metadata": {
        "id": "3lqdhUGaz8BC"
      },
      "execution_count": null,
      "outputs": []
    },
    {
      "cell_type": "code",
      "source": [
        "node3 = DataNode(3)"
      ],
      "metadata": {
        "id": "pjbOV4sdz8vP"
      },
      "execution_count": null,
      "outputs": []
    },
    {
      "cell_type": "markdown",
      "source": [
        "we have 3 nodes lets bind them"
      ],
      "metadata": {
        "id": "SP5B5YVSz0UC"
      }
    },
    {
      "cell_type": "code",
      "source": [
        "node1.next  # it has no next"
      ],
      "metadata": {
        "id": "tBr6_b-m0QqD"
      },
      "execution_count": null,
      "outputs": []
    },
    {
      "cell_type": "code",
      "source": [
        "node1.next = node2"
      ],
      "metadata": {
        "id": "CcLVtf830X8Y"
      },
      "execution_count": null,
      "outputs": []
    },
    {
      "cell_type": "markdown",
      "source": [],
      "metadata": {
        "id": "u1okO5fZ0Xe-"
      }
    }
  ]
}