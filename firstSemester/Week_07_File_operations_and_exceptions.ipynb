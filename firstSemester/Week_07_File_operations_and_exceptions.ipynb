{
 "cells": [
  {
   "cell_type": "markdown",
   "id": "b2ff3082",
   "metadata": {
    "id": "b2ff3082"
   },
   "source": [
    "# CENG 111 Computer Programming I [Fall 2023 - 2024]\n",
    "## Week 07 - File Operation and Exceptions\n",
    "\n",
    "## Objectives of the seventh week's lecture.\n",
    "\n",
    "- *File operation*\n",
    "- *Directory*\n",
    "- *Exception*\n",
    "- *Exception handling*"
   ]
  },
  {
   "cell_type": "markdown",
   "id": "70a26938",
   "metadata": {
    "id": "70a26938"
   },
   "source": [
    "## File operation\n",
    "\n",
    "Files are named locations on disk to store related information. They are used to permanently store data in a non-volatile memory (e.g. hard disk).\n",
    "\n",
    "Since **Random Access Memory (RAM)** is volatile (which loses its data when the computer is turned off), we use files for future use of the data by permanently storing them.\n",
    "\n",
    "When we want to read from or write to a file, we need to open it first. When we are done, it needs to be closed so that the resources that are tied with the file are freed.\n",
    "\n",
    "Hence, in Python, a file operation takes place in the following order:\n",
    "\n",
    "1. Open a file (Opening an input file allows the program to read data from the file.)\n",
    "2. Read or write (perform operation)\n",
    "3. Close the file\n",
    "\n",
    "### Opening Files in Python\n",
    "\n",
    "Python has a built-in **open()** function to open a file. This function returns a file object, also called a handle, as it is used to read or modify the file accordingly."
   ]
  },
  {
   "cell_type": "code",
   "execution_count": null,
   "id": "8baf282a",
   "metadata": {},
   "outputs": [],
   "source": [
    "f = open(\"test2.txt\") # open file in current directory"
   ]
  },
  {
   "cell_type": "code",
   "execution_count": null,
   "id": "6c7823dd",
   "metadata": {},
   "outputs": [],
   "source": [
    "f = open(\"test.txt\") # open file in current directory"
   ]
  },
  {
   "cell_type": "code",
   "execution_count": null,
   "id": "b9080600",
   "metadata": {},
   "outputs": [],
   "source": [
    "f.close()"
   ]
  },
  {
   "cell_type": "markdown",
   "id": "3c7a2463",
   "metadata": {},
   "source": [
    "In this example, we open the file test.txt, which should be stored in the same folder that you are in when you start Python."
   ]
  },
  {
   "cell_type": "code",
   "execution_count": null,
   "id": "ded66463",
   "metadata": {},
   "outputs": [],
   "source": [
    "# For example, this is a sample of a text file which records mail activity \n",
    "# from various individuals in an open source project development team:\n",
    "fhand = open('philosophers.txt')"
   ]
  },
  {
   "cell_type": "code",
   "execution_count": null,
   "id": "47cb9286",
   "metadata": {},
   "outputs": [],
   "source": [
    "fhand.close()"
   ]
  },
  {
   "cell_type": "code",
   "execution_count": null,
   "id": "931115f5",
   "metadata": {},
   "outputs": [],
   "source": [
    "help(open)"
   ]
  },
  {
   "cell_type": "markdown",
   "id": "5d40ff80",
   "metadata": {},
   "source": [
    "When you pass a file name that does not contain a path as an argument to the open function, the Python interpreter assumes the file’s location is the same as that of the program."
   ]
  },
  {
   "cell_type": "code",
   "execution_count": null,
   "id": "606b8ab4",
   "metadata": {},
   "outputs": [],
   "source": [
    "# Open a file named philosophers.txt.\n",
    "outfile = open('philosophers.txt')\n",
    "#print(outfile)\n",
    "#outfile.read()\n",
    "#outfile.close()"
   ]
  },
  {
   "cell_type": "markdown",
   "id": "79621bef",
   "metadata": {},
   "source": [
    "For example, suppose a program is located in the following folder on a Windows computer:"
   ]
  },
  {
   "cell_type": "code",
   "execution_count": null,
   "id": "e6ac1b9a",
   "metadata": {},
   "outputs": [],
   "source": [
    "file = open(\"C:/Python38/README.txt\") # specifying full path"
   ]
  },
  {
   "cell_type": "markdown",
   "id": "ed3eba6b",
   "metadata": {},
   "source": [
    "We can specify the mode while opening a file. In mode, we specify whether we want to read **r**, write **w** or append **a** to the file. We can also specify if we want to open the file in text mode or binary mode.\n",
    "\n",
    "The default is reading in text mode. In this mode, we get strings when reading from the file.\n",
    "\n",
    "On the other hand, binary mode returns bytes and this is the mode to be used when dealing with non-text files like images or executable files.\n",
    "\n",
    "<table>\n",
    "<tr>\n",
    "  <th>Mode<th><th>Descriptions<th>\n",
    "<tr>\n",
    "  <td>r<td><td>Opens a file for reading. (default)<td>\n",
    "<tr>\n",
    "  <td>w<td><td>Opens a file for writing. Creates a new file if it does not exist or truncates the file if it exists.<td>\n",
    "<tr>\n",
    "  <td>x<td><td>Opens a file for exclusive creation. If the file already exists, the operation fails.<td>\n",
    "<tr>\n",
    "  <td>a<td><td>Opens a file for appending at the end of the file without truncating it. Creates a new file if it does not exist.<td>\n",
    "<tr>\n",
    "  <td>t<td><td>Opens in text mode. (default)<td>\n",
    "<tr>\n",
    "<td>b<td><td>Opens in binary mode.<td>\n",
    "<tr>\n",
    "<td>+<td><td>Opens a file for updating (reading and writing)<td>\n",
    "<tr>\n",
    "<table>"
   ]
  },
  {
   "cell_type": "code",
   "execution_count": null,
   "id": "3ba652fe",
   "metadata": {},
   "outputs": [],
   "source": [
    "file1 = open(\"philosophers.txt\", 'r')      # equivalent to 'r' or 'rt'"
   ]
  },
  {
   "cell_type": "code",
   "execution_count": null,
   "id": "ebab7bbe",
   "metadata": {},
   "outputs": [],
   "source": [
    "file1 = open('philosophers.txt', 'w')  # write in text mode"
   ]
  },
  {
   "cell_type": "code",
   "execution_count": null,
   "id": "62b85e08",
   "metadata": {},
   "outputs": [],
   "source": [
    "file2 = open(\"flowers.jpg\", 'r+b') # read and write in binary mode"
   ]
  },
  {
   "cell_type": "code",
   "execution_count": null,
   "id": "a22bc227",
   "metadata": {},
   "outputs": [],
   "source": [
    "file2.close()"
   ]
  },
  {
   "cell_type": "code",
   "execution_count": null,
   "id": "1ece5345",
   "metadata": {},
   "outputs": [],
   "source": [
    "file1.close()"
   ]
  },
  {
   "cell_type": "markdown",
   "id": "6840f3b4",
   "metadata": {},
   "source": [
    "ASCII, abbreviated from American Standard Code for Information Interchange, is a character encoding standard for electronic communication. \n",
    "\n",
    "Unlike other languages, the character **a** does not imply the number 97 until it is encoded using **ASCII** (or other equivalent encodings).\n",
    "\n",
    "So, we must not also rely on the default encoding or else our code will behave differently in different platforms.\n",
    "\n",
    "Hence, when working with files in text mode, it is highly recommended to specify the encoding type."
   ]
  },
  {
   "attachments": {
    "image.png": {
     "image/png": "[encoded data removed]"
    }
   },
   "cell_type": "markdown",
   "id": "f9399f1e",
   "metadata": {},
   "source": [
    "![image.png](attachment:image.png)"
   ]
  },
  {
   "cell_type": "code",
   "execution_count": null,
   "id": "f57bf5bd",
   "metadata": {},
   "outputs": [],
   "source": [
    "file1 = open(\"philosophers.txt\", mode='r', encoding='utf-8')"
   ]
  },
  {
   "cell_type": "markdown",
   "id": "d5eb261b",
   "metadata": {},
   "source": [
    "### Closing Files in Python\n",
    "\n",
    "When we are done with performing operations on the file, we need to properly close the file.\n",
    "\n",
    "Closing a file will free up the resources that were tied with the file. It is done using the close() method available in Python.\n",
    "\n",
    "Python has a garbage collector to clean up unreferenced objects but we must not rely on it to close the file."
   ]
  },
  {
   "cell_type": "code",
   "execution_count": null,
   "id": "e71dd848",
   "metadata": {},
   "outputs": [],
   "source": [
    "file1 = open(\"philosophers.txt\", mode = 'w', encoding = 'utf-8')\n",
    "# perform file operations\n",
    "# Write\n",
    "file1.close()"
   ]
  },
  {
   "cell_type": "markdown",
   "id": "6770da5d",
   "metadata": {},
   "source": [
    "This method is not entirely safe. If an exception occurs when we are performing some operation with the file, the code exits without closing the file.\n",
    "\n",
    "A safer way is to use a **try...finally** block."
   ]
  },
  {
   "cell_type": "code",
   "execution_count": null,
   "id": "1f445161",
   "metadata": {},
   "outputs": [],
   "source": [
    "try:\n",
    "    file1 = open(\"philosophers.txt\", encoding = 'utf-8')\n",
    "    # perform file operations\n",
    "    # read    \n",
    "finally:\n",
    "    file1.close()"
   ]
  },
  {
   "cell_type": "markdown",
   "id": "220af01c",
   "metadata": {},
   "source": [
    "The **finally** keyword is used in **try...except** blocks. It defines a block of code to run when the **try...except...else** block is final.\n",
    "\n",
    "The **finally** block will be executed no matter if the try block raises an error or not.\n",
    "\n",
    "This can be useful to close objects and clean up resources."
   ]
  },
  {
   "cell_type": "markdown",
   "id": "ab16c04b",
   "metadata": {},
   "source": [
    "This way, we are guaranteeing that the file is properly closed even if an exception is raised that causes program flow to stop.\n",
    "\n",
    "The best way to close a file is by using the **with** statement. This ensures that the file is closed when the block inside the **with** statement is exited.\n",
    "\n",
    "We don't need to explicitly call the **close()** method. It is done internally."
   ]
  },
  {
   "cell_type": "code",
   "execution_count": null,
   "id": "a684baa9",
   "metadata": {},
   "outputs": [],
   "source": [
    "# Open and read a file using the with statement\n",
    "with open('philosophers.txt', 'r') as file1:\n",
    "    content = file1.read()\n",
    "    print(content)\n",
    "\n",
    "# Output:\n",
    "# 'Contents of the file are printed here.'\n",
    "# The file 'myfile.txt' is now closed automatically."
   ]
  },
  {
   "cell_type": "code",
   "execution_count": null,
   "id": "50eb355b",
   "metadata": {},
   "outputs": [],
   "source": [
    "content"
   ]
  },
  {
   "cell_type": "markdown",
   "id": "04275ec1",
   "metadata": {},
   "source": [
    "- In Python, we represent the newline character as a backslash-n in string constants.\n",
    "\n",
    "- Even though this looks like two characters, it is actually a single character. \n",
    "\n",
    "- When we look at the variable by entering “stuff” in the interpreter, it shows us the \\n in the string, but when we use print to show the string, we see the string broken into two lines by the newline character."
   ]
  },
  {
   "cell_type": "code",
   "execution_count": null,
   "id": "2cf11e04",
   "metadata": {},
   "outputs": [],
   "source": [
    "stuff = 'Hello\\nWorld!'\n",
    "stuff"
   ]
  },
  {
   "cell_type": "code",
   "execution_count": null,
   "id": "dcd402ba",
   "metadata": {},
   "outputs": [],
   "source": [
    "print(stuff)"
   ]
  },
  {
   "cell_type": "code",
   "execution_count": null,
   "id": "f1b663c8",
   "metadata": {},
   "outputs": [],
   "source": [
    "stuff = 'X\\nY'\n",
    "print(stuff)"
   ]
  },
  {
   "cell_type": "code",
   "execution_count": null,
   "id": "b852b63f",
   "metadata": {},
   "outputs": [],
   "source": [
    "len(stuff)"
   ]
  },
  {
   "cell_type": "markdown",
   "id": "71ead999",
   "metadata": {},
   "source": [
    "You can also see that the length of the string X\\nY is three characters because the newline character is a single character."
   ]
  },
  {
   "cell_type": "markdown",
   "id": "a21b267a",
   "metadata": {},
   "source": [
    "So when we look at the lines in a file, we need to imagine that there is a special invisible character called the newline at the end of each line that marks the end of the line.\n",
    "\n",
    "So the newline character separates the characters in the file into lines."
   ]
  },
  {
   "cell_type": "markdown",
   "id": "27b77145",
   "metadata": {},
   "source": [
    "### Writing to Files in Python\n",
    "\n",
    "In order to write into a file in Python, we need to open it in write **w**, append a or exclusive creation **x** mode.\n",
    "\n",
    "We need to be careful with the **w** mode, as it will overwrite into the file if it already exists. Due to this, all the previous data are erased.\n",
    "\n",
    "Writing a string or sequence of bytes (for binary files) is done using the **write()** method. This method returns the number of characters written to the file."
   ]
  },
  {
   "cell_type": "code",
   "execution_count": null,
   "id": "c18611e2",
   "metadata": {},
   "outputs": [],
   "source": [
    "with open(\"empty_test.txt\", 'w', encoding = 'utf-8') as f:\n",
    "    f.write(\"Hello World!\\n\\n\")\n",
    "    f.write(\"This file\\n\\n\")\n",
    "    f.write(\"contains three lines\\n\")"
   ]
  },
  {
   "cell_type": "markdown",
   "id": "c2f835f4",
   "metadata": {},
   "source": [
    "This program will create a new file named **empty_test.txt** in the current directory if it does not exist. If it does exist, it is overwritten.\n",
    "\n",
    "We must include the newline characters ourselves to distinguish the different lines.\n",
    "\n",
    "### Reading Files in Python\n",
    "\n",
    "To read a file in Python, we must open the file in reading **r** mode.\n",
    "\n",
    "There are various methods available for this purpose. We can use the **read(size)** method to read in the **size** number of data. If the **size** parameter is not specified, it reads and returns up to the end of the file.\n",
    "\n",
    "We can read the **philosophers.txt** file we wrote in the above section in the following way:"
   ]
  },
  {
   "cell_type": "code",
   "execution_count": null,
   "id": "1d399c41",
   "metadata": {
    "scrolled": true
   },
   "outputs": [],
   "source": [
    "with open('philosophers.txt', 'r') as f:\n",
    "    content = f.read()\n",
    "    print(content)"
   ]
  },
  {
   "cell_type": "code",
   "execution_count": null,
   "id": "6dd913a7",
   "metadata": {},
   "outputs": [],
   "source": [
    "content"
   ]
  },
  {
   "cell_type": "code",
   "execution_count": null,
   "id": "e7684395",
   "metadata": {},
   "outputs": [],
   "source": [
    "type(content)"
   ]
  },
  {
   "cell_type": "code",
   "execution_count": null,
   "id": "f4d52b5b",
   "metadata": {},
   "outputs": [],
   "source": [
    "f.close()"
   ]
  },
  {
   "cell_type": "code",
   "execution_count": null,
   "id": "b75a67a6",
   "metadata": {},
   "outputs": [],
   "source": [
    "f = open(\"philosophers.txt\",'r',encoding = 'utf-8')\n",
    "#contents = f.read()"
   ]
  },
  {
   "cell_type": "code",
   "execution_count": null,
   "id": "a381d73f",
   "metadata": {},
   "outputs": [],
   "source": [
    "contents"
   ]
  },
  {
   "cell_type": "code",
   "execution_count": null,
   "id": "56f1a51d",
   "metadata": {},
   "outputs": [],
   "source": [
    "print(f.read(3))    # read the first 3 data"
   ]
  },
  {
   "cell_type": "code",
   "execution_count": null,
   "id": "91b8678d",
   "metadata": {},
   "outputs": [],
   "source": [
    "print(f.read(5))    # read the next 5 data"
   ]
  },
  {
   "cell_type": "code",
   "execution_count": null,
   "id": "2b363d33",
   "metadata": {},
   "outputs": [],
   "source": [
    "print(f.read())     # read in the rest till end of file"
   ]
  },
  {
   "cell_type": "code",
   "execution_count": null,
   "id": "ccc2563f",
   "metadata": {},
   "outputs": [],
   "source": [
    "print(f.read())     # further reading returns empty sting"
   ]
  },
  {
   "cell_type": "code",
   "execution_count": null,
   "id": "89bdd22d",
   "metadata": {},
   "outputs": [],
   "source": [
    "# This program reads and displays the contents\n",
    "# of the philosophers.txt file.\n",
    "def main_read():\n",
    "    # Open a file named philosophers.txt.\n",
    "    infile = open('philosophers.txt', 'r')\n",
    "\n",
    "    # Read the file's contents.\n",
    "    file_contents = infile.read()\n",
    "\n",
    "    #print(file_contents)\n",
    "    \n",
    "    # Close the file.\n",
    "    infile.close()\n",
    "    \n",
    "    return file_contents"
   ]
  },
  {
   "cell_type": "code",
   "execution_count": null,
   "id": "2ed29084",
   "metadata": {},
   "outputs": [],
   "source": [
    "main_read()"
   ]
  },
  {
   "cell_type": "code",
   "execution_count": null,
   "id": "e078daac",
   "metadata": {},
   "outputs": [],
   "source": [
    "z = main_read()"
   ]
  },
  {
   "cell_type": "code",
   "execution_count": null,
   "id": "8083d5dd",
   "metadata": {},
   "outputs": [],
   "source": []
  },
  {
   "cell_type": "code",
   "execution_count": null,
   "id": "ec10058c",
   "metadata": {},
   "outputs": [],
   "source": [
    "z[1]"
   ]
  },
  {
   "cell_type": "code",
   "execution_count": null,
   "id": "bd223157",
   "metadata": {},
   "outputs": [],
   "source": [
    "# This program reads and displays the contents\n",
    "# of the philosophers.txt file.\n",
    "def main_read():\n",
    "    # Open a file named philosophers.txt.\n",
    "    infile = open('philosophers.txt', 'r')\n",
    "\n",
    "    # Read the file's contents.\n",
    "    file_contents = infile.read()\n",
    "\n",
    "    #print(file_contents)\n",
    "    \n",
    "    # Close the file.\n",
    "    return infile.close()        "
   ]
  },
  {
   "cell_type": "markdown",
   "id": "b200e095",
   "metadata": {},
   "source": [
    "It is quite easy to construct a for loop to read through and count each of the lines in a file:"
   ]
  },
  {
   "cell_type": "code",
   "execution_count": null,
   "id": "aad8a73d",
   "metadata": {},
   "outputs": [],
   "source": [
    "# “for each line in the file represented by the file handle, add one to the count variable.”\n",
    "fhand = open('mbox-short.txt')\n",
    "count = 0\n",
    "for line in fhand:\n",
    "    count = count + 1\n",
    "print('Line Count:', count)\n",
    "fhand.close()"
   ]
  },
  {
   "cell_type": "markdown",
   "id": "879db8ee",
   "metadata": {},
   "source": [
    "The reason that the open function does not read the entire file is that the file might be quite large with many gigabytes of data. The open statement takes the same amount of time regardless of the size of the file. The for loop actually causes the data to be read from the file."
   ]
  },
  {
   "cell_type": "markdown",
   "id": "aef4f041",
   "metadata": {},
   "source": [
    "If you know the file is relatively small compared to the size of your main memory, you can read the whole file into one string using the read method on the file handle."
   ]
  },
  {
   "cell_type": "code",
   "execution_count": null,
   "id": "795d02f4",
   "metadata": {},
   "outputs": [],
   "source": [
    "fhand = open('mbox-short.txt')\n",
    "inp = fhand.read()\n",
    "print(len(inp))\n",
    "print(inp[:10])\n",
    "fhand.close()"
   ]
  },
  {
   "cell_type": "markdown",
   "id": "e3e50e7e",
   "metadata": {},
   "source": [
    "In this example, the entire contents (all 94,626 characters) of the file mbox-short.txt are read directly into the variable inp. We use string slicing to print out the first 10 characters of the string data stored in inp."
   ]
  },
  {
   "cell_type": "code",
   "execution_count": null,
   "id": "45b9e4cd",
   "metadata": {},
   "outputs": [],
   "source": [
    "f_test = open(\"test.txt\",'r')\n",
    "\n",
    "# Read the file's contents.\n",
    "file_contents = f_test.read() \n",
    "print(file_contents)\n",
    "len(file_contents)"
   ]
  },
  {
   "cell_type": "code",
   "execution_count": null,
   "id": "beaeb8e8",
   "metadata": {},
   "outputs": [],
   "source": [
    "f.close()"
   ]
  },
  {
   "cell_type": "code",
   "execution_count": null,
   "id": "0ffc9648",
   "metadata": {},
   "outputs": [],
   "source": [
    "f_test = open(\"test.txt\",'r')\n",
    "f_test.read(6) # read the first 6 data"
   ]
  },
  {
   "cell_type": "code",
   "execution_count": null,
   "id": "6d3b9f7a",
   "metadata": {},
   "outputs": [],
   "source": [
    "f_test.read(4) # read the next 4 data"
   ]
  },
  {
   "cell_type": "code",
   "execution_count": null,
   "id": "f9ce5c0a",
   "metadata": {},
   "outputs": [],
   "source": [
    "f_test.read() # read in the rest till end of file"
   ]
  },
  {
   "cell_type": "code",
   "execution_count": null,
   "id": "08965310",
   "metadata": {},
   "outputs": [],
   "source": [
    "f_test.read() # further reading returns empty sting"
   ]
  },
  {
   "cell_type": "markdown",
   "id": "32dd6a0f",
   "metadata": {},
   "source": [
    "We can see that, the **read()** method returns newline as '\\n'. Once the end of file is reached, we get empty string on further reading."
   ]
  },
  {
   "cell_type": "code",
   "execution_count": null,
   "id": "6de81d5c",
   "metadata": {},
   "outputs": [],
   "source": [
    "#f_test.close()"
   ]
  },
  {
   "cell_type": "markdown",
   "id": "e83f88e1",
   "metadata": {},
   "source": [
    "What if we want to read the file from a specific position or find out from where the reading begins? \n",
    "\n",
    "Python’s **seek()** and **tell()** functions come in handy here.\n",
    "\n",
    "The **seek()** function in Python is used to move the file cursor to the specified location.\n",
    "\n",
    "We can move the cursor to a specific position by passing an arbitrary integer (based on the length of the content in the file) to the **seek()** function.\n",
    "\n",
    "The **seek()** function is used to set the position of the file cursor, whereas the **tell()** function returns the current file position in a file stream.\n",
    "\n"
   ]
  },
  {
   "cell_type": "code",
   "execution_count": null,
   "id": "1acff4e2",
   "metadata": {},
   "outputs": [],
   "source": [
    "f_test.close()"
   ]
  },
  {
   "cell_type": "code",
   "execution_count": null,
   "id": "cf78c64d",
   "metadata": {},
   "outputs": [],
   "source": [
    "f_test = open(\"test.txt\",'r')\n",
    "\n",
    "# Read the file's contents.\n",
    "file_contents = f_test.read()\n",
    "print(file_contents)"
   ]
  },
  {
   "cell_type": "code",
   "execution_count": null,
   "id": "e8166f40",
   "metadata": {},
   "outputs": [],
   "source": [
    "len(file_contents)"
   ]
  },
  {
   "cell_type": "code",
   "execution_count": null,
   "id": "d96b5f30",
   "metadata": {},
   "outputs": [],
   "source": [
    "file_contents"
   ]
  },
  {
   "cell_type": "code",
   "execution_count": null,
   "id": "43b3079d",
   "metadata": {},
   "outputs": [],
   "source": [
    "f_test.tell()"
   ]
  },
  {
   "cell_type": "code",
   "execution_count": null,
   "id": "458f8a1b",
   "metadata": {},
   "outputs": [],
   "source": [
    "f_test.read()"
   ]
  },
  {
   "cell_type": "code",
   "execution_count": null,
   "id": "1fc3c677",
   "metadata": {},
   "outputs": [],
   "source": [
    "f_test.seek(2)"
   ]
  },
  {
   "cell_type": "code",
   "execution_count": null,
   "id": "3e1c6c99",
   "metadata": {},
   "outputs": [],
   "source": [
    "#f_test.tell()"
   ]
  },
  {
   "cell_type": "code",
   "execution_count": null,
   "id": "2c03eb9c",
   "metadata": {},
   "outputs": [],
   "source": [
    "f_test.read() "
   ]
  },
  {
   "cell_type": "code",
   "execution_count": null,
   "id": "ac2d8cf9",
   "metadata": {},
   "outputs": [],
   "source": [
    "f_test.close()"
   ]
  },
  {
   "cell_type": "markdown",
   "id": "6b3900ce",
   "metadata": {},
   "source": [
    "We can read a file line-by-line using a **for loop**. This is both efficient and fast."
   ]
  },
  {
   "cell_type": "code",
   "execution_count": null,
   "id": "33afbe46",
   "metadata": {},
   "outputs": [],
   "source": [
    "f = open(\"philosophers.txt\",'r')\n",
    "\n",
    "f.seek(0)\n",
    "for line in f:\n",
    "    print(line)\n",
    "    \n",
    "f.close()    "
   ]
  },
  {
   "cell_type": "markdown",
   "id": "9ecf25e9",
   "metadata": {},
   "source": [
    "In this program, the lines in the file itself include a newline character **\\n**. So, we use the end parameter of the **print()** function to avoid two newlines when printing.\n",
    "\n",
    "Alternatively, we can use the **readline()** method to read individual lines of a file. This method reads a file till the newline, including the newline character."
   ]
  },
  {
   "cell_type": "code",
   "execution_count": null,
   "id": "3a99c150",
   "metadata": {},
   "outputs": [],
   "source": [
    "f = open(\"philosophers.txt\",'r')\n",
    "\n",
    "f.seek(0)\n",
    "f.readline()"
   ]
  },
  {
   "cell_type": "code",
   "execution_count": null,
   "id": "52b17167",
   "metadata": {},
   "outputs": [],
   "source": [
    "f.readline()"
   ]
  },
  {
   "cell_type": "code",
   "execution_count": null,
   "id": "96e4064f",
   "metadata": {},
   "outputs": [],
   "source": [
    "f.readline()"
   ]
  },
  {
   "cell_type": "code",
   "execution_count": null,
   "id": "8e96f4dc",
   "metadata": {},
   "outputs": [],
   "source": [
    "f.readline()"
   ]
  },
  {
   "cell_type": "markdown",
   "id": "b83e9b70",
   "metadata": {},
   "source": [
    "Lastly, the **readlines()** method returns a list of remaining lines of the entire file. All these reading methods return empty values when the end of file (EOF) is reached."
   ]
  },
  {
   "cell_type": "code",
   "execution_count": null,
   "id": "e388bfb3",
   "metadata": {},
   "outputs": [],
   "source": [
    "f.seek(0)\n",
    "f.readlines()"
   ]
  },
  {
   "cell_type": "markdown",
   "id": "47d31bea",
   "metadata": {},
   "source": [
    "### Python File Methods\n",
    "\n",
    "There are various methods available with the file object. Some of them have been used in the above examples.\n",
    "\n",
    "Here is the complete list of methods in text mode with a brief description:\n",
    "\n",
    "<table>\n",
    "<tr>\n",
    "  <th>Method<th><th>Descriptions<th>\n",
    "<tr>\n",
    "  <td>close()<td><td>Closes an opened file. It has no effect if the file is already closed.<td>\n",
    "<tr>\n",
    "  <td>detach()<td><td>Separates the underlying binary buffer from the TextIOBase and returns it.<td>\n",
    "<tr>\n",
    "  <td>fileno()<td><td>Returns an integer number (file descriptor) of the file.<td>\n",
    "<tr>\n",
    "  <td>flush()<td><td>Flushes the write buffer of the file stream.<td>\n",
    "<tr>\n",
    "  <td>isatty()<td><td>Returns True if the file stream is interactive.<td>\n",
    "<tr>\n",
    "  <td>read(n)<td><td>Reads at most n characters from the file. Reads till end of file if it is negative or None.<td>\n",
    "<tr>\n",
    "  <td>readable()<td><td>Returns True if the file stream can be read from.<td>\n",
    "<tr>\n",
    "  <td>readline(n=-1)<td><td>Reads and returns one line from the file. Reads in at most n bytes if specified.<td>\n",
    "<tr>\n",
    "  <td>readlines(n=-1)<td><td>Reads and returns a list of lines from the file. Reads in at most n bytes/characters if specified.<td>\n",
    "<tr>\n",
    "  <td>seek(offset,from=SEEK_SET)<td><td>Changes the file position to offset bytes, in reference to from (start, current, end).<td>\n",
    "<tr>\n",
    "  <td>seekable()<td><td>Returns True if the file stream supports random access.<td>\n",
    "<tr>\n",
    "  <td>tell()<td><td>Returns an integer that represents the current position of the file's object.<td>\n",
    "<tr>\n",
    "  <td>truncate(size=None)<td><td>Resizes the file stream to size bytes. If size is not specified, resizes to current location.<td>\n",
    "<tr>\n",
    "  <td>writable()<td><td>Returns True if the file stream can be written to.<td>\n",
    "<tr>\n",
    "  <td>write(s)<td><td>Writes the string s to the file and returns the number of characters written.<td>\n",
    "<tr>\n",
    "  <td>writelines(lines)<td><td>Writes a list of lines to the file.<td>\n",
    "<tr>\n",
    "<table>"
   ]
  },
  {
   "cell_type": "markdown",
   "id": "8dc2e2e0",
   "metadata": {},
   "source": [
    "## Directory\n",
    "\n",
    "If there are a large number of **files** to handle in our Python program, we can arrange our code within different directories to make things more manageable.\n",
    "\n",
    "A directory or folder is a collection of files and subdirectories. Python has the **os module** that provides us with many useful methods to work with directories (and files as well).\n",
    "\n",
    "### Get Current Directory\n",
    "\n",
    "We can get the present working directory using the **getcwd()** method of the **os module**.\n",
    "\n",
    "This method returns the current working directory in the form of a string. We can also use the **getcwdb()** method to get it as bytes object."
   ]
  },
  {
   "cell_type": "code",
   "execution_count": null,
   "id": "fd5e33e4",
   "metadata": {},
   "outputs": [],
   "source": [
    "import os\n",
    "os.getcwd()"
   ]
  },
  {
   "cell_type": "markdown",
   "id": "117d60eb",
   "metadata": {},
   "source": [
    "The extra backslash implies an escape sequence. The **print()** function will render this properly."
   ]
  },
  {
   "cell_type": "code",
   "execution_count": null,
   "id": "0a1473b7",
   "metadata": {},
   "outputs": [],
   "source": [
    "print(os.getcwd())"
   ]
  },
  {
   "cell_type": "markdown",
   "id": "46137f69",
   "metadata": {},
   "source": [
    "### Changing Directory\n",
    "\n",
    "We can change the current working directory by using the **chdir()** method.\n",
    "\n",
    "The new path that we want to change into must be supplied as a string to this method. We can use both the forward-slash **/** or the backward-slash **\\** to separate the path elements.\n",
    "\n",
    "It is safer to use an escape sequence when using the backward slash."
   ]
  },
  {
   "cell_type": "code",
   "execution_count": null,
   "id": "3911c6d7",
   "metadata": {},
   "outputs": [],
   "source": [
    "os.chdir('C:\\\\Python33')\n",
    "print(os.getcwd())"
   ]
  },
  {
   "cell_type": "markdown",
   "id": "fda86542",
   "metadata": {},
   "source": [
    "### List Directories and Files\n",
    "\n",
    "All files and sub-directories inside a directory can be retrieved using the **listdir()** method.\n",
    "\n",
    "This method takes in a path and returns a list of subdirectories and files in that path. If no path is specified, it returns the list of subdirectories and files from the current working directory."
   ]
  },
  {
   "cell_type": "code",
   "execution_count": null,
   "id": "ffeadb96",
   "metadata": {},
   "outputs": [],
   "source": [
    "print(os.getcwd())"
   ]
  },
  {
   "cell_type": "code",
   "execution_count": null,
   "id": "1e6402ed",
   "metadata": {},
   "outputs": [],
   "source": [
    "os.listdir()"
   ]
  },
  {
   "cell_type": "markdown",
   "id": "84d7a3c1",
   "metadata": {},
   "source": [
    "### Making a New Directory\n",
    "\n",
    "We can make a new directory using the **mkdir()** method.\n",
    "\n",
    "This method takes in the path of the new directory. If the full path is not specified, the new directory is created in the current working directory."
   ]
  },
  {
   "cell_type": "code",
   "execution_count": null,
   "id": "14af3d38",
   "metadata": {},
   "outputs": [],
   "source": [
    "os.mkdir('test')\n",
    "os.listdir()"
   ]
  },
  {
   "cell_type": "markdown",
   "id": "e19d4b3b",
   "metadata": {},
   "source": [
    "### Renaming a Directory or a File\n",
    "\n",
    "The **rename()** method can rename a directory or a file.\n",
    "\n",
    "For renaming any directory or file, the **rename()** method takes in two basic arguments: the old name as the first argument and the new name as the second argument."
   ]
  },
  {
   "cell_type": "code",
   "execution_count": null,
   "id": "25213a04",
   "metadata": {},
   "outputs": [],
   "source": [
    "os.listdir()"
   ]
  },
  {
   "cell_type": "code",
   "execution_count": null,
   "id": "0178417e",
   "metadata": {},
   "outputs": [],
   "source": [
    "os.rename('test','new_one')"
   ]
  },
  {
   "cell_type": "code",
   "execution_count": null,
   "id": "3f28567e",
   "metadata": {},
   "outputs": [],
   "source": [
    "os.listdir()"
   ]
  },
  {
   "cell_type": "markdown",
   "id": "a14b1631",
   "metadata": {},
   "source": [
    "### Removing Directory or File\n",
    "\n",
    "A file can be removed (deleted) using the **remove()** method.\n",
    "\n",
    "Similarly, the **rmdir()** method removes an empty directory."
   ]
  },
  {
   "cell_type": "code",
   "execution_count": null,
   "id": "f5f192b4",
   "metadata": {},
   "outputs": [],
   "source": [
    "os.listdir()"
   ]
  },
  {
   "cell_type": "code",
   "execution_count": null,
   "id": "14c042da",
   "metadata": {},
   "outputs": [],
   "source": [
    "os.remove('test.txt')"
   ]
  },
  {
   "cell_type": "code",
   "execution_count": null,
   "id": "81ab6eaa",
   "metadata": {},
   "outputs": [],
   "source": [
    "os.listdir()"
   ]
  },
  {
   "cell_type": "code",
   "execution_count": null,
   "id": "8bd1c2b1",
   "metadata": {},
   "outputs": [],
   "source": [
    "os.rmdir('new_one')"
   ]
  },
  {
   "cell_type": "code",
   "execution_count": null,
   "id": "08d66a8f",
   "metadata": {},
   "outputs": [],
   "source": [
    "os.listdir()"
   ]
  },
  {
   "cell_type": "markdown",
   "id": "9aa2ac27",
   "metadata": {},
   "source": [
    "> **Note:** The rmdir() method can only remove empty directories.\n",
    "\n",
    "In order to remove a non-empty directory, we can use the **rmtree()** method inside the **shutil** module."
   ]
  },
  {
   "cell_type": "code",
   "execution_count": null,
   "id": "5336d856",
   "metadata": {},
   "outputs": [],
   "source": [
    "os.listdir()"
   ]
  },
  {
   "cell_type": "code",
   "execution_count": null,
   "id": "423e3355",
   "metadata": {},
   "outputs": [],
   "source": [
    "os.rmdir('test')"
   ]
  },
  {
   "cell_type": "code",
   "execution_count": null,
   "id": "758bda68",
   "metadata": {},
   "outputs": [],
   "source": [
    "import shutil"
   ]
  },
  {
   "cell_type": "code",
   "execution_count": null,
   "id": "efc2eee0",
   "metadata": {},
   "outputs": [],
   "source": [
    "shutil.rmtree('test')"
   ]
  },
  {
   "cell_type": "code",
   "execution_count": null,
   "id": "925c84eb",
   "metadata": {},
   "outputs": [],
   "source": [
    "os.listdir()"
   ]
  },
  {
   "cell_type": "markdown",
   "id": "6664055f",
   "metadata": {},
   "source": [
    "## Exception\n",
    "\n",
    "An exception is an error that occurs while a program is running.\n",
    "\n",
    "You can prevent many exceptions from being raised by carefully coding your program.\n",
    "\n",
    "We can make certain mistakes while writing a program that lead to errors when we try to run it. A python program terminates as soon as it encounters an unhandled error. These errors can be broadly classified into two classes:\n",
    "\n",
    "1. Syntax errors\n",
    "2. Logical errors (Exceptions)\n",
    "\n",
    "## Python Syntax Errors\n",
    "Error caused by not following the proper structure (syntax) of the language is called syntax error or parsing error.\n",
    "\n",
    "Let's look at one example:"
   ]
  },
  {
   "cell_type": "code",
   "execution_count": null,
   "id": "8b1d18f4",
   "metadata": {},
   "outputs": [],
   "source": [
    "if a < 3"
   ]
  },
  {
   "cell_type": "markdown",
   "id": "a3751a55",
   "metadata": {},
   "source": [
    "As shown in the example, an arrow indicates where the parser ran into the syntax error.\n",
    "\n",
    "We can notice here that a colon **:** is missing in the **if** statement.\n",
    "\n",
    "## Python Logical Errors (Exceptions)\n",
    "\n",
    "Errors that occur at runtime (after passing the syntax test) are called **exceptions** or **logical errors**.\n",
    "\n",
    "For instance, they occur when we try to open a file (for reading) that does not exist (**FileNotFoundError**), try to divide a number by zero (**ZeroDivisionError**), or try to import a module that does not exist (**ImportError**).\n",
    "\n",
    "Whenever these types of runtime errors occur, Python creates an exception object. If not handled properly, it prints a traceback to that error along with some details about why that error occurred.\n",
    "\n",
    "Let's look at how Python treats these errors:"
   ]
  },
  {
   "cell_type": "code",
   "execution_count": null,
   "id": "4837b586",
   "metadata": {},
   "outputs": [],
   "source": [
    "1 / 0"
   ]
  },
  {
   "cell_type": "markdown",
   "id": "66df1a1b",
   "metadata": {},
   "source": [
    "## Python Built-in Exceptions\n",
    "\n",
    "Illegal operations can raise exceptions. There are plenty of built-in exceptions in Python that are raised when corresponding errors occur. We can view all the built-in exceptions using the built-in **local()** function as follows:"
   ]
  },
  {
   "cell_type": "code",
   "execution_count": null,
   "id": "a2f06317",
   "metadata": {},
   "outputs": [],
   "source": [
    "print(dir(locals()['__builtins__']))"
   ]
  },
  {
   "cell_type": "markdown",
   "id": "8bfa8b45",
   "metadata": {},
   "source": [
    "**locals()['__builtins__']** will return a module of built-in exceptions, functions, and attributes. **dir** allows us to list these attributes as strings.\n",
    "\n",
    "Some of the common built-in exceptions in Python programming along with the error that cause them are listed below:\n",
    "\n",
    "<table>\n",
    "<tr>\n",
    "  <th>Exception<th><th>Cause of Error<th>\n",
    "<tr>\n",
    "  <td>AssertionError<td><td>Raised when an assert statement fails.<td>\n",
    "<tr>\n",
    "  <td>AttributeError<td><td>Raised when attribute assignment or reference fails.<td>\n",
    "<tr>\n",
    "  <td>EOFError<td><td>Raised when the input() function hits end-of-file condition.<td>\n",
    "<tr>\n",
    "  <td>FloatingPointError<td><td>Raised when a floating point operation fails.<td>\n",
    "<tr>\n",
    "  <td>GeneratorExit<td><td>Raise when a generator's close() method is called.<td>\n",
    "<tr>\n",
    "  <td>ImportError<td><td>Raised when the imported module is not found.<td>\n",
    "<tr>\n",
    "  <td>IndexError<td><td>Raised when the index of a sequence is out of range.<td>\n",
    "<tr>\n",
    "  <td>KeyError<td><td>Raised when a key is not found in a dictionary.<td>\n",
    "<tr>\n",
    "  <td>KeyboardInterrupt<td><td>Raised when the user hits the interrupt key (Ctrl+C or Delete).<td>\n",
    "<tr>\n",
    "  <td>MemoryError<td><td>Raised when an operation runs out of memory.<td>\n",
    "<tr>\n",
    "  <td>NameError<td><td>Raised when a variable is not found in local or global scope.<td>\n",
    "<tr>\n",
    "  <td>NotImplementedError<td><td>Raised by abstract methods.<td>\n",
    "<tr>\n",
    "  <td>OSError<td><td>Raised when system operation causes system related error.<td>\n",
    "<tr>\n",
    "  <td>OverflowError<td><td>Raised when the result of an arithmetic operation is too large to be represented.<td>\n",
    "<tr>\n",
    "  <td>ReferenceError<td><td>Raised when a weak reference proxy is used to access a garbage collected referent.<td>\n",
    "<tr>\n",
    "  <td>RuntimeError<td><td>Raised when an error does not fall under any other category.<td>\n",
    "<tr>\n",
    "  <td>StopIteration<td><td>Raised by next() function to indicate that there is no further item to be returned by iterator.<td>\n",
    "<tr>\n",
    "  <td>SyntaxError<td><td>Raised by parser when syntax error is encountered.<td>\n",
    "<tr>\n",
    "  <td>IndentationError<td><td>Raised when there is incorrect indentation.<td>\n",
    "<tr>\n",
    "  <td>TabError<td><td>Raised when indentation consists of inconsistent tabs and spaces.<td>\n",
    "<tr>\n",
    "  <td>SystemError<td><td>Raised when interpreter detects internal error.<td>\n",
    "<tr>\n",
    "  <td>SystemExit<td><td>Raised by sys.exit() function.<td>\n",
    "<tr>\n",
    "  <td>TypeError<td><td>Raised when a function or operation is applied to an object of incorrect type.<td>\n",
    "<tr>\n",
    "  <td>UnboundLocalError<td><td>Raised when a reference is made to a local variable in a function or method, but no value has been bound to that variable.<td>\n",
    "<tr>\n",
    "  <td>UnicodeError<td><td>Raised when a Unicode-related encoding or decoding error occurs.<td>\n",
    "<tr>\n",
    "  <td>UnicodeEncodeError<td><td>Raised when a Unicode-related error occurs during encoding.<td>\n",
    "<tr>\n",
    "  <td>UnicodeDecodeError<td><td>Raised when a Unicode-related error occurs during decoding.<td>\n",
    "<tr>\n",
    "  <td>UnicodeTranslateError<td><td>Raised when a Unicode-related error occurs during translating.<td>\n",
    "<tr>\n",
    "  <td>ValueError<td><td>Raised when a function gets an argument of correct type but improper value.<td>\n",
    "<tr>\n",
    "  <td>ZeroDivisionError<td><td>Raised when the second operand of division or modulo operation is zero.<td>\n",
    "<tr>\n",
    "<table>\n",
    "    \n",
    "We can handle these **built-in** and **user-defined** exceptions in Python using **try**, **except** and **finally** statements."
   ]
  },
  {
   "cell_type": "code",
   "execution_count": 19,
   "id": "26b0a3b1",
   "metadata": {},
   "outputs": [],
   "source": [
    "# This program divides a number by another number.\n",
    "def main():\n",
    "    # Get two numbers.\n",
    "    num1 = int(input('Enter a number: '))\n",
    "    num2 = int(input('Enter another number: '))\n",
    "\n",
    "    # Divide num1 by num2 and display the result.\n",
    "    result = num1 / num2\n",
    "    print(f'{num1} divided by {num2} is {result}')"
   ]
  },
  {
   "cell_type": "code",
   "execution_count": 21,
   "id": "2e9bd9e8",
   "metadata": {},
   "outputs": [
    {
     "name": "stdout",
     "output_type": "stream",
     "text": [
      "Enter a number: 2\n",
      "Enter another number: 4\n",
      "2 divided by 4 is 0.5\n"
     ]
    }
   ],
   "source": [
    "main()"
   ]
  },
  {
   "cell_type": "markdown",
   "id": "b5db24b7",
   "metadata": {},
   "source": [
    "You can prevent many exceptions from being raised by carefully coding your program. \n",
    "\n",
    "For example, Program (above) hows how division by 0 can be prevented with a simple if statement. \n",
    "\n",
    "Rather than allowing the exception to be raised, the program tests the value of num2, and displays an error message if the value is 0. This is an example of gracefully avoiding an exception."
   ]
  },
  {
   "cell_type": "code",
   "execution_count": 22,
   "id": "a1132a41",
   "metadata": {},
   "outputs": [],
   "source": [
    "# This program divides a number by another number.\n",
    "def main():\n",
    "    # Get two numbers.\n",
    "    num1 = int(input('Enter a number: '))\n",
    "    num2 = int(input('Enter another number: '))\n",
    "\n",
    "    # If num2 is not 0, divide num1 by num2\n",
    "    # and display the result.\n",
    "    if num2 != 0:\n",
    "        result = num1 / num2\n",
    "        print(f'{num1} divided by {num2} is {result}')\n",
    "    else:\n",
    "        print('Cannot divide by zero.')"
   ]
  },
  {
   "cell_type": "code",
   "execution_count": 23,
   "id": "1ec18aa4",
   "metadata": {},
   "outputs": [
    {
     "name": "stdout",
     "output_type": "stream",
     "text": [
      "Enter a number: 2\n",
      "Enter another number: 0\n",
      "Cannot divide by zero.\n"
     ]
    }
   ],
   "source": [
    "main()"
   ]
  },
  {
   "cell_type": "markdown",
   "id": "478d5a4b",
   "metadata": {},
   "source": [
    "Some exceptions cannot be avoided regardless of how carefully you write your program.\n",
    "\n",
    "This program (below) calculates gross pay. It prompts the user to enter the number of hours worked and the hourly pay rate. It gets the user’s gross pay by multiplying these two numbers and displays that value on the screen."
   ]
  },
  {
   "cell_type": "code",
   "execution_count": 24,
   "id": "766b53d5",
   "metadata": {},
   "outputs": [],
   "source": [
    "# This program calculates gross pay.\n",
    "\n",
    "def main():\n",
    "    # Get the number of hours worked.\n",
    "    hours = int(input('How many hours did you work? '))\n",
    "\n",
    "    # Get the hourly pay rate.\n",
    "    pay_rate = float(input('Enter your hourly pay rate: '))\n",
    "\n",
    "    # Calculate the gross pay.\n",
    "    gross_pay = hours * pay_rate\n",
    "\n",
    "    # Display the gross pay.\n",
    "    print(f'Gross pay: ${gross_pay:,.2f}')"
   ]
  },
  {
   "cell_type": "code",
   "execution_count": 27,
   "id": "bcc4eaff",
   "metadata": {},
   "outputs": [
    {
     "name": "stdout",
     "output_type": "stream",
     "text": [
      "How many hours did you work? forty\n"
     ]
    },
    {
     "ename": "ValueError",
     "evalue": "invalid literal for int() with base 10: 'forty'",
     "output_type": "error",
     "traceback": [
      "\u001b[1;31m---------------------------------------------------------------------------\u001b[0m",
      "\u001b[1;31mValueError\u001b[0m                                Traceback (most recent call last)",
      "Cell \u001b[1;32mIn[27], line 1\u001b[0m\n\u001b[1;32m----> 1\u001b[0m \u001b[43mmain\u001b[49m\u001b[43m(\u001b[49m\u001b[43m)\u001b[49m\n",
      "Cell \u001b[1;32mIn[24], line 5\u001b[0m, in \u001b[0;36mmain\u001b[1;34m()\u001b[0m\n\u001b[0;32m      3\u001b[0m \u001b[38;5;28;01mdef\u001b[39;00m \u001b[38;5;21mmain\u001b[39m():\n\u001b[0;32m      4\u001b[0m     \u001b[38;5;66;03m# Get the number of hours worked.\u001b[39;00m\n\u001b[1;32m----> 5\u001b[0m     hours \u001b[38;5;241m=\u001b[39m \u001b[38;5;28;43mint\u001b[39;49m\u001b[43m(\u001b[49m\u001b[38;5;28;43minput\u001b[39;49m\u001b[43m(\u001b[49m\u001b[38;5;124;43m'\u001b[39;49m\u001b[38;5;124;43mHow many hours did you work? \u001b[39;49m\u001b[38;5;124;43m'\u001b[39;49m\u001b[43m)\u001b[49m\u001b[43m)\u001b[49m\n\u001b[0;32m      7\u001b[0m     \u001b[38;5;66;03m# Get the hourly pay rate.\u001b[39;00m\n\u001b[0;32m      8\u001b[0m     pay_rate \u001b[38;5;241m=\u001b[39m \u001b[38;5;28mfloat\u001b[39m(\u001b[38;5;28minput\u001b[39m(\u001b[38;5;124m'\u001b[39m\u001b[38;5;124mEnter your hourly pay rate: \u001b[39m\u001b[38;5;124m'\u001b[39m))\n",
      "\u001b[1;31mValueError\u001b[0m: invalid literal for int() with base 10: 'forty'"
     ]
    }
   ],
   "source": [
    "main()"
   ]
  },
  {
   "cell_type": "markdown",
   "id": "3654c196",
   "metadata": {},
   "source": [
    "An exception occurred because the user entered the string 'forty' instead of the number 40 when prompted for the number of hours worked. \n",
    "\n",
    "Because the string 'forty' cannot be converted to an integer, the int() function raised an exception in line 5, and the program halted. \n",
    "\n",
    "Look carefully at the last line of the traceback message, and you will see that the name of the exception is ValueError, and its description is: invalid literal for int() with base 10: 'forty'."
   ]
  },
  {
   "cell_type": "markdown",
   "id": "8b398415",
   "metadata": {},
   "source": [
    "## Exception handling\n",
    "\n",
    "Python has many built-in exceptions that are raised when your program encounters an error (something in the program goes wrong).\n",
    "\n",
    "When these exceptions occur, the Python interpreter stops the current process and passes it to the calling process until it is handled. If not handled, the program will crash.\n",
    "\n",
    "For example, let us consider a program where we have a function **A** that calls function **B**, which in turn calls function **C**. If an exception occurs in function **C** but is not handled in **C**, the exception passes to **B** and then to **A**.\n",
    "\n",
    "If never handled, an error message is displayed and our program comes to a sudden unexpected halt.\n",
    "\n",
    "### Catching Exceptions in Python\n",
    "\n",
    "Python, like most modern programming languages, allows you to write code that responds to exceptions when they are raised, and prevents the program from abruptly crashing.\n",
    "\n",
    "Such code is called an exception handler and is written with the try/except statement.\n",
    "\n",
    "In Python, exceptions can be handled using a **try** statement. \n",
    "\n",
    "The critical operation which can raise an exception is placed inside the **try** clause. The code that handles the exceptions is written in the **except** clause.\n",
    "\n",
    "We can thus choose what operations to perform once we have caught the exception. Here is a simple example."
   ]
  },
  {
   "cell_type": "markdown",
   "id": "60c09dd8",
   "metadata": {},
   "source": [
    "the following general format shows the simplest variation:\n",
    "\n",
    "try:\n",
    "    statement\n",
    "    statement\n",
    "    etc.\n",
    "except ExceptionName:\n",
    "    statement\n",
    "    statement\n",
    "    etc."
   ]
  },
  {
   "cell_type": "markdown",
   "id": "65602653",
   "metadata": {},
   "source": [
    "- First, the keyword try appears, followed by a colon. \n",
    "\n",
    "- Next, a code block appears which we will refer to as the try suite. The try suite is one or more statements that can potentially raise an exception.\n",
    "\n",
    "- After the try suite, an except clause appears. The except clause begins with the keyword except, optionally followed by the name of an exception, and ending with a colon.\n",
    "\n",
    "- Beginning on the next line is a block of statements that we will refer to as a handler.\n",
    "\n",
    "- When the try/except statement executes, the statements in the try suite begin to execute.\n",
    "\n",
    "- The following describes what happens next:\n",
    "\n",
    "    - If a statement in the try suite raises an exception that is specified by the ExceptionName in an except clause, then the handler that immediately follows the except clause executes. Then, the program resumes execution with the statement immediately following the try/except statement.\n",
    "    \n",
    "    - If a statement in the try suite raises an exception that is not specified by the ExceptionName in an except clause, then the program will halt with a traceback error message.\n",
    "\n",
    "    - If the statements in the try suite execute without raising an exception, then any except clauses and handlers in the statement are skipped, and the program resumes execution with the statement immediately following the try/except statement."
   ]
  },
  {
   "cell_type": "code",
   "execution_count": 31,
   "id": "bbce2bab",
   "metadata": {},
   "outputs": [],
   "source": [
    "#\n",
    "def main():\n",
    "\n",
    "    try:\n",
    "        # Get the number of hours worked.\n",
    "        hours = int(input('How many hours did you work? '))\n",
    "\n",
    "        # Get the hourly pay rate.\n",
    "        pay_rate = float(input('Enter your hourly pay rate: '))\n",
    "\n",
    "        # Calculate the gross pay.\n",
    "        gross_pay = hours * pay_rate\n",
    "\n",
    "        # Display the gross pay.\n",
    "        print(f'Gross pay: ${gross_pay:,.2f}')\n",
    "        \n",
    "    except ValueError:\n",
    "        print('ERROR: Hours worked and hourly pay rate must')\n",
    "        print('be valid numbers.')"
   ]
  },
  {
   "cell_type": "code",
   "execution_count": 30,
   "id": "717457f4",
   "metadata": {},
   "outputs": [
    {
     "name": "stdout",
     "output_type": "stream",
     "text": [
      "How many hours did you work? five\n",
      "ERROR: Hours worked and hourly pay rate must\n",
      "be valid numbers.\n"
     ]
    }
   ],
   "source": [
    "main()"
   ]
  },
  {
   "cell_type": "markdown",
   "id": "8a805000",
   "metadata": {},
   "source": [
    "Let's look at what happened in the sample run. The statement in line 6 prompts the user to enter the number of hours worked, and the user enters the string 'forty'. \n",
    "\n",
    "Because the string 'forty' cannot be converted to an integer, the int() function raises a ValueError exception. As a result, the program jumps immediately out of the try suite to the except ValueError clause in line 16 and begins executing the handler block that begins in line 17.\n",
    "\n",
    "This is illustrated in Figure 6-20."
   ]
  },
  {
   "attachments": {
    "image.png": {
     "image/png": "[encoded data removed]"
    }
   },
   "cell_type": "markdown",
   "id": "e50e5965",
   "metadata": {},
   "source": [
    "![image.png](attachment:image.png)"
   ]
  },
  {
   "cell_type": "code",
   "execution_count": null,
   "id": "c3c08129",
   "metadata": {},
   "outputs": [],
   "source": [
    "# import module sys to get the type of exception\n",
    "#  System-specific parameters and functions\n",
    "import sys\n",
    "\n",
    "randomList = ['a', 0, 2]\n",
    "\n",
    "for entry in randomList:\n",
    "    try:\n",
    "        print(\"The entry is\", entry)\n",
    "        r = 1 / int(entry)\n",
    "        break\n",
    "    except:\n",
    "        print(\"Please try again.\")\n",
    "        print(\"Next entry.\")\n",
    "        print()\n",
    "print(\"The reciprocal of\", entry, \"is\", r)"
   ]
  },
  {
   "cell_type": "markdown",
   "id": "c61c2b5f",
   "metadata": {},
   "source": [
    "In this program, we loop through the values of the **randomList** list. As previously mentioned, the portion that can cause an exception is placed inside the **try** block.\n",
    "\n",
    "If no exception occurs, the **except** block is skipped and normal flow continues(for last value). But if any exception occurs, it is caught by the **except** block (first and second values).\n",
    "\n",
    "Here, we print the name of the exception using the **exc_info()** function inside **sys** module. We can see that **a** causes **ValueError** and **0** causes **ZeroDivisionError**."
   ]
  },
  {
   "cell_type": "markdown",
   "id": "db822ad1",
   "metadata": {},
   "source": [
    "When an exception is thrown, an object known as an exception object is created in memory.\n",
    "\n",
    "The exception object usually contains a default error message pertaining to the exception. (In fact, it is the same error message that you see displayed at the end of a traceback when an exception goes unhandled.) \n",
    "\n",
    "When you write an except clause, you can optionally assign the exception object to a variable, as shown here:\n",
    "\n",
    "**except ValueError as err:**\n",
    "\n",
    "This except clause catches ValueError exceptions. \n",
    "\n",
    "The expression that appears after the except clause specifies that we are assigning the exception object to the variable err. (There is nothing special about the name err. That is simply the name that we have chosen for the examples. You can use any name that you wish.) \n",
    "\n",
    "After doing this, in the exception handler you can pass the err variable to the print function to display the default error message that Python provides for that type of error. "
   ]
  },
  {
   "cell_type": "code",
   "execution_count": 33,
   "id": "2ea631a4",
   "metadata": {},
   "outputs": [],
   "source": [
    "# This program calculates gross pay.\n",
    "\n",
    "def main():\n",
    "    try:\n",
    "        # Get the number of hours worked.\n",
    "        hours = int(input('How many hours did you work? '))\n",
    "\n",
    "        # Get the hourly pay rate.\n",
    "        pay_rate = float(input('Enter your hourly pay rate: '))\n",
    "\n",
    "        # Calculate the gross pay.\n",
    "        gross_pay = hours * pay_rate\n",
    "\n",
    "        # Display the gross pay.\n",
    "        print(f'Gross pay: ${gross_pay:,.2f}')\n",
    "    except ValueError as err:\n",
    "        print(err)"
   ]
  },
  {
   "cell_type": "code",
   "execution_count": 34,
   "id": "c9d4fb78",
   "metadata": {},
   "outputs": [
    {
     "name": "stdout",
     "output_type": "stream",
     "text": [
      "How many hours did you work? three\n",
      "invalid literal for int() with base 10: 'three'\n"
     ]
    }
   ],
   "source": [
    "main()"
   ]
  },
  {
   "cell_type": "markdown",
   "id": "c54ec2db",
   "metadata": {},
   "source": [
    "When a ValueError exception occurs inside the try suite (lines 5 through 15), the program branches to the except clause in line 16. \n",
    "\n",
    "The expression ValueError as err in line 16 causes the resulting exception object to be assigned to a variable named err. \n",
    "\n",
    "The statement in line 17 passes the err variable to the print function, which causes the exception's default error message to be displayed."
   ]
  },
  {
   "cell_type": "markdown",
   "id": "091231d7",
   "metadata": {},
   "source": [
    "Since every exception in Python inherits from the base **Exception** class, we can also perform the above task in the following way:"
   ]
  },
  {
   "cell_type": "code",
   "execution_count": null,
   "id": "ba1fa495",
   "metadata": {},
   "outputs": [],
   "source": [
    "# import module sys to get the type of exception\n",
    "import sys\n",
    "\n",
    "randomList = ['a', 0, 2]\n",
    "\n",
    "for entry in randomList:\n",
    "    try:\n",
    "        print(\"The entry is\", entry)\n",
    "        r = 1 / int(entry)\n",
    "        break\n",
    "    except Exception as e:\n",
    "        print(\"Oops!\", e.__class__, \"occurred.\")\n",
    "        print(\"Next entry.\")\n",
    "        print()\n",
    "print(\"The reciprocal of\", entry, \"is\", r)"
   ]
  },
  {
   "cell_type": "markdown",
   "id": "6f22da2a",
   "metadata": {},
   "source": [
    "This program has the same output as the above program.\n",
    "\n",
    "### Catching Specific Exceptions in Python\n",
    "\n",
    "In the above example, we did not mention any specific exception in the **except** clause.\n",
    "\n",
    "This is not a good programming practice as it will catch all exceptions and handle every case in the same way. We can specify which exceptions an **except** clause should catch.\n",
    "\n",
    "A try clause can have any number of except clauses to handle different exceptions, however, only one will be executed in case an exception occurs.\n",
    "\n",
    "We can use a tuple of values to specify multiple exceptions in an except clause. Here is an example pseudo code."
   ]
  },
  {
   "cell_type": "code",
   "execution_count": null,
   "id": "aae61327",
   "metadata": {},
   "outputs": [],
   "source": [
    "try:\n",
    "   # do something\n",
    "   pass\n",
    "\n",
    "except ValueError:\n",
    "    # handle ValueError exception\n",
    "    pass\n",
    "\n",
    "except (TypeError, ZeroDivisionError):\n",
    "    pass\n",
    "    # handle multiple exceptions\n",
    "    # TypeError and ZeroDivisionError\n",
    "\n",
    "except:\n",
    "    # handle all other exceptions\n",
    "    pass"
   ]
  },
  {
   "cell_type": "markdown",
   "id": "bd91ac0e",
   "metadata": {},
   "source": [
    "Program (below) reads all of the numbers from the file and adds them to an accumulator variable."
   ]
  },
  {
   "cell_type": "code",
   "execution_count": null,
   "id": "25eb8672",
   "metadata": {},
   "outputs": [],
   "source": [
    "# This program displays the total of the\n",
    "# amounts in the sales_data.txt file.\n",
    "\n",
    "def main():\n",
    "# Initialize an accumulator.\n",
    "total = 0.0\n",
    "\n",
    "try:\n",
    "# Open the sales_data.txt file.\n",
    "infile = open('sales_data.txt', 'r')\n",
    "\n",
    "# Read the values from the file and\n",
    "# accumulate them.\n",
    "for line in infile:\n",
    "    amount = float(line)\n",
    "    total += amount\n",
    "    \n",
    "# Close the file.\n",
    "infile.close()\n",
    "\n",
    "# Print the total.\n",
    "print(f'{total:,.2f}')\n",
    "\n",
    "except IOError:\n",
    "    print('An error occured trying to read the file.')\n",
    "\n",
    "except ValueError:\n",
    "    print('Non-numeric data found in the file.')\n",
    "\n",
    "except:\n",
    "    print('An error occured.')"
   ]
  },
  {
   "cell_type": "markdown",
   "id": "5115cac5",
   "metadata": {},
   "source": [
    "- If an exception occurs in the try suite, the Python interpreter examines each of the except clauses, from top to bottom, in the try/except statement. \n",
    "\n",
    "- When it finds an except clause that specifies a type that matches the type of exception that occurred, it branches to that except clause. \n",
    "\n",
    "- If none of the except clauses specifies a type that matches the exception, the interpreter branches to the except clause in line 30."
   ]
  },
  {
   "cell_type": "markdown",
   "id": "5c6b0e61",
   "metadata": {},
   "source": []
  },
  {
   "cell_type": "code",
   "execution_count": 36,
   "id": "fc81cf35",
   "metadata": {},
   "outputs": [],
   "source": []
  },
  {
   "cell_type": "code",
   "execution_count": 37,
   "id": "73128762",
   "metadata": {},
   "outputs": [
    {
     "name": "stdout",
     "output_type": "stream",
     "text": [
      "[Errno 2] No such file or directory: 'sales_data.txt'\n"
     ]
    }
   ],
   "source": [
    "main()"
   ]
  },
  {
   "cell_type": "markdown",
   "id": "f38a3bbd",
   "metadata": {},
   "source": [
    "In this program, the statement in line 24 is executed only if the statements in the try suite\n",
    "(lines 9 through 19) execute without raising an exception."
   ]
  },
  {
   "cell_type": "markdown",
   "id": "cdd51032",
   "metadata": {},
   "source": [
    "### Raising Exceptions in Python\n",
    "\n",
    "In Python programming, exceptions are raised when errors occur at runtime. We can also manually raise exceptions using the **raise** keyword.\n",
    "\n",
    "We can optionally pass values to the exception to clarify why that exception was raised."
   ]
  },
  {
   "cell_type": "markdown",
   "id": "fb215e54",
   "metadata": {},
   "source": [
    "- In Python, the interpreter throws a KeyboardInterrupt exception when the user/programmer presses the ctrl – c or del key either accidentally or intentionally."
   ]
  },
  {
   "cell_type": "code",
   "execution_count": null,
   "id": "ef83fb7d",
   "metadata": {},
   "outputs": [],
   "source": [
    "raise KeyboardInterrupt"
   ]
  },
  {
   "cell_type": "markdown",
   "id": "b8749ca5",
   "metadata": {},
   "source": [
    "- A MemoryError means that the interpreter has run out of memory to allocate to your Python program. This may be due to an issue in the setup of the Python environment or it may be a concern with the code itself loading too much data at the same time."
   ]
  },
  {
   "cell_type": "code",
   "execution_count": null,
   "id": "ec87691d",
   "metadata": {},
   "outputs": [],
   "source": [
    "raise MemoryError(\"This is an argument\")"
   ]
  },
  {
   "cell_type": "code",
   "execution_count": null,
   "id": "7f42ad38",
   "metadata": {},
   "outputs": [],
   "source": [
    "s = []\n",
    "for i in range(1000):\n",
    "    for j in range(1000):\n",
    "        for k in range(1000):\n",
    "            s.append(\"More\")"
   ]
  },
  {
   "cell_type": "markdown",
   "id": "a20e957f",
   "metadata": {},
   "source": [
    "As you might expect, these million strings are a bit much for, let’s say, a laptop to handle. The following error is printed out:"
   ]
  },
  {
   "cell_type": "markdown",
   "id": "e4c2fa2d",
   "metadata": {},
   "source": [
    "C:\\code\\Python\\MemErr\\venv\\3K\\Scripts\\python.exe C:/code/python/MemErr/main.py\n",
    "Traceback (most recent call last):\n",
    "  File \"C:/code/python/MemErr/main.py\", line 6, in <module>\n",
    "    s.append(\"More\")\n",
    "MemoryError"
   ]
  },
  {
   "cell_type": "markdown",
   "id": "f1ee37ab",
   "metadata": {},
   "source": [
    "- If this is happening, it may be an indication that more code optimization techniques are required. "
   ]
  },
  {
   "cell_type": "code",
   "execution_count": 5,
   "id": "6f2725b9",
   "metadata": {},
   "outputs": [
    {
     "name": "stdout",
     "output_type": "stream",
     "text": [
      "Enter a positive integer: !\n",
      "invalid literal for int() with base 10: '!'\n"
     ]
    }
   ],
   "source": [
    "try:\n",
    "    a = int(input(\"Enter a positive integer: \"))\n",
    "    if a <= 0:\n",
    "        raise ValueError(\"That is not a positive number!\")\n",
    "except ValueError as e:\n",
    "    print(e)"
   ]
  },
  {
   "cell_type": "markdown",
   "id": "620e133f",
   "metadata": {},
   "source": [
    "### Python try with else clause\n",
    "\n",
    "In some situations, you might want to run a certain block of code if the code block inside **try** ran without any errors. For these cases, you can use the optional **else** keyword with the **try** statement.\n",
    "\n",
    "> **Note:** Exceptions in the else clause are not handled by the preceding except clauses.\n",
    "\n",
    "\n",
    "## The else Clause\n",
    "\n",
    "The try/except statement may have an optional else clause, which appears after all the\n",
    "except clauses. \n",
    "\n",
    "Here is the general format of a try/except statement with an else clause:"
   ]
  },
  {
   "cell_type": "markdown",
   "id": "3355be9d",
   "metadata": {},
   "source": [
    "try:\n",
    "    statement\n",
    "    statement\n",
    "    etc.\n",
    "except ExceptionName:\n",
    "    statement\n",
    "    statement\n",
    "    etc.\n",
    "else:\n",
    "    statement\n",
    "    statement\n",
    "    etc.\n",
    "   "
   ]
  },
  {
   "cell_type": "markdown",
   "id": "f3b5a897",
   "metadata": {},
   "source": [
    "The block of statements that appears after the else clause is known as the else suite. The statements in the else suite are executed after the statements in the try suite, only if no exceptions were raised. If an exception is raised, the else suite is skipped.\n",
    "\n",
    "Let's look at an example:"
   ]
  },
  {
   "cell_type": "code",
   "execution_count": null,
   "id": "4eb6db73",
   "metadata": {},
   "outputs": [],
   "source": [
    "# This program displays the total of the\n",
    "# amounts in the sales_data.txt file.\n",
    "\n",
    "def main():\n",
    "    # Initialize an accumulator.\n",
    "    total = 0.0\n",
    "\n",
    "    try:\n",
    "        # Open the sales_data.txt file.\n",
    "        infile = open('sales_data.txt', 'r')\n",
    "\n",
    "        # Read the values from the file and\n",
    "        # accumulate them.\n",
    "        for line in infile:\n",
    "            amount = float(line)\n",
    "            total += amount\n",
    "\n",
    "            # Close the file.\n",
    "            infile.close()\n",
    "    except Exception as err:\n",
    "        print(err)\n",
    "    else:\n",
    "    # Print the total.\n",
    "        print(f'{total:,.2f}')"
   ]
  },
  {
   "cell_type": "code",
   "execution_count": 6,
   "id": "111476c1",
   "metadata": {},
   "outputs": [],
   "source": [
    "# program to print the reciprocal of even numbers\n",
    "\n",
    "def reciprocal():\n",
    "    try:\n",
    "        num = int(input(\"Enter a number: \"))\n",
    "        assert num % 2 == 0  \n",
    "    except:\n",
    "        print(\"Not an even number!\")\n",
    "    else:\n",
    "        reciprocal = 1/num\n",
    "        print(reciprocal)"
   ]
  },
  {
   "cell_type": "markdown",
   "id": "4685b813",
   "metadata": {},
   "source": [
    "If we pass an odd number:"
   ]
  },
  {
   "cell_type": "code",
   "execution_count": 7,
   "id": "7345690b",
   "metadata": {},
   "outputs": [
    {
     "name": "stdout",
     "output_type": "stream",
     "text": [
      "Enter a number: 5\n",
      "Not an even number!\n"
     ]
    }
   ],
   "source": [
    "reciprocal()"
   ]
  },
  {
   "cell_type": "markdown",
   "id": "99f15573",
   "metadata": {},
   "source": [
    "If we pass an even number, the reciprocal is computed and displayed."
   ]
  },
  {
   "cell_type": "code",
   "execution_count": 8,
   "id": "a944816f",
   "metadata": {},
   "outputs": [
    {
     "name": "stdout",
     "output_type": "stream",
     "text": [
      "Enter a number: 6\n",
      "0.16666666666666666\n"
     ]
    }
   ],
   "source": [
    "reciprocal()"
   ]
  },
  {
   "cell_type": "markdown",
   "id": "57eefbfe",
   "metadata": {},
   "source": [
    "However, if we pass **0**, we get **ZeroDivisionError** as the code block inside else is not handled by preceding **except**."
   ]
  },
  {
   "cell_type": "code",
   "execution_count": 9,
   "id": "b6566fb1",
   "metadata": {},
   "outputs": [
    {
     "name": "stdout",
     "output_type": "stream",
     "text": [
      "Enter a number: 0\n"
     ]
    },
    {
     "ename": "ZeroDivisionError",
     "evalue": "division by zero",
     "output_type": "error",
     "traceback": [
      "\u001b[1;31m---------------------------------------------------------------------------\u001b[0m",
      "\u001b[1;31mZeroDivisionError\u001b[0m                         Traceback (most recent call last)",
      "Cell \u001b[1;32mIn[9], line 1\u001b[0m\n\u001b[1;32m----> 1\u001b[0m \u001b[43mreciprocal\u001b[49m\u001b[43m(\u001b[49m\u001b[43m)\u001b[49m\n",
      "Cell \u001b[1;32mIn[6], line 10\u001b[0m, in \u001b[0;36mreciprocal\u001b[1;34m()\u001b[0m\n\u001b[0;32m      8\u001b[0m     \u001b[38;5;28mprint\u001b[39m(\u001b[38;5;124m\"\u001b[39m\u001b[38;5;124mNot an even number!\u001b[39m\u001b[38;5;124m\"\u001b[39m)\n\u001b[0;32m      9\u001b[0m \u001b[38;5;28;01melse\u001b[39;00m:\n\u001b[1;32m---> 10\u001b[0m     reciprocal \u001b[38;5;241m=\u001b[39m \u001b[38;5;241;43m1\u001b[39;49m\u001b[38;5;241;43m/\u001b[39;49m\u001b[43mnum\u001b[49m\n\u001b[0;32m     11\u001b[0m     \u001b[38;5;28mprint\u001b[39m(reciprocal)\n",
      "\u001b[1;31mZeroDivisionError\u001b[0m: division by zero"
     ]
    }
   ],
   "source": [
    "reciprocal()"
   ]
  },
  {
   "cell_type": "markdown",
   "id": "86063bfe",
   "metadata": {},
   "source": [
    "- In simpler terms, we can say that assertion is the boolean expression that checks if the statement is True or False. If the statement is true then it does nothing and continues the execution, but if the statement is False then it stops the execution of the program and throws an error."
   ]
  },
  {
   "cell_type": "code",
   "execution_count": 11,
   "id": "57dcc4e6",
   "metadata": {},
   "outputs": [
    {
     "name": "stdout",
     "output_type": "stream",
     "text": [
      "The value of a / b is : \n",
      "4.0\n"
     ]
    }
   ],
   "source": [
    "# initializing number\n",
    "a = 4\n",
    "b = 1\n",
    "\n",
    "# using assert to check for 0\n",
    "print(\"The value of a / b is : \")\n",
    "assert b != 0\n",
    "print(a / b)\n"
   ]
  },
  {
   "cell_type": "code",
   "execution_count": 15,
   "id": "1dfbfbfd",
   "metadata": {},
   "outputs": [
    {
     "name": "stdout",
     "output_type": "stream",
     "text": [
      "The value of a / b is : \n"
     ]
    },
    {
     "ename": "AssertionError",
     "evalue": "Zero Division Error",
     "output_type": "error",
     "traceback": [
      "\u001b[1;31m---------------------------------------------------------------------------\u001b[0m",
      "\u001b[1;31mAssertionError\u001b[0m                            Traceback (most recent call last)",
      "Cell \u001b[1;32mIn[15], line 7\u001b[0m\n\u001b[0;32m      5\u001b[0m \u001b[38;5;66;03m# using assert to check for 0\u001b[39;00m\n\u001b[0;32m      6\u001b[0m \u001b[38;5;28mprint\u001b[39m(\u001b[38;5;124m\"\u001b[39m\u001b[38;5;124mThe value of a / b is : \u001b[39m\u001b[38;5;124m\"\u001b[39m)\n\u001b[1;32m----> 7\u001b[0m \u001b[38;5;28;01massert\u001b[39;00m b \u001b[38;5;241m!=\u001b[39m \u001b[38;5;241m0\u001b[39m, \u001b[38;5;124m\"\u001b[39m\u001b[38;5;124mZero Division Error\u001b[39m\u001b[38;5;124m\"\u001b[39m\n\u001b[0;32m      8\u001b[0m \u001b[38;5;28mprint\u001b[39m(a \u001b[38;5;241m/\u001b[39m b)\n",
      "\u001b[1;31mAssertionError\u001b[0m: Zero Division Error"
     ]
    }
   ],
   "source": [
    "# initializing number\n",
    "a = 4\n",
    "b = 0\n",
    "\n",
    "# using assert to check for 0\n",
    "print(\"The value of a / b is : \")\n",
    "assert b != 0, \"Zero Division Error\"\n",
    "print(a / b)"
   ]
  },
  {
   "cell_type": "markdown",
   "id": "0b4b8506",
   "metadata": {},
   "source": [
    "### Python try ... finally\n",
    "\n",
    "The **try** statement in Python can have an optional **finally** clause. This clause is executed no matter what, and is generally used to release external resources.\n",
    "\n",
    "For example, we may be connected to a remote data center through the network or working with a file or a Graphical User Interface (GUI).\n",
    "\n",
    "In all these circumstances, we must clean up the resource before the program comes to a halt whether it successfully ran or not. These actions (closing a file, GUI or disconnecting from network) are performed in the **finally** clause to guarantee the execution."
   ]
  },
  {
   "cell_type": "markdown",
   "id": "c8e7f02e",
   "metadata": {},
   "source": [
    "## The finally Clause\n",
    "\n",
    "The try/except statement may have an optional finally clause, which must appear after all the except clauses. \n",
    "\n",
    "Here is the general format of a try/except statement with a finally clause:"
   ]
  },
  {
   "cell_type": "markdown",
   "id": "53054d7c",
   "metadata": {},
   "source": [
    "try:\n",
    "    statement\n",
    "    statement\n",
    "    etc.\n",
    "except ExceptionName:\n",
    "    statement\n",
    "    statement\n",
    "    etc.\n",
    "finally:\n",
    "    statement\n",
    "    statement\n",
    "    etc.\n",
    "    \n",
    "Here is an example of file operations to illustrate this."
   ]
  },
  {
   "cell_type": "code",
   "execution_count": null,
   "id": "7cf13c42",
   "metadata": {},
   "outputs": [],
   "source": [
    "try:\n",
    "    f = open(\"test.txt\", encoding = 'utf-8')\n",
    "    # perform file operations\n",
    "finally:\n",
    "    f.close()"
   ]
  },
  {
   "cell_type": "markdown",
   "id": "5eccabe7",
   "metadata": {},
   "source": [
    "The block of statements that appears after the finally clause is known as the finally suite.\n",
    "\n",
    "The statements in the finally suite are always executed after the try suite has executed, and after any exception handlers have executed. \n",
    "\n",
    "The statements in the finally suite execute whether an exception occurs or not. The purpose of the finally suite is to perform cleanup operations, such as closing files or other resources. \n",
    "\n",
    "Any code that is written in the finally suite will always execute, even if the try suite raises an exception."
   ]
  }
 ],
 "metadata": {
  "colab": {
   "collapsed_sections": [],
   "provenance": []
  },
  "kernelspec": {
   "display_name": "Python 3 (ipykernel)",
   "language": "python",
   "name": "python3"
  },
  "language_info": {
   "codemirror_mode": {
    "name": "ipython",
    "version": 3
   },
   "file_extension": ".py",
   "mimetype": "text/x-python",
   "name": "python",
   "nbconvert_exporter": "python",
   "pygments_lexer": "ipython3",
   "version": "3.10.9"
  }
 },
 "nbformat": 4,
 "nbformat_minor": 5
}
