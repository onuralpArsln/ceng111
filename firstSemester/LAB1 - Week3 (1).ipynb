{
 "cells": [
  {
   "cell_type": "markdown",
   "id": "5a90af5d",
   "metadata": {},
   "source": [
    "# Welcome to CENG 111 Computer Programming -- Fall 2023 - 2024\n",
    "## LAB 1 - Week 3 (16-20 October 2023)"
   ]
  },
  {
   "cell_type": "markdown",
   "id": "5883ca5c",
   "metadata": {},
   "source": [
    "## Warm up!"
   ]
  },
  {
   "cell_type": "markdown",
   "id": "f37e153f",
   "metadata": {},
   "source": [
    "\n",
    "-*Exact Instructions Challenge - Peanut Butter Jelly Sandwich \n",
    "(A nice video on “What is an algorithm? - We have already watched it in the classroom! Let's skip it today!)*\n",
    "\n",
    "https://www.youtube.com/watch?v=FN2RM-CHkuI\n",
    "\n",
    "\n",
    "-*Guido van Rossum: The TRUE History Behind The Python Programming Language*\n",
    "    \n",
    "https://www.youtube.com/watch?v=ucD_1ryKKm0\n",
    "\n",
    "\n",
    "-*How to install anaconda with jupyter notebook?*\n",
    "\n",
    "https://www.youtube.com/watch?v=WUeBzT43JyY\n"
   ]
  },
  {
   "cell_type": "markdown",
   "id": "6b4577c3",
   "metadata": {},
   "source": [
    "## Exercise"
   ]
  },
  {
   "cell_type": "markdown",
   "id": "1cc603a6",
   "metadata": {},
   "source": [
    "Write a python program that calculates the area of the right triangle. You must get b side and h value from the keyboard as an input. At the end print the result.\n",
    "\n",
    "**Hint:** Triangle Area = b × h / 2"
   ]
  },
  {
   "cell_type": "code",
   "execution_count": null,
   "id": "09aead11",
   "metadata": {},
   "outputs": [],
   "source": []
  },
  {
   "cell_type": "markdown",
   "id": "3c02d8fd",
   "metadata": {},
   "source": [
    "## Exercise\n",
    "Write a python program that calculates the average of four values. You must get all for values from the keyboard as an input. At the end print the result."
   ]
  },
  {
   "cell_type": "code",
   "execution_count": null,
   "id": "9c09c631",
   "metadata": {},
   "outputs": [],
   "source": []
  },
  {
   "cell_type": "markdown",
   "id": "66c9456e",
   "metadata": {},
   "source": [
    "### Exercise\n",
    "Write the Python code that prints the value entered from the keyboard to the screen as all characters swapcase."
   ]
  },
  {
   "cell_type": "code",
   "execution_count": null,
   "id": "49264d6d",
   "metadata": {},
   "outputs": [],
   "source": []
  },
  {
   "cell_type": "markdown",
   "id": "508582eb",
   "metadata": {},
   "source": [
    "### Exercise \n",
    "Write a python program that prints the numbers that are divisible by seven between two numbers entered from the keyboard."
   ]
  },
  {
   "cell_type": "code",
   "execution_count": null,
   "id": "a0b557c3",
   "metadata": {},
   "outputs": [],
   "source": []
  },
  {
   "cell_type": "markdown",
   "id": "e7058272",
   "metadata": {},
   "source": [
    "## Exercise\n",
    "Write a code to read the number of seconds. Then, print what it corresponds to in hours, minutes and seconds."
   ]
  },
  {
   "cell_type": "code",
   "execution_count": null,
   "id": "bbc73b68",
   "metadata": {},
   "outputs": [],
   "source": []
  }
 ],
 "metadata": {
  "kernelspec": {
   "display_name": "Python 3 (ipykernel)",
   "language": "python",
   "name": "python3"
  },
  "language_info": {
   "codemirror_mode": {
    "name": "ipython",
    "version": 3
   },
   "file_extension": ".py",
   "mimetype": "text/x-python",
   "name": "python",
   "nbconvert_exporter": "python",
   "pygments_lexer": "ipython3",
   "version": "3.9.12"
  },
  "vscode": {
   "interpreter": {
    "hash": "e7370f93d1d0cde622a1f8e1c04877d8463912d04d973331ad4851f04de6915a"
   }
  }
 },
 "nbformat": 4,
 "nbformat_minor": 5
}
