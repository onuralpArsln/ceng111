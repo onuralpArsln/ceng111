{
 "cells": [
  {
   "cell_type": "markdown",
   "id": "5a90af5d",
   "metadata": {},
   "source": [
    "# CENG 111 Computer Programming I -- Fall 2023 - 2024\n",
    "## Additional exercises - Week 6"
   ]
  },
  {
   "cell_type": "markdown",
   "id": "615b59ed",
   "metadata": {},
   "source": [
    "## Exercise"
   ]
  },
  {
   "cell_type": "code",
   "execution_count": null,
   "id": "67a96657",
   "metadata": {},
   "outputs": [],
   "source": [
    "# This program has two functions. First we\n",
    "# define the main function.\n",
    "def main():\n",
    "    print('I have a message for you.') # In Python, each line in a block must be indented.\n",
    "    message()                          # When you indent the lines in a block, make sure each line begins with the same number of\n",
    "                                       # spaces. Otherwise, an error will occur.\n",
    "    print('Goodbye!')\n",
    "\n",
    "# Next we define the message function.\n",
    "def message():\n",
    "    print('I am Arthur,')\n",
    "    print('King of the Britons.')"
   ]
  },
  {
   "cell_type": "code",
   "execution_count": null,
   "id": "1a8c423e",
   "metadata": {},
   "outputs": [],
   "source": [
    "# Call the main function.\n",
    "main()"
   ]
  },
  {
   "cell_type": "markdown",
   "id": "c97e9a94",
   "metadata": {},
   "source": [
    "TIP: Python programmers customarily use four spaces to indent the lines in a block.\n",
    "You can use any number of spaces you wish, as long as all the lines in the block are\n",
    "indented by the same amount.\n",
    "\n",
    "NOTE: Blank lines that appear in a block are ignored."
   ]
  },
  {
   "cell_type": "markdown",
   "id": "f94fa91d",
   "metadata": {},
   "source": [
    "## Exercise"
   ]
  },
  {
   "cell_type": "code",
   "execution_count": null,
   "id": "a5bb0be3",
   "metadata": {},
   "outputs": [],
   "source": [
    "# This program demonstrates two functions that\n",
    "# have local variables with the same name.\n",
    "\n",
    "def main():\n",
    "    # Call the texas function.\n",
    "    texas()\n",
    "    # Call the california function.\n",
    "    california()\n",
    "\n",
    "# Definition of the texas function. It creates\n",
    "# a local variable named birds.\n",
    "def texas():\n",
    "    birds = 5000\n",
    "    print(f'texas has {birds} birds.')\n",
    "\n",
    "# Definition of the california function. It also\n",
    "# creates a local variable named birds.\n",
    "def california():\n",
    "    birds = 8000\n",
    "    print(f'california has {birds} birds.')\n",
    "\n",
    "# Call the main function.\n",
    "main()"
   ]
  },
  {
   "cell_type": "markdown",
   "id": "a6a1895f",
   "metadata": {},
   "source": [
    "## Exercise (passing an argument)"
   ]
  },
  {
   "cell_type": "code",
   "execution_count": null,
   "id": "ac8a3250",
   "metadata": {},
   "outputs": [],
   "source": [
    "# This program demonstrates an argument being\n",
    "# passed to a function.\n",
    "\n",
    "def main():\n",
    "    value = 5\n",
    "    show_double(value)\n",
    "\n",
    "# The show_double function accepts an argument\n",
    "# and displays double its value.\n",
    "def show_double(number):\n",
    "    result = number * 2\n",
    "    print(result)\n",
    "\n",
    "# Call the main function.\n",
    "main()"
   ]
  },
  {
   "cell_type": "markdown",
   "id": "ec29aa26",
   "metadata": {},
   "source": [
    "## Exercise (passing multiple arguments)"
   ]
  },
  {
   "cell_type": "code",
   "execution_count": null,
   "id": "d33a028f",
   "metadata": {},
   "outputs": [],
   "source": [
    "# This program demonstrates a function that accepts\n",
    "# two arguments.\n",
    "\n",
    "def main():\n",
    "    print('The sum of 12 and 45 is')\n",
    "    show_sum(12, 45)\n",
    "\n",
    "# The show_sum function accepts two arguments\n",
    "# and displays their sum.\n",
    "def show_sum(num1, num2):\n",
    "    result = num1 + num2\n",
    "    print(result)\n",
    "\n",
    "# Call the main function.\n",
    "main()"
   ]
  },
  {
   "cell_type": "markdown",
   "id": "66eb6b90",
   "metadata": {},
   "source": [
    "## Exercise"
   ]
  },
  {
   "cell_type": "code",
   "execution_count": null,
   "id": "f0d32c37",
   "metadata": {},
   "outputs": [],
   "source": [
    "# This program demonstrates passing two string\n",
    "# arguments to a function.\n",
    "\n",
    "def main():\n",
    "    first_name = input('Enter your first name: ')\n",
    "    last_name = input('Enter your last name: ')\n",
    "    print('Your name reversed is')\n",
    "    reverse_name(first_name, last_name)\n",
    "\n",
    "def reverse_name(first, last):\n",
    "    print(last, first)\n",
    "\n",
    "# Call the main function.\n",
    "main()"
   ]
  },
  {
   "cell_type": "markdown",
   "id": "d34cf2ab",
   "metadata": {},
   "source": [
    "## Exercise "
   ]
  },
  {
   "cell_type": "code",
   "execution_count": null,
   "id": "6797d288",
   "metadata": {},
   "outputs": [],
   "source": [
    "# This program demonstrates passing two strings as\n",
    "# keyword arguments to a function.\n",
    "\n",
    "def main():\n",
    "    first_name = input('Enter your first name: ')\n",
    "    last_name = input('Enter your last name: ')\n",
    "    print('Your name reversed is')\n",
    "    reverse_name(last=last_name, first=first_name)\n",
    "\n",
    "def reverse_name(first, last):\n",
    "    print(last, first)\n",
    "\n",
    "# Call the main function.\n",
    "main()"
   ]
  },
  {
   "cell_type": "markdown",
   "id": "e6eaa22b",
   "metadata": {},
   "source": [
    "## Exercise"
   ]
  },
  {
   "cell_type": "code",
   "execution_count": null,
   "id": "c34bed36",
   "metadata": {},
   "outputs": [],
   "source": [
    "# Create a global variable.\n",
    "number = 0\n",
    "\n",
    "def main():\n",
    "    global number\n",
    "    number = int(input('Enter a number: '))\n",
    "    show_number()\n",
    "\n",
    "def show_number():\n",
    "    print(f'The number you entered is {number}.')\n",
    "\n",
    "# Call the main function.\n",
    "main()"
   ]
  },
  {
   "cell_type": "markdown",
   "id": "c9d9e8a7",
   "metadata": {},
   "source": [
    "## Exercise"
   ]
  },
  {
   "cell_type": "code",
   "execution_count": null,
   "id": "10105c9b",
   "metadata": {},
   "outputs": [],
   "source": [
    "def print_twice(bruce):\n",
    "    print(bruce)\n",
    "    print(bruce)"
   ]
  },
  {
   "cell_type": "code",
   "execution_count": null,
   "id": "990e8576",
   "metadata": {},
   "outputs": [],
   "source": [
    "print_twice('book')"
   ]
  },
  {
   "cell_type": "code",
   "execution_count": null,
   "id": "796e4d60",
   "metadata": {},
   "outputs": [],
   "source": [
    "print_twice(11)"
   ]
  },
  {
   "cell_type": "code",
   "execution_count": null,
   "id": "87e4bee6",
   "metadata": {},
   "outputs": [],
   "source": []
  },
  {
   "cell_type": "markdown",
   "id": "92f45b96",
   "metadata": {},
   "source": [
    "## Exercise"
   ]
  },
  {
   "cell_type": "code",
   "execution_count": null,
   "id": "75a55bfb",
   "metadata": {},
   "outputs": [],
   "source": [
    "def addtwo(a, b):\n",
    "    added = a + b\n",
    "    return added"
   ]
  },
  {
   "cell_type": "code",
   "execution_count": null,
   "id": "11ebcb76",
   "metadata": {},
   "outputs": [],
   "source": [
    "x = addtwo(3, 5)\n",
    "print(x)"
   ]
  },
  {
   "cell_type": "markdown",
   "id": "efd6077e",
   "metadata": {},
   "source": [
    "## Exercise\n",
    "max is a function that expects two int parameters and returns the value of the larger one.\n",
    "\n",
    "Two variables, population1 and population2, have already been defined and associated with int values.\n",
    "\n",
    "Write an expression (not a statement!) whose value is the larger of population1 and population2 by calling max."
   ]
  },
  {
   "cell_type": "code",
   "execution_count": null,
   "id": "27a03ca9",
   "metadata": {},
   "outputs": [],
   "source": [
    "max(population1,population2)"
   ]
  },
  {
   "cell_type": "markdown",
   "id": "5b1fadce",
   "metadata": {},
   "source": [
    "## Exercise\n",
    "Assume that max2 is a function that expects two int parameters and returns the value of the larger one.\n",
    "\n",
    "Also assume that four variables, population1, population2, population3, and population4 have already been defined and associated with int values.\n",
    "\n",
    "Write an expression (not a statement!) whose value is the largest of population1, population2, population3, and population4 by calling max2."
   ]
  },
  {
   "cell_type": "code",
   "execution_count": null,
   "id": "f038b896",
   "metadata": {},
   "outputs": [],
   "source": [
    "max2(max2(population1,population2),max2(population3,population4))"
   ]
  },
  {
   "cell_type": "markdown",
   "id": "813469d2",
   "metadata": {},
   "source": [
    "## Exercise"
   ]
  },
  {
   "cell_type": "code",
   "execution_count": null,
   "id": "bf6aceb9",
   "metadata": {},
   "outputs": [],
   "source": [
    "str1 = 'Python course'\n",
    "\n",
    "upper = lambda string: string.upper()\n",
    "print(upper(str1))\n"
   ]
  },
  {
   "cell_type": "markdown",
   "id": "4acaa3a2",
   "metadata": {},
   "source": [
    "## Exercise"
   ]
  },
  {
   "cell_type": "code",
   "execution_count": null,
   "id": "ae35e3df",
   "metadata": {},
   "outputs": [],
   "source": [
    "# Filter all people having age more than 18, using lambda and filter() function\n",
    "ages = [13, 90, 17, 59, 21, 60, 5]\n",
    "\n",
    "adults = list(filter(lambda age: age > 18, ages))\n",
    "\n",
    "print(adults)\n"
   ]
  },
  {
   "cell_type": "markdown",
   "id": "9a55a36f",
   "metadata": {},
   "source": [
    "## Exercise"
   ]
  },
  {
   "cell_type": "code",
   "execution_count": null,
   "id": "f76b7388",
   "metadata": {},
   "outputs": [],
   "source": [
    "# For example, let's say I want to raise all values in the below list to the power of 2.\n",
    "\n",
    "list1 = [2, 3, 4, 5]\n",
    "\n",
    "list(map(lambda x: pow(x, 2), list1))\n"
   ]
  },
  {
   "cell_type": "markdown",
   "id": "b908a333",
   "metadata": {},
   "source": [
    "## Exercise\n",
    "How to use **True**?"
   ]
  },
  {
   "cell_type": "code",
   "execution_count": null,
   "id": "119f3d77",
   "metadata": {},
   "outputs": [],
   "source": [
    "while True:\n",
    "    line = input('> ')\n",
    "    if line == 'done':\n",
    "        break\n",
    "    print(line)\n",
    "print('Done!')"
   ]
  },
  {
   "cell_type": "code",
   "execution_count": 1,
   "id": "0780de07",
   "metadata": {},
   "outputs": [
    {
     "name": "stdout",
     "output_type": "stream",
     "text": [
      "> done\n",
      "Done!\n"
     ]
    }
   ],
   "source": [
    "while True:\n",
    "    line = input('> ')\n",
    "    if line[0] == '#':\n",
    "        continue\n",
    "    if line == 'done':\n",
    "        break\n",
    "    print(line)\n",
    "print('Done!')"
   ]
  },
  {
   "cell_type": "markdown",
   "id": "575481f4",
   "metadata": {},
   "source": [
    "## Exercise"
   ]
  },
  {
   "cell_type": "code",
   "execution_count": null,
   "id": "173ebb13",
   "metadata": {},
   "outputs": [],
   "source": [
    "weekSalary = 0\n",
    "dayOfWeek = 1\n",
    "week = [\"Monday\", \"Tuesday\", \"Wednesday\", \"Thursday\", \"Friday\", \"Saturday\", \"Sunday\"]\n",
    "while True: # This line defines a while True loop that will run indefinitely until a break statement is found\n",
    "    if(week[dayOfWeek] == \"Sunday\"):\n",
    "        print(\"Week Over, Its holiday!!\")\n",
    "        break\n",
    "    weekSalary += 2000\n",
    "    dayOfWeek += 1 \n",
    "\n",
    "print(str(weekSalary))"
   ]
  },
  {
   "cell_type": "markdown",
   "id": "2864e183",
   "metadata": {},
   "source": [
    "## Exercise\n",
    "We will the input() function to ask the user to enter an integer four times and that integer will only be appended to list if it's even. Then, print the list."
   ]
  },
  {
   "cell_type": "code",
   "execution_count": null,
   "id": "b528c4d4",
   "metadata": {},
   "outputs": [],
   "source": [
    "# Define the list\n",
    "nums = []\n",
    "\n",
    "# The loop will run while the length of the\n",
    "# list nums is less than 4\n",
    "while len(nums) < 4:\n",
    "    # Ask for user input and store it in a variable as an integer.\n",
    "    user_input = int(input(\"Enter an integer: \"))\n",
    "    # If the input is an even number, add it to the list\n",
    "    if user_input % 2 == 0:\n",
    "        nums.append(user_input)"
   ]
  },
  {
   "cell_type": "code",
   "execution_count": null,
   "id": "58e8fa3d",
   "metadata": {},
   "outputs": [],
   "source": [
    "nums"
   ]
  },
  {
   "cell_type": "markdown",
   "id": "29b494db",
   "metadata": {},
   "source": [
    "## Exercise\n",
    "Continue to the next iteration if i is 3:"
   ]
  },
  {
   "cell_type": "code",
   "execution_count": null,
   "id": "505a8826",
   "metadata": {},
   "outputs": [],
   "source": [
    "i = 0\n",
    "while i < 6:\n",
    "    i += 1\n",
    "    if i == 3:\n",
    "        continue\n",
    "    print(i)"
   ]
  },
  {
   "cell_type": "markdown",
   "id": "268dd9e0",
   "metadata": {},
   "source": [
    "## Exercise\n",
    "Exit the loop when i is 3:"
   ]
  },
  {
   "cell_type": "code",
   "execution_count": null,
   "id": "5750dfb0",
   "metadata": {},
   "outputs": [],
   "source": [
    "i = 1\n",
    "while i < 6:\n",
    "    print(i)\n",
    "    if i == 3:\n",
    "        break\n",
    "    i += 1"
   ]
  },
  {
   "cell_type": "markdown",
   "id": "12bbcb63",
   "metadata": {},
   "source": [
    "## Exercise\n",
    "How to check if a variable is integer?"
   ]
  },
  {
   "cell_type": "code",
   "execution_count": null,
   "id": "7421cae8",
   "metadata": {},
   "outputs": [],
   "source": [
    "enter = \"nick\"\n",
    "if not type(enter) is int:\n",
    "       raise TypeError(\"Only integers are allowed.\")"
   ]
  },
  {
   "cell_type": "markdown",
   "id": "5b406c5b",
   "metadata": {},
   "source": [
    "## Exercise\n",
    "How to check if a variable is integer or string?"
   ]
  },
  {
   "cell_type": "code",
   "execution_count": null,
   "id": "14c8b48b",
   "metadata": {},
   "outputs": [],
   "source": [
    "my_str = \"hello\"\n",
    "my_int = 7\n",
    "\n",
    "print(type(my_str) is str)\n",
    "print(type(my_int) is str)\n",
    "\n",
    "print()\n",
    "print(isinstance(my_str, str))\n",
    "print(isinstance(my_int, str))"
   ]
  },
  {
   "cell_type": "markdown",
   "id": "6b67ac9f",
   "metadata": {},
   "source": [
    "## Exercise\n",
    "How to check if a variable is integer or string?"
   ]
  },
  {
   "cell_type": "code",
   "execution_count": null,
   "id": "9474902a",
   "metadata": {},
   "outputs": [],
   "source": [
    "var = \"book\"\n",
    "\n",
    "#print(type(var))\n",
    "\n",
    "type(var) == str\n",
    "\n",
    "\n",
    "if type(var) == str:\n",
    "    print(\"it's a string!\")"
   ]
  },
  {
   "cell_type": "markdown",
   "id": "c9b468f8",
   "metadata": {},
   "source": [
    "## Exercise\n",
    "Find the largest value in a list or sequence."
   ]
  },
  {
   "cell_type": "code",
   "execution_count": 2,
   "id": "e200fe1c",
   "metadata": {},
   "outputs": [
    {
     "name": "stdout",
     "output_type": "stream",
     "text": [
      "Before: None\n",
      "Loop: 3 3\n",
      "Loop: 41 41\n",
      "Loop: 12 41\n",
      "Loop: 9 41\n",
      "Loop: 74 74\n",
      "Loop: 15 74\n",
      "Largest: 74\n"
     ]
    }
   ],
   "source": [
    "largest = None\n",
    "print('Before:', largest)\n",
    "\n",
    "for itervar in [3, 41, 12, 9, 74, 15]:\n",
    "    if largest is None or itervar > largest :\n",
    "        largest = itervar\n",
    "    print('Loop:', itervar, largest)\n",
    "print('Largest:', largest)"
   ]
  },
  {
   "cell_type": "code",
   "execution_count": 5,
   "id": "10fb43bd",
   "metadata": {},
   "outputs": [],
   "source": [
    "fruit = 'banana'\n",
    "fruit[0]\n",
    "length = len(fruit)"
   ]
  },
  {
   "cell_type": "code",
   "execution_count": 6,
   "id": "0bbdbaab",
   "metadata": {},
   "outputs": [
    {
     "data": {
      "text/plain": [
       "6"
      ]
     },
     "execution_count": 6,
     "metadata": {},
     "output_type": "execute_result"
    }
   ],
   "source": [
    "length"
   ]
  },
  {
   "cell_type": "code",
   "execution_count": 9,
   "id": "7769f2e4",
   "metadata": {},
   "outputs": [
    {
     "ename": "IndexError",
     "evalue": "string index out of range",
     "output_type": "error",
     "traceback": [
      "\u001b[1;31m---------------------------------------------------------------------------\u001b[0m",
      "\u001b[1;31mIndexError\u001b[0m                                Traceback (most recent call last)",
      "Cell \u001b[1;32mIn[9], line 1\u001b[0m\n\u001b[1;32m----> 1\u001b[0m \u001b[43mfruit\u001b[49m\u001b[43m[\u001b[49m\u001b[43mlength\u001b[49m\u001b[43m]\u001b[49m\n",
      "\u001b[1;31mIndexError\u001b[0m: string index out of range"
     ]
    }
   ],
   "source": [
    "fruit[length]"
   ]
  },
  {
   "cell_type": "markdown",
   "id": "172b41f6",
   "metadata": {},
   "source": [
    "## Exercise\n",
    "Choose a fruit and print its name vertically. "
   ]
  },
  {
   "cell_type": "code",
   "execution_count": 10,
   "id": "f454219b",
   "metadata": {},
   "outputs": [
    {
     "name": "stdout",
     "output_type": "stream",
     "text": [
      "b\n",
      "a\n",
      "n\n",
      "a\n",
      "n\n",
      "a\n"
     ]
    }
   ],
   "source": [
    "index = 0\n",
    "while index < len(fruit):\n",
    "    letter = fruit[index]\n",
    "    print(letter)\n",
    "    index = index + 1"
   ]
  },
  {
   "cell_type": "code",
   "execution_count": 11,
   "id": "3dafa055",
   "metadata": {},
   "outputs": [
    {
     "name": "stdout",
     "output_type": "stream",
     "text": [
      "b\n",
      "a\n",
      "n\n",
      "a\n",
      "n\n",
      "a\n"
     ]
    }
   ],
   "source": [
    "for char in fruit:\n",
    "    print(char)"
   ]
  },
  {
   "cell_type": "code",
   "execution_count": 12,
   "id": "f9bc061f",
   "metadata": {},
   "outputs": [
    {
     "data": {
      "text/plain": [
       "'banana'"
      ]
     },
     "execution_count": 12,
     "metadata": {},
     "output_type": "execute_result"
    }
   ],
   "source": [
    "fruit[:]"
   ]
  },
  {
   "cell_type": "markdown",
   "id": "376f998d",
   "metadata": {},
   "source": [
    "## Exercise\n",
    "counts the number of times the letter “a” appears in a string:"
   ]
  },
  {
   "cell_type": "code",
   "execution_count": 13,
   "id": "4cdcf10b",
   "metadata": {},
   "outputs": [
    {
     "name": "stdout",
     "output_type": "stream",
     "text": [
      "3\n"
     ]
    }
   ],
   "source": [
    "word = 'banana'\n",
    "count = 0\n",
    "for letter in word:\n",
    "    if letter == 'a':\n",
    "        count = count + 1\n",
    "print(count)"
   ]
  },
  {
   "cell_type": "markdown",
   "id": "9b81065e",
   "metadata": {},
   "source": [
    "## Exercise\n",
    "String comparison (All the uppercase letters come before all the lowercase letters.)"
   ]
  },
  {
   "cell_type": "code",
   "execution_count": 15,
   "id": "4c4b8d84",
   "metadata": {},
   "outputs": [
    {
     "data": {
      "text/plain": [
       "'banana'"
      ]
     },
     "execution_count": 15,
     "metadata": {},
     "output_type": "execute_result"
    }
   ],
   "source": [
    "word"
   ]
  },
  {
   "cell_type": "markdown",
   "id": "0e5a6bff",
   "metadata": {},
   "source": [
    "### Exercise\n",
    "Break a string into individual letters."
   ]
  },
  {
   "cell_type": "code",
   "execution_count": 2,
   "id": "f5a728b9",
   "metadata": {},
   "outputs": [
    {
     "name": "stdout",
     "output_type": "stream",
     "text": [
      "['s', 'p', 'a', 'm']\n"
     ]
    }
   ],
   "source": [
    "s = 'spam'\n",
    "t = list(s)\n",
    "print(t)"
   ]
  },
  {
   "cell_type": "markdown",
   "id": "6021ed83",
   "metadata": {},
   "source": [
    "### Exercise\n",
    "Break a string into words."
   ]
  },
  {
   "cell_type": "code",
   "execution_count": 1,
   "id": "16a1d3ec",
   "metadata": {},
   "outputs": [
    {
     "name": "stdout",
     "output_type": "stream",
     "text": [
      "['pining', 'for', 'the', 'fjords']\n"
     ]
    }
   ],
   "source": [
    "s = 'pining for the fjords'\n",
    "t = s.split()\n",
    "print(t)"
   ]
  },
  {
   "cell_type": "markdown",
   "id": "5692336b",
   "metadata": {},
   "source": [
    "### Exercise\n",
    "Split with an optional argument called a delimiter that specifies which characters to use as word boundaries."
   ]
  },
  {
   "cell_type": "code",
   "execution_count": 3,
   "id": "fe8676cf",
   "metadata": {},
   "outputs": [
    {
     "data": {
      "text/plain": [
       "['spam', 'spam', 'spam']"
      ]
     },
     "execution_count": 3,
     "metadata": {},
     "output_type": "execute_result"
    }
   ],
   "source": [
    "s = 'spam-spam-spam'\n",
    "delimiter = '-'\n",
    "s.split(delimiter)"
   ]
  },
  {
   "cell_type": "code",
   "execution_count": 4,
   "id": "2034bce1",
   "metadata": {},
   "outputs": [
    {
     "data": {
      "text/plain": [
       "'pining for the fjords'"
      ]
     },
     "execution_count": 4,
     "metadata": {},
     "output_type": "execute_result"
    }
   ],
   "source": [
    "t = ['pining', 'for', 'the', 'fjords']\n",
    "delimiter = ' '\n",
    "delimiter.join(t)"
   ]
  },
  {
   "cell_type": "code",
   "execution_count": 14,
   "id": "cdd33d49",
   "metadata": {},
   "outputs": [
    {
     "name": "stdout",
     "output_type": "stream",
     "text": [
      "All right, bananas.\n"
     ]
    }
   ],
   "source": [
    "if word < 'banana':\n",
    "    print('Your word,' + word + ', comes before banana.')\n",
    "elif word > 'banana':\n",
    "    print('Your word,' + word + ', comes after banana.')\n",
    "else:\n",
    "    print('All right, bananas.')"
   ]
  },
  {
   "cell_type": "markdown",
   "id": "8105471b",
   "metadata": {},
   "source": [
    "## Exercise\n",
    "changing a character in a string"
   ]
  },
  {
   "cell_type": "code",
   "execution_count": 16,
   "id": "1ce31d53",
   "metadata": {},
   "outputs": [
    {
     "name": "stdout",
     "output_type": "stream",
     "text": [
      "Jello, world!\n"
     ]
    }
   ],
   "source": [
    "greeting = 'Hello, world!'\n",
    "new_greeting = 'J' + greeting[1:]\n",
    "print(new_greeting)"
   ]
  },
  {
   "cell_type": "markdown",
   "id": "daf16e07",
   "metadata": {},
   "source": [
    "## Exercises for some of the Python Reserved Words List"
   ]
  },
  {
   "cell_type": "code",
   "execution_count": null,
   "id": "a045aa46",
   "metadata": {},
   "outputs": [],
   "source": [
    "import keyword\n",
    "\n",
    "print(keyword.kwlist)"
   ]
  },
  {
   "cell_type": "code",
   "execution_count": null,
   "id": "10ae24b3",
   "metadata": {},
   "outputs": [],
   "source": [
    "len(keyword.kwlist)"
   ]
  },
  {
   "cell_type": "markdown",
   "id": "116b9c75",
   "metadata": {},
   "source": [
    "## Exercise\n",
    "\n",
    "The **raise** statement is used to raise an error. These errors are visible in the traceback and they cancel the execution of the program if not handled properly."
   ]
  },
  {
   "cell_type": "code",
   "execution_count": null,
   "id": "535d84ca",
   "metadata": {},
   "outputs": [],
   "source": [
    "enter = \"nick\"\n",
    "#enter = \"nick\"\n",
    "if not type(enter) is int:\n",
    "       raise TypeError(\"Only integers are allowed.\")"
   ]
  },
  {
   "cell_type": "markdown",
   "id": "7c44665d",
   "metadata": {},
   "source": [
    "## Exercise\n",
    "\n",
    "The **del** statement is used to delete an object in Python."
   ]
  },
  {
   "cell_type": "code",
   "execution_count": null,
   "id": "fe20addf",
   "metadata": {},
   "outputs": [],
   "source": [
    "name = [\"Ben\", \"Nick\", \"Steph\"]\n",
    "del name[1]\n",
    "print (name)"
   ]
  },
  {
   "cell_type": "markdown",
   "id": "97409821",
   "metadata": {},
   "source": [
    "## Exercise\n",
    "The **in** statement is used to check if an element is present in an iterable like list or tuple."
   ]
  },
  {
   "cell_type": "code",
   "execution_count": null,
   "id": "fcb060c2",
   "metadata": {},
   "outputs": [],
   "source": [
    "name = ['Ben', 'Nick', 'Steph']\n",
    "exist = 'Steph' in name\n",
    "print (exist)"
   ]
  },
  {
   "cell_type": "markdown",
   "id": "b8b3f17f",
   "metadata": {},
   "source": [
    "## Exercise\n",
    "The **try** statement is used to make a **try**… **except** statement. The try statement starts a block of code that is tried to execute. If it fails, the except block catches the error."
   ]
  },
  {
   "cell_type": "code",
   "execution_count": null,
   "id": "cdc8f0a1",
   "metadata": {},
   "outputs": [],
   "source": [
    "a = 5\n",
    "b = 0 \n",
    "try:\n",
    "       div = a/b\n",
    "except ZeroDivisionError:\n",
    "       print (\"Divisor cannot be zero.\")"
   ]
  },
  {
   "cell_type": "markdown",
   "id": "3e385cf7",
   "metadata": {},
   "source": [
    "## Exercise\n",
    "This statement is used to check if the two variables are equal."
   ]
  },
  {
   "cell_type": "code",
   "execution_count": null,
   "id": "91e6b9a9",
   "metadata": {},
   "outputs": [],
   "source": [
    "a = 5\n",
    "b = 5\n",
    "print (a is b)"
   ]
  },
  {
   "cell_type": "markdown",
   "id": "f3edc53b",
   "metadata": {},
   "source": [
    "## Exercise\n",
    "The **assert** statement in Python is used for debugging."
   ]
  },
  {
   "cell_type": "code",
   "execution_count": null,
   "id": "ad35d246",
   "metadata": {},
   "outputs": [],
   "source": [
    "def divide(a, b):\n",
    "    assert b != 0, \"Divisor cannot be zero.\"\n",
    "    return a / b\n",
    "\n",
    "divide (5, 0)"
   ]
  },
  {
   "cell_type": "markdown",
   "id": "4dbdde35",
   "metadata": {},
   "source": [
    "## Exercise\n",
    "The **finally** statement is an optional part of try… except error. It always executes the code regardless of whether an error was thrown or not."
   ]
  },
  {
   "cell_type": "code",
   "execution_count": null,
   "id": "f500fd25",
   "metadata": {},
   "outputs": [],
   "source": [
    "a = 5\n",
    "b = 0\n",
    "try:\n",
    "       div = a/b\n",
    "except ZeroDivisionError:\n",
    "       print (\"Divisor cannot be zero.\")\n",
    "finally:\n",
    "       print (\"Error handling complete.\")"
   ]
  },
  {
   "cell_type": "markdown",
   "id": "fa423106",
   "metadata": {},
   "source": [
    "## Remark\n",
    "Check if the name is included in the reserved word list in Python"
   ]
  },
  {
   "cell_type": "code",
   "execution_count": null,
   "id": "c3636ce3",
   "metadata": {},
   "outputs": [],
   "source": [
    "import keyword\n",
    "print (keyword.iskeyword(\"global\"))\n",
    "print (keyword.iskeyword(\"print\"))"
   ]
  },
  {
   "cell_type": "markdown",
   "id": "34fd3bf2",
   "metadata": {},
   "source": [
    "## Some of the string methods"
   ]
  },
  {
   "cell_type": "code",
   "execution_count": 19,
   "id": "245fdff2",
   "metadata": {},
   "outputs": [
    {
     "data": {
      "text/plain": [
       "False"
      ]
     },
     "execution_count": 19,
     "metadata": {},
     "output_type": "execute_result"
    }
   ],
   "source": [
    "line = 'Have a nice day'\n",
    "line.startswith('h')"
   ]
  },
  {
   "cell_type": "code",
   "execution_count": 20,
   "id": "7ca57583",
   "metadata": {},
   "outputs": [
    {
     "data": {
      "text/plain": [
       "'have a nice day'"
      ]
     },
     "execution_count": 20,
     "metadata": {},
     "output_type": "execute_result"
    }
   ],
   "source": [
    "line.lower()"
   ]
  },
  {
   "cell_type": "code",
   "execution_count": 21,
   "id": "cdfa8645",
   "metadata": {},
   "outputs": [
    {
     "data": {
      "text/plain": [
       "True"
      ]
     },
     "execution_count": 21,
     "metadata": {},
     "output_type": "execute_result"
    }
   ],
   "source": [
    "line.lower().startswith('h')"
   ]
  },
  {
   "cell_type": "code",
   "execution_count": 33,
   "id": "2cc5722c",
   "metadata": {},
   "outputs": [
    {
     "name": "stdout",
     "output_type": "stream",
     "text": [
      "['python', 'is', 'fun', 'and', 'easy']\n"
     ]
    }
   ],
   "source": [
    "statement = \"python is fun and easy\"\n",
    "\n",
    "myvalue = statement.split()\n",
    "\n",
    "print(myvalue)"
   ]
  },
  {
   "cell_type": "code",
   "execution_count": 35,
   "id": "852956a5",
   "metadata": {},
   "outputs": [
    {
     "name": "stdout",
     "output_type": "stream",
     "text": [
      "False\n"
     ]
    }
   ],
   "source": [
    "txt = \"CompanyX\"\n",
    "\n",
    "# returns \"True\" if the string contains just numbers.\n",
    "\n",
    "x = txt.isdigit()\n",
    "\n",
    "print(x)"
   ]
  },
  {
   "cell_type": "code",
   "execution_count": 36,
   "id": "444e7ec3",
   "metadata": {},
   "outputs": [
    {
     "name": "stdout",
     "output_type": "stream",
     "text": [
      "True\n"
     ]
    }
   ],
   "source": [
    "txt = \"CompanyX\"\n",
    "\n",
    "# returns \"True\" if the string contains just alphabetic letters.\n",
    "\n",
    "x = txt.isalpha()\n",
    "\n",
    "print(x)"
   ]
  },
  {
   "cell_type": "markdown",
   "id": "8914d5f6",
   "metadata": {},
   "source": [
    "## Some exercises on pattern program"
   ]
  },
  {
   "cell_type": "markdown",
   "id": "313ccaee",
   "metadata": {},
   "source": [
    "### Square Pattern in Python\n",
    "\n",
    "Let's see how to create and print a square pattern."
   ]
  },
  {
   "cell_type": "code",
   "execution_count": 43,
   "id": "4a294e37",
   "metadata": {},
   "outputs": [
    {
     "name": "stdout",
     "output_type": "stream",
     "text": [
      "*****\n",
      "*****\n",
      "*****\n",
      "*****\n",
      "*****\n"
     ]
    }
   ],
   "source": [
    "# Square pattern program\n",
    "size = 5\n",
    "\n",
    "# Create a list of rows\n",
    "for i in range(0, size):\n",
    "    # Create a list of columns\n",
    "    for j in range(0, size):\n",
    "        print(\"*\", end=\"\")\n",
    "    print()"
   ]
  },
  {
   "cell_type": "code",
   "execution_count": 44,
   "id": "22bc8a72",
   "metadata": {},
   "outputs": [
    {
     "name": "stdout",
     "output_type": "stream",
     "text": [
      "*****\n",
      "*****\n",
      "*****\n",
      "*****\n",
      "*****\n"
     ]
    }
   ],
   "source": [
    "# Square pattern program\n",
    "size = 5\n",
    "\n",
    "for i in range(0, size):\n",
    "    # printing * for 'size' times and a new line\n",
    "    print(\"*\" * size)"
   ]
  },
  {
   "cell_type": "markdown",
   "id": "256ddc74",
   "metadata": {},
   "source": [
    "### Left Triangle Star Pattern In Python"
   ]
  },
  {
   "cell_type": "code",
   "execution_count": 45,
   "id": "01f0c545",
   "metadata": {},
   "outputs": [
    {
     "name": "stdout",
     "output_type": "stream",
     "text": [
      "*\n",
      "**\n",
      "***\n",
      "****\n",
      "*****\n"
     ]
    }
   ],
   "source": [
    "# Left triangle star pattern\n",
    "n = 5\n",
    "\n",
    "for i in range(1, n+1):\n",
    "    # internal loop run for i times\n",
    "    for k in range(1, i+1):\n",
    "        print(\"*\", end=\"\")\n",
    "    print()"
   ]
  },
  {
   "cell_type": "markdown",
   "id": "71f40990",
   "metadata": {},
   "source": [
    "### Right Triangle Star Pattern In Python"
   ]
  },
  {
   "cell_type": "code",
   "execution_count": 46,
   "id": "0b7d4c93",
   "metadata": {},
   "outputs": [
    {
     "name": "stdout",
     "output_type": "stream",
     "text": [
      "    *\n",
      "   **\n",
      "  ***\n",
      " ****\n",
      "*****\n"
     ]
    }
   ],
   "source": [
    "# right triangle star pattern\n",
    "size = 5\n",
    "for i in range(size):\n",
    "    for j in range(1, size - i):\n",
    "        print(\" \", end=\"\")\n",
    "    for k in range(0, i + 1):\n",
    "        print(\"*\", end=\"\")\n",
    "    print()"
   ]
  }
 ],
 "metadata": {
  "kernelspec": {
   "display_name": "Python 3 (ipykernel)",
   "language": "python",
   "name": "python3"
  },
  "language_info": {
   "codemirror_mode": {
    "name": "ipython",
    "version": 3
   },
   "file_extension": ".py",
   "mimetype": "text/x-python",
   "name": "python",
   "nbconvert_exporter": "python",
   "pygments_lexer": "ipython3",
   "version": "3.10.9"
  },
  "vscode": {
   "interpreter": {
    "hash": "e7370f93d1d0cde622a1f8e1c04877d8463912d04d973331ad4851f04de6915a"
   }
  }
 },
 "nbformat": 4,
 "nbformat_minor": 5
}
