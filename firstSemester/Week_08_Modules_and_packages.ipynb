{
 "cells": [
  {
   "cell_type": "markdown",
   "id": "b2ff3082",
   "metadata": {
    "id": "b2ff3082"
   },
   "source": [
    "# CENG 111 Computer Programming I [Fall 2023 - 2024]\n",
    "## Week 08 - Modules and packages\n",
    "\n",
    "## Objectives of the eight week's lecture.\n",
    "\n",
    "- *Modules*\n",
    "- *Packages*"
   ]
  },
  {
   "cell_type": "markdown",
   "id": "dc6c2f82",
   "metadata": {
    "id": "dc6c2f82"
   },
   "source": [
    "## What are modules in Python?\n",
    "\n",
    "Modules refer to a file containing Python statements and definitions.\n",
    "\n",
    "A file containing Python code, for example: **example.py**, is called a module, and its module name would be **example**.\n",
    "\n",
    "We use modules to break down large programs into small manageable and organized files. Furthermore, modules provide reusability of code.\n",
    "\n",
    "We can define our most used functions in a module and import it, instead of copying their definitions into different programs.\n",
    "\n",
    "Let us create a module. Type the following and save it as **example.py**."
   ]
  },
  {
   "cell_type": "code",
   "execution_count": 1,
   "id": "ccdc75fa",
   "metadata": {
    "id": "ccdc75fa"
   },
   "outputs": [],
   "source": [
    "# Python Module example\n",
    "\n",
    "def add(a, b):\n",
    "    \"\"\"\n",
    "    This program adds two \n",
    "    numbers and return the result.\n",
    "    \"\"\"\n",
    "    result = a + b\n",
    "    return result"
   ]
  },
  {
   "cell_type": "markdown",
   "id": "9b15069f",
   "metadata": {
    "id": "9b15069f"
   },
   "source": [
    "Here, we have defined a **function add()** inside a module named example. The function takes in two numbers and returns their sum.\n",
    "\n",
    "## How to import modules in Python?\n",
    "\n",
    "We can import the definitions inside a module to another module or the interactive interpreter in Python.\n",
    "\n",
    "We use the **import** keyword to do this. To import our previously defined module example, we type the following in the Python prompt."
   ]
  },
  {
   "cell_type": "code",
   "execution_count": 2,
   "id": "db7fce24",
   "metadata": {
    "id": "db7fce24"
   },
   "outputs": [],
   "source": [
    "import example"
   ]
  },
  {
   "cell_type": "markdown",
   "id": "b82b6317",
   "metadata": {
    "id": "b82b6317"
   },
   "source": [
    "This does not import the names of the functions defined in **example** directly in the current symbol table. It only imports the module name **example** there.\n",
    "\n",
    "Using the module name we can access the function using the dot **.** operator. \n",
    "\n",
    "**For example:**"
   ]
  },
  {
   "cell_type": "code",
   "execution_count": 3,
   "id": "8b13cfff",
   "metadata": {
    "id": "8b13cfff",
    "outputId": "98afabbf-4085-4453-ee34-d3915249dccc"
   },
   "outputs": [
    {
     "data": {
      "text/plain": [
       "9.5"
      ]
     },
     "execution_count": 3,
     "metadata": {},
     "output_type": "execute_result"
    }
   ],
   "source": [
    "example.add(4, 5.5)"
   ]
  },
  {
   "cell_type": "markdown",
   "id": "fc5ac48c",
   "metadata": {
    "id": "fc5ac48c"
   },
   "source": [
    "Python has tons of standard modules. You can check out the full list of [Python standard modules](https://docs.python.org/3/py-modindex.html) and their use cases. These files are in the Lib directory inside the location where you installed Python.\n",
    "\n",
    "Standard modules can be imported the same way as we import our user-defined modules.\n",
    "\n",
    "There are various ways to import modules.\n",
    "\n",
    "## Python import statement\n",
    "\n",
    "We can **import** a module using the import statement and access the definitions inside it using the dot operator as described above. Here is an example."
   ]
  },
  {
   "cell_type": "code",
   "execution_count": 5,
   "id": "38f4c1cb",
   "metadata": {
    "id": "38f4c1cb",
    "outputId": "74da18b4-d685-467e-d1a0-d014277ca84a"
   },
   "outputs": [
    {
     "name": "stdout",
     "output_type": "stream",
     "text": [
      "The value of pi is 3.141592653589793\n"
     ]
    }
   ],
   "source": [
    "# import statement example\n",
    "# to import standard module math\n",
    "\n",
    "import math\n",
    "print(\"The value of pi is\", math.pi)"
   ]
  },
  {
   "cell_type": "markdown",
   "id": "de085a8d",
   "metadata": {},
   "source": [
    "## Functions, modules and packages\n",
    "Modules and functions both have one main goal that is code reusability. \n",
    "\n",
    "Functions are used for small tasks whereas modules are used for larger tasks as it allows various classes and functions in it. \n",
    "\n",
    "A module is used by importing it in another program where as a function is used by calling it."
   ]
  },
  {
   "cell_type": "markdown",
   "id": "f0a37bdc",
   "metadata": {
    "id": "f0a37bdc"
   },
   "source": [
    "## Import with renaming\n",
    "\n",
    "We can import a module by renaming it as follows:"
   ]
  },
  {
   "cell_type": "code",
   "execution_count": 5,
   "id": "32f561d4",
   "metadata": {
    "id": "32f561d4",
    "outputId": "55f935a9-9ce3-42c6-cea2-2811e380c6de"
   },
   "outputs": [
    {
     "name": "stdout",
     "output_type": "stream",
     "text": [
      "The value of pi is 3.141592653589793\n"
     ]
    }
   ],
   "source": [
    "# import module by renaming it\n",
    "\n",
    "import math as m\n",
    "print(\"The value of pi is\", m.pi)"
   ]
  },
  {
   "cell_type": "markdown",
   "id": "978a7ab7",
   "metadata": {
    "id": "978a7ab7"
   },
   "source": [
    "We have renamed the **math** module as **m**. This can save us typing time in some cases.\n",
    "\n",
    "Note that the name **math** is not recognized in our scope. Hence, **math.pi** is invalid, and **m.pi** is the correct implementation.\n",
    "\n",
    "## Python from ... import statement\n",
    "\n",
    "We can import specific names from a module without importing the module as a whole. Here is an example."
   ]
  },
  {
   "cell_type": "code",
   "execution_count": 6,
   "id": "89599e01",
   "metadata": {
    "id": "89599e01",
    "outputId": "9429f602-9cf0-4c38-f355-8c017da4c27d"
   },
   "outputs": [
    {
     "name": "stdout",
     "output_type": "stream",
     "text": [
      "The value of pi is 3.141592653589793\n"
     ]
    }
   ],
   "source": [
    "# import only pi from math module\n",
    "\n",
    "from math import pi\n",
    "print(\"The value of pi is\", pi)"
   ]
  },
  {
   "cell_type": "markdown",
   "id": "271e5832",
   "metadata": {
    "id": "271e5832"
   },
   "source": [
    "Here, we imported only the **pi** attribute from the **math** module.\n",
    "\n",
    "In such cases, we don't use the dot operator. We can also import multiple attributes as follows:"
   ]
  },
  {
   "cell_type": "code",
   "execution_count": 7,
   "id": "0a98b93b",
   "metadata": {
    "id": "0a98b93b"
   },
   "outputs": [],
   "source": [
    "from math import pi, e"
   ]
  },
  {
   "cell_type": "code",
   "execution_count": 8,
   "id": "b0234d38",
   "metadata": {
    "id": "b0234d38",
    "outputId": "0d03507e-3065-4642-e986-92d19e9cdbb8"
   },
   "outputs": [
    {
     "data": {
      "text/plain": [
       "3.141592653589793"
      ]
     },
     "execution_count": 8,
     "metadata": {},
     "output_type": "execute_result"
    }
   ],
   "source": [
    "pi"
   ]
  },
  {
   "cell_type": "markdown",
   "id": "f5492ae3",
   "metadata": {},
   "source": []
  },
  {
   "cell_type": "code",
   "execution_count": 9,
   "id": "92b878be",
   "metadata": {
    "id": "92b878be",
    "outputId": "0b64cd7b-c06b-48b2-9383-35e2d54b5771"
   },
   "outputs": [
    {
     "data": {
      "text/plain": [
       "2.718281828459045"
      ]
     },
     "execution_count": 9,
     "metadata": {},
     "output_type": "execute_result"
    }
   ],
   "source": [
    "e"
   ]
  },
  {
   "cell_type": "markdown",
   "id": "fd879502",
   "metadata": {
    "id": "fd879502"
   },
   "source": [
    "## Import all names\n",
    "\n",
    "We can import all names(definitions) from a module using the following construct:"
   ]
  },
  {
   "cell_type": "code",
   "execution_count": 1,
   "id": "64085f0c",
   "metadata": {
    "id": "64085f0c",
    "outputId": "0efc71a7-4247-494e-e723-f1c6fbff8dc8"
   },
   "outputs": [
    {
     "name": "stdout",
     "output_type": "stream",
     "text": [
      "The value of pi is 3.141592653589793\n"
     ]
    }
   ],
   "source": [
    "# import all names from the standard module math\n",
    "\n",
    "from math import *\n",
    "print(\"The value of pi is\", pi)"
   ]
  },
  {
   "cell_type": "code",
   "execution_count": null,
   "id": "97ea8c48",
   "metadata": {},
   "outputs": [],
   "source": [
    "import math as m"
   ]
  },
  {
   "cell_type": "code",
   "execution_count": null,
   "id": "cf260bc7",
   "metadata": {},
   "outputs": [],
   "source": [
    "m.pi"
   ]
  },
  {
   "cell_type": "markdown",
   "id": "2213332b",
   "metadata": {
    "id": "2213332b"
   },
   "source": [
    "Here, we have imported all the definitions from the math module. This includes all names visible in our scope except those beginning with an underscore (private definitions).\n",
    "\n",
    "Importing everything with the asterisk (\\*) symbol is not a good programming practice. This can lead to duplicate definitions for an identifier. It also hampers the readability of our code.\n",
    "\n",
    "## Python Module Search Path\n",
    "\n",
    "While importing a module, Python looks at several places. Interpreter first looks for a built-in module. Then (if built-in module not found), Python looks into a list of directories defined in **sys.path**. The search is in this order.\n",
    "\n",
    "> - The current directory.\n",
    "> - PYTHONPATH (an environment variable with a list of directories).\n",
    "> - The installation-dependent default directory."
   ]
  },
  {
   "cell_type": "code",
   "execution_count": 11,
   "id": "f985db90",
   "metadata": {
    "id": "f985db90"
   },
   "outputs": [],
   "source": [
    "import sys"
   ]
  },
  {
   "cell_type": "code",
   "execution_count": 12,
   "id": "c2c358db",
   "metadata": {
    "id": "c2c358db",
    "outputId": "72f5dfaf-7813-4d8c-cb4b-bce35f6fedcd"
   },
   "outputs": [
    {
     "data": {
      "text/plain": [
       "['/Users/ibrahimuguraba/Library/Mobile Documents/com~apple~CloudDocs/Syncthing/THKU/Spring 2022 - 2023/CENG 111 - Spring 2022 - 2023/Anaconda Jupyter Notebook Files/Anaconda Jupyter Notebook Files [Theoric]',\n",
       " '/Users/ibrahimuguraba/opt/anaconda3/lib/python39.zip',\n",
       " '/Users/ibrahimuguraba/opt/anaconda3/lib/python3.9',\n",
       " '/Users/ibrahimuguraba/opt/anaconda3/lib/python3.9/lib-dynload',\n",
       " '',\n",
       " '/Users/ibrahimuguraba/opt/anaconda3/lib/python3.9/site-packages',\n",
       " '/Users/ibrahimuguraba/opt/anaconda3/lib/python3.9/site-packages/aeosa',\n",
       " '/Users/ibrahimuguraba/opt/anaconda3/lib/python3.9/site-packages/IPython/extensions',\n",
       " '/Users/ibrahimuguraba/.ipython']"
      ]
     },
     "execution_count": 12,
     "metadata": {},
     "output_type": "execute_result"
    }
   ],
   "source": [
    "sys.path"
   ]
  },
  {
   "cell_type": "markdown",
   "id": "4b11e716",
   "metadata": {
    "id": "4b11e716"
   },
   "source": [
    "We can add and modify this list to add our own path.\n",
    "\n",
    "## Reloading a module\n",
    "\n",
    "The Python interpreter imports a module only once during a session. This makes things more efficient. Here is an example to show how this works.\n",
    "\n",
    "Suppose we have the following code in a module named **my_module**."
   ]
  },
  {
   "cell_type": "code",
   "execution_count": 2,
   "id": "0fa46cab",
   "metadata": {
    "id": "0fa46cab",
    "outputId": "c1d0926c-0a7d-4d6e-bf51-b59fca981358"
   },
   "outputs": [
    {
     "name": "stdout",
     "output_type": "stream",
     "text": [
      "This code got executed\n"
     ]
    }
   ],
   "source": [
    "# This module shows the effect of\n",
    "# multiple imports and reload.\n",
    "\n",
    "print(\"This code got executed\")"
   ]
  },
  {
   "cell_type": "markdown",
   "id": "1bbabbc0",
   "metadata": {
    "id": "1bbabbc0"
   },
   "source": [
    "Now we see the effect of multiple imports."
   ]
  },
  {
   "cell_type": "code",
   "execution_count": 16,
   "id": "ea436bda",
   "metadata": {
    "id": "ea436bda",
    "outputId": "51cf2dc4-0f28-4cac-fb3a-fb01bcd381f0"
   },
   "outputs": [],
   "source": [
    "import my_module"
   ]
  },
  {
   "cell_type": "code",
   "execution_count": 5,
   "id": "4f4fe5d9",
   "metadata": {
    "id": "4f4fe5d9"
   },
   "outputs": [
    {
     "ename": "AttributeError",
     "evalue": "module 'my_module' has no attribute 'func'",
     "output_type": "error",
     "traceback": [
      "\u001b[1;31m---------------------------------------------------------------------------\u001b[0m",
      "\u001b[1;31mAttributeError\u001b[0m                            Traceback (most recent call last)",
      "Cell \u001b[1;32mIn[5], line 3\u001b[0m\n\u001b[0;32m      1\u001b[0m \u001b[38;5;28;01mimport\u001b[39;00m \u001b[38;5;21;01mmy_module\u001b[39;00m\n\u001b[1;32m----> 3\u001b[0m \u001b[43mmy_module\u001b[49m\u001b[38;5;241;43m.\u001b[39;49m\u001b[43mfunc\u001b[49m()\n",
      "\u001b[1;31mAttributeError\u001b[0m: module 'my_module' has no attribute 'func'"
     ]
    }
   ],
   "source": [
    "import my_module\n",
    "\n",
    "my_module.func()"
   ]
  },
  {
   "cell_type": "code",
   "execution_count": null,
   "id": "069b991b",
   "metadata": {},
   "outputs": [],
   "source": [
    "from my_module import func \n",
    "\n",
    "func()"
   ]
  },
  {
   "cell_type": "code",
   "execution_count": 3,
   "id": "518c5106",
   "metadata": {},
   "outputs": [],
   "source": [
    "a=4"
   ]
  },
  {
   "cell_type": "code",
   "execution_count": 8,
   "id": "73255a08",
   "metadata": {
    "id": "73255a08"
   },
   "outputs": [],
   "source": [
    "import my_module\n",
    "import my_module\n",
    "import my_module"
   ]
  },
  {
   "cell_type": "markdown",
   "id": "cc7a7fbb",
   "metadata": {
    "id": "cc7a7fbb"
   },
   "source": [
    "We can see that our code got executed only once. This goes to say that our module was imported only once.\n",
    "\n",
    "Now if our module changed during the course of the program, we would have to reload it. One way to do this is to restart the interpreter. But this does not help much.\n",
    "\n",
    "Python provides a more efficient way of doing this. We can use the **reload()** function inside the **imp** module to reload a module. We can do it in the following ways:"
   ]
  },
  {
   "cell_type": "code",
   "execution_count": 10,
   "id": "6d1bbaf5",
   "metadata": {
    "id": "6d1bbaf5"
   },
   "outputs": [
    {
     "name": "stderr",
     "output_type": "stream",
     "text": [
      "C:\\Users\\onura\\AppData\\Local\\Temp\\ipykernel_464\\713651319.py:1: DeprecationWarning: the imp module is deprecated in favour of importlib and slated for removal in Python 3.12; see the module's documentation for alternative uses\n",
      "  import imp\n"
     ]
    }
   ],
   "source": [
    "import imp"
   ]
  },
  {
   "cell_type": "code",
   "execution_count": 20,
   "id": "20d2bae5",
   "metadata": {
    "id": "20d2bae5"
   },
   "outputs": [],
   "source": [
    "import my_module"
   ]
  },
  {
   "cell_type": "code",
   "execution_count": 23,
   "id": "e16bc9e5",
   "metadata": {
    "id": "e16bc9e5",
    "outputId": "100bb056-0a85-4a03-b0e2-3d9991961884"
   },
   "outputs": [
    {
     "name": "stdout",
     "output_type": "stream",
     "text": [
      "This code got executed\n"
     ]
    },
    {
     "data": {
      "text/plain": [
       "<module 'my_module' from 'c:\\\\Users\\\\onura\\\\Documents\\\\VSproject\\\\ceng111\\\\my_module.py'>"
      ]
     },
     "execution_count": 23,
     "metadata": {},
     "output_type": "execute_result"
    }
   ],
   "source": [
    "imp.reload(my_module)"
   ]
  },
  {
   "cell_type": "code",
   "execution_count": 24,
   "id": "7f25c2e4",
   "metadata": {},
   "outputs": [],
   "source": [
    "import importlib"
   ]
  },
  {
   "cell_type": "code",
   "execution_count": 25,
   "id": "768859f7",
   "metadata": {},
   "outputs": [
    {
     "name": "stdout",
     "output_type": "stream",
     "text": [
      "This code got executed\n"
     ]
    },
    {
     "data": {
      "text/plain": [
       "<module 'my_module' from 'c:\\\\Users\\\\onura\\\\Documents\\\\VSproject\\\\ceng111\\\\my_module.py'>"
      ]
     },
     "execution_count": 25,
     "metadata": {},
     "output_type": "execute_result"
    }
   ],
   "source": [
    "importlib.reload(my_module)"
   ]
  },
  {
   "cell_type": "code",
   "execution_count": 24,
   "id": "e2ef4333",
   "metadata": {},
   "outputs": [
    {
     "data": {
      "text/plain": [
       "['__doc__',\n",
       " '__file__',\n",
       " '__loader__',\n",
       " '__name__',\n",
       " '__package__',\n",
       " '__spec__',\n",
       " 'acos',\n",
       " 'acosh',\n",
       " 'asin',\n",
       " 'asinh',\n",
       " 'atan',\n",
       " 'atan2',\n",
       " 'atanh',\n",
       " 'ceil',\n",
       " 'comb',\n",
       " 'copysign',\n",
       " 'cos',\n",
       " 'cosh',\n",
       " 'degrees',\n",
       " 'dist',\n",
       " 'e',\n",
       " 'erf',\n",
       " 'erfc',\n",
       " 'exp',\n",
       " 'expm1',\n",
       " 'fabs',\n",
       " 'factorial',\n",
       " 'floor',\n",
       " 'fmod',\n",
       " 'frexp',\n",
       " 'fsum',\n",
       " 'gamma',\n",
       " 'gcd',\n",
       " 'hypot',\n",
       " 'inf',\n",
       " 'isclose',\n",
       " 'isfinite',\n",
       " 'isinf',\n",
       " 'isnan',\n",
       " 'isqrt',\n",
       " 'lcm',\n",
       " 'ldexp',\n",
       " 'lgamma',\n",
       " 'log',\n",
       " 'log10',\n",
       " 'log1p',\n",
       " 'log2',\n",
       " 'modf',\n",
       " 'nan',\n",
       " 'nextafter',\n",
       " 'perm',\n",
       " 'pi',\n",
       " 'pow',\n",
       " 'prod',\n",
       " 'radians',\n",
       " 'remainder',\n",
       " 'sin',\n",
       " 'sinh',\n",
       " 'sqrt',\n",
       " 'tan',\n",
       " 'tanh',\n",
       " 'tau',\n",
       " 'trunc',\n",
       " 'ulp']"
      ]
     },
     "execution_count": 24,
     "metadata": {},
     "output_type": "execute_result"
    }
   ],
   "source": []
  },
  {
   "cell_type": "markdown",
   "id": "4b1dfbab",
   "metadata": {
    "id": "4b1dfbab"
   },
   "source": [
    "## What are packages?\n",
    "\n",
    "We don't usually store all of our files on our computer in the same location. We use a well-organized hierarchy of directories for easier access.\n",
    "\n",
    "Similar files are kept in the same directory, for example, we may keep all the songs in the **\"music\"** directory. Analogous to this, Python has packages for directories and modules for files.\n",
    "\n",
    "As our application program grows larger in size with a lot of modules, we place similar modules in one package and different modules in different packages. This makes a project (program) easy to manage and conceptually clear.\n",
    "\n",
    "Similarly, as a directory can contain subdirectories and files, a Python package can have sub-packages and modules.\n",
    "\n",
    "A directory must contain a file named **\\_\\_init\\_\\_.py** in order for Python to consider it as a package. This file can be left empty but we generally place the initialization code for that package in this file.\n",
    "\n",
    "Here is an example. Suppose we are developing a game. One possible organization of packages and modules could be as shown in the figure below."
   ]
  },
  {
   "cell_type": "markdown",
   "id": "hqcyzko6PtgR",
   "metadata": {
    "id": "hqcyzko6PtgR"
   },
   "source": [
    "![Ekran Resmi 2022-11-04 13.45.38.png](data:image/png;base64,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)"
   ]
  },
  {
   "cell_type": "markdown",
   "id": "5a0b6eef",
   "metadata": {
    "id": "5a0b6eef"
   },
   "source": [
    "## Importing module from a package\n",
    "\n",
    "We can import modules from packages using the dot (.) operator.\n",
    "\n",
    "For example, if we want to import the **start** module in the above example, it can be done as follows:"
   ]
  },
  {
   "cell_type": "raw",
   "id": "1d8f75be",
   "metadata": {
    "id": "9f5db5f6"
   },
   "source": [
    "import Game.Level.start "
   ]
  },
  {
   "cell_type": "raw",
   "id": "a1944700",
   "metadata": {},
   "source": [
    "from Game.Level.Start import select_difficulty"
   ]
  },
  {
   "cell_type": "raw",
   "id": "e4285433",
   "metadata": {},
   "source": [
    "select_difficulty(2)"
   ]
  },
  {
   "cell_type": "markdown",
   "id": "16eda92c",
   "metadata": {
    "id": "16eda92c"
   },
   "source": [
    "Now, if this module contains a function named select_difficulty(), we must use the full name to reference it."
   ]
  },
  {
   "cell_type": "raw",
   "id": "be1819f7",
   "metadata": {
    "id": "5ab0d3a4"
   },
   "source": [
    "Game.Level.start.select_difficulty(2)"
   ]
  },
  {
   "cell_type": "markdown",
   "id": "79ac0691",
   "metadata": {
    "id": "79ac0691"
   },
   "source": [
    "If this construct seems lengthy, we can import the module without the package prefix as follows:"
   ]
  },
  {
   "cell_type": "raw",
   "id": "e85ca7c7",
   "metadata": {
    "id": "20c14654"
   },
   "source": [
    "from Game.Level import start"
   ]
  },
  {
   "cell_type": "markdown",
   "id": "76d1c703",
   "metadata": {
    "id": "76d1c703"
   },
   "source": [
    "We can now call the function simply as follows:"
   ]
  },
  {
   "cell_type": "raw",
   "id": "d13d91ba",
   "metadata": {
    "id": "1178f560"
   },
   "source": [
    "start.select_difficulty(2)"
   ]
  },
  {
   "cell_type": "markdown",
   "id": "4030abf3",
   "metadata": {
    "id": "4030abf3"
   },
   "source": [
    "Another way of importing just the required function (or class or variable) from a module within a package would be as follows:"
   ]
  },
  {
   "cell_type": "raw",
   "id": "29ca4771",
   "metadata": {
    "id": "835bd0bd"
   },
   "source": [
    "from Game.Level.start import select_difficulty"
   ]
  },
  {
   "cell_type": "markdown",
   "id": "7f6f0d67",
   "metadata": {
    "id": "7f6f0d67"
   },
   "source": [
    "Now we can directly call this function."
   ]
  },
  {
   "cell_type": "raw",
   "id": "72bea6d9",
   "metadata": {
    "id": "81292d18"
   },
   "source": [
    "select_difficulty(2)"
   ]
  },
  {
   "cell_type": "markdown",
   "id": "8adde8e0",
   "metadata": {
    "id": "8adde8e0"
   },
   "source": [
    "Although easier, this method is not recommended. Using the full namespace avoids confusion and prevents two same identifier names from colliding.\n",
    "\n",
    "While importing packages, Python looks in the list of directories defined in **sys.path**, similar as for module search path."
   ]
  }
 ],
 "metadata": {
  "colab": {
   "collapsed_sections": [],
   "provenance": []
  },
  "kernelspec": {
   "display_name": "Python 3 (ipykernel)",
   "language": "python",
   "name": "python3"
  },
  "language_info": {
   "codemirror_mode": {
    "name": "ipython",
    "version": 3
   },
   "file_extension": ".py",
   "mimetype": "text/x-python",
   "name": "python",
   "nbconvert_exporter": "python",
   "pygments_lexer": "ipython3",
   "version": "3.11.7"
  }
 },
 "nbformat": 4,
 "nbformat_minor": 5
}
