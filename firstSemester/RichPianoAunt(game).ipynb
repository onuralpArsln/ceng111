{
 "cells": [
  {
   "cell_type": "markdown",
   "metadata": {},
   "source": [
    "# Rich Piano Aunt  Game\n"
   ]
  },
  {
   "cell_type": "markdown",
   "metadata": {},
   "source": [
    "Mary has a rich aunt who loves two things most  to gamble and pianos ( not to play but she loves them since she is very rich) "
   ]
  },
  {
   "cell_type": "markdown",
   "metadata": {},
   "source": [
    "One day aunt invites Mary over. And tells that: "
   ]
  },
  {
   "cell_type": "markdown",
   "metadata": {},
   "source": [
    "\"I have a favorite key in my new grand piano, it has 88 keys and i am sure you can find my favorite with few tries\""
   ]
  },
  {
   "cell_type": "markdown",
   "metadata": {},
   "source": [
    "Altough Mary is not very intrested in this little game aunt says:"
   ]
  },
  {
   "cell_type": "markdown",
   "metadata": {},
   "source": [
    "\" I'll give you 2000$ if you can find the right onee\""
   ]
  },
  {
   "cell_type": "markdown",
   "metadata": {},
   "source": [
    "what would you do?"
   ]
  },
  {
   "cell_type": "markdown",
   "metadata": {},
   "source": [
    "As Mary runs to the piano aunt smirks and adds:"
   ]
  },
  {
   "cell_type": "markdown",
   "metadata": {},
   "source": [
    "\" first try will cost you 1$ and every next try will cost twice the amount of previous try, but dont worry i will tell you go left or right and also since you are my beloved nephew i let you forfeit any time you want\""
   ]
  },
  {
   "cell_type": "markdown",
   "metadata": {},
   "source": [
    "Clearly she dont know much about piano, Mary thinks otherwise she could find better terms then left or right, right?"
   ]
  },
  {
   "cell_type": "markdown",
   "metadata": {},
   "source": [
    "Luckyly Mary had a programing genius friend Almira, maybe she can help her out with this weird calculation"
   ]
  },
  {
   "cell_type": "code",
   "execution_count": 25,
   "metadata": {},
   "outputs": [
    {
     "name": "stdout",
     "output_type": "stream",
     "text": [
      "toplam maaliyet 1\n",
      "bastığın tuş şu 44\n",
      "aşaı in\n",
      "toplam maaliyet 3\n",
      "bastığın tuş şu 22\n",
      "aşaı in\n",
      "toplam maaliyet 7\n",
      "bastığın tuş şu 11\n",
      "aşaı in\n",
      "toplam maaliyet 15\n",
      "bastığın tuş şu 6\n",
      "aşaı in\n",
      "toplam maaliyet 31\n",
      "bastığın tuş şu 3\n",
      "yukarı git \n",
      "toplam maaliyet 63\n",
      "bastığın tuş şu 4\n",
      "yukarı git \n",
      "toplam maaliyet 127\n",
      "bastığın tuş şu 5\n",
      "harçlık çıktı\n",
      "128\n",
      "7\n"
     ]
    }
   ],
   "source": [
    "limit = 2000\n",
    "count =0\n",
    "cost = 0\n",
    "favoriteKey = 5\n",
    "\n",
    "upperLimit = 88\n",
    "lowerLimit= 1\n",
    "\n",
    "while limit > cost + 2**count : # sonraki adıma karar veriryoruz\n",
    "    \n",
    "    # hamleyi yapıyoruz\n",
    "    cost +=2**count \n",
    "    count +=1\n",
    "    print(f\"toplam maaliyet {cost}\")\n",
    "\n",
    "    #tuş seçimi\n",
    "    selectedKey = (upperLimit+ lowerLimit) // 2\n",
    "    \n",
    "    print(f\"bastığın tuş şu {selectedKey}\")\n",
    "\n",
    "\n",
    "    # teyze hamlesi\n",
    "\n",
    "    if selectedKey == favoriteKey:\n",
    "        print(\"harçlık çıktı\")\n",
    "        #burda bir şey eksik\n",
    "        break\n",
    "    elif selectedKey> favoriteKey:\n",
    "        print(\"aşaı in\")\n",
    "        upperLimit = selectedKey\n",
    "    else:\n",
    "        print(\"yukarı git \")\n",
    "        lowerLimit = selectedKey\n",
    "\n",
    "print(2**count)\n",
    "print(count)\n"
   ]
  },
  {
   "cell_type": "code",
   "execution_count": 16,
   "metadata": {},
   "outputs": [
    {
     "data": {
      "text/plain": [
       "44"
      ]
     },
     "execution_count": 16,
     "metadata": {},
     "output_type": "execute_result"
    }
   ],
   "source": [
    "(88+1 ) // 2 "
   ]
  },
  {
   "cell_type": "code",
   "execution_count": 19,
   "metadata": {},
   "outputs": [
    {
     "data": {
      "text/plain": [
       "60"
      ]
     },
     "execution_count": 19,
     "metadata": {},
     "output_type": "execute_result"
    }
   ],
   "source": [
    "a = 5 \n",
    "b =  4 \n",
    "c = 60 \n",
    "d = 56\n",
    "\n",
    "a = c\n",
    "a"
   ]
  }
 ],
 "metadata": {
  "kernelspec": {
   "display_name": "Python 3",
   "language": "python",
   "name": "python3"
  },
  "language_info": {
   "codemirror_mode": {
    "name": "ipython",
    "version": 3
   },
   "file_extension": ".py",
   "mimetype": "text/x-python",
   "name": "python",
   "nbconvert_exporter": "python",
   "pygments_lexer": "ipython3",
   "version": "3.11.6"
  }
 },
 "nbformat": 4,
 "nbformat_minor": 2
}
