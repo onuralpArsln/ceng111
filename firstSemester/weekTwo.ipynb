{
 "cells": [
  {
   "cell_type": "markdown",
   "metadata": {},
   "source": [
    "# Meet Guard Clause"
   ]
  },
  {
   "cell_type": "markdown",
   "metadata": {},
   "source": [
    "Avoid nested loops if possible ( most of time it is )"
   ]
  },
  {
   "cell_type": "markdown",
   "metadata": {},
   "source": [
    "The post office charges 5 dollar for the first 300g, and 2 dollar for every 100g thereafter (rounded up), up to a maximum weight of 1000g:"
   ]
  },
  {
   "cell_type": "code",
   "execution_count": null,
   "metadata": {},
   "outputs": [],
   "source": [
    "weight = 750\n",
    "\n",
    "if weight <= 1000:\n",
    "    if weight <= 300:\n",
    "        cost = 5\n",
    "    else:\n",
    "        cost = 5 + 2 * round((weight - 300)/100)\n",
    "    print(\"Your parcel will cost: %d dollar.\" % cost)\n",
    "else:\n",
    "    print(\"Maximum weight for small parcel exceeded.\")\n",
    "    print(\"Use large parcel service instead.\")"
   ]
  },
  {
   "cell_type": "code",
   "execution_count": null,
   "metadata": {},
   "outputs": [],
   "source": [
    "if kravat():\n",
    "    if yemeksiparisi():\n",
    "        yemek\n",
    "    else: \n",
    "        if tatlı():\n",
    "            tatlı\n",
    "        else:\n",
    "            cay()\n",
    "else :\n",
    "    gerigönder()"
   ]
  },
  {
   "cell_type": "code",
   "execution_count": null,
   "metadata": {},
   "outputs": [],
   "source": [
    "if not kravat():\n",
    "    gerigonder()\n",
    "elif yemek():\n",
    "    yemek()\n",
    "elif tatlı():\n",
    "    tatlı()\n",
    "else:\n",
    "    cay\n",
    "\n",
    "\n"
   ]
  },
  {
   "cell_type": "markdown",
   "metadata": {},
   "source": [
    "Lets think about  how this code is written, it checks if weight limit is obeyed, then performs price calculation at inner nest. "
   ]
  },
  {
   "cell_type": "code",
   "execution_count": null,
   "metadata": {},
   "outputs": [],
   "source": [
    "if weight >1000:\n",
    "    print(\"Maximum weight for small parcel exceeded.\")\n",
    "    print(\"Use large parcel service instead.\")"
   ]
  },
  {
   "cell_type": "markdown",
   "metadata": {},
   "source": [
    "in this example we deployed a GUARD, where it checks the limits and ends the process early"
   ]
  },
  {
   "cell_type": "code",
   "execution_count": null,
   "metadata": {},
   "outputs": [],
   "source": [
    "if weight >1000:\n",
    "    print(\"Maximum weight for small parcel exceeded.\")\n",
    "    print(\"Use large parcel service instead.\")\n",
    "\n",
    "else:\n",
    "    if weight <= 300:\n",
    "        cost = 5\n",
    "    else:\n",
    "        cost = 5 + 2 * round((weight - 300)/100)\n",
    "    print(\"Your parcel will cost: %d dollar.\" % cost)"
   ]
  },
  {
   "cell_type": "markdown",
   "metadata": {},
   "source": [
    "but we have still and extra inentation after else.  \n",
    "Now we need to get smarter.  \n",
    "After else we have and if block,\n",
    "hey we had another thing called elif where we can join an else and if "
   ]
  },
  {
   "cell_type": "code",
   "execution_count": null,
   "metadata": {},
   "outputs": [],
   "source": [
    "if weight >1000:\n",
    "    print(\"Maximum weight for small parcel exceeded.\")\n",
    "    print(\"Use large parcel service instead.\")\n",
    "\n",
    "elif  weight <= 300:\n",
    "   \n",
    "    cost = 5\n",
    "    print(\"Your parcel will cost: %d dollar.\" % cost)\n",
    "\n",
    "else:\n",
    "    cost = 5 + 2 * round((weight - 300)/100)\n",
    "    print(\"Your parcel will cost: %d dollar.\" % cost)"
   ]
  },
  {
   "cell_type": "markdown",
   "metadata": {},
   "source": [
    "with guard clause you removed one nest of \"if\".  this simple example might be easy to understand with nested if but imagine more layers nested. "
   ]
  },
  {
   "cell_type": "markdown",
   "metadata": {},
   "source": [
    "time for a silly example. Hey where is Perry???"
   ]
  },
  {
   "cell_type": "code",
   "execution_count": null,
   "metadata": {},
   "outputs": [],
   "source": [
    "def is_platypus(self):\n",
    "    if self.is_mammal():\n",
    "        if self.has_fur():\n",
    "            if self.has_beak():\n",
    "                if self.has_tail():\n",
    "                    if self.can_swim():\n",
    "                        if self.has_hat():\n",
    "                            ## ornitorenk perry referansııı\n",
    "                            print(\"A platypus? Perry the Platypus?!\")\n",
    "                            \n",
    "                        \n",
    "                        else:\n",
    "                            print(\"A platypus?\")\n",
    "    # Not a platypus\n",
    "    print(\"not a platypus\")\n",
    "    return False"
   ]
  },
  {
   "cell_type": "markdown",
   "metadata": {},
   "source": [
    "This example might be silly but person who would code like this unironically is definetly much more silly.  \n",
    "lets fix  it   "
   ]
  },
  {
   "cell_type": "code",
   "execution_count": null,
   "metadata": {},
   "outputs": [],
   "source": [
    "def is_platypus(self):\n",
    "    # you have guard clauses that eliminates wrong options \n",
    "    if not self.is_mammal():\n",
    "        return False\n",
    "    elif not self.has_fur():\n",
    "        return False\n",
    "    elif not self.has_beak():\n",
    "        return False\n",
    "    elif not self.has_tail():\n",
    "        return False\n",
    "    elif not self.can_swim():\n",
    "        return False\n",
    "    elif not self.has_hat():\n",
    "        print(\"A platypus?\")\n",
    "        return False\n",
    "    else:\n",
    "        # after you passed allthe guards you know you have a mammal, with fur , \n",
    "        # has beak , has tail , can swin and has a hat\n",
    "        print(\"A platypus? Perry the Platypus?!\")\n",
    "        return True"
   ]
  },
  {
   "cell_type": "markdown",
   "metadata": {},
   "source": [
    "with just one indent you can check  your  *UN-NEST-inator* will be crushed or not. that was the last perry the platypus refrence of this lesson."
   ]
  },
  {
   "cell_type": "markdown",
   "metadata": {},
   "source": [
    "# Meet Enumerate"
   ]
  },
  {
   "cell_type": "markdown",
   "metadata": {},
   "source": [
    "Lets say you have a list of cool names"
   ]
  },
  {
   "cell_type": "code",
   "execution_count": 3,
   "metadata": {},
   "outputs": [],
   "source": [
    "silly_names = [\n",
    "    \"Bubbles McFluff\",         #0\n",
    "    \"Lumpy Space Princess\",    \n",
    "    \"Fluffy McPicklepants\",    \n",
    "    \"Banana Hammock\",           #3\n",
    "    \"Cheeseburger McSnoozy\",   \n",
    "    \"Captain Squarepants\",\n",
    "    \"Sir Wiggles-a-Lot\",        #6\n",
    "    \"Fuzzypaws McSquiggles\",\n",
    "    \"Pickle Rick\",\n",
    "    \"Princess Glitter Sparkle\",  #9\n",
    "    \"Squishy McSquash\",\n",
    "    \"Boo Boo Giggles\",\n",
    "    \"Professor Wigglebottom\",\n",
    "    \"Muffin Top\",\n",
    "    \"Scooter McGrooter\",\n",
    "    \"Pancake Face\",\n",
    "    \"Squeezy McBubbles\",\n",
    "    \"Wobblebottom McChuckles\",\n",
    "    \"Puddinghead\",\n",
    "    \"Mr. Flibble Flap\",\n",
    "    \"Twinkledoodle\",\n",
    "    \"Lady Jigglefizz\",\n",
    "    \"Captain Quirkysnort\",\n",
    "    \"Wobble Wobble Ping Pong\"\n",
    "]\n"
   ]
  },
  {
   "cell_type": "code",
   "execution_count": 13,
   "metadata": {},
   "outputs": [
    {
     "data": {
      "text/plain": [
       "24"
      ]
     },
     "execution_count": 13,
     "metadata": {},
     "output_type": "execute_result"
    }
   ],
   "source": [
    "len(silly_names)"
   ]
  },
  {
   "cell_type": "code",
   "execution_count": 32,
   "metadata": {},
   "outputs": [
    {
     "name": "stdout",
     "output_type": "stream",
     "text": [
      "0\n",
      "Bubbles McFluff\n",
      "3\n",
      "Banana Hammock\n",
      "6\n",
      "Sir Wiggles-a-Lot\n",
      "9\n",
      "Princess Glitter Sparkle\n",
      "12\n",
      "Professor Wigglebottom\n",
      "15\n",
      "Pancake Face\n",
      "18\n",
      "Puddinghead\n",
      "21\n",
      "Lady Jigglefizz\n"
     ]
    }
   ],
   "source": [
    "for i in range(len(silly_names)):\n",
    "    if i %  3 == 0:\n",
    "        print(i)\n",
    "        print(silly_names[i])\n",
    "        "
   ]
  },
  {
   "cell_type": "code",
   "execution_count": 33,
   "metadata": {},
   "outputs": [
    {
     "data": {
      "text/plain": [
       "'Pickle Rick'"
      ]
     },
     "execution_count": 33,
     "metadata": {},
     "output_type": "execute_result"
    }
   ],
   "source": [
    "silly_names[2*4]"
   ]
  },
  {
   "cell_type": "code",
   "execution_count": 21,
   "metadata": {},
   "outputs": [
    {
     "data": {
      "text/plain": [
       "False"
      ]
     },
     "execution_count": 21,
     "metadata": {},
     "output_type": "execute_result"
    }
   ],
   "source": [
    "isChocalte = False # boolean bool\n",
    "\n",
    "isBottleEmpty = True\n",
    "\n",
    "if isBottleEmpty:\n",
    " print(\"su doldur\")\n",
    "\n",
    "\n",
    "if isChocalte:\n",
    "    print(\"aldım\")\n",
    "\n",
    "20 > 45"
   ]
  },
  {
   "cell_type": "code",
   "execution_count": 29,
   "metadata": {},
   "outputs": [
    {
     "data": {
      "text/plain": [
       "True"
      ]
     },
     "execution_count": 29,
     "metadata": {},
     "output_type": "execute_result"
    }
   ],
   "source": [
    "a = 9\n",
    "a % 3 == 10-10\n"
   ]
  },
  {
   "cell_type": "markdown",
   "metadata": {},
   "source": [
    "How would you print every third name in here ?"
   ]
  },
  {
   "cell_type": "markdown",
   "metadata": {},
   "source": [
    "let me give you a bad solution"
   ]
  },
  {
   "cell_type": "markdown",
   "metadata": {},
   "source": [
    "but before you should think how to solve"
   ]
  },
  {
   "cell_type": "markdown",
   "metadata": {},
   "source": [
    "here it comesss"
   ]
  },
  {
   "cell_type": "code",
   "execution_count": null,
   "metadata": {},
   "outputs": [],
   "source": [
    "for i in range(1, len(silly_names)):\n",
    "    if i%3 ==0:\n",
    "        print(silly_names[i])"
   ]
  },
  {
   "cell_type": "markdown",
   "metadata": {},
   "source": [
    "why this i bad, you have range and len functions nested and you need to reach inside your array each time you look for value"
   ]
  },
  {
   "cell_type": "code",
   "execution_count": 5,
   "metadata": {},
   "outputs": [
    {
     "name": "stdout",
     "output_type": "stream",
     "text": [
      "Bubbles McFluff\n",
      "Banana Hammock\n",
      "Sir Wiggles-a-Lot\n",
      "Princess Glitter Sparkle\n",
      "Professor Wigglebottom\n",
      "Pancake Face\n",
      "Puddinghead\n",
      "Lady Jigglefizz\n"
     ]
    }
   ],
   "source": [
    "for index, value in enumerate(silly_names):\n",
    "    if index % 3 == 0:\n",
    "        print(value)"
   ]
  },
  {
   "cell_type": "markdown",
   "metadata": {},
   "source": [
    "can you spot the difrence between the  final lists?"
   ]
  },
  {
   "cell_type": "code",
   "execution_count": 12,
   "metadata": {},
   "outputs": [
    {
     "name": "stdout",
     "output_type": "stream",
     "text": [
      "numbers using range\n",
      "1\n",
      "2\n",
      "3\n",
      "19\n",
      "20\n",
      "21\n",
      "22\n",
      "23\n",
      "numbers using enumerate\n",
      "0\n",
      "1\n",
      "2\n",
      "3\n",
      "19\n",
      "20\n",
      "21\n",
      "22\n",
      "23\n"
     ]
    }
   ],
   "source": [
    "print(\"numbers using range\")\n",
    "\n",
    "for i in range(1, len(silly_names)):\n",
    "    if i > 18:\n",
    "        print(i)\n",
    "    elif i< 4: \n",
    "        print(i)\n",
    "\n",
    "\n",
    "print(\"numbers using enumerate\")\n",
    "\n",
    "for index, value in enumerate(silly_names):\n",
    "    if index > 18:\n",
    "        print(index)\n",
    "    elif index< 4: \n",
    "        print(index)"
   ]
  },
  {
   "cell_type": "markdown",
   "metadata": {},
   "source": [
    "as you can see enum starts from 0 just like arrays which allows us for better usageor we might risk using range (1,x) mistake as shown in example. Enum is risk free  method. "
   ]
  },
  {
   "cell_type": "markdown",
   "metadata": {},
   "source": [
    "# Three Musketeers *Pass Continue & Break*  "
   ]
  },
  {
   "cell_type": "markdown",
   "metadata": {},
   "source": [
    "Python have 33 reserved keywords, including def if else elif True False for while.  They look very important right?"
   ]
  },
  {
   "cell_type": "markdown",
   "metadata": {},
   "source": [
    "3 of them are break continue and pass"
   ]
  },
  {
   "cell_type": "markdown",
   "metadata": {},
   "source": [
    "Incase of emergency *break* the glass, to cancel evertying"
   ]
  },
  {
   "cell_type": "markdown",
   "metadata": {},
   "source": [
    "PASS"
   ]
  },
  {
   "cell_type": "markdown",
   "metadata": {},
   "source": [
    "did you get the joke?  pass does nothing so markdown cell with pass explanation just passes. Altough that joke was a low tier python is still better  for your mental health when compared with c++ or javascript."
   ]
  },
  {
   "cell_type": "markdown",
   "metadata": {},
   "source": [
    "continue just skips to next iteration without performing rest of the blokk"
   ]
  },
  {
   "cell_type": "code",
   "execution_count": 34,
   "metadata": {},
   "outputs": [
    {
     "name": "stdout",
     "output_type": "stream",
     "text": [
      "1\n",
      "2\n"
     ]
    }
   ],
   "source": [
    "x = 0\n",
    "while x < 5:\n",
    "    x+=1\n",
    "    if x ==3:\n",
    "        break\n",
    "    \n",
    "    print(x)"
   ]
  },
  {
   "cell_type": "code",
   "execution_count": 35,
   "metadata": {},
   "outputs": [
    {
     "name": "stdout",
     "output_type": "stream",
     "text": [
      "1\n",
      "2\n",
      "3\n",
      "4\n",
      "5\n"
     ]
    }
   ],
   "source": [
    "x = 0\n",
    "while x < 5:\n",
    "    x+=1\n",
    "    if x ==3:\n",
    "        pass ## sonrasında buraya yeni fonksiyon gelecek\n",
    "    else:\n",
    "        print(\"mük sayı\")\n",
    "    print(x)"
   ]
  },
  {
   "cell_type": "code",
   "execution_count": 36,
   "metadata": {},
   "outputs": [
    {
     "name": "stdout",
     "output_type": "stream",
     "text": [
      "1\n",
      "2\n",
      "4\n",
      "5\n"
     ]
    }
   ],
   "source": [
    "x = 0\n",
    "while x < 5:\n",
    "    x+=1\n",
    "    if x ==3:\n",
    "        continue\n",
    "    print(x)"
   ]
  },
  {
   "cell_type": "markdown",
   "metadata": {},
   "source": [
    "# sözlükler"
   ]
  },
  {
   "cell_type": "markdown",
   "metadata": {},
   "source": []
  },
  {
   "cell_type": "code",
   "execution_count": 41,
   "metadata": {},
   "outputs": [],
   "source": [
    "a= [1,23,4,5,7]"
   ]
  },
  {
   "cell_type": "code",
   "execution_count": 46,
   "metadata": {},
   "outputs": [],
   "source": [
    "myDict = {\"saksı\": \"içinde bitki yetişen kap\",\n",
    "            \"yüz\" : [\"99dan sonraki sayı\",\"surat\",\"suda hareket etmek\"]}"
   ]
  },
  {
   "cell_type": "code",
   "execution_count": 42,
   "metadata": {},
   "outputs": [
    {
     "data": {
      "text/plain": [
       "23"
      ]
     },
     "execution_count": 42,
     "metadata": {},
     "output_type": "execute_result"
    }
   ],
   "source": [
    "a[1]"
   ]
  },
  {
   "cell_type": "code",
   "execution_count": 51,
   "metadata": {},
   "outputs": [
    {
     "data": {
      "text/plain": [
       "'u'"
      ]
     },
     "execution_count": 51,
     "metadata": {},
     "output_type": "execute_result"
    }
   ],
   "source": [
    "myDict[\"yüz\"][1][1]\n",
    "myDict[\"yüz\"][1]"
   ]
  },
  {
   "cell_type": "code",
   "execution_count": 54,
   "metadata": {},
   "outputs": [],
   "source": [
    "myDict[\"kitaplık\"] = \"kitapları düzenleyen raflı mobilya\""
   ]
  },
  {
   "cell_type": "code",
   "execution_count": 55,
   "metadata": {},
   "outputs": [
    {
     "data": {
      "text/plain": [
       "{'saksı': 'içinde bitki yetişen kap',\n",
       " 'yüz': ['99dan sonraki sayı', 'surat', 'suda hareket etmek'],\n",
       " 'kitaplık': 'kitapları düzenleyen raflı mobilya'}"
      ]
     },
     "execution_count": 55,
     "metadata": {},
     "output_type": "execute_result"
    }
   ],
   "source": [
    "myDict"
   ]
  },
  {
   "cell_type": "markdown",
   "metadata": {},
   "source": [
    "# Function"
   ]
  },
  {
   "cell_type": "code",
   "execution_count": 65,
   "metadata": {},
   "outputs": [
    {
     "name": "stdout",
     "output_type": "stream",
     "text": [
      "iyi ki doğdun\n"
     ]
    }
   ],
   "source": [
    "def greet():\n",
    "    name = input(\"adınız nedir?\")\n",
    "    if name == \"almira\":\n",
    "        print(\"iyi ki doğdun\")\n",
    "    else: \n",
    "        greet()\n",
    "\n",
    "greet()"
   ]
  },
  {
   "cell_type": "code",
   "execution_count": 63,
   "metadata": {},
   "outputs": [
    {
     "name": "stdout",
     "output_type": "stream",
     "text": [
      "iyi ki doğdun\n"
     ]
    }
   ],
   "source": [
    "def greet(name):\n",
    "    if name == \"almira\":\n",
    "        print(\"iyi ki doğdun\")\n",
    "\n",
    "greet(\"almira\")"
   ]
  },
  {
   "cell_type": "code",
   "execution_count": 64,
   "metadata": {},
   "outputs": [
    {
     "name": "stdout",
     "output_type": "stream",
     "text": [
      "11\n"
     ]
    }
   ],
   "source": [
    "def mahmut(a , b):\n",
    "    print(a+b)\n",
    "\n",
    "mahmut(5,6)\n",
    "\n",
    "\n"
   ]
  },
  {
   "cell_type": "markdown",
   "metadata": {},
   "source": [
    "fonksiyonun içinde önceden belirli bir sayı olacak  \n",
    "benden input isteyecek\n",
    "eğer sayıyı bilirsem program sonlanacak  \n",
    "bilemezsem yeniden soracak"
   ]
  },
  {
   "cell_type": "code",
   "execution_count": 68,
   "metadata": {},
   "outputs": [
    {
     "name": "stdout",
     "output_type": "stream",
     "text": [
      "yanlış tahmin\n",
      "yanlış tahmin\n",
      "yanlış tahmin\n",
      "yanlış tahmin\n",
      "yanlış tahmin\n",
      "yanlış tahmin\n",
      "yanlış tahmin\n",
      "yanlış tahmin\n",
      "yanlış tahmin\n",
      "yanlış tahmin\n",
      "yanlış tahmin\n",
      "yanlış tahmin\n",
      "yanlış tahmin\n",
      "yanlış tahmin\n",
      "yanlış tahmin\n",
      "bildin\n"
     ]
    }
   ],
   "source": [
    "def number():\n",
    "    a = 2\n",
    "    b = int(input(\"enter a number\"))\n",
    "    if b == 2 :\n",
    "        print(\"bildin\")\n",
    "    else:\n",
    "        print(\"yanlış tahmin\")\n",
    "        number()\n",
    "\n",
    "number()"
   ]
  },
  {
   "cell_type": "markdown",
   "metadata": {},
   "source": [
    "# EXTRA EXTRA"
   ]
  },
  {
   "cell_type": "markdown",
   "metadata": {},
   "source": [
    "after this point is not included in your notes but i think is very cool"
   ]
  },
  {
   "cell_type": "markdown",
   "metadata": {},
   "source": [
    "but beware it is highly addictive "
   ]
  },
  {
   "cell_type": "markdown",
   "metadata": {},
   "source": [
    "and magical\n"
   ]
  },
  {
   "cell_type": "markdown",
   "metadata": {},
   "source": [
    "TRY EXCEPT"
   ]
  },
  {
   "cell_type": "code",
   "execution_count": 37,
   "metadata": {},
   "outputs": [],
   "source": [
    "a = [1,2,\"3\",4,5]"
   ]
  },
  {
   "cell_type": "markdown",
   "metadata": {},
   "source": [
    "run the code below and see what is wrong"
   ]
  },
  {
   "cell_type": "code",
   "execution_count": 38,
   "metadata": {},
   "outputs": [
    {
     "name": "stdout",
     "output_type": "stream",
     "text": [
      "4\n",
      "5\n"
     ]
    },
    {
     "ename": "TypeError",
     "evalue": "can only concatenate str (not \"int\") to str",
     "output_type": "error",
     "traceback": [
      "\u001b[1;31m---------------------------------------------------------------------------\u001b[0m",
      "\u001b[1;31mTypeError\u001b[0m                                 Traceback (most recent call last)",
      "\u001b[1;32mc:\\Users\\onura\\Documents\\VSproject\\ceng111\\weekTwo.ipynb Cell 54\u001b[0m line \u001b[0;36m2\n\u001b[0;32m      <a href='vscode-notebook-cell:/c%3A/Users/onura/Documents/VSproject/ceng111/weekTwo.ipynb#X64sZmlsZQ%3D%3D?line=0'>1</a>\u001b[0m \u001b[39mfor\u001b[39;00m i \u001b[39min\u001b[39;00m a :\n\u001b[1;32m----> <a href='vscode-notebook-cell:/c%3A/Users/onura/Documents/VSproject/ceng111/weekTwo.ipynb#X64sZmlsZQ%3D%3D?line=1'>2</a>\u001b[0m     \u001b[39mprint\u001b[39m(i\u001b[39m+\u001b[39;49m\u001b[39m3\u001b[39;49m)\n",
      "\u001b[1;31mTypeError\u001b[0m: can only concatenate str (not \"int\") to str"
     ]
    }
   ],
   "source": [
    "for i in a :\n",
    "    print(i+3)"
   ]
  },
  {
   "cell_type": "markdown",
   "metadata": {},
   "source": [
    "now run the code below and be amazed"
   ]
  },
  {
   "cell_type": "code",
   "execution_count": 39,
   "metadata": {},
   "outputs": [
    {
     "name": "stdout",
     "output_type": "stream",
     "text": [
      "4\n",
      "5\n",
      "you dont have compatible type \n",
      "7\n",
      "8\n"
     ]
    }
   ],
   "source": [
    "for i in a :\n",
    "    try:\n",
    "        print(i+3)\n",
    "    except:\n",
    "        print(\"you dont have compatible type \")"
   ]
  }
 ],
 "metadata": {
  "kernelspec": {
   "display_name": "Python 3",
   "language": "python",
   "name": "python3"
  },
  "language_info": {
   "codemirror_mode": {
    "name": "ipython",
    "version": 3
   },
   "file_extension": ".py",
   "mimetype": "text/x-python",
   "name": "python",
   "nbconvert_exporter": "python",
   "pygments_lexer": "ipython3",
   "version": "3.11.6"
  }
 },
 "nbformat": 4,
 "nbformat_minor": 2
}
