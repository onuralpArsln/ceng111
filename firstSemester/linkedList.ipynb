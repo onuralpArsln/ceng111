{
 "cells": [
  {
   "cell_type": "code",
   "execution_count": null,
   "metadata": {},
   "outputs": [],
   "source": []
  },
  {
   "cell_type": "markdown",
   "metadata": {},
   "source": [
    "##  linked list "
   ]
  },
  {
   "cell_type": "code",
   "execution_count": 1,
   "metadata": {},
   "outputs": [
    {
     "name": "stdout",
     "output_type": "stream",
     "text": [
      "1\n",
      "34\n",
      "46\n"
     ]
    }
   ],
   "source": [
    "class listNode:\n",
    "            def __init__(self, value=0, next=None):\n",
    "                self.value=value\n",
    "                self.next = next\n",
    "           \n",
    "               \n",
    "node=listNode(1)\n",
    "node2 =listNode(34)\n",
    "node3=listNode(46)\n",
    "\n",
    "node.next=node2\n",
    "node2.next=node3\n",
    "\n",
    "\n",
    "head =node\n",
    "while head is not None :\n",
    "    print(head.value)\n",
    "    head=head.next "
   ]
  },
  {
   "cell_type": "markdown",
   "metadata": {},
   "source": [
    "add 78 after 34"
   ]
  },
  {
   "cell_type": "code",
   "execution_count": 4,
   "metadata": {},
   "outputs": [],
   "source": [
    "node4 = listNode(78)"
   ]
  },
  {
   "cell_type": "code",
   "execution_count": 5,
   "metadata": {},
   "outputs": [],
   "source": [
    "def insertAfter(node, newNode):\n",
    "    newNode.next = node.next\n",
    "    node.next=newNode\n",
    "    "
   ]
  },
  {
   "cell_type": "code",
   "execution_count": 6,
   "metadata": {},
   "outputs": [],
   "source": [
    "insertAfter(node2,node4)"
   ]
  },
  {
   "cell_type": "code",
   "execution_count": 7,
   "metadata": {},
   "outputs": [
    {
     "name": "stdout",
     "output_type": "stream",
     "text": [
      "1\n",
      "34\n",
      "78\n",
      "46\n"
     ]
    }
   ],
   "source": [
    "head =node\n",
    "while head is not None :\n",
    "    print(head.value)\n",
    "    head=head.next "
   ]
  },
  {
   "cell_type": "code",
   "execution_count": null,
   "metadata": {},
   "outputs": [],
   "source": [
    "def removeNode(node):\n",
    "    "
   ]
  }
 ],
 "metadata": {
  "kernelspec": {
   "display_name": "Python 3",
   "language": "python",
   "name": "python3"
  },
  "language_info": {
   "codemirror_mode": {
    "name": "ipython",
    "version": 3
   },
   "file_extension": ".py",
   "mimetype": "text/x-python",
   "name": "python",
   "nbconvert_exporter": "python",
   "pygments_lexer": "ipython3",
   "version": "3.11.7"
  }
 },
 "nbformat": 4,
 "nbformat_minor": 2
}
