{
 "cells": [
  {
   "cell_type": "code",
   "execution_count": null,
   "metadata": {},
   "outputs": [],
   "source": []
  },
  {
   "attachments": {},
   "cell_type": "markdown",
   "metadata": {},
   "source": [
    "# New way to define a function"
   ]
  },
  {
   "attachments": {},
   "cell_type": "markdown",
   "metadata": {},
   "source": [
    "besides looking scary it doesnt change how it works but it supplies better information for user. This method is usefull if you are working on a big project or with teams it makes code much more readable."
   ]
  },
  {
   "attachments": {},
   "cell_type": "markdown",
   "metadata": {},
   "source": [
    "lets say you have a function that when int a and b given it returns a^b + b^a"
   ]
  },
  {
   "cell_type": "code",
   "execution_count": null,
   "metadata": {},
   "outputs": [],
   "source": [
    "def basicCalc(a,b):\n",
    "    return a**b+b**a"
   ]
  },
  {
   "cell_type": "code",
   "execution_count": null,
   "metadata": {},
   "outputs": [],
   "source": [
    "def coolCalc(a:int,b:int) -> int:\n",
    "    return a**b + b**a"
   ]
  },
  {
   "attachments": {},
   "cell_type": "markdown",
   "metadata": {},
   "source": [
    "when you hower your mouse on function basic calc it  says any for a b and return. yet for it to be working we need ints or float and it returns ints or float. for this example we will stick only for ints. coolCalc explains that you need to use ints and it will return int \""
   ]
  },
  {
   "attachments": {},
   "cell_type": "markdown",
   "metadata": {},
   "source": [
    "lets try using some strings as parameters "
   ]
  },
  {
   "cell_type": "code",
   "execution_count": null,
   "metadata": {},
   "outputs": [],
   "source": [
    "basicCalc(1,\"2\")"
   ]
  },
  {
   "attachments": {},
   "cell_type": "markdown",
   "metadata": {},
   "source": [
    "although it says type error, for a complex function it doesnt give enough information that if our parameters are incorrect."
   ]
  },
  {
   "cell_type": "code",
   "execution_count": null,
   "metadata": {},
   "outputs": [],
   "source": [
    "coolCalc(1,\"2\")"
   ]
  },
  {
   "attachments": {},
   "cell_type": "markdown",
   "metadata": {},
   "source": [
    "as you can see altough we marked our input parameters as int this doesnt en force any types. it still gives same error lets change it "
   ]
  },
  {
   "cell_type": "code",
   "execution_count": null,
   "metadata": {},
   "outputs": [],
   "source": [
    "def coolCalc(a:int,b:int) -> int:\n",
    "    print(locals())   #locals() lets you reach all local parameters \n",
    "    return a**b + b**a\n",
    "\n",
    "coolCalc(1,2)"
   ]
  },
  {
   "cell_type": "code",
   "execution_count": null,
   "metadata": {},
   "outputs": [],
   "source": [
    "def coolCalc(a:int,b:int) -> int:\n",
    "    if all(type(param) == int for param in locals()):   # all returns true if everything inside true and we have a list comprehension\n",
    "        return a**b + b**a\n",
    "    else:\n",
    "        raise TypeError(\"All Given Parameters Must be ints\") # you can just use Exception instead type error for general purpose"
   ]
  },
  {
   "attachments": {},
   "cell_type": "markdown",
   "metadata": {},
   "source": [
    "can you use guard clause to make this calc func even cooler ? \n",
    "the more color appers the better your code gets "
   ]
  },
  {
   "cell_type": "code",
   "execution_count": null,
   "metadata": {},
   "outputs": [],
   "source": []
  }
 ],
 "metadata": {
  "kernelspec": {
   "display_name": "Python 3",
   "language": "python",
   "name": "python3"
  },
  "language_info": {
   "codemirror_mode": {
    "name": "ipython",
    "version": 3
   },
   "file_extension": ".py",
   "mimetype": "text/x-python",
   "name": "python",
   "nbconvert_exporter": "python",
   "pygments_lexer": "ipython3",
   "version": "3.9.6"
  },
  "orig_nbformat": 4
 },
 "nbformat": 4,
 "nbformat_minor": 2
}
