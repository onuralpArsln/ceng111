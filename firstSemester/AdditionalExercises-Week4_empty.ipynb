{
 "cells": [
  {
   "cell_type": "markdown",
   "id": "5a90af5d",
   "metadata": {},
   "source": [
    "# CENG 111 Computer Programming -- Fall 2023 - 2024\n",
    "## Additional exercises - Week 4"
   ]
  },
  {
   "cell_type": "markdown",
   "id": "615b59ed",
   "metadata": {},
   "source": [
    "## Displaying Formatted Output with F-strings\n",
    "\n",
    "- F-strings (formatted string literals) are a special type of string literal that allow you to format values in a variety of ways.\n",
    "- F-strings were introduced in Python 3.6. If you are using an earlier version of Python, consider using the format function instead.\n",
    "- An f-string can contain placeholders for variables and other expressions."
   ]
  },
  {
   "cell_type": "code",
   "execution_count": null,
   "id": "a08e2cd2",
   "metadata": {},
   "outputs": [],
   "source": [
    "name = 'Johnny' # assign 'Johnny' to the name variable. \n",
    "print(f'Hello {name}.') # pass an f-string to the print function. \n",
    "\n",
    "#Inside the f-string, {name} is a placeholder for the name variable. \n",
    "# When the statement is executed, the placeholder is replaced with the value of the name variable"
   ]
  },
  {
   "cell_type": "code",
   "execution_count": null,
   "id": "f180b042",
   "metadata": {},
   "outputs": [],
   "source": [
    "temperature = 45 \n",
    "print(f'It is currently {temperature} degrees.')"
   ]
  },
  {
   "cell_type": "code",
   "execution_count": null,
   "id": "9824dada",
   "metadata": {},
   "outputs": [],
   "source": [
    "val = 10 #assign the value 10 to the val variable\n",
    "print(f'The value is {val + 2}.') #pass an f-string to the print function\n",
    "#Inside the f-string, {val + 2} is the placeholder.\n",
    "#When the statement is executed, the placeholder is replaced with the value of the expression val + 2."
   ]
  },
  {
   "cell_type": "code",
   "execution_count": null,
   "id": "628cc260",
   "metadata": {},
   "outputs": [],
   "source": [
    "name = 'Billy'\n",
    "age = 23\n",
    "print(f\"Hello, My name is {name} and I'm {age} years old.\")"
   ]
  },
  {
   "cell_type": "markdown",
   "id": "bbdf838b",
   "metadata": {},
   "source": [
    "### Rounding Floating-Point Numbers"
   ]
  },
  {
   "cell_type": "markdown",
   "id": "8342a087",
   "metadata": {},
   "source": [
    "When a floating-point number is displayed by the print function, it can appear with up to 17 significant digits."
   ]
  },
  {
   "cell_type": "code",
   "execution_count": null,
   "id": "3f2299b6",
   "metadata": {},
   "outputs": [],
   "source": [
    "#This program demonstrates how a floating-point\n",
    "# number is displayed with no formatting.\n",
    "amount_due = 5000.0\n",
    "monthly_payment = amount_due / 12.0\n",
    "print(f'The monthly payment is {monthly_payment}.')"
   ]
  },
  {
   "cell_type": "code",
   "execution_count": null,
   "id": "83fb723d",
   "metadata": {},
   "outputs": [],
   "source": [
    "print('The monthly payment is ', monthly_payment, '.')"
   ]
  },
  {
   "cell_type": "code",
   "execution_count": null,
   "id": "03666a93",
   "metadata": {},
   "outputs": [],
   "source": [
    "#Because this program displays a dollar amount, it would be nice to see that amount rounded to two decimal places.\n",
    "# In the format specifier, .2 is a precision designator that indicates the number should be rounded to two decimal places.\n",
    "print(f'The monthly payment is {monthly_payment:.2f}.')"
   ]
  },
  {
   "cell_type": "code",
   "execution_count": null,
   "id": "0110d565",
   "metadata": {},
   "outputs": [],
   "source": [
    "a = 2 \n",
    "b = 3 \n",
    "print(f'{a / b:.1f}')"
   ]
  },
  {
   "cell_type": "markdown",
   "id": "a61601d4",
   "metadata": {},
   "source": [
    "### Inserting Comma Separators"
   ]
  },
  {
   "cell_type": "code",
   "execution_count": 1,
   "id": "635921f3",
   "metadata": {},
   "outputs": [
    {
     "name": "stdout",
     "output_type": "stream",
     "text": [
      "1,234,567,890.12\n"
     ]
    }
   ],
   "source": [
    "# It’s easier for the human eye to read large numbers if they are displayed with comma separators.\n",
    "#You can use a format specifier to insert comma separators into a number\n",
    "    \n",
    "number = 1234567890.12345 \n",
    "print(f'{number:,.2f}') #In the format specifier, the comma must be written before (to the left of) the precision designator."
   ]
  },
  {
   "cell_type": "markdown",
   "id": "13d82fed",
   "metadata": {},
   "source": [
    "### Formatting a Floating-Point Number as a Percentage\n",
    "\n",
    "- Instead of using f as the type designator, you can use the % symbol to format a floatingpoint number as a percentage. \n",
    "- The % symbol causes the number to be multiplied by 100 and displayed with a % sign following it."
   ]
  },
  {
   "cell_type": "code",
   "execution_count": 2,
   "id": "42906a89",
   "metadata": {},
   "outputs": [
    {
     "name": "stdout",
     "output_type": "stream",
     "text": [
      "50.0%\n"
     ]
    }
   ],
   "source": [
    "discount = 0.5\n",
    "print(f'{discount:.1%}')"
   ]
  },
  {
   "cell_type": "markdown",
   "id": "6ff6d5e4",
   "metadata": {},
   "source": [
    "### Formatting in Scientific Notation"
   ]
  },
  {
   "cell_type": "code",
   "execution_count": null,
   "id": "c00a7083",
   "metadata": {},
   "outputs": [],
   "source": [
    "number = 12345.6789\n",
    "print(f'{number:e}') \n",
    "\n",
    "print(f'{number:.2e}') # additionally specifies a precision of two decimal places."
   ]
  },
  {
   "cell_type": "markdown",
   "id": "9dbeec96",
   "metadata": {},
   "source": [
    "### Formatting Integers"
   ]
  },
  {
   "cell_type": "markdown",
   "id": "085a2fe0",
   "metadata": {},
   "source": [
    "- You can also use an f-string to format integers.\n",
    "- When you need to use a type designator, use d or D. This indicates that the value should be displayed as a decimal integer.\n",
    "- You do not use a precision designator."
   ]
  },
  {
   "cell_type": "code",
   "execution_count": null,
   "id": "0172e7f5",
   "metadata": {},
   "outputs": [],
   "source": [
    "number = 123456\n",
    "print(f'{number:d}')"
   ]
  },
  {
   "cell_type": "code",
   "execution_count": null,
   "id": "779be945",
   "metadata": {},
   "outputs": [],
   "source": [
    "number = 123456\n",
    "print(f'{number:,d}')"
   ]
  },
  {
   "cell_type": "markdown",
   "id": "0e02b1b5",
   "metadata": {},
   "source": [
    "## Formatting Numeric Output F with the format() Function"
   ]
  },
  {
   "cell_type": "code",
   "execution_count": null,
   "id": "89775a70",
   "metadata": {},
   "outputs": [],
   "source": [
    "# a floating-point number is displayed by the print function, it can appear with up to 12 significant digits.\n",
    "# This program demonstrates how a floating-point\n",
    "# number is displayed with no formatting.\n",
    "amount_due = 5000.0\n",
    "monthly_payment = amount_due / 12.0\n",
    "print('The monthly payment is', monthly_payment)"
   ]
  },
  {
   "cell_type": "code",
   "execution_count": null,
   "id": "875ea616",
   "metadata": {},
   "outputs": [],
   "source": [
    "# The first argument, which is the floating-point number 12345.6789, is the number that we want to format.\n",
    "# The second argument, which is the string '.2f', is the format specifier.\n",
    "format(12345.6789, '.2f')"
   ]
  },
  {
   "cell_type": "code",
   "execution_count": null,
   "id": "ed6c88c2",
   "metadata": {},
   "outputs": [],
   "source": [
    "# This program demonstrates how a floating-point\n",
    "# number can be formatted.\n",
    "amount_due = 5000.0\n",
    "monthly_payment = amount_due / 12\n",
    "print('The monthly payment is', format(monthly_payment, '.2f'))"
   ]
  },
  {
   "cell_type": "markdown",
   "id": "3b60fb0b",
   "metadata": {},
   "source": [
    "## Exercise\n",
    "\n",
    "Write a Python program that asks the user for the number of males and the number of females registered in a class using two separate inputs \n",
    "(\"Enter number of males:\", \"Enter number of females:\"). \n",
    "\n",
    "The program should display the percentage of males and females (round to the nearest whole number) in the following format:\n",
    "\n",
    "Percent males: 35%\n",
    "\n",
    "Percent females: 65%\n",
    "\n",
    "Use string formatting."
   ]
  },
  {
   "cell_type": "code",
   "execution_count": null,
   "id": "7e376b68",
   "metadata": {},
   "outputs": [],
   "source": []
  },
  {
   "cell_type": "markdown",
   "id": "ba620af6",
   "metadata": {},
   "source": [
    "## If-else statement, for and while loops"
   ]
  },
  {
   "cell_type": "markdown",
   "id": "f94fa91d",
   "metadata": {},
   "source": [
    "## Exercise\n",
    "Write a code to display \"A little cold, isn't it?\" if temperature is less than 15; \"Nice weather we're having.\", otherwise."
   ]
  },
  {
   "cell_type": "code",
   "execution_count": null,
   "id": "cccdb912",
   "metadata": {},
   "outputs": [],
   "source": []
  },
  {
   "cell_type": "markdown",
   "id": "a6a1895f",
   "metadata": {},
   "source": [
    "## Exercise (Homework)\n",
    "Write a code to read a month as a string variable. If it is not July, then print 'This is the wrong time for swimming in the sea!'."
   ]
  },
  {
   "cell_type": "code",
   "execution_count": null,
   "id": "ac8a3250",
   "metadata": {},
   "outputs": [],
   "source": []
  },
  {
   "cell_type": "markdown",
   "id": "ec29aa26",
   "metadata": {},
   "source": [
    "## Exercise\n",
    "Write a code to determine whether the correct password was entered."
   ]
  },
  {
   "cell_type": "code",
   "execution_count": null,
   "id": "d33a028f",
   "metadata": {},
   "outputs": [],
   "source": []
  },
  {
   "cell_type": "markdown",
   "id": "66eb6b90",
   "metadata": {},
   "source": [
    "## Exercise\n",
    "Write a code to compare two integers."
   ]
  },
  {
   "cell_type": "code",
   "execution_count": null,
   "id": "f0d32c37",
   "metadata": {},
   "outputs": [],
   "source": []
  },
  {
   "cell_type": "markdown",
   "id": "d34cf2ab",
   "metadata": {},
   "source": [
    "## Exercise (Homework)\n",
    "Write a code to read two names as string variables. If theye are the same, then print 'The names are the same.'. Otherwise, print 'The names are NOT the same.'."
   ]
  },
  {
   "cell_type": "code",
   "execution_count": null,
   "id": "6797d288",
   "metadata": {},
   "outputs": [],
   "source": []
  },
  {
   "cell_type": "markdown",
   "id": "e6eaa22b",
   "metadata": {},
   "source": [
    "## Exercise\n",
    "How to use islower() in a program?"
   ]
  },
  {
   "cell_type": "code",
   "execution_count": null,
   "id": "c34bed36",
   "metadata": {},
   "outputs": [],
   "source": []
  },
  {
   "cell_type": "markdown",
   "id": "c9d9e8a7",
   "metadata": {},
   "source": [
    "## Exercise\n",
    "Write a list of 5 integers. Then, print them together with their second powers. At the end, print \"I'm outside the loop!\". "
   ]
  },
  {
   "cell_type": "code",
   "execution_count": null,
   "id": "9ff6a4c6",
   "metadata": {},
   "outputs": [],
   "source": []
  },
  {
   "cell_type": "markdown",
   "id": "92f45b96",
   "metadata": {},
   "source": [
    "## Exercise"
   ]
  },
  {
   "cell_type": "code",
   "execution_count": null,
   "id": "75a55bfb",
   "metadata": {},
   "outputs": [],
   "source": []
  }
 ],
 "metadata": {
  "kernelspec": {
   "display_name": "Python 3 (ipykernel)",
   "language": "python",
   "name": "python3"
  },
  "language_info": {
   "codemirror_mode": {
    "name": "ipython",
    "version": 3
   },
   "file_extension": ".py",
   "mimetype": "text/x-python",
   "name": "python",
   "nbconvert_exporter": "python",
   "pygments_lexer": "ipython3",
   "version": "3.10.12"
  },
  "vscode": {
   "interpreter": {
    "hash": "e7370f93d1d0cde622a1f8e1c04877d8463912d04d973331ad4851f04de6915a"
   }
  }
 },
 "nbformat": 4,
 "nbformat_minor": 5
}
