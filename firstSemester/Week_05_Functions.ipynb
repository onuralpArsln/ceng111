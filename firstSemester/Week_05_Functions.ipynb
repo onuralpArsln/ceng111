{
 "cells": [
  {
   "cell_type": "code",
   "execution_count": null,
   "id": "b778e8cd",
   "metadata": {},
   "outputs": [],
   "source": []
  },
  {
   "cell_type": "markdown",
   "id": "b2ff3082",
   "metadata": {
    "id": "b2ff3082"
   },
   "source": [
    "# CENG 111 Computer Programming [Fall 2023 - 2024]\n",
    "## Week 05 - Functions\n",
    "\n",
    "## 1.0 Objectives of the fifth week's lecture.\n",
    "\n",
    "- *To understand definition of functions.*\n",
    "- *To understand definition of docstrings.*\n",
    "- *To understand the using the return statement.*\n",
    "- *To understand definition of scope and lifetime of variables.*\n",
    "- *To understand the using the function arguments.*\n",
    "- *To understand the using the variable function arguments.*\n",
    "- *To understand the using the keyword arguments.*\n",
    "- *To understand the using the arbitrary arguments.*\n",
    "- *To understand definition of recursive function.*\n",
    "- *To understand the using the anonymous / lambda function.*\n",
    "- *To understand definition of global, local and nonlocal variables.*\n",
    "- *To understand definition of global keyword.*"
   ]
  },
  {
   "cell_type": "markdown",
   "id": "71232b18",
   "metadata": {
    "id": "71232b18"
   },
   "source": [
    "## 1.1 Python function\n",
    "\n",
    "In Python, a function is a group of related statements that performs a specific task.\n",
    "\n",
    "Functions help break our program into smaller and modular chunks. As our program grows larger and larger, functions make it more organized and manageable.\n",
    "\n",
    "Furthermore, it avoids repetition and makes the code reusable.\n",
    "\n",
    "### A program benefits in the following ways when it is broken down into functions:\n",
    "- Simpler Code\n",
    "- Code Reuse\n",
    "- Better Testing\n",
    "- Faster Development\n",
    "- Easier Facilitation of Teamwork\n",
    "\n",
    "### Syntax of function"
   ]
  },
  {
   "cell_type": "code",
   "execution_count": 1,
   "id": "83f0390c",
   "metadata": {
    "id": "83f0390c"
   },
   "outputs": [],
   "source": [
    "parameters = \"ABC\"\n",
    "\n",
    "def function_name(parameters):\n",
    "    \"\"\"docstring\"\"\"\n",
    "    print(parameters)"
   ]
  },
  {
   "cell_type": "markdown",
   "id": "bd5ad409",
   "metadata": {
    "id": "bd5ad409"
   },
   "source": [
    "Above shown is a function definition that consists of the following components.\n",
    "\n",
    "1. Keyword def that marks the start of the function header.\n",
    "2. A function name to uniquely identify the function. Function naming follows the same rules of writing identifiers in Python.\n",
    "3. Parameters (arguments) through which we pass values to a function. They are optional.\n",
    "4. A colon (:) to mark the end of the function header.\n",
    "5. Optional documentation string (docstring) to describe what the function does.\n",
    "6. One or more valid python statements that make up the function body. Statements must have the same indentation level (usually 4 spaces).\n",
    "7. An optional return statement to return a value from the function.\n",
    "\n",
    "#### Example of a function"
   ]
  },
  {
   "cell_type": "code",
   "execution_count": 1,
   "id": "77016f5b",
   "metadata": {
    "id": "77016f5b"
   },
   "outputs": [],
   "source": [
    "def greet(name):\n",
    "    \"\"\"\n",
    "    This function greets to the person \n",
    "    passed in as a parameter.\n",
    "    \"\"\"\n",
    "    print(\"Hello, \" + name + \". Good morning!\")"
   ]
  },
  {
   "cell_type": "code",
   "execution_count": 3,
   "id": "c1724e7c",
   "metadata": {},
   "outputs": [
    {
     "name": "stdout",
     "output_type": "stream",
     "text": [
      "Hello, Tugba. Good morning!\n"
     ]
    }
   ],
   "source": [
    "greet(\"Tugba\")"
   ]
  },
  {
   "cell_type": "markdown",
   "id": "67c774a7",
   "metadata": {
    "id": "67c774a7"
   },
   "source": [
    "### 1.1.1 How to call a function in python?\n",
    "\n",
    "Once we have defined a function, we can call it from another function, program, or even the Python prompt. To call a function we simply type the function name with appropriate parameters."
   ]
  },
  {
   "cell_type": "code",
   "execution_count": 3,
   "id": "862299da",
   "metadata": {
    "id": "862299da",
    "outputId": "d32db949-82ba-4636-eefc-5bd484a260cf"
   },
   "outputs": [
    {
     "name": "stdout",
     "output_type": "stream",
     "text": [
      "Hello, Guido. Good morning!\n"
     ]
    }
   ],
   "source": [
    "greet('Guido')"
   ]
  },
  {
   "cell_type": "markdown",
   "id": "a7a4518f",
   "metadata": {
    "id": "a7a4518f"
   },
   "source": [
    "#### Note: In python, the function definition should always be present before the function call. Otherwise, we will get an error.\n",
    "\n",
    "## 1.2 Docstrings\n",
    "\n",
    "The first string after the function header is called the docstring and is short for documentation string. It is briefly used to explain what a function does.\n",
    "\n",
    "Although optional, documentation is a good programming practice. Unless you can remember what you had for dinner last week, always document your code.\n",
    "\n",
    "In the above example, we have a docstring immediately below the function header. We generally use triple quotes so that docstring can extend up to multiple lines. This string is available to us as the **\\_\\_doc__** attribute of the function.\n",
    "\n",
    "#### Example:\n",
    "\n",
    "Try running the following into the Python shell to see the output."
   ]
  },
  {
   "cell_type": "code",
   "execution_count": 4,
   "id": "6a240f06",
   "metadata": {
    "id": "6a240f06",
    "outputId": "81d4885d-a8fd-4be1-a73d-6de569a4f1de"
   },
   "outputs": [
    {
     "name": "stdout",
     "output_type": "stream",
     "text": [
      "\n",
      "    This function greets to the person \n",
      "    passed in as a parameter.\n",
      "    \n"
     ]
    }
   ],
   "source": [
    "print(greet.__doc__)"
   ]
  },
  {
   "cell_type": "markdown",
   "id": "d0441a25",
   "metadata": {
    "id": "d0441a25"
   },
   "source": [
    "## 1.3 The return statement\n",
    "\n",
    "The return statement is used to exit a function and go back to the place from where it was called.\n",
    "\n",
    "#### Syntax of return\n",
    "\n",
    "> return [expression_list]\n",
    "\n",
    "This statement can contain an expression that gets evaluated and the value is returned. If there is no expression in the statement or the return statement itself is not present inside a function, then the function will return the **None** object.\n",
    "\n",
    "#### Example:"
   ]
  },
  {
   "cell_type": "code",
   "execution_count": 5,
   "id": "df949f30",
   "metadata": {
    "id": "df949f30",
    "outputId": "4ff259ce-f2f4-4893-a15b-6d794b6267ea"
   },
   "outputs": [
    {
     "name": "stdout",
     "output_type": "stream",
     "text": [
      "Hello, Guido. Good morning!\n",
      "None\n"
     ]
    }
   ],
   "source": [
    "print(greet(\"Guido\"))"
   ]
  },
  {
   "cell_type": "markdown",
   "id": "908f8262",
   "metadata": {
    "id": "908f8262"
   },
   "source": [
    "Here, **None** is the returned value since **greet()** directly prints the name and no return statement is used.\n",
    "\n",
    "#### Example of return:"
   ]
  },
  {
   "cell_type": "code",
   "execution_count": 6,
   "id": "96a7980f",
   "metadata": {
    "id": "96a7980f"
   },
   "outputs": [],
   "source": [
    "def absolute_value(num):\n",
    "    \"\"\"\n",
    "    This function returns the absolute \n",
    "    value of the entered number.\n",
    "    \"\"\"\n",
    "    if num >= 0:\n",
    "        return num\n",
    "    else:\n",
    "        return -num"
   ]
  },
  {
   "cell_type": "code",
   "execution_count": 7,
   "id": "44cae4e2",
   "metadata": {
    "id": "44cae4e2",
    "outputId": "3c86032e-f650-453d-a0ae-add5273ab64f"
   },
   "outputs": [
    {
     "name": "stdout",
     "output_type": "stream",
     "text": [
      "2\n",
      "4\n"
     ]
    }
   ],
   "source": [
    "print(absolute_value(2))\n",
    "\n",
    "print(absolute_value(-4))"
   ]
  },
  {
   "cell_type": "markdown",
   "id": "11166468",
   "metadata": {},
   "source": [
    "There are two types of functions: void functions and value returning functions. \n",
    "\n",
    "* When you call a void function, it simply executes the statements it contains and then terminates. \n",
    "\n",
    "* When you call a value-returning function, it executes the statements that it contains, then returns a value back to the statement that called it. (e.g., int, float, input.)"
   ]
  },
  {
   "cell_type": "markdown",
   "id": "fae0d338",
   "metadata": {},
   "source": [
    "### Function names\n",
    "- You cannot use one of Python’s keywords as a function name.\n",
    "- A function name cannot contain spaces.\n",
    "- The first character must be one of the letters a through z, A through Z, or an underscore character (_).\n",
    "- After the first character you may use the letters a through z or A through Z, the digits 0 through 9, or underscores.\n",
    "- Uppercase and lowercase characters are distinct.\n",
    "\n",
    "Because functions perform actions, most programmers prefer to use verbs in function names. For example, a function that calculates gross pay might be named calculate_gross_pay."
   ]
  },
  {
   "cell_type": "markdown",
   "id": "5941ae19",
   "metadata": {
    "id": "5941ae19"
   },
   "source": [
    "### How Function works in Python?"
   ]
  },
  {
   "cell_type": "markdown",
   "id": "F6e15VfZcN-z",
   "metadata": {
    "id": "F6e15VfZcN-z"
   },
   "source": [
    "![rsz_1ekran_resmi_2022-10-16_135807.png](data:image/png;base64,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)"
   ]
  },
  {
   "cell_type": "markdown",
   "id": "053ffa82",
   "metadata": {
    "id": "053ffa82"
   },
   "source": [
    "## 1.4 Scope and lifetime of variables\n",
    "\n",
    "Scope of a variable is the portion of a program where the variable is recognized. Parameters and variables defined inside a function are not visible from outside the function. Hence, they have a local scope.\n",
    "\n",
    "The lifetime of a variable is the period throughout which the variable exists in the memory. The lifetime of variables inside a function is as long as the function executes.\n",
    "\n",
    "They are destroyed once we return from the function. Hence, a function does not remember the value of a variable from its previous calls.\n",
    "\n",
    "Here is an example to illustrate the scope of a variable inside a function."
   ]
  },
  {
   "cell_type": "code",
   "execution_count": 8,
   "id": "de45f8d4",
   "metadata": {
    "id": "de45f8d4",
    "outputId": "6cfa2b2b-05cc-40e8-bc51-5cbe1484639d"
   },
   "outputs": [
    {
     "name": "stdout",
     "output_type": "stream",
     "text": [
      "Value inside function: 10\n",
      "Value outside function is: 20\n"
     ]
    }
   ],
   "source": [
    "def my_func():\n",
    "    x = 10\n",
    "    print(\"Value inside function:\", x)\n",
    "\n",
    "x = 20\n",
    "my_func()\n",
    "print(\"Value outside function:\", x)"
   ]
  },
  {
   "cell_type": "markdown",
   "id": "4e58857f",
   "metadata": {
    "id": "4e58857f"
   },
   "source": [
    "Here, we can see that the value of **x** is 20 initially. Even though the function **my_func()** changed the value of **x** to 10, it did not affect the value outside the function.\n",
    "\n",
    "This is because the variable **x** inside the function is different (local to the function) from the one outside. Although they have the same names, they are two different variables with different scopes.\n",
    "\n",
    "On the other hand, variables outside of the function are visible from inside. They have a global scope.\n",
    "\n",
    "We can read these values from inside the function but cannot change (write) them. In order to modify the value of variables outside the function, they must be declared as global variables using the keyword **global**."
   ]
  },
  {
   "cell_type": "markdown",
   "id": "e1ac8f8b",
   "metadata": {
    "id": "e1ac8f8b"
   },
   "source": [
    "## 1.5 Function arguments\n",
    "\n",
    "We learned about defining a function and calling it. Otherwise, the function call will result in an error. \n",
    "\n",
    "#### Example:"
   ]
  },
  {
   "cell_type": "code",
   "execution_count": 9,
   "id": "2952682e",
   "metadata": {
    "id": "2952682e",
    "outputId": "6f166f31-0f54-468b-a690-f73e72aa4af9"
   },
   "outputs": [
    {
     "name": "stdout",
     "output_type": "stream",
     "text": [
      "Hello Guido, Good afternoon!\n"
     ]
    }
   ],
   "source": [
    "def greet(name, msg):\n",
    "    \"\"\"\n",
    "    This function greets to\n",
    "    the person with the provided message.\n",
    "    \"\"\"\n",
    "    print(\"Hello\", name + ', ' + msg)\n",
    "\n",
    "greet(\"Guido\", \"Good afternoon!\")"
   ]
  },
  {
   "cell_type": "markdown",
   "id": "fb34a0af",
   "metadata": {
    "id": "fb34a0af"
   },
   "source": [
    "Here, the function **greet()** has two parameters.\n",
    "\n",
    "Since we have called this function with two arguments, it runs smoothly and we do not get any error.\n",
    "\n",
    "If we call it with a different number of arguments, the interpreter will show an error message. Below is a call to this function with one and no arguments along with their respective error messages."
   ]
  },
  {
   "cell_type": "code",
   "execution_count": 10,
   "id": "ecceff04",
   "metadata": {
    "id": "ecceff04",
    "outputId": "9ea1cfe8-44c4-41de-d435-a0f075af09c2"
   },
   "outputs": [
    {
     "ename": "TypeError",
     "evalue": "greet() missing 1 required positional argument: 'msg'",
     "output_type": "error",
     "traceback": [
      "\u001b[0;31m---------------------------------------------------------------------------\u001b[0m",
      "\u001b[0;31mTypeError\u001b[0m                                 Traceback (most recent call last)",
      "Input \u001b[0;32mIn [10]\u001b[0m, in \u001b[0;36m<cell line: 1>\u001b[0;34m()\u001b[0m\n\u001b[0;32m----> 1\u001b[0m \u001b[43mgreet\u001b[49m\u001b[43m(\u001b[49m\u001b[38;5;124;43m\"\u001b[39;49m\u001b[38;5;124;43mMonica\u001b[39;49m\u001b[38;5;124;43m\"\u001b[39;49m\u001b[43m)\u001b[49m\n",
      "\u001b[0;31mTypeError\u001b[0m: greet() missing 1 required positional argument: 'msg'"
     ]
    }
   ],
   "source": [
    "greet(\"Monica\") # only one argument"
   ]
  },
  {
   "cell_type": "code",
   "execution_count": 11,
   "id": "318fa6a7",
   "metadata": {
    "id": "318fa6a7",
    "outputId": "5537fb1c-d4a1-4952-cfec-95832c5cf597"
   },
   "outputs": [
    {
     "ename": "TypeError",
     "evalue": "greet() missing 2 required positional arguments: 'name' and 'msg'",
     "output_type": "error",
     "traceback": [
      "\u001b[0;31m---------------------------------------------------------------------------\u001b[0m",
      "\u001b[0;31mTypeError\u001b[0m                                 Traceback (most recent call last)",
      "Input \u001b[0;32mIn [11]\u001b[0m, in \u001b[0;36m<cell line: 1>\u001b[0;34m()\u001b[0m\n\u001b[0;32m----> 1\u001b[0m \u001b[43mgreet\u001b[49m\u001b[43m(\u001b[49m\u001b[43m)\u001b[49m\n",
      "\u001b[0;31mTypeError\u001b[0m: greet() missing 2 required positional arguments: 'name' and 'msg'"
     ]
    }
   ],
   "source": [
    "greet() # no arguments"
   ]
  },
  {
   "cell_type": "markdown",
   "id": "d31708ae",
   "metadata": {
    "id": "d31708ae"
   },
   "source": [
    "## 1.6 Variable function arguments\n",
    "\n",
    "Up until now, functions had a fixed number of arguments. In Python, there are other ways to define a function that can take variable number of arguments.\n",
    "\n",
    "Three different forms of this type are described below.\n",
    "\n",
    "#### Python Default Arguments\n",
    "\n",
    "Function arguments can have default values in Python.\n",
    "\n",
    "We can provide a default value to an argument by using the assignment operator (=).\n",
    "\n",
    "#### Example:"
   ]
  },
  {
   "cell_type": "code",
   "execution_count": 10,
   "id": "09d4380b",
   "metadata": {
    "id": "09d4380b"
   },
   "outputs": [],
   "source": [
    "def greet(name, msg=\"Good morning!\"):\n",
    "    \"\"\"\n",
    "    This function greets to\n",
    "    the person with the\n",
    "    provided message.\n",
    "\n",
    "    If the message is not provided,\n",
    "    it defaults to \"Good morning!\"\n",
    "    \"\"\"\n",
    "    print(\"Hello\", name + ', ' + msg)"
   ]
  },
  {
   "cell_type": "code",
   "execution_count": 11,
   "id": "41fbf613",
   "metadata": {
    "id": "41fbf613",
    "outputId": "8558c125-d394-4b41-8a96-93007e3dc076"
   },
   "outputs": [
    {
     "name": "stdout",
     "output_type": "stream",
     "text": [
      "Hello Kate, Good morning!\n"
     ]
    }
   ],
   "source": [
    "greet(\"Kate\")"
   ]
  },
  {
   "cell_type": "code",
   "execution_count": 12,
   "id": "08df6381",
   "metadata": {
    "id": "08df6381",
    "outputId": "37887a1c-2585-4839-bc63-6f33e3e8cb11"
   },
   "outputs": [
    {
     "name": "stdout",
     "output_type": "stream",
     "text": [
      "Hello Bruce, How do you do?\n"
     ]
    }
   ],
   "source": [
    "greet(\"Bruce\", \"How do you do?\")"
   ]
  },
  {
   "cell_type": "markdown",
   "id": "e94a6ea7",
   "metadata": {
    "id": "e94a6ea7"
   },
   "source": [
    "In this function, the parameter **name** does not have a default value and is required (mandatory) during a call.\n",
    "\n",
    "On the other hand, the parameter **msg** has a default value of **\"Good morning!\"**. So, it is optional during a call. If a value is provided, it will overwrite the default value.\n",
    "\n",
    "Any number of arguments in a function can have a default value. But once we have a default argument, all the arguments to its right must also have default values.\n",
    "\n",
    "This means to say, non-default arguments cannot follow default arguments. \n",
    "\n",
    "For example, if we had defined the function header above as:"
   ]
  },
  {
   "cell_type": "code",
   "execution_count": 15,
   "id": "337e6424",
   "metadata": {
    "id": "337e6424",
    "outputId": "54f09847-b14d-4889-f023-27007ad2890d"
   },
   "outputs": [
    {
     "ename": "SyntaxError",
     "evalue": "non-default argument follows default argument (454440813.py, line 1)",
     "output_type": "error",
     "traceback": [
      "\u001b[0;36m  Input \u001b[0;32mIn [15]\u001b[0;36m\u001b[0m\n\u001b[0;31m    def greet(msg = \"Good morning!\", name):\u001b[0m\n\u001b[0m                                         ^\u001b[0m\n\u001b[0;31mSyntaxError\u001b[0m\u001b[0;31m:\u001b[0m non-default argument follows default argument\n"
     ]
    }
   ],
   "source": [
    "def greet(msg = \"Good morning!\", name):"
   ]
  },
  {
   "cell_type": "markdown",
   "id": "9188efbe",
   "metadata": {
    "id": "9188efbe"
   },
   "source": [
    "We would get an error.\n",
    "\n",
    "## 1.7 Python keyword arguments\n",
    "\n",
    "When we call a function with some values, these values get assigned to the arguments according to their position.\n",
    "\n",
    "For example, in the above function **greet()**, when we called it as **greet(\"Bruce\", \"How do you do?\")**, the value **\"Bruce\"** gets assigned to the argument name and similarly **\"How do you do?\"** to msg.\n",
    "\n",
    "Python allows functions to be called using keyword arguments. When we call functions in this way, the order (position) of the arguments can be changed. Following calls to the above function are all valid and produce the same result."
   ]
  },
  {
   "cell_type": "code",
   "execution_count": 13,
   "id": "662781b1",
   "metadata": {
    "id": "662781b1",
    "outputId": "350c71c4-fcb9-43b9-a506-212fdf364030"
   },
   "outputs": [
    {
     "name": "stdout",
     "output_type": "stream",
     "text": [
      "Hello Bruce, How do you do?\n"
     ]
    }
   ],
   "source": [
    "# 2 keyword arguments\n",
    "greet(name = \"Bruce\",msg = \"How do you do?\")      "
   ]
  },
  {
   "cell_type": "code",
   "execution_count": 14,
   "id": "926232e7",
   "metadata": {
    "id": "926232e7",
    "outputId": "a1e7553a-2fd4-4619-cbd7-6933a4e24b38"
   },
   "outputs": [
    {
     "name": "stdout",
     "output_type": "stream",
     "text": [
      "Hello Bruce, How do you do?\n"
     ]
    }
   ],
   "source": [
    "# 2 keyword arguments (out of order)\n",
    "greet(msg = \"How do you do?\",name = \"Bruce\") "
   ]
  },
  {
   "cell_type": "code",
   "execution_count": 15,
   "id": "68255307",
   "metadata": {
    "id": "68255307",
    "outputId": "0b7cd930-e94b-44b6-b9df-2b1b6cc7e8f8"
   },
   "outputs": [
    {
     "name": "stdout",
     "output_type": "stream",
     "text": [
      "Hello Bruce, How do you do?\n"
     ]
    }
   ],
   "source": [
    "# 1 positional, 1 keyword argument\n",
    "greet(\"Bruce\", msg = \"How do you do?\") "
   ]
  },
  {
   "cell_type": "markdown",
   "id": "a78fe997",
   "metadata": {
    "id": "a78fe997"
   },
   "source": [
    "As we can see, we can mix positional arguments with keyword arguments during a function call. But we must keep in mind that keyword arguments must follow positional arguments.\n",
    "\n",
    "Having a positional argument after keyword arguments will result in errors. \n",
    "\n",
    "#### Example:"
   ]
  },
  {
   "cell_type": "code",
   "execution_count": 19,
   "id": "2649aefb",
   "metadata": {
    "id": "2649aefb",
    "outputId": "a02fb0ca-0074-4620-efc0-a1c3d0f4bb25"
   },
   "outputs": [
    {
     "ename": "SyntaxError",
     "evalue": "positional argument follows keyword argument (3531922891.py, line 1)",
     "output_type": "error",
     "traceback": [
      "\u001b[0;36m  Input \u001b[0;32mIn [19]\u001b[0;36m\u001b[0m\n\u001b[0;31m    greet(name=\"Bruce\",\"How do you do?\")\u001b[0m\n\u001b[0m                                       ^\u001b[0m\n\u001b[0;31mSyntaxError\u001b[0m\u001b[0;31m:\u001b[0m positional argument follows keyword argument\n"
     ]
    }
   ],
   "source": [
    "greet(name=\"Bruce\",\"How do you do?\")"
   ]
  },
  {
   "cell_type": "markdown",
   "id": "46abc198",
   "metadata": {
    "id": "46abc198"
   },
   "source": [
    "We would get an error.\n",
    "\n",
    "## 1.8 Python arbitrary arguments\n",
    "\n",
    "Sometimes, we do not know in advance the number of arguments that will be passed into a function. Python allows us to handle this kind of situation through function calls with an arbitrary number of arguments.\n",
    "\n",
    "In the function definition, we use an asterisk (\\*) before the parameter name to denote this kind of argument. \n",
    "\n",
    "#### Example:"
   ]
  },
  {
   "cell_type": "code",
   "execution_count": 16,
   "id": "875b22d7",
   "metadata": {
    "id": "875b22d7"
   },
   "outputs": [],
   "source": [
    "def greet(*names):\n",
    "    \"\"\"\n",
    "    This function greets all\n",
    "    the person in the names tuple.\n",
    "    \"\"\"\n",
    "    for name in names:\n",
    "        print(\"Hello\", name)"
   ]
  },
  {
   "cell_type": "code",
   "execution_count": 17,
   "id": "0fb2bcc4",
   "metadata": {
    "id": "0fb2bcc4",
    "outputId": "315556a8-a71f-4424-c2dc-59696dc723a4"
   },
   "outputs": [
    {
     "name": "stdout",
     "output_type": "stream",
     "text": [
      "Hello Monica\n",
      "Hello Luke\n",
      "Hello Steve\n",
      "Hello John\n"
     ]
    }
   ],
   "source": [
    "greet(\"Monica\", \"Luke\", \"Steve\", \"John\")"
   ]
  },
  {
   "cell_type": "markdown",
   "id": "d76a0d7c",
   "metadata": {},
   "source": [
    "## The pass statement \n",
    "\n",
    "- It is used as a placeholder for future code.\n",
    "\n",
    "- When the pass statement is executed, nothing happens, but you avoid getting an error when empty code is not allowed.\n",
    "\n",
    "- Empty code is not allowed in loops, function definitions, class definitions, or in if statements.\n",
    "\n",
    "- Sometimes when you are initially writing a program’s code, you know the names of the functions you plan to use, but you might not know all the details of the code that will be in those functions. \n",
    "\n",
    "- When this is the case, you can use the pass keyword to create empty functions. \n",
    "\n",
    "- Later, when the details of the code are known, you can come back to the empty functions and replace the pass keyword with meaningful code."
   ]
  },
  {
   "cell_type": "code",
   "execution_count": 18,
   "id": "c46a45dd",
   "metadata": {},
   "outputs": [],
   "source": [
    "def myfunction():\n",
    "  pass"
   ]
  },
  {
   "cell_type": "markdown",
   "id": "c31414b1",
   "metadata": {
    "id": "c31414b1"
   },
   "source": [
    "\n",
    "\n",
    "## 1.9 Python recursive function\n",
    "\n",
    "### 1.9.1 What is recursion ?\n",
    "\n",
    "Recursion is the process of defining something in terms of itself.\n",
    "\n",
    "A physical world example would be to place two parallel mirrors facing each other. Any object in between them would be reflected recursively.\n",
    "\n",
    "In Python, we know that a function can call other functions. It is even possible for the function to call itself. These types of construct are termed as recursive functions.\n",
    "\n",
    "The following image shows the working of a recursive function called **recurse**."
   ]
  },
  {
   "cell_type": "markdown",
   "id": "5f7a8a4e",
   "metadata": {
    "id": "5f7a8a4e"
   },
   "source": [
    "![rsz_ekran_resmi_2022-10-16_143850.png](data:image/png;base64,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)"
   ]
  },
  {
   "cell_type": "markdown",
   "id": "f663a81a",
   "metadata": {
    "id": "f663a81a"
   },
   "source": [
    "Following is an example of a recursive function to find the factorial of an integer.\n",
    "\n",
    "Factorial of a number is the product of all the integers from 1 to that number. \n",
    "\n",
    "For example, the factorial of 6 (denoted as 6!) is 1\\*2\\*3\\*4\\*5\\*6 = 720."
   ]
  },
  {
   "cell_type": "code",
   "execution_count": 19,
   "id": "8f37ad69",
   "metadata": {
    "id": "8f37ad69"
   },
   "outputs": [],
   "source": [
    "def factorial(x):\n",
    "    \"\"\"\n",
    "    This is a recursive function\n",
    "    to find the factorial of an integer.\n",
    "    \"\"\"\n",
    "    if x <= 1:\n",
    "        return 1\n",
    "    else:\n",
    "        return (x * factorial(x-1))"
   ]
  },
  {
   "cell_type": "code",
   "execution_count": 20,
   "id": "e4dead34",
   "metadata": {
    "id": "e4dead34",
    "outputId": "7246cae8-0f30-4a30-88c3-92cf02c00ed1"
   },
   "outputs": [
    {
     "name": "stdout",
     "output_type": "stream",
     "text": [
      "The factorial of 3 = 6\n"
     ]
    }
   ],
   "source": [
    "num = 3\n",
    "print(\"The factorial of\", num, \"=\", factorial(num))"
   ]
  },
  {
   "cell_type": "markdown",
   "id": "295dfee3",
   "metadata": {
    "id": "295dfee3"
   },
   "source": [
    "In the above example, **factorial()** is a recursive function as it calls itself.\n",
    "\n",
    "When we call this function with a positive integer, it will recursively call itself by decreasing the number.\n",
    "\n",
    "Each function multiplies the number with the factorial of the number below it until it is equal to one. This recursive call can be explained in the following steps."
   ]
  },
  {
   "cell_type": "markdown",
   "id": "3524bd6d",
   "metadata": {
    "id": "3524bd6d"
   },
   "source": [
    "![rsz_ekran_resmi_2022-10-16_143932.png](data:image/png;base64,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)"
   ]
  },
  {
   "cell_type": "markdown",
   "id": "66139b9d",
   "metadata": {
    "id": "66139b9d"
   },
   "source": [
    "Let's look at an image that shows a step-by-step process of what is going on:"
   ]
  },
  {
   "cell_type": "markdown",
   "id": "73b4b379",
   "metadata": {
    "id": "73b4b379"
   },
   "source": [
    "![rsz_1ekran_resmi_2022-10-16_144011.png](data:image/png;base64,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)"
   ]
  },
  {
   "cell_type": "markdown",
   "id": "ba211d55",
   "metadata": {
    "id": "ba211d55"
   },
   "source": [
    "Our recursion ends when the number reduces to 1. This is called the base condition.\n",
    "\n",
    "Every recursive function must have a base condition that stops the recursion or else the function calls itself infinitely.\n",
    "\n",
    "The Python interpreter limits the depths of recursion to help avoid infinite recursions, resulting in stack overflows.\n",
    "\n",
    "By default, the maximum depth of recursion is **1000**. If the limit is crossed, it results in **RecursionError**. Let's look at one such condition."
   ]
  },
  {
   "cell_type": "code",
   "execution_count": 24,
   "id": "7e1fbc26",
   "metadata": {
    "id": "7e1fbc26"
   },
   "outputs": [],
   "source": [
    "def recursor():\n",
    "    recursor()"
   ]
  },
  {
   "cell_type": "code",
   "execution_count": 25,
   "id": "66d201a7",
   "metadata": {
    "id": "66d201a7",
    "outputId": "c1d2c1d3-1cc8-4e32-c352-821e3cf7a6d4"
   },
   "outputs": [
    {
     "ename": "RecursionError",
     "evalue": "maximum recursion depth exceeded",
     "output_type": "error",
     "traceback": [
      "\u001b[0;31m---------------------------------------------------------------------------\u001b[0m",
      "\u001b[0;31mRecursionError\u001b[0m                            Traceback (most recent call last)",
      "Input \u001b[0;32mIn [25]\u001b[0m, in \u001b[0;36m<cell line: 1>\u001b[0;34m()\u001b[0m\n\u001b[0;32m----> 1\u001b[0m \u001b[43mrecursor\u001b[49m\u001b[43m(\u001b[49m\u001b[43m)\u001b[49m\n",
      "Input \u001b[0;32mIn [24]\u001b[0m, in \u001b[0;36mrecursor\u001b[0;34m()\u001b[0m\n\u001b[1;32m      1\u001b[0m \u001b[38;5;28;01mdef\u001b[39;00m \u001b[38;5;21mrecursor\u001b[39m():\n\u001b[0;32m----> 2\u001b[0m     \u001b[43mrecursor\u001b[49m\u001b[43m(\u001b[49m\u001b[43m)\u001b[49m\n",
      "Input \u001b[0;32mIn [24]\u001b[0m, in \u001b[0;36mrecursor\u001b[0;34m()\u001b[0m\n\u001b[1;32m      1\u001b[0m \u001b[38;5;28;01mdef\u001b[39;00m \u001b[38;5;21mrecursor\u001b[39m():\n\u001b[0;32m----> 2\u001b[0m     \u001b[43mrecursor\u001b[49m\u001b[43m(\u001b[49m\u001b[43m)\u001b[49m\n",
      "    \u001b[0;31m[... skipping similar frames: recursor at line 2 (2970 times)]\u001b[0m\n",
      "Input \u001b[0;32mIn [24]\u001b[0m, in \u001b[0;36mrecursor\u001b[0;34m()\u001b[0m\n\u001b[1;32m      1\u001b[0m \u001b[38;5;28;01mdef\u001b[39;00m \u001b[38;5;21mrecursor\u001b[39m():\n\u001b[0;32m----> 2\u001b[0m     \u001b[43mrecursor\u001b[49m\u001b[43m(\u001b[49m\u001b[43m)\u001b[49m\n",
      "\u001b[0;31mRecursionError\u001b[0m: maximum recursion depth exceeded"
     ]
    }
   ],
   "source": [
    "recursor()"
   ]
  },
  {
   "cell_type": "markdown",
   "id": "7726ee51",
   "metadata": {
    "id": "7726ee51"
   },
   "source": [
    "### Advantages of Recursion\n",
    "\n",
    "1. Recursive functions make the code look clean and elegant.\n",
    "2. A complex task can be broken down into simpler sub-problems using recursion.\n",
    "3. Sequence generation is easier with recursion than using some nested iteration.\n",
    "\n",
    "### Disadvantages of Recursion\n",
    "\n",
    "1. Sometimes the logic behind recursion is hard to follow through.\n",
    "2. Recursive calls are expensive (inefficient) as they take up a lot of memory and time.\n",
    "3. Recursive functions are hard to debug."
   ]
  },
  {
   "cell_type": "markdown",
   "id": "961dadd9",
   "metadata": {
    "id": "ebbebc5c"
   },
   "source": [
    "## 1.10 Python anonymous / lambda function\n",
    "\n",
    "### 1.10.1 What are lambda functions in python?\n",
    "\n",
    "In Python, an anonymous function is a function that is defined without a name.\n",
    "\n",
    "While normal functions are defined using the **def** keyword in Python, anonymous functions are defined using the lambda keyword.\n",
    "\n",
    "Hence, anonymous functions are also called **lambda** functions.\n",
    "\n",
    "### 1.10.2 How to use lambda functions in python?\n",
    "\n",
    "A lambda function in python has the following syntax.\n",
    "\n",
    "#### Syntax of lambda function in python\n",
    "\n",
    "> lambda arguments: expression\n",
    "\n",
    "- Lambda functions can have any number of arguments but only one expression. \n",
    "- The expression is evaluated and returned. Lambda functions can be used wherever function objects are required.\n",
    "\n",
    "#### Example:"
   ]
  },
  {
   "cell_type": "code",
   "execution_count": 26,
   "id": "5d2356cd",
   "metadata": {},
   "outputs": [],
   "source": [
    "double = lambda x: x * 2"
   ]
  },
  {
   "cell_type": "code",
   "execution_count": 27,
   "id": "23afe63c",
   "metadata": {},
   "outputs": [
    {
     "name": "stdout",
     "output_type": "stream",
     "text": [
      "10\n"
     ]
    }
   ],
   "source": [
    "print(double(5))"
   ]
  },
  {
   "cell_type": "markdown",
   "id": "2be8a656",
   "metadata": {},
   "source": [
    "- In the above program, **lambda x: x * 2** is the lambda function. \n",
    "- Here x is the argument and **x * 2** is the expression that gets evaluated and returned.\n",
    "\n",
    "- This function has no name. \n",
    "- It returns a function object which is assigned to the identifier double. \n",
    "- We can now call it as a normal function."
   ]
  },
  {
   "cell_type": "code",
   "execution_count": 21,
   "id": "bbbc89f3",
   "metadata": {},
   "outputs": [],
   "source": [
    "double = lambda x: x * 2"
   ]
  },
  {
   "cell_type": "code",
   "execution_count": 22,
   "id": "0d75c554",
   "metadata": {},
   "outputs": [],
   "source": [
    "def double(x):\n",
    "    return x * 2"
   ]
  },
  {
   "cell_type": "code",
   "execution_count": 23,
   "id": "6a41808d",
   "metadata": {},
   "outputs": [
    {
     "data": {
      "text/plain": [
       "6"
      ]
     },
     "execution_count": 23,
     "metadata": {},
     "output_type": "execute_result"
    }
   ],
   "source": [
    "double(3)"
   ]
  },
  {
   "cell_type": "markdown",
   "id": "421a869a",
   "metadata": {},
   "source": [
    "### 1.10.3 Use of Lambda Function in python\n",
    "\n",
    "We use lambda functions when we require a nameless function for a short period of time.\n",
    "\n",
    "In Python, we generally use it as an argument to a higher-order function (a function that takes in other functions as arguments). Lambda functions are used along with built-in functions like **filter()**, **map()** etc.\n",
    "\n",
    "#### Example use with filter()\n",
    "\n",
    "The **filter()** function in Python takes in a function and a list as arguments.\n",
    "\n",
    "The function is called with all the items in the list and a new list is returned which contains items for which the function evaluates to True.\n",
    "\n",
    "Here is an example use of **filter()** function to filter out only even numbers from a list."
   ]
  },
  {
   "cell_type": "code",
   "execution_count": 30,
   "id": "6b374945",
   "metadata": {},
   "outputs": [
    {
     "name": "stdout",
     "output_type": "stream",
     "text": [
      "[4, 6, 8, 12]\n"
     ]
    }
   ],
   "source": [
    "my_list = [1, 5, 4, 6, 8, 11, 3, 12]\n",
    "new_list = list(filter(lambda x: (x % 2 == 0) , my_list))\n",
    "print(new_list)"
   ]
  },
  {
   "cell_type": "code",
   "execution_count": 24,
   "id": "21fc7a1c",
   "metadata": {},
   "outputs": [
    {
     "name": "stdout",
     "output_type": "stream",
     "text": [
      "filter(function or None, iterable) --> filter object\n",
      "\n",
      "Return an iterator yielding those items of iterable for which function(item)\n",
      "is true. If function is None, return the items that are true.\n"
     ]
    }
   ],
   "source": [
    "print(filter.__doc__)"
   ]
  },
  {
   "cell_type": "markdown",
   "id": "535e9f30",
   "metadata": {},
   "source": [
    "### Example use with map()\n",
    "\n",
    "The **map()** function in Python takes in a function and a list.\n",
    "\n",
    "The function is called with all the items in the list and a new list is returned which contains items returned by that function for each item.\n",
    "\n",
    "Here is an example use of **map()** function to double all the items in a list."
   ]
  },
  {
   "cell_type": "code",
   "execution_count": 31,
   "id": "d855d03a",
   "metadata": {},
   "outputs": [
    {
     "name": "stdout",
     "output_type": "stream",
     "text": [
      "[2, 10, 8, 12, 16, 22, 6, 24]\n"
     ]
    }
   ],
   "source": [
    "my_list = [1, 5, 4, 6, 8, 11, 3, 12]\n",
    "new_list = list(map(lambda x: x * 2 , my_list))\n",
    "print(new_list)"
   ]
  },
  {
   "cell_type": "markdown",
   "id": "3d324f93",
   "metadata": {},
   "source": [
    "## 1.11 Global, local and nonlocal variables\n",
    "\n",
    "### 1.11.1 Global variables\n",
    "\n",
    "In Python, a variable declared outside of the function or in global scope is known as a global variable. This means that a global variable can be accessed inside or outside of the function.\n",
    "\n",
    "Let's see an example of how a global variable is created in Python."
   ]
  },
  {
   "cell_type": "code",
   "execution_count": 32,
   "id": "5864886f",
   "metadata": {},
   "outputs": [],
   "source": [
    "x = \"global\"\n",
    "\n",
    "def foo():\n",
    "    print(\"x inside:\", x)"
   ]
  },
  {
   "cell_type": "code",
   "execution_count": 33,
   "id": "fd905e74",
   "metadata": {},
   "outputs": [
    {
     "name": "stdout",
     "output_type": "stream",
     "text": [
      "x inside: global\n",
      "x outside: global\n"
     ]
    }
   ],
   "source": [
    "foo()\n",
    "print(\"x outside:\", x)"
   ]
  },
  {
   "cell_type": "markdown",
   "id": "293e8d82",
   "metadata": {},
   "source": [
    "In the above code, we created **x** as a global variable and defined a **foo()** to print the global variable **x**. Finally, we call the **foo()** which will print the value of **x**.\n",
    "\n",
    "What if you want to change the value of x inside a function?"
   ]
  },
  {
   "cell_type": "code",
   "execution_count": 34,
   "id": "3b3221dc",
   "metadata": {},
   "outputs": [],
   "source": [
    "x = \"global\"\n",
    "\n",
    "def foo():\n",
    "    x = x * 2\n",
    "    print(x)"
   ]
  },
  {
   "cell_type": "code",
   "execution_count": 35,
   "id": "64ae5793",
   "metadata": {},
   "outputs": [
    {
     "ename": "UnboundLocalError",
     "evalue": "local variable 'x' referenced before assignment",
     "output_type": "error",
     "traceback": [
      "\u001b[0;31m---------------------------------------------------------------------------\u001b[0m",
      "\u001b[0;31mUnboundLocalError\u001b[0m                         Traceback (most recent call last)",
      "Input \u001b[0;32mIn [35]\u001b[0m, in \u001b[0;36m<cell line: 1>\u001b[0;34m()\u001b[0m\n\u001b[0;32m----> 1\u001b[0m \u001b[43mfoo\u001b[49m\u001b[43m(\u001b[49m\u001b[43m)\u001b[49m\n",
      "Input \u001b[0;32mIn [34]\u001b[0m, in \u001b[0;36mfoo\u001b[0;34m()\u001b[0m\n\u001b[1;32m      3\u001b[0m \u001b[38;5;28;01mdef\u001b[39;00m \u001b[38;5;21mfoo\u001b[39m():\n\u001b[0;32m----> 4\u001b[0m     x \u001b[38;5;241m=\u001b[39m \u001b[43mx\u001b[49m \u001b[38;5;241m*\u001b[39m \u001b[38;5;241m2\u001b[39m\n\u001b[1;32m      5\u001b[0m     \u001b[38;5;28mprint\u001b[39m(x)\n",
      "\u001b[0;31mUnboundLocalError\u001b[0m: local variable 'x' referenced before assignment"
     ]
    }
   ],
   "source": [
    "foo()"
   ]
  },
  {
   "cell_type": "markdown",
   "id": "40bfd0e8",
   "metadata": {},
   "source": [
    "The output shows an error because Python treats **x** as a local variable and **x** is also not defined inside **foo()**.\n",
    "\n",
    "To make this work, we use the global keyword.\n",
    "\n",
    "### 1.11.2 Local variables\n",
    "\n",
    "A variable declared inside the function's body or in the local scope is known as a local variable."
   ]
  },
  {
   "cell_type": "code",
   "execution_count": 36,
   "id": "4160b48e",
   "metadata": {},
   "outputs": [],
   "source": [
    "def foo():\n",
    "    y = \"local\""
   ]
  },
  {
   "cell_type": "code",
   "execution_count": 37,
   "id": "d6616d96",
   "metadata": {},
   "outputs": [
    {
     "ename": "NameError",
     "evalue": "name 'y' is not defined",
     "output_type": "error",
     "traceback": [
      "\u001b[0;31m---------------------------------------------------------------------------\u001b[0m",
      "\u001b[0;31mNameError\u001b[0m                                 Traceback (most recent call last)",
      "Input \u001b[0;32mIn [37]\u001b[0m, in \u001b[0;36m<cell line: 2>\u001b[0;34m()\u001b[0m\n\u001b[1;32m      1\u001b[0m foo()\n\u001b[0;32m----> 2\u001b[0m \u001b[38;5;28mprint\u001b[39m(\u001b[43my\u001b[49m)\n",
      "\u001b[0;31mNameError\u001b[0m: name 'y' is not defined"
     ]
    }
   ],
   "source": [
    "foo()\n",
    "print(y)"
   ]
  },
  {
   "cell_type": "markdown",
   "id": "d384ff21",
   "metadata": {},
   "source": [
    "The output shows an error because we are trying to access a local variable **y** in a global scope whereas the local variable only works inside **foo()** or local scope.\n",
    "\n",
    "#### Example:\n",
    "\n",
    "Normally, we declare a variable inside the function to create a local variable."
   ]
  },
  {
   "cell_type": "code",
   "execution_count": 38,
   "id": "29f0ec15",
   "metadata": {},
   "outputs": [],
   "source": [
    "def foo():\n",
    "    y = \"local\"\n",
    "    print(y)"
   ]
  },
  {
   "cell_type": "code",
   "execution_count": 39,
   "id": "ba6474e1",
   "metadata": {},
   "outputs": [
    {
     "name": "stdout",
     "output_type": "stream",
     "text": [
      "local\n"
     ]
    }
   ],
   "source": [
    "foo()"
   ]
  },
  {
   "cell_type": "markdown",
   "id": "5f8f88c4",
   "metadata": {},
   "source": [
    "### Global and local variables\n",
    "\n",
    "Here, we will show how to use global variables and local variables in the same code.\n",
    "\n",
    "#### Example: Using Global and Local variables in the same code,"
   ]
  },
  {
   "cell_type": "code",
   "execution_count": 40,
   "id": "d4fae834",
   "metadata": {},
   "outputs": [],
   "source": [
    "x = \"global \"\n",
    "\n",
    "def foo():\n",
    "    global x\n",
    "    y = \"local\"\n",
    "    x = x * 2\n",
    "    print(x)\n",
    "    print(y)"
   ]
  },
  {
   "cell_type": "code",
   "execution_count": 41,
   "id": "5efe7aa5",
   "metadata": {},
   "outputs": [
    {
     "name": "stdout",
     "output_type": "stream",
     "text": [
      "global global \n",
      "local\n"
     ]
    }
   ],
   "source": [
    "foo()"
   ]
  },
  {
   "cell_type": "markdown",
   "id": "696a0044",
   "metadata": {},
   "source": [
    "In the above code, we declare **x** as a **global** and **y** as a **local** variable in the **foo()**. Then, we use multiplication operator \\* to modify the global variable **x** and we print both **x** and **y**.\n",
    "\n",
    "After calling the **foo()**, the value of **x** becomes global global because we used the **x * 2** to print two times global. After that, we print the value of local variable **y** i.e local.\n",
    "\n",
    "#### Example: Global variable and Local variable with same name"
   ]
  },
  {
   "cell_type": "code",
   "execution_count": 42,
   "id": "70452c3d",
   "metadata": {},
   "outputs": [],
   "source": [
    "x = 5\n",
    "\n",
    "def foo():\n",
    "    x = 10\n",
    "    print(\"local x:\", x)"
   ]
  },
  {
   "cell_type": "code",
   "execution_count": 43,
   "id": "68aa6be6",
   "metadata": {},
   "outputs": [
    {
     "name": "stdout",
     "output_type": "stream",
     "text": [
      "local x: 10\n",
      "global x: 5\n"
     ]
    }
   ],
   "source": [
    "foo()\n",
    "print(\"global x:\", x)"
   ]
  },
  {
   "cell_type": "markdown",
   "id": "0db8ddc1",
   "metadata": {},
   "source": [
    "In the above code, we used the same name **x** for both global variable and local variable. We get a different result when we print the same variable because the variable is declared in both scopes, i.e. the local scope inside **foo()** and global scope outside **foo()**.\n",
    "\n",
    "When we print the variable inside **foo()** it outputs **local x: 10**. This is called the local scope of the variable.\n",
    "\n",
    "Similarly, when we print the variable outside the **foo()**, it outputs **global x: 5**. This is called the global scope of the variable.\n",
    "\n",
    "## 1.11.3 Nonlocal variables\n",
    "\n",
    "Nonlocal variables are used in nested functions whose local scope is not defined. This means that the variable can be neither in the local nor the global scope.\n",
    "\n",
    "Let's see an example of how a nonlocal variable is used in Python.\n",
    "\n",
    "We use nonlocal keywords to create nonlocal variables.\n",
    "\n",
    "Example: Create a nonlocal variable"
   ]
  },
  {
   "cell_type": "code",
   "execution_count": 44,
   "id": "45c5c228",
   "metadata": {},
   "outputs": [],
   "source": [
    "def outer():\n",
    "    x = \"local\"\n",
    "\n",
    "    def inner():\n",
    "        nonlocal x\n",
    "        x = \"nonlocal\"\n",
    "        print(\"inner:\", x)\n",
    "\n",
    "    inner()\n",
    "    print(\"outer:\", x)"
   ]
  },
  {
   "cell_type": "code",
   "execution_count": 45,
   "id": "c55d4e9b",
   "metadata": {},
   "outputs": [
    {
     "name": "stdout",
     "output_type": "stream",
     "text": [
      "inner: nonlocal\n",
      "outer: nonlocal\n"
     ]
    }
   ],
   "source": [
    "outer()"
   ]
  },
  {
   "cell_type": "markdown",
   "id": "fddd6d4a",
   "metadata": {},
   "source": [
    "In the above code, there is a nested **inner()** function. We use nonlocal keywords to create a nonlocal variable. The **inner()** function is defined in the scope of another function **outer()**."
   ]
  },
  {
   "cell_type": "markdown",
   "id": "a90f490c",
   "metadata": {},
   "source": [
    "## 1.12 Global keyword\n",
    "\n",
    "### 1.12.1 What is the global keyword ?\n",
    "\n",
    "In Python, **global** keyword allows you to modify the variable outside of the current scope. It is used to create a global variable and make changes to the variable in a local context.\n",
    "\n",
    "#### Rules of global keyword\n",
    "\n",
    "The basic rules for **global** keyword in Python are:\n",
    "\n",
    "- When we create a variable inside a function, it is **local** by default.\n",
    "- When we define a variable outside of a function, it is **global** by default. You don't have to use **global** keyword.\n",
    "- We use **global** keyword to read and write a **global** variable inside a function.\n",
    "- Use of **global** keyword outside a function has no effect.\n",
    "\n",
    "### 1.12.2 Use of global keyword\n",
    "\n",
    "#### Example: Accessing global variable from inside a function"
   ]
  },
  {
   "cell_type": "code",
   "execution_count": 46,
   "id": "4da521ff",
   "metadata": {},
   "outputs": [],
   "source": [
    "c = 1 # global variable\n",
    "\n",
    "def add():\n",
    "    print(c)"
   ]
  },
  {
   "cell_type": "code",
   "execution_count": 47,
   "id": "6864b27b",
   "metadata": {},
   "outputs": [
    {
     "name": "stdout",
     "output_type": "stream",
     "text": [
      "1\n"
     ]
    }
   ],
   "source": [
    "add()"
   ]
  },
  {
   "cell_type": "markdown",
   "id": "d872abb1",
   "metadata": {},
   "source": [
    "However, we may have some scenarios where we need to modify the **global** variable from inside a function.\n",
    "\n",
    "#### Example: Modifying global variable from inside the function"
   ]
  },
  {
   "cell_type": "code",
   "execution_count": 48,
   "id": "abce5e31",
   "metadata": {},
   "outputs": [],
   "source": [
    "c = 1 # global variable\n",
    "    \n",
    "def add():\n",
    "    c = c + 2 # increment c by 2\n",
    "    print(c)"
   ]
  },
  {
   "cell_type": "code",
   "execution_count": 49,
   "id": "c482a2f8",
   "metadata": {},
   "outputs": [
    {
     "ename": "UnboundLocalError",
     "evalue": "local variable 'c' referenced before assignment",
     "output_type": "error",
     "traceback": [
      "\u001b[0;31m---------------------------------------------------------------------------\u001b[0m",
      "\u001b[0;31mUnboundLocalError\u001b[0m                         Traceback (most recent call last)",
      "Input \u001b[0;32mIn [49]\u001b[0m, in \u001b[0;36m<cell line: 1>\u001b[0;34m()\u001b[0m\n\u001b[0;32m----> 1\u001b[0m \u001b[43madd\u001b[49m\u001b[43m(\u001b[49m\u001b[43m)\u001b[49m\n",
      "Input \u001b[0;32mIn [48]\u001b[0m, in \u001b[0;36madd\u001b[0;34m()\u001b[0m\n\u001b[1;32m      3\u001b[0m \u001b[38;5;28;01mdef\u001b[39;00m \u001b[38;5;21madd\u001b[39m():\n\u001b[0;32m----> 4\u001b[0m     c \u001b[38;5;241m=\u001b[39m \u001b[43mc\u001b[49m \u001b[38;5;241m+\u001b[39m \u001b[38;5;241m2\u001b[39m \u001b[38;5;66;03m# increment c by 2\u001b[39;00m\n\u001b[1;32m      5\u001b[0m     \u001b[38;5;28mprint\u001b[39m(c)\n",
      "\u001b[0;31mUnboundLocalError\u001b[0m: local variable 'c' referenced before assignment"
     ]
    }
   ],
   "source": [
    "add()"
   ]
  },
  {
   "cell_type": "markdown",
   "id": "a6585d85",
   "metadata": {},
   "source": [
    "This is because we can only access the **global** variable but cannot modify it from inside the function.\n",
    "\n",
    "The solution for this is to use the **global** keyword.\n",
    "\n",
    "#### Example: Changing global variable from inside a function using global"
   ]
  },
  {
   "cell_type": "code",
   "execution_count": 50,
   "id": "78b125cf",
   "metadata": {},
   "outputs": [],
   "source": [
    "c = 0 # global variable\n",
    "\n",
    "def add():\n",
    "    global c\n",
    "    c = c + 2 # increment by 2\n",
    "    print(\"Inside add():\", c)"
   ]
  },
  {
   "cell_type": "code",
   "execution_count": 51,
   "id": "677d9ee6",
   "metadata": {},
   "outputs": [
    {
     "name": "stdout",
     "output_type": "stream",
     "text": [
      "Inside add(): 2\n",
      "In main: 2\n"
     ]
    }
   ],
   "source": [
    "add()\n",
    "print(\"In main:\", c)"
   ]
  },
  {
   "cell_type": "markdown",
   "id": "f737c77f",
   "metadata": {},
   "source": [
    "In the above program, we define **c** as a **global** keyword inside the **add()** function.\n",
    "\n",
    "Then, we increment the variable **c** by **2**, i.e **c = c + 2**. After that, we call the **add()** function. Finally, we print the global variable **c**.\n",
    "\n",
    "As we can see, change also occurred on the global variable outside the function, **c = 2**.\n",
    "\n",
    "#### Global in nested functions\n",
    "\n",
    "Here is how you can use a global variable in nested function.\n",
    "\n",
    "Example: Using a global variable in nested function"
   ]
  },
  {
   "cell_type": "code",
   "execution_count": 52,
   "id": "36dfc654",
   "metadata": {},
   "outputs": [],
   "source": [
    "def foo():\n",
    "    x = 20\n",
    "\n",
    "    def bar():\n",
    "        global x\n",
    "        x = 25\n",
    "    \n",
    "    print(\"Before calling bar: \", x)\n",
    "    print(\"Calling bar now\")\n",
    "    bar()\n",
    "    print(\"After calling bar: \", x)"
   ]
  },
  {
   "cell_type": "code",
   "execution_count": 53,
   "id": "084f70b2",
   "metadata": {},
   "outputs": [
    {
     "name": "stdout",
     "output_type": "stream",
     "text": [
      "Before calling bar:  20\n",
      "Calling bar now\n",
      "After calling bar:  20\n",
      "x in main:  25\n"
     ]
    }
   ],
   "source": [
    "foo()\n",
    "print(\"x in main: \", x)"
   ]
  },
  {
   "cell_type": "markdown",
   "id": "4e312239",
   "metadata": {},
   "source": [
    "In the above program, we declared a **global** variable inside the nested function **bar()**. Inside **foo()** function, **x** has no effect of the global keyword.\n",
    "\n",
    "Before and after calling **bar()**, the variable **x** takes the value of local variable i.e **x = 20**. Outside of the **foo()** function, the variable **x** will take value defined in the **bar()** function i.e **x = 25**. This is because we have used global keyword in **x** to create global variable inside the **bar()** function (local scope).\n",
    "\n",
    "If we make any changes inside the **bar()** function, the changes appear outside the local scope, i.e. **foo()**."
   ]
  }
 ],
 "metadata": {
  "colab": {
   "collapsed_sections": [],
   "provenance": []
  },
  "kernelspec": {
   "display_name": "Python 3 (ipykernel)",
   "language": "python",
   "name": "python3"
  },
  "language_info": {
   "codemirror_mode": {
    "name": "ipython",
    "version": 3
   },
   "file_extension": ".py",
   "mimetype": "text/x-python",
   "name": "python",
   "nbconvert_exporter": "python",
   "pygments_lexer": "ipython3",
   "version": "3.11.7"
  }
 },
 "nbformat": 4,
 "nbformat_minor": 5
}
