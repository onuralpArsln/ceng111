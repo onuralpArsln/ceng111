{
 "cells": [
  {
   "attachments": {},
   "cell_type": "markdown",
   "metadata": {},
   "source": [
    "# New way to define a function"
   ]
  },
  {
   "attachments": {},
   "cell_type": "markdown",
   "metadata": {},
   "source": [
    "besides looking scary it doesnt change how it works but it supplies better information for user. This method is usefull if you are working on a big project or with teams it makes code much more readable."
   ]
  },
  {
   "attachments": {},
   "cell_type": "markdown",
   "metadata": {},
   "source": [
    "lets say you have a function that when int a and b given it returns a^b + b^a"
   ]
  },
  {
   "cell_type": "code",
   "execution_count": 6,
   "metadata": {},
   "outputs": [],
   "source": [
    "def basicCalc(a,b):\n",
    "    \"\"\" This function returns random values\"\"\"\n",
    "    return a**b+b**a"
   ]
  },
  {
   "cell_type": "code",
   "execution_count": 3,
   "metadata": {},
   "outputs": [],
   "source": [
    "def coolCalc(a:int,b:int) -> int:\n",
    "    return a**b + b**a"
   ]
  },
  {
   "attachments": {},
   "cell_type": "markdown",
   "metadata": {},
   "source": [
    "when you hower your mouse on function basic calc it  says any for a b and return. yet for it to be working we need ints or float and it returns ints or float. for this example we will stick only for ints. coolCalc explains that you need to use ints and it will return int \""
   ]
  },
  {
   "attachments": {},
   "cell_type": "markdown",
   "metadata": {},
   "source": [
    "lets try using some strings as parameters "
   ]
  },
  {
   "cell_type": "code",
   "execution_count": 4,
   "metadata": {},
   "outputs": [
    {
     "ename": "TypeError",
     "evalue": "unsupported operand type(s) for ** or pow(): 'int' and 'str'",
     "output_type": "error",
     "traceback": [
      "\u001b[0;31m---------------------------------------------------------------------------\u001b[0m",
      "\u001b[0;31mTypeError\u001b[0m                                 Traceback (most recent call last)",
      "\u001b[1;32m/home/onuralp/projects/ceng111/weekSixfold/weekSix.ipynb Cell 8\u001b[0m line \u001b[0;36m1\n\u001b[0;32m----> <a href='vscode-notebook-cell:/home/onuralp/projects/ceng111/weekSixfold/weekSix.ipynb#X11sZmlsZQ%3D%3D?line=0'>1</a>\u001b[0m basicCalc(\u001b[39m1\u001b[39;49m,\u001b[39m\"\u001b[39;49m\u001b[39m2\u001b[39;49m\u001b[39m\"\u001b[39;49m)\n",
      "\u001b[1;32m/home/onuralp/projects/ceng111/weekSixfold/weekSix.ipynb Cell 8\u001b[0m line \u001b[0;36m3\n\u001b[1;32m      <a href='vscode-notebook-cell:/home/onuralp/projects/ceng111/weekSixfold/weekSix.ipynb#X11sZmlsZQ%3D%3D?line=0'>1</a>\u001b[0m \u001b[39mdef\u001b[39;00m \u001b[39mbasicCalc\u001b[39m(a,b):\n\u001b[1;32m      <a href='vscode-notebook-cell:/home/onuralp/projects/ceng111/weekSixfold/weekSix.ipynb#X11sZmlsZQ%3D%3D?line=1'>2</a>\u001b[0m     \u001b[39m\"\"\" This function returns and exponential addition of parameters\"\"\"\u001b[39;00m\n\u001b[0;32m----> <a href='vscode-notebook-cell:/home/onuralp/projects/ceng111/weekSixfold/weekSix.ipynb#X11sZmlsZQ%3D%3D?line=2'>3</a>\u001b[0m     \u001b[39mreturn\u001b[39;00m a\u001b[39m*\u001b[39;49m\u001b[39m*\u001b[39;49mb\u001b[39m+\u001b[39mb\u001b[39m*\u001b[39m\u001b[39m*\u001b[39ma\n",
      "\u001b[0;31mTypeError\u001b[0m: unsupported operand type(s) for ** or pow(): 'int' and 'str'"
     ]
    }
   ],
   "source": [
    "basicCalc(1,\"2\")"
   ]
  },
  {
   "attachments": {},
   "cell_type": "markdown",
   "metadata": {},
   "source": [
    "although it says type error, for a complex function it doesnt give enough information that if our parameters are incorrect."
   ]
  },
  {
   "cell_type": "code",
   "execution_count": 5,
   "metadata": {},
   "outputs": [
    {
     "ename": "TypeError",
     "evalue": "unsupported operand type(s) for ** or pow(): 'int' and 'str'",
     "output_type": "error",
     "traceback": [
      "\u001b[0;31m---------------------------------------------------------------------------\u001b[0m",
      "\u001b[0;31mTypeError\u001b[0m                                 Traceback (most recent call last)",
      "\u001b[1;32m/home/onuralp/projects/ceng111/weekSixfold/weekSix.ipynb Cell 10\u001b[0m line \u001b[0;36m1\n\u001b[0;32m----> <a href='vscode-notebook-cell:/home/onuralp/projects/ceng111/weekSixfold/weekSix.ipynb#X13sZmlsZQ%3D%3D?line=0'>1</a>\u001b[0m coolCalc(\u001b[39m1\u001b[39;49m,\u001b[39m\"\u001b[39;49m\u001b[39m2\u001b[39;49m\u001b[39m\"\u001b[39;49m)\n",
      "\u001b[1;32m/home/onuralp/projects/ceng111/weekSixfold/weekSix.ipynb Cell 10\u001b[0m line \u001b[0;36m2\n\u001b[1;32m      <a href='vscode-notebook-cell:/home/onuralp/projects/ceng111/weekSixfold/weekSix.ipynb#X13sZmlsZQ%3D%3D?line=0'>1</a>\u001b[0m \u001b[39mdef\u001b[39;00m \u001b[39mcoolCalc\u001b[39m(a:\u001b[39mint\u001b[39m,b:\u001b[39mint\u001b[39m) \u001b[39m-\u001b[39m\u001b[39m>\u001b[39m \u001b[39mint\u001b[39m:\n\u001b[0;32m----> <a href='vscode-notebook-cell:/home/onuralp/projects/ceng111/weekSixfold/weekSix.ipynb#X13sZmlsZQ%3D%3D?line=1'>2</a>\u001b[0m     \u001b[39mreturn\u001b[39;00m a\u001b[39m*\u001b[39;49m\u001b[39m*\u001b[39;49mb \u001b[39m+\u001b[39m b\u001b[39m*\u001b[39m\u001b[39m*\u001b[39ma\n",
      "\u001b[0;31mTypeError\u001b[0m: unsupported operand type(s) for ** or pow(): 'int' and 'str'"
     ]
    }
   ],
   "source": [
    "coolCalc(1,\"2\")"
   ]
  },
  {
   "attachments": {},
   "cell_type": "markdown",
   "metadata": {},
   "source": [
    "as you can see altough we marked our input parameters as int this doesnt en force any types. it still gives same error lets change it "
   ]
  },
  {
   "cell_type": "code",
   "execution_count": 9,
   "metadata": {},
   "outputs": [
    {
     "name": "stdout",
     "output_type": "stream",
     "text": [
      "{'a': 11, 'b': 2}\n"
     ]
    },
    {
     "data": {
      "text/plain": [
       "2169"
      ]
     },
     "execution_count": 9,
     "metadata": {},
     "output_type": "execute_result"
    }
   ],
   "source": [
    "def coolCalc(a:int,b:int) -> int:\n",
    "    print(locals())   #locals() lets you reach all local parameters \n",
    "    return a**b + b**a\n",
    "\n",
    "coolCalc(11,2)"
   ]
  },
  {
   "cell_type": "code",
   "execution_count": 23,
   "metadata": {},
   "outputs": [],
   "source": [
    "def coolCalc(a:int,b:int) -> int:\n",
    "    if all(type(param) == int for param in locals()):   # all returns true if everything inside true and we have a list comprehension\n",
    "        return a**b + b**a\n",
    "    else:\n",
    "        raise TypeError(\"All Given Parameters Must be ints\") # you can just use Exception instead type error for general purpose"
   ]
  },
  {
   "cell_type": "code",
   "execution_count": 24,
   "metadata": {},
   "outputs": [
    {
     "ename": "TypeError",
     "evalue": "All Given Parameters Must be ints",
     "output_type": "error",
     "traceback": [
      "\u001b[0;31m---------------------------------------------------------------------------\u001b[0m",
      "\u001b[0;31mTypeError\u001b[0m                                 Traceback (most recent call last)",
      "\u001b[1;32m/home/onuralp/projects/ceng111/weekSixfold/weekSix.ipynb Cell 14\u001b[0m line \u001b[0;36m1\n\u001b[0;32m----> <a href='vscode-notebook-cell:/home/onuralp/projects/ceng111/weekSixfold/weekSix.ipynb#Y122sZmlsZQ%3D%3D?line=0'>1</a>\u001b[0m coolCalc(\u001b[39m1\u001b[39;49m,\u001b[39m\"\u001b[39;49m\u001b[39m2\u001b[39;49m\u001b[39m\"\u001b[39;49m)\n",
      "\u001b[1;32m/home/onuralp/projects/ceng111/weekSixfold/weekSix.ipynb Cell 14\u001b[0m line \u001b[0;36m5\n\u001b[1;32m      <a href='vscode-notebook-cell:/home/onuralp/projects/ceng111/weekSixfold/weekSix.ipynb#Y122sZmlsZQ%3D%3D?line=2'>3</a>\u001b[0m     \u001b[39mreturn\u001b[39;00m a\u001b[39m*\u001b[39m\u001b[39m*\u001b[39mb \u001b[39m+\u001b[39m b\u001b[39m*\u001b[39m\u001b[39m*\u001b[39ma\n\u001b[1;32m      <a href='vscode-notebook-cell:/home/onuralp/projects/ceng111/weekSixfold/weekSix.ipynb#Y122sZmlsZQ%3D%3D?line=3'>4</a>\u001b[0m \u001b[39melse\u001b[39;00m:\n\u001b[0;32m----> <a href='vscode-notebook-cell:/home/onuralp/projects/ceng111/weekSixfold/weekSix.ipynb#Y122sZmlsZQ%3D%3D?line=4'>5</a>\u001b[0m     \u001b[39mraise\u001b[39;00m \u001b[39mTypeError\u001b[39;00m(\u001b[39m\"\u001b[39m\u001b[39mAll Given Parameters Must be ints\u001b[39m\u001b[39m\"\u001b[39m)\n",
      "\u001b[0;31mTypeError\u001b[0m: All Given Parameters Must be ints"
     ]
    }
   ],
   "source": [
    "coolCalc(1,\"2\")"
   ]
  },
  {
   "cell_type": "code",
   "execution_count": 14,
   "metadata": {},
   "outputs": [
    {
     "name": "stdout",
     "output_type": "stream",
     "text": [
      "[8, 10, 12, 14]\n"
     ]
    }
   ],
   "source": [
    "bList = [x*2 for x in range(8) ]\n",
    "\n",
    "print(bList)\n"
   ]
  },
  {
   "cell_type": "code",
   "execution_count": 12,
   "metadata": {},
   "outputs": [
    {
     "name": "stdout",
     "output_type": "stream",
     "text": [
      "[0, 2, 4, 6, 8, 10, 12, 14]\n"
     ]
    }
   ],
   "source": [
    "cList=[]\n",
    "for x in range(8):\n",
    "    a = x*2 \n",
    "    cList.append(a)\n",
    "\n",
    "print(cList)"
   ]
  },
  {
   "cell_type": "code",
   "execution_count": 15,
   "metadata": {},
   "outputs": [
    {
     "data": {
      "text/plain": [
       "False"
      ]
     },
     "execution_count": 15,
     "metadata": {},
     "output_type": "execute_result"
    }
   ],
   "source": [
    "all([True,False]) # all içindeki herşey true ise True verir aksi halde false verir"
   ]
  },
  {
   "attachments": {},
   "cell_type": "markdown",
   "metadata": {},
   "source": [
    "can you use guard clause to make this calc func even cooler ? \n",
    "the more color appers the better your code gets "
   ]
  },
  {
   "cell_type": "code",
   "execution_count": 38,
   "metadata": {},
   "outputs": [
    {
     "name": "stdout",
     "output_type": "stream",
     "text": [
      "     *\n",
      "    **\n",
      "   ***\n",
      "     *\n",
      "    **\n",
      "   ***\n",
      "  ****\n",
      "     *\n",
      "    **\n",
      "   ***\n",
      "  ****\n",
      " *****\n",
      "******\n",
      "     *\n",
      "     *\n"
     ]
    }
   ],
   "source": [
    "def treeMaker(*args : int , stump=0, reversed:bool or None=None) -> None:\n",
    "    if not all(type(x) == int for x in args):\n",
    "        raise TypeError(\"segment values must be int \")\n",
    "    \n",
    "    maxSegment = max(args) \n",
    "    lines=[]\n",
    "\n",
    "    for i in args:\n",
    "        for j in range(i):\n",
    "            linemaker=\"\"\n",
    "            if reversed: \n",
    "                linemaker += (maxSegment-1-j)*\" \" \n",
    "            linemaker += (1+j)*\"*\"\n",
    "            lines.append(linemaker)\n",
    "\n",
    "    for i in range(stump):\n",
    "        linemaker=\"\"\n",
    "        if reversed:\n",
    "            linemaker+=(maxSegment-1)*\" \"\n",
    "        linemaker += \"*\"\n",
    "        lines.append(linemaker)\n",
    "\n",
    "    for i in lines:\n",
    "        print(i)\n",
    "\n",
    "\n",
    "treeMaker(3,4,6,stump=2, reversed=True)\n",
    "\n",
    "\n",
    "\n"
   ]
  },
  {
   "cell_type": "code",
   "execution_count": 30,
   "metadata": {},
   "outputs": [
    {
     "name": "stdout",
     "output_type": "stream",
     "text": [
      "3\n",
      "3\n"
     ]
    }
   ],
   "source": [
    "a=3\n",
    "b=2\n",
    "c = a if a>b else b \n",
    "print(c)\n",
    "\n",
    "if a>b:\n",
    "    c=a\n",
    "else:\n",
    "    c=b\n",
    "\n",
    "print(c)"
   ]
  },
  {
   "cell_type": "code",
   "execution_count": 25,
   "metadata": {},
   "outputs": [
    {
     "name": "stdout",
     "output_type": "stream",
     "text": [
      "hi almira\n"
     ]
    }
   ],
   "source": [
    "def salut(name=\"alp\"):\n",
    "    print(f'hi {name}')\n",
    "\n",
    "salut('almira')"
   ]
  },
  {
   "cell_type": "code",
   "execution_count": 40,
   "metadata": {},
   "outputs": [],
   "source": [
    "if None:\n",
    "    print(\"1\")"
   ]
  },
  {
   "attachments": {},
   "cell_type": "markdown",
   "metadata": {},
   "source": [
    "# file manipulation"
   ]
  },
  {
   "attachments": {},
   "cell_type": "markdown",
   "metadata": {},
   "source": [
    "everything is made of  files  in a os "
   ]
  },
  {
   "cell_type": "code",
   "execution_count": 41,
   "metadata": {},
   "outputs": [
    {
     "ename": "FileNotFoundError",
     "evalue": "[Errno 2] No such file or directory: 'testFile.txt'",
     "output_type": "error",
     "traceback": [
      "\u001b[0;31m---------------------------------------------------------------------------\u001b[0m",
      "\u001b[0;31mFileNotFoundError\u001b[0m                         Traceback (most recent call last)",
      "\u001b[1;32m/home/onuralp/projects/ceng111/weekSixfold/weekSix.ipynb Cell 25\u001b[0m line \u001b[0;36m1\n\u001b[0;32m----> <a href='vscode-notebook-cell:/home/onuralp/projects/ceng111/weekSixfold/weekSix.ipynb#X25sZmlsZQ%3D%3D?line=0'>1</a>\u001b[0m file \u001b[39m=\u001b[39m \u001b[39mopen\u001b[39;49m(\u001b[39m\"\u001b[39;49m\u001b[39mtestFile.txt\u001b[39;49m\u001b[39m\"\u001b[39;49m)\n",
      "File \u001b[0;32m~/.local/lib/python3.10/site-packages/IPython/core/interactiveshell.py:284\u001b[0m, in \u001b[0;36m_modified_open\u001b[0;34m(file, *args, **kwargs)\u001b[0m\n\u001b[1;32m    277\u001b[0m \u001b[39mif\u001b[39;00m file \u001b[39min\u001b[39;00m {\u001b[39m0\u001b[39m, \u001b[39m1\u001b[39m, \u001b[39m2\u001b[39m}:\n\u001b[1;32m    278\u001b[0m     \u001b[39mraise\u001b[39;00m \u001b[39mValueError\u001b[39;00m(\n\u001b[1;32m    279\u001b[0m         \u001b[39mf\u001b[39m\u001b[39m\"\u001b[39m\u001b[39mIPython won\u001b[39m\u001b[39m'\u001b[39m\u001b[39mt let you open fd=\u001b[39m\u001b[39m{\u001b[39;00mfile\u001b[39m}\u001b[39;00m\u001b[39m by default \u001b[39m\u001b[39m\"\u001b[39m\n\u001b[1;32m    280\u001b[0m         \u001b[39m\"\u001b[39m\u001b[39mas it is likely to crash IPython. If you know what you are doing, \u001b[39m\u001b[39m\"\u001b[39m\n\u001b[1;32m    281\u001b[0m         \u001b[39m\"\u001b[39m\u001b[39myou can use builtins\u001b[39m\u001b[39m'\u001b[39m\u001b[39m open.\u001b[39m\u001b[39m\"\u001b[39m\n\u001b[1;32m    282\u001b[0m     )\n\u001b[0;32m--> 284\u001b[0m \u001b[39mreturn\u001b[39;00m io_open(file, \u001b[39m*\u001b[39;49margs, \u001b[39m*\u001b[39;49m\u001b[39m*\u001b[39;49mkwargs)\n",
      "\u001b[0;31mFileNotFoundError\u001b[0m: [Errno 2] No such file or directory: 'testFile.txt'"
     ]
    }
   ],
   "source": [
    "file = open(\"testFile.txt\")"
   ]
  },
  {
   "attachments": {},
   "cell_type": "markdown",
   "metadata": {},
   "source": [
    "hata verdi çünkü böyle bir dosya yok, bu dosyayı önce yazmamız lazım"
   ]
  },
  {
   "cell_type": "code",
   "execution_count": 46,
   "metadata": {},
   "outputs": [],
   "source": [
    "file = open(\"testFile.txt\",\"w\") # w harfi write demek yazma modunda açtık"
   ]
  },
  {
   "attachments": {},
   "cell_type": "markdown",
   "metadata": {},
   "source": [
    "dosyayı yazmak aynı zamanda dısya oluşturmaktır"
   ]
  },
  {
   "cell_type": "code",
   "execution_count": 49,
   "metadata": {},
   "outputs": [
    {
     "data": {
      "text/plain": [
       "[popenfile(path='/home/onuralp/.config/Code/logs/20231201T162244/window1/exthost/exthost.log', fd=37, position=30654, mode='a', flags=33793),\n",
       " popenfile(path='/home/onuralp/.config/Code/logs/20231201T162244/window1/exthost/extensionTelemetry.log', fd=38, position=490, mode='a', flags=33793),\n",
       " popenfile(path='/usr/share/code/resources/app/node_modules.asar', fd=39, position=55268, mode='r', flags=32768),\n",
       " popenfile(path='/home/onuralp/.config/Code/logs/20231201T162244/window1/exthost/vscode.github/GitHub.log', fd=41, position=94, mode='a', flags=33793),\n",
       " popenfile(path='/home/onuralp/.config/Code/logs/20231201T162244/window1/exthost/vscode.git/Git.log', fd=48, position=22803, mode='a', flags=33793),\n",
       " popenfile(path='/home/onuralp/.config/Code/logs/20231201T162244/window1/exthost/output_logging_20231201T162258/12-API Usage Examples LSP.log', fd=49, position=74, mode='a', flags=33793),\n",
       " popenfile(path='/home/onuralp/.config/Code/logs/20231201T162244/window1/exthost/vscode.github-authentication/GitHub Authentication.log', fd=50, position=2578, mode='a', flags=33793),\n",
       " popenfile(path='/home/onuralp/.ipython/profile_default/history.sqlite', fd=52, position=0, mode='r+', flags=688130),\n",
       " popenfile(path='/home/onuralp/.config/Code/logs/20231201T162244/window1/exthost/ms-python.python/Python.log', fd=53, position=2690, mode='a', flags=33793),\n",
       " popenfile(path='/home/onuralp/.ipython/profile_default/history.sqlite', fd=54, position=0, mode='r+', flags=688130),\n",
       " popenfile(path='/home/onuralp/.config/Code/logs/20231201T162244/window1/exthost/output_logging_20231201T162258/1-Quokka.log', fd=55, position=3, mode='a', flags=33793),\n",
       " popenfile(path='/home/onuralp/.config/Code/logs/20231201T162244/window1/exthost/output_logging_20231201T162258/2-Jupyter.log', fd=56, position=17773, mode='a', flags=33793),\n",
       " popenfile(path='/home/onuralp/.config/Code/logs/20231201T162244/window1/exthost/output_logging_20231201T162258/3-Jupyter Server Console.log', fd=57, position=0, mode='a', flags=33793),\n",
       " popenfile(path='/home/onuralp/.config/Code/logs/20231201T162244/window1/exthost/output_logging_20231201T162258/4-Prettier.log', fd=58, position=111, mode='a', flags=33793),\n",
       " popenfile(path='/home/onuralp/.config/Code/logs/20231201T162244/window1/exthost/output_logging_20231201T162258/5-Python Test Log.log', fd=59, position=0, mode='a', flags=33793),\n",
       " popenfile(path='/home/onuralp/.config/Code/logs/20231201T162244/window1/exthost/GitHub.vscode-pull-request-github/GitHub Pull Request.log', fd=62, position=3572, mode='a', flags=33793),\n",
       " popenfile(path='/home/onuralp/.config/Code/logs/20231201T162244/window1/exthost/output_logging_20231201T162258/6-JSON Language Server.log', fd=63, position=0, mode='a', flags=33793),\n",
       " popenfile(path='/home/onuralp/.config/Code/logs/20231201T162244/window1/exthost/output_logging_20231201T162258/7-IntelliCode API Examples.log', fd=64, position=73, mode='a', flags=33793),\n",
       " popenfile(path='/home/onuralp/.config/Code/logs/20231201T162244/window1/exthost/ms-python.python/Python Language Server.log', fd=69, position=3064, mode='a', flags=33793),\n",
       " popenfile(path='/home/onuralp/.config/Code/logs/20231201T162244/window1/exthost/output_logging_20231201T162258/9-IntelliCode Completions.log', fd=70, position=1636, mode='a', flags=33793),\n",
       " popenfile(path='/home/onuralp/.ipython/profile_default/history.sqlite-journal', fd=72, position=0, mode='r+', flags=688130),\n",
       " popenfile(path='/home/onuralp/.config/Code/logs/20231201T162244/window1/exthost/output_logging_20231201T162258/8-VS IntelliCode.log', fd=75, position=313, mode='a', flags=33793),\n",
       " popenfile(path='/home/onuralp/.config/Code/logs/20231201T162244/window1/exthost/output_logging_20231201T162258/10-.NET Runtime.log', fd=83, position=0, mode='a', flags=33793),\n",
       " popenfile(path='/home/onuralp/.config/Code/logs/20231201T162244/window1/exthost/output_logging_20231201T162258/11-VS IntelliCode Insiders.log', fd=88, position=171, mode='a', flags=33793),\n",
       " popenfile(path='/usr/share/code/v8_context_snapshot.bin', fd=103, position=0, mode='r', flags=32768)]"
      ]
     },
     "execution_count": 49,
     "metadata": {},
     "output_type": "execute_result"
    }
   ],
   "source": [
    "import psutil\n",
    "psutil.Process().open_files()"
   ]
  },
  {
   "attachments": {},
   "cell_type": "markdown",
   "metadata": {},
   "source": [
    "as you can see textFile is open. It is good practice to close files after you are done with them to ensure your changes and saved. It also releases system sources (ram)"
   ]
  },
  {
   "cell_type": "code",
   "execution_count": 48,
   "metadata": {},
   "outputs": [],
   "source": [
    "file.close()"
   ]
  },
  {
   "attachments": {},
   "cell_type": "markdown",
   "metadata": {},
   "source": [
    "write komutu ile bişiler yazmak mümkün"
   ]
  },
  {
   "cell_type": "code",
   "execution_count": 70,
   "metadata": {},
   "outputs": [],
   "source": [
    "file=open(\"rigby.txt\",\"w\")\n",
    "file.write(\"naber müdür \") \n",
    "file.close()"
   ]
  },
  {
   "attachments": {},
   "cell_type": "markdown",
   "metadata": {},
   "source": [
    "farklı bir şey yazınca ise içindekileri silip yenisni yazar "
   ]
  },
  {
   "cell_type": "code",
   "execution_count": 52,
   "metadata": {},
   "outputs": [],
   "source": [
    "file=open(\"rigby.txt\",\"w\")\n",
    "file.write(\" my mom \") \n",
    "file.close()"
   ]
  },
  {
   "cell_type": "code",
   "execution_count": 56,
   "metadata": {},
   "outputs": [],
   "source": [
    "file=open(\"rigby.txt\",\"a\") # append olarak açtım ve yazdım\n",
    "file.write(\" naber müdür \") \n",
    "file.close()"
   ]
  },
  {
   "cell_type": "code",
   "execution_count": 60,
   "metadata": {},
   "outputs": [],
   "source": [
    "file=open(\"rigby.txt\",\"a\") # append olarak açtım ve yazdım\n",
    "file.write(\"\\n naber müdür \")  # yeni satıra geçerek yazdırdım\n",
    "file.close()"
   ]
  },
  {
   "cell_type": "code",
   "execution_count": 74,
   "metadata": {},
   "outputs": [],
   "source": [
    "file=open(\"rigby.txt\",\"a\")\n",
    "file.write(\" a ile açarsan bu append modu olur ayrıca \\n ters slash ve n yaptım burda bu newline yani yeni satır demek \\n yeni starılara geçtim  \") \n",
    "file.close()"
   ]
  },
  {
   "attachments": {},
   "cell_type": "markdown",
   "metadata": {},
   "source": [
    "her seferinde aç kapa yapmak istemezsende süper bir method var bunu okuma methodu ile birlikte deneyelim"
   ]
  },
  {
   "cell_type": "code",
   "execution_count": 63,
   "metadata": {},
   "outputs": [],
   "source": [
    "with open(\"rigby.txt\") as fatma:\n",
    "    info = fatma.read()\n",
    "    \n",
    "# içerdekiişlme bitince otomatik kapatır "
   ]
  },
  {
   "cell_type": "code",
   "execution_count": 64,
   "metadata": {},
   "outputs": [
    {
     "name": "stdout",
     "output_type": "stream",
     "text": [
      " naber müdür  a ile açarsan bu append modu olur ayrıca \n",
      " ters slash ve n yaptım burda bu newline yani yeni satır demek \n",
      " yeni starılara geçtim  \n"
     ]
    }
   ],
   "source": [
    "print(info)"
   ]
  },
  {
   "attachments": {},
   "cell_type": "markdown",
   "metadata": {},
   "source": [
    "döngü gibi düşün içindeki işlemleri yaparken açık tututyor dosyayı sonra kapatır, baya iyi böyle yap f.read da okuma yapar "
   ]
  },
  {
   "cell_type": "code",
   "execution_count": null,
   "metadata": {},
   "outputs": [],
   "source": [
    "with open(\"rigby.txt\",\"r\") as f:\n",
    "    info = f.read()\n",
    "    "
   ]
  },
  {
   "attachments": {},
   "cell_type": "markdown",
   "metadata": {},
   "source": [
    "böyle yapınca salt okunur açtı iyice güzel oldu "
   ]
  },
  {
   "cell_type": "code",
   "execution_count": 65,
   "metadata": {},
   "outputs": [
    {
     "name": "stdout",
     "output_type": "stream",
     "text": [
      " naber müdür  a ile açarsan bu append modu olur ayrıca \n",
      " ters slash ve n yaptım burda bu newline yani yeni satır demek \n",
      " yeni starılara geçtim  \n"
     ]
    }
   ],
   "source": [
    "print(info)"
   ]
  },
  {
   "cell_type": "code",
   "execution_count": 73,
   "metadata": {},
   "outputs": [
    {
     "name": "stdout",
     "output_type": "stream",
     "text": [
      "nab\n"
     ]
    }
   ],
   "source": [
    "with open(\"rigby.txt\",\"r\") as f:\n",
    "    print(f.read(3))"
   ]
  },
  {
   "cell_type": "code",
   "execution_count": 75,
   "metadata": {},
   "outputs": [
    {
     "name": "stdout",
     "output_type": "stream",
     "text": [
      "naber müdür  a ile açarsan bu append modu olur ayrıca \n",
      "\n",
      " ters slash ve n yaptım burda bu newline yani yeni satır demek \n",
      "\n",
      " yeni starılara geçtim  \n"
     ]
    }
   ],
   "source": [
    "with open(\"rigby.txt\",\"r\") as f:\n",
    "    print(f.readline())\n",
    "    print(f.readline())\n",
    "    print(f.readline())"
   ]
  },
  {
   "cell_type": "code",
   "execution_count": 76,
   "metadata": {},
   "outputs": [
    {
     "name": "stdout",
     "output_type": "stream",
     "text": [
      "['naber müdür  a ile açarsan bu append modu olur ayrıca \\n', ' ters slash ve n yaptım burda bu newline yani yeni satır demek \\n', ' yeni starılara geçtim  ']\n"
     ]
    }
   ],
   "source": [
    "with open(\"rigby.txt\",\"r\") as f:\n",
    "    print(f.readlines())\n",
    "    "
   ]
  },
  {
   "attachments": {},
   "cell_type": "markdown",
   "metadata": {},
   "source": [
    "# try except   "
   ]
  },
  {
   "cell_type": "code",
   "execution_count": 78,
   "metadata": {},
   "outputs": [
    {
     "name": "stdout",
     "output_type": "stream",
     "text": [
      "başaramadık\n",
      "selam\n"
     ]
    }
   ],
   "source": [
    "try:\n",
    "    print(xa)\n",
    "except:\n",
    "    print(\"başaramadık\")\n",
    "\n",
    "print(\"selam\")"
   ]
  },
  {
   "cell_type": "code",
   "execution_count": 79,
   "metadata": {},
   "outputs": [
    {
     "ename": "NameError",
     "evalue": "name 'ax' is not defined",
     "output_type": "error",
     "traceback": [
      "\u001b[0;31m---------------------------------------------------------------------------\u001b[0m",
      "\u001b[0;31mNameError\u001b[0m                                 Traceback (most recent call last)",
      "\u001b[1;32m/home/onuralp/projects/ceng111/weekSixfold/weekSix.ipynb Cell 51\u001b[0m line \u001b[0;36m1\n\u001b[0;32m----> <a href='vscode-notebook-cell:/home/onuralp/projects/ceng111/weekSixfold/weekSix.ipynb#Y131sZmlsZQ%3D%3D?line=0'>1</a>\u001b[0m \u001b[39mprint\u001b[39m(ax)\n\u001b[1;32m      <a href='vscode-notebook-cell:/home/onuralp/projects/ceng111/weekSixfold/weekSix.ipynb#Y131sZmlsZQ%3D%3D?line=1'>2</a>\u001b[0m \u001b[39mprint\u001b[39m(\u001b[39m\"\u001b[39m\u001b[39mselam\u001b[39m\u001b[39m\"\u001b[39m)\n",
      "\u001b[0;31mNameError\u001b[0m: name 'ax' is not defined"
     ]
    }
   ],
   "source": [
    "print(ax)\n",
    "print(\"selam\")"
   ]
  },
  {
   "attachments": {},
   "cell_type": "markdown",
   "metadata": {},
   "source": [
    "print(x) hata verdi çünkü x tanımsız bu hatayı vermek yerine excepti  yaptı ama hatayı bilemedik"
   ]
  },
  {
   "cell_type": "code",
   "execution_count": 81,
   "metadata": {},
   "outputs": [
    {
     "name": "stdout",
     "output_type": "stream",
     "text": [
      "başaramadık\n",
      "try block end \n"
     ]
    }
   ],
   "source": [
    "try: \n",
    "    print(selam)\n",
    "except:\n",
    "    print(\"başaramadık\")\n",
    "else:\n",
    "    print(\"başardık\")\n",
    "finally:\n",
    "    print(\"try block end \")"
   ]
  },
  {
   "attachments": {},
   "cell_type": "markdown",
   "metadata": {},
   "source": [
    "eğer exception yaşanmazsa else çalışır \n",
    "finally döngü bitince hep çalışır "
   ]
  },
  {
   "cell_type": "code",
   "execution_count": 83,
   "metadata": {},
   "outputs": [
    {
     "name": "stdout",
     "output_type": "stream",
     "text": [
      "ZeroDivisionError: division by zero\n",
      "This code always runs.\n"
     ]
    }
   ],
   "source": [
    "try:\n",
    "    # Code that may raise an exception\n",
    "    x = int(input(\"Enter a number: \"))\n",
    "    result = 10 / x\n",
    "\n",
    "    # Code that depends on the success of the above code\n",
    "    print(\"Result:\", result)\n",
    "\n",
    "except ValueError as ve:\n",
    "    # Handle the case where the user didn't enter a valid integer\n",
    "    print(f\"ValueError: {ve}\")\n",
    "except ZeroDivisionError as zde:\n",
    "    # Handle the case where division by zero occurs\n",
    "    print(f\"ZeroDivisionError: {zde}\")\n",
    "except Exception as e:\n",
    "    # Handle other types of exceptions\n",
    "    print(f\"An error occurred: {e}\")\n",
    "else:\n",
    "    # Code to execute if no exception occurred\n",
    "    print(\"No exceptions occurred.\")\n",
    "finally:\n",
    "    # Code to execute whether an exception occurred or not\n",
    "    print(\"This print always runs.\")\n"
   ]
  },
  {
   "cell_type": "code",
   "execution_count": 86,
   "metadata": {},
   "outputs": [
    {
     "ename": "ZeroDivisionError",
     "evalue": "division by zero",
     "output_type": "error",
     "traceback": [
      "\u001b[0;31m---------------------------------------------------------------------------\u001b[0m",
      "\u001b[0;31mZeroDivisionError\u001b[0m                         Traceback (most recent call last)",
      "\u001b[1;32m/home/onuralp/projects/ceng111/weekSixfold/weekSix.ipynb Cell 56\u001b[0m line \u001b[0;36m1\n\u001b[0;32m----> <a href='vscode-notebook-cell:/home/onuralp/projects/ceng111/weekSixfold/weekSix.ipynb#Y132sZmlsZQ%3D%3D?line=0'>1</a>\u001b[0m \u001b[39m10\u001b[39;49m\u001b[39m/\u001b[39;49m\u001b[39m0\u001b[39;49m\n",
      "\u001b[0;31mZeroDivisionError\u001b[0m: division by zero"
     ]
    }
   ],
   "source": [
    "10/0"
   ]
  },
  {
   "attachments": {},
   "cell_type": "markdown",
   "metadata": {},
   "source": [
    "ortaya çıkan exceptiona göre tepki verdidrdi"
   ]
  },
  {
   "cell_type": "markdown",
   "metadata": {},
   "source": [
    "# terminal komutları "
   ]
  },
  {
   "cell_type": "markdown",
   "metadata": {},
   "source": [
    "aslında her şey terminal komutlarıdır ipynb de başına ünlem koyarak terminal komutu verebilirsin   \n"
   ]
  },
  {
   "cell_type": "code",
   "execution_count": 92,
   "metadata": {},
   "outputs": [
    {
     "name": "stdout",
     "output_type": "stream",
     "text": [
      "rigby.txt  testFile.txt  weekSix.ipynb\n"
     ]
    }
   ],
   "source": [
    "!ls  # klasör içindeki dosyaları göre"
   ]
  },
  {
   "cell_type": "code",
   "execution_count": 88,
   "metadata": {},
   "outputs": [
    {
     "name": "stdout",
     "output_type": "stream",
     "text": [
      "/home/onuralp/projects/ceng111/weekSixfold\n"
     ]
    }
   ],
   "source": [
    "!pwd # mevcut dosya adresini bul print working directory "
   ]
  },
  {
   "cell_type": "code",
   "execution_count": 89,
   "metadata": {},
   "outputs": [],
   "source": [
    "!touch comandfile.txt  # dosya oluştur"
   ]
  },
  {
   "cell_type": "code",
   "execution_count": 91,
   "metadata": {},
   "outputs": [],
   "source": [
    "!rm comandfile.txt # dosya sil"
   ]
  },
  {
   "cell_type": "code",
   "execution_count": 95,
   "metadata": {},
   "outputs": [],
   "source": [
    "!mkdir klasor"
   ]
  },
  {
   "cell_type": "code",
   "execution_count": 94,
   "metadata": {},
   "outputs": [],
   "source": [
    "!rmdir klasor"
   ]
  },
  {
   "cell_type": "code",
   "execution_count": 96,
   "metadata": {},
   "outputs": [
    {
     "name": "stdout",
     "output_type": "stream",
     "text": [
      "naber müdür  a ile açarsan bu append modu olur ayrıca \n",
      " ters slash ve n yaptım burda bu newline yani yeni satır demek \n",
      " yeni starılara geçtim  "
     ]
    }
   ],
   "source": [
    "!cat rigby.txt"
   ]
  },
  {
   "cell_type": "markdown",
   "metadata": {},
   "source": [
    "bu komutlar unix like sistemlerde çalışır ancak  windowsta malesef patlar, bu yüzden komutşarı direkt kod içinde kullanmak yerine  \n",
    "sisteme aynı emri veren python komutları tercih edilebilir "
   ]
  },
  {
   "cell_type": "code",
   "execution_count": 98,
   "metadata": {},
   "outputs": [
    {
     "name": "stdout",
     "output_type": "stream",
     "text": [
      "/home/onuralp/projects/ceng111/weekSixfold\n",
      "0\n",
      "rigby.txt\n",
      "testFile.txt\n",
      "weekSix.ipynb\n",
      "0\n"
     ]
    }
   ],
   "source": [
    "import os \n",
    "print(os.system(\"pwd\"))\n",
    "print(os.system(\"ls\"))\n",
    "# windows pcde  hata alcan"
   ]
  },
  {
   "cell_type": "code",
   "execution_count": 99,
   "metadata": {},
   "outputs": [
    {
     "data": {
      "text/plain": [
       "'/home/onuralp/projects/ceng111/weekSixfold'"
      ]
     },
     "execution_count": 99,
     "metadata": {},
     "output_type": "execute_result"
    }
   ],
   "source": [
    "import os\n",
    "os.getcwd()  # get current working directory"
   ]
  },
  {
   "cell_type": "code",
   "execution_count": 105,
   "metadata": {},
   "outputs": [
    {
     "name": "stdout",
     "output_type": "stream",
     "text": [
      "/home/onuralp/projects/ceng111/weekSixfold\n",
      "/home/onuralp/projects/ceng111/weekSixfold/newClas\n",
      "['newerClas']\n"
     ]
    }
   ],
   "source": [
    "os.chdir('/home/onuralp/projects/ceng111/weekSixfold')\n",
    "print(os.getcwd()) # mevcut adrresi yaz\n",
    "os.mkdir('newClas') # yeni klasor oluştur \n",
    "\n",
    "os.chdir('/home/onuralp/projects/ceng111/weekSixfold/newClas') # yeni klasore geçti\n",
    "print(os.getcwd()) # mevcut adresi yazdı\n",
    "\n",
    "os.mkdir('newerClas') \n",
    "print(os.listdir())\n",
    "\n"
   ]
  },
  {
   "cell_type": "code",
   "execution_count": 106,
   "metadata": {},
   "outputs": [],
   "source": [
    "os.rmdir('newerClas')   # rmdir remove directory klasör sil \n"
   ]
  },
  {
   "cell_type": "code",
   "execution_count": 109,
   "metadata": {},
   "outputs": [],
   "source": [
    "\n",
    "os.chdir('/home/onuralp/projects/ceng111/weekSixfold') # orijinal adrese gel\n",
    "\n",
    "os.rmdir('newClas')"
   ]
  }
 ],
 "metadata": {
  "kernelspec": {
   "display_name": "Python 3",
   "language": "python",
   "name": "python3"
  },
  "language_info": {
   "codemirror_mode": {
    "name": "ipython",
    "version": 3
   },
   "file_extension": ".py",
   "mimetype": "text/x-python",
   "name": "python",
   "nbconvert_exporter": "python",
   "pygments_lexer": "ipython3",
   "version": "3.9.6"
  },
  "orig_nbformat": 4
 },
 "nbformat": 4,
 "nbformat_minor": 2
}
