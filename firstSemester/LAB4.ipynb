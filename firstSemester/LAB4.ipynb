{
 "cells": [
  {
   "cell_type": "markdown",
   "id": "ac87de7e",
   "metadata": {
    "id": "5a90af5d"
   },
   "source": [
    "# CENG 111 Computer Programming - Fall 2023 - 2024\n",
    "## LAB 4"
   ]
  },
  {
   "cell_type": "markdown",
   "id": "93a59351",
   "metadata": {
    "id": "d5023fcb"
   },
   "source": [
    "**Q1:** Write a Python function that takes two lists as a parameter. The function must detect the common items in the two received lists and return them in a new list. At the end print the list."
   ]
  },
  {
   "cell_type": "code",
   "execution_count": 1,
   "id": "215bf9c0",
   "metadata": {
    "id": "fb4fe524"
   },
   "outputs": [],
   "source": [
    "# Write your answer for question one here."
   ]
  },
  {
   "cell_type": "markdown",
   "id": "6da73e16",
   "metadata": {
    "id": "17f940d8"
   },
   "source": [
    "**Q2:** Write a Python function that takes one list as a parameter. The function must count the both even and odd numbers in the list. \n",
    "\n",
    "- If even numbers are more than odd numbers, create a new dictionary. Write an even number in the key value of the dictionary you created, and the square of this number in the value part.\n",
    "- If odd numbers are more than even numbers, create a new dictionary. Write an odd number in the key value of the dictionary you created, and the square root of this number in the value part.\n",
    "\n",
    "It will be assumed that the list sent as a parameter contains only integers and floating-point numbers."
   ]
  },
  {
   "cell_type": "code",
   "execution_count": 2,
   "id": "02caf5a7",
   "metadata": {
    "id": "15ee35c8"
   },
   "outputs": [],
   "source": [
    "# Write your answer for question two here."
   ]
  },
  {
   "cell_type": "markdown",
   "id": "6bdbd7e4",
   "metadata": {
    "id": "35259d03"
   },
   "source": [
    "**Q3:** Write Python function that takes one string as a parameter. The function separate all the words in the text received as a parameter and return a variable of the dictionary data type, how many characters each one consists of. At the end print the dictionary."
   ]
  },
  {
   "cell_type": "code",
   "execution_count": 3,
   "id": "61fa8936",
   "metadata": {
    "id": "62c2a67c"
   },
   "outputs": [],
   "source": [
    "# Write your answer for question three here."
   ]
  },
  {
   "cell_type": "markdown",
   "id": "cab8795e",
   "metadata": {
    "id": "d7f940dc"
   },
   "source": [
    "**Q4:** Write a Python function that takes one lists as a parameter. The function must calculate the LCM (Lowest Common Multiple) of a list of given numbers. At the end print the result. <br>\n",
    "**Hint:** You can use Math library."
   ]
  },
  {
   "cell_type": "code",
   "execution_count": 4,
   "id": "5ba036bd",
   "metadata": {
    "id": "4484aad2"
   },
   "outputs": [],
   "source": [
    "# Write your answer for question four here."
   ]
  }
 ],
 "metadata": {
  "colab": {
   "provenance": []
  },
  "kernelspec": {
   "display_name": "Python 3 (ipykernel)",
   "language": "python",
   "name": "python3"
  },
  "language_info": {
   "codemirror_mode": {
    "name": "ipython",
    "version": 3
   },
   "file_extension": ".py",
   "mimetype": "text/x-python",
   "name": "python",
   "nbconvert_exporter": "python",
   "pygments_lexer": "ipython3",
   "version": "3.8.10"
  },
  "vscode": {
   "interpreter": {
    "hash": "aee8b7b246df8f9039afb4144a1f6fd8d2ca17a180786b69acc140d282b71a49"
   }
  }
 },
 "nbformat": 4,
 "nbformat_minor": 5
}
