{
 "cells": [
  {
   "cell_type": "markdown",
   "id": "b2ff3082",
   "metadata": {
    "id": "b2ff3082"
   },
   "source": [
    "# CENG 111 Computer Programming I [Fall 2023 - 2024]\n",
    "## Week 06 - Introduction to data structures\n",
    "\n",
    "## Objectives of the sixth week's lecture.\n",
    "\n",
    "- *Create python lists*\n",
    "- *Access list elements*\n",
    "- *List slicing in python*\n",
    "- *Add or change list elements*\n",
    "- *Delete list elements*\n",
    "- *Python list methods*\n",
    "- *List comprehension: Elegant way to create lists*\n",
    "- *Other list operations in python*\n",
    "- *Creating a tuple*\n",
    "- *Access tuple elements*\n",
    "- *Tuple slicing in python*\n",
    "- *Changing a tuple*\n",
    "- *Deleting a tuple*\n",
    "- *Python tuple methods*\n",
    "- *Other tuple operations in python*\n",
    "- *Advantages of tuple over list*\n",
    "- *Create python sets*\n",
    "- *Modifying a set in python*\n",
    "- *Removing elements from a set*\n",
    "- *Python set operations*\n",
    "- *Other python set methods*\n",
    "- *Other set operations*\n",
    "- *Python frozenset*\n",
    "- *Creating python dictionary*\n",
    "- *Accessing elements from dictionary*\n",
    "- *Changing and adding dictionary elements*\n",
    "- *Removing elements from dictionary*\n",
    "- *Python dictionary methods*\n",
    "- *Python dictionary comprehension*\n",
    "- *Other dictionary operations*"
   ]
  },
  {
   "cell_type": "markdown",
   "id": "70a26938",
   "metadata": {
    "id": "70a26938"
   },
   "source": [
    "## Create Python Lists\n",
    "\n",
    "In Python, a list is created by placing elements inside square brackets [], separated by commas."
   ]
  },
  {
   "cell_type": "code",
   "execution_count": null,
   "id": "bb70945d",
   "metadata": {
    "id": "bb70945d"
   },
   "outputs": [],
   "source": [
    "# list of integers\n",
    "my_list = [1, 2, 3]"
   ]
  },
  {
   "cell_type": "markdown",
   "id": "2c19f16b",
   "metadata": {
    "id": "2c19f16b"
   },
   "source": [
    "A list can have any number of items and they may be of different types (integer, float, string, etc.)."
   ]
  },
  {
   "cell_type": "code",
   "execution_count": null,
   "id": "5471a92f",
   "metadata": {
    "id": "5471a92f"
   },
   "outputs": [],
   "source": [
    "# empty list\n",
    "my_list = []\n",
    "\n",
    "# list with mixed data types\n",
    "my_list = [1, \"Hello\", 3.4]"
   ]
  },
  {
   "cell_type": "markdown",
   "id": "d57eca49",
   "metadata": {
    "id": "d57eca49"
   },
   "source": [
    "A list can also have another list as an item. This is called a nested list."
   ]
  },
  {
   "cell_type": "code",
   "execution_count": null,
   "id": "202072f0",
   "metadata": {
    "id": "202072f0"
   },
   "outputs": [],
   "source": [
    "# nested list\n",
    "my_list = [\"cat\", [8, 4, 6], ['a']]"
   ]
  },
  {
   "cell_type": "markdown",
   "id": "fa07671b",
   "metadata": {
    "id": "fa07671b"
   },
   "source": [
    "## Access List Elements\n",
    "\n",
    "There are various ways in which we can access the elements of a list.\n",
    "\n",
    "### List Index\n",
    "\n",
    "We can use the index operator [] to access an item in a list. In Python, indices start at 0. So, a list having 5 elements will have an index from 0 to 4.\n",
    "\n",
    "Trying to access indexes other than these will raise an IndexError. The index must be an integer. We can't use float or other types, this will result in TypeError.\n",
    "\n",
    "Nested lists are accessed using nested indexing."
   ]
  },
  {
   "cell_type": "code",
   "execution_count": null,
   "id": "b9e48b04",
   "metadata": {
    "id": "b9e48b04",
    "outputId": "9c430247-d549-4380-834f-d405d0eb724f"
   },
   "outputs": [],
   "source": [
    "my_list = ['p', 'r', 'o', 'b', 'e']\n",
    "\n",
    "# first item\n",
    "print(my_list[0])  # p\n",
    "\n",
    "# third item\n",
    "print(my_list[2])  # o\n",
    "\n",
    "# fifth item\n",
    "print(my_list[4])  # e\n",
    "\n",
    "# Nested List\n",
    "n_list = [\"Happy\", [2, 0, 1, 5]]\n",
    "\n",
    "# Nested indexing\n",
    "print(n_list[0][1])\n",
    "\n",
    "print(n_list[1][3])\n",
    "\n",
    "# Error! Only integer can be used for indexing\n",
    "# The indexes must be an integers on slices, not float.\n",
    "print(my_list[4.0])"
   ]
  },
  {
   "cell_type": "markdown",
   "id": "f740abed",
   "metadata": {
    "id": "f740abed"
   },
   "source": [
    "### Negative indexing\n",
    "\n",
    "Python allows negative indexing for its sequences. The index of -1 refers to the last item, -2 to the second last item and so on."
   ]
  },
  {
   "cell_type": "code",
   "execution_count": null,
   "id": "79ed6eb7",
   "metadata": {
    "id": "79ed6eb7",
    "outputId": "8419ef78-2e17-4b27-90c7-1990f3c4c24b"
   },
   "outputs": [],
   "source": [
    "# Negative indexing in lists\n",
    "my_list = ['p','r','o','b','e']\n",
    "\n",
    "# last item\n",
    "print(my_list[-1])\n",
    "\n",
    "# fifth last item\n",
    "print(my_list[-5])"
   ]
  },
  {
   "cell_type": "markdown",
   "id": "pBTOctcsHITw",
   "metadata": {
    "id": "pBTOctcsHITw"
   },
   "source": [
    "![Ekran Resmi 2022-10-22 17.33.27.png](data:image/png;base64,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)"
   ]
  },
  {
   "cell_type": "markdown",
   "id": "6dddd9c9",
   "metadata": {
    "id": "6dddd9c9"
   },
   "source": [
    "### List Slicing in Python\n",
    "\n",
    "We can access a range of items in a list by using the slicing operator :."
   ]
  },
  {
   "cell_type": "code",
   "execution_count": null,
   "id": "b3707b7d",
   "metadata": {
    "id": "b3707b7d",
    "outputId": "38b3864d-0fcc-4da6-90d3-334310c0315f"
   },
   "outputs": [],
   "source": [
    "# List slicing in Python\n",
    "\n",
    "my_list = ['g','u','i','d','o','v','o','n','r','o','s','s','u','m']\n",
    "\n",
    "# elements from index 2 to index 4\n",
    "print(my_list[2:5])\n",
    "\n",
    "# elements from index 5 to end\n",
    "print(my_list[5:])\n",
    "\n",
    "# elements beginning to end\n",
    "print(my_list[:])"
   ]
  },
  {
   "cell_type": "markdown",
   "id": "0ab49aa0",
   "metadata": {
    "id": "0ab49aa0"
   },
   "source": [
    "> Note: When we slice lists, the start index is inclusive but the end index is exclusive. For example, my_list[2: 5] returns a list with elements at index 2, 3 and 4, but not 5.\n",
    "\n",
    "### Add or Change List Elements\n",
    "\n",
    "Lists are mutable, meaning their elements can be changed unlike string or tuple.\n",
    "\n",
    "We can use the assignment operator = to change an item or a range of items."
   ]
  },
  {
   "cell_type": "code",
   "execution_count": null,
   "id": "d047edba",
   "metadata": {
    "id": "d047edba",
    "outputId": "2559368a-9330-4edd-abbd-979f603aea45"
   },
   "outputs": [],
   "source": [
    "# Correcting mistake values in a list\n",
    "odd = [2, 4, 6, 8]\n",
    "\n",
    "# change the 1st item    \n",
    "odd[0] = 1            \n",
    "\n",
    "print(odd)\n",
    "\n",
    "# change 2nd to 4th items\n",
    "odd[1:4] = [3, 5, 7]  \n",
    "\n",
    "print(odd)                   "
   ]
  },
  {
   "cell_type": "markdown",
   "id": "2ffa8fcf",
   "metadata": {
    "id": "2ffa8fcf"
   },
   "source": [
    "We can add one item to a list using the append() method or add several items using the extend() method."
   ]
  },
  {
   "cell_type": "code",
   "execution_count": null,
   "id": "14735bf5",
   "metadata": {
    "id": "14735bf5",
    "outputId": "623af59f-e5a5-4918-f77c-a9ed37c921ce"
   },
   "outputs": [],
   "source": [
    "# Appending and Extending lists in Python\n",
    "odd = [1, 3, 5]\n",
    "\n",
    "odd.append(7)\n",
    "\n",
    "print(odd)\n",
    "\n",
    "odd.extend([9, 11, 13])\n",
    "\n",
    "print(odd)"
   ]
  },
  {
   "cell_type": "markdown",
   "id": "e579d061",
   "metadata": {
    "id": "e579d061"
   },
   "source": [
    "We can also use + operator to combine two lists. This is also called concatenation.\n",
    "\n",
    "The * operator repeats a list for the given number of times."
   ]
  },
  {
   "cell_type": "code",
   "execution_count": null,
   "id": "68a097ec",
   "metadata": {
    "id": "68a097ec",
    "outputId": "c3e5cc8a-7214-49e6-bc8f-ba630227ae3c"
   },
   "outputs": [],
   "source": [
    "# Concatenating and repeating lists\n",
    "odd = [1, 3, 5]\n",
    "\n",
    "print(odd + [9, 7, 5])\n",
    "\n",
    "print([\"abc\"] * 3)"
   ]
  },
  {
   "cell_type": "markdown",
   "id": "8b27001f",
   "metadata": {
    "id": "8b27001f"
   },
   "source": [
    "Furthermore, we can insert one item at a desired location by using the method insert() or insert multiple items by squeezing it into an empty slice of a list.\n",
    "\n",
    "The **insert(pos, elmnt)** method inserts the specified value at the specified position.\n",
    "\n",
    "pos: A number specifying in which position to insert the value.\n",
    "\n",
    "elmnt: An element of any type (string, number, object etc.)"
   ]
  },
  {
   "cell_type": "code",
   "execution_count": null,
   "id": "f1726530",
   "metadata": {
    "id": "f1726530",
    "outputId": "a82fd71a-2d9c-415e-a387-cbeba9c29aee"
   },
   "outputs": [],
   "source": [
    "# Demonstration of list insert() method\n",
    "odd = [1, 9]\n",
    "odd.insert(1,3)\n",
    "\n",
    "print(odd)\n",
    "\n",
    "odd[2:2] = [5, 7]\n",
    "\n",
    "print(odd)"
   ]
  },
  {
   "cell_type": "code",
   "execution_count": null,
   "id": "421690cd",
   "metadata": {},
   "outputs": [],
   "source": [
    "fruits = ['apple', 'banana', 'cherry']\n",
    "\n",
    "fruits.insert(1, \"orange\")\n",
    "\n",
    "print(fruits)"
   ]
  },
  {
   "cell_type": "markdown",
   "id": "2c6a08d1",
   "metadata": {
    "id": "2c6a08d1"
   },
   "source": [
    "### Delete List Elements\n",
    "\n",
    "We can delete one or more items from a list using the Python del statement. It can even delete the list entirely."
   ]
  },
  {
   "cell_type": "code",
   "execution_count": null,
   "id": "a208346c",
   "metadata": {
    "id": "a208346c",
    "outputId": "40adcd5f-6059-4f5c-8f8a-d5f6d36913c3"
   },
   "outputs": [],
   "source": [
    "# The del keyword is used to delete objects. \n",
    "# In Python everything is an object, so the del keyword can also be used to delete variables, lists, or parts of a list etc.\n",
    "\n",
    "\n",
    "# Deleting list items\n",
    "my_list = ['p', 'r', 'o', 'b', 'l', 'e', 'm']\n",
    "\n",
    "# delete one item\n",
    "del my_list[2]\n",
    "\n",
    "print(my_list)"
   ]
  },
  {
   "cell_type": "code",
   "execution_count": null,
   "id": "8178e415",
   "metadata": {},
   "outputs": [],
   "source": [
    "# delete multiple items\n",
    "del my_list[1:5] #5th item is excluded\n",
    "\n",
    "print(my_list)"
   ]
  },
  {
   "cell_type": "code",
   "execution_count": null,
   "id": "9093cce4",
   "metadata": {},
   "outputs": [],
   "source": [
    "# delete the entire list\n",
    "del my_list\n",
    "\n",
    "# Error: List not defined\n",
    "print(my_list)"
   ]
  },
  {
   "cell_type": "markdown",
   "id": "478e5647",
   "metadata": {
    "id": "478e5647"
   },
   "source": [
    "We can use remove() to remove the given item or pop() to remove an item at the given index.\n",
    "\n",
    "The pop() method removes and returns the last item if the index is not provided. This helps us implement lists as stacks (first in, last out data structure).\n",
    "\n",
    "And, if we have to empty the whole list, we can use the clear() method."
   ]
  },
  {
   "cell_type": "code",
   "execution_count": null,
   "id": "baa2fcb8",
   "metadata": {},
   "outputs": [],
   "source": [
    "# The remove() method removes the first occurrence of the element with the specified value.\n",
    "my_list = ['p','r','o','b','l','e','p','m']\n",
    "my_list.remove('p')\n",
    "\n",
    "# Output: ['r', 'o', 'b', 'l', 'e', 'm']\n",
    "print(my_list)"
   ]
  },
  {
   "cell_type": "code",
   "execution_count": null,
   "id": "c635bb8a",
   "metadata": {},
   "outputs": [],
   "source": [
    "# The pop() method returns removed value.\n",
    "\n",
    "# Output: 'o'\n",
    "print(my_list.pop(1))\n",
    "print(my_list)"
   ]
  },
  {
   "cell_type": "code",
   "execution_count": null,
   "id": "c4f2a412",
   "metadata": {
    "id": "c4f2a412",
    "outputId": "472db2af-874b-4db5-a2ba-ea7847c8eb38"
   },
   "outputs": [],
   "source": [
    "# Output: 'm'\n",
    "print(my_list.pop())\n",
    "\n",
    "# Output: ['r', 'b', 'l', 'e']\n",
    "print(my_list)"
   ]
  },
  {
   "cell_type": "code",
   "execution_count": null,
   "id": "367e4afd",
   "metadata": {},
   "outputs": [],
   "source": [
    "my_list.clear()\n",
    "\n",
    "# Output: []\n",
    "print(my_list)"
   ]
  },
  {
   "cell_type": "markdown",
   "id": "833a37da",
   "metadata": {},
   "source": [
    "### List operations"
   ]
  },
  {
   "cell_type": "code",
   "execution_count": null,
   "id": "50cc0a3b",
   "metadata": {},
   "outputs": [],
   "source": [
    "a = [1, 2, 3]\n",
    "b = [4, 5, 6]\n",
    "c = a + b\n",
    "print(c)"
   ]
  },
  {
   "cell_type": "code",
   "execution_count": null,
   "id": "3ea5ac69",
   "metadata": {},
   "outputs": [],
   "source": [
    "[0] * 4"
   ]
  },
  {
   "cell_type": "code",
   "execution_count": null,
   "id": "8d545c41",
   "metadata": {},
   "outputs": [],
   "source": [
    "[1, 2, 3] * 3"
   ]
  },
  {
   "cell_type": "code",
   "execution_count": null,
   "id": "28a9deef",
   "metadata": {},
   "outputs": [],
   "source": []
  },
  {
   "cell_type": "markdown",
   "id": "a48a9140",
   "metadata": {
    "id": "a48a9140"
   },
   "source": [
    "### Python List Methods\n",
    "\n",
    "Python has many useful list methods that makes it really easy to work with lists. Here are some of the commonly used list methods.\n",
    "\n",
    "<table>\n",
    "<tr>\n",
    "  <th>Methods<th><th>Descriptions<th>\n",
    "<tr>\n",
    "  <td>append()<td><td>adds an element to the end of the list<td>\n",
    "<tr>\n",
    "  <td>extend()<td><td>adds all elements of a list to another list<td>\n",
    "<tr>\n",
    "  <td>insert()<td><td>inserts an item at the defined index<td>\n",
    "<tr>\n",
    "  <td>remove()<td><td>removes an item from the list<td>\n",
    "<tr>\n",
    "  <td>pop()<td><td>returns and removes an element at the given index<td>\n",
    "<tr>\n",
    "  <td>clear()<td><td>removes all items from the list<td>\n",
    "<tr>\n",
    "  <td>index()<td><td>returns the index of the first matched item<td>\n",
    "<tr>\n",
    "  <td>count()<td><td>returns the count of the number of items passed as an argument<td>\n",
    "<tr>\n",
    "  <td>sort()<td><td>sort items in a list in ascending order<td>\n",
    "<tr>\n",
    "  <td>reverse()<td><td>reverse the order of items in the list<td>\n",
    "<tr>\n",
    "  <td>copy()<td><td>returns a shallow copy of the list<td>\n",
    "<tr>\n",
    "<table>"
   ]
  },
  {
   "cell_type": "code",
   "execution_count": null,
   "id": "a7bb633e",
   "metadata": {
    "id": "a7bb633e",
    "outputId": "a7bd31d3-3866-46b2-80ef-674e44eaf918"
   },
   "outputs": [],
   "source": [
    "# Example on Python list methods\n",
    "my_list = [3, 8, 1, 6, 8, 8, 4]\n",
    "\n",
    "# Add 'a' to the end\n",
    "my_list.append('a')\n",
    "\n",
    "# Output: [3, 8, 1, 6, 8, 8, 4, 'a']\n",
    "print(my_list)"
   ]
  },
  {
   "cell_type": "code",
   "execution_count": null,
   "id": "8e809480",
   "metadata": {},
   "outputs": [],
   "source": [
    "# Index of first occurrence of 8\n",
    "print(my_list.index(8))   # Output: 1\n",
    "\n",
    "# Count of 8 in the list\n",
    "print(my_list.count(8))  # Output: 3 "
   ]
  },
  {
   "cell_type": "code",
   "execution_count": null,
   "id": "2da61dae",
   "metadata": {},
   "outputs": [],
   "source": [
    "my_list = [3, 8, 1, 6, 8, 8, 4]\n",
    "points = [1, 4, 5, 9]\n",
    "\n",
    "my_list.extend(points)\n",
    "\n",
    "print(my_list)"
   ]
  },
  {
   "cell_type": "code",
   "execution_count": null,
   "id": "d2794964",
   "metadata": {},
   "outputs": [],
   "source": [
    "my_list.sort()\n",
    "print(my_list)"
   ]
  },
  {
   "cell_type": "code",
   "execution_count": null,
   "id": "4f61f15c",
   "metadata": {},
   "outputs": [],
   "source": [
    "my_list.reverse()\n",
    "print(my_list)"
   ]
  },
  {
   "cell_type": "code",
   "execution_count": null,
   "id": "da2e4b20",
   "metadata": {},
   "outputs": [],
   "source": []
  },
  {
   "cell_type": "markdown",
   "id": "e95366f1",
   "metadata": {
    "id": "e95366f1"
   },
   "source": [
    "### List Comprehension: Elegant way to create Lists\n",
    "\n",
    "List comprehension is an elegant and concise way to create a new list from an existing list in Python.\n",
    "\n",
    "A list comprehension consists of an expression followed by for statement inside square brackets.\n",
    "\n",
    "Here is an example to make a list with each item being increasing power of 2."
   ]
  },
  {
   "cell_type": "code",
   "execution_count": null,
   "id": "1ed38486",
   "metadata": {
    "id": "1ed38486",
    "outputId": "c6bc9829-7e07-414b-eccc-e04fc63793e2"
   },
   "outputs": [],
   "source": [
    "pow2 = [2 ** x for x in range(10)]\n",
    "print(pow2)"
   ]
  },
  {
   "cell_type": "markdown",
   "id": "530ce861",
   "metadata": {
    "id": "530ce861"
   },
   "source": [
    "This code is equivalent to:"
   ]
  },
  {
   "cell_type": "code",
   "execution_count": null,
   "id": "72d6a8f4",
   "metadata": {
    "id": "72d6a8f4",
    "outputId": "2e6e60ac-8d87-41b7-b5eb-a154b94b8bc0"
   },
   "outputs": [],
   "source": [
    "pow2 = []\n",
    "for x in range(10):\n",
    "    pow2.append(2 ** x)\n",
    "print(pow2)"
   ]
  },
  {
   "cell_type": "markdown",
   "id": "e0360a3f",
   "metadata": {
    "id": "e0360a3f"
   },
   "source": [
    "### Other List Operations in Python\n",
    "\n",
    "#### List Membership Test\n",
    "\n",
    "We can test if an item exists in a list or not, using the keyword in."
   ]
  },
  {
   "cell_type": "code",
   "execution_count": null,
   "id": "cf63c146",
   "metadata": {
    "id": "cf63c146",
    "outputId": "8fa0f696-3968-452f-d258-e3ca3b4a039c"
   },
   "outputs": [],
   "source": [
    "my_list = ['p', 'r', 'o', 'b', 'l', 'e', 'm']\n",
    "\n",
    "# Output: True\n",
    "print('p' in my_list)\n",
    "\n",
    "# Output: False\n",
    "print('a' in my_list)\n",
    "\n",
    "# Output: True\n",
    "print('c' not in my_list)"
   ]
  },
  {
   "cell_type": "markdown",
   "id": "9d068a9f",
   "metadata": {
    "id": "9d068a9f"
   },
   "source": [
    "### Iterating Through a List\n",
    "\n",
    "Using a for loop we can iterate through each item in a list."
   ]
  },
  {
   "cell_type": "code",
   "execution_count": null,
   "id": "808303e9",
   "metadata": {
    "id": "808303e9",
    "outputId": "8c378fd7-5eb8-48cb-fdba-323df262b744"
   },
   "outputs": [],
   "source": [
    "for fruit in ['apple','banana','mango']:\n",
    "    print(\"I like\",fruit)"
   ]
  },
  {
   "cell_type": "markdown",
   "id": "a5fab486",
   "metadata": {
    "id": "a5fab486"
   },
   "source": [
    "## Creating a Tuple\n",
    "\n",
    "A tuple is created by placing all the items (elements) inside parentheses (), separated by commas. The parentheses are optional, however, it is a good practice to use them.\n",
    "\n",
    "A tuple can have any number of items and they may be of different types (integer, float, list, string, etc.)."
   ]
  },
  {
   "cell_type": "code",
   "execution_count": null,
   "id": "2986d21c",
   "metadata": {
    "id": "2986d21c",
    "outputId": "39655799-d438-4d6b-e00b-3859b840da75"
   },
   "outputs": [],
   "source": [
    "# Different types of tuples\n",
    "\n",
    "# Empty tuple\n",
    "my_tuple = ()\n",
    "print(my_tuple)"
   ]
  },
  {
   "cell_type": "code",
   "execution_count": null,
   "id": "50c46243",
   "metadata": {},
   "outputs": [],
   "source": [
    "# Tuple having integers\n",
    "my_tuple = (1, 2, 3)\n",
    "print(my_tuple)"
   ]
  },
  {
   "cell_type": "code",
   "execution_count": null,
   "id": "d4a4a07f",
   "metadata": {},
   "outputs": [],
   "source": [
    "# tuple with mixed datatypes\n",
    "my_tuple = (1, \"Hello\", 3.4)\n",
    "print(my_tuple)"
   ]
  },
  {
   "cell_type": "code",
   "execution_count": null,
   "id": "cfe5226a",
   "metadata": {},
   "outputs": [],
   "source": [
    "# nested tuple\n",
    "my_tuple = (\"cat\", [8, 4, 6], (1, 2, 3))\n",
    "print(my_tuple)"
   ]
  },
  {
   "cell_type": "markdown",
   "id": "dbf2c225",
   "metadata": {
    "id": "dbf2c225"
   },
   "source": [
    "A tuple can also be created without using parentheses. This is known as tuple packing."
   ]
  },
  {
   "cell_type": "code",
   "execution_count": null,
   "id": "ef84495a",
   "metadata": {
    "id": "ef84495a",
    "outputId": "a3480dc6-6b4f-4021-db5b-f3f33e122271"
   },
   "outputs": [],
   "source": [
    "my_tuple = 3, 4.6, \"dog\"\n",
    "print(my_tuple)"
   ]
  },
  {
   "cell_type": "code",
   "execution_count": null,
   "id": "4a7a6ab4",
   "metadata": {},
   "outputs": [],
   "source": [
    "# tuple unpacking is also possible\n",
    "a, b, c = my_tuple\n",
    "\n",
    "print(a)      # 3\n",
    "print(b)      # 4.6\n",
    "print(c)      # dog"
   ]
  },
  {
   "cell_type": "markdown",
   "id": "f10c99ac",
   "metadata": {
    "id": "f10c99ac"
   },
   "source": [
    "Creating a tuple with one element is a bit tricky.\n",
    "\n",
    "Having one element within parentheses is not enough. We will need a trailing comma to indicate that it is, in fact, a tuple."
   ]
  },
  {
   "cell_type": "code",
   "execution_count": null,
   "id": "9bdd9586",
   "metadata": {
    "id": "9bdd9586",
    "outputId": "a4160800-11d8-4c32-cc25-cc66551d41a5"
   },
   "outputs": [],
   "source": [
    "my_tuple = (\"hello\")\n",
    "print(type(my_tuple))  # <class 'str'>"
   ]
  },
  {
   "cell_type": "code",
   "execution_count": null,
   "id": "fbcab658",
   "metadata": {},
   "outputs": [],
   "source": [
    "# Creating a tuple having one element\n",
    "my_tuple = (\"hello\",)\n",
    "print(type(my_tuple))  # <class 'tuple'>"
   ]
  },
  {
   "cell_type": "code",
   "execution_count": null,
   "id": "ea4417be",
   "metadata": {},
   "outputs": [],
   "source": [
    "# Parentheses is optional\n",
    "my_tuple = \"hello\",\n",
    "print(type(my_tuple))  # <class 'tuple'>"
   ]
  },
  {
   "attachments": {
    "image.png": {
     "image/png": "[encoded data removed]"
    }
   },
   "cell_type": "markdown",
   "id": "9fefc778",
   "metadata": {},
   "source": [
    "![image.png](attachment:image.png)"
   ]
  },
  {
   "cell_type": "code",
   "execution_count": 3,
   "id": "74de9605",
   "metadata": {},
   "outputs": [
    {
     "data": {
      "text/plain": [
       "[0,\n",
       " 2,\n",
       " 4,\n",
       " 6,\n",
       " 8,\n",
       " 10,\n",
       " 12,\n",
       " 14,\n",
       " 16,\n",
       " 18,\n",
       " 20,\n",
       " 22,\n",
       " 24,\n",
       " 26,\n",
       " 28,\n",
       " 30,\n",
       " 32,\n",
       " 34,\n",
       " 36,\n",
       " 38,\n",
       " 40,\n",
       " 42,\n",
       " 44,\n",
       " 46,\n",
       " 48,\n",
       " 50,\n",
       " 52,\n",
       " 54,\n",
       " 56,\n",
       " 58,\n",
       " 60,\n",
       " 62,\n",
       " 64,\n",
       " 66,\n",
       " 68,\n",
       " 70,\n",
       " 72,\n",
       " 74,\n",
       " 76,\n",
       " 78,\n",
       " 80,\n",
       " 82,\n",
       " 84,\n",
       " 86,\n",
       " 88,\n",
       " 90,\n",
       " 92,\n",
       " 94,\n",
       " 96,\n",
       " 98,\n",
       " 100,\n",
       " 102,\n",
       " 104,\n",
       " 106,\n",
       " 108,\n",
       " 110,\n",
       " 112,\n",
       " 114,\n",
       " 116,\n",
       " 118,\n",
       " 120,\n",
       " 122,\n",
       " 124,\n",
       " 126,\n",
       " 128,\n",
       " 130,\n",
       " 132,\n",
       " 134,\n",
       " 136,\n",
       " 138,\n",
       " 140,\n",
       " 142,\n",
       " 144,\n",
       " 146,\n",
       " 148,\n",
       " 150,\n",
       " 152,\n",
       " 154,\n",
       " 156,\n",
       " 158,\n",
       " 160,\n",
       " 162,\n",
       " 164,\n",
       " 166,\n",
       " 168,\n",
       " 170,\n",
       " 172,\n",
       " 174,\n",
       " 176,\n",
       " 178,\n",
       " 180,\n",
       " 182,\n",
       " 184,\n",
       " 186,\n",
       " 188,\n",
       " 190,\n",
       " 192,\n",
       " 194,\n",
       " 196,\n",
       " 198]"
      ]
     },
     "execution_count": 3,
     "metadata": {},
     "output_type": "execute_result"
    }
   ],
   "source": [
    "my_list =[x*2 for x in range(100)]\n",
    "my_list"
   ]
  },
  {
   "cell_type": "code",
   "execution_count": null,
   "id": "74d5107b",
   "metadata": {},
   "outputs": [],
   "source": [
    "list_numbers  = [1,2,3,4,5]\n",
    "\n",
    "tuple_numbers  = (1,2,3,4,5)\n",
    "\n",
    "print(list_numbers)\n",
    "\n",
    "print(tuple_numbers)"
   ]
  },
  {
   "cell_type": "markdown",
   "id": "4744cf55",
   "metadata": {
    "id": "4744cf55"
   },
   "source": [
    "### Access Tuple Elements\n",
    "\n",
    "There are various ways in which we can access the elements of a tuple.\n",
    "\n",
    "### Indexing\n",
    "\n",
    "We can use the index operator [] to access an item in a tuple, where the index starts from 0.\n",
    "\n",
    "So, a tuple having 6 elements will have indices from 0 to 5. Trying to access an index outside of the tuple index range(6,7,... in this example) will raise an IndexError.\n",
    "\n",
    "The index must be an integer, so we cannot use float or other types. This will result in TypeError.\n",
    "\n",
    "Likewise, nested tuples are accessed using nested indexing, as shown in the example below."
   ]
  },
  {
   "cell_type": "code",
   "execution_count": null,
   "id": "9d1eaf04",
   "metadata": {
    "id": "9d1eaf04",
    "outputId": "efaccd30-1ae1-4f0f-bbc3-48cdc7dc059c"
   },
   "outputs": [],
   "source": [
    "# Accessing tuple elements using indexing\n",
    "my_tuple = ('p','e','r','m','i','t')\n",
    "\n",
    "print(my_tuple[0])   # 'p' \n",
    "print(my_tuple[5])   # 't'\n",
    "\n"
   ]
  },
  {
   "cell_type": "code",
   "execution_count": null,
   "id": "ff22797e",
   "metadata": {},
   "outputs": [],
   "source": [
    "# IndexError: list index out of range\n",
    "# print(my_tuple[6])\n",
    "\n",
    "# Index must be an integer\n",
    "# TypeError: list indices must be integers, not float\n",
    "# my_tuple[2.0]\n",
    "\n",
    "# nested tuple\n",
    "n_tuple = (\"cat\", [8, 4, 6], (1, 2, 3))"
   ]
  },
  {
   "cell_type": "code",
   "execution_count": null,
   "id": "1ed22ee1",
   "metadata": {},
   "outputs": [],
   "source": [
    "# nested index\n",
    "print(n_tuple[0][2])       # 't'"
   ]
  },
  {
   "cell_type": "code",
   "execution_count": null,
   "id": "32861333",
   "metadata": {},
   "outputs": [],
   "source": [
    "print(n_tuple[1][1])       # 4"
   ]
  },
  {
   "cell_type": "code",
   "execution_count": null,
   "id": "15386512",
   "metadata": {},
   "outputs": [],
   "source": [
    "names = (\"Raj\",\"John\",\"Jabby\",\"Raja\")\n",
    "\n",
    "names[2] = \"Kelly\""
   ]
  },
  {
   "cell_type": "code",
   "execution_count": null,
   "id": "afe92a5f",
   "metadata": {},
   "outputs": [],
   "source": [
    "list_num=[1,2,3,4,5]\n",
    "list_num[2] = 5\n",
    "\n",
    "print(list_num)"
   ]
  },
  {
   "cell_type": "code",
   "execution_count": null,
   "id": "e0bf2e30",
   "metadata": {},
   "outputs": [],
   "source": [
    "tuple_num=(1,2,3,4,5)\n",
    "tup_num[2] = 7"
   ]
  },
  {
   "cell_type": "markdown",
   "id": "39a00ad0",
   "metadata": {
    "id": "39a00ad0"
   },
   "source": [
    "### Negative Indexing\n",
    "\n",
    "Python allows negative indexing for its sequences.\n",
    "\n",
    "The index of -1 refers to the last item, -2 to the second last item and so on."
   ]
  },
  {
   "cell_type": "code",
   "execution_count": null,
   "id": "13189ff9",
   "metadata": {
    "id": "13189ff9",
    "outputId": "5e30dba2-c3db-464a-e115-d9c92fea9e02"
   },
   "outputs": [],
   "source": [
    "# Negative indexing for accessing tuple elements\n",
    "my_tuple = ('p', 'e', 'r', 'm', 'i', 't')\n",
    "\n",
    "# Output: 't'\n",
    "print(my_tuple[-1])\n",
    "\n",
    "# Output: 'p'\n",
    "print(my_tuple[-6])"
   ]
  },
  {
   "cell_type": "markdown",
   "id": "90ab737d",
   "metadata": {
    "id": "90ab737d"
   },
   "source": [
    "### Slicing\n",
    "\n",
    "We can access a range of items in a tuple by using the slicing operator colon :."
   ]
  },
  {
   "cell_type": "code",
   "execution_count": null,
   "id": "cbf4fcf2",
   "metadata": {
    "id": "cbf4fcf2",
    "outputId": "d9633c00-11ee-4e24-b032-085461e7f9c7"
   },
   "outputs": [],
   "source": [
    "# Accessing tuple elements using slicing\n",
    "my_tuple = ('g','u','i','d','o','v','o','n','r','o','s','s','u','m')\n",
    "\n",
    "# elements 2nd to 4th\n",
    "# Output: ('u', 'i', 'd')\n",
    "print(my_tuple[1:4])"
   ]
  },
  {
   "cell_type": "code",
   "execution_count": null,
   "id": "541dba12",
   "metadata": {},
   "outputs": [],
   "source": [
    "# Output: ('g', 'u', 'i', 'd', 'o', 'v', 'o')\n",
    "print(my_tuple[:-7])\n",
    "\n",
    "# elements 8th to end\n",
    "# Output: ('n', 'r', 'o', 's', 's', 'u', 'm')\n",
    "print(my_tuple[7:])\n",
    "\n",
    "# elements beginning to end\n",
    "# Output: ('g','u','i','d','o','v','o','n','r','o','s','s','u','m')\n",
    "print(my_tuple[:])"
   ]
  },
  {
   "cell_type": "markdown",
   "id": "51a147c6",
   "metadata": {
    "id": "51a147c6"
   },
   "source": [
    "## Changing a Tuple\n",
    "\n",
    "Unlike lists, tuples are immutable.\n",
    "\n",
    "This means that elements of a tuple cannot be changed once they have been assigned. But, if the element is itself a mutable data type like a list, its nested items can be changed.\n",
    "\n",
    "We can also assign a tuple to different values (reassignment)."
   ]
  },
  {
   "cell_type": "code",
   "execution_count": 4,
   "id": "1fc8c187",
   "metadata": {
    "id": "1fc8c187",
    "outputId": "8d1f995f-e866-4711-8893-0ecde5adbf43"
   },
   "outputs": [
    {
     "ename": "TypeError",
     "evalue": "'tuple' object does not support item assignment",
     "output_type": "error",
     "traceback": [
      "\u001b[1;31m---------------------------------------------------------------------------\u001b[0m",
      "\u001b[1;31mTypeError\u001b[0m                                 Traceback (most recent call last)",
      "Cell \u001b[1;32mIn[4], line 5\u001b[0m\n\u001b[0;32m      2\u001b[0m my_tuple \u001b[38;5;241m=\u001b[39m (\u001b[38;5;241m4\u001b[39m, \u001b[38;5;241m2\u001b[39m, \u001b[38;5;241m3\u001b[39m, [\u001b[38;5;241m6\u001b[39m, \u001b[38;5;241m5\u001b[39m])\n\u001b[0;32m      4\u001b[0m \u001b[38;5;66;03m# TypeError: 'tuple' object does not support item assignment\u001b[39;00m\n\u001b[1;32m----> 5\u001b[0m \u001b[43mmy_tuple\u001b[49m\u001b[43m[\u001b[49m\u001b[38;5;241;43m1\u001b[39;49m\u001b[43m]\u001b[49m \u001b[38;5;241m=\u001b[39m \u001b[38;5;241m9\u001b[39m\n",
      "\u001b[1;31mTypeError\u001b[0m: 'tuple' object does not support item assignment"
     ]
    }
   ],
   "source": [
    "# Changing tuple values\n",
    "my_tuple = (4, 2, 3, [6, 5])\n",
    "\n",
    "# TypeError: 'tuple' object does not support item assignment\n",
    "my_tuple[1] = 9"
   ]
  },
  {
   "cell_type": "code",
   "execution_count": null,
   "id": "28143c50",
   "metadata": {},
   "outputs": [],
   "source": [
    "# However, item of mutable element can be changed\n",
    "my_tuple[3][0] = 9    # Output: (4, 2, 3, [9, 5])\n",
    "print(my_tuple)"
   ]
  },
  {
   "cell_type": "code",
   "execution_count": null,
   "id": "d7499087",
   "metadata": {},
   "outputs": [],
   "source": [
    "# Tuples can be reassigned\n",
    "my_tuple = ('g','u','i','d','o','v','o','n','r','o','s','s','u','m')\n",
    "\n",
    "# Output: ('g','u','i','d','o','v','o','n','r','o','s','s','u','m')\n",
    "print(my_tuple)"
   ]
  },
  {
   "cell_type": "markdown",
   "id": "1427716a",
   "metadata": {
    "id": "1427716a"
   },
   "source": [
    "We can use + operator to combine two tuples. This is called concatenation.\n",
    "\n",
    "We can also repeat the elements in a tuple for a given number of times using the * operator.\n",
    "\n",
    "Both + and * operations result in a new tuple."
   ]
  },
  {
   "cell_type": "code",
   "execution_count": null,
   "id": "5880b318",
   "metadata": {
    "id": "5880b318",
    "outputId": "11b5dcf2-5aed-493a-cde7-eb0f474f7af9"
   },
   "outputs": [],
   "source": [
    "# Concatenation\n",
    "# Output: (1, 2, 3, 4, 5, 6)\n",
    "print((1, 2, 3) + (4, 5, 6))"
   ]
  },
  {
   "cell_type": "code",
   "execution_count": null,
   "id": "69519c10",
   "metadata": {},
   "outputs": [],
   "source": [
    "# Repeat\n",
    "# Output: ('Repeat', 'Repeat', 'Repeat')\n",
    "print((\"Repeat\",) * 3)"
   ]
  },
  {
   "cell_type": "markdown",
   "id": "c435bfa5",
   "metadata": {
    "id": "c435bfa5"
   },
   "source": [
    "## Deleting a Tuple\n",
    "\n",
    "As discussed above, we cannot change the elements in a tuple. It means that we cannot delete or remove items from a tuple.\n",
    "\n",
    "Deleting a tuple entirely, however, is possible using the keyword del."
   ]
  },
  {
   "cell_type": "code",
   "execution_count": null,
   "id": "8de744c3",
   "metadata": {
    "id": "8de744c3",
    "outputId": "4c763008-67ca-4252-f58e-95184d473215"
   },
   "outputs": [],
   "source": [
    "# Deleting tuples\n",
    "my_tuple = ('g','u','i','d','o','v','o','n','r','o','s','s','u','m')\n",
    "\n",
    "# can't delete items\n",
    "# TypeError: 'tuple' object doesn't support item deletion\n",
    "del my_tuple[3]"
   ]
  },
  {
   "cell_type": "code",
   "execution_count": null,
   "id": "0b6cfb87",
   "metadata": {},
   "outputs": [],
   "source": [
    "# Can delete an entire tuple\n",
    "del my_tuple\n",
    "\n",
    "# NameError: name 'my_tuple' is not defined\n",
    "print(my_tuple)"
   ]
  },
  {
   "cell_type": "markdown",
   "id": "616951b9",
   "metadata": {
    "id": "616951b9"
   },
   "source": [
    "### Tuple Methods\n",
    "\n",
    "Methods that add items or remove items are not available with tuple. Only the following two methods are available.\n",
    "\n",
    "Some examples of Python tuple methods:"
   ]
  },
  {
   "cell_type": "code",
   "execution_count": null,
   "id": "6a52a279",
   "metadata": {
    "id": "6a52a279",
    "outputId": "b062989c-35ce-4122-c9b4-6e65a9507075"
   },
   "outputs": [],
   "source": [
    "my_tuple = ('a', 'p', 'p', 'l', 'e',)\n",
    "\n",
    "print(my_tuple.count('p'))  # Output: 2\n",
    "print(my_tuple.index('l'))  # Output: 3"
   ]
  },
  {
   "cell_type": "markdown",
   "id": "fce22796",
   "metadata": {
    "id": "fce22796"
   },
   "source": [
    "## Other Tuple Operations\n",
    "\n",
    "### Tuple Membership Test\n",
    "\n",
    "We can test if an item exists in a tuple or not, using the keyword in."
   ]
  },
  {
   "cell_type": "code",
   "execution_count": null,
   "id": "3ccb6b67",
   "metadata": {
    "id": "3ccb6b67",
    "outputId": "67302f77-8832-40a8-f7dc-13cde6146b0b"
   },
   "outputs": [],
   "source": [
    "# Membership test in tuple\n",
    "my_tuple = ('a', 'p', 'p', 'l', 'e',)\n",
    "\n",
    "# In operation\n",
    "print('a' in my_tuple)\n",
    "print('b' in my_tuple)\n",
    "\n",
    "# Not in operation\n",
    "print('g' not in my_tuple)"
   ]
  },
  {
   "cell_type": "markdown",
   "id": "bc09772f",
   "metadata": {
    "id": "bc09772f"
   },
   "source": [
    "### Iterating Through a Tuple\n",
    "\n",
    "We can use a for loop to iterate through each item in a tuple."
   ]
  },
  {
   "cell_type": "code",
   "execution_count": null,
   "id": "82078311",
   "metadata": {
    "id": "82078311",
    "outputId": "14747a82-5ef4-4047-a846-a9242b6805fb"
   },
   "outputs": [],
   "source": [
    "# Using a for loop to iterate through a tuple\n",
    "for name in ('John', 'Kate'):\n",
    "    print(\"Hello\", name)"
   ]
  },
  {
   "cell_type": "markdown",
   "id": "187de250",
   "metadata": {
    "id": "187de250"
   },
   "source": [
    "### Advantages of Tuple over List\n",
    "\n",
    "Since tuples are quite similar to lists, both of them are used in similar situations. However, there are certain advantages of implementing a tuple over a list. Below listed are some of the main advantages:\n",
    "\n",
    "- We generally use tuples for heterogeneous (different) data types and lists for homogeneous (similar) data types.\n",
    "\n",
    "- Since tuples are immutable, iterating through a tuple is faster than with list. So there is a slight performance boost.\n",
    "\n",
    "- Tuples that contain immutable elements can be used as a key for a dictionary. With lists, this is not possible.\n",
    "\n",
    "- If you have data that doesn't change, implementing it as tuple will guarantee that it remains write-protected."
   ]
  },
  {
   "cell_type": "markdown",
   "id": "12e111a2",
   "metadata": {
    "id": "12e111a2"
   },
   "source": [
    "## Creating Python Sets\n",
    "\n",
    "A set is an unordered collection of items. Every set element is unique (no duplicates) and must be immutable (cannot be changed).\n",
    "\n",
    "However, a set itself is mutable. We can add or remove items from it.\n",
    "\n",
    "Sets can also be used to perform mathematical set operations like union, intersection, symmetric difference, etc.\n",
    "\n",
    "A set is created by placing all the items (elements) inside curly braces {}, separated by comma, or by using the built-in set() function.\n",
    "\n",
    "It can have any number of items and they may be of different types (integer, float, tuple, string etc.). But a set cannot have mutable elements like lists, sets or dictionaries as its elements.\n",
    "\n",
    "Lists are ordered collection of items, while sets are unordered. This means that items in a set can appear in a different order from the order that they were added to the set."
   ]
  },
  {
   "cell_type": "code",
   "execution_count": null,
   "id": "8d6aa456",
   "metadata": {
    "id": "8d6aa456",
    "outputId": "59066449-01f3-4289-9c9a-9ca8409f3b5d"
   },
   "outputs": [],
   "source": [
    "# Different types of sets in Python\n",
    "# set of integers\n",
    "my_set = {1, 3, 2}\n",
    "print(my_set)\n",
    "\n",
    "# set of mixed datatypes\n",
    "my_set = {1.0, \"Hello\", (1, 2, 3)}\n",
    "print(my_set)"
   ]
  },
  {
   "cell_type": "markdown",
   "id": "7b5170d2",
   "metadata": {
    "id": "7b5170d2"
   },
   "source": [
    "Try the following examples as well."
   ]
  },
  {
   "cell_type": "code",
   "execution_count": 5,
   "id": "c23bb870",
   "metadata": {
    "id": "c23bb870",
    "outputId": "59350663-e399-41d5-ae11-03ce06d77449"
   },
   "outputs": [
    {
     "name": "stdout",
     "output_type": "stream",
     "text": [
      "{1, 2, 3, 4}\n",
      "{1, 2, 3}\n"
     ]
    },
    {
     "ename": "TypeError",
     "evalue": "unhashable type: 'list'",
     "output_type": "error",
     "traceback": [
      "\u001b[1;31m---------------------------------------------------------------------------\u001b[0m",
      "\u001b[1;31mTypeError\u001b[0m                                 Traceback (most recent call last)",
      "Cell \u001b[1;32mIn[5], line 15\u001b[0m\n\u001b[0;32m      9\u001b[0m \u001b[38;5;28mprint\u001b[39m(my_set)\n\u001b[0;32m     11\u001b[0m \u001b[38;5;66;03m# set cannot have mutable items\u001b[39;00m\n\u001b[0;32m     12\u001b[0m \u001b[38;5;66;03m# here [3, 4] is a mutable list\u001b[39;00m\n\u001b[0;32m     13\u001b[0m \u001b[38;5;66;03m# this will cause an error.\u001b[39;00m\n\u001b[1;32m---> 15\u001b[0m my_set \u001b[38;5;241m=\u001b[39m {\u001b[38;5;241m1\u001b[39m, \u001b[38;5;241m2\u001b[39m, [\u001b[38;5;241m3\u001b[39m, \u001b[38;5;241m4\u001b[39m]}\n",
      "\u001b[1;31mTypeError\u001b[0m: unhashable type: 'list'"
     ]
    }
   ],
   "source": [
    "# set cannot have duplicates\n",
    "# Output: {1, 2, 3, 4}\n",
    "my_set = {1, 2, 3, 4, 3, 2}\n",
    "print(my_set)\n",
    "\n",
    "# we can make set from a list\n",
    "# Output: {1, 2, 3}\n",
    "my_set = set([1, 2, 3, 2])\n",
    "print(my_set)\n",
    "\n",
    "# set cannot have mutable items\n",
    "# here [3, 4] is a mutable list\n",
    "# this will cause an error.\n",
    "\n",
    "my_set = {1, 2, [3, 4]}"
   ]
  },
  {
   "cell_type": "markdown",
   "id": "1a65d638",
   "metadata": {
    "id": "1a65d638"
   },
   "source": [
    "### Creating an empty set is a bit tricky.\n",
    "\n",
    "Empty curly braces {} will make an empty dictionary in Python. To make a set without any elements, we use the set() function without any argument."
   ]
  },
  {
   "cell_type": "code",
   "execution_count": null,
   "id": "62c3f000",
   "metadata": {
    "id": "62c3f000",
    "outputId": "bbe524d6-720b-4373-d405-970ae92df3d0"
   },
   "outputs": [],
   "source": [
    "# Distinguish set and dictionary while creating empty set\n",
    "\n",
    "# create an empty set\n",
    "empty_set = set()\n",
    "\n",
    "# create an empty dictionary\n",
    "empty_dictionary = { }\n",
    "\n",
    "# check data type of empty_set\n",
    "print('Data type of empty_set:', type(empty_set))\n",
    "\n",
    "# check data type of dictionary_set\n",
    "print('Data type of empty_dictionary', type(empty_dictionary))"
   ]
  },
  {
   "cell_type": "markdown",
   "id": "56d6e8b2",
   "metadata": {
    "id": "56d6e8b2"
   },
   "source": [
    "### Modifying a set in Python\n",
    "\n",
    "Sets are mutable. However, since they are unordered, indexing has no meaning.\n",
    "\n",
    "We cannot access or change an element of a set using indexing or slicing. Set data type does not support it.\n",
    "\n",
    "We can add a single element using the add() method, and multiple elements using the update() method. The update() method can take tuples, lists, strings or other sets as its argument. In all cases, duplicates are avoided."
   ]
  },
  {
   "cell_type": "code",
   "execution_count": null,
   "id": "489afc06",
   "metadata": {
    "id": "489afc06",
    "outputId": "edd59b1c-d863-46b8-b30e-a52f46c2be1f"
   },
   "outputs": [],
   "source": [
    "# initialize my_set\n",
    "my_set = {1, 3}\n",
    "print(my_set)"
   ]
  },
  {
   "cell_type": "code",
   "execution_count": null,
   "id": "6f8c7023",
   "metadata": {},
   "outputs": [],
   "source": [
    "type(my_set)"
   ]
  },
  {
   "cell_type": "code",
   "execution_count": null,
   "id": "cf8bad64",
   "metadata": {},
   "outputs": [],
   "source": [
    "my_set[0]\n",
    "# if you uncomment the above line\n",
    "# you will get an error\n",
    "# TypeError: 'set' object does not support indexing"
   ]
  },
  {
   "cell_type": "code",
   "execution_count": null,
   "id": "5226c933",
   "metadata": {},
   "outputs": [],
   "source": [
    "# add an element\n",
    "# Output: {1, 2, 3}\n",
    "my_set.add(2)\n",
    "print(my_set)"
   ]
  },
  {
   "cell_type": "code",
   "execution_count": null,
   "id": "d995cf19",
   "metadata": {},
   "outputs": [],
   "source": [
    "# add multiple elements\n",
    "# The update() method updates the current set, by adding items from another set (or any other iterable). \n",
    "# If an item is present in both sets, only one appearance of this item will be present in the updated set.\n",
    "# Output: {1, 2, 3, 4}\n",
    "my_set.update([2, 3, 4])\n",
    "print(my_set)"
   ]
  },
  {
   "cell_type": "code",
   "execution_count": null,
   "id": "ebac2adf",
   "metadata": {},
   "outputs": [],
   "source": [
    "# add list and set\n",
    "# Output: {1, 2, 3, 4, 5, 6, 8}\n",
    "my_set.update([4, 5], {1, 6, 8})\n",
    "print(my_set)"
   ]
  },
  {
   "cell_type": "markdown",
   "id": "fa1ba7ee",
   "metadata": {
    "id": "fa1ba7ee"
   },
   "source": [
    "## Removing elements from a set\n",
    "\n",
    "A particular item can be removed from a set using the methods discard() and remove().\n",
    "\n",
    "The only difference between the two is that the discard() function leaves a set unchanged if the element is not present in the set. On the other hand, the remove() function will raise an error in such a condition (if element is not present in the set).\n",
    "\n",
    "The following example will illustrate this."
   ]
  },
  {
   "cell_type": "code",
   "execution_count": null,
   "id": "0b0d9584",
   "metadata": {
    "id": "0b0d9584",
    "outputId": "0ada61ed-062d-431f-c5f0-37dbf005a318"
   },
   "outputs": [],
   "source": [
    "# Difference between discard() and remove()\n",
    "\n",
    "# initialize my_set\n",
    "my_set = {1, 3, 4, 5, 6}\n",
    "print(my_set)"
   ]
  },
  {
   "cell_type": "code",
   "execution_count": null,
   "id": "fac4195c",
   "metadata": {},
   "outputs": [],
   "source": [
    "# discard an element\n",
    "# Output: {1, 3, 5, 6}\n",
    "my_set.discard(4)\n",
    "print(my_set)"
   ]
  },
  {
   "cell_type": "code",
   "execution_count": null,
   "id": "51e5c866",
   "metadata": {},
   "outputs": [],
   "source": [
    "# remove an element\n",
    "# Output: {1, 3, 5}\n",
    "my_set.remove(6)\n",
    "print(my_set)"
   ]
  },
  {
   "cell_type": "code",
   "execution_count": null,
   "id": "c64ad7b4",
   "metadata": {},
   "outputs": [],
   "source": [
    "# discard an element\n",
    "# not present in my_set\n",
    "# Output: {1, 3, 5}\n",
    "my_set.discard(2)\n",
    "print(my_set)"
   ]
  },
  {
   "cell_type": "code",
   "execution_count": null,
   "id": "42f94769",
   "metadata": {},
   "outputs": [],
   "source": [
    "# remove an element\n",
    "# not present in my_set\n",
    "# you will get an error.\n",
    "# Output: KeyError\n",
    "\n",
    "my_set.remove(2)"
   ]
  },
  {
   "cell_type": "markdown",
   "id": "cca3bbc2",
   "metadata": {
    "id": "cca3bbc2"
   },
   "source": [
    "Similarly, we can remove and return an item using the pop() method.\n",
    "\n",
    "Since set is an unordered data type, there is no way of determining which item will be popped. It is completely arbitrary.\n",
    "\n",
    "We can also remove all the items from a set using the clear() method."
   ]
  },
  {
   "cell_type": "code",
   "execution_count": null,
   "id": "523fd7d4",
   "metadata": {
    "id": "523fd7d4",
    "outputId": "60f2e128-9e30-4a93-e985-4d03d1d8c4ad"
   },
   "outputs": [],
   "source": [
    "# initialize my_set\n",
    "# Output: set of unique elements\n",
    "my_set = set(\"HelloWorld\")\n",
    "print(my_set)"
   ]
  },
  {
   "cell_type": "code",
   "execution_count": null,
   "id": "5852f81d",
   "metadata": {},
   "outputs": [],
   "source": [
    "# pop an element\n",
    "# Output: random element\n",
    "print(my_set.pop())"
   ]
  },
  {
   "cell_type": "code",
   "execution_count": null,
   "id": "29a5714a",
   "metadata": {},
   "outputs": [],
   "source": [
    "# pop another element\n",
    "my_set.pop()\n",
    "print(my_set)"
   ]
  },
  {
   "cell_type": "code",
   "execution_count": null,
   "id": "71104f2b",
   "metadata": {},
   "outputs": [],
   "source": [
    "# clear my_set\n",
    "# Output: set()\n",
    "my_set.clear()\n",
    "print(my_set)"
   ]
  },
  {
   "cell_type": "markdown",
   "id": "dfa35036",
   "metadata": {
    "id": "dfa35036"
   },
   "source": [
    "## Python Set Operations\n",
    "\n",
    "Sets can be used to carry out mathematical set operations like union, intersection, difference and symmetric difference. We can do this with operators or methods.\n",
    "\n",
    "Let us consider the following two sets for the following operations.\n",
    "\n",
    "### Set Union"
   ]
  },
  {
   "cell_type": "markdown",
   "id": "283d40ad",
   "metadata": {
    "id": "283d40ad"
   },
   "source": [
    "![Ekran Resmi 2022-10-22 18.18.14.png](data:image/png;base64,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)"
   ]
  },
  {
   "cell_type": "markdown",
   "id": "13d07771",
   "metadata": {
    "id": "13d07771"
   },
   "source": [
    "Union of A and B is a set of all elements from both sets.\n",
    "\n",
    "Union is performed using | operator. Same can be accomplished using the union() method."
   ]
  },
  {
   "cell_type": "code",
   "execution_count": null,
   "id": "790f40ae",
   "metadata": {
    "id": "790f40ae",
    "outputId": "755ab705-e469-4d0d-de6b-d27dab871625"
   },
   "outputs": [],
   "source": [
    "# Set union method\n",
    "# initialize A and B\n",
    "A = {1, 2, 3, 4, 5}\n",
    "B = {4, 5, 6, 7, 8}\n",
    "\n",
    "# use | operator\n",
    "# Output: {1, 2, 3, 4, 5, 6, 7, 8}\n",
    "print(A | B)"
   ]
  },
  {
   "cell_type": "markdown",
   "id": "5fc992c5",
   "metadata": {
    "id": "5fc992c5"
   },
   "source": [
    "### Set Intersection"
   ]
  },
  {
   "cell_type": "markdown",
   "id": "aa5e4644",
   "metadata": {
    "id": "aa5e4644"
   },
   "source": [
    "![Ekran Resmi 2022-10-22 18.18.41.png](data:image/png;base64,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)"
   ]
  },
  {
   "cell_type": "markdown",
   "id": "ac8078f4",
   "metadata": {
    "id": "ac8078f4"
   },
   "source": [
    "Intersection of A and B is a set of elements that are common in both the sets.\n",
    "\n",
    "Intersection is performed using & operator. Same can be accomplished using the intersection() method."
   ]
  },
  {
   "cell_type": "code",
   "execution_count": null,
   "id": "753d5ae5",
   "metadata": {
    "id": "753d5ae5",
    "outputId": "fc97c7ae-fd64-4c81-a7c4-bdbecfa3864e"
   },
   "outputs": [],
   "source": [
    "# Intersection of sets\n",
    "# initialize A and B\n",
    "A = {1, 2, 3, 4, 5}\n",
    "B = {4, 5, 6, 7, 8}\n",
    "\n",
    "# use & operator\n",
    "# Output: {4, 5}\n",
    "print(A & B)"
   ]
  },
  {
   "cell_type": "markdown",
   "id": "7066b00a",
   "metadata": {
    "id": "7066b00a"
   },
   "source": [
    "### Set Difference"
   ]
  },
  {
   "cell_type": "markdown",
   "id": "c14af6e3",
   "metadata": {
    "id": "c14af6e3"
   },
   "source": [
    "![Ekran Resmi 2022-10-22 18.19.07.png](data:image/png;base64,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)"
   ]
  },
  {
   "cell_type": "markdown",
   "id": "6f4debfb",
   "metadata": {
    "id": "6f4debfb"
   },
   "source": [
    "Difference of the set B from set A(A - B) is a set of elements that are only in A but not in B. Similarly, B - A is a set of elements in B but not in A.\n",
    "\n",
    "Difference is performed using - operator. Same can be accomplished using the difference() method."
   ]
  },
  {
   "cell_type": "code",
   "execution_count": null,
   "id": "715d3207",
   "metadata": {
    "id": "715d3207",
    "outputId": "7630126e-3be6-412e-f354-92367b5aa684"
   },
   "outputs": [],
   "source": [
    "# Difference of two sets\n",
    "# initialize A and B\n",
    "A = {1, 2, 3, 4, 5}\n",
    "B = {4, 5, 6, 7, 8}\n",
    "\n",
    "# use - operator on A\n",
    "# Output: {1, 2, 3}\n",
    "print(A - B)"
   ]
  },
  {
   "cell_type": "markdown",
   "id": "3e8b0fe0",
   "metadata": {
    "id": "3e8b0fe0"
   },
   "source": [
    "### Set Symmetric Difference"
   ]
  },
  {
   "cell_type": "markdown",
   "id": "db7087b9",
   "metadata": {
    "id": "db7087b9"
   },
   "source": [
    "![Ekran Resmi 2022-10-22 18.19.35.png](data:image/png;base64,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)"
   ]
  },
  {
   "cell_type": "markdown",
   "id": "ecc4f608",
   "metadata": {
    "id": "ecc4f608"
   },
   "source": [
    "Symmetric Difference of A and B is a set of elements in A and B but not in both (excluding the intersection).\n",
    "\n",
    "Symmetric difference is performed using ^ operator. Same can be accomplished using the method symmetric_difference()."
   ]
  },
  {
   "cell_type": "code",
   "execution_count": null,
   "id": "768eefd7",
   "metadata": {
    "id": "768eefd7",
    "outputId": "94ad21e4-4f3e-48a6-c946-acd5369ecc31"
   },
   "outputs": [],
   "source": [
    "# Symmetric difference of two sets\n",
    "# initialize A and B\n",
    "A = {1, 2, 3, 4, 5}\n",
    "B = {4, 5, 6, 7, 8}\n",
    "\n",
    "# use ^ operator\n",
    "# Output: {1, 2, 3, 6, 7, 8}\n",
    "print(A ^ B)"
   ]
  },
  {
   "cell_type": "markdown",
   "id": "4cc911c0",
   "metadata": {
    "id": "4cc911c0"
   },
   "source": [
    "### Other Python Set Methods\n",
    "\n",
    "There are many set methods, some of which we have already used above. Here is a list of all the methods that are available with the set objects:\n",
    "\n",
    "<table>\n",
    "<tr>\n",
    "  <th>Methods<th><th>Descriptions<th>\n",
    "<tr>\n",
    "  <td>add()<td><td>Adds an element to the set<td>\n",
    "<tr>\n",
    "  <td>clear()<td><td>Removes all elements from the set<td>\n",
    "<tr>\n",
    "  <td>copy()<td><td>Returns a copy of the set<td>\n",
    "<tr>\n",
    "  <td>difference()<td><td>Returns the difference of two or more sets as a new set<td>\n",
    "<tr>\n",
    "  <td>difference_update()<td><td>Removes all elements of another set from this set<td>\n",
    "<tr>\n",
    "  <td>discard()<td><td>Removes an element from the set if it is a member. (Do nothing if the element is not in set)<td>\n",
    "<tr>\n",
    "  <td>intersection()<td><td>Returns the intersection of two sets as a new set<td>\n",
    "<tr>\n",
    "  <td>intersection_update()<td><td>Updates the set with the intersection of itself and another<td>\n",
    "<tr>\n",
    "  <td>isdisjoint()<td><td>Returns True if two sets have a null intersection<td>\n",
    "<tr>\n",
    "  <td>issubset()<td><td>Returns True if another set contains this set<td>\n",
    "<tr>\n",
    "  <td>issuperset()<td><td>Returns True if this set contains another set<td>\n",
    "<tr>\n",
    "  <td>pop()<td><td>Removes and returns an arbitrary set element. Raises KeyError if the set is empty<td>\n",
    "<tr>\n",
    "  <td>remove()<td><td>Removes an element from the set. If the element is not a member, raises a KeyError<td>\n",
    "<tr>\n",
    "  <td>symmetric_difference()<td><td>Returns the symmetric difference of two sets as a new set<td>\n",
    "<tr>\n",
    "  <td>symmetric_difference_update()<td><td>Updates a set with the symmetric difference of itself and another<td>\n",
    "<tr>\n",
    "  <td>union()<td><td>Returns the union of sets in a new set<td>\n",
    "<tr>\n",
    "  <td>update()<td><td>Updates the set with the union of itself and others<td>\n",
    "<tr>\n",
    "<table>\n",
    "    \n",
    "## Other Set Operations\n",
    "    \n",
    "### Set Membership Test\n",
    "    \n",
    "We can test if an item exists in a set or not, using the in keyword."
   ]
  },
  {
   "cell_type": "code",
   "execution_count": null,
   "id": "427142f7",
   "metadata": {
    "id": "427142f7",
    "outputId": "a22b266b-6b4c-421f-cd69-0dbaef6769c0"
   },
   "outputs": [],
   "source": [
    "# in keyword in a set\n",
    "# initialize my_set\n",
    "my_set = set(\"apple\")\n",
    "\n",
    "# check if 'a' is present\n",
    "# Output: True\n",
    "print('a' in my_set)\n",
    "\n",
    "# check if 'p' is present\n",
    "# Output: False\n",
    "print('p' not in my_set)"
   ]
  },
  {
   "cell_type": "code",
   "execution_count": null,
   "id": "9d405bc9",
   "metadata": {},
   "outputs": [],
   "source": [
    "type(my_set)"
   ]
  },
  {
   "cell_type": "markdown",
   "id": "445d1c41",
   "metadata": {
    "id": "445d1c41"
   },
   "source": [
    "### Iterating Through a Set\n",
    "\n",
    "We can iterate through each item in a set using a for loop."
   ]
  },
  {
   "cell_type": "code",
   "execution_count": null,
   "id": "5ea86133",
   "metadata": {
    "id": "5ea86133",
    "outputId": "73a67214-243b-46d9-b904-eb4528d733b5"
   },
   "outputs": [],
   "source": [
    "for letter in set(\"apple\"):\n",
    "    print(letter)"
   ]
  },
  {
   "cell_type": "markdown",
   "id": "73bb6b8e",
   "metadata": {
    "id": "73bb6b8e"
   },
   "source": [
    "### Built-in Functions with Set\n",
    "\n",
    "Built-in functions like all(), any(), enumerate(), len(), max(), min(), sorted(), sum() etc. are commonly used with sets to perform different tasks.\n",
    "\n",
    "<table>\n",
    "<tr>\n",
    "  <th>Methods<th><th>Descriptions<th>\n",
    "<tr>\n",
    "  <td>all()<td><td>Returns True if all elements of the set are true (or if the set is empty).\n",
    "<td>\n",
    "<tr>\n",
    "  <td>any()<td><td>Returns True if any element of the set is true. If the set is empty, returns False.\n",
    "<td>\n",
    "<tr>\n",
    "  <td>enumerate()<td><td>Returns an enumerate object. It contains the index and value for all the items of the set as a pair.\n",
    "<td>\n",
    "<tr>\n",
    "  <td>len()<td><td>Returns the length (the number of items) in the set.\n",
    "<td>\n",
    "<tr>\n",
    "  <td>max()<td><td>Returns the largest item in the set.\n",
    "<td>\n",
    "<tr>\n",
    "  <td>min()<td><td>Returns the smallest item in the set.\n",
    "<td>\n",
    "<tr>\n",
    "  <td>sorted()<td><td>Returns a new sorted list from elements in the set(does not sort the set itself).\n",
    "<td>\n",
    "<tr>\n",
    "  <td>sum()<td><td>Returns the sum of all elements in the set.\n",
    "<td>\n",
    "<tr>\n",
    "<table>\n"
   ]
  },
  {
   "cell_type": "code",
   "execution_count": null,
   "id": "40cb843e",
   "metadata": {},
   "outputs": [],
   "source": [
    "numbers = {21, 34, 54, 12}\n",
    "\n",
    "print('Initial Set:',numbers)\n",
    "\n",
    "# using add() method\n",
    "numbers.add(32)\n",
    "\n",
    "print('Updated Set:', numbers) "
   ]
  },
  {
   "cell_type": "code",
   "execution_count": null,
   "id": "d75747ef",
   "metadata": {},
   "outputs": [],
   "source": [
    "languages = {'Swift', 'Java', 'Python'}\n",
    "\n",
    "print('Initial Set:',languages)\n",
    "\n",
    "# remove 'Java' from a set\n",
    "removedValue = languages.discard('Java')\n",
    "\n",
    "print('Set after remove():', languages)"
   ]
  },
  {
   "cell_type": "code",
   "execution_count": null,
   "id": "567b8feb",
   "metadata": {},
   "outputs": [],
   "source": [
    "A = {'a', 'c', 'd'}\n",
    "B = {'c', 'd', 2 }\n",
    "C = {1, 2, 3}\n",
    "\n",
    "print('A U B =', A.union(B))\n",
    "print('B U C =', B.union(C))\n",
    "print('A U B U C =', A.union(B, C))\n",
    "\n",
    "print('A.union() =', A.union())"
   ]
  },
  {
   "cell_type": "code",
   "execution_count": null,
   "id": "0e0ef25c",
   "metadata": {},
   "outputs": [],
   "source": [
    "A"
   ]
  },
  {
   "cell_type": "markdown",
   "id": "4299e2db",
   "metadata": {},
   "source": [
    "## Python Frozenset (will be discussed later.)"
   ]
  },
  {
   "cell_type": "markdown",
   "id": "2f6951d7",
   "metadata": {
    "id": "3e3262ad"
   },
   "source": [
    "## Python Dictionary\n",
    "\n",
    "## Creating Python Dictionary\n",
    "\n",
    "Creating a dictionary is as simple as placing items inside curly braces {} separated by commas.\n",
    "\n",
    "An item has a key and a corresponding value that is expressed as a pair (key: value).\n",
    "\n",
    "While the values can be of any data type and can repeat, keys must be of immutable type (string, number or tuple with immutable elements) and must be unique."
   ]
  },
  {
   "cell_type": "code",
   "execution_count": null,
   "id": "5a39ffbe",
   "metadata": {},
   "outputs": [],
   "source": [
    "# empty dictionary\n",
    "my_dictionary = {}\n",
    "my_dictionary"
   ]
  },
  {
   "cell_type": "code",
   "execution_count": null,
   "id": "f2aea92d",
   "metadata": {},
   "outputs": [],
   "source": [
    "# dictionary with integer keys\n",
    "my_dictionary = {1: 'apple', 2: 'ball'}\n",
    "my_dictionary"
   ]
  },
  {
   "cell_type": "code",
   "execution_count": null,
   "id": "bed122d9",
   "metadata": {},
   "outputs": [],
   "source": [
    "# dictionary with mixed keys\n",
    "my_dictionary = {'name': 'John', 1: [2, 4, 3]}\n",
    "\n",
    "# using dict()\n",
    "my_dictionary = dict({1:'apple', 2:'ball'})\n",
    "\n",
    "# from sequence having each item as a pair\n",
    "my_dictionary = dict([(1,'apple'), (2,'ball')])"
   ]
  },
  {
   "cell_type": "markdown",
   "id": "5d6a7ca9",
   "metadata": {},
   "source": [
    "As you can see from above, we can also create a dictionary using the built-in dict() function.\n",
    "\n",
    "## Accessing Elements from Dictionary\n",
    "\n",
    "While indexing is used with other data types to access values, a dictionary uses keys. Keys can be used either inside square brackets [] or with the get() method.\n",
    "\n",
    "If we use the square brackets [], KeyError is raised in case a key is not found in the dictionary. On the other hand, the get() method returns None if the key is not found."
   ]
  },
  {
   "cell_type": "code",
   "execution_count": null,
   "id": "66f5e43c",
   "metadata": {},
   "outputs": [],
   "source": [
    "# get vs [] for retrieving elements\n",
    "my_dict = {'name': 'Jack', 'age': 26}\n",
    "\n",
    "# Output: Jack\n",
    "print(my_dict['name'])\n",
    "\n",
    "# Output: 26\n",
    "print(my_dict.get('age'))\n",
    "\n",
    "# Trying to access keys which doesn't exist throws error\n",
    "# Output None\n",
    "print(my_dict.get('address'))\n",
    "\n",
    "# KeyError\n",
    "print(my_dict['address'])"
   ]
  },
  {
   "cell_type": "markdown",
   "id": "56647f75",
   "metadata": {},
   "source": [
    "## Changing and Adding Dictionary elements\n",
    "\n",
    "Dictionaries are mutable. We can add new items or change the value of existing items using an assignment operator.\n",
    "\n",
    "If the key is already present, then the existing value gets updated. In case the key is not present, a new (key: value) pair is added to the dictionary."
   ]
  },
  {
   "cell_type": "code",
   "execution_count": null,
   "id": "21be5c11",
   "metadata": {},
   "outputs": [],
   "source": [
    "# Changing and adding Dictionary Elements\n",
    "my_dict = {'name': 'Jack', 'age': 26}\n",
    "\n",
    "# update value\n",
    "my_dict['age'] = 27\n",
    "\n",
    "#Output: {'age': 27, 'name': 'Jack'}\n",
    "print(my_dict)\n",
    "\n",
    "# add item\n",
    "my_dict['address'] = 'Downtown'\n",
    "\n",
    "# Output: {'address': 'Downtown', 'age': 27, 'name': 'Jack'}\n",
    "print(my_dict)"
   ]
  },
  {
   "cell_type": "markdown",
   "id": "d5315a47",
   "metadata": {},
   "source": [
    "## Removing elements from Dictionary\n",
    "\n",
    "We can remove a particular item in a dictionary by using the pop() method. This method removes an item with the provided key and returns the value.\n",
    "\n",
    "The popitem() method can be used to remove and return an arbitrary (key, value) item pair from the dictionary. All the items can be removed at once, using the clear() method.\n",
    "\n",
    "We can also use the del keyword to remove individual items or the entire dictionary itself."
   ]
  },
  {
   "cell_type": "code",
   "execution_count": null,
   "id": "53609393",
   "metadata": {},
   "outputs": [],
   "source": [
    "# Removing elements from a dictionary\n",
    "\n",
    "# create a dictionary\n",
    "squares = {1: 1, 2: 4, 3: 9, 4: 16, 5: 25}\n",
    "\n",
    "print(squares)\n",
    "\n",
    "# remove a particular item, returns its value\n",
    "# Output: 16\n",
    "print(squares.pop(4))\n",
    "\n",
    "# Output: {1: 1, 2: 4, 3: 9, 5: 25}\n",
    "print(squares)"
   ]
  },
  {
   "cell_type": "code",
   "execution_count": null,
   "id": "838e7214",
   "metadata": {},
   "outputs": [],
   "source": [
    "# The popitem() method removes the item that was last inserted into the dictionary\n",
    "# Output: (5, 25)\n",
    "print(squares.popitem())\n",
    "\n",
    "# Output: {1: 1, 2: 4, 3: 9}\n",
    "print(squares)"
   ]
  },
  {
   "cell_type": "code",
   "execution_count": null,
   "id": "97e6010a",
   "metadata": {},
   "outputs": [],
   "source": [
    "# remove all items\n",
    "squares.clear()\n",
    "\n",
    "# Output: {}\n",
    "print(squares)"
   ]
  },
  {
   "cell_type": "code",
   "execution_count": null,
   "id": "5ab64808",
   "metadata": {},
   "outputs": [],
   "source": [
    "# delete the dictionary itself\n",
    "del squares\n",
    "\n",
    "# Throws Error\n",
    "print(squares)"
   ]
  },
  {
   "cell_type": "markdown",
   "id": "15188907",
   "metadata": {},
   "source": [
    "## Python Dictionary Methods\n",
    "\n",
    "Methods that are available with a dictionary are tabulated below. Some of them have already been used in the above examples.\n",
    "\n",
    "<table>\n",
    "<tr>\n",
    "  <th>Methods<th><th>Descriptions<th>\n",
    "<tr>\n",
    "  <td>clear()<td><td>Removes all items from the dictionary.<td>\n",
    "<tr>\n",
    "  <td>copy()<td><td>Returns a shallow copy of the dictionary.<td>\n",
    "<tr>\n",
    "  <td>fromkeys(seq[, v])<td><td>Returns a new dictionary with keys from seq and value equal to v (defaults to None).<td>\n",
    "<tr>\n",
    "  <td>get(key[,d])<td><td>Returns the value of the key. If the key does not exist, returns d (defaults to None).<td>\n",
    "<tr>\n",
    "  <td>items()<td><td>Return a new object of the dictionary's items in (key, value) format.<td>\n",
    "<tr>\n",
    "  <td>keys()<td><td>Returns a new object of the dictionary's keys.<td>\n",
    "<tr>\n",
    "  <td>pop(key[,d])<td><td>Removes the item with the key and returns its value or d if key is not found. If d is not provided and the key is not found, it raises KeyError.<td>\n",
    "<tr>\n",
    "  <td>popitem()<td><td>Removes and returns an arbitrary item (key, value). Raises KeyError if the dictionary is empty.<td>\n",
    "<tr>\n",
    "  <td>setdefault(key[,d])<td><td>Returns the corresponding value if the key is in the dictionary. If not, inserts the key with a value of d and returns d (defaults to None).<td>\n",
    "<tr>\n",
    "  <td>update([other])<td><td>Updates the dictionary with the key/value pairs from other, overwriting existing keys.<td>\n",
    "<tr>\n",
    "  <td>values()<td><td>Returns a new object of the dictionary's values<td>\n",
    "<tr>\n",
    "<table>\n",
    "\n",
    "Here are a few example use cases of these methods."
   ]
  },
  {
   "cell_type": "code",
   "execution_count": null,
   "id": "24dc19dd",
   "metadata": {},
   "outputs": [],
   "source": [
    "# Dictionary Methods\n",
    "marks = {}.fromkeys(['Math', 'English', 'Science'], 0)\n",
    "\n",
    "# Output: {'English': 0, 'Math': 0, 'Science': 0}\n",
    "print(marks)"
   ]
  },
  {
   "cell_type": "code",
   "execution_count": 9,
   "id": "ddc9ad06",
   "metadata": {},
   "outputs": [
    {
     "name": "stdout",
     "output_type": "stream",
     "text": [
      "dict_items([('brand', 'Ford'), ('model', 'Mustang'), ('year', 1964)])\n"
     ]
    }
   ],
   "source": [
    "car = {\n",
    "  \"brand\": \"Ford\",\n",
    "  \"model\": \"Mustang\",\n",
    "  \"year\": 1964\n",
    "}\n",
    "\n",
    "# #The items() method returns a view object. \n",
    "#The view object contains the key-value pairs of the dictionary, as tuples in a list.\n",
    "x = car.items()\n",
    "\n",
    "print(x)\n"
   ]
  },
  {
   "cell_type": "code",
   "execution_count": 10,
   "id": "da944e8e",
   "metadata": {},
   "outputs": [],
   "source": [
    "zoo = {\"inekler\":2  , \"atlar\" : [2,4] ,\"eşeklerim\" : \"ai ai \"}"
   ]
  },
  {
   "cell_type": "code",
   "execution_count": 11,
   "id": "736df0d3",
   "metadata": {},
   "outputs": [
    {
     "data": {
      "text/plain": [
       "2"
      ]
     },
     "execution_count": 11,
     "metadata": {},
     "output_type": "execute_result"
    }
   ],
   "source": [
    "zoo[\"inekler\"]"
   ]
  },
  {
   "cell_type": "code",
   "execution_count": 12,
   "id": "4c2372f6",
   "metadata": {},
   "outputs": [
    {
     "data": {
      "text/plain": [
       "2"
      ]
     },
     "execution_count": 12,
     "metadata": {},
     "output_type": "execute_result"
    }
   ],
   "source": [
    "zoo[\"atlar\"][0]"
   ]
  },
  {
   "cell_type": "code",
   "execution_count": 13,
   "id": "af4c3a7b",
   "metadata": {},
   "outputs": [],
   "source": [
    "zoo[\"kuşlar\"] =\"cik cik\""
   ]
  },
  {
   "cell_type": "code",
   "execution_count": 14,
   "id": "665a8ee1",
   "metadata": {},
   "outputs": [
    {
     "data": {
      "text/plain": [
       "{'inekler': 2, 'atlar': [2, 4], 'eşeklerim': 'ai ai ', 'kuşlar': 'cik cik'}"
      ]
     },
     "execution_count": 14,
     "metadata": {},
     "output_type": "execute_result"
    }
   ],
   "source": [
    "zoo"
   ]
  },
  {
   "cell_type": "markdown",
   "id": "bd9a1488",
   "metadata": {},
   "source": []
  },
  {
   "cell_type": "code",
   "execution_count": null,
   "id": "4b4ad014",
   "metadata": {},
   "outputs": [],
   "source": [
    "car"
   ]
  },
  {
   "cell_type": "code",
   "execution_count": null,
   "id": "a4230904",
   "metadata": {},
   "outputs": [],
   "source": [
    "for item in marks.items():\n",
    "    print(item)"
   ]
  },
  {
   "cell_type": "code",
   "execution_count": null,
   "id": "83534eea",
   "metadata": {},
   "outputs": [],
   "source": [
    "# The sorted() function returns a sorted list of the specified iterable object.\n",
    "\n",
    "# Output: ['English', 'Math', 'Science']\n",
    "print(list(sorted(marks.keys())))"
   ]
  },
  {
   "cell_type": "markdown",
   "id": "21f09885",
   "metadata": {},
   "source": [
    "## Python Dictionary Comprehension\n",
    "\n",
    "Dictionary comprehension is an elegant and concise way to create a new dictionary from an iterable in Python.\n",
    "\n",
    "Dictionary comprehension consists of an expression pair (key: value) followed by a for statement inside curly braces {}.\n",
    "\n",
    "Here is an example to make a dictionary with each item being a pair of a number and its square."
   ]
  },
  {
   "cell_type": "code",
   "execution_count": null,
   "id": "93a57ef4",
   "metadata": {},
   "outputs": [],
   "source": [
    "# Dictionary Comprehension\n",
    "squares = {x: x*x for x in range(6)}\n",
    "\n",
    "print(squares)"
   ]
  },
  {
   "cell_type": "markdown",
   "id": "7ad6b779",
   "metadata": {},
   "source": [
    "This code is equivalent to:"
   ]
  },
  {
   "cell_type": "code",
   "execution_count": null,
   "id": "7bf69512",
   "metadata": {},
   "outputs": [],
   "source": [
    "squares = {}\n",
    "for x in range(6):\n",
    "    squares[x] = x * x\n",
    "print(squares)"
   ]
  },
  {
   "cell_type": "markdown",
   "id": "afc37a29",
   "metadata": {},
   "source": [
    "A dictionary comprehension can optionally contain more for or if statements.\n",
    "\n",
    "An optional if statement can filter out items to form the new dictionary.\n",
    "\n",
    "Here are some examples to make a dictionary with only odd items."
   ]
  },
  {
   "cell_type": "code",
   "execution_count": null,
   "id": "e03a7e47",
   "metadata": {},
   "outputs": [],
   "source": [
    "# Dictionary Comprehension with if conditional\n",
    "odd_squares = {x: x*x for x in range(11) if x % 2 == 1}\n",
    "\n",
    "print(odd_squares)"
   ]
  },
  {
   "cell_type": "markdown",
   "id": "452bb3e6",
   "metadata": {},
   "source": [
    "## Other Dictionary Operations\n",
    "\n",
    "### Dictionary Membership Test\n",
    "\n",
    "We can test if a key is in a dictionary or not using the keyword in. Notice that the membership test is only for the keys and not for the values."
   ]
  },
  {
   "cell_type": "code",
   "execution_count": null,
   "id": "1db2958a",
   "metadata": {},
   "outputs": [],
   "source": [
    "# Membership Test for Dictionary Keys\n",
    "squares = {1: 1, 3: 9, 5: 25, 7: 49, 9: 81}\n",
    "\n",
    "# Output: True\n",
    "print(1 in squares)"
   ]
  },
  {
   "cell_type": "code",
   "execution_count": null,
   "id": "6ed111e5",
   "metadata": {},
   "outputs": [],
   "source": [
    "# Output: True\n",
    "print(2 not in squares)"
   ]
  },
  {
   "cell_type": "code",
   "execution_count": null,
   "id": "29408734",
   "metadata": {},
   "outputs": [],
   "source": [
    "# membership tests for key only not value\n",
    "# Output: False\n",
    "print(49 in squares)"
   ]
  },
  {
   "cell_type": "markdown",
   "id": "8fe2ed18",
   "metadata": {},
   "source": [
    "### Iterating Through a Dictionary\n",
    "\n",
    "We can iterate through each key in a dictionary using a for loop."
   ]
  },
  {
   "cell_type": "code",
   "execution_count": null,
   "id": "2ea8c89a",
   "metadata": {},
   "outputs": [],
   "source": [
    "# Iterating through a Dictionary\n",
    "squares = {1: 1, 3: 9, 5: 25, 7: 49, 9: 81}\n",
    "for key in squares:\n",
    "    print(squares[key])"
   ]
  },
  {
   "cell_type": "markdown",
   "id": "34ff95ba",
   "metadata": {},
   "source": [
    "### Dictionary Built-in Functions\n",
    "\n",
    "Built-in functions like all(), any(), len(), cmp(), sorted(), etc. are commonly used with dictionaries to perform different tasks.\n",
    "\n",
    "<table>\n",
    "<tr>\n",
    "  <th>Methods<th><th>Descriptions<th>\n",
    "<tr>\n",
    "  <td>all()<td><td>Return True if all keys of the dictionary are True (or if the dictionary is empty).<td>\n",
    "<tr>\n",
    "  <td>any()<td><td>Return True if any key of the dictionary is true. If the dictionary is empty, return False.<td>\n",
    "<tr>\n",
    "  <td>len()<td><td>Return the length (the number of items) in the dictionary.<td>\n",
    "<tr>\n",
    "  <td>cmp()<td><td>Compares items of two dictionaries. (Not available in Python 3)<td>\n",
    "<tr>\n",
    "  <td>sorted()<td><td>Return a new sorted list of keys in the dictionary.\n",
    "<td>\n",
    "<tr>\n",
    "<table>\n",
    "    \n",
    "Here are some examples that use built-in functions to work with a dictionary."
   ]
  },
  {
   "cell_type": "code",
   "execution_count": null,
   "id": "e5d7bed4",
   "metadata": {},
   "outputs": [],
   "source": [
    "# Dictionary Built-in Functions\n",
    "squares = {0: 0, 1: 1, 3: 9, 5: 25, 7: 49, 9: 81}\n",
    "\n",
    "# Output: False\n",
    "print(all(squares))"
   ]
  },
  {
   "cell_type": "code",
   "execution_count": null,
   "id": "a488967f",
   "metadata": {},
   "outputs": [],
   "source": [
    "# Output: True\n",
    "print(any(squares))"
   ]
  },
  {
   "cell_type": "code",
   "execution_count": null,
   "id": "bc668a28",
   "metadata": {},
   "outputs": [],
   "source": [
    "# Output: 6\n",
    "print(len(squares))"
   ]
  },
  {
   "cell_type": "code",
   "execution_count": null,
   "id": "ed95b592",
   "metadata": {},
   "outputs": [],
   "source": [
    "# Output: [0, 1, 3, 5, 7, 9]\n",
    "print(sorted(squares))"
   ]
  },
  {
   "cell_type": "markdown",
   "id": "77d7cd3a",
   "metadata": {},
   "source": [
    "## Python Frozenset\n",
    "\n",
    "Frozenset is a new class that has the characteristics of a set, but its elements cannot be changed once assigned. While tuples are immutable lists, frozensets are immutable sets.\n",
    "\n",
    "Sets being mutable are unhashable, so they can't be used as dictionary keys. On the other hand, frozensets are hashable and can be used as keys to a dictionary.\n",
    "\n",
    "Frozensets can be created using the frozenset() function.\n",
    "\n",
    "This data type supports methods like copy(), difference(), intersection(), isdisjoint(), issubset(), issuperset(), symmetric_difference() and union(). Being immutable, it does not have methods that add or remove elements.\n",
    "\n",
    "In particular, all the primitive data types (strings, integers, floats, complex, boolean, bytes), ranges, frozensets, functions, and classes, both built-in and user-defined, are always hashable, while lists, dictionaries, sets, and bytearrays are unhashable.\n",
    "\n",
    "So, hashable is a feature of Python objects that tells if the object has a hash value or not. \n",
    "\n",
    "If the object has a hash value then it can be used as a key for a dictionary or as an element in a set. An object is hashable if it has a hash value that does not change during its entire lifetime.\n",
    "\n",
    "Python hash() function is a built-in function and returns the hash value of an object if it has one. The hash value is an integer which is used to quickly compare dictionary keys while looking at a dictionary."
   ]
  },
  {
   "cell_type": "code",
   "execution_count": null,
   "id": "59452155",
   "metadata": {},
   "outputs": [],
   "source": [
    "# Frozensets\n",
    "# initialize A and B\n",
    "A = frozenset([1, 2, 3, 4])\n",
    "B = frozenset([3, 4, 5, 6])"
   ]
  }
 ],
 "metadata": {
  "colab": {
   "collapsed_sections": [],
   "provenance": []
  },
  "kernelspec": {
   "display_name": "Python 3 (ipykernel)",
   "language": "python",
   "name": "python3"
  },
  "language_info": {
   "codemirror_mode": {
    "name": "ipython",
    "version": 3
   },
   "file_extension": ".py",
   "mimetype": "text/x-python",
   "name": "python",
   "nbconvert_exporter": "python",
   "pygments_lexer": "ipython3",
   "version": "3.11.7"
  }
 },
 "nbformat": 4,
 "nbformat_minor": 5
}
