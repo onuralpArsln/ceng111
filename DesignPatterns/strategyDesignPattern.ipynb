{
 "cells": [
  {
   "cell_type": "markdown",
   "metadata": {},
   "source": [
    "# Strategy Design Pattern"
   ]
  },
  {
   "cell_type": "markdown",
   "metadata": {},
   "source": [
    "Super havalı bir projen olduğunu düşünelim. Mesela evindeki malzemelere göre yemek tarifi veren  bir uygulama. \n",
    "\n",
    "Ancak bir süre sonra kullanıclar süre sınırından bahsetmeye başlıyor. Tek kısıt evdeki malzemeler değil bazen süre sınırı da olabiliyor. Bu yüzden artık süre limitine göre de filitreleme yapan bir özellik ekliyorsun.  \n",
    "\n",
    "\n",
    "Kullanıcılar çok mutlu ama bir süre sonra yeni bir istek daha geliyor. Tarifleri imkanlara gre filitreleme. Herkesin çelik bir wok ya fa döküm tava olmayabilir.  \n",
    "\n",
    "Git gide özellikler artıyor. Yeni özellikler kullanıcıları çok mutlu etsede teknik ekip düzenli olarak ağlamaktan ciddi su kaybı yaşamaya başladı. İşler karıştıkça teknik problemler artacak.  \n",
    "\n",
    "Eğer bir geliştirii olacak çalışacaksan mutlaka beklenmedik özellikler eklemek zorunda kalacaksın.\n",
    "\n",
    "Bunun için tek çözüm beklenmedik özelliklere hazır temiz kodlar yazmaktır."
   ]
  },
  {
   "cell_type": "markdown",
   "metadata": {},
   "source": [
    "Bu örnekteki problemi çözmek için strategy design patterni uygulayabiliriz.   \n",
    "Strategy design pattern bir amaca ulaşmak için farklı stratejileri kullanıma hazır hale getiriyoruz. "
   ]
  },
  {
   "cell_type": "markdown",
   "metadata": {},
   "source": [
    "Basit bir örnekle sistemi anlayalım ve sonrasında problemimize geri döneceğiz."
   ]
  },
  {
   "cell_type": "markdown",
   "metadata": {},
   "source": [
    "Farklı indirim stratejilerini alabilen bir item sınıfı oluşturark başlayalım"
   ]
  },
  {
   "cell_type": "code",
   "execution_count": 1,
   "metadata": {},
   "outputs": [],
   "source": [
    "\"\"\" Uygulamamız içi özel bir item\"\"\"\n",
    "class Item:\n",
    "\n",
    "    \"\"\"Fiyat ve indirim methodunu alan bir init \"\"\"\n",
    "\n",
    "    def __init__(self, price, discount_strategy = None):\n",
    "        self.price = price\n",
    "        self.discount_strategy = discount_strategy\n",
    "        \n",
    "    \"\"\" init sırasında verilen stratejiye göre fiyat ayarlayan method\"\"\"\n",
    "    def price_after_discount(self):\n",
    "        \n",
    "        if self.discount_strategy:\n",
    "            discount = self.discount_strategy(self)\n",
    "        else:\n",
    "            discount = 0\n",
    "            \n",
    "        return self.price - discount\n",
    "#dunder method ile özel print yapısı\n",
    "    def __repr__(self):\n",
    "        \n",
    "        statement = \"Price: {}, price after discount: {}\"\n",
    "        return statement.format(self.price, self.price_after_discount())"
   ]
  },
  {
   "cell_type": "markdown",
   "metadata": {},
   "source": [
    "artık stratejilere ihtiyacımız var, hadi bunları yazalım"
   ]
  },
  {
   "cell_type": "code",
   "execution_count": 2,
   "metadata": {},
   "outputs": [],
   "source": [
    "\n",
    "\n",
    "\"\"\" yüzde yirmi beş indirim yapan ve üzerine birde yirmi  indirim eklesin \"\"\"\n",
    "def on_sale_discount(order):\n",
    "    \n",
    "    return order.price * 0.25 + 20\n",
    "\n",
    "\"\"\"  sadece yüzde yirmi indirim \"\"\"\n",
    "def twenty_percent_discount(order):\n",
    "    \n",
    "    return order.price * 0.20\n",
    "\n",
    "\n"
   ]
  },
  {
   "cell_type": "markdown",
   "metadata": {},
   "source": [
    "artk ugulanabilir"
   ]
  },
  {
   "cell_type": "code",
   "execution_count": 4,
   "metadata": {},
   "outputs": [
    {
     "name": "stdout",
     "output_type": "stream",
     "text": [
      "Price: 2000, price after discount: 2000\n"
     ]
    }
   ],
   "source": [
    "test_item=Item(2000) # fiyat var ama strateji none\n",
    "\n",
    "print(test_item)"
   ]
  },
  {
   "cell_type": "code",
   "execution_count": 5,
   "metadata": {},
   "outputs": [
    {
     "name": "stdout",
     "output_type": "stream",
     "text": [
      "Price: 2000, price after discount: 1600.0\n"
     ]
    }
   ],
   "source": [
    "test_item.discount_strategy = twenty_percent_discount\n",
    "print(test_item)"
   ]
  },
  {
   "cell_type": "code",
   "execution_count": 6,
   "metadata": {},
   "outputs": [
    {
     "name": "stdout",
     "output_type": "stream",
     "text": [
      "Price: 2000, price after discount: 1480.0\n"
     ]
    }
   ],
   "source": [
    "test_item.discount_strategy = on_sale_discount\n",
    "print(test_item)"
   ]
  },
  {
   "cell_type": "markdown",
   "metadata": {},
   "source": [
    "Artık objemiz için bir strateji seçebiliyoruz ve objemiz buna göre davranış segiliyor"
   ]
  }
 ],
 "metadata": {
  "kernelspec": {
   "display_name": "Python 3",
   "language": "python",
   "name": "python3"
  },
  "language_info": {
   "codemirror_mode": {
    "name": "ipython",
    "version": 3
   },
   "file_extension": ".py",
   "mimetype": "text/x-python",
   "name": "python",
   "nbconvert_exporter": "python",
   "pygments_lexer": "ipython3",
   "version": "3.10.12"
  }
 },
 "nbformat": 4,
 "nbformat_minor": 2
}
