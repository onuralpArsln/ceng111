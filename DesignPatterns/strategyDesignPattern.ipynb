{
 "cells": [
  {
   "cell_type": "markdown",
   "metadata": {},
   "source": [
    "# Strategy Design Pattern"
   ]
  },
  {
   "cell_type": "markdown",
   "metadata": {},
   "source": [
    "Super havalı bir projen olduğunu düşünelim. Mesela evindeki malzemelere göre yemek tarifi veren  bir uygulama. \n",
    "\n",
    "Ancak bir süre sonra kullanıclar süre sınırından bahsetmeye başlıyor. Tek kısıt evdeki malzemeler değil bazen süre sınırı da olabiliyor. Bu yüzden artık süre limitine göre de filitreleme yapan bir özellik ekliyorsun.  \n",
    "\n",
    "\n",
    "Kullanıcılar çok mutlu ama bir süre sonra yeni bir istek daha geliyor. Tarifleri imkanlara gre filitreleme. Herkesin çelik bir wok ya fa döküm tava olmayabilir.  \n",
    "\n",
    "Git gide özellikler artıyor. Yeni özellikler kullanıcıları çok mutlu etsede teknik ekip düzenli olarak ağlamaktan ciddi su kaybı yaşamaya başladı. İşler karıştıkça teknik problemler artacak.  \n",
    "\n",
    "Eğer bir geliştirii olacak çalışacaksan mutlaka beklenmedik özellikler eklemek zorunda kalacaksın.\n",
    "\n",
    "Bunun için tek çözüm beklenmedik özelliklere hazır temiz kodlar yazmaktır."
   ]
  },
  {
   "cell_type": "markdown",
   "metadata": {},
   "source": [
    "Bu örnekteki problemi çözmek için strategy design patterni uygulayabiliriz.   \n",
    "Strategy design pattern bir amaca ulaşmak için farklı stratejileri kullanıma hazır  "
   ]
  },
  {
   "cell_type": "code",
   "execution_count": null,
   "metadata": {},
   "outputs": [],
   "source": []
  }
 ],
 "metadata": {
  "language_info": {
   "name": "python"
  }
 },
 "nbformat": 4,
 "nbformat_minor": 2
}
