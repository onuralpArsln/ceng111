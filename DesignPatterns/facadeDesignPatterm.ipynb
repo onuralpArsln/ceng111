{
 "cells": [
  {
   "cell_type": "markdown",
   "metadata": {},
   "source": [
    "# Facade Design Pattern"
   ]
  },
  {
   "cell_type": "markdown",
   "metadata": {},
   "source": [
    "Facade belki de design patternler arasındaki en kolay, en anlaşılır ve en faydalı yaklaşımlardan biridir. Öyleki bir çoğumuz belkide bu patterni farkında olmadan kullanıyoruz. Çok basit bir mantığa dayanır.   \n",
    "\n",
    " Büyük işi küçük parçalara bölmek.  \n",
    "\n",
    " Örneğin omlet yapan bir fonksiyon yazacaksın. Tüm işlemi tek bir fonksiyon içinde yazmak hem maintain açısından bir kabus hemde yarın mantarlı omlet fonksiyonu yazmak istersen yeniden aynı kodları baştan yazmanı gerektirir."
   ]
  },
  {
   "cell_type": "code",
   "execution_count": 1,
   "metadata": {},
   "outputs": [
    {
     "name": "stdout",
     "output_type": "stream",
     "text": [
      "bir iki yumurta kırmadan omlet olmaz\n",
      "yumurtaları kır ve kaba ekle\n",
      "İçinde kabuk olmadığından emin ol, eğer çıtır bir omlet seviyorsan bu adım opsiyonel.\n",
      "eğer şekerde olsaydı bu powerpuff girls için mükemmel bir tarif olabilirdi ama biz omlet yapıyoruz\n",
      "biraz tuz biraz biber, biraz yağ ve biraz süt işte minik harika omletler yapmak için gereken tarif.\n",
      " Biraz çırp ve güzelce karıştır. Aman kimyasal x şişesini devirme\n",
      "tavayı biraz ısıt ama abartma\n",
      "omlet karışımını dök ve dikakt et, yanmasın.\n"
     ]
    }
   ],
   "source": [
    "def breakEggs():\n",
    "    print(\"bir iki yumurta kırmadan omlet olmaz\")\n",
    "    print(\"yumurtaları kır ve kaba ekle\")\n",
    "    print(\"İçinde kabuk olmadığından emin ol, eğer çıtır bir omlet seviyorsan bu adım opsiyonel.\")\n",
    "\n",
    "def spiceAndEverythingNice():\n",
    "    print(\"eğer şekerde olsaydı bu powerpuff girls için mükemmel bir tarif olabilirdi ama biz omlet yapıyoruz\")\n",
    "    print(\"biraz tuz biraz biber, biraz yağ ve biraz süt işte minik harika omletler yapmak için gereken tarif.\")\n",
    "    print(\"Biraz çırp ve güzelce karıştır. Aman kimyasal x şişesini devirme\")\n",
    "\n",
    "\n",
    "def panTime():\n",
    "    print(\"tavanın sıcaklığı tam kararında olmalı kontrol et\")\n",
    "    print(\"omlet karışımını dök ve dikakt et, yanmasın.\")\n",
    "\n",
    "\n",
    "def omlettRecepie():\n",
    "    breakEggs()\n",
    "    spiceAndEverythingNice()\n",
    "    panTime()\n",
    "\n",
    "\n",
    "omlettRecepie()"
   ]
  },
  {
   "cell_type": "markdown",
   "metadata": {},
   "source": [
    "gördüğün gibi  karışık bir işlemi parçalara böldük. Peki gelelim mantarlı omlete"
   ]
  },
  {
   "cell_type": "code",
   "execution_count": 4,
   "metadata": {},
   "outputs": [
    {
     "name": "stdout",
     "output_type": "stream",
     "text": [
      "bir iki yumurta kırmadan omlet olmaz\n",
      "yumurtaları kır ve kaba ekle\n",
      "İçinde kabuk olmadığından emin ol, eğer çıtır bir omlet seviyorsan bu adım opsiyonel.\n",
      "eğer şekerde olsaydı bu powerpuff girls için mükemmel bir tarif olabilirdi ama biz omlet yapıyoruz\n",
      "biraz tuz biraz biber, biraz yağ ve biraz süt işte minik harika omletler yapmak için gereken tarif.\n",
      " Biraz çırp ve güzelce karıştır. Aman kimyasal x şişesini devirme\n",
      "mantarları yıka ve dilimle\n",
      "tavaya at ve biraz yağ ile kavur\n",
      "tavayı biraz ısıt ama abartma\n",
      "omlet karışımını dök ve dikakt et, yanmasın.\n"
     ]
    }
   ],
   "source": [
    "def mushrooms():\n",
    "    print(\"mantarları yıka ve dilimle\")\n",
    "    print(\"tavaya at ve biraz yağ ile kavur\")\n",
    "\n",
    "\n",
    "def MushroomOmlettRecepie():\n",
    "    breakEggs()\n",
    "    spiceAndEverythingNice()\n",
    "    mushrooms()\n",
    "    panTime()\n",
    "\n",
    "MushroomOmlettRecepie()"
   ]
  },
  {
   "cell_type": "markdown",
   "metadata": {},
   "source": [
    "Gördüğün gibi sadece mantar kısmını yazıp araya ekledik. hem daha kolay kontrol ediliyor hem yeniden kullanıma müsait hemde eğer bir kısımda değişiklik gerekirse ( mesela yumurta kırma)  tek bir devasa kod bloğunda aramak yerine farklı küçük bloklarda aramak daga kolay.\n",
    "\n"
   ]
  },
  {
   "cell_type": "markdown",
   "metadata": {},
   "source": [
    "Bu sistemi classlar için kurmakta elbette mümkün."
   ]
  },
  {
   "cell_type": "code",
   "execution_count": null,
   "metadata": {},
   "outputs": [],
   "source": [
    "\"\"\"Facade pattern with an example of WashingMachine\"\"\"\n",
    "\n",
    "class Washing: \n",
    "\t'''Subsystem # 1'''\n",
    "\n",
    "\tdef wash(self): \n",
    "\t\tprint(\"Washing...\") \n",
    "\n",
    "\n",
    "class Rinsing: \n",
    "\t'''Subsystem # 2'''\n",
    "\n",
    "\tdef rinse(self): \n",
    "\t\tprint(\"Rinsing...\") \n",
    "\n",
    "\n",
    "class Spinning: \n",
    "\t'''Subsystem # 3'''\n",
    "\n",
    "\tdef spin(self): \n",
    "\t\tprint(\"Spinning...\") \n",
    "\n",
    "\n",
    "class WashingMachine: \n",
    "\t'''Facade'''\n",
    "\n",
    "\tdef __init__(self): \n",
    "\t\tself.washing = Washing() \n",
    "\t\tself.rinsing = Rinsing() \n",
    "\t\tself.spinning = Spinning() \n",
    "\n",
    "\tdef startWashing(self): \n",
    "\t\tself.washing.wash() \n",
    "\t\tself.rinsing.rinse() \n",
    "\t\tself.spinning.spin() \n",
    "\n",
    "\"\"\" main method \"\"\"\n",
    "if __name__ == \"__main__\": \n",
    "\n",
    "\twashingMachine = WashingMachine() \n",
    "\twashingMachine.startWashing() \n"
   ]
  }
 ],
 "metadata": {
  "kernelspec": {
   "display_name": "Python 3",
   "language": "python",
   "name": "python3"
  },
  "language_info": {
   "codemirror_mode": {
    "name": "ipython",
    "version": 3
   },
   "file_extension": ".py",
   "mimetype": "text/x-python",
   "name": "python",
   "nbconvert_exporter": "python",
   "pygments_lexer": "ipython3",
   "version": "3.11.9"
  }
 },
 "nbformat": 4,
 "nbformat_minor": 2
}
