{
 "cells": [
  {
   "cell_type": "markdown",
   "metadata": {},
   "source": [
    "## Design Patterns"
   ]
  },
  {
   "cell_type": "markdown",
   "metadata": {},
   "source": [
    "OOP yapısını öğrendikten sonra programlamada sonsuz ufuklar açılmış oldu   \n",
    "Bilinen tüm objeleri data ve fonksiyondan ibaret olarak modellenebilir.  \n",
    "Basit bir çekiçte bu dosyayı okuduğun cihazda OOP ile bir class olarak yazılabilir  \n",
    "Ancak bu işlem oldukça karmaşık olabilir. Süreci en sağlıklı şekilde yürütmek için deneyimli yazılımcıların tavsiyelerini inceleyeceğiz."
   ]
  },
  {
   "cell_type": "markdown",
   "metadata": {},
   "source": [
    "Karşılşacağımız bir çok problem aslında genel hatları ile bizden önce bir çok kişinin çözmeye çalıştığı başka problemlere benzer olacaktır.  \n",
    "\n",
    "Bu problemlere çözüm düşünmek için her seferinde bolca zamanımız olmayabilir, aceleyle kötü çözümler sunmak gelecekte teknik borca sebep olur. Ya da daha kötüsü çözüm bulamamak... \n",
    "\n"
   ]
  },
  {
   "cell_type": "markdown",
   "metadata": {},
   "source": [
    "Bu yüzden bu problemlere önceden hazırlanacağız."
   ]
  },
  {
   "cell_type": "markdown",
   "metadata": {},
   "source": [
    "Problem çözümleri design patternlerimiz olacak ama bundan önce güzel kodun ilkeleri olan solidi hatırlayalım."
   ]
  },
  {
   "cell_type": "markdown",
   "metadata": {},
   "source": [
    "------------------------------"
   ]
  },
  {
   "cell_type": "markdown",
   "metadata": {},
   "source": [
    "#Solid hatırlatması"
   ]
  },
  {
   "cell_type": "markdown",
   "metadata": {},
   "source": [
    "Single Responsibility Principle (SRP)  \n",
    "\n",
    "Class ve fonksiyon tekil işleve hizmet etmeli.\n",
    "\n",
    "Mesela kullanıcının hesabını silen, hesaba giriş sağlayan, şifresini yenileyen ve bilgilerini güncelleyen bir sistem gerekse bir obje yada fonksiyon içine hepsini toplamak oldukça riskli olacaktır. Tek bir hata her yeri karıştırabilir.  \n",
    "Bunları dağıtmak örneğin login için bir auth classı oluşturmak ve bilgi güncellemesi için farklı bir update classı oluştrumak bir problem olursa tek yerde olmasını ve kodu inceleyen birinin daha rahat anlamasını sağlar"
   ]
  },
  {
   "cell_type": "markdown",
   "metadata": {},
   "source": [
    "-----------------------------------"
   ]
  },
  {
   "cell_type": "markdown",
   "metadata": {},
   "source": [
    "The Open-Closed Principle (OCP)\n",
    "\n",
    "Open for extension and closed for modification\n",
    "\n",
    "Bir sosyal medya uygulaması geliştirdiğini düşün\n",
    "bir resim ile ilgi seçenklerin profil fotoğrafı yapmak ve mesaj atma olabilir.  \n",
    "\n",
    "if (message) {send} else {set pp} şeklinde eğer mesaj at dersen mesaj atan başka bir şey de ise profil foğrafı ayarlayan bir yapı yaptın diyelim.    \n",
    "\n",
    "Hikaye özelleiği eklemek istersen geri dönüp else yernie koşul eklemen gerekir ancak en başta   \n",
    " \n",
    "if (message) {send} if else(setpp) {set pp} if else(story){story} \n",
    "\n",
    "şeklinde koşul eklesen geriye dönmene gerek kalmaz"
   ]
  },
  {
   "cell_type": "markdown",
   "metadata": {},
   "source": [
    "--------------------------------------"
   ]
  },
  {
   "cell_type": "markdown",
   "metadata": {},
   "source": [
    "The Liskov Substitution Principle (LSP) by Barbara Liskov\n",
    "\n",
    "basitçe çocuk ebeveyn yerini alabilmelidir\n",
    "\n",
    "bir sınıf miras alırken özelliğini geriye yönelik desteğini kaybetmemelidir.\n",
    "\n",
    "Dikdörtgen objenin yükseklik ve genişlik ayarlama  özelliği olsun setwidth setheight   \n",
    "\n",
    "Dikdörtgenden miras alarak bir kare yapmak oldukça mantıklı ancak burada önemli bir şey var yükseklik ve genişlik ayarlama özellikleri  kare için farklı farklı olmasada olur gibi geliyor onuçta karenin tek bir kenar uzunluğu parametresi var.\n",
    "\n",
    "ancak biz kareye setWidth ve setHeight methodları ile komut verdiğimizde eğer bu methodları kare içinde yeniden tanımlamazsak karenin yükseklik ve genişlik eşitliği bozulacaktır \n",
    "\n",
    "Liskov ablamız bize eğer inherit alıyorsan methodları uygun şekilde yeniden yazmayı önerir"
   ]
  },
  {
   "cell_type": "markdown",
   "metadata": {},
   "source": [
    "-----------------"
   ]
  },
  {
   "cell_type": "markdown",
   "metadata": {},
   "source": [
    "The Interface Segregation Principle (ISP)\n",
    "\n",
    "\n",
    "bunun için terface nedir bunu konuşmalıyız \n",
    "java ve c# ta gördüğümüz interface mantığı pythonda çok gerekmez çünkü pythonda bir sınıf birden çok sınıftan inherit alabilir  \n",
    "\n",
    "interface bir classa bazı methodları \"dayatmak\" için kullanılır. \n",
    "\n",
    "Örneğin animal classına IMovement interfacei ile  koşma uçma yüzme gibi özelliklerler ekliyoruz (bunu bir Movement sınıfnı miras almak olarak düşünebirsin)  \n",
    "\n",
    "ördek için mantıklı olsada balık için koşma methoduna sahip olmak hataya yol açar.  \n",
    "\n",
    "bunun yerine IAerialMovement ile uçma IGroundMovement ile koşma IAquaMovement ile yüzme özelliği eklenebilir \n",
    "\n",
    "ördek için 3 interface kullanılsada balık için sadce 1 interface yeterli olcacak. Interfacleri yada inherit alıncak claslarını çok aşırı özellikle doldurma "
   ]
  },
  {
   "cell_type": "markdown",
   "metadata": {},
   "source": [
    "-------------------------------------"
   ]
  },
  {
   "cell_type": "markdown",
   "metadata": {},
   "source": [
    "The Dependency Inversion Principle (DIP)\n",
    "\n",
    "\n",
    "Farklı classların birlikte çalışması çok güzel bir şey\n",
    "\n",
    "örneğin bir firma için satış ve alış raporlarını hazırlayan iki ayrı sınıf yazdın. \n",
    " \n",
    "bu sınfıları kullanrak mali döküm oluşturan bir sınıf yazarsan maliyeciler artık hiç çalışmadan yaşayabilir.    \n",
    " \n",
    "diyelim ki yeni bir vergi çıktı ve artık raporlama sınıflarını değiştirmen gerekti  \n",
    "\n",
    "ve bu değişiklik  mali döküm sınıfını bozdu  \n",
    "\n",
    "bunun yerine şunu yapcağız \n",
    "\n",
    "\n",
    "bir raporlama interfacei oluşturcaz  (yani temel özellikleri içeren bir sınıf , java c# ta interface methodların isimleri olur ancak içi olmaz içini inherit alan sınıfta yazarız.)\n",
    "\n",
    "alış raporu sınıfı raporlamayı inherit alcak ve rapor sistemini değiştirecek \n",
    "satışta da aynısı olacak \n",
    "\n",
    "ancak şimdi satış ve alış sınıflarını kullanarak bir mali raporlarama sistemi yerine temel sistem olan raporlama interfaceini kullanarak raporlama yapacağız.\n",
    "\n",
    "\n"
   ]
  },
  {
   "cell_type": "markdown",
   "metadata": {},
   "source": [
    "--------------"
   ]
  },
  {
   "cell_type": "markdown",
   "metadata": {},
   "source": [
    "uzun bir solidden sonra design patternlara başlayalım"
   ]
  },
  {
   "cell_type": "markdown",
   "metadata": {},
   "source": [
    "## Singleton"
   ]
  },
  {
   "cell_type": "markdown",
   "metadata": {},
   "source": [
    "singleton sınıftan tek bir instance oluşturup buna bir çok yerden ulaşmayı sağlar.  \n",
    "\n",
    "Bu ne işe  yarar?  \n",
    "\n",
    "programın boyunca global bir erişime ihtiyacın var diyelim örneğin bir resmi değiştriyorsun resmi programına aktarırken bir objeye çevirip farklı toollar ile resmini editlemek istersen ya da  bir oyunda örneğim simste bir köpeğin olduğunu ve bu köpeği  hayvan kuaförüne ve veterinere götürmek istiyorsun. Aslında veteriner ve hayvan kuaförü objeleri köpek objene ulaşacak."
   ]
  },
  {
   "cell_type": "markdown",
   "metadata": {},
   "source": [
    "Problemler : \n",
    "1- sınıf bir obje üreticidir. eğer veterine her gittiğinde yeni bir köpek sınıfı çağrılırse her veteriner ziyaretinde fazladan bir köpekle dönersin\n",
    "\n",
    "2- gerçek hayatta köpek aynı anda veterinerde ve kuaförde olamaz ancak yazılımın harika dünyası bize yeni problemler için sonsuz imkanlar verir. singleton uygulaması sırasında objene aynı anda bir etken ulaşmalaıdır aksi halde ortalık karışabilir "
   ]
  },
  {
   "cell_type": "markdown",
   "metadata": {},
   "source": [
    "şanslıyız ki bu problemleri yaşayan ve çözmek için mental çöküşer yaşamış yaşlı bilgler bizimledetayları paylaşıyor "
   ]
  },
  {
   "cell_type": "markdown",
   "metadata": {},
   "source": [
    "private constructor ...\n",
    "öyle herkes objeni çağıramasın ancak bu pythonda biraz sıkıntı diğer diller için bunu konuşmak mümkün\n",
    "bu yüzden minik bir çözüm bulacağız"
   ]
  },
  {
   "cell_type": "code",
   "execution_count": 20,
   "metadata": {},
   "outputs": [],
   "source": [
    "marker = False"
   ]
  },
  {
   "cell_type": "code",
   "execution_count": 21,
   "metadata": {},
   "outputs": [],
   "source": [
    "class Person:\n",
    "    def __init__(self, name, age):\n",
    "        global marker\n",
    "        if(marker):\n",
    "            raise Exception(\"this meant to be singleton but you keep creating instances :( )\")\n",
    "        marker = True\n",
    "        self.name = name\n",
    "        self.age = age\n",
    "\n",
    "    def introduce(self):\n",
    "        print(f\"Hello, my name is {self.name} and I am {self.age} years old.\")\n"
   ]
  },
  {
   "cell_type": "code",
   "execution_count": 22,
   "metadata": {},
   "outputs": [],
   "source": [
    "ahmet = Person(\"ahmet\",300)"
   ]
  },
  {
   "cell_type": "code",
   "execution_count": 23,
   "metadata": {},
   "outputs": [
    {
     "name": "stdout",
     "output_type": "stream",
     "text": [
      "Hello, my name is ahmet and I am 300 years old.\n"
     ]
    }
   ],
   "source": [
    "ahmet.introduce()"
   ]
  },
  {
   "cell_type": "code",
   "execution_count": 24,
   "metadata": {},
   "outputs": [
    {
     "ename": "Exception",
     "evalue": "this meeant to be singleton but you keep creating instances :( )",
     "output_type": "error",
     "traceback": [
      "\u001b[1;31m---------------------------------------------------------------------------\u001b[0m",
      "\u001b[1;31mException\u001b[0m                                 Traceback (most recent call last)",
      "Cell \u001b[1;32mIn[24], line 1\u001b[0m\n\u001b[1;32m----> 1\u001b[0m mehmet \u001b[38;5;241m=\u001b[39m \u001b[43mPerson\u001b[49m\u001b[43m(\u001b[49m\u001b[38;5;124;43m\"\u001b[39;49m\u001b[38;5;124;43mmehmet\u001b[39;49m\u001b[38;5;124;43m\"\u001b[39;49m\u001b[43m,\u001b[49m\u001b[38;5;241;43m200\u001b[39;49m\u001b[43m)\u001b[49m\n",
      "Cell \u001b[1;32mIn[21], line 5\u001b[0m, in \u001b[0;36mPerson.__init__\u001b[1;34m(self, name, age)\u001b[0m\n\u001b[0;32m      3\u001b[0m \u001b[38;5;28;01mglobal\u001b[39;00m marker\n\u001b[0;32m      4\u001b[0m \u001b[38;5;28;01mif\u001b[39;00m(marker):\n\u001b[1;32m----> 5\u001b[0m     \u001b[38;5;28;01mraise\u001b[39;00m \u001b[38;5;167;01mException\u001b[39;00m(\u001b[38;5;124m\"\u001b[39m\u001b[38;5;124mthis meeant to be singleton but you keep creating instances :( )\u001b[39m\u001b[38;5;124m\"\u001b[39m)\n\u001b[0;32m      6\u001b[0m marker \u001b[38;5;241m=\u001b[39m \u001b[38;5;28;01mTrue\u001b[39;00m\n\u001b[0;32m      7\u001b[0m \u001b[38;5;28mself\u001b[39m\u001b[38;5;241m.\u001b[39mname \u001b[38;5;241m=\u001b[39m name\n",
      "\u001b[1;31mException\u001b[0m: this meeant to be singleton but you keep creating instances :( )"
     ]
    }
   ],
   "source": [
    "mehmet = Person(\"mehmet\",200)"
   ]
  },
  {
   "cell_type": "markdown",
   "metadata": {},
   "source": [
    "Güzel bir çözüm değil ama bu bir çözümdü"
   ]
  },
  {
   "cell_type": "markdown",
   "metadata": {},
   "source": [
    "daha iyisi static method üretmek....\n",
    "ama static method ne?\n",
    "\n"
   ]
  },
  {
   "cell_type": "code",
   "execution_count": 34,
   "metadata": {},
   "outputs": [
    {
     "name": "stdout",
     "output_type": "stream",
     "text": [
      "480\n"
     ]
    }
   ],
   "source": [
    "\n",
    "class MyClass:\n",
    "    def __init__(self, value):\n",
    "       \n",
    "        self.value = value\n",
    " \n",
    "    @staticmethod\n",
    "    def get_max_value(x, y):\n",
    "        return max(x, y)\n",
    " \n",
    "\n",
    " \n",
    "print(MyClass.get_max_value(480, 30))  \n",
    " \n"
   ]
  },
  {
   "cell_type": "markdown",
   "metadata": {},
   "source": [
    "bir obje üretmeden sınıfı kulandın az önce....\n",
    "\n",
    "eğer obje üretmek istesen python buna izin vercekti "
   ]
  },
  {
   "cell_type": "code",
   "execution_count": 35,
   "metadata": {},
   "outputs": [
    {
     "name": "stdout",
     "output_type": "stream",
     "text": [
      "30\n"
     ]
    }
   ],
   "source": [
    "\n",
    "\n",
    "obj = MyClass(10)\n",
    "\n",
    " \n",
    "print(MyClass.get_max_value(20, 30))  \n",
    " \n"
   ]
  },
  {
   "cell_type": "markdown",
   "metadata": {},
   "source": [
    "static method dekoratörü sayaseinde obje oluşturmadan methoduna ulaşabildin. bunu bir kütüphane oluşturmak gibi düşünebilirsin\n",
    "\n",
    "öreneğin generalUse.py dosyasında def calculateMedian(*args:int) diyerek isteğin sayıda int alıp median hesaplayan bi func yazdın\n",
    "\n",
    "diğer projene import generalUse dedikten sonra generalUse.calculateMedian demek static method benzeri bi etki yaratacektır.\n",
    "\n",
    "dart ve py projelerinde bir dosya oluşturup bu dosya içinde global fonksiyonlar ve değişkenler tanımlamak yaygın bir çözümdür ve singleton mantığına dayanır. artık ister sınıf ister ayrı bi dosya olarak singleton yapabilirsin"
   ]
  },
  {
   "cell_type": "code",
   "execution_count": 57,
   "metadata": {},
   "outputs": [
    {
     "name": "stdout",
     "output_type": "stream",
     "text": [
      "123\n",
      "123\n"
     ]
    }
   ],
   "source": [
    "import singletonSettings\n",
    "\n",
    "print(singletonSettings.length)\n",
    "singletonSettings.length=123\n",
    "print(singletonSettings.length)\n",
    "\n"
   ]
  },
  {
   "cell_type": "markdown",
   "metadata": {},
   "source": [
    "ancak dikkat edilmesi gerekn noktalar :   \n",
    "\n",
    "singleton tek bir objeye çok işlev yükleyip single responsibilty ilkesini bozar bu yüzden objeye çok yüklenme yada singletonunu kendi içinde çok bağımlı yapma (bir sürü küçük işlme yapan ayrı ayrı methodlar şeklinde kullanbilrsin ancak bir methoda çok işlev yükleme)\n",
    "\n",
    "\n",
    "eğer multithread kullanıyorsan aynı anda iki farklı kaynak değişkene yazmak isteyebilir ( multi threadda bu sorun hep vardır ) bu yüzden  thread lock kullanırsın. örneğin uzun bir metini f dosyasına yazmaya çalışan iki farklı fonksiyon var eğer ikisi aynı anda çalışmaya başlarsa ortalık karışır eğer f dosyasını değiştiren fonksiyona thread lock verirsen ilk başlayan fonksiyon kitler diğerleri onun bitmesini bekler "
   ]
  },
  {
   "cell_type": "markdown",
   "metadata": {},
   "source": [
    "Aniden konudan saparak multi threading ve thread locking "
   ]
  },
  {
   "cell_type": "code",
   "execution_count": 18,
   "metadata": {},
   "outputs": [
    {
     "name": "stdout",
     "output_type": "stream",
     "text": [
      "Final counter value: 0\n"
     ]
    }
   ],
   "source": [
    "import threading\n",
    "import time\n",
    "\n",
    "# Shared resource\n",
    "counter = 0\n",
    "\n",
    "# Function to increment the counter\n",
    "def increment_counter(lock):\n",
    "    global counter\n",
    "    for _ in range(1000000):\n",
    "        # Acquire the lock before accessing the shared resource\n",
    "        lock.acquire()\n",
    "        counter += 1\n",
    "        # Release the lock after modifying the shared resource\n",
    "        lock.release()\n",
    "\n",
    "# Function to decrement the counter\n",
    "def decrement_counter(lock):\n",
    "    global counter\n",
    "    for _ in range(1000000):\n",
    "        # Acquire the lock before accessing the shared resource\n",
    "        lock.acquire()\n",
    "        counter -= 1\n",
    "        # Release the lock after modifying the shared resource\n",
    "        lock.release()\n",
    "\n",
    "def main():\n",
    "    # Create a lock\n",
    "    lock = threading.Lock()\n",
    "\n",
    "    # Create two threads\n",
    "    t1 = threading.Thread(target=increment_counter, args=(lock,))\n",
    "    t2 = threading.Thread(target=decrement_counter, args=(lock,))\n",
    "\n",
    "    # Start the threads\n",
    "    t1.start()\n",
    "    t2.start()\n",
    "\n",
    "    # Join the threads to the main thread\n",
    "    t1.join()\n",
    "    t2.join()\n",
    "\n",
    "    # Print the final value of the counter\n",
    "    print(\"Final counter value:\", counter)\n",
    "\n",
    "if __name__ == \"__main__\":\n",
    "    main()\n"
   ]
  },
  {
   "cell_type": "code",
   "execution_count": 59,
   "metadata": {},
   "outputs": [
    {
     "name": "stdout",
     "output_type": "stream",
     "text": [
      "Final counter value: 0\n"
     ]
    }
   ],
   "source": [
    "import threading\n",
    "import time\n",
    "\n",
    "# Shared resource\n",
    "counter = 0\n",
    "\n",
    "# Function to increment the counter\n",
    "def increment_counter():\n",
    "    global counter\n",
    "    for _ in range(1000000):\n",
    "        counter += 1\n",
    "\n",
    "# Function to decrement the counter\n",
    "def decrement_counter():\n",
    "    global counter\n",
    "    for _ in range(1000000):\n",
    "        counter -= 1\n",
    "\n",
    "def main():\n",
    "    # Create two threads\n",
    "    t1 = threading.Thread(target=increment_counter)\n",
    "    t2 = threading.Thread(target=decrement_counter)\n",
    "\n",
    "    # Start the threads\n",
    "    t1.start()\n",
    "    t2.start()\n",
    "\n",
    "    # Join the threads to the main thread\n",
    "    # bitmelerini bekle \n",
    "    t1.join()\n",
    "    t2.join()\n",
    "\n",
    "    # Print the final value of the counter\n",
    "    print(\"Final counter value:\", counter)\n",
    "\n",
    "if __name__ == \"__main__\":\n",
    "    main()\n"
   ]
  },
  {
   "cell_type": "markdown",
   "metadata": {},
   "source": [
    "multiprocess > diffrenc process in their own memory space / harder to communicate between / true paralel multiple gpu core   \n",
    "\n",
    "multi thread > simultaneous like proces within same memory / easier to com between / good for keping a process running until you press a button"
   ]
  },
  {
   "cell_type": "markdown",
   "metadata": {},
   "source": [
    "## Factory method "
   ]
  },
  {
   "cell_type": "markdown",
   "metadata": {},
   "source": [
    "Galaksiye daha hızlı yayılmak ve ticari yolaro kontrol etmek için Y-wingler üreten mükemmel bir fabrika kurdğunu düşün.\n",
    "\n",
    "başarılı çatışmalar ardından iyice güçlendin \n",
    "\n",
    "artık mücadeleye daha iyi dahil olabilmek için yeni nesi x wingleri üretmek istiyorsun ancak fabrikan y winglere göre tasarlanmışıtı..\n",
    "peki ya a-wingler gerekirse?\n",
    "\n",
    "sanırım palpatine ve galaktik impartorluğa meydan okumak için iyi bir üretim hattınaolan ihtiyacı unuttuk. \n",
    "\n",
    "neyse ki geçmişte rebllerin yaptığı bu hatadan ders alıp gelecekte daha iyi fabrikalar kuracğız."
   ]
  },
  {
   "cell_type": "markdown",
   "metadata": {},
   "source": [
    "factory method ihtiyaçarlın çeşitlenebileceği durumlarda  (örneğin oyununa yeni karakter tiplerini eklemek ve ya da farklı data tipleri ile çalışan bir düzeleyici oluşturmak)"
   ]
  },
  {
   "cell_type": "markdown",
   "metadata": {},
   "source": [
    "aşağıdaki kod güzel bir örnek sağlıyor. üretim yapan merkezin furniture factory kodunun her yerinde sabit kalacak yeni bir eşye tipine ihtiyaç duyunca bu eşyayı dışarda tasrlayacaksın ve furniture factoryne bir yol olarak ekleyeceksin"
   ]
  },
  {
   "cell_type": "code",
   "execution_count": 61,
   "metadata": {},
   "outputs": [
    {
     "name": "stdout",
     "output_type": "stream",
     "text": [
      "A wooden chair\n",
      "A round table\n",
      "A large-sized closet\n",
      "A soft and red  bed\n",
      "Invalid furniture type\n"
     ]
    }
   ],
   "source": [
    "class Chair:\n",
    "    def __init__(self, material):\n",
    "        self.material = material\n",
    "\n",
    "    def description(self):\n",
    "        return f\"A {self.material} chair\"\n",
    "\n",
    "class Table:\n",
    "    def __init__(self, shape):\n",
    "        self.shape = shape\n",
    "\n",
    "    def description(self):\n",
    "        return f\"A {self.shape} table\"\n",
    "\n",
    "class Closet:\n",
    "    def __init__(self, size):\n",
    "        self.size = size\n",
    "\n",
    "    def description(self):\n",
    "        return f\"A {self.size}-sized closet\"\n",
    "    \n",
    "class Bed:\n",
    "    def __init__(self, softness,color):\n",
    "        self.softness = softness\n",
    "        self.color = color\n",
    "\n",
    "    def description(self):\n",
    "        return f\"A {self.softness} and {self.color}  bed\"\n",
    "\n",
    "class FurnitureFactory:\n",
    "    @staticmethod\n",
    "    def create_furniture(furniture_type, *args):\n",
    "        if furniture_type == \"chair\":\n",
    "            return Chair(*args)\n",
    "        elif furniture_type == \"table\":\n",
    "            return Table(*args)\n",
    "        elif furniture_type == \"closet\":\n",
    "            return Closet(*args)\n",
    "        elif furniture_type == \"bed\":\n",
    "            return Bed(*args)\n",
    "        else:\n",
    "            raise ValueError(\"Invalid furniture type\")\n",
    "\n",
    "# Create a wooden chair\n",
    "wooden_chair = FurnitureFactory.create_furniture(\"chair\", \"wooden\")\n",
    "print(wooden_chair.description())  # Output: A wooden chair\n",
    "\n",
    "# Create a round table\n",
    "round_table = FurnitureFactory.create_furniture(\"table\", \"round\")\n",
    "print(round_table.description())   # Output: A round table\n",
    "\n",
    "# Create a large closet\n",
    "large_closet = FurnitureFactory.create_furniture(\"closet\", \"large\")\n",
    "print(large_closet.description())  # Output: A large-sized closet\n",
    "\n",
    "comfy_bed = FurnitureFactory.create_furniture(\"bed\",\"soft\",\"red\")\n",
    "print(comfy_bed.description())\n",
    "\n",
    "# Try creating an invalid furniture type\n",
    "try:\n",
    "    invalid_furniture = FurnitureFactory.create_furniture(\"lamp\")\n",
    "except ValueError as e:\n",
    "    print(e)  # Output: Invalid furniture type\n"
   ]
  },
  {
   "cell_type": "markdown",
   "metadata": {},
   "source": [
    "ve baştaki probleme bir çözüm "
   ]
  },
  {
   "cell_type": "code",
   "execution_count": null,
   "metadata": {},
   "outputs": [],
   "source": [
    "class XWing:\n",
    "    def __init__(self, model):\n",
    "        self.model = model\n",
    "\n",
    "    def description(self):\n",
    "        return f\"A {self.model} X-Wing starfighter\"\n",
    "\n",
    "class AWing:\n",
    "    def __init__(self, model):\n",
    "        self.model = model\n",
    "\n",
    "    def description(self):\n",
    "        return f\"A {self.model} A-Wing starfighter\"\n",
    "\n",
    "class YWing:\n",
    "    def __init__(self, model):\n",
    "        self.model = model\n",
    "\n",
    "    def description(self):\n",
    "        return f\"A {self.model} Y-Wing starfighter\"\n",
    "\n",
    "class StarfighterFactory:\n",
    "    @staticmethod\n",
    "    def create_starfighter(starfighter_type, *args):\n",
    "        if starfighter_type == \"X-Wing\":\n",
    "            return XWing(*args)\n",
    "        elif starfighter_type == \"A-Wing\":\n",
    "            return AWing(*args)\n",
    "        elif starfighter_type == \"Y-Wing\":\n",
    "            return YWing(*args)\n",
    "        else:\n",
    "            raise ValueError(\"Invalid starfighter type\")\n",
    "\n",
    "# Create a T-65 X-Wing starfighter\n",
    "xwing = StarfighterFactory.create_starfighter(\"X-Wing\", \"T-65\")\n",
    "print(xwing.description())  # Output: A T-65 X-Wing starfighter\n",
    "\n",
    "# Create a RZ-1 A-Wing starfighter\n",
    "awing = StarfighterFactory.create_starfighter(\"A-Wing\", \"RZ-1\")\n",
    "print(awing.description())   # Output: A RZ-1 A-Wing starfighter\n",
    "\n",
    "# Create a BTL Y-Wing starfighter\n",
    "ywing = StarfighterFactory.create_starfighter(\"Y-Wing\", \"BTL\")\n",
    "print(ywing.description())   # Output: A BTL Y-Wing starfighter\n",
    "\n",
    "# Try creating an invalid starfighter type\n",
    "try:\n",
    "    invalid_starfighter = StarfighterFactory.create_starfighter(\"TIE Fighter\")\n",
    "except ValueError as e:\n",
    "    print(e)  # Output: Invalid starfighter type\n"
   ]
  },
  {
   "cell_type": "markdown",
   "metadata": {},
   "source": [
    "--------------\n"
   ]
  },
  {
   "cell_type": "markdown",
   "metadata": {},
   "source": [
    "# Observer "
   ]
  },
  {
   "cell_type": "markdown",
   "metadata": {},
   "source": [
    "event listener ve subscriber olarakta kullanılır "
   ]
  },
  {
   "cell_type": "markdown",
   "metadata": {},
   "source": [
    "bir olay olduğunda buna bir çok farklı elemandan tepki almak istiyorsan mesela bir tuşa basılınca ya da geri sayım bitince farklı fonksiyoları çalıştırmak istiyorsan bu yapıya ihtiyaç duyacaksın. Bir çok frameworkte bunun otomatize halleri olur. ancak bazen kendi problemlerimiz çözmek için bu sistemi nasıl kıraçığımızı bilmek faydalıdır.\n"
   ]
  },
  {
   "cell_type": "markdown",
   "metadata": {},
   "source": [
    "basit bir örnek olarak diyelim ki kargonu bir teslim noktasına söyledin. sürekli gidip gelip teslim noktasına bakmak boşuna zaman kaybıdır. Kargon gelince teslim noktası sana mesaj atmalı. ancak teslim noktası sadece senin değil bir çok kişinin kargosunu alcak. Ancak kayıtlı herkese mesaj atması saçma olacak sadece kargosu gelenlere haber vermeli. Her kargo teslim günü kargosu gelenlere haber vermesi işim bir observer sistemi kuralım "
   ]
  },
  {
   "cell_type": "code",
   "execution_count": 2,
   "metadata": {},
   "outputs": [],
   "source": [
    "class Observable:\n",
    "    def __init__(self):\n",
    "        self.observers = []\n",
    "\n",
    "    def add_observer(self, observer):\n",
    "        if observer not in self.observers:\n",
    "            self.observers.append(observer)\n",
    "\n",
    "    def remove_observer(self, observer):\n",
    "        if observer in self.observers:\n",
    "            self.observers.remove(observer)\n",
    "\n",
    "    def notify_observers(self ):   # observerdaki update methodunu çağrıyor \n",
    "        for observer in self.observers:\n",
    "            observer.update(self)\n",
    "\n",
    "class Observer:\n",
    "    def update(self, observable):  # burası bi interface işlemin ne olması gerktiğini söylemiyor ama observerinde bi update olmalı diyor\n",
    "        pass"
   ]
  },
  {
   "cell_type": "code",
   "execution_count": 3,
   "metadata": {},
   "outputs": [
    {
     "name": "stdout",
     "output_type": "stream",
     "text": [
      "Temperature is 25 degrees Celsius in phone default\n"
     ]
    }
   ],
   "source": [
    "class WeatherStation(Observable):\n",
    "    def set_temperature(self, temperature):\n",
    "        self.temperature = temperature\n",
    "        self.notify_observers()   # listedeki takipçilere ulaş \n",
    "\n",
    "class PhoneDisplay(Observer):\n",
    "    def __init__(self,name=\"default\"):\n",
    "          self.name= name\n",
    "    def update(self, observable):\n",
    "        if isinstance(observable, WeatherStation):\n",
    "            temperature = observable.temperature\n",
    "            print(f\"Temperature is {temperature} degrees Celsius in phone {self.name}\")\n",
    "\n",
    "weather_station = WeatherStation()\n",
    "phone_display = PhoneDisplay()\n",
    "\n",
    "weather_station.add_observer(phone_display) # takip listesine ekledik\n",
    "weather_station.set_temperature(25)"
   ]
  },
  {
   "cell_type": "code",
   "execution_count": 7,
   "metadata": {},
   "outputs": [],
   "source": [
    "## ading a new phone to mix \n",
    "\n",
    "second_phone=PhoneDisplay(\"second\")\n",
    "weather_station.add_observer(second_phone) # takip listesine ekledik"
   ]
  },
  {
   "cell_type": "code",
   "execution_count": 9,
   "metadata": {},
   "outputs": [
    {
     "name": "stdout",
     "output_type": "stream",
     "text": [
      "Temperature is 35 degrees Celsius in phone default\n",
      "Temperature is 35 degrees Celsius in phone second\n"
     ]
    }
   ],
   "source": [
    "weather_station.set_temperature(35)"
   ]
  },
  {
   "cell_type": "markdown",
   "metadata": {},
   "source": [
    "-------------"
   ]
  },
  {
   "cell_type": "markdown",
   "metadata": {},
   "source": [
    "## Facade"
   ]
  },
  {
   "cell_type": "markdown",
   "metadata": {},
   "source": [
    "diyelim ki çok kompleks bir işlem yapman lazım \n",
    "\n",
    "\n",
    "a işlemi her seferinde aynı 1000 satırdan oluşuyor olsun, \n",
    "\n",
    "bir a fonksiyonu ve içine 1000 satır yazmak bu fonksiyondaki değişiklikler konusunda çok yorucu olabilir \n",
    "\n",
    "ancak bu 1000 satırı mantıksal alt parçalara bölersen \n",
    "\n",
    "a fonksiyonu  b c d e fonksiyonlarından oluşur \n",
    "\n",
    "artık a nın içinde değişiklik b de mi c demi diye seçip 1000 satır yerine 200 satır bakarak işini halledebilirsin\n",
    "\n",
    "\n",
    "facade methodu arka planda dönen bir sürü karmaşık işleme kolay bir arayüz eklmeyi önerir "
   ]
  },
  {
   "cell_type": "code",
   "execution_count": null,
   "metadata": {},
   "outputs": [],
   "source": [
    "\"\"\"Facade pattern with an example of WashingMachine\"\"\"\n",
    "\n",
    "class Washing: \n",
    "\t'''Subsystem # 1'''\n",
    "\n",
    "\tdef wash(self): \n",
    "\t\tprint(\"Washing...\") \n",
    "\n",
    "\n",
    "class Rinsing: \n",
    "\t'''Subsystem # 2'''\n",
    "\n",
    "\tdef rinse(self): \n",
    "\t\tprint(\"Rinsing...\") \n",
    "\n",
    "\n",
    "class Spinning: \n",
    "\t'''Subsystem # 3'''\n",
    "\n",
    "\tdef spin(self): \n",
    "\t\tprint(\"Spinning...\") \n",
    "\n",
    "\n",
    "class WashingMachine: \n",
    "\t'''Facade'''\n",
    "\n",
    "\tdef __init__(self): \n",
    "\t\tself.washing = Washing() \n",
    "\t\tself.rinsing = Rinsing() \n",
    "\t\tself.spinning = Spinning() \n",
    "\n",
    "\tdef startWashing(self): \n",
    "\t\tself.washing.wash() \n",
    "\t\tself.rinsing.rinse() \n",
    "\t\tself.spinning.spin() \n",
    "\n",
    "\"\"\" main method \"\"\"\n",
    "if __name__ == \"__main__\": \n",
    "\n",
    "\twashingMachine = WashingMachine() \n",
    "\twashingMachine.startWashing() \n"
   ]
  }
 ],
 "metadata": {
  "kernelspec": {
   "display_name": "Python 3",
   "language": "python",
   "name": "python3"
  },
  "language_info": {
   "codemirror_mode": {
    "name": "ipython",
    "version": 3
   },
   "file_extension": ".py",
   "mimetype": "text/x-python",
   "name": "python",
   "nbconvert_exporter": "python",
   "pygments_lexer": "ipython3",
   "version": "3.11.9"
  }
 },
 "nbformat": 4,
 "nbformat_minor": 2
}
