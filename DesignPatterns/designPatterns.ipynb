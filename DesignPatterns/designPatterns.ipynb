{
 "cells": [
  {
   "cell_type": "markdown",
   "metadata": {},
   "source": [
    "## Design Patterns"
   ]
  },
  {
   "cell_type": "markdown",
   "metadata": {},
   "source": [
    "OOP yapısını öğrendikten sonra programlamada sonsuz ufuklar açılmış oldu   \n",
    "Bilinen tüm objeleri data ve fonksiyondan ibaret olarak modellenebilir.  \n",
    "Basit bir çekiçte bu dosyayı okuduğun cihazda OOP ile bir class olarak yazılabilir  \n",
    "Ancak bu işlem oldukça karmaşık olabilir. Süreci en sağlıklı şekilde yürütmek için deneyimli yazılımcıların tavsiyelerini inceleyeceğiz."
   ]
  },
  {
   "cell_type": "markdown",
   "metadata": {},
   "source": [
    "Karşılşacağımız bir çok problem aslında genel hatları ile bizden önce bir çok kişinin çözmeye çalıştığı başka problemlere benzer olacaktır.  \n",
    "\n",
    "Bu problemlere çözüm düşünmek için her seferinde bolca zamanımız olmayabilir, aceleyle kötü çözümler sunmak gelecekte teknik borca sebep olur. Ya da daha kötüsü çözüm bulamamak... \n",
    "\n"
   ]
  },
  {
   "cell_type": "markdown",
   "metadata": {},
   "source": [
    "Bu yüzden bu problemlere önceden hazırlanacağız."
   ]
  },
  {
   "cell_type": "markdown",
   "metadata": {},
   "source": [
    "Problem çözümleri design patternlerimiz olacak ama bundan önce güzel kodun ilkeleri olan solidi hatırlayalım."
   ]
  },
  {
   "cell_type": "markdown",
   "metadata": {},
   "source": [
    "------------------------------"
   ]
  },
  {
   "cell_type": "markdown",
   "metadata": {},
   "source": [
    "Single Responsibility Principle (SRP)  \n",
    "\n",
    "Class ve fonksiyon tekil işleve hizmet etmeli.\n",
    "\n",
    "Mesela kullanıcının hesabını silen, hesaba giriş sağlayan, şifresini yenileyen ve bilgilerini güncelleyen bir sistem gerekse bir obje yada fonksiyon içine hepsini toplamak oldukça riskli olacaktır. Tek bir hata her yeri karıştırabilir.  \n",
    "Bunları dağıtmak örneğin login için bir auth classı oluşturmak ve bilgi güncellemesi için farklı bir update classı oluştrumak bir problem olursa tek yerde olmasını ve kodu inceleyen birinin daha rahat anlamasını sağlar"
   ]
  },
  {
   "cell_type": "markdown",
   "metadata": {},
   "source": [
    "-----------------------------------"
   ]
  },
  {
   "cell_type": "markdown",
   "metadata": {},
   "source": [
    "The Open-Closed Principle (OCP)\n",
    "\n",
    "Open for extension and closed for modification\n",
    "\n",
    "Bir sosyal medya uygulaması geliştirdiğini düşün\n",
    "bir resim ile ilgi seçenklerin peofil fotoğrafı yapmak ve mesaj atma olabilir.  \n",
    "\n",
    "if (message) {send} else {set pp} şeklinde eğer mesaj at dersen mesaj atan başka bir şey de ise profil foğrafı ayarlayan bir yapı yaptın diyelim.    \n",
    "\n",
    "Hikaye özelleiği eklemek istersen geri dönüp else yernie koşul eklemen gerekir ancak en başta   \n",
    " \n",
    "if (message) {send} if else(setpp) {set pp} if else(story){story} \n",
    "\n",
    "şeklinde koşul eklesen geriye dönmene gerek kalmaz"
   ]
  },
  {
   "cell_type": "markdown",
   "metadata": {},
   "source": [
    "--------------------------------------"
   ]
  },
  {
   "cell_type": "markdown",
   "metadata": {},
   "source": [
    "The Liskov Substitution Principle (LSP) by Barbara Liskov\n",
    "\n",
    "basitçe çocuk ebeveyn yerini alabilmelidir\n",
    "\n",
    "bir sınıf miras alırken özelliğini geriye yönelik desteğini kaybetmemelidir.\n",
    "\n",
    "Dikdörtgen objenin yükseklik ve genişlik ayarlama  özelliği olsun setwidth setheight   \n",
    "\n",
    "Dikdörtgenden miras alarak bir kare yapmak oldukça mantıklı ancak burada önemli bir şey var yükseklik ve genişlik ayarlama özellikleri  kare için farklı farklı olmasada olur gibi geliyor onuçta karenin tek bir kenar uzunluğu parametresi var.\n",
    "\n",
    "ancak biz kareye setWidth ve setHeight methodları ile komut verdiğimizde eğer bu methodları kare içinde yeniden tanımlamazsak karenin yükseklik ve genişlik eşitliği bozulacaktır \n",
    "\n",
    "Liskov ablamız bize eğer inherit alıyorsan methodları uygun şekilde yeniden yazmayı önerir"
   ]
  },
  {
   "cell_type": "markdown",
   "metadata": {},
   "source": [
    "-----------------"
   ]
  },
  {
   "cell_type": "markdown",
   "metadata": {},
   "source": [
    "The Interface Segregation Principle (ISP)\n",
    "\n",
    "\n",
    "bunun için terface nedir bunu konuşmalıyız \n",
    "java ve c# ta gördüğümüz interface mantığı pythonda çok gerekmez çünkü pythonda bir sınıf birden çok sınıftan inherit alabilir  \n",
    "\n",
    "interface bir classa bazı methodları \"dayatmak\" için kullanılır. \n",
    "\n",
    "Örneğin animal classına IMovement interfacei ile  koşma uçma yüzme gibi özelliklerler ekliyoruz (bunu bir Movement sınıfnı miras almak olarak düşünebirsin)  \n",
    "\n",
    "ördek için mantıklı olsada balık için koşma methoduna sahip olmak hataya yol açar.  \n",
    "\n",
    "bunun yerine IAerialMovement ile uçma IGroundMovement ile koşma IAquaMovement ile yüzme özelliği eklenebilir \n",
    "\n",
    "ördek için 3 interface kullanılsada balık için sadce 1 interface yeterli olcacak. Interfacleri yada inherit alıncak claslarını çok aşırı özellikle doldurma "
   ]
  },
  {
   "cell_type": "markdown",
   "metadata": {},
   "source": [
    "-------------------------------------"
   ]
  },
  {
   "cell_type": "markdown",
   "metadata": {},
   "source": [
    "The Dependency Inversion Principle (DIP)\n",
    "\n",
    "\n",
    "Farklı classların birlikte çalışması çok güzel bir şey\n",
    "\n",
    "örneğin bir firma için satış ve alış raporlarını hazırlayan iki ayrı sınıf yazdın. \n",
    " \n",
    "bu sınfıları kullanrak mali döküm oluşturan bir sınıf yazarsan maliyeciler artık hiç çalışmadan yaşayabilir.    \n",
    " \n",
    "diyelim ki yeni bir vergi çıktı ve artık raporlama sınıflarını değiştirmen gerekti  \n",
    "\n",
    "ve bu değişiklik  mali döküm sınıfını bozdu  \n",
    "\n",
    "bunun yerine şunu yapcağız \n",
    "\n",
    "\n",
    "bir raporlama interfacei oluşturcaz  (yani temel özellikleri içeren bir sınıf , java c# ta interface methodların isimleri olur ancak içi olmaz içini inherit alan sınıfta yazarız.)\n",
    "\n",
    "alış raporu sınıfı raporlamayı inherit alcak ve rapor sistemini değiştirecek \n",
    "satışta da aynısı olacak \n",
    "\n",
    "ancak şimdi satış ve alış sınıflarını kullanarak bir mali raporlarama sistemi yerine temel sistem olan raporlama interfaceini kullanarak raporlama yapacağız.\n",
    "\n",
    "\n"
   ]
  },
  {
   "cell_type": "markdown",
   "metadata": {},
   "source": [
    "--------------"
   ]
  },
  {
   "cell_type": "markdown",
   "metadata": {},
   "source": [
    "uzun bir solidden sonra design patternlara başlayalım"
   ]
  },
  {
   "cell_type": "markdown",
   "metadata": {},
   "source": [
    "## Singleton"
   ]
  },
  {
   "cell_type": "markdown",
   "metadata": {},
   "source": [
    "singleton sınıftan tek bir instance oluşturup buna bir çok yerden ulaşmayı sağlar.  \n",
    "\n",
    "Bu ne işe  yarar?  \n",
    "\n",
    "programın boyunca global bir erişime ihtiyacın var diyelim örneğin bir resmi değiştriyorsun resmi programına aktarırken bir objeye çevirip farklı toollar ile resmini editlemek istersen ya da  bir oyunda örneğim simste bir köpeğin olduğunu ve bu köpeği  hayvan kuaförüne ve veterinere götürmek istiyorsun. Aslında veteriner ve hayvan kuaförü objeleri köpek objene ulaşacak."
   ]
  },
  {
   "cell_type": "markdown",
   "metadata": {},
   "source": [
    "Problemler : \n",
    "1- sınıf bir obje üreticidir. eğer veterine her gittiğinde yeni bir köpek sınıfı çağrılırse her veteriner ziyaretinde fazladan bir köpekle dönersin\n",
    "\n",
    "2- gerçek hayatta köpek aynı anda veterinerde ve kuaförde olamaz ancak yazılımın harika dünyası bize yeni problemler için sonsuz imkanlar verir. singleton uygulaması sırasında objene aynı anda bir etken ulaşmalaıdır aksi halde ortalık karışabilir "
   ]
  },
  {
   "cell_type": "markdown",
   "metadata": {},
   "source": [
    "şanslıyız ki bu problemleri yaşayan ve çözmek için mental çöküşer yaşamış yaşlı bilgler bizimledetayları paylaşıyor "
   ]
  },
  {
   "cell_type": "markdown",
   "metadata": {},
   "source": [
    "private constructor ...\n",
    "öyle herkes objeni çağıramasın ancak bu pythonda biraz sıkıntı diğer diller için bunu konuşmak mümkün\n",
    "bu yüzden minik bir çözüm bulacağız"
   ]
  },
  {
   "cell_type": "code",
   "execution_count": 5,
   "metadata": {},
   "outputs": [],
   "source": [
    "marker = False"
   ]
  },
  {
   "cell_type": "code",
   "execution_count": 6,
   "metadata": {},
   "outputs": [],
   "source": [
    "class Person:\n",
    "    def __init__(self, name, age):\n",
    "        global marker\n",
    "        if(marker):\n",
    "            raise Exception(\"this meeant to be singleton but you keep creating instances :( )\")\n",
    "        marker = True\n",
    "        self.name = name\n",
    "        self.age = age\n",
    "\n",
    "    def introduce(self):\n",
    "        print(f\"Hello, my name is {self.name} and I am {self.age} years old.\")\n"
   ]
  },
  {
   "cell_type": "code",
   "execution_count": 7,
   "metadata": {},
   "outputs": [],
   "source": [
    "ahmet = Person(\"ahmet\",300)"
   ]
  },
  {
   "cell_type": "code",
   "execution_count": 8,
   "metadata": {},
   "outputs": [
    {
     "name": "stdout",
     "output_type": "stream",
     "text": [
      "Hello, my name is ahmet and I am 300 years old.\n"
     ]
    }
   ],
   "source": [
    "ahmet.introduce()"
   ]
  },
  {
   "cell_type": "code",
   "execution_count": 9,
   "metadata": {},
   "outputs": [
    {
     "ename": "Exception",
     "evalue": "this meeant to be singleton but you keep creating instances :( )",
     "output_type": "error",
     "traceback": [
      "\u001b[0;31m---------------------------------------------------------------------------\u001b[0m",
      "\u001b[0;31mException\u001b[0m                                 Traceback (most recent call last)",
      "Cell \u001b[0;32mIn[9], line 1\u001b[0m\n\u001b[0;32m----> 1\u001b[0m mehmet \u001b[38;5;241m=\u001b[39m \u001b[43mPerson\u001b[49m\u001b[43m(\u001b[49m\u001b[38;5;124;43m\"\u001b[39;49m\u001b[38;5;124;43mmehmet\u001b[39;49m\u001b[38;5;124;43m\"\u001b[39;49m\u001b[43m,\u001b[49m\u001b[38;5;241;43m200\u001b[39;49m\u001b[43m)\u001b[49m\n",
      "Cell \u001b[0;32mIn[6], line 5\u001b[0m, in \u001b[0;36mPerson.__init__\u001b[0;34m(self, name, age)\u001b[0m\n\u001b[1;32m      3\u001b[0m \u001b[38;5;28;01mglobal\u001b[39;00m marker\n\u001b[1;32m      4\u001b[0m \u001b[38;5;28;01mif\u001b[39;00m(marker):\n\u001b[0;32m----> 5\u001b[0m     \u001b[38;5;28;01mraise\u001b[39;00m \u001b[38;5;167;01mException\u001b[39;00m(\u001b[38;5;124m\"\u001b[39m\u001b[38;5;124mthis meeant to be singleton but you keep creating instances :( )\u001b[39m\u001b[38;5;124m\"\u001b[39m)\n\u001b[1;32m      6\u001b[0m marker \u001b[38;5;241m=\u001b[39m \u001b[38;5;28;01mTrue\u001b[39;00m\n\u001b[1;32m      7\u001b[0m \u001b[38;5;28mself\u001b[39m\u001b[38;5;241m.\u001b[39mname \u001b[38;5;241m=\u001b[39m name\n",
      "\u001b[0;31mException\u001b[0m: this meeant to be singleton but you keep creating instances :( )"
     ]
    }
   ],
   "source": [
    "mehmet = Person(\"mehmet\",200)"
   ]
  },
  {
   "cell_type": "markdown",
   "metadata": {},
   "source": [
    "Güzel bir çözüm değil ama bu bir çözümdü"
   ]
  }
 ],
 "metadata": {
  "kernelspec": {
   "display_name": "Python 3",
   "language": "python",
   "name": "python3"
  },
  "language_info": {
   "codemirror_mode": {
    "name": "ipython",
    "version": 3
   },
   "file_extension": ".py",
   "mimetype": "text/x-python",
   "name": "python",
   "nbconvert_exporter": "python",
   "pygments_lexer": "ipython3",
   "version": "3.9.6"
  }
 },
 "nbformat": 4,
 "nbformat_minor": 2
}
