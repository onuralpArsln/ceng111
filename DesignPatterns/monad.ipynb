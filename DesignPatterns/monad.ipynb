{
 "cells": [
  {
   "cell_type": "markdown",
   "metadata": {},
   "source": [
    "# Monad Design pattern"
   ]
  },
  {
   "cell_type": "markdown",
   "metadata": {},
   "source": [
    "Başlamadan önce bu design pattern daha ziyade fonksiyonel yaklaşımlar içindir. Biz genel olarak obje odaklı programlama mantığına yönelik sistemleri konuştuk. Bu mantığı rahatlıkla  class sistemine uygulamak mümkün. "
   ]
  },
  {
   "cell_type": "markdown",
   "metadata": {},
   "source": [
    "# Farkı monad yapıları\n",
    "\n",
    "Maybe Monad:  Yapılan hesaplama bir değer döndürebilir ya da döndürmeyebilir\". Belki internet üzerinden almak istediğin değerler (mesela bir api cevabı) gelmeyebilir ya da opsiyonel girdilere bağlı işlemler yapıyor olabilirsin. Bu durumları hata almadan yönetmek için faydalıdır.\n",
    "\n",
    "State Monad:  Bir yapının durumunu içinde tutar ve fonksiyonlar arası geçişini sağlar. Bir sistemi modellemek için oldukça faydalıdır. \n",
    "\n",
    "Başka monadlar olsada bizim için faydalı olacaklar şimdilik bunlar"
   ]
  },
  {
   "cell_type": "markdown",
   "metadata": {},
   "source": [
    "# Maybe Monad\n",
    "\n",
    "\n",
    "Bir maybe monad sınıfı oluşturulalım"
   ]
  },
  {
   "cell_type": "code",
   "execution_count": 7,
   "metadata": {},
   "outputs": [],
   "source": [
    "class Maybe:\n",
    "    # başlangıçta bir değer alır\n",
    "    def __init__(self, value):\n",
    "        self._value = value\n",
    "\n",
    "    # monad içindeki değeri fonksiyona sokmak için\n",
    "    def bind(self, func):\n",
    "        if self._value is None:\n",
    "            return Maybe(None)\n",
    "        else:\n",
    "            return Maybe(func(self._value))\n",
    "    # eğer içinde değer yoksa işlemez böylece hata alınmaz \n",
    "\n",
    "    # monad içi boş mu diye kontrol edip eğer boşsa bir default value vermeyi sağlar\n",
    "    def orElse(self, default):\n",
    "        if self._value is None:\n",
    "            return Maybe(default)\n",
    "        else:\n",
    "            return self\n",
    "\n",
    "    # değeri monaddan çıkartmak için. Eğer bir int işliyorsan ve \n",
    "    # işlemler bitince bir int istiyorsan \n",
    "    # monaddan böylece çıkarsın\n",
    "    def unwrap(self):\n",
    "        return self._value\n",
    "\n",
    "    #dunder method tanımları\n",
    "\n",
    "    # or operatörü ile düzgün çalışmak için \n",
    "    def __or__(self, other):\n",
    "        return Maybe(self._value or other._value)\n",
    "\n",
    "    # printte değerin gözükebilmesi için\n",
    "    def __str__(self):\n",
    "        if self._value is None:\n",
    "            return 'Monad Değeri -> None'\n",
    "        else:\n",
    "            return 'Monad Değeri -> {}'.format(self._value)\n",
    "    \n",
    "    # bir list içinde değerin güzel gözükmesi için\n",
    "    def __repr__(self):\n",
    "        return str(self)\n",
    "\n",
    "    # eşitlik operatörü ile düzgün çalışması için\n",
    "    def __eq__(self, other):\n",
    "        if isinstance(other, Maybe):\n",
    "            return self._value == other._value\n",
    "        else:\n",
    "            return False\n",
    "\n",
    "    # not equal operatörü ile düzgün çalışmak için\n",
    "    def __ne__(self, other):\n",
    "        return not (self == other)\n",
    "\n",
    "    # değer none değilse true none ise false döner\n",
    "    def __bool__(self):\n",
    "        return self._value is not None"
   ]
  },
  {
   "cell_type": "code",
   "execution_count": 8,
   "metadata": {},
   "outputs": [],
   "source": [
    "\n",
    "## monadlarımıza uygulamak için iki yeni fonksiyon tanımadık\n",
    "## bu basit fonksiyonlar ile monadı nasıl kullanacağımızı göreceğiz\n",
    "\n",
    "def add_one(x):\n",
    "    return x + 1\n",
    "\n",
    "def double(x):\n",
    "    return x * 2"
   ]
  },
  {
   "cell_type": "code",
   "execution_count": 9,
   "metadata": {},
   "outputs": [
    {
     "name": "stdout",
     "output_type": "stream",
     "text": [
      "Monad Değeri -> 8\n",
      "Monad Değeri -> None\n",
      "Monad Değeri -> 10\n",
      "Monad Değeri -> 1\n"
     ]
    }
   ],
   "source": [
    "\n",
    "result = Maybe(3).bind(add_one).bind(double)\n",
    "print(result)  # 8\n",
    "\n",
    "result = Maybe(None).bind(add_one).bind(double)\n",
    "print(result)  # None\n",
    "\n",
    "result = Maybe(None).bind(add_one).bind(double).orElse(10)\n",
    "print(result)  #  10\n",
    "\n",
    "result = Maybe(None) | Maybe(1)\n",
    "print(result) #  1\n"
   ]
  },
  {
   "cell_type": "markdown",
   "metadata": {},
   "source": [
    "# State Monad "
   ]
  },
  {
   "cell_type": "code",
   "execution_count": 12,
   "metadata": {},
   "outputs": [],
   "source": [
    "class State:\n",
    "    def __init__(self, state):\n",
    "        self.state = state\n",
    "\n",
    "    # bu dunder metodu ile çağrılınca verilen tepkinin değişmesi sağlanır.\n",
    "    def __call__(self, value):\n",
    "        return (self.state[1], State((self.state[0] + 1, value)))\n",
    "    # şuan bu class ile üretilen objeler çağrılınca kendi state bilgisine bir ekleyerek yeni bir obje oluşturur.\n",
    "    # return olarak iki değer sağlar. Biri count değer ise yeni bir sayaç objesi\n",
    "    "
   ]
  },
  {
   "cell_type": "code",
   "execution_count": 13,
   "metadata": {},
   "outputs": [
    {
     "name": "stdout",
     "output_type": "stream",
     "text": [
      "Computation result: 0, count: 1\n",
      "Computation result: 0, count: 2\n",
      "Computation result: 1, count: 3\n",
      "Computation result: 2, count: 4\n",
      "Computation result: 3, count: 5\n"
     ]
    }
   ],
   "source": [
    "# bir obje oluşturarak monad yapısını kullanması sağlanır\n",
    "counter = State((0, 0))\n",
    "\n",
    "# for döngüsü ile yapının test edilmesi\n",
    "for i in range(5):\n",
    "    result, counter = counter(i)\n",
    "    print(f\"Computation result: {result}, count: {counter.state[0]}\") "
   ]
  }
 ],
 "metadata": {
  "kernelspec": {
   "display_name": "Python 3",
   "language": "python",
   "name": "python3"
  },
  "language_info": {
   "codemirror_mode": {
    "name": "ipython",
    "version": 3
   },
   "file_extension": ".py",
   "mimetype": "text/x-python",
   "name": "python",
   "nbconvert_exporter": "python",
   "pygments_lexer": "ipython3",
   "version": "3.11.9"
  }
 },
 "nbformat": 4,
 "nbformat_minor": 2
}
