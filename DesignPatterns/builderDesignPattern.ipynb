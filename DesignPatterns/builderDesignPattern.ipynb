{
 "cells": [
  {
   "cell_type": "markdown",
   "metadata": {},
   "source": [
    "# Builder Design Pattern"
   ]
  },
  {
   "cell_type": "markdown",
   "metadata": {},
   "source": [
    "Sınıflar ve OOP un temel amacı benzer yapıları rahatlıkla üretebilmek. Bir classtan bir çok obje üretimi yapılabilir.    \n",
    "\n",
    "Örneğin bir car sınıfı ile bir çok car objesi oluşur. Eğer bir yarış arabası classı istersek car sınıf inherit alarak alarak yeni bir classı oluştururuz. Peki ya işler biraz karışık hale gelirse?\n",
    "\n",
    "\n",
    "\n",
    "Bir oyun yaptığımızı düşünelim  \n",
    "\n",
    "3 temel düşman olsun   \n",
    "-> Okçu   \n",
    "-> Atlı  \n",
    "-> Piyade   \n",
    "\n",
    "Bu düşmanların özel yetenekleri olan büyülü varyasyonları olsun   \n",
    "\n",
    "bu düşmanların duruma göre ikincil silahlar kullanana özel varyasyonları olsun  \n",
    "\n",
    "bu düşmanların mutasyonlu varyasyonları olsun  \n",
    "\n",
    "ve bu 3 değişikliğin  farklı kombinasyonları mümkün olsun. bu durumda 30 farklı class gerekecek.  \n",
    "peki ya oyunumuza bir update ile yeni bir varyasyon gelirse?  \n",
    "\n",
    "okcunun zombi inheriti yerine okcu+zombi  yapabilmek iyi olurdu.  \n",
    "\n",
    "Web geliştirmede bu  yaklaşım bolca vardır bir html objesine bir çok css sınıf atanabilir."
   ]
  },
  {
   "cell_type": "code",
   "execution_count": null,
   "metadata": {},
   "outputs": [],
   "source": []
  }
 ],
 "metadata": {
  "language_info": {
   "name": "python"
  }
 },
 "nbformat": 4,
 "nbformat_minor": 2
}
