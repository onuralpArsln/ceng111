{
 "cells": [
  {
   "cell_type": "markdown",
   "metadata": {},
   "source": [
    "# Builder Design Pattern"
   ]
  },
  {
   "cell_type": "markdown",
   "metadata": {},
   "source": [
    "Küçük ev tadilatları kolaydır ve çoğu zaman kendimiz yapabiliriz.  Ancak işler karmaşık hale geldiğinde bir uzman çağırmak daha iyi olabilir.   \n",
    "\n",
    "Builder design patternin mantığı aslında bu. Çok kompleks bir obje üretmek istediğinde tek bir devasa init ya da constructor pek rahat bir fikir olmayabiliyor.  Özellikle bir birinden farklı bir çok parametre ile bir çok işlem yapacaksak. Builder design pattern, Facade design pattern mantığına benzer bir şekilde kompleks bir işlemi parçalamamızı sağlayan bir design patterndir. \n",
    "\n",
    "\n",
    "Bir uzman çağıracağız bu bizim builderimiz olacak. \n"
   ]
  },
  {
   "cell_type": "code",
   "execution_count": null,
   "metadata": {},
   "outputs": [],
   "source": [
    "# \"Build\" edilmesi beklenen karmaşık sınıf. Bunu bir inşaat projesinin hedefi olarak düşünebiliriz \n",
    "## içinde cpu olsun diyoruz ancak bir cpu yapmak kolay değil. Neyse ki biz yapmayacağız ve dışarıdan isteyeceğiz.\n",
    "class Computer:\n",
    "    def __init__(self, cpu, memory, storage, gpu):\n",
    "        self.cpu = cpu\n",
    "        self.memory = memory\n",
    "        self.storage = storage\n",
    "        self.gpu = gpu\n",
    "\n",
    "    def __str__(self):\n",
    "        return f\"CPU: {self.cpu}, Memory: {self.memory}, Storage: {self.storage}, GPU: {self.gpu}\""
   ]
  },
  {
   "cell_type": "code",
   "execution_count": 14,
   "metadata": {},
   "outputs": [],
   "source": [
    "\n",
    "# Builder interface \n",
    "# Interface mantığı pythonda direkt bulunmasada  bunu manuel olarak ekleyebiliriz.\n",
    "class IComputerBuilder:\n",
    "    def set_cpu(self, cpu):\n",
    "        raise NotImplementedError\n",
    "\n",
    "    def set_memory(self, memory):\n",
    "        raise NotImplementedError\n",
    "\n",
    "    def set_storage(self, storage):\n",
    "        raise NotImplementedError\n",
    "\n",
    "    def set_gpu(self, gpu):\n",
    "        raise NotImplementedError\n",
    "\n",
    "    def build(self):\n",
    "        raise NotImplementedError\n",
    "\n",
    "# şuan ne işe yaradığı pek belli değil gibi ama sonraki hücrede net görülecek.\n",
    "\n"
   ]
  },
  {
   "cell_type": "code",
   "execution_count": 17,
   "metadata": {},
   "outputs": [
    {
     "ename": "NotImplementedError",
     "evalue": "",
     "output_type": "error",
     "traceback": [
      "\u001b[1;31m---------------------------------------------------------------------------\u001b[0m",
      "\u001b[1;31mNotImplementedError\u001b[0m                       Traceback (most recent call last)",
      "Cell \u001b[1;32mIn[17], line 4\u001b[0m\n\u001b[0;32m      2\u001b[0m     \u001b[38;5;28;01mpass\u001b[39;00m\n\u001b[0;32m      3\u001b[0m test\u001b[38;5;241m=\u001b[39mcompt()\n\u001b[1;32m----> 4\u001b[0m \u001b[43mtest\u001b[49m\u001b[38;5;241;43m.\u001b[39;49m\u001b[43mset_cpu\u001b[49m\u001b[43m(\u001b[49m\u001b[43mcpu\u001b[49m\u001b[38;5;241;43m=\u001b[39;49m\u001b[38;5;124;43m\"\u001b[39;49m\u001b[38;5;124;43mtest\u001b[39;49m\u001b[38;5;124;43m\"\u001b[39;49m\u001b[43m)\u001b[49m\n",
      "Cell \u001b[1;32mIn[14], line 5\u001b[0m, in \u001b[0;36mIComputerBuilder.set_cpu\u001b[1;34m(self, cpu)\u001b[0m\n\u001b[0;32m      4\u001b[0m \u001b[38;5;28;01mdef\u001b[39;00m \u001b[38;5;21mset_cpu\u001b[39m(\u001b[38;5;28mself\u001b[39m, cpu):\n\u001b[1;32m----> 5\u001b[0m     \u001b[38;5;28;01mraise\u001b[39;00m \u001b[38;5;167;01mNotImplementedError\u001b[39;00m\n",
      "\u001b[1;31mNotImplementedError\u001b[0m: "
     ]
    }
   ],
   "source": [
    "## bu cell hata verecek\n",
    "class compt(IComputerBuilder):\n",
    "    pass\n",
    "test=compt()\n",
    "test.set_cpu(cpu=\"test\")\n",
    "## eğer yukarı bakarsan her method raise not implemented error veriyor. \n",
    "## bunu düzeltmen için inherit aldıktan sonra override etmen gerekir.\n",
    "##peki neden bunu yapıyoruz?\n",
    "## aşağıdaki markdown hücresinde bunu açıklıyoruz."
   ]
  },
  {
   "cell_type": "markdown",
   "metadata": {},
   "source": [
    "> Öğrenme molası\n",
    "\n",
    "Interface denilen özellik genelde compiled dillerde kullanılır.  \n",
    "Java, c# gibi dillerde bir adet inherit alınabilir. Bir adet extend yapılır. Ancak bir çok interface  alınabilir.  \n",
    "Interfaceler içinde neyin nasıl yapılacağını söylemez. Bir alışveriş listesi gibi davranırlar. Senin sınıfında istenilen metotlar tanımlı mı diye bakarlar. Eğer tanımlı değilse compile sırasında hata alırsın.   \n",
    "\n",
    "Bir oyun örneği yapalım. Bir oyunda evcil bir köpek kodaman gerekiyor olsun.  Köpek özelliklerini ve evcil hayvan özelliklerini aldığından emin olunması için sana bunların interfaceleri verilecek. Bunlar sürekli bir checklist etkisi yaratacak. Senin evcil hayvan ve köpeklere ait tüm metotları yazdığın evcil köpek classı içinde yazdığından emin olacak.  \n",
    "\n",
    "python compile yapmadığı için runtime sırasında yazılmamış (implement edilmemiş) bir koda denk gelirsek hata verecek.  Eğer java gibi çalışsın istersek bunun için özel kütüphaneler var.\n",
    "\n",
    "from abc import ABC, abstractmethod                \n",
    "                 \n",
    ">class MyInterface(ABC):    \n",
    ">____@abstractmethod          \n",
    ">____def my_method(self):            \n",
    ">________pass              \n",
    "\n",
    "pythonda bir interface oluşturmak için bunu yapabilirsin. "
   ]
  },
  {
   "cell_type": "code",
   "execution_count": null,
   "metadata": {},
   "outputs": [],
   "source": [
    "\n",
    "# Interface inherit alındı ve içindeki tüm metotlar yazıldı. (implement edildi.)\n",
    "# Cpu  üretecek karışık fonksiyon ile ram üretecek karışık fonksiyon birbirinden ayrı. \n",
    "# Bunları tek bir init içinde yazmak çok kafa karıştırıcı ve zor bir hal alabilirdi\n",
    "class GamingComputerBuilder(IComputerBuilder):\n",
    "    def set_cpu(self, cpu):\n",
    "        print(\"Çok karışık işlemler yapılarak cpu üretiliyor \")\n",
    "        self.cpu = cpu\n",
    "\n",
    "    def set_memory(self, memory):\n",
    "        print(\"İnternetten ekstra ram apksi indirdim. Sanırım virüslü \")\n",
    "        self.memory = memory\n",
    "\n",
    "    def set_storage(self, storage):\n",
    "        print(\"Eski bilgisayarlardan ssd sökülüyor\")\n",
    "        self.storage = storage\n",
    "\n",
    "    def set_gpu(self, gpu):\n",
    "        print(\"karaborsadan yeni bir gpu alınıyor \")\n",
    "        self.gpu = gpu\n",
    "\n",
    "    def build(self):\n",
    "        return Computer(self.cpu, self.memory, self.storage, self.gpu)\n",
    "    # builder yaptıklarını selfe atmıştı. Şimdi bu selfleri computer initine ekliyor.\n"
   ]
  },
  {
   "cell_type": "markdown",
   "metadata": {},
   "source": [
    "Tek başına bir builder yeterli olmayacak builderi kontrol edecek bir director sınıfı gerekiyor.  Peki neden bunları ayırdık?\n",
    "\n",
    "Bazı durumlarda farklı builderler gerekebilir.  Örneğin bir  oyuncu laptopu ve bir mac cihazı için farklı builderlar gerekebilir. Directorumüze atadığımız builder, directorun istediği methodları karşıladıktan sonra sıkıntı olmayacak. Peki metodların olduğundan nasıl emin olacağız??? \n",
    "\n",
    "Interface ile"
   ]
  },
  {
   "cell_type": "code",
   "execution_count": null,
   "metadata": {},
   "outputs": [],
   "source": [
    "# Director class\n",
    "class Director:\n",
    "    def __init__(self, builder):\n",
    "        self.builder = builder\n",
    "\n",
    "    def construct(self, cpu, memory, storage, gpu):\n",
    "        self.builder.set_cpu(cpu)\n",
    "        self.builder.set_memory(memory)\n",
    "        self.builder.set_storage(storage)\n",
    "        self.builder.set_gpu(gpu)\n",
    "        return self.builder.build()\n"
   ]
  },
  {
   "cell_type": "code",
   "execution_count": null,
   "metadata": {},
   "outputs": [],
   "source": [
    "### arka planda bir sürü kompleks işlemi hallettikten sonra süreci yönetmek çok basit olacak.\n",
    "\n",
    "\n",
    "gaming_computer_builder = GamingComputerBuilder()\n",
    "director = Director(gaming_computer_builder)\n",
    "\n",
    "gaming_pc = director.construct(\"Intel i7\", \"16GB\", \"1TB SSD\", \"Nvidia RTX 3080\")\n",
    "\n",
    "print(\"Gaming PC specs:\")\n",
    "print(gaming_pc)"
   ]
  },
  {
   "cell_type": "markdown",
   "metadata": {},
   "source": [
    " # Ihtiyaç duyulacak bir açıklama\n",
    "\n",
    "Builder design pattern basit bir işi yapmak için aşırı karış görünüyor olabilir. Ancak buradaki amaç bir adet kompleks obje üretmek değil.\n",
    "\n",
    "Farklı sistemlere sahip bir çok masa üstü ve laptop üretmek istiyorsun bazıları hafif sistemler olsun istiyorsun bazıları güçlü. Bir sürü sistem üretmen gerektiğinde builder işe yarayacak. Ayrıca obje attirbutleri her zaman stringler olmayacak. Bazen objelere bağlı farklı objeler gerekecek. Bu kompleks yapıya takım çalışması dahil olunca builder design patterninin populer yapısı anlaşılıyor."
   ]
  }
 ],
 "metadata": {
  "kernelspec": {
   "display_name": "Python 3",
   "language": "python",
   "name": "python3"
  },
  "language_info": {
   "codemirror_mode": {
    "name": "ipython",
    "version": 3
   },
   "file_extension": ".py",
   "mimetype": "text/x-python",
   "name": "python",
   "nbconvert_exporter": "python",
   "pygments_lexer": "ipython3",
   "version": "3.11.9"
  }
 },
 "nbformat": 4,
 "nbformat_minor": 2
}
