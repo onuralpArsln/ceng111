{
 "cells": [
  {
   "cell_type": "markdown",
   "id": "b2ff3082",
   "metadata": {
    "id": "b2ff3082"
   },
   "source": [
    "# CENG 111 Computer Programming I [Fall 2023 - 2024]\n",
    "## Week 13 - Special types of functions\n",
    "\n",
    "## Objectives of the thirteenth week's lecture.\n",
    "\n",
    "- *Python Closures*\n",
    "- *Nonlocal variable in a nested function*\n",
    "- *Defining a Closure Function*\n",
    "- *When do we have closures?*\n",
    "- *When to use closures?*\n",
    "- *Python Decorators*\n",
    "- *Decorators in Python*\n",
    "- *Prerequisites for learning decorators*\n",
    "- *Getting back to Decorators*\n",
    "- *Decorating Functions with Parameters*\n",
    "- *Chaining Decorators in Python*\n",
    "- *Python @property decorator*\n",
    "- *Class Without Getters and Setters*\n",
    "- *Using Getters and Setters*\n",
    "- *The property Class*\n",
    "- *The @property Decorator*"
   ]
  },
  {
   "cell_type": "markdown",
   "id": "14497ce6",
   "metadata": {},
   "source": [
    "## Python Closures\n",
    "\n",
    "In this lecture, you'll learn about Python closure, how to define a closure, and the reasons you should use it."
   ]
  },
  {
   "cell_type": "markdown",
   "id": "c8561ceb",
   "metadata": {},
   "source": [
    "## Nonlocal variable in a nested function\n",
    "\n",
    "Before getting into what a closure is, we have to first understand what a nested function and nonlocal variable is.\n",
    "\n",
    "A function defined inside another function is called a nested function. Nested functions can access variables of the enclosing scope.\n",
    "\n",
    "In Python, these non-local variables are read-only by default and we must declare them explicitly as non-local (using nonlocal keyword) in order to modify them.\n",
    "\n",
    "**Example:**"
   ]
  },
  {
   "cell_type": "code",
   "execution_count": 1,
   "id": "6f123f80",
   "metadata": {},
   "outputs": [
    {
     "name": "stdout",
     "output_type": "stream",
     "text": [
      "Hello\n"
     ]
    }
   ],
   "source": [
    "def print_msg(msg):\n",
    "    # This is the outer enclosing function\n",
    "\n",
    "    def printer():\n",
    "        # This is the nested function\n",
    "        print(msg)\n",
    "\n",
    "    printer()\n",
    "\n",
    "# We execute the function\n",
    "# Output: Hello\n",
    "print_msg(\"Hello\")"
   ]
  },
  {
   "cell_type": "markdown",
   "id": "308c9efb",
   "metadata": {},
   "source": [
    "We can see that the nested **printer()** function was able to access the non-local **msg** variable of the enclosing function."
   ]
  },
  {
   "cell_type": "markdown",
   "id": "738bf9b7",
   "metadata": {},
   "source": [
    "## Defining a Closure Function\n",
    "\n",
    "In the example above, what would happen if the last line of the function **print_msg()** returned the **printer()** function instead of calling it? \n",
    "\n",
    "This means the function was defined as follows:"
   ]
  },
  {
   "cell_type": "code",
   "execution_count": 2,
   "id": "f41862f2",
   "metadata": {
    "scrolled": true
   },
   "outputs": [],
   "source": [
    "def print_msg(msg):\n",
    "    # This is the outer enclosing function\n",
    "\n",
    "    def printer():\n",
    "        # This is the nested function\n",
    "        print(msg)\n",
    "\n",
    "    return printer  # returns the nested function"
   ]
  },
  {
   "cell_type": "code",
   "execution_count": 3,
   "id": "061ac23d",
   "metadata": {
    "scrolled": true
   },
   "outputs": [
    {
     "name": "stdout",
     "output_type": "stream",
     "text": [
      "Hello\n"
     ]
    }
   ],
   "source": [
    "# Now let's try calling this function.\n",
    "# Output: Hello\n",
    "another = print_msg(\"Hello\")\n",
    "another()"
   ]
  },
  {
   "cell_type": "code",
   "execution_count": 4,
   "id": "500e1f40",
   "metadata": {},
   "outputs": [
    {
     "data": {
      "text/plain": [
       "function"
      ]
     },
     "execution_count": 4,
     "metadata": {},
     "output_type": "execute_result"
    }
   ],
   "source": [
    "type(another)"
   ]
  },
  {
   "cell_type": "markdown",
   "id": "82a77872",
   "metadata": {},
   "source": [
    "The **print_msg()** function was called with the string **\"Hello\"** and the returned function was bound to the name another. On calling **another()**, the message was still remembered although we had already finished executing the **print_msg()** function.\n",
    "\n",
    "This technique by which some data (**\"Hello\"** in this case) gets attached to the code is called **closure in Python**.\n",
    "\n",
    "This value in the enclosing scope is remembered even when the variable goes out of scope or the function itself is removed from the current namespace.\n",
    "\n",
    "Try running the following to see the output."
   ]
  },
  {
   "cell_type": "code",
   "execution_count": 5,
   "id": "0fe570fc",
   "metadata": {},
   "outputs": [],
   "source": [
    "del print_msg"
   ]
  },
  {
   "cell_type": "code",
   "execution_count": 6,
   "id": "36489255",
   "metadata": {},
   "outputs": [
    {
     "name": "stdout",
     "output_type": "stream",
     "text": [
      "Hello\n"
     ]
    }
   ],
   "source": [
    "another()"
   ]
  },
  {
   "cell_type": "code",
   "execution_count": 7,
   "id": "84b36068",
   "metadata": {},
   "outputs": [
    {
     "ename": "NameError",
     "evalue": "name 'print_msg' is not defined",
     "output_type": "error",
     "traceback": [
      "\u001b[1;31m---------------------------------------------------------------------------\u001b[0m",
      "\u001b[1;31mNameError\u001b[0m                                 Traceback (most recent call last)",
      "Cell \u001b[1;32mIn[7], line 1\u001b[0m\n\u001b[1;32m----> 1\u001b[0m \u001b[43mprint_msg\u001b[49m(\u001b[38;5;124m\"\u001b[39m\u001b[38;5;124mHello\u001b[39m\u001b[38;5;124m\"\u001b[39m)\n",
      "\u001b[1;31mNameError\u001b[0m: name 'print_msg' is not defined"
     ]
    }
   ],
   "source": [
    "print_msg(\"Hello\")"
   ]
  },
  {
   "cell_type": "markdown",
   "id": "02cb3508",
   "metadata": {},
   "source": [
    "Here, the returned function still works even when the original function was deleted."
   ]
  },
  {
   "cell_type": "markdown",
   "id": "9665a403",
   "metadata": {},
   "source": [
    "## When do we have closures?\n",
    "\n",
    "As seen from the above example, we have a closure in Python when a nested function references a value in its enclosing scope.\n",
    "\n",
    "The criteria that must be met to create closure in Python are summarized in the following points.\n",
    "\n",
    "- We must have a nested function (function inside a function).\n",
    "- The nested function must refer to a value defined in the enclosing function.\n",
    "- The enclosing function must return the nested function."
   ]
  },
  {
   "cell_type": "markdown",
   "id": "11c180bd",
   "metadata": {},
   "source": [
    "## When to use closures?\n",
    "\n",
    "Firstly, a Nested Function is a function defined inside another function. It's very important to note that the nested functions can access the variables of the enclosing scope. However, at least in python, they are only readonly. "
   ]
  },
  {
   "cell_type": "code",
   "execution_count": 1,
   "id": "fa38320f",
   "metadata": {},
   "outputs": [],
   "source": [
    "def transmit_to_space(message):\n",
    "    \"This is the enclosing function\"\n",
    "    def data_transmitter():\n",
    "        \"The nested function\"\n",
    "        print(message)\n",
    "\n",
    "    data_transmitter()\n",
    "\n",
    "\n",
    "\n"
   ]
  },
  {
   "cell_type": "code",
   "execution_count": 2,
   "id": "25c5f0e7",
   "metadata": {},
   "outputs": [
    {
     "name": "stdout",
     "output_type": "stream",
     "text": [
      "Test message\n",
      "None\n"
     ]
    }
   ],
   "source": [
    "print(transmit_to_space(\"Test message\"))"
   ]
  },
  {
   "cell_type": "code",
   "execution_count": 3,
   "id": "a568119f",
   "metadata": {},
   "outputs": [
    {
     "name": "stdout",
     "output_type": "stream",
     "text": [
      "hello\n",
      "None\n"
     ]
    }
   ],
   "source": [
    "def data_transmitter(message):\n",
    "        \"The nested function\"\n",
    "        print(message)\n",
    "\n",
    "print(data_transmitter(\"hello\"))"
   ]
  },
  {
   "cell_type": "markdown",
   "id": "fe0b191c",
   "metadata": {},
   "source": [
    "So what are closures good for?\n",
    "\n",
    "Closures can avoid the use of global values and provides some form of data hiding. It can also provide an object oriented solution to the problem.\n",
    "\n",
    "When there are few methods (one method in most cases) to be implemented in a class, closures can provide an alternate and more elegant solution. But when the number of attributes and methods get larger, it's better to implement a class.\n",
    "\n",
    "Here is a simple example where a closure might be more preferable than defining a class and making objects. But the preference is all yours."
   ]
  },
  {
   "cell_type": "code",
   "execution_count": 14,
   "id": "f037fab6",
   "metadata": {},
   "outputs": [],
   "source": [
    "def transmit_to_space(message):\n",
    "    \"This is the enclosing function\"\n",
    "    def data_transmitter():\n",
    "        \"The nested function\"\n",
    "        print(message)\n",
    "    return data_transmitter"
   ]
  },
  {
   "cell_type": "code",
   "execution_count": 15,
   "id": "885a9b0f",
   "metadata": {},
   "outputs": [
    {
     "name": "stdout",
     "output_type": "stream",
     "text": [
      "Burn the Sun!\n"
     ]
    }
   ],
   "source": [
    "fun2 = transmit_to_space(\"Burn the Sun!\")\n",
    "fun2()"
   ]
  },
  {
   "cell_type": "markdown",
   "id": "ab9cd7fa",
   "metadata": {
    "scrolled": true
   },
   "source": [
    "Even though the execution of the \"transmit_to_space()\" was completed, the message was rather preserved. This technique by which the data is attached to some code even after end of those other original functions is called as closures in python.\n",
    "\n",
    "ADVANTAGE : Closures can avoid use of global variables and provides some form of data hiding.(Eg. When there are few methods in a class, use closures instead.)."
   ]
  },
  {
   "cell_type": "code",
   "execution_count": 16,
   "id": "9e1de1cf",
   "metadata": {},
   "outputs": [
    {
     "name": "stdout",
     "output_type": "stream",
     "text": [
      "Hey!\n"
     ]
    }
   ],
   "source": [
    "# Python program to illustrate\n",
    "# nested functions\n",
    "def outerFunction(text):\n",
    "\n",
    "\tdef innerFunction():\n",
    "\t\tprint(text)\n",
    "\n",
    "\tinnerFunction()\n",
    "\n",
    "\n",
    "if __name__ == '__main__':\n",
    "\touterFunction('Hey!')\n"
   ]
  },
  {
   "cell_type": "markdown",
   "id": "0b5a190e",
   "metadata": {},
   "source": [
    "## Python Decorators\n",
    "\n",
    "A decorator takes in a function, adds some functionality and returns it. In this tutorial, you will learn how you can create a decorator and why you should use it."
   ]
  },
  {
   "cell_type": "markdown",
   "id": "a3330cf0",
   "metadata": {},
   "source": [
    "## Decorators in Python\n",
    "\n",
    "Python has an interesting feature called **decorators** to add functionality to an existing code.\n",
    "\n",
    "This is also called **metaprogramming** because a part of the program tries to modify another part of the program at compile time."
   ]
  },
  {
   "cell_type": "markdown",
   "id": "85bbe3dd",
   "metadata": {},
   "source": [
    "## Prerequisites for learning decorators\n",
    "\n",
    "In order to understand about decorators, we must first know a few basic things in Python.\n",
    "\n",
    "We must be comfortable with the fact that everything in Python, are objects. Names that we define are simply identifiers bound to these objects. Functions are no exceptions, they are objects too (with attributes). Various different names can be bound to the same function object.\n",
    "\n",
    "**Example:**"
   ]
  },
  {
   "cell_type": "code",
   "execution_count": 17,
   "id": "d098715c",
   "metadata": {},
   "outputs": [
    {
     "name": "stdout",
     "output_type": "stream",
     "text": [
      "Hello\n",
      "Hello\n"
     ]
    }
   ],
   "source": [
    "def first(msg):\n",
    "    print(msg)\n",
    "\n",
    "\n",
    "first(\"Hello\")\n",
    "\n",
    "second = first\n",
    "second(\"Hello\")"
   ]
  },
  {
   "cell_type": "markdown",
   "id": "2a4b3526",
   "metadata": {},
   "source": [
    "When you run the code, both functions **first** and **second** give the same output. Here, the names **first** and **second** refer to the same function object.\n",
    "\n",
    "Functions can be passed as arguments to another function.\n",
    "\n",
    "If you have used functions like **map**, **filter** and **reduce** in Python, then you already know about this.\n",
    "\n",
    "Such functions that take other functions as arguments are also called **higher order functions**. \n",
    "\n",
    "**Example:**"
   ]
  },
  {
   "cell_type": "code",
   "execution_count": 18,
   "id": "ebe8670d",
   "metadata": {},
   "outputs": [],
   "source": [
    "def inc(x):\n",
    "    return x + 1\n",
    "\n",
    "def dec(x):\n",
    "    return x - 1\n",
    "\n",
    "def operate(func, x):\n",
    "    result = func(x)\n",
    "    return result"
   ]
  },
  {
   "cell_type": "markdown",
   "id": "3ffa6a66",
   "metadata": {},
   "source": [
    "We invoke the function as follows."
   ]
  },
  {
   "cell_type": "code",
   "execution_count": 19,
   "id": "0ec7227f",
   "metadata": {},
   "outputs": [
    {
     "data": {
      "text/plain": [
       "5"
      ]
     },
     "execution_count": 19,
     "metadata": {},
     "output_type": "execute_result"
    }
   ],
   "source": [
    "operate(inc, 4)"
   ]
  },
  {
   "cell_type": "code",
   "execution_count": 20,
   "id": "1626cdf7",
   "metadata": {},
   "outputs": [
    {
     "data": {
      "text/plain": [
       "2"
      ]
     },
     "execution_count": 20,
     "metadata": {},
     "output_type": "execute_result"
    }
   ],
   "source": [
    "operate(dec,3)"
   ]
  },
  {
   "cell_type": "markdown",
   "id": "3edafb67",
   "metadata": {},
   "source": [
    "Furthermore, a function can return another function."
   ]
  },
  {
   "cell_type": "code",
   "execution_count": 21,
   "id": "c4a75345",
   "metadata": {},
   "outputs": [],
   "source": [
    "def is_called():\n",
    "    def is_returned():\n",
    "        print(\"Hello\")\n",
    "    return is_returned"
   ]
  },
  {
   "cell_type": "code",
   "execution_count": 22,
   "id": "67716a46",
   "metadata": {},
   "outputs": [],
   "source": [
    "new = is_called()"
   ]
  },
  {
   "cell_type": "code",
   "execution_count": 23,
   "id": "245e1144",
   "metadata": {},
   "outputs": [
    {
     "name": "stdout",
     "output_type": "stream",
     "text": [
      "Hello\n"
     ]
    }
   ],
   "source": [
    "new()"
   ]
  },
  {
   "cell_type": "markdown",
   "id": "1d76f184",
   "metadata": {},
   "source": [
    "Here, **is_returned()** is a nested function which is defined and returned each time we call **is_called()**."
   ]
  },
  {
   "cell_type": "markdown",
   "id": "f37f47d1",
   "metadata": {},
   "source": [
    "## Getting back to Decorators\n",
    "\n",
    "Functions and methods are called **callable** as they can be called.\n",
    "\n",
    "In fact, any object which implements the special **\\_\\_call\\_\\_()** method is termed callable. So, in the most basic sense, a decorator is a callable that returns a callable.\n",
    "\n",
    "Basically, a decorator takes in a function, adds some functionality and returns it."
   ]
  },
  {
   "cell_type": "code",
   "execution_count": 24,
   "id": "9cd04929",
   "metadata": {},
   "outputs": [],
   "source": [
    "def make_pretty(func):\n",
    "    def inner():\n",
    "        print(\"I got decorated\")\n",
    "        func()\n",
    "    return inner\n",
    "\n",
    "def ordinary():\n",
    "    print(\"I am ordinary\")"
   ]
  },
  {
   "cell_type": "markdown",
   "id": "5157a2a0",
   "metadata": {},
   "source": [
    "When you run the following code;"
   ]
  },
  {
   "cell_type": "code",
   "execution_count": 25,
   "id": "4791812e",
   "metadata": {},
   "outputs": [
    {
     "name": "stdout",
     "output_type": "stream",
     "text": [
      "I am ordinary\n"
     ]
    }
   ],
   "source": [
    "ordinary()"
   ]
  },
  {
   "cell_type": "code",
   "execution_count": 26,
   "id": "dcba928a",
   "metadata": {},
   "outputs": [],
   "source": [
    "# let's decorate this ordinary function\n",
    "pretty = make_pretty(ordinary)"
   ]
  },
  {
   "cell_type": "code",
   "execution_count": 27,
   "id": "4e1f9f18",
   "metadata": {},
   "outputs": [
    {
     "name": "stdout",
     "output_type": "stream",
     "text": [
      "I got decorated\n",
      "I am ordinary\n"
     ]
    }
   ],
   "source": [
    "pretty()"
   ]
  },
  {
   "cell_type": "markdown",
   "id": "ae44cffb",
   "metadata": {},
   "source": [
    "In the example shown above, make_pretty() is a decorator. "
   ]
  },
  {
   "cell_type": "markdown",
   "id": "a30a7791",
   "metadata": {},
   "source": [
    "The function **ordinary()** got decorated and the returned function was given the name **pretty**.\n",
    "\n",
    "We can see that the decorator function added some new functionality to the original function. This is similar to packing a gift. The decorator acts as a wrapper. The nature of the object that got decorated (actual gift inside) does not alter. But now, it looks pretty (since it got decorated).\n",
    "\n",
    "Generally, we decorate a function and reassign it as;"
   ]
  },
  {
   "cell_type": "code",
   "execution_count": 29,
   "id": "686e65ed",
   "metadata": {},
   "outputs": [],
   "source": [
    "ordinary = make_pretty(ordinary)"
   ]
  },
  {
   "cell_type": "markdown",
   "id": "97ac0aff",
   "metadata": {},
   "source": [
    "This is a common construct and for this reason, Python has a syntax to simplify this.\n",
    "\n",
    "We can use the @ symbol along with the name of the decorator function and place it above the definition of the function to be decorated.\n",
    "\n",
    "**Example:**"
   ]
  },
  {
   "cell_type": "code",
   "execution_count": 30,
   "id": "24a49624",
   "metadata": {},
   "outputs": [],
   "source": [
    "def make_pretty(func):\n",
    "    def inner():\n",
    "        print(\"I got decorated\")\n",
    "        func()\n",
    "    return inner\n",
    "\n",
    "@make_pretty\n",
    "def ordinary():\n",
    "    print(\"I am ordinary\")"
   ]
  },
  {
   "cell_type": "code",
   "execution_count": 31,
   "id": "74e859a4",
   "metadata": {},
   "outputs": [
    {
     "name": "stdout",
     "output_type": "stream",
     "text": [
      "I got decorated\n",
      "I am ordinary\n"
     ]
    }
   ],
   "source": [
    "ordinary()"
   ]
  },
  {
   "cell_type": "markdown",
   "id": "8af9d863",
   "metadata": {},
   "source": [
    "is equivalent to"
   ]
  },
  {
   "cell_type": "code",
   "execution_count": 32,
   "id": "409922fb",
   "metadata": {},
   "outputs": [],
   "source": [
    "def ordinary():\n",
    "    print(\"I am ordinary\")\n",
    "ordinary = make_pretty(ordinary)"
   ]
  },
  {
   "cell_type": "code",
   "execution_count": 33,
   "id": "3fa2e261",
   "metadata": {},
   "outputs": [
    {
     "name": "stdout",
     "output_type": "stream",
     "text": [
      "I got decorated\n",
      "I am ordinary\n"
     ]
    }
   ],
   "source": [
    "ordinary()"
   ]
  },
  {
   "cell_type": "markdown",
   "id": "c66b45c6",
   "metadata": {},
   "source": [
    "This is just a syntactic sugar to implement decorators."
   ]
  },
  {
   "cell_type": "markdown",
   "id": "d2502752",
   "metadata": {},
   "source": [
    "## Decorating Functions with Parameters\n",
    "\n",
    "The above decorator was simple and it only worked with functions that did not have any parameters. What if we had functions that took in parameters like:"
   ]
  },
  {
   "cell_type": "code",
   "execution_count": 34,
   "id": "60dbaa76",
   "metadata": {},
   "outputs": [],
   "source": [
    "def divide(a, b):\n",
    "    return a / b"
   ]
  },
  {
   "cell_type": "markdown",
   "id": "1c225bcb",
   "metadata": {},
   "source": [
    "This function has two parameters, **a** and **b**. We know it will give an error if we pass in **b** as **0**."
   ]
  },
  {
   "cell_type": "code",
   "execution_count": 35,
   "id": "a4bb5467",
   "metadata": {},
   "outputs": [
    {
     "data": {
      "text/plain": [
       "0.4"
      ]
     },
     "execution_count": 35,
     "metadata": {},
     "output_type": "execute_result"
    }
   ],
   "source": [
    "divide(2,5)"
   ]
  },
  {
   "cell_type": "code",
   "execution_count": 36,
   "id": "f619404c",
   "metadata": {},
   "outputs": [
    {
     "ename": "ZeroDivisionError",
     "evalue": "division by zero",
     "output_type": "error",
     "traceback": [
      "\u001b[1;31m---------------------------------------------------------------------------\u001b[0m",
      "\u001b[1;31mZeroDivisionError\u001b[0m                         Traceback (most recent call last)",
      "Cell \u001b[1;32mIn[36], line 1\u001b[0m\n\u001b[1;32m----> 1\u001b[0m \u001b[43mdivide\u001b[49m\u001b[43m(\u001b[49m\u001b[38;5;241;43m2\u001b[39;49m\u001b[43m,\u001b[49m\u001b[38;5;241;43m0\u001b[39;49m\u001b[43m)\u001b[49m\n",
      "Cell \u001b[1;32mIn[34], line 2\u001b[0m, in \u001b[0;36mdivide\u001b[1;34m(a, b)\u001b[0m\n\u001b[0;32m      1\u001b[0m \u001b[38;5;28;01mdef\u001b[39;00m \u001b[38;5;21mdivide\u001b[39m(a, b):\n\u001b[1;32m----> 2\u001b[0m     \u001b[38;5;28;01mreturn\u001b[39;00m \u001b[43ma\u001b[49m\u001b[43m \u001b[49m\u001b[38;5;241;43m/\u001b[39;49m\u001b[43m \u001b[49m\u001b[43mb\u001b[49m\n",
      "\u001b[1;31mZeroDivisionError\u001b[0m: division by zero"
     ]
    }
   ],
   "source": [
    "divide(2,0)"
   ]
  },
  {
   "cell_type": "markdown",
   "id": "212228e3",
   "metadata": {},
   "source": [
    "Now let's make a decorator to check for this case that will cause the error."
   ]
  },
  {
   "cell_type": "code",
   "execution_count": 37,
   "id": "93988c96",
   "metadata": {},
   "outputs": [],
   "source": [
    "def smart_divide(func):\n",
    "    def inner(a, b):\n",
    "        print(\"I am going to divide\", a, \"and\", b)\n",
    "        if b == 0:\n",
    "            print(\"Error! cannot divide, b cannot be zero.\")\n",
    "            return\n",
    "\n",
    "        return func(a, b)\n",
    "    return inner\n",
    "\n",
    "@smart_divide\n",
    "def divide(a, b):\n",
    "    print(a / b)"
   ]
  },
  {
   "cell_type": "markdown",
   "id": "97503e6d",
   "metadata": {},
   "source": [
    "This new implementation will return **None** if the error condition arises."
   ]
  },
  {
   "cell_type": "code",
   "execution_count": 38,
   "id": "e4977bb1",
   "metadata": {},
   "outputs": [
    {
     "name": "stdout",
     "output_type": "stream",
     "text": [
      "I am going to divide 2 and 5\n",
      "0.4\n"
     ]
    }
   ],
   "source": [
    "divide(2,5)"
   ]
  },
  {
   "cell_type": "code",
   "execution_count": 39,
   "id": "38911ffa",
   "metadata": {
    "scrolled": true
   },
   "outputs": [
    {
     "name": "stdout",
     "output_type": "stream",
     "text": [
      "I am going to divide 2 and 0\n",
      "Error! cannot divide, b cannot be zero.\n"
     ]
    }
   ],
   "source": [
    "divide(2,0)"
   ]
  },
  {
   "cell_type": "markdown",
   "id": "41d92a28",
   "metadata": {},
   "source": [
    "In this manner, we can decorate functions that take parameters.\n",
    "\n",
    "A keen observer will notice that parameters of the nested inner() function inside the decorator is the same as the parameters of functions it decorates. Taking this into account, now we can make general decorators that work with any number of parameters.\n",
    "\n",
    "In Python, this magic is done as **function(\\*args, \\*\\*kwargs)**. In this way, **args** will be the tuple of positional arguments and **kwargs** will be the dictionary of keyword arguments.\n",
    "\n"
   ]
  },
  {
   "cell_type": "markdown",
   "id": "a43434c4",
   "metadata": {},
   "source": [
    "Python program to illustrate *args for a variable number of arguments."
   ]
  },
  {
   "cell_type": "code",
   "execution_count": 40,
   "id": "4315a7b5",
   "metadata": {},
   "outputs": [
    {
     "name": "stdout",
     "output_type": "stream",
     "text": [
      "Hello\n",
      "Welcome\n",
      "to\n",
      "GeeksforGeeks\n"
     ]
    }
   ],
   "source": [
    "def myFun(*argv):\n",
    "\tfor arg in argv:\n",
    "\t\tprint(arg)\n",
    "\n",
    "\n",
    "myFun('Hello', 'Welcome', 'to', 'GeeksforGeeks')\n"
   ]
  },
  {
   "cell_type": "markdown",
   "id": "0919ae16",
   "metadata": {},
   "source": [
    "Python program to illustrate  **kwargs for a variable number of keyword arguments with one extra argument. All the same, but one change is we passing non-keyword argument which acceptable by positional argument(arg1 in myFun)."
   ]
  },
  {
   "cell_type": "code",
   "execution_count": 41,
   "id": "9bf47f1a",
   "metadata": {},
   "outputs": [
    {
     "name": "stdout",
     "output_type": "stream",
     "text": [
      "first == Geeks\n",
      "mid == for\n",
      "last == Geeks\n"
     ]
    }
   ],
   "source": [
    "def myFun(arg1, **kwargs):\n",
    "\tfor key, value in kwargs.items():\n",
    "\t\tprint(\"%s == %s\" % (key, value))\n",
    "\n",
    "\n",
    "# Driver code\n",
    "myFun(\"Hi\", first='Geeks', mid='for', last='Geeks')\n"
   ]
  },
  {
   "cell_type": "markdown",
   "id": "ee5e21cc",
   "metadata": {},
   "source": [
    "**Example:**"
   ]
  },
  {
   "cell_type": "code",
   "execution_count": 42,
   "id": "2a0c55b8",
   "metadata": {},
   "outputs": [],
   "source": [
    "def works_for_all(func):\n",
    "    def inner(*args, **kwargs):\n",
    "        print(\"I can decorate any function\")\n",
    "        return func(*args, **kwargs)\n",
    "    return inner"
   ]
  },
  {
   "cell_type": "markdown",
   "id": "485fd330",
   "metadata": {},
   "source": [
    "## Chaining Decorators in Python\n",
    "\n",
    "Multiple decorators can be chained in Python.\n",
    "\n",
    "This is to say, a function can be decorated multiple times with different (or same) decorators. We simply place the decorators above the desired function."
   ]
  },
  {
   "cell_type": "code",
   "execution_count": 43,
   "id": "7956e15c",
   "metadata": {
    "scrolled": true
   },
   "outputs": [
    {
     "name": "stdout",
     "output_type": "stream",
     "text": [
      "******************************\n",
      "%%%%%%%%%%%%%%%%%%%%%%%%%%%%%%\n",
      "Hello\n",
      "%%%%%%%%%%%%%%%%%%%%%%%%%%%%%%\n",
      "******************************\n"
     ]
    }
   ],
   "source": [
    "def star(func):\n",
    "    def inner(*args, **kwargs):\n",
    "        print(\"*\" * 30)\n",
    "        func(*args, **kwargs)\n",
    "        print(\"*\" * 30)\n",
    "    return inner\n",
    "\n",
    "\n",
    "def percent(func):\n",
    "    def inner(*args, **kwargs):\n",
    "        print(\"%\" * 30)\n",
    "        func(*args, **kwargs)\n",
    "        print(\"%\" * 30)\n",
    "    return inner\n",
    "\n",
    "@star\n",
    "@percent\n",
    "def printer(msg):\n",
    "    print(msg)\n",
    "\n",
    "printer(\"Hello\")"
   ]
  },
  {
   "cell_type": "markdown",
   "id": "5f83d31e",
   "metadata": {},
   "source": [
    "The above syntax of,"
   ]
  },
  {
   "cell_type": "code",
   "execution_count": 44,
   "id": "8cb34ad3",
   "metadata": {},
   "outputs": [],
   "source": [
    "@star\n",
    "@percent\n",
    "def printer(msg):\n",
    "    print(msg)"
   ]
  },
  {
   "cell_type": "markdown",
   "id": "8f4a33ca",
   "metadata": {},
   "source": [
    "is equivalent to"
   ]
  },
  {
   "cell_type": "code",
   "execution_count": 45,
   "id": "f32c929b",
   "metadata": {},
   "outputs": [],
   "source": [
    "def printer(msg):\n",
    "    print(msg)\n",
    "printer = star(percent(printer))"
   ]
  },
  {
   "cell_type": "markdown",
   "id": "420c22b2",
   "metadata": {},
   "source": [
    "The order in which we chain decorators matter. If we had reversed the order as;"
   ]
  },
  {
   "cell_type": "code",
   "execution_count": 46,
   "id": "c657da62",
   "metadata": {},
   "outputs": [],
   "source": [
    "@percent\n",
    "@star\n",
    "def printer(msg):\n",
    "    print(msg)"
   ]
  },
  {
   "cell_type": "code",
   "execution_count": 47,
   "id": "a8ac8557",
   "metadata": {},
   "outputs": [
    {
     "name": "stdout",
     "output_type": "stream",
     "text": [
      "%%%%%%%%%%%%%%%%%%%%%%%%%%%%%%\n",
      "******************************\n"
     ]
    },
    {
     "ename": "TypeError",
     "evalue": "printer() missing 1 required positional argument: 'msg'",
     "output_type": "error",
     "traceback": [
      "\u001b[1;31m---------------------------------------------------------------------------\u001b[0m",
      "\u001b[1;31mTypeError\u001b[0m                                 Traceback (most recent call last)",
      "Cell \u001b[1;32mIn[47], line 1\u001b[0m\n\u001b[1;32m----> 1\u001b[0m \u001b[43mprinter\u001b[49m\u001b[43m(\u001b[49m\u001b[43m)\u001b[49m\n",
      "Cell \u001b[1;32mIn[43], line 12\u001b[0m, in \u001b[0;36mpercent.<locals>.inner\u001b[1;34m(*args, **kwargs)\u001b[0m\n\u001b[0;32m     10\u001b[0m \u001b[38;5;28;01mdef\u001b[39;00m \u001b[38;5;21minner\u001b[39m(\u001b[38;5;241m*\u001b[39margs, \u001b[38;5;241m*\u001b[39m\u001b[38;5;241m*\u001b[39mkwargs):\n\u001b[0;32m     11\u001b[0m     \u001b[38;5;28mprint\u001b[39m(\u001b[38;5;124m\"\u001b[39m\u001b[38;5;124m%\u001b[39m\u001b[38;5;124m\"\u001b[39m \u001b[38;5;241m*\u001b[39m \u001b[38;5;241m30\u001b[39m)\n\u001b[1;32m---> 12\u001b[0m     func(\u001b[38;5;241m*\u001b[39margs, \u001b[38;5;241m*\u001b[39m\u001b[38;5;241m*\u001b[39mkwargs)\n\u001b[0;32m     13\u001b[0m     \u001b[38;5;28mprint\u001b[39m(\u001b[38;5;124m\"\u001b[39m\u001b[38;5;124m%\u001b[39m\u001b[38;5;124m\"\u001b[39m \u001b[38;5;241m*\u001b[39m \u001b[38;5;241m30\u001b[39m)\n",
      "Cell \u001b[1;32mIn[43], line 4\u001b[0m, in \u001b[0;36mstar.<locals>.inner\u001b[1;34m(*args, **kwargs)\u001b[0m\n\u001b[0;32m      2\u001b[0m \u001b[38;5;28;01mdef\u001b[39;00m \u001b[38;5;21minner\u001b[39m(\u001b[38;5;241m*\u001b[39margs, \u001b[38;5;241m*\u001b[39m\u001b[38;5;241m*\u001b[39mkwargs):\n\u001b[0;32m      3\u001b[0m     \u001b[38;5;28mprint\u001b[39m(\u001b[38;5;124m\"\u001b[39m\u001b[38;5;124m*\u001b[39m\u001b[38;5;124m\"\u001b[39m \u001b[38;5;241m*\u001b[39m \u001b[38;5;241m30\u001b[39m)\n\u001b[1;32m----> 4\u001b[0m     func(\u001b[38;5;241m*\u001b[39margs, \u001b[38;5;241m*\u001b[39m\u001b[38;5;241m*\u001b[39mkwargs)\n\u001b[0;32m      5\u001b[0m     \u001b[38;5;28mprint\u001b[39m(\u001b[38;5;124m\"\u001b[39m\u001b[38;5;124m*\u001b[39m\u001b[38;5;124m\"\u001b[39m \u001b[38;5;241m*\u001b[39m \u001b[38;5;241m30\u001b[39m)\n",
      "\u001b[1;31mTypeError\u001b[0m: printer() missing 1 required positional argument: 'msg'"
     ]
    }
   ],
   "source": [
    "printer()"
   ]
  },
  {
   "cell_type": "markdown",
   "id": "ea7be2f8",
   "metadata": {},
   "source": [
    "## Python @property decorator\n",
    "\n",
    "Python @property decorator; a pythonic way to use getters and setters in object-oriented programming.\n",
    "\n",
    "Python programming provides us with a built-in **@property** decorator which makes usage of getter and setters much easier in Object-Oriented Programming.\n",
    "\n",
    "Before going into details on what **@property** decorator is, let us first build an intuition on why it would be needed in the first place."
   ]
  },
  {
   "cell_type": "markdown",
   "id": "c9c93eda",
   "metadata": {},
   "source": [
    "## Class Without Getters and Setters\n",
    "\n",
    "Let us assume that we decide to make a class that stores the temperature in degrees Celsius. It would also implement a method to convert the temperature into degrees Fahrenheit. One way of doing this is as follows:"
   ]
  },
  {
   "cell_type": "code",
   "execution_count": 48,
   "id": "34942e6c",
   "metadata": {},
   "outputs": [],
   "source": [
    "class Celsius:\n",
    "    def __init__(self, temperature = 0):\n",
    "        self.temperature = temperature\n",
    "\n",
    "    def to_fahrenheit(self):\n",
    "        return (self.temperature * 1.8) + 32"
   ]
  },
  {
   "cell_type": "markdown",
   "id": "740abb3a",
   "metadata": {},
   "source": [
    "We can make objects out of this class and manipulate the temperature attribute as we wish:"
   ]
  },
  {
   "cell_type": "code",
   "execution_count": 49,
   "id": "bc123624",
   "metadata": {},
   "outputs": [
    {
     "name": "stdout",
     "output_type": "stream",
     "text": [
      "37\n",
      "98.60000000000001\n"
     ]
    }
   ],
   "source": [
    "# Create a new object\n",
    "human = Celsius()\n",
    "\n",
    "# Set the temperature\n",
    "human.temperature = 37\n",
    "\n",
    "# Get the temperature attribute\n",
    "print(human.temperature)\n",
    "\n",
    "# Get the to_fahrenheit method\n",
    "print(human.to_fahrenheit())"
   ]
  },
  {
   "cell_type": "markdown",
   "id": "a27d797a",
   "metadata": {},
   "source": [
    "The extra decimal places when converting into Fahrenheit is due to the floating point arithmetic error.\n",
    "\n",
    "Whenever we assign or retrieve any object attribute like **temperature** as shown above, Python searches it in the object's built-in **\\_\\_dict\\_\\_** dictionary attribute."
   ]
  },
  {
   "cell_type": "code",
   "execution_count": 50,
   "id": "8f4ca9b8",
   "metadata": {},
   "outputs": [
    {
     "data": {
      "text/plain": [
       "{'temperature': 37}"
      ]
     },
     "execution_count": 50,
     "metadata": {},
     "output_type": "execute_result"
    }
   ],
   "source": [
    "human.__dict__"
   ]
  },
  {
   "cell_type": "markdown",
   "id": "c94e5663",
   "metadata": {},
   "source": [
    "Therefore, **human.temperature** internally becomes **human.\\_\\_dict\\_\\_\\['temperature'\\]**."
   ]
  },
  {
   "cell_type": "markdown",
   "id": "ad29e738",
   "metadata": {},
   "source": [
    "## Using Getters and Setters\n",
    "\n",
    "Suppose we want to extend the usability of the **Celsius** class defined above. We know that the temperature of any object cannot reach below **-273.15** degrees Celsius (Absolute Zero in Thermodynamics)\n",
    "\n",
    "Let's update our code to implement this value constraint.\n",
    "\n",
    "An obvious solution to the above restriction will be to hide the attribute **temperature** (make it private) and define new getter and setter methods to manipulate it. This can be done as follows:"
   ]
  },
  {
   "cell_type": "code",
   "execution_count": 61,
   "id": "ef8081af",
   "metadata": {},
   "outputs": [],
   "source": [
    "# Making Getters and Setter methods\n",
    "class Celsius:\n",
    "    def __init__(self, temperature=0):\n",
    "        self.set_temperature(temperature)\n",
    "\n",
    "    def to_fahrenheit(self):\n",
    "        return (self.get_temperature() * 1.8) + 32\n",
    "\n",
    "    # getter method\n",
    "    def get_temperature(self):\n",
    "        return self.__temperature\n",
    "\n",
    "    # setter method\n",
    "    def set_temperature(self, value):\n",
    "        if value < -273.15:\n",
    "            raise ValueError(\"Temperature below -273.15 is not possible.\")\n",
    "        self.__temperature = value"
   ]
  },
  {
   "cell_type": "markdown",
   "id": "e7d2e038",
   "metadata": {},
   "source": [
    "As we can see, the above method introduces two new **get_temperature()** and **set_temperature()** methods.\n",
    "\n",
    "Furthermore, **temperature** was replaced with **\\_temperature**. An underscore **\\_** at the beginning is used to denote private variables in Python.\n",
    "\n",
    "Now, let's use this implementation:"
   ]
  },
  {
   "cell_type": "code",
   "execution_count": 62,
   "id": "a385c642",
   "metadata": {
    "scrolled": false
   },
   "outputs": [
    {
     "name": "stdout",
     "output_type": "stream",
     "text": [
      "37\n",
      "98.60000000000001\n"
     ]
    }
   ],
   "source": [
    "# Create a new object, set_temperature() internally called by __init__\n",
    "human = Celsius(37)\n",
    "\n",
    "# Get the temperature attribute via a getter\n",
    "print(human.get_temperature())\n",
    "\n",
    "# Get the to_fahrenheit method, get_temperature() called by the method itself\n",
    "print(human.to_fahrenheit())"
   ]
  },
  {
   "cell_type": "code",
   "execution_count": 63,
   "id": "21baca0c",
   "metadata": {},
   "outputs": [
    {
     "ename": "ValueError",
     "evalue": "Temperature below -273.15 is not possible.",
     "output_type": "error",
     "traceback": [
      "\u001b[1;31m---------------------------------------------------------------------------\u001b[0m",
      "\u001b[1;31mValueError\u001b[0m                                Traceback (most recent call last)",
      "Cell \u001b[1;32mIn[63], line 2\u001b[0m\n\u001b[0;32m      1\u001b[0m \u001b[38;5;66;03m# new constraint implementation\u001b[39;00m\n\u001b[1;32m----> 2\u001b[0m \u001b[43mhuman\u001b[49m\u001b[38;5;241;43m.\u001b[39;49m\u001b[43mset_temperature\u001b[49m\u001b[43m(\u001b[49m\u001b[38;5;241;43m-\u001b[39;49m\u001b[38;5;241;43m300\u001b[39;49m\u001b[43m)\u001b[49m\n\u001b[0;32m      4\u001b[0m \u001b[38;5;66;03m# Get the to_fahreheit method\u001b[39;00m\n\u001b[0;32m      5\u001b[0m \u001b[38;5;28mprint\u001b[39m(human\u001b[38;5;241m.\u001b[39mto_fahrenheit())\n",
      "Cell \u001b[1;32mIn[61], line 16\u001b[0m, in \u001b[0;36mCelsius.set_temperature\u001b[1;34m(self, value)\u001b[0m\n\u001b[0;32m     14\u001b[0m \u001b[38;5;28;01mdef\u001b[39;00m \u001b[38;5;21mset_temperature\u001b[39m(\u001b[38;5;28mself\u001b[39m, value):\n\u001b[0;32m     15\u001b[0m     \u001b[38;5;28;01mif\u001b[39;00m value \u001b[38;5;241m<\u001b[39m \u001b[38;5;241m-\u001b[39m\u001b[38;5;241m273.15\u001b[39m:\n\u001b[1;32m---> 16\u001b[0m         \u001b[38;5;28;01mraise\u001b[39;00m \u001b[38;5;167;01mValueError\u001b[39;00m(\u001b[38;5;124m\"\u001b[39m\u001b[38;5;124mTemperature below -273.15 is not possible.\u001b[39m\u001b[38;5;124m\"\u001b[39m)\n\u001b[0;32m     17\u001b[0m     \u001b[38;5;28mself\u001b[39m\u001b[38;5;241m.\u001b[39m__temperature \u001b[38;5;241m=\u001b[39m value\n",
      "\u001b[1;31mValueError\u001b[0m: Temperature below -273.15 is not possible."
     ]
    }
   ],
   "source": [
    "# new constraint implementation\n",
    "human.set_temperature(-300)\n",
    "\n",
    "# Get the to_fahreheit method\n",
    "print(human.to_fahrenheit())"
   ]
  },
  {
   "cell_type": "markdown",
   "id": "fb54dd13",
   "metadata": {},
   "source": [
    "This update successfully implemented the new restriction. We are no longer allowed to set the temperature below **-273.15** degrees Celsius.\n",
    "\n",
    "> **Note:** The private variables don't actually exist in Python. There are simply norms to be followed. The language itself doesn't apply any restrictions."
   ]
  },
  {
   "cell_type": "code",
   "execution_count": 64,
   "id": "0c382f68",
   "metadata": {},
   "outputs": [],
   "source": [
    "human.__temperature = -300"
   ]
  },
  {
   "cell_type": "code",
   "execution_count": 65,
   "id": "5141470b",
   "metadata": {},
   "outputs": [
    {
     "data": {
      "text/plain": [
       "37"
      ]
     },
     "execution_count": 65,
     "metadata": {},
     "output_type": "execute_result"
    }
   ],
   "source": [
    "human.get_temperature()"
   ]
  },
  {
   "cell_type": "markdown",
   "id": "00238141",
   "metadata": {},
   "source": [
    "However, the bigger problem with the above update is that all the programs that implemented our previous class have to modify their code from **obj.temperature** to **obj.get_temperature()** and all expressions like **obj.temperature = val** to **obj.set_temperature(val)**.\n",
    "\n",
    "This refactoring can cause problems while dealing with hundreds of thousands of lines of codes.\n",
    "\n",
    "All in all, our new update was not backwards compatible. This is where **@property** comes to rescue."
   ]
  },
  {
   "cell_type": "markdown",
   "id": "eb24a7ae",
   "metadata": {},
   "source": [
    "## The property Class\n",
    "\n",
    "A pythonic way to deal with the above problem is to use the property class. Here is how we can update our code:"
   ]
  },
  {
   "cell_type": "code",
   "execution_count": 66,
   "id": "cb2288e6",
   "metadata": {},
   "outputs": [],
   "source": [
    "# using property class\n",
    "class Celsius:\n",
    "    def __init__(self, temperature=0):\n",
    "        self.temperature = temperature\n",
    "\n",
    "    def to_fahrenheit(self):\n",
    "        return (self.temperature * 1.8) + 32\n",
    "\n",
    "    # getter\n",
    "    def get_temperature(self):\n",
    "        print(\"Getting value...\")\n",
    "        return self._temperature\n",
    "\n",
    "    # setter\n",
    "    def set_temperature(self, value):\n",
    "        print(\"Setting value...\")\n",
    "        if value < -273.15:\n",
    "            raise ValueError(\"Temperature below -273.15 is not possible\")\n",
    "        self._temperature = value\n",
    "\n",
    "    # creating a property object\n",
    "    temperature = property(get_temperature, set_temperature)"
   ]
  },
  {
   "cell_type": "markdown",
   "id": "57f3e22a",
   "metadata": {},
   "source": [
    "We added a **print()** function inside **get_temperature()** and **set_temperature()** to clearly observe that they are being executed.\n",
    "\n",
    "The last line of the code makes a property object **temperature**. Simply put, property attaches some code (**get_temperature** and **set_temperature**) to the member attribute accesses (**temperature**).\n",
    "\n",
    "Let's use this update code:"
   ]
  },
  {
   "cell_type": "code",
   "execution_count": 67,
   "id": "4f76a51f",
   "metadata": {},
   "outputs": [],
   "source": [
    "# using property class\n",
    "class Celsius:\n",
    "    def __init__(self, temperature=0):\n",
    "        self.temperature = temperature\n",
    "\n",
    "    def to_fahrenheit(self):\n",
    "        return (self.temperature * 1.8) + 32\n",
    "\n",
    "    # getter\n",
    "    def get_temperature(self):\n",
    "        print(\"Getting value...\")\n",
    "        return self._temperature\n",
    "\n",
    "    # setter\n",
    "    def set_temperature(self, value):\n",
    "        print(\"Setting value...\")\n",
    "        if value < -273.15:\n",
    "            raise ValueError(\"Temperature below -273.15 is not possible\")\n",
    "        self._temperature = value\n",
    "\n",
    "    # creating a property object\n",
    "    temperature = property(get_temperature, set_temperature)"
   ]
  },
  {
   "cell_type": "code",
   "execution_count": 68,
   "id": "7189e9d0",
   "metadata": {
    "scrolled": false
   },
   "outputs": [
    {
     "name": "stdout",
     "output_type": "stream",
     "text": [
      "Setting value...\n",
      "Getting value...\n",
      "37\n"
     ]
    }
   ],
   "source": [
    "human = Celsius(37)\n",
    "\n",
    "print(human.temperature)\n"
   ]
  },
  {
   "cell_type": "markdown",
   "id": "f383aac3",
   "metadata": {},
   "source": [
    "As we can see, any code that retrieves the value of **temperature** will automatically call **get_temperature()** instead of a dictionary (**\\_\\_dict\\_\\_**) look-up. Similarly, any code that assigns a value to temperature will automatically call **set_temperature()**.\n",
    "\n",
    "We can even see above that **set_temperature()** was called even when we created an object."
   ]
  },
  {
   "cell_type": "code",
   "execution_count": 69,
   "id": "e8dfbf69",
   "metadata": {},
   "outputs": [
    {
     "name": "stdout",
     "output_type": "stream",
     "text": [
      "Setting value...\n"
     ]
    }
   ],
   "source": [
    "human = Celsius(37)"
   ]
  },
  {
   "cell_type": "markdown",
   "id": "276aeeae",
   "metadata": {},
   "source": [
    "### Can you guess why?\n",
    "\n",
    "The reason is that when an object is created, the **\\_\\_init\\_\\_()** method gets called. \n",
    "\n",
    "This method has the line **self.temperature = temperature**. This expression automatically calls **set_temperature()**.\n",
    "\n",
    "Similarly, any access like c.temperature automatically calls **get_temperature()**. This is what property does. Here are a few more examples."
   ]
  },
  {
   "cell_type": "code",
   "execution_count": null,
   "id": "ae98e175",
   "metadata": {
    "scrolled": true
   },
   "outputs": [],
   "source": [
    "human.temperature"
   ]
  },
  {
   "cell_type": "code",
   "execution_count": null,
   "id": "fd8d7164",
   "metadata": {},
   "outputs": [],
   "source": [
    "human.temperature = 37"
   ]
  },
  {
   "cell_type": "code",
   "execution_count": null,
   "id": "11cf4b14",
   "metadata": {},
   "outputs": [],
   "source": [
    "human.to_fahrenheit()"
   ]
  },
  {
   "cell_type": "markdown",
   "id": "ac3d9ab4",
   "metadata": {},
   "source": [
    "By using **property**, we can see that no modification is required in the implementation of the value constraint. Thus, our implementation is backward compatible.\n",
    "\n",
    "> **Note:** The actual **temperature** value is stored in the private **\\_temperature** variable. The temperature attribute is a property object which provides an interface to this private variable."
   ]
  },
  {
   "cell_type": "markdown",
   "id": "305d9fb4",
   "metadata": {},
   "source": [
    "## The @property Decorator\n",
    "\n",
    "In Python, **property()** is a built-in function that creates and returns a **property** object. The syntax of this function is:"
   ]
  },
  {
   "cell_type": "code",
   "execution_count": 70,
   "id": "c578b751",
   "metadata": {},
   "outputs": [
    {
     "data": {
      "text/plain": [
       "<property at 0x185a9389620>"
      ]
     },
     "execution_count": 70,
     "metadata": {},
     "output_type": "execute_result"
    }
   ],
   "source": [
    "property(fget=None, fset=None, fdel=None, doc=None)"
   ]
  },
  {
   "cell_type": "markdown",
   "id": "f1e57b06",
   "metadata": {},
   "source": [
    "where,\n",
    "\n",
    "- **fget** is function to get value of the attribute\n",
    "- **fset** is function to set value of the attribute\n",
    "- **fdel** is function to delete the attribute\n",
    "- **doc** is a string (like a comment)\n",
    "\n",
    "As seen from the implementation, these function arguments are optional. So, a property object can simply be created as follows."
   ]
  },
  {
   "cell_type": "code",
   "execution_count": 71,
   "id": "55856d2f",
   "metadata": {},
   "outputs": [
    {
     "data": {
      "text/plain": [
       "<property at 0x185a9381940>"
      ]
     },
     "execution_count": 71,
     "metadata": {},
     "output_type": "execute_result"
    }
   ],
   "source": [
    "property()"
   ]
  },
  {
   "cell_type": "markdown",
   "id": "e96ceefc",
   "metadata": {},
   "source": [
    "A property object has three methods, **getter()**, **setter()**, and **deleter()** to specify **fget**, **fset** and **fdel** at a later point. This means, the line:\n",
    "\n",
    "**Using property() Method**\n",
    "\n",
    "In this example, we are using the property() function to create a class property in Python. We define a class called Alphabet, and within this class, we create a property named value to encapsulate access to an internal attribute _value. This property allows us to control how the _value attribute is accessed and modified by providing custom getter and setter methods."
   ]
  },
  {
   "cell_type": "code",
   "execution_count": 75,
   "id": "8746e195",
   "metadata": {},
   "outputs": [],
   "source": [
    "# Python program to explain property() function\n",
    "# Alphabet class\n",
    "\n",
    "class Alphabet:\n",
    "\tdef __init__(self, value):\n",
    "\t\tself._value = value\n",
    "\n",
    "\t# getting the values\n",
    "\tdef getValue(self):\n",
    "\t\tprint('Getting value')\n",
    "\t\treturn self._value\n",
    "\n",
    "\t# setting the values\n",
    "\tdef setValue(self, value):\n",
    "\t\tprint('Setting value to ' + value)\n",
    "\t\tself._value = value\n",
    "\n",
    "\t# deleting the values\n",
    "\tdef delValue(self):\n",
    "\t\tprint('Deleting value')\n",
    "\t\tdel self._value\n",
    "\n",
    "\tvalue = property(getValue, setValue, \n",
    "\t\t\t\t\tdelValue, )"
   ]
  },
  {
   "cell_type": "code",
   "execution_count": 78,
   "id": "4768ba44",
   "metadata": {},
   "outputs": [],
   "source": [
    "# passing the value\n",
    "x = Alphabet('GeeksforGeeks')"
   ]
  },
  {
   "cell_type": "code",
   "execution_count": null,
   "id": "058751c9",
   "metadata": {},
   "outputs": [],
   "source": [
    "print(x.value)"
   ]
  },
  {
   "cell_type": "code",
   "execution_count": 80,
   "id": "4dcc7fdd",
   "metadata": {},
   "outputs": [
    {
     "name": "stdout",
     "output_type": "stream",
     "text": [
      "Setting value to GfG\n",
      "Deleting value\n"
     ]
    }
   ],
   "source": [
    "x.value = 'GfG'\n",
    "\n",
    "del x.value"
   ]
  },
  {
   "cell_type": "markdown",
   "id": "0a08ceaf",
   "metadata": {},
   "source": [
    "**Using @property Decorator**\n",
    "\n",
    "The main work of decorators is they are used to add functionality to the existing code. Also called metaprogramming, as a part of the program tries to modify another part of the program at compile time. First, specify that value() method is also an attribute of Alphabet then, we use the attribute value to specify the Python property setter and the deleter. Notice that the same method value() is used with different definitions for defining the getter, setter, and deleter. Whenever we use x.value, it internally calls the appropriate getter, setter, and deleter."
   ]
  },
  {
   "cell_type": "code",
   "execution_count": null,
   "id": "1c7ed523",
   "metadata": {},
   "outputs": [],
   "source": [
    "# Python program to explain property()\n",
    "# function using decorator\n",
    "\n",
    "class Alphabet:\n",
    "\tdef __init__(self, value):\n",
    "\t\tself._value = value\n",
    "\n",
    "\t# getting the values\n",
    "\t@property\n",
    "\tdef value(self):\n",
    "\t\tprint('Getting value')\n",
    "\t\treturn self._value\n",
    "\n",
    "\t# setting the values\n",
    "\t@value.setter\n",
    "\tdef value(self, value):\n",
    "\t\tprint('Setting value to ' + value)\n",
    "\t\tself._value = value\n",
    "\n",
    "\t# deleting the values\n",
    "\t@value.deleter\n",
    "\tdef value(self):\n",
    "\t\tprint('Deleting value')\n",
    "\t\tdel self._value\n",
    "\n",
    "\n",
    "# passing the value\n",
    "x = Alphabet('Peter')\n",
    "print(x.value)\n",
    "\n",
    "x.value = 'Diesel'\n",
    "\n",
    "del x.value\n"
   ]
  }
 ],
 "metadata": {
  "colab": {
   "collapsed_sections": [],
   "provenance": []
  },
  "kernelspec": {
   "display_name": "Python 3 (ipykernel)",
   "language": "python",
   "name": "python3"
  },
  "language_info": {
   "codemirror_mode": {
    "name": "ipython",
    "version": 3
   },
   "file_extension": ".py",
   "mimetype": "text/x-python",
   "name": "python",
   "nbconvert_exporter": "python",
   "pygments_lexer": "ipython3",
   "version": "3.9.6"
  }
 },
 "nbformat": 4,
 "nbformat_minor": 5
}
