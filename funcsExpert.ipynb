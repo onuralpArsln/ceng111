{
 "cells": [
  {
   "cell_type": "code",
   "execution_count": null,
   "metadata": {},
   "outputs": [],
   "source": [
    "def myFunc(*args, **kwargs): \n",
    "    for arg in args:\n",
    "        print(\"it is an arg\")\n",
    "        print(arg)\n",
    "\n",
    "    for key,value in kwargs.items():\n",
    "        print(\"kwargs\")\n",
    "        print(\"you given key\")\n",
    "        print(key)\n",
    "        print(\"you given value \")\n",
    "        print(value)\n",
    "    "
   ]
  },
  {
   "cell_type": "code",
   "execution_count": null,
   "metadata": {},
   "outputs": [],
   "source": [
    "myFunc(\"hello\",\" arg\", name=\"mamhmut\",passw=\"123\")"
   ]
  }
 ],
 "metadata": {
  "language_info": {
   "name": "python"
  }
 },
 "nbformat": 4,
 "nbformat_minor": 2
}
