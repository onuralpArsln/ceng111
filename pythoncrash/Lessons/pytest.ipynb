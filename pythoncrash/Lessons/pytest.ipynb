{
 "cells": [
  {
   "cell_type": "code",
   "execution_count": null,
   "metadata": {},
   "outputs": [],
   "source": [
    "# test_capitalize.py\n",
    "\n",
    "def capital_case(x):\n",
    "    return x.capitalize()\n",
    "\n",
    "def test_capital_case():\n",
    "    assert capital_case('semaphore') == 'Semaphore'"
   ]
  },
  {
   "cell_type": "code",
   "execution_count": null,
   "metadata": {},
   "outputs": [],
   "source": [
    "test_capital_case()"
   ]
  },
  {
   "cell_type": "code",
   "execution_count": null,
   "metadata": {},
   "outputs": [],
   "source": [
    "# test_capitalize.py\n",
    "\n",
    "def capital_case_fails(x):\n",
    "    return x.lower()\n",
    "\n",
    "def test_capital_case_fails():\n",
    "    assert capital_case('semaphore') == 'Semaphore'"
   ]
  },
  {
   "cell_type": "code",
   "execution_count": null,
   "metadata": {},
   "outputs": [],
   "source": [
    "def add(a, b):\n",
    "    return a + b\n",
    "\n",
    "def test_add():\n",
    "    assert add(1, 2) == 3\n",
    "    assert add(0, 0) == 0\n",
    "    assert add(-1, 1) == 0"
   ]
  },
  {
   "cell_type": "code",
   "execution_count": null,
   "metadata": {},
   "outputs": [],
   "source": [
    "test_add()"
   ]
  },
  {
   "cell_type": "code",
   "execution_count": null,
   "metadata": {},
   "outputs": [],
   "source": [
    "import pytest\n",
    "\n",
    "def add(a, b):\n",
    "    return a + b\n",
    "\n",
    "@pytest.mark.parametrize(\"a, b, expected\", [\n",
    "    (1, 2, 3),\n",
    "    (0, 0, 0),\n",
    "    (-1, 1, 0),\n",
    "    (2, -2, 0)\n",
    "])\n",
    "def test_add(a, b, expected):\n",
    "    assert add(a, b) == expected"
   ]
  },
  {
   "cell_type": "code",
   "execution_count": null,
   "metadata": {},
   "outputs": [],
   "source": [
    "def reverse_string(s):\n",
    "    return s[::-1]\n",
    "\n",
    "def is_palindrome(s):\n",
    "    return s == s[::-1]"
   ]
  },
  {
   "cell_type": "code",
   "execution_count": null,
   "metadata": {},
   "outputs": [],
   "source": [
    "def factorial(n):\n",
    "    if n < 0:\n",
    "        raise ValueError(\"Factorial is not defined for negative numbers\")\n",
    "    if n == 0 or n == 1:\n",
    "        return 1\n",
    "    result = 1\n",
    "    for i in range(2, n + 1):\n",
    "        result *= i\n",
    "    return result\n"
   ]
  },
  {
   "cell_type": "code",
   "execution_count": null,
   "metadata": {},
   "outputs": [],
   "source": [
    "def add(a, b):\n",
    "    return a + b\n",
    "\n",
    "def subtract(a, b):\n",
    "    return a - b\n",
    "\n",
    "def multiply(a, b):\n",
    "    return a * b\n",
    "\n",
    "def divide(a, b):\n",
    "    if b == 0:\n",
    "        raise ValueError(\"Cannot divide by zero\")\n",
    "    return a / b"
   ]
  },
  {
   "cell_type": "markdown",
   "metadata": {},
   "source": []
  },
  {
   "cell_type": "markdown",
   "metadata": {},
   "source": []
  },
  {
   "cell_type": "code",
   "execution_count": null,
   "metadata": {},
   "outputs": [],
   "source": [
    "import pytest\n",
    "\n",
    "\n",
    "def test_add():\n",
    "    assert add(1, 2) == 3\n",
    "    assert add(-1, 1) == 0\n",
    "    assert add(0, 0) == 0\n",
    "\n",
    "def test_subtract():\n",
    "    assert subtract(2, 1) == 1\n",
    "    assert subtract(1, 1) == 0\n",
    "    assert subtract(-1, -1) == 0\n",
    "\n",
    "def test_multiply():\n",
    "    assert multiply(2, 3) == 6\n",
    "    assert multiply(0, 1) == 0\n",
    "    assert multiply(-1, 1) == -1\n",
    "\n",
    "def test_divide():\n",
    "    assert divide(6, 3) == 2\n",
    "    assert divide(1, 1) == 1\n",
    "    with pytest.raises(ValueError):\n",
    "        divide(1, 0)"
   ]
  }
 ],
 "metadata": {
  "language_info": {
   "name": "python"
  }
 },
 "nbformat": 4,
 "nbformat_minor": 2
}
