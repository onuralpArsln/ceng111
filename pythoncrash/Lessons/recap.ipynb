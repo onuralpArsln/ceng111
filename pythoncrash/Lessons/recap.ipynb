{
 "cells": [
  {
   "cell_type": "markdown",
   "metadata": {},
   "source": [
    "## Crash Course Recap"
   ]
  },
  {
   "cell_type": "code",
   "execution_count": null,
   "metadata": {},
   "outputs": [],
   "source": [
    "ListOfWords=[\"Hello\",\"Darkness\",\"My\",\"Old\",\"Friend\"]"
   ]
  },
  {
   "cell_type": "code",
   "execution_count": null,
   "metadata": {},
   "outputs": [],
   "source": [
    "print(ListOfWords[0])"
   ]
  },
  {
   "cell_type": "code",
   "execution_count": null,
   "metadata": {},
   "outputs": [],
   "source": [
    "print([ListOfWords[0][-1]])"
   ]
  },
  {
   "cell_type": "code",
   "execution_count": null,
   "metadata": {},
   "outputs": [],
   "source": [
    "print(ListOfWords[-1])"
   ]
  },
  {
   "cell_type": "code",
   "execution_count": null,
   "metadata": {},
   "outputs": [],
   "source": [
    "for i in ListOfWords:\n",
    "    print(i*3)"
   ]
  },
  {
   "cell_type": "code",
   "execution_count": null,
   "metadata": {},
   "outputs": [],
   "source": [
    "c = 0\n",
    "for i in ListOfWords:\n",
    "    c +=1\n",
    "    print(c)"
   ]
  },
  {
   "cell_type": "code",
   "execution_count": null,
   "metadata": {},
   "outputs": [],
   "source": [
    "if(\"Hello\" in ListOfWords):\n",
    "    print(\"in\")"
   ]
  },
  {
   "cell_type": "code",
   "execution_count": null,
   "metadata": {},
   "outputs": [],
   "source": [
    "print(\"Hello\" in ListOfWords)"
   ]
  },
  {
   "cell_type": "code",
   "execution_count": null,
   "metadata": {},
   "outputs": [],
   "source": [
    "\"hello\" not in ListOfWords"
   ]
  },
  {
   "cell_type": "code",
   "execution_count": null,
   "metadata": {},
   "outputs": [],
   "source": [
    "for i in ListOfWords:\n",
    "    print(\"searching\")\n",
    "    if(i.lower() == \"hello\"):\n",
    "        print(\"Found\")\n",
    "        break\n"
   ]
  },
  {
   "cell_type": "code",
   "execution_count": null,
   "metadata": {},
   "outputs": [],
   "source": [
    "ListOfWords.append(\"How\")\n",
    "ListOfWords.append(\"Are\")\n",
    "ListOfWords.append(\"you\")\n",
    "print(ListOfWords)"
   ]
  },
  {
   "cell_type": "code",
   "execution_count": null,
   "metadata": {},
   "outputs": [],
   "source": [
    "ListOfWords.pop()\n",
    "print(ListOfWords)"
   ]
  },
  {
   "cell_type": "code",
   "execution_count": null,
   "metadata": {},
   "outputs": [],
   "source": [
    "cubes=[]\n",
    "for i in range(0,5):\n",
    "    print(i)\n",
    "    cubes.append(i**3)\n",
    "\n",
    "print(cubes)"
   ]
  },
  {
   "cell_type": "code",
   "execution_count": null,
   "metadata": {},
   "outputs": [],
   "source": [
    "fastlist=[x for x in range(5)]\n",
    "print(fastlist)"
   ]
  },
  {
   "cell_type": "code",
   "execution_count": null,
   "metadata": {},
   "outputs": [],
   "source": [
    "coolCubes=[x**3 for x in range(5)]\n",
    "print(coolCubes)"
   ]
  },
  {
   "cell_type": "markdown",
   "metadata": {},
   "source": [
    "## Tuples "
   ]
  },
  {
   "cell_type": "code",
   "execution_count": null,
   "metadata": {},
   "outputs": [],
   "source": [
    "TupleOfWords=(\"Hello\",\"Darkness\",\"My\",\"Old\",\"Friend\") "
   ]
  },
  {
   "cell_type": "code",
   "execution_count": null,
   "metadata": {},
   "outputs": [],
   "source": [
    "print(TupleOfWords[0])"
   ]
  },
  {
   "cell_type": "code",
   "execution_count": null,
   "metadata": {},
   "outputs": [],
   "source": [
    "TupleOfWords.append(\"How\")"
   ]
  },
  {
   "cell_type": "code",
   "execution_count": null,
   "metadata": {},
   "outputs": [],
   "source": [
    "TupleOfWords.pop()"
   ]
  },
  {
   "cell_type": "markdown",
   "metadata": {},
   "source": [
    "##  Conditons "
   ]
  },
  {
   "cell_type": "code",
   "execution_count": null,
   "metadata": {},
   "outputs": [],
   "source": [
    "if(True):\n",
    "    print(\"performing action inside\")"
   ]
  },
  {
   "cell_type": "code",
   "execution_count": null,
   "metadata": {},
   "outputs": [],
   "source": [
    "if True:\n",
    "    print(\"performing action inside\")"
   ]
  },
  {
   "cell_type": "code",
   "execution_count": null,
   "metadata": {},
   "outputs": [],
   "source": [
    "if True and False :\n",
    "    print(\"performing action inside\")\n",
    "else:\n",
    "    print(\"performing else\")"
   ]
  },
  {
   "cell_type": "code",
   "execution_count": null,
   "metadata": {},
   "outputs": [],
   "source": [
    "if (True and False) :\n",
    "    print(\"performing action inside\")\n",
    "else:\n",
    "    print(\"performing else\")"
   ]
  },
  {
   "cell_type": "code",
   "execution_count": null,
   "metadata": {},
   "outputs": [],
   "source": [
    "def isEven(a: int) -> bool :\n",
    "    \"\"\"\n",
    "    Tests if the given input integer is even  \n",
    "    \"\"\"\n",
    "    if a%2==0:\n",
    "        return True\n",
    "    else:\n",
    "        return False"
   ]
  },
  {
   "cell_type": "code",
   "execution_count": null,
   "metadata": {},
   "outputs": [],
   "source": [
    "if isEven(2):\n",
    "    print(\"is even\")\n",
    "else:\n",
    "    print(\"is odd\")"
   ]
  },
  {
   "cell_type": "markdown",
   "metadata": {},
   "source": [
    "## Dictonary"
   ]
  },
  {
   "cell_type": "code",
   "execution_count": null,
   "metadata": {},
   "outputs": [],
   "source": [
    "mySozluk = {\"en\" : 3, \"iyi\": True ,\"sozluk\" : \"a\", 4 : \"budur\", True : \"çok doooru\"}"
   ]
  },
  {
   "cell_type": "code",
   "execution_count": null,
   "metadata": {},
   "outputs": [],
   "source": [
    "print( mySozluk[2==2])"
   ]
  },
  {
   "cell_type": "code",
   "execution_count": null,
   "metadata": {},
   "outputs": [],
   "source": [
    "# add\n",
    "\n",
    "mySozluk[\"yeni\"]= \"bu yeni\""
   ]
  },
  {
   "cell_type": "code",
   "execution_count": null,
   "metadata": {},
   "outputs": [],
   "source": [
    "print(mySozluk)"
   ]
  },
  {
   "cell_type": "code",
   "execution_count": null,
   "metadata": {},
   "outputs": [],
   "source": [
    "del mySozluk[\"yeni\"]"
   ]
  },
  {
   "cell_type": "code",
   "execution_count": null,
   "metadata": {},
   "outputs": [],
   "source": [
    "mySozluk.pop(\"yeni\")"
   ]
  },
  {
   "cell_type": "code",
   "execution_count": null,
   "metadata": {},
   "outputs": [],
   "source": [
    "for x in mySozluk.keys():\n",
    "    print(x)"
   ]
  },
  {
   "cell_type": "code",
   "execution_count": null,
   "metadata": {},
   "outputs": [],
   "source": [
    "for x in mySozluk.values():\n",
    "    print(x)"
   ]
  },
  {
   "cell_type": "code",
   "execution_count": null,
   "metadata": {},
   "outputs": [],
   "source": [
    "for x in mySozluk.items():\n",
    "    print(x)"
   ]
  },
  {
   "cell_type": "code",
   "execution_count": null,
   "metadata": {},
   "outputs": [],
   "source": [
    "len(mySozluk)"
   ]
  },
  {
   "cell_type": "code",
   "execution_count": null,
   "metadata": {},
   "outputs": [],
   "source": [
    "person1 = {\"name\" : \"Jhon\" , \"surname\":\"doe\", \"age\":30}\n",
    "person2 = {\"name\" : \"Jane\" , \"surname\":\"doe\", \"age\":27}\n",
    "personels = {\"pilot\":person1, \"captain\":person2}\n",
    "\n"
   ]
  },
  {
   "cell_type": "code",
   "execution_count": null,
   "metadata": {},
   "outputs": [],
   "source": [
    "personels[\"captain\"][\"age\"]"
   ]
  },
  {
   "cell_type": "code",
   "execution_count": null,
   "metadata": {},
   "outputs": [],
   "source": [
    "personels[\"captain\"][\"surname\"][-1]"
   ]
  },
  {
   "cell_type": "code",
   "execution_count": 62,
   "metadata": {},
   "outputs": [
    {
     "name": "stdout",
     "output_type": "stream",
     "text": [
      "mahmut\n",
      "şalgam\n",
      "ayran\n",
      "-------------\n",
      "rahit\n",
      "fanta\n",
      "ayran\n",
      "-------------\n",
      "ayşen\n",
      "mojito\n",
      "kımız\n",
      "-------------\n",
      "ümmü gülsüm\n",
      "çay\n",
      "oralet\n",
      "-------------\n",
      "nil anka\n",
      "chai latte \n",
      "Iced Peach Green Tea\n",
      "-------------\n"
     ]
    }
   ],
   "source": [
    "fav_drink = {}\n",
    "\n",
    "fav_drink[\"mahmut\"] =  [\"şalgam\",\"ayran\"]\n",
    "fav_drink[\"rahit\"] =  [\"fanta\",\"ayran\"]\n",
    "fav_drink[\"ayşen\"] =  [\"mojito\",\"kımız\"]\n",
    "fav_drink[\"ümmü gülsüm\"] = [\"çay\",\"oralet\"]\n",
    "fav_drink[\"nil anka\"] = [\"chai latte \",\"Iced Peach Green Tea\"]\n",
    "\n",
    "for name,drinks in fav_drink.items():\n",
    "    print(name)\n",
    "    for i in drinks:\n",
    "        print(i)\n",
    "\n",
    "    print(\"-------------\")\n"
   ]
  },
  {
   "cell_type": "code",
   "execution_count": 60,
   "metadata": {},
   "outputs": [],
   "source": [
    "fav_drink_reverse = {}\n",
    "\n",
    "\n",
    "fav_drink[\"ümmü gülsüm\"] = [\"çay\",\"oralet\"]\n",
    "fav_drink[\"nil anka\"] = [\"chai latte \",\"Iced Peach Green Tea\"]\n",
    "fav_drink[\"mahmut\"] =  [\"şalgam\",\"ayran\"]\n",
    "fav_drink[\"rahit\"] =  [\"fanta\",\"ayran\"]\n",
    "fav_drink[\"ayşen\"] =  [\"mojito\",\"kımız\"]\n"
   ]
  },
  {
   "cell_type": "code",
   "execution_count": 63,
   "metadata": {},
   "outputs": [
    {
     "name": "stdout",
     "output_type": "stream",
     "text": [
      "False\n"
     ]
    }
   ],
   "source": [
    "print(fav_drink == fav_drink_reverse)"
   ]
  },
  {
   "cell_type": "code",
   "execution_count": 68,
   "metadata": {},
   "outputs": [
    {
     "data": {
      "text/plain": [
       "False"
      ]
     },
     "execution_count": 68,
     "metadata": {},
     "output_type": "execute_result"
    }
   ],
   "source": [
    "\"alp\" == \"Alp\""
   ]
  },
  {
   "cell_type": "code",
   "execution_count": 69,
   "metadata": {},
   "outputs": [
    {
     "data": {
      "text/plain": [
       "True"
      ]
     },
     "execution_count": 69,
     "metadata": {},
     "output_type": "execute_result"
    }
   ],
   "source": [
    "\"alp\" == \"Alp\".lower()"
   ]
  },
  {
   "cell_type": "code",
   "execution_count": 71,
   "metadata": {},
   "outputs": [
    {
     "data": {
      "text/plain": [
       "True"
      ]
     },
     "execution_count": 71,
     "metadata": {},
     "output_type": "execute_result"
    }
   ],
   "source": [
    "mystring = \"Alp\"\n",
    "\"alp\" == mystring.lower()"
   ]
  }
 ],
 "metadata": {
  "kernelspec": {
   "display_name": "Python 3",
   "language": "python",
   "name": "python3"
  },
  "language_info": {
   "codemirror_mode": {
    "name": "ipython",
    "version": 3
   },
   "file_extension": ".py",
   "mimetype": "text/x-python",
   "name": "python",
   "nbconvert_exporter": "python",
   "pygments_lexer": "ipython3",
   "version": "3.11.9"
  }
 },
 "nbformat": 4,
 "nbformat_minor": 2
}
