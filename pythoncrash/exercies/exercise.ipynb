{
 "cells": [
  {
   "cell_type": "markdown",
   "metadata": {},
   "source": [
    "create a human with random values"
   ]
  },
  {
   "cell_type": "markdown",
   "metadata": {},
   "source": [
    "Create a obj with random age  and name generator\n",
    "\n",
    "make it can only age up to 25call "
   ]
  },
  {
   "cell_type": "code",
   "execution_count": null,
   "metadata": {},
   "outputs": [],
   "source": []
  },
  {
   "cell_type": "code",
   "execution_count": 1,
   "metadata": {},
   "outputs": [],
   "source": [
    "import random\n",
    "\n",
    "class testObj():\n",
    "    def __init__(self,):\n",
    "        self.age=random.randint(0, 60)"
   ]
  },
  {
   "cell_type": "code",
   "execution_count": 43,
   "metadata": {},
   "outputs": [
    {
     "name": "stdout",
     "output_type": "stream",
     "text": [
      "['eric']\n"
     ]
    }
   ],
   "source": [
    "names = [\"eric\",\"cole\",\"leo\",\"ahmet\",\"mehmet\"]\n",
    "print(random.choices(names))"
   ]
  },
  {
   "cell_type": "code",
   "execution_count": 3,
   "metadata": {},
   "outputs": [],
   "source": [
    "objList=[]\n",
    "\n",
    "for i in range(10):\n",
    "    tempobj=testObj()\n",
    "    objList.append(tempobj)\n",
    "    \n"
   ]
  },
  {
   "cell_type": "code",
   "execution_count": 7,
   "metadata": {},
   "outputs": [
    {
     "name": "stdout",
     "output_type": "stream",
     "text": [
      "58\n",
      "16\n",
      "28\n",
      "21\n",
      "13\n",
      "2\n",
      "15\n",
      "10\n",
      "29\n",
      "6\n"
     ]
    }
   ],
   "source": [
    "for i in objList:\n",
    "    print(i.age)"
   ]
  },
  {
   "cell_type": "code",
   "execution_count": 8,
   "metadata": {},
   "outputs": [],
   "source": [
    "def jobGiver(input):\n",
    "    input.job=\"undef\""
   ]
  },
  {
   "cell_type": "code",
   "execution_count": 9,
   "metadata": {},
   "outputs": [],
   "source": [
    "for i in objList:\n",
    "    jobGiver(i)"
   ]
  },
  {
   "cell_type": "code",
   "execution_count": 10,
   "metadata": {},
   "outputs": [
    {
     "name": "stdout",
     "output_type": "stream",
     "text": [
      "undef\n",
      "undef\n",
      "undef\n",
      "undef\n",
      "undef\n",
      "undef\n",
      "undef\n",
      "undef\n",
      "undef\n",
      "undef\n"
     ]
    }
   ],
   "source": [
    "for i in objList:\n",
    "    print(i.job)"
   ]
  },
  {
   "cell_type": "code",
   "execution_count": 44,
   "metadata": {},
   "outputs": [],
   "source": [
    "class fromTest():\n",
    "    def __init__(self,obj):\n",
    "        self.age=obj.age\n",
    "        self.name=\"wo\"\n"
   ]
  },
  {
   "cell_type": "code",
   "execution_count": 45,
   "metadata": {},
   "outputs": [
    {
     "name": "stdout",
     "output_type": "stream",
     "text": [
      "44\n"
     ]
    }
   ],
   "source": [
    "test=testObj()\n",
    "print(test.age)"
   ]
  },
  {
   "cell_type": "code",
   "execution_count": 46,
   "metadata": {},
   "outputs": [
    {
     "name": "stdout",
     "output_type": "stream",
     "text": [
      "44\n"
     ]
    }
   ],
   "source": [
    "fest= fromTest(test)\n",
    "print(fest.age)"
   ]
  }
 ],
 "metadata": {
  "kernelspec": {
   "display_name": "Python 3",
   "language": "python",
   "name": "python3"
  },
  "language_info": {
   "codemirror_mode": {
    "name": "ipython",
    "version": 3
   },
   "file_extension": ".py",
   "mimetype": "text/x-python",
   "name": "python",
   "nbconvert_exporter": "python",
   "pygments_lexer": "ipython3",
   "version": "3.10.12"
  }
 },
 "nbformat": 4,
 "nbformat_minor": 2
}
