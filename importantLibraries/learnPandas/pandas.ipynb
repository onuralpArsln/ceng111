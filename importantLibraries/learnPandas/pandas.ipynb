{
 "cells": [
  {
   "cell_type": "markdown",
   "metadata": {},
   "source": [
    "# Pandas "
   ]
  },
  {
   "cell_type": "markdown",
   "metadata": {},
   "source": [
    "Veri biliminin en büyük dostu olan pandas sana csv excel txt hdf5 json html sql pickle gibi formatlarda dosya işlemleri yapmanı sağlar.  "
   ]
  },
  {
   "cell_type": "markdown",
   "metadata": {},
   "source": [
    "biz bu tutorialda pandas kullanarak csv dosyaları ile işlemler yapacağız.  \n",
    "\n",
    "Csv comma separated values demektir.\n",
    "\n",
    "\n",
    "arac,sahip,yıl  \n",
    "vw,recaizade,2009   \n",
    "honda,mahmut,2012  \n",
    "bmw,ekrem,2024\n",
    "\n",
    "gibi bir datayı tablo olarak işlememizi sağlar. Ancak csv içi gösterim kuralları bundan bir tık daha karışıktır. Yine de bizim bunun bir excel benzeri yapı olduğunu bilmemiz bu dersin içeriği için yeterli olacaktır."
   ]
  },
  {
   "cell_type": "markdown",
   "metadata": {},
   "source": [
    "Ders içinde örnek olarak northwind database csv dosyasını kullanacağız bu microsoftun oluşturduğu ve ürün özelliklerinin demosu için kullandığı bir data setidir. "
   ]
  },
  {
   "cell_type": "code",
   "execution_count": 4,
   "metadata": {},
   "outputs": [
    {
     "name": "stdout",
     "output_type": "stream",
     "text": [
      "   categoryid    categoryname                                                 description picture\n",
      "0           1       Beverages                 Soft drinks, coffees, teas, beers, and ales      \\x\n",
      "1           2      Condiments  Sweet and savory sauces, relishes, spreads, and seasonings      \\x\n",
      "2           3     Confections                         Desserts, candies, and sweet breads      \\x\n",
      "3           4  Dairy Products                                                     Cheeses      \\x\n",
      "4           5  Grains/Cereals                         Breads, crackers, pasta, and cereal      \\x\n",
      "5           6    Meat/Poultry                                              Prepared meats      \\x\n",
      "6           7         Produce                                   Dried fruit and bean curd      \\x\n",
      "7           8         Seafood                                            Seaweed and fish      \\x\n"
     ]
    }
   ],
   "source": [
    "import pandas as pd\n",
    "# as pd demek zorunda değilsin ama herkes böyle yapıyor\n",
    "# amaç uzun uzun pandas yerine kısaca pd yazmak\n",
    "# ama istersen import pandas as fluffy_big_sweet_black_and_white_panda yaz\n",
    "# bu çok uzun ve saçma olurdu.\n",
    "\n",
    "# csv dosyamın adını girdim. bunun çalışması için cwd ye realtive adresi girmen lazım\n",
    "df = pd.read_csv('northwind\\categories.csv')\n",
    "\n",
    "print(df.to_string()) "
   ]
  }
 ],
 "metadata": {
  "kernelspec": {
   "display_name": "Python 3",
   "language": "python",
   "name": "python3"
  },
  "language_info": {
   "codemirror_mode": {
    "name": "ipython",
    "version": 3
   },
   "file_extension": ".py",
   "mimetype": "text/x-python",
   "name": "python",
   "nbconvert_exporter": "python",
   "pygments_lexer": "ipython3",
   "version": "3.11.9"
  }
 },
 "nbformat": 4,
 "nbformat_minor": 2
}
