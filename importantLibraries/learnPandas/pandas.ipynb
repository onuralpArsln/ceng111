{
 "cells": [
  {
   "cell_type": "markdown",
   "metadata": {},
   "source": [
    "# Pandas "
   ]
  },
  {
   "cell_type": "markdown",
   "metadata": {},
   "source": [
    "Veri biliminin en büyük dostu olan pandas sana csv excel txt hdf5 json html sql pickle gibi formatlarda dosya işlemleri yapmanı sağlar.  "
   ]
  },
  {
   "cell_type": "markdown",
   "metadata": {},
   "source": [
    "biz bu tutorialda pandas kullanarak csv dosyaları ile işlemler yapacağız.  \n",
    "\n",
    "Csv comma separated values demektir.\n",
    "\n",
    "\n",
    "arac,sahip,yıl  \n",
    "vw,recaizade,2009   \n",
    "honda,mahmut,2012  \n",
    "bmw,ekrem,2024\n",
    "\n",
    "gibi bir datayı tablo olarak işlememizi sağlar. Ancak csv içi gösterim kuralları bundan bir tık daha karışıktır. Yine de bizim bunun bir excel benzeri yapı olduğunu bilmemiz bu dersin içeriği için yeterli olacaktır."
   ]
  },
  {
   "cell_type": "markdown",
   "metadata": {},
   "source": [
    "Ders içinde örnek olarak northwind database csv dosyasını kullanacağız bu microsoftun oluşturduğu ve ürün özelliklerinin demosu için kullandığı bir data setidir. "
   ]
  },
  {
   "cell_type": "code",
   "execution_count": null,
   "metadata": {},
   "outputs": [],
   "source": []
  }
 ],
 "metadata": {
  "language_info": {
   "name": "python"
  }
 },
 "nbformat": 4,
 "nbformat_minor": 2
}
