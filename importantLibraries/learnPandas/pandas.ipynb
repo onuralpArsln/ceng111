{
 "cells": [
  {
   "cell_type": "markdown",
   "metadata": {},
   "source": [
    "# Pandas "
   ]
  },
  {
   "cell_type": "markdown",
   "metadata": {},
   "source": [
    "Veri biliminin en büyük dostu olan pandas sana csv excel txt hdf5 json html sql pickle gibi formatlarda dosya işlemleri yapmanı sağlar.  "
   ]
  },
  {
   "cell_type": "markdown",
   "metadata": {},
   "source": [
    "biz bu tutorialda pandas kullanarak csv dosyaları ile işlemler yapacağız.  \n",
    "\n",
    "Csv comma separated values demektir.\n",
    "\n",
    "\n",
    "arac,sahip,yıl  \n",
    "vw,recaizade,2009   \n",
    "honda,mahmut,2012  \n",
    "bmw,ekrem,2024\n",
    "\n",
    "gibi bir datayı tablo olarak işlememizi sağlar. Ancak csv içi gösterim kuralları bundan bir tık daha karışıktır. Yine de bizim bunun bir excel benzeri yapı olduğunu bilmemiz bu dersin içeriği için yeterli olacaktır."
   ]
  },
  {
   "cell_type": "markdown",
   "metadata": {},
   "source": [
    "Pandas büyük miktarda data içinde işlem yapmak için mükemmel bir seçimdir."
   ]
  },
  {
   "cell_type": "markdown",
   "metadata": {},
   "source": [
    "Ders içinde örnek olarak northwind database csv dosyasını kullanacağız bu microsoftun oluşturduğu ve ürün özelliklerinin demosu için kullandığı bir data setidir. "
   ]
  },
  {
   "cell_type": "code",
   "execution_count": 1,
   "metadata": {},
   "outputs": [
    {
     "name": "stdout",
     "output_type": "stream",
     "text": [
      "   categoryid    categoryname                                                 description picture\n",
      "0           1       Beverages                 Soft drinks, coffees, teas, beers, and ales      \\x\n",
      "1           2      Condiments  Sweet and savory sauces, relishes, spreads, and seasonings      \\x\n",
      "2           3     Confections                         Desserts, candies, and sweet breads      \\x\n",
      "3           4  Dairy Products                                                     Cheeses      \\x\n",
      "4           5  Grains/Cereals                         Breads, crackers, pasta, and cereal      \\x\n",
      "5           6    Meat/Poultry                                              Prepared meats      \\x\n",
      "6           7         Produce                                   Dried fruit and bean curd      \\x\n",
      "7           8         Seafood                                            Seaweed and fish      \\x\n"
     ]
    },
    {
     "name": "stderr",
     "output_type": "stream",
     "text": [
      "C:\\Users\\onura\\AppData\\Local\\Temp\\ipykernel_25000\\1934093014.py:1: DeprecationWarning: \n",
      "Pyarrow will become a required dependency of pandas in the next major release of pandas (pandas 3.0),\n",
      "(to allow more performant data types, such as the Arrow string type, and better interoperability with other libraries)\n",
      "but was not found to be installed on your system.\n",
      "If this would cause problems for you,\n",
      "please provide us feedback at https://github.com/pandas-dev/pandas/issues/54466\n",
      "        \n",
      "  import pandas as pd\n"
     ]
    }
   ],
   "source": [
    "import pandas as pd\n",
    "# as pd demek zorunda değilsin ama herkes böyle yapıyor\n",
    "# amaç uzun uzun pandas yerine kısaca pd yazmak\n",
    "# ama istersen import pandas as fluffy_big_sweet_black_and_white_panda yaz\n",
    "# bu çok uzun ve saçma olurdu.\n",
    "\n",
    "# csv dosyamın adını girdim. bunun çalışması için cwd ye relative adresi girmen lazım\n",
    "df = pd.read_csv('northwind\\categories.csv')\n",
    "# bir dataframe olarak oluşturduk \n",
    "\n",
    "\n",
    "print(df.to_string()) "
   ]
  },
  {
   "cell_type": "code",
   "execution_count": 2,
   "metadata": {},
   "outputs": [
    {
     "name": "stdout",
     "output_type": "stream",
     "text": [
      "    cars  passings\n",
      "0    BMW         3\n",
      "1  Volvo         7\n",
      "2   Ford         2\n"
     ]
    }
   ],
   "source": [
    "import pandas\n",
    "\n",
    "# elle oluşturmak istersen\n",
    "mydataset = {\n",
    "  'cars': [\"BMW\", \"Volvo\", \"Ford\"],\n",
    "  'passings': [3, 7, 2]\n",
    "}\n",
    "\n",
    "\n",
    "# eğer as pd kullanmazsan böyle olur \n",
    "myvar = pandas.DataFrame(mydataset)\n",
    "\n",
    "print(myvar)"
   ]
  },
  {
   "cell_type": "code",
   "execution_count": 3,
   "metadata": {},
   "outputs": [
    {
     "name": "stdout",
     "output_type": "stream",
     "text": [
      "0    1\n",
      "1    7\n",
      "2    2\n",
      "dtype: int64\n"
     ]
    }
   ],
   "source": [
    "import pandas as pd\n",
    "\n",
    "# tek boyutlu bir yapı dataframe yerine series olur\n",
    "a = [1, 7, 2]\n",
    "\n",
    "myvar = pd.Series(a)\n",
    "\n",
    "print(myvar)"
   ]
  },
  {
   "cell_type": "code",
   "execution_count": 4,
   "metadata": {},
   "outputs": [
    {
     "name": "stdout",
     "output_type": "stream",
     "text": [
      "x    1\n",
      "y    7\n",
      "z    2\n",
      "dtype: int64\n"
     ]
    }
   ],
   "source": [
    "import pandas as pd\n",
    "\n",
    "a = [1, 7, 2]\n",
    "# index bilgisi olarak farklı veriler girilebilir\n",
    "myvar = pd.Series(a, index = [\"x\", \"y\", \"z\"])\n",
    "\n",
    "print(myvar)"
   ]
  },
  {
   "cell_type": "code",
   "execution_count": 5,
   "metadata": {},
   "outputs": [
    {
     "name": "stdout",
     "output_type": "stream",
     "text": [
      "7\n"
     ]
    }
   ],
   "source": [
    "# iki  farklı yapı birleşince artık sözlük benzeri bir kullanım mümkün olur\n",
    "print(myvar[\"y\"])"
   ]
  },
  {
   "cell_type": "code",
   "execution_count": 6,
   "metadata": {},
   "outputs": [
    {
     "name": "stdout",
     "output_type": "stream",
     "text": [
      "day1    420\n",
      "day2    380\n",
      "day3    390\n",
      "dtype: int64\n"
     ]
    }
   ],
   "source": [
    "import pandas as pd\n",
    "\n",
    "# sözlükleri de kullanbilirsin\n",
    "calories = {\"day1\": 420, \"day2\": 380, \"day3\": 390}\n",
    "\n",
    "myvar = pd.Series(calories)\n",
    "\n",
    "print(myvar)"
   ]
  },
  {
   "cell_type": "code",
   "execution_count": 7,
   "metadata": {},
   "outputs": [
    {
     "name": "stdout",
     "output_type": "stream",
     "text": [
      "   calories  duration\n",
      "0       420        50\n",
      "1       380        40\n",
      "2       390        45\n"
     ]
    }
   ],
   "source": [
    "import pandas as pd\n",
    "\n",
    "# artık iki boyut var. sadece index ile bir veriye ulaşamazsın\n",
    "data = {\n",
    "  \"calories\": [420, 380, 390],\n",
    "  \"duration\": [50, 40, 45]\n",
    "}\n",
    "# iki boyutta artık dataFrame kullanımı başladı ki genelde dataframe üzerinde çalışırız.\n",
    "myvar = pd.DataFrame(data)\n",
    "\n",
    "print(myvar)"
   ]
  },
  {
   "cell_type": "code",
   "execution_count": 9,
   "metadata": {},
   "outputs": [
    {
     "name": "stdout",
     "output_type": "stream",
     "text": [
      "calories    420\n",
      "duration     50\n",
      "Name: 0, dtype: int64\n"
     ]
    }
   ],
   "source": [
    "print(myvar.loc[0])\n",
    "# loc ile tek bir rowa odaklan"
   ]
  },
  {
   "cell_type": "code",
   "execution_count": 10,
   "metadata": {},
   "outputs": [
    {
     "name": "stdout",
     "output_type": "stream",
     "text": [
      "calories    420\n",
      "duration     50\n",
      "Name: 0, dtype: int64\n"
     ]
    }
   ],
   "source": [
    "print(myvar.iloc[0])"
   ]
  },
  {
   "cell_type": "code",
   "execution_count": 12,
   "metadata": {},
   "outputs": [
    {
     "name": "stdout",
     "output_type": "stream",
     "text": [
      "   calories  duration\n",
      "0       420        50\n",
      "1       380        40\n"
     ]
    }
   ],
   "source": [
    "print(myvar.loc[[0, 1]])"
   ]
  },
  {
   "cell_type": "markdown",
   "metadata": {},
   "source": [
    "eğer indexlere isim vermeyi sevdiysen"
   ]
  },
  {
   "cell_type": "code",
   "execution_count": 13,
   "metadata": {},
   "outputs": [
    {
     "name": "stdout",
     "output_type": "stream",
     "text": [
      "      calories  duration\n",
      "day1       420        50\n",
      "day2       380        40\n",
      "day3       390        45\n"
     ]
    }
   ],
   "source": [
    "import pandas as pd\n",
    "\n",
    "data = {\n",
    "  \"calories\": [420, 380, 390],\n",
    "  \"duration\": [50, 40, 45]\n",
    "}\n",
    "\n",
    "df = pd.DataFrame(data, index = [\"day1\", \"day2\", \"day3\"])\n",
    "\n",
    "print(df) "
   ]
  },
  {
   "cell_type": "code",
   "execution_count": 14,
   "metadata": {},
   "outputs": [
    {
     "name": "stdout",
     "output_type": "stream",
     "text": [
      "calories    380\n",
      "duration     40\n",
      "Name: day2, dtype: int64\n"
     ]
    }
   ],
   "source": [
    "print(df.loc[\"day2\"])\n",
    "# isimden ulaşmak mümkün"
   ]
  },
  {
   "cell_type": "code",
   "execution_count": 15,
   "metadata": {},
   "outputs": [
    {
     "ename": "TypeError",
     "evalue": "Cannot index by location index with a non-integer key",
     "output_type": "error",
     "traceback": [
      "\u001b[1;31m---------------------------------------------------------------------------\u001b[0m",
      "\u001b[1;31mTypeError\u001b[0m                                 Traceback (most recent call last)",
      "Cell \u001b[1;32mIn[15], line 1\u001b[0m\n\u001b[1;32m----> 1\u001b[0m \u001b[38;5;28mprint\u001b[39m(\u001b[43mdf\u001b[49m\u001b[38;5;241;43m.\u001b[39;49m\u001b[43miloc\u001b[49m\u001b[43m[\u001b[49m\u001b[38;5;124;43m\"\u001b[39;49m\u001b[38;5;124;43mday2\u001b[39;49m\u001b[38;5;124;43m\"\u001b[39;49m\u001b[43m]\u001b[49m)\n",
      "File \u001b[1;32m~\\AppData\\Local\\Packages\\PythonSoftwareFoundation.Python.3.11_qbz5n2kfra8p0\\LocalCache\\local-packages\\Python311\\site-packages\\pandas\\core\\indexing.py:1192\u001b[0m, in \u001b[0;36m_LocationIndexer.__getitem__\u001b[1;34m(self, key)\u001b[0m\n\u001b[0;32m   1190\u001b[0m maybe_callable \u001b[38;5;241m=\u001b[39m com\u001b[38;5;241m.\u001b[39mapply_if_callable(key, \u001b[38;5;28mself\u001b[39m\u001b[38;5;241m.\u001b[39mobj)\n\u001b[0;32m   1191\u001b[0m maybe_callable \u001b[38;5;241m=\u001b[39m \u001b[38;5;28mself\u001b[39m\u001b[38;5;241m.\u001b[39m_check_deprecated_callable_usage(key, maybe_callable)\n\u001b[1;32m-> 1192\u001b[0m \u001b[38;5;28;01mreturn\u001b[39;00m \u001b[38;5;28;43mself\u001b[39;49m\u001b[38;5;241;43m.\u001b[39;49m\u001b[43m_getitem_axis\u001b[49m\u001b[43m(\u001b[49m\u001b[43mmaybe_callable\u001b[49m\u001b[43m,\u001b[49m\u001b[43m \u001b[49m\u001b[43maxis\u001b[49m\u001b[38;5;241;43m=\u001b[39;49m\u001b[43maxis\u001b[49m\u001b[43m)\u001b[49m\n",
      "File \u001b[1;32m~\\AppData\\Local\\Packages\\PythonSoftwareFoundation.Python.3.11_qbz5n2kfra8p0\\LocalCache\\local-packages\\Python311\\site-packages\\pandas\\core\\indexing.py:1750\u001b[0m, in \u001b[0;36m_iLocIndexer._getitem_axis\u001b[1;34m(self, key, axis)\u001b[0m\n\u001b[0;32m   1748\u001b[0m key \u001b[38;5;241m=\u001b[39m item_from_zerodim(key)\n\u001b[0;32m   1749\u001b[0m \u001b[38;5;28;01mif\u001b[39;00m \u001b[38;5;129;01mnot\u001b[39;00m is_integer(key):\n\u001b[1;32m-> 1750\u001b[0m     \u001b[38;5;28;01mraise\u001b[39;00m \u001b[38;5;167;01mTypeError\u001b[39;00m(\u001b[38;5;124m\"\u001b[39m\u001b[38;5;124mCannot index by location index with a non-integer key\u001b[39m\u001b[38;5;124m\"\u001b[39m)\n\u001b[0;32m   1752\u001b[0m \u001b[38;5;66;03m# validate the location\u001b[39;00m\n\u001b[0;32m   1753\u001b[0m \u001b[38;5;28mself\u001b[39m\u001b[38;5;241m.\u001b[39m_validate_integer(key, axis)\n",
      "\u001b[1;31mTypeError\u001b[0m: Cannot index by location index with a non-integer key"
     ]
    }
   ],
   "source": [
    "print(df.iloc[\"day2\"])\n",
    "# iloc sadece integer indexle çalışır burada hata alırsın"
   ]
  },
  {
   "cell_type": "markdown",
   "metadata": {},
   "source": [
    "# Büyük data ile çalışmak"
   ]
  },
  {
   "cell_type": "code",
   "execution_count": 19,
   "metadata": {},
   "outputs": [
    {
     "name": "stdout",
     "output_type": "stream",
     "text": [
      "   customerid                           companyname              contactname                    contacttitle             city         region postalcode      country              phone                fax\n",
      "0       ALFKI                   Alfreds Futterkiste             Maria Anders            Sales Representative           Berlin            NaN      12209      Germany        030-0074321        030-0076545\n",
      "1       ANATR    Ana Trujillo Emparedados y helados             Ana Trujillo                           Owner      México D.F.            NaN      05021       Mexico       (5) 555-4729       (5) 555-3745\n",
      "2       ANTON               Antonio Moreno Taquería           Antonio Moreno                           Owner      México D.F.            NaN      05023       Mexico       (5) 555-3932                NaN\n",
      "3       AROUT                       Around the Horn             Thomas Hardy            Sales Representative           London            NaN    WA1 1DP           UK     (171) 555-7788     (171) 555-6750\n",
      "4       BERGS                    Berglunds snabbköp       Christina Berglund             Order Administrator            Luleå            NaN   S-958 22       Sweden      0921-12 34 65      0921-12 34 67\n",
      "5       BLAUS               Blauer See Delikatessen               Hanna Moos            Sales Representative         Mannheim            NaN      68306      Germany         0621-08460         0621-08924\n",
      "6       BLONP              Blondesddsl père et fils       Frédérique Citeaux               Marketing Manager       Strasbourg            NaN      67000       France        88.60.15.31        88.60.15.32\n",
      "7       BOLID             Bólido Comidas preparadas            Martín Sommer                           Owner           Madrid            NaN      28023        Spain     (91) 555 22 82     (91) 555 91 99\n",
      "8       BONAP                              Bon app'         Laurence Lebihan                           Owner        Marseille            NaN      13008       France        91.24.45.40        91.24.45.41\n",
      "9       BOTTM                 Bottom-Dollar Markets        Elizabeth Lincoln              Accounting Manager        Tsawassen             BC    T2F 8M4       Canada     (604) 555-4729     (604) 555-3745\n",
      "10      BSBEV                         B's Beverages        Victoria Ashworth            Sales Representative           London            NaN    EC2 5NT           UK     (171) 555-1212                NaN\n",
      "11      CACTU            Cactus Comidas para llevar         Patricio Simpson                     Sales Agent     Buenos Aires            NaN       1010    Argentina       (1) 135-5555       (1) 135-4892\n",
      "12      CENTC            Centro comercial Moctezuma          Francisco Chang               Marketing Manager      México D.F.            NaN      05022       Mexico       (5) 555-3392       (5) 555-7293\n",
      "13      CHOPS                     Chop-suey Chinese                Yang Wang                           Owner             Bern            NaN       3012  Switzerland        0452-076545                NaN\n",
      "14      COMMI                      Comércio Mineiro             Pedro Afonso                 Sales Associate        Sao Paulo             SP  05432-043       Brazil      (11) 555-7647                NaN\n",
      "15      CONSH                 Consolidated Holdings          Elizabeth Brown            Sales Representative           London            NaN    WX1 6LT           UK     (171) 555-2282     (171) 555-9199\n",
      "16      DRACD              Drachenblut Delikatessen             Sven Ottlieb             Order Administrator           Aachen            NaN      52066      Germany        0241-039123        0241-059428\n",
      "17      DUMON                       Du monde entier           Janine Labrune                           Owner           Nantes            NaN      44000       France        40.67.88.88        40.67.89.89\n",
      "18      EASTC                    Eastern Connection                Ann Devon                     Sales Agent           London            NaN    WX3 6FW           UK     (171) 555-0297     (171) 555-3373\n",
      "19      ERNSH                          Ernst Handel            Roland Mendel                   Sales Manager             Graz            NaN       8010      Austria          7675-3425          7675-3426\n",
      "20      FAMIA                    Familia Arquibaldo                Aria Cruz             Marketing Assistant        Sao Paulo             SP  05442-030       Brazil      (11) 555-9857                NaN\n",
      "21      FISSA  FISSA Fabrica Inter. Salchichas S.A.               Diego Roel              Accounting Manager           Madrid            NaN      28034        Spain     (91) 555 94 44     (91) 555 55 93\n",
      "22      FOLIG                     Folies gourmandes            Martine Rancé           Assistant Sales Agent            Lille            NaN      59000       France        20.16.10.16        20.16.10.17\n",
      "23      FOLKO                        Folk och fä HB            Maria Larsson                           Owner           Bräcke            NaN   S-844 67       Sweden      0695-34 67 21                NaN\n",
      "24      FRANK                        Frankenversand            Peter Franken               Marketing Manager          München            NaN      80805      Germany        089-0877310        089-0877451\n",
      "25      FRANR                   France restauration           Carine Schmitt               Marketing Manager           Nantes            NaN      44000       France        40.32.21.21        40.32.21.20\n",
      "26      FRANS                        Franchi S.p.A.            Paolo Accorti            Sales Representative           Torino            NaN      10100        Italy        011-4988260        011-4988261\n",
      "27      FURIB        Furia Bacalhau e Frutos do Mar           Lino Rodriguez                   Sales Manager           Lisboa            NaN       1675     Portugal       (1) 354-2534       (1) 354-2535\n",
      "28      GALED                Galería del gastrónomo         Eduardo Saavedra               Marketing Manager        Barcelona            NaN      08022        Spain      (93) 203 4560      (93) 203 4561\n",
      "29      GODOS                   Godos Cocina Típica        José Pedro Freyre                   Sales Manager          Sevilla            NaN      41101        Spain     (95) 555 82 82                NaN\n",
      "30      GOURL                   Gourmet Lanchonetes            André Fonseca                 Sales Associate         Campinas             SP  04876-786       Brazil      (11) 555-9482                NaN\n",
      "31      GREAL               Great Lakes Food Market            Howard Snyder               Marketing Manager           Eugene             OR      97403          USA     (503) 555-7555                NaN\n",
      "32      GROSR                  GROSELLA-Restaurante           Manuel Pereira                           Owner          Caracas             DF       1081    Venezuela       (2) 283-2951       (2) 283-3397\n",
      "33      HANAR                         Hanari Carnes             Mario Pontes              Accounting Manager   Rio de Janeiro             RJ  05454-876       Brazil      (21) 555-0091      (21) 555-8765\n",
      "34      HILAA                      HILARION-Abastos         Carlos Hernández            Sales Representative    San Cristóbal        Táchira       5022    Venezuela       (5) 555-1340       (5) 555-1948\n",
      "35      HUNGC            Hungry Coyote Import Store            Yoshi Latimer            Sales Representative            Elgin             OR      97827          USA     (503) 555-6874     (503) 555-2376\n",
      "36      HUNGO          Hungry Owl All-Night Grocers         Patricia McKenna                 Sales Associate             Cork       Co. Cork        NaN      Ireland           2967 542          2967 3333\n",
      "37      ISLAT                        Island Trading            Helen Bennett               Marketing Manager            Cowes  Isle of Wight   PO31 7PJ           UK     (198) 555-8888                NaN\n",
      "38      KOENE                       Königlich Essen            Philip Cramer                 Sales Associate      Brandenburg            NaN      14776      Germany         0555-09876                NaN\n",
      "39      LACOR                  La corne d'abondance            Daniel Tonini            Sales Representative       Versailles            NaN      78000       France        30.59.84.10        30.59.85.11\n",
      "40      LAMAI                      La maison d'Asie           Annette Roulet                   Sales Manager         Toulouse            NaN      31000       France        61.77.61.10        61.77.61.11\n",
      "41      LAUGB         Laughing Bacchus Wine Cellars          Yoshi Tannamuri             Marketing Assistant        Vancouver             BC    V3F 2K1       Canada     (604) 555-3392     (604) 555-7293\n",
      "42      LAZYK                  Lazy K Kountry Store               John Steel               Marketing Manager      Walla Walla             WA      99362          USA     (509) 555-7969     (509) 555-6221\n",
      "43      LEHMS                   Lehmanns Marktstand           Renate Messner            Sales Representative   Frankfurt a.M.            NaN      60528      Germany        069-0245984        069-0245874\n",
      "44      LETSS                     Let's Stop N Shop             Jaime Yorres                           Owner    San Francisco             CA      94117          USA     (415) 555-5938                NaN\n",
      "45      LILAS                     LILA-Supermercado          Carlos González              Accounting Manager     Barquisimeto           Lara       3508    Venezuela       (9) 331-6954       (9) 331-7256\n",
      "46      LINOD                      LINO-Delicateses         Felipe Izquierdo                           Owner  I. de Margarita  Nueva Esparta       4980    Venezuela       (8) 34-56-12       (8) 34-93-93\n",
      "47      LONEP              Lonesome Pine Restaurant              Fran Wilson                   Sales Manager         Portland             OR      97219          USA     (503) 555-9573     (503) 555-9646\n",
      "48      MAGAA          Magazzini Alimentari Riuniti         Giovanni Rovelli               Marketing Manager          Bergamo            NaN      24100        Italy         035-640230         035-640231\n",
      "49      MAISD                          Maison Dewey          Catherine Dewey                     Sales Agent        Bruxelles            NaN     B-1180      Belgium     (02) 201 24 67     (02) 201 24 68\n",
      "50      MEREP                        Mère Paillarde           Jean Fresnière             Marketing Assistant         Montréal         Québec    H1J 1C3       Canada     (514) 555-8054     (514) 555-8055\n",
      "51      MORGK                Morgenstern Gesundkost          Alexander Feuer             Marketing Assistant          Leipzig            NaN      04179      Germany        0342-023176                NaN\n",
      "52      NORTS                           North/South           Simon Crowther                 Sales Associate           London            NaN    SW7 1RZ           UK     (171) 555-7733     (171) 555-2530\n",
      "53      OCEAN                Océano Atlántico Ltda.           Yvonne Moncada                     Sales Agent     Buenos Aires            NaN       1010    Argentina       (1) 135-5333       (1) 135-5535\n",
      "54      OLDWO                Old World Delicatessen            Rene Phillips            Sales Representative        Anchorage             AK      99508          USA     (907) 555-7584     (907) 555-2880\n",
      "55      OTTIK                    Ottilies Käseladen      Henriette Pfalzheim                           Owner             Köln            NaN      50739      Germany       0221-0644327       0221-0765721\n",
      "56      PARIS                     Paris spécialités           Marie Bertrand                           Owner            Paris            NaN      75012       France    (1) 42.34.22.66    (1) 42.34.22.77\n",
      "57      PERIC             Pericles Comidas clásicas      Guillermo Fernández            Sales Representative      México D.F.            NaN      05033       Mexico       (5) 552-3745       (5) 545-3745\n",
      "58      PICCO                      Piccolo und mehr              Georg Pipps                   Sales Manager         Salzburg            NaN       5020      Austria          6562-9722          6562-9723\n",
      "59      PRINI                Princesa Isabel Vinhos         Isabel de Castro            Sales Representative           Lisboa            NaN       1756     Portugal       (1) 356-5634                NaN\n",
      "60      QUEDE                           Que Delícia         Bernardo Batista              Accounting Manager   Rio de Janeiro             RJ  02389-673       Brazil      (21) 555-4252      (21) 555-4545\n",
      "61      QUEEN                         Queen Cozinha           Lúcia Carvalho             Marketing Assistant        Sao Paulo             SP  05487-020       Brazil      (11) 555-1189                NaN\n",
      "62      QUICK                            QUICK-Stop              Horst Kloss              Accounting Manager        Cunewalde            NaN      01307      Germany        0372-035188                NaN\n",
      "63      RANCH                         Rancho grande         Sergio Gutiérrez            Sales Representative     Buenos Aires            NaN       1010    Argentina       (1) 123-5555       (1) 123-5556\n",
      "64      RATTC            Rattlesnake Canyon Grocery             Paula Wilson  Assistant Sales Representative      Albuquerque             NM      87110          USA     (505) 555-5939     (505) 555-3620\n",
      "65      REGGC                    Reggiani Caseifici          Maurizio Moroni                 Sales Associate    Reggio Emilia            NaN      42100        Italy        0522-556721        0522-556722\n",
      "66      RICAR                    Ricardo Adocicados           Janete Limeira           Assistant Sales Agent   Rio de Janeiro             RJ  02389-890       Brazil      (21) 555-3412                NaN\n",
      "67      RICSU                    Richter Supermarkt             Michael Holz                   Sales Manager           Genève            NaN       1203  Switzerland        0897-034214                NaN\n",
      "68      ROMEY                      Romero y tomillo         Alejandra Camino              Accounting Manager           Madrid            NaN      28001        Spain      (91) 745 6200      (91) 745 6210\n",
      "69      SANTG                         Santé Gourmet         Jonas Bergulfsen                           Owner          Stavern            NaN       4110       Norway        07-98 92 35        07-98 92 47\n",
      "70      SAVEA                    Save-a-lot Markets           Jose Pavarotti            Sales Representative            Boise             ID      83720          USA     (208) 555-8097                NaN\n",
      "71      SEVES                    Seven Seas Imports               Hari Kumar                   Sales Manager           London            NaN   OX15 4NB           UK     (171) 555-1717     (171) 555-5646\n",
      "72      SIMOB                         Simons bistro           Jytte Petersen                           Owner        Kobenhavn            NaN       1734      Denmark        31 12 34 56        31 13 35 57\n",
      "73      SPECD                  Spécialités du monde        Dominique Perrier               Marketing Manager            Paris            NaN      75016       France    (1) 47.55.60.10    (1) 47.55.60.20\n",
      "74      SPLIR                 Split Rail Beer & Ale       Art Braunschweiger                   Sales Manager           Lander             WY      82520          USA     (307) 555-4680     (307) 555-6525\n",
      "75      SUPRD                      Suprêmes délices         Pascale Cartrain              Accounting Manager        Charleroi            NaN     B-6000      Belgium  (071) 23 67 22 20  (071) 23 67 22 21\n",
      "76      THEBI                        The Big Cheese                Liz Nixon               Marketing Manager         Portland             OR      97201          USA     (503) 555-3612                NaN\n",
      "77      THECR                       The Cracker Box                 Liu Wong             Marketing Assistant            Butte             MT      59801          USA     (406) 555-5834     (406) 555-8083\n",
      "78      TOMSP                    Toms Spezialitäten            Karin Josephs               Marketing Manager          Münster            NaN      44087      Germany        0251-031259        0251-035695\n",
      "79      TORTU                   Tortuga Restaurante     Miguel Angel Paolino                           Owner      México D.F.            NaN      05033       Mexico       (5) 555-2933                NaN\n",
      "80      TRADH                Tradição Hipermercados        Anabela Domingues            Sales Representative        Sao Paulo             SP  05634-030       Brazil      (11) 555-2167      (11) 555-2168\n",
      "81      TRAIH     Trail's Head Gourmet Provisioners           Helvetius Nagy                 Sales Associate         Kirkland             WA      98034          USA     (206) 555-8257     (206) 555-2174\n",
      "82      VAFFE                          Vaffeljernet              Palle Ibsen                   Sales Manager            Århus            NaN       8200      Denmark        86 21 32 43        86 22 33 44\n",
      "83      VICTE                  Victuailles en stock             Mary Saveley                     Sales Agent             Lyon            NaN      69004       France        78.32.54.86        78.32.54.87\n",
      "84      VINET             Vins et alcools Chevalier             Paul Henriot              Accounting Manager            Reims            NaN      51100       France        26.47.15.10        26.47.15.11\n",
      "85      WANDK                     Die Wandernde Kuh              Rita Müller            Sales Representative        Stuttgart            NaN      70563      Germany        0711-020361        0711-035428\n",
      "86      WARTH                        Wartian Herkku         Pirkko Koskitalo              Accounting Manager             Oulu            NaN      90110      Finland         981-443655         981-443655\n",
      "87      WELLI                Wellington Importadora            Paula Parente                   Sales Manager          Resende             SP  08737-363       Brazil      (14) 555-8122                NaN\n",
      "88      WHITC                  White Clover Markets           Karl Jablonski                           Owner          Seattle             WA      98128          USA     (206) 555-4112     (206) 555-4115\n",
      "89      WILMK                           Wilman Kala          Matti Karttunen       Owner/Marketing Assistant         Helsinki            NaN      21240      Finland        90-224 8858        90-224 8858\n",
      "90      WOLZA                        Wolski  Zajazd  Zbyszek Piestrzeniewicz                           Owner         Warszawa            NaN     01-012       Poland      (26) 642-7012      (26) 642-7012\n"
     ]
    }
   ],
   "source": [
    "import pandas as pd\n",
    "\n",
    "\n",
    "# csv dosyamın adını girdim. bunun çalışması için cwd ye relative adresi girmen lazım\n",
    "df = pd.read_csv('northwind\\customers.csv')\n",
    "\n",
    "\n",
    "\n",
    "print(df.to_string()) "
   ]
  },
  {
   "cell_type": "code",
   "execution_count": 20,
   "metadata": {},
   "outputs": [
    {
     "name": "stdout",
     "output_type": "stream",
     "text": [
      "   customerid                           companyname              contactname  \\\n",
      "0       ALFKI                   Alfreds Futterkiste             Maria Anders   \n",
      "1       ANATR    Ana Trujillo Emparedados y helados             Ana Trujillo   \n",
      "2       ANTON               Antonio Moreno Taquería           Antonio Moreno   \n",
      "3       AROUT                       Around the Horn             Thomas Hardy   \n",
      "4       BERGS                    Berglunds snabbköp       Christina Berglund   \n",
      "5       BLAUS               Blauer See Delikatessen               Hanna Moos   \n",
      "6       BLONP              Blondesddsl père et fils       Frédérique Citeaux   \n",
      "7       BOLID             Bólido Comidas preparadas            Martín Sommer   \n",
      "8       BONAP                              Bon app'         Laurence Lebihan   \n",
      "9       BOTTM                 Bottom-Dollar Markets        Elizabeth Lincoln   \n",
      "10      BSBEV                         B's Beverages        Victoria Ashworth   \n",
      "11      CACTU            Cactus Comidas para llevar         Patricio Simpson   \n",
      "12      CENTC            Centro comercial Moctezuma          Francisco Chang   \n",
      "13      CHOPS                     Chop-suey Chinese                Yang Wang   \n",
      "14      COMMI                      Comércio Mineiro             Pedro Afonso   \n",
      "15      CONSH                 Consolidated Holdings          Elizabeth Brown   \n",
      "16      DRACD              Drachenblut Delikatessen             Sven Ottlieb   \n",
      "17      DUMON                       Du monde entier           Janine Labrune   \n",
      "18      EASTC                    Eastern Connection                Ann Devon   \n",
      "19      ERNSH                          Ernst Handel            Roland Mendel   \n",
      "20      FAMIA                    Familia Arquibaldo                Aria Cruz   \n",
      "21      FISSA  FISSA Fabrica Inter. Salchichas S.A.               Diego Roel   \n",
      "22      FOLIG                     Folies gourmandes            Martine Rancé   \n",
      "23      FOLKO                        Folk och fä HB            Maria Larsson   \n",
      "24      FRANK                        Frankenversand            Peter Franken   \n",
      "25      FRANR                   France restauration           Carine Schmitt   \n",
      "26      FRANS                        Franchi S.p.A.            Paolo Accorti   \n",
      "27      FURIB        Furia Bacalhau e Frutos do Mar           Lino Rodriguez   \n",
      "28      GALED                Galería del gastrónomo         Eduardo Saavedra   \n",
      "29      GODOS                   Godos Cocina Típica        José Pedro Freyre   \n",
      "30      GOURL                   Gourmet Lanchonetes            André Fonseca   \n",
      "31      GREAL               Great Lakes Food Market            Howard Snyder   \n",
      "32      GROSR                  GROSELLA-Restaurante           Manuel Pereira   \n",
      "33      HANAR                         Hanari Carnes             Mario Pontes   \n",
      "34      HILAA                      HILARION-Abastos         Carlos Hernández   \n",
      "35      HUNGC            Hungry Coyote Import Store            Yoshi Latimer   \n",
      "36      HUNGO          Hungry Owl All-Night Grocers         Patricia McKenna   \n",
      "37      ISLAT                        Island Trading            Helen Bennett   \n",
      "38      KOENE                       Königlich Essen            Philip Cramer   \n",
      "39      LACOR                  La corne d'abondance            Daniel Tonini   \n",
      "40      LAMAI                      La maison d'Asie           Annette Roulet   \n",
      "41      LAUGB         Laughing Bacchus Wine Cellars          Yoshi Tannamuri   \n",
      "42      LAZYK                  Lazy K Kountry Store               John Steel   \n",
      "43      LEHMS                   Lehmanns Marktstand           Renate Messner   \n",
      "44      LETSS                     Let's Stop N Shop             Jaime Yorres   \n",
      "45      LILAS                     LILA-Supermercado          Carlos González   \n",
      "46      LINOD                      LINO-Delicateses         Felipe Izquierdo   \n",
      "47      LONEP              Lonesome Pine Restaurant              Fran Wilson   \n",
      "48      MAGAA          Magazzini Alimentari Riuniti         Giovanni Rovelli   \n",
      "49      MAISD                          Maison Dewey          Catherine Dewey   \n",
      "50      MEREP                        Mère Paillarde           Jean Fresnière   \n",
      "51      MORGK                Morgenstern Gesundkost          Alexander Feuer   \n",
      "52      NORTS                           North/South           Simon Crowther   \n",
      "53      OCEAN                Océano Atlántico Ltda.           Yvonne Moncada   \n",
      "54      OLDWO                Old World Delicatessen            Rene Phillips   \n",
      "55      OTTIK                    Ottilies Käseladen      Henriette Pfalzheim   \n",
      "56      PARIS                     Paris spécialités           Marie Bertrand   \n",
      "57      PERIC             Pericles Comidas clásicas      Guillermo Fernández   \n",
      "58      PICCO                      Piccolo und mehr              Georg Pipps   \n",
      "59      PRINI                Princesa Isabel Vinhos         Isabel de Castro   \n",
      "60      QUEDE                           Que Delícia         Bernardo Batista   \n",
      "61      QUEEN                         Queen Cozinha           Lúcia Carvalho   \n",
      "62      QUICK                            QUICK-Stop              Horst Kloss   \n",
      "63      RANCH                         Rancho grande         Sergio Gutiérrez   \n",
      "64      RATTC            Rattlesnake Canyon Grocery             Paula Wilson   \n",
      "65      REGGC                    Reggiani Caseifici          Maurizio Moroni   \n",
      "66      RICAR                    Ricardo Adocicados           Janete Limeira   \n",
      "67      RICSU                    Richter Supermarkt             Michael Holz   \n",
      "68      ROMEY                      Romero y tomillo         Alejandra Camino   \n",
      "69      SANTG                         Santé Gourmet         Jonas Bergulfsen   \n",
      "70      SAVEA                    Save-a-lot Markets           Jose Pavarotti   \n",
      "71      SEVES                    Seven Seas Imports               Hari Kumar   \n",
      "72      SIMOB                         Simons bistro           Jytte Petersen   \n",
      "73      SPECD                  Spécialités du monde        Dominique Perrier   \n",
      "74      SPLIR                 Split Rail Beer & Ale       Art Braunschweiger   \n",
      "75      SUPRD                      Suprêmes délices         Pascale Cartrain   \n",
      "76      THEBI                        The Big Cheese                Liz Nixon   \n",
      "77      THECR                       The Cracker Box                 Liu Wong   \n",
      "78      TOMSP                    Toms Spezialitäten            Karin Josephs   \n",
      "79      TORTU                   Tortuga Restaurante     Miguel Angel Paolino   \n",
      "80      TRADH                Tradição Hipermercados        Anabela Domingues   \n",
      "81      TRAIH     Trail's Head Gourmet Provisioners           Helvetius Nagy   \n",
      "82      VAFFE                          Vaffeljernet              Palle Ibsen   \n",
      "83      VICTE                  Victuailles en stock             Mary Saveley   \n",
      "84      VINET             Vins et alcools Chevalier             Paul Henriot   \n",
      "85      WANDK                     Die Wandernde Kuh              Rita Müller   \n",
      "86      WARTH                        Wartian Herkku         Pirkko Koskitalo   \n",
      "87      WELLI                Wellington Importadora            Paula Parente   \n",
      "88      WHITC                  White Clover Markets           Karl Jablonski   \n",
      "89      WILMK                           Wilman Kala          Matti Karttunen   \n",
      "90      WOLZA                        Wolski  Zajazd  Zbyszek Piestrzeniewicz   \n",
      "\n",
      "                      contacttitle             city         region postalcode  \\\n",
      "0             Sales Representative           Berlin            NaN      12209   \n",
      "1                            Owner      México D.F.            NaN      05021   \n",
      "2                            Owner      México D.F.            NaN      05023   \n",
      "3             Sales Representative           London            NaN    WA1 1DP   \n",
      "4              Order Administrator            Luleå            NaN   S-958 22   \n",
      "5             Sales Representative         Mannheim            NaN      68306   \n",
      "6                Marketing Manager       Strasbourg            NaN      67000   \n",
      "7                            Owner           Madrid            NaN      28023   \n",
      "8                            Owner        Marseille            NaN      13008   \n",
      "9               Accounting Manager        Tsawassen             BC    T2F 8M4   \n",
      "10            Sales Representative           London            NaN    EC2 5NT   \n",
      "11                     Sales Agent     Buenos Aires            NaN       1010   \n",
      "12               Marketing Manager      México D.F.            NaN      05022   \n",
      "13                           Owner             Bern            NaN       3012   \n",
      "14                 Sales Associate        Sao Paulo             SP  05432-043   \n",
      "15            Sales Representative           London            NaN    WX1 6LT   \n",
      "16             Order Administrator           Aachen            NaN      52066   \n",
      "17                           Owner           Nantes            NaN      44000   \n",
      "18                     Sales Agent           London            NaN    WX3 6FW   \n",
      "19                   Sales Manager             Graz            NaN       8010   \n",
      "20             Marketing Assistant        Sao Paulo             SP  05442-030   \n",
      "21              Accounting Manager           Madrid            NaN      28034   \n",
      "22           Assistant Sales Agent            Lille            NaN      59000   \n",
      "23                           Owner           Bräcke            NaN   S-844 67   \n",
      "24               Marketing Manager          München            NaN      80805   \n",
      "25               Marketing Manager           Nantes            NaN      44000   \n",
      "26            Sales Representative           Torino            NaN      10100   \n",
      "27                   Sales Manager           Lisboa            NaN       1675   \n",
      "28               Marketing Manager        Barcelona            NaN      08022   \n",
      "29                   Sales Manager          Sevilla            NaN      41101   \n",
      "30                 Sales Associate         Campinas             SP  04876-786   \n",
      "31               Marketing Manager           Eugene             OR      97403   \n",
      "32                           Owner          Caracas             DF       1081   \n",
      "33              Accounting Manager   Rio de Janeiro             RJ  05454-876   \n",
      "34            Sales Representative    San Cristóbal        Táchira       5022   \n",
      "35            Sales Representative            Elgin             OR      97827   \n",
      "36                 Sales Associate             Cork       Co. Cork        NaN   \n",
      "37               Marketing Manager            Cowes  Isle of Wight   PO31 7PJ   \n",
      "38                 Sales Associate      Brandenburg            NaN      14776   \n",
      "39            Sales Representative       Versailles            NaN      78000   \n",
      "40                   Sales Manager         Toulouse            NaN      31000   \n",
      "41             Marketing Assistant        Vancouver             BC    V3F 2K1   \n",
      "42               Marketing Manager      Walla Walla             WA      99362   \n",
      "43            Sales Representative   Frankfurt a.M.            NaN      60528   \n",
      "44                           Owner    San Francisco             CA      94117   \n",
      "45              Accounting Manager     Barquisimeto           Lara       3508   \n",
      "46                           Owner  I. de Margarita  Nueva Esparta       4980   \n",
      "47                   Sales Manager         Portland             OR      97219   \n",
      "48               Marketing Manager          Bergamo            NaN      24100   \n",
      "49                     Sales Agent        Bruxelles            NaN     B-1180   \n",
      "50             Marketing Assistant         Montréal         Québec    H1J 1C3   \n",
      "51             Marketing Assistant          Leipzig            NaN      04179   \n",
      "52                 Sales Associate           London            NaN    SW7 1RZ   \n",
      "53                     Sales Agent     Buenos Aires            NaN       1010   \n",
      "54            Sales Representative        Anchorage             AK      99508   \n",
      "55                           Owner             Köln            NaN      50739   \n",
      "56                           Owner            Paris            NaN      75012   \n",
      "57            Sales Representative      México D.F.            NaN      05033   \n",
      "58                   Sales Manager         Salzburg            NaN       5020   \n",
      "59            Sales Representative           Lisboa            NaN       1756   \n",
      "60              Accounting Manager   Rio de Janeiro             RJ  02389-673   \n",
      "61             Marketing Assistant        Sao Paulo             SP  05487-020   \n",
      "62              Accounting Manager        Cunewalde            NaN      01307   \n",
      "63            Sales Representative     Buenos Aires            NaN       1010   \n",
      "64  Assistant Sales Representative      Albuquerque             NM      87110   \n",
      "65                 Sales Associate    Reggio Emilia            NaN      42100   \n",
      "66           Assistant Sales Agent   Rio de Janeiro             RJ  02389-890   \n",
      "67                   Sales Manager           Genève            NaN       1203   \n",
      "68              Accounting Manager           Madrid            NaN      28001   \n",
      "69                           Owner          Stavern            NaN       4110   \n",
      "70            Sales Representative            Boise             ID      83720   \n",
      "71                   Sales Manager           London            NaN   OX15 4NB   \n",
      "72                           Owner        Kobenhavn            NaN       1734   \n",
      "73               Marketing Manager            Paris            NaN      75016   \n",
      "74                   Sales Manager           Lander             WY      82520   \n",
      "75              Accounting Manager        Charleroi            NaN     B-6000   \n",
      "76               Marketing Manager         Portland             OR      97201   \n",
      "77             Marketing Assistant            Butte             MT      59801   \n",
      "78               Marketing Manager          Münster            NaN      44087   \n",
      "79                           Owner      México D.F.            NaN      05033   \n",
      "80            Sales Representative        Sao Paulo             SP  05634-030   \n",
      "81                 Sales Associate         Kirkland             WA      98034   \n",
      "82                   Sales Manager            Århus            NaN       8200   \n",
      "83                     Sales Agent             Lyon            NaN      69004   \n",
      "84              Accounting Manager            Reims            NaN      51100   \n",
      "85            Sales Representative        Stuttgart            NaN      70563   \n",
      "86              Accounting Manager             Oulu            NaN      90110   \n",
      "87                   Sales Manager          Resende             SP  08737-363   \n",
      "88                           Owner          Seattle             WA      98128   \n",
      "89       Owner/Marketing Assistant         Helsinki            NaN      21240   \n",
      "90                           Owner         Warszawa            NaN     01-012   \n",
      "\n",
      "        country              phone                fax  \n",
      "0       Germany        030-0074321        030-0076545  \n",
      "1        Mexico       (5) 555-4729       (5) 555-3745  \n",
      "2        Mexico       (5) 555-3932                NaN  \n",
      "3            UK     (171) 555-7788     (171) 555-6750  \n",
      "4        Sweden      0921-12 34 65      0921-12 34 67  \n",
      "5       Germany         0621-08460         0621-08924  \n",
      "6        France        88.60.15.31        88.60.15.32  \n",
      "7         Spain     (91) 555 22 82     (91) 555 91 99  \n",
      "8        France        91.24.45.40        91.24.45.41  \n",
      "9        Canada     (604) 555-4729     (604) 555-3745  \n",
      "10           UK     (171) 555-1212                NaN  \n",
      "11    Argentina       (1) 135-5555       (1) 135-4892  \n",
      "12       Mexico       (5) 555-3392       (5) 555-7293  \n",
      "13  Switzerland        0452-076545                NaN  \n",
      "14       Brazil      (11) 555-7647                NaN  \n",
      "15           UK     (171) 555-2282     (171) 555-9199  \n",
      "16      Germany        0241-039123        0241-059428  \n",
      "17       France        40.67.88.88        40.67.89.89  \n",
      "18           UK     (171) 555-0297     (171) 555-3373  \n",
      "19      Austria          7675-3425          7675-3426  \n",
      "20       Brazil      (11) 555-9857                NaN  \n",
      "21        Spain     (91) 555 94 44     (91) 555 55 93  \n",
      "22       France        20.16.10.16        20.16.10.17  \n",
      "23       Sweden      0695-34 67 21                NaN  \n",
      "24      Germany        089-0877310        089-0877451  \n",
      "25       France        40.32.21.21        40.32.21.20  \n",
      "26        Italy        011-4988260        011-4988261  \n",
      "27     Portugal       (1) 354-2534       (1) 354-2535  \n",
      "28        Spain      (93) 203 4560      (93) 203 4561  \n",
      "29        Spain     (95) 555 82 82                NaN  \n",
      "30       Brazil      (11) 555-9482                NaN  \n",
      "31          USA     (503) 555-7555                NaN  \n",
      "32    Venezuela       (2) 283-2951       (2) 283-3397  \n",
      "33       Brazil      (21) 555-0091      (21) 555-8765  \n",
      "34    Venezuela       (5) 555-1340       (5) 555-1948  \n",
      "35          USA     (503) 555-6874     (503) 555-2376  \n",
      "36      Ireland           2967 542          2967 3333  \n",
      "37           UK     (198) 555-8888                NaN  \n",
      "38      Germany         0555-09876                NaN  \n",
      "39       France        30.59.84.10        30.59.85.11  \n",
      "40       France        61.77.61.10        61.77.61.11  \n",
      "41       Canada     (604) 555-3392     (604) 555-7293  \n",
      "42          USA     (509) 555-7969     (509) 555-6221  \n",
      "43      Germany        069-0245984        069-0245874  \n",
      "44          USA     (415) 555-5938                NaN  \n",
      "45    Venezuela       (9) 331-6954       (9) 331-7256  \n",
      "46    Venezuela       (8) 34-56-12       (8) 34-93-93  \n",
      "47          USA     (503) 555-9573     (503) 555-9646  \n",
      "48        Italy         035-640230         035-640231  \n",
      "49      Belgium     (02) 201 24 67     (02) 201 24 68  \n",
      "50       Canada     (514) 555-8054     (514) 555-8055  \n",
      "51      Germany        0342-023176                NaN  \n",
      "52           UK     (171) 555-7733     (171) 555-2530  \n",
      "53    Argentina       (1) 135-5333       (1) 135-5535  \n",
      "54          USA     (907) 555-7584     (907) 555-2880  \n",
      "55      Germany       0221-0644327       0221-0765721  \n",
      "56       France    (1) 42.34.22.66    (1) 42.34.22.77  \n",
      "57       Mexico       (5) 552-3745       (5) 545-3745  \n",
      "58      Austria          6562-9722          6562-9723  \n",
      "59     Portugal       (1) 356-5634                NaN  \n",
      "60       Brazil      (21) 555-4252      (21) 555-4545  \n",
      "61       Brazil      (11) 555-1189                NaN  \n",
      "62      Germany        0372-035188                NaN  \n",
      "63    Argentina       (1) 123-5555       (1) 123-5556  \n",
      "64          USA     (505) 555-5939     (505) 555-3620  \n",
      "65        Italy        0522-556721        0522-556722  \n",
      "66       Brazil      (21) 555-3412                NaN  \n",
      "67  Switzerland        0897-034214                NaN  \n",
      "68        Spain      (91) 745 6200      (91) 745 6210  \n",
      "69       Norway        07-98 92 35        07-98 92 47  \n",
      "70          USA     (208) 555-8097                NaN  \n",
      "71           UK     (171) 555-1717     (171) 555-5646  \n",
      "72      Denmark        31 12 34 56        31 13 35 57  \n",
      "73       France    (1) 47.55.60.10    (1) 47.55.60.20  \n",
      "74          USA     (307) 555-4680     (307) 555-6525  \n",
      "75      Belgium  (071) 23 67 22 20  (071) 23 67 22 21  \n",
      "76          USA     (503) 555-3612                NaN  \n",
      "77          USA     (406) 555-5834     (406) 555-8083  \n",
      "78      Germany        0251-031259        0251-035695  \n",
      "79       Mexico       (5) 555-2933                NaN  \n",
      "80       Brazil      (11) 555-2167      (11) 555-2168  \n",
      "81          USA     (206) 555-8257     (206) 555-2174  \n",
      "82      Denmark        86 21 32 43        86 22 33 44  \n",
      "83       France        78.32.54.86        78.32.54.87  \n",
      "84       France        26.47.15.10        26.47.15.11  \n",
      "85      Germany        0711-020361        0711-035428  \n",
      "86      Finland         981-443655         981-443655  \n",
      "87       Brazil      (14) 555-8122                NaN  \n",
      "88          USA     (206) 555-4112     (206) 555-4115  \n",
      "89      Finland        90-224 8858        90-224 8858  \n",
      "90       Poland      (26) 642-7012      (26) 642-7012  \n"
     ]
    }
   ],
   "source": [
    "print(df) \n",
    "#burada sağa scrol atınca az kolon çıktı çünkü to string methodunun birleştrimesi yapılmadı"
   ]
  },
  {
   "cell_type": "markdown",
   "metadata": {},
   "source": [
    "pandas kuralları değiştirilebilir"
   ]
  },
  {
   "cell_type": "code",
   "execution_count": 26,
   "metadata": {},
   "outputs": [
    {
     "name": "stdout",
     "output_type": "stream",
     "text": [
      "   customerid          companyname              contactname  \\\n",
      "0       ALFKI  Alfreds Futterkiste             Maria Anders   \n",
      "..        ...                  ...                      ...   \n",
      "90      WOLZA       Wolski  Zajazd  Zbyszek Piestrzeniewicz   \n",
      "\n",
      "            contacttitle      city region postalcode  country          phone  \\\n",
      "0   Sales Representative    Berlin    NaN      12209  Germany    030-0074321   \n",
      "..                   ...       ...    ...        ...      ...            ...   \n",
      "90                 Owner  Warszawa    NaN     01-012   Poland  (26) 642-7012   \n",
      "\n",
      "              fax  \n",
      "0     030-0076545  \n",
      "..            ...  \n",
      "90  (26) 642-7012  \n",
      "\n",
      "[91 rows x 10 columns]\n"
     ]
    }
   ],
   "source": [
    "import pandas as pd\n",
    "pd.options.display.max_rows = 2\n",
    "print(df)\n",
    "# iki satırın datası gözüküyor"
   ]
  },
  {
   "cell_type": "code",
   "execution_count": 27,
   "metadata": {},
   "outputs": [
    {
     "name": "stdout",
     "output_type": "stream",
     "text": [
      "   customerid                           companyname              contactname                    contacttitle             city         region postalcode      country              phone                fax\n",
      "0       ALFKI                   Alfreds Futterkiste             Maria Anders            Sales Representative           Berlin            NaN      12209      Germany        030-0074321        030-0076545\n",
      "1       ANATR    Ana Trujillo Emparedados y helados             Ana Trujillo                           Owner      México D.F.            NaN      05021       Mexico       (5) 555-4729       (5) 555-3745\n",
      "2       ANTON               Antonio Moreno Taquería           Antonio Moreno                           Owner      México D.F.            NaN      05023       Mexico       (5) 555-3932                NaN\n",
      "3       AROUT                       Around the Horn             Thomas Hardy            Sales Representative           London            NaN    WA1 1DP           UK     (171) 555-7788     (171) 555-6750\n",
      "4       BERGS                    Berglunds snabbköp       Christina Berglund             Order Administrator            Luleå            NaN   S-958 22       Sweden      0921-12 34 65      0921-12 34 67\n",
      "5       BLAUS               Blauer See Delikatessen               Hanna Moos            Sales Representative         Mannheim            NaN      68306      Germany         0621-08460         0621-08924\n",
      "6       BLONP              Blondesddsl père et fils       Frédérique Citeaux               Marketing Manager       Strasbourg            NaN      67000       France        88.60.15.31        88.60.15.32\n",
      "7       BOLID             Bólido Comidas preparadas            Martín Sommer                           Owner           Madrid            NaN      28023        Spain     (91) 555 22 82     (91) 555 91 99\n",
      "8       BONAP                              Bon app'         Laurence Lebihan                           Owner        Marseille            NaN      13008       France        91.24.45.40        91.24.45.41\n",
      "9       BOTTM                 Bottom-Dollar Markets        Elizabeth Lincoln              Accounting Manager        Tsawassen             BC    T2F 8M4       Canada     (604) 555-4729     (604) 555-3745\n",
      "10      BSBEV                         B's Beverages        Victoria Ashworth            Sales Representative           London            NaN    EC2 5NT           UK     (171) 555-1212                NaN\n",
      "11      CACTU            Cactus Comidas para llevar         Patricio Simpson                     Sales Agent     Buenos Aires            NaN       1010    Argentina       (1) 135-5555       (1) 135-4892\n",
      "12      CENTC            Centro comercial Moctezuma          Francisco Chang               Marketing Manager      México D.F.            NaN      05022       Mexico       (5) 555-3392       (5) 555-7293\n",
      "13      CHOPS                     Chop-suey Chinese                Yang Wang                           Owner             Bern            NaN       3012  Switzerland        0452-076545                NaN\n",
      "14      COMMI                      Comércio Mineiro             Pedro Afonso                 Sales Associate        Sao Paulo             SP  05432-043       Brazil      (11) 555-7647                NaN\n",
      "15      CONSH                 Consolidated Holdings          Elizabeth Brown            Sales Representative           London            NaN    WX1 6LT           UK     (171) 555-2282     (171) 555-9199\n",
      "16      DRACD              Drachenblut Delikatessen             Sven Ottlieb             Order Administrator           Aachen            NaN      52066      Germany        0241-039123        0241-059428\n",
      "17      DUMON                       Du monde entier           Janine Labrune                           Owner           Nantes            NaN      44000       France        40.67.88.88        40.67.89.89\n",
      "18      EASTC                    Eastern Connection                Ann Devon                     Sales Agent           London            NaN    WX3 6FW           UK     (171) 555-0297     (171) 555-3373\n",
      "19      ERNSH                          Ernst Handel            Roland Mendel                   Sales Manager             Graz            NaN       8010      Austria          7675-3425          7675-3426\n",
      "20      FAMIA                    Familia Arquibaldo                Aria Cruz             Marketing Assistant        Sao Paulo             SP  05442-030       Brazil      (11) 555-9857                NaN\n",
      "21      FISSA  FISSA Fabrica Inter. Salchichas S.A.               Diego Roel              Accounting Manager           Madrid            NaN      28034        Spain     (91) 555 94 44     (91) 555 55 93\n",
      "22      FOLIG                     Folies gourmandes            Martine Rancé           Assistant Sales Agent            Lille            NaN      59000       France        20.16.10.16        20.16.10.17\n",
      "23      FOLKO                        Folk och fä HB            Maria Larsson                           Owner           Bräcke            NaN   S-844 67       Sweden      0695-34 67 21                NaN\n",
      "24      FRANK                        Frankenversand            Peter Franken               Marketing Manager          München            NaN      80805      Germany        089-0877310        089-0877451\n",
      "25      FRANR                   France restauration           Carine Schmitt               Marketing Manager           Nantes            NaN      44000       France        40.32.21.21        40.32.21.20\n",
      "26      FRANS                        Franchi S.p.A.            Paolo Accorti            Sales Representative           Torino            NaN      10100        Italy        011-4988260        011-4988261\n",
      "27      FURIB        Furia Bacalhau e Frutos do Mar           Lino Rodriguez                   Sales Manager           Lisboa            NaN       1675     Portugal       (1) 354-2534       (1) 354-2535\n",
      "28      GALED                Galería del gastrónomo         Eduardo Saavedra               Marketing Manager        Barcelona            NaN      08022        Spain      (93) 203 4560      (93) 203 4561\n",
      "29      GODOS                   Godos Cocina Típica        José Pedro Freyre                   Sales Manager          Sevilla            NaN      41101        Spain     (95) 555 82 82                NaN\n",
      "30      GOURL                   Gourmet Lanchonetes            André Fonseca                 Sales Associate         Campinas             SP  04876-786       Brazil      (11) 555-9482                NaN\n",
      "31      GREAL               Great Lakes Food Market            Howard Snyder               Marketing Manager           Eugene             OR      97403          USA     (503) 555-7555                NaN\n",
      "32      GROSR                  GROSELLA-Restaurante           Manuel Pereira                           Owner          Caracas             DF       1081    Venezuela       (2) 283-2951       (2) 283-3397\n",
      "33      HANAR                         Hanari Carnes             Mario Pontes              Accounting Manager   Rio de Janeiro             RJ  05454-876       Brazil      (21) 555-0091      (21) 555-8765\n",
      "34      HILAA                      HILARION-Abastos         Carlos Hernández            Sales Representative    San Cristóbal        Táchira       5022    Venezuela       (5) 555-1340       (5) 555-1948\n",
      "35      HUNGC            Hungry Coyote Import Store            Yoshi Latimer            Sales Representative            Elgin             OR      97827          USA     (503) 555-6874     (503) 555-2376\n",
      "36      HUNGO          Hungry Owl All-Night Grocers         Patricia McKenna                 Sales Associate             Cork       Co. Cork        NaN      Ireland           2967 542          2967 3333\n",
      "37      ISLAT                        Island Trading            Helen Bennett               Marketing Manager            Cowes  Isle of Wight   PO31 7PJ           UK     (198) 555-8888                NaN\n",
      "38      KOENE                       Königlich Essen            Philip Cramer                 Sales Associate      Brandenburg            NaN      14776      Germany         0555-09876                NaN\n",
      "39      LACOR                  La corne d'abondance            Daniel Tonini            Sales Representative       Versailles            NaN      78000       France        30.59.84.10        30.59.85.11\n",
      "40      LAMAI                      La maison d'Asie           Annette Roulet                   Sales Manager         Toulouse            NaN      31000       France        61.77.61.10        61.77.61.11\n",
      "41      LAUGB         Laughing Bacchus Wine Cellars          Yoshi Tannamuri             Marketing Assistant        Vancouver             BC    V3F 2K1       Canada     (604) 555-3392     (604) 555-7293\n",
      "42      LAZYK                  Lazy K Kountry Store               John Steel               Marketing Manager      Walla Walla             WA      99362          USA     (509) 555-7969     (509) 555-6221\n",
      "43      LEHMS                   Lehmanns Marktstand           Renate Messner            Sales Representative   Frankfurt a.M.            NaN      60528      Germany        069-0245984        069-0245874\n",
      "44      LETSS                     Let's Stop N Shop             Jaime Yorres                           Owner    San Francisco             CA      94117          USA     (415) 555-5938                NaN\n",
      "45      LILAS                     LILA-Supermercado          Carlos González              Accounting Manager     Barquisimeto           Lara       3508    Venezuela       (9) 331-6954       (9) 331-7256\n",
      "46      LINOD                      LINO-Delicateses         Felipe Izquierdo                           Owner  I. de Margarita  Nueva Esparta       4980    Venezuela       (8) 34-56-12       (8) 34-93-93\n",
      "47      LONEP              Lonesome Pine Restaurant              Fran Wilson                   Sales Manager         Portland             OR      97219          USA     (503) 555-9573     (503) 555-9646\n",
      "48      MAGAA          Magazzini Alimentari Riuniti         Giovanni Rovelli               Marketing Manager          Bergamo            NaN      24100        Italy         035-640230         035-640231\n",
      "49      MAISD                          Maison Dewey          Catherine Dewey                     Sales Agent        Bruxelles            NaN     B-1180      Belgium     (02) 201 24 67     (02) 201 24 68\n",
      "50      MEREP                        Mère Paillarde           Jean Fresnière             Marketing Assistant         Montréal         Québec    H1J 1C3       Canada     (514) 555-8054     (514) 555-8055\n",
      "51      MORGK                Morgenstern Gesundkost          Alexander Feuer             Marketing Assistant          Leipzig            NaN      04179      Germany        0342-023176                NaN\n",
      "52      NORTS                           North/South           Simon Crowther                 Sales Associate           London            NaN    SW7 1RZ           UK     (171) 555-7733     (171) 555-2530\n",
      "53      OCEAN                Océano Atlántico Ltda.           Yvonne Moncada                     Sales Agent     Buenos Aires            NaN       1010    Argentina       (1) 135-5333       (1) 135-5535\n",
      "54      OLDWO                Old World Delicatessen            Rene Phillips            Sales Representative        Anchorage             AK      99508          USA     (907) 555-7584     (907) 555-2880\n",
      "55      OTTIK                    Ottilies Käseladen      Henriette Pfalzheim                           Owner             Köln            NaN      50739      Germany       0221-0644327       0221-0765721\n",
      "56      PARIS                     Paris spécialités           Marie Bertrand                           Owner            Paris            NaN      75012       France    (1) 42.34.22.66    (1) 42.34.22.77\n",
      "57      PERIC             Pericles Comidas clásicas      Guillermo Fernández            Sales Representative      México D.F.            NaN      05033       Mexico       (5) 552-3745       (5) 545-3745\n",
      "58      PICCO                      Piccolo und mehr              Georg Pipps                   Sales Manager         Salzburg            NaN       5020      Austria          6562-9722          6562-9723\n",
      "59      PRINI                Princesa Isabel Vinhos         Isabel de Castro            Sales Representative           Lisboa            NaN       1756     Portugal       (1) 356-5634                NaN\n",
      "60      QUEDE                           Que Delícia         Bernardo Batista              Accounting Manager   Rio de Janeiro             RJ  02389-673       Brazil      (21) 555-4252      (21) 555-4545\n",
      "61      QUEEN                         Queen Cozinha           Lúcia Carvalho             Marketing Assistant        Sao Paulo             SP  05487-020       Brazil      (11) 555-1189                NaN\n",
      "62      QUICK                            QUICK-Stop              Horst Kloss              Accounting Manager        Cunewalde            NaN      01307      Germany        0372-035188                NaN\n",
      "63      RANCH                         Rancho grande         Sergio Gutiérrez            Sales Representative     Buenos Aires            NaN       1010    Argentina       (1) 123-5555       (1) 123-5556\n",
      "64      RATTC            Rattlesnake Canyon Grocery             Paula Wilson  Assistant Sales Representative      Albuquerque             NM      87110          USA     (505) 555-5939     (505) 555-3620\n",
      "65      REGGC                    Reggiani Caseifici          Maurizio Moroni                 Sales Associate    Reggio Emilia            NaN      42100        Italy        0522-556721        0522-556722\n",
      "66      RICAR                    Ricardo Adocicados           Janete Limeira           Assistant Sales Agent   Rio de Janeiro             RJ  02389-890       Brazil      (21) 555-3412                NaN\n",
      "67      RICSU                    Richter Supermarkt             Michael Holz                   Sales Manager           Genève            NaN       1203  Switzerland        0897-034214                NaN\n",
      "68      ROMEY                      Romero y tomillo         Alejandra Camino              Accounting Manager           Madrid            NaN      28001        Spain      (91) 745 6200      (91) 745 6210\n",
      "69      SANTG                         Santé Gourmet         Jonas Bergulfsen                           Owner          Stavern            NaN       4110       Norway        07-98 92 35        07-98 92 47\n",
      "70      SAVEA                    Save-a-lot Markets           Jose Pavarotti            Sales Representative            Boise             ID      83720          USA     (208) 555-8097                NaN\n",
      "71      SEVES                    Seven Seas Imports               Hari Kumar                   Sales Manager           London            NaN   OX15 4NB           UK     (171) 555-1717     (171) 555-5646\n",
      "72      SIMOB                         Simons bistro           Jytte Petersen                           Owner        Kobenhavn            NaN       1734      Denmark        31 12 34 56        31 13 35 57\n",
      "73      SPECD                  Spécialités du monde        Dominique Perrier               Marketing Manager            Paris            NaN      75016       France    (1) 47.55.60.10    (1) 47.55.60.20\n",
      "74      SPLIR                 Split Rail Beer & Ale       Art Braunschweiger                   Sales Manager           Lander             WY      82520          USA     (307) 555-4680     (307) 555-6525\n",
      "75      SUPRD                      Suprêmes délices         Pascale Cartrain              Accounting Manager        Charleroi            NaN     B-6000      Belgium  (071) 23 67 22 20  (071) 23 67 22 21\n",
      "76      THEBI                        The Big Cheese                Liz Nixon               Marketing Manager         Portland             OR      97201          USA     (503) 555-3612                NaN\n",
      "77      THECR                       The Cracker Box                 Liu Wong             Marketing Assistant            Butte             MT      59801          USA     (406) 555-5834     (406) 555-8083\n",
      "78      TOMSP                    Toms Spezialitäten            Karin Josephs               Marketing Manager          Münster            NaN      44087      Germany        0251-031259        0251-035695\n",
      "79      TORTU                   Tortuga Restaurante     Miguel Angel Paolino                           Owner      México D.F.            NaN      05033       Mexico       (5) 555-2933                NaN\n",
      "80      TRADH                Tradição Hipermercados        Anabela Domingues            Sales Representative        Sao Paulo             SP  05634-030       Brazil      (11) 555-2167      (11) 555-2168\n",
      "81      TRAIH     Trail's Head Gourmet Provisioners           Helvetius Nagy                 Sales Associate         Kirkland             WA      98034          USA     (206) 555-8257     (206) 555-2174\n",
      "82      VAFFE                          Vaffeljernet              Palle Ibsen                   Sales Manager            Århus            NaN       8200      Denmark        86 21 32 43        86 22 33 44\n",
      "83      VICTE                  Victuailles en stock             Mary Saveley                     Sales Agent             Lyon            NaN      69004       France        78.32.54.86        78.32.54.87\n",
      "84      VINET             Vins et alcools Chevalier             Paul Henriot              Accounting Manager            Reims            NaN      51100       France        26.47.15.10        26.47.15.11\n",
      "85      WANDK                     Die Wandernde Kuh              Rita Müller            Sales Representative        Stuttgart            NaN      70563      Germany        0711-020361        0711-035428\n",
      "86      WARTH                        Wartian Herkku         Pirkko Koskitalo              Accounting Manager             Oulu            NaN      90110      Finland         981-443655         981-443655\n",
      "87      WELLI                Wellington Importadora            Paula Parente                   Sales Manager          Resende             SP  08737-363       Brazil      (14) 555-8122                NaN\n",
      "88      WHITC                  White Clover Markets           Karl Jablonski                           Owner          Seattle             WA      98128          USA     (206) 555-4112     (206) 555-4115\n",
      "89      WILMK                           Wilman Kala          Matti Karttunen       Owner/Marketing Assistant         Helsinki            NaN      21240      Finland        90-224 8858        90-224 8858\n",
      "90      WOLZA                        Wolski  Zajazd  Zbyszek Piestrzeniewicz                           Owner         Warszawa            NaN     01-012       Poland      (26) 642-7012      (26) 642-7012\n"
     ]
    }
   ],
   "source": [
    "import pandas as pd\n",
    "pd.options.display.max_rows = 2\n",
    "print(df.to_string())\n",
    "# stringe çevirince row display olmadığı için söz geçremezsim"
   ]
  },
  {
   "cell_type": "markdown",
   "metadata": {},
   "source": [
    "# JSON dosyları"
   ]
  },
  {
   "cell_type": "code",
   "execution_count": 29,
   "metadata": {},
   "outputs": [
    {
     "name": "stdout",
     "output_type": "stream",
     "text": [
      "     Duration  Pulse  Maxpulse  Calories\n",
      "0          60    110       130     409.1\n",
      "1          60    117       145     479.0\n",
      "2          60    103       135     340.0\n",
      "3          45    109       175     282.4\n",
      "4          45    117       148     406.0\n",
      "5          60    102       127     300.5\n",
      "6          60    110       136     374.0\n",
      "7          45    104       134     253.3\n",
      "8          30    109       133     195.1\n",
      "9          60     98       124     269.0\n",
      "10         60    103       147     329.3\n",
      "11         60    100       120     250.7\n",
      "12         60    106       128     345.3\n",
      "13         60    104       132     379.3\n",
      "14         60     98       123     275.0\n",
      "15         60     98       120     215.2\n",
      "16         60    100       120     300.0\n",
      "17         45     90       112       NaN\n",
      "18         60    103       123     323.0\n",
      "19         45     97       125     243.0\n",
      "20         60    108       131     364.2\n",
      "21         45    100       119     282.0\n",
      "22         60    130       101     300.0\n",
      "23         45    105       132     246.0\n",
      "24         60    102       126     334.5\n",
      "25         60    100       120     250.0\n",
      "26         60     92       118     241.0\n",
      "27         60    103       132       NaN\n",
      "28         60    100       132     280.0\n",
      "29         60    102       129     380.3\n",
      "30         60     92       115     243.0\n",
      "31         45     90       112     180.1\n",
      "32         60    101       124     299.0\n",
      "33         60     93       113     223.0\n",
      "34         60    107       136     361.0\n",
      "35         60    114       140     415.0\n",
      "36         60    102       127     300.5\n",
      "37         60    100       120     300.1\n",
      "38         60    100       120     300.0\n",
      "39         45    104       129     266.0\n",
      "40         45     90       112     180.1\n",
      "41         60     98       126     286.0\n",
      "42         60    100       122     329.4\n",
      "43         60    111       138     400.0\n",
      "44         60    111       131     397.0\n",
      "45         60     99       119     273.0\n",
      "46         60    109       153     387.6\n",
      "47         45    111       136     300.0\n",
      "48         45    108       129     298.0\n",
      "49         60    111       139     397.6\n",
      "50         60    107       136     380.2\n",
      "51         80    123       146     643.1\n",
      "52         60    106       130     263.0\n",
      "53         60    118       151     486.0\n",
      "54         30    136       175     238.0\n",
      "55         60    121       146     450.7\n",
      "56         60    118       121     413.0\n",
      "57         45    115       144     305.0\n",
      "58         20    153       172     226.4\n",
      "59         45    123       152     321.0\n",
      "60        210    108       160    1376.0\n",
      "61        160    110       137    1034.4\n",
      "62        160    109       135     853.0\n",
      "63         45    118       141     341.0\n",
      "64         20    110       130     131.4\n",
      "65        180     90       130     800.4\n",
      "66        150    105       135     873.4\n",
      "67        150    107       130     816.0\n",
      "68         20    106       136     110.4\n",
      "69        300    108       143    1500.2\n",
      "70        150     97       129    1115.0\n",
      "71         60    109       153     387.6\n",
      "72         90    100       127     700.0\n",
      "73        150     97       127     953.2\n",
      "74         45    114       146     304.0\n",
      "75         90     98       125     563.2\n",
      "76         45    105       134     251.0\n",
      "77         45    110       141     300.0\n",
      "78        120    100       130     500.4\n",
      "79        270    100       131    1729.0\n",
      "80         30    159       182     319.2\n",
      "81         45    149       169     344.0\n",
      "82         30    103       139     151.1\n",
      "83        120    100       130     500.0\n",
      "84         45    100       120     225.3\n",
      "85         30    151       170     300.1\n",
      "86         45    102       136     234.0\n",
      "87        120    100       157    1000.1\n",
      "88         45    129       103     242.0\n",
      "89         20     83       107      50.3\n",
      "90        180    101       127     600.1\n",
      "91         45    107       137       NaN\n",
      "92         30     90       107     105.3\n",
      "93         15     80       100      50.5\n",
      "94         20    150       171     127.4\n",
      "95         20    151       168     229.4\n",
      "96         30     95       128     128.2\n",
      "97         25    152       168     244.2\n",
      "98         30    109       131     188.2\n",
      "99         90     93       124     604.1\n",
      "100        20     95       112      77.7\n",
      "101        90     90       110     500.0\n",
      "102        90     90       100     500.0\n",
      "103        90     90       100     500.4\n",
      "104        30     92       108      92.7\n",
      "105        30     93       128     124.0\n",
      "106       180     90       120     800.3\n",
      "107        30     90       120      86.2\n",
      "108        90     90       120     500.3\n",
      "109       210    137       184    1860.4\n",
      "110        60    102       124     325.2\n",
      "111        45    107       124     275.0\n",
      "112        15    124       139     124.2\n",
      "113        45    100       120     225.3\n",
      "114        60    108       131     367.6\n",
      "115        60    108       151     351.7\n",
      "116        60    116       141     443.0\n",
      "117        60     97       122     277.4\n",
      "118        60    105       125       NaN\n",
      "119        60    103       124     332.7\n",
      "120        30    112       137     193.9\n",
      "121        45    100       120     100.7\n",
      "122        60    119       169     336.7\n",
      "123        60    107       127     344.9\n",
      "124        60    111       151     368.5\n",
      "125        60     98       122     271.0\n",
      "126        60     97       124     275.3\n",
      "127        60    109       127     382.0\n",
      "128        90     99       125     466.4\n",
      "129        60    114       151     384.0\n",
      "130        60    104       134     342.5\n",
      "131        60    107       138     357.5\n",
      "132        60    103       133     335.0\n",
      "133        60    106       132     327.5\n",
      "134        60    103       136     339.0\n",
      "135        20    136       156     189.0\n",
      "136        45    117       143     317.7\n",
      "137        45    115       137     318.0\n",
      "138        45    113       138     308.0\n",
      "139        20    141       162     222.4\n",
      "140        60    108       135     390.0\n",
      "141        60     97       127       NaN\n",
      "142        45    100       120     250.4\n",
      "143        45    122       149     335.4\n",
      "144        60    136       170     470.2\n",
      "145        45    106       126     270.8\n",
      "146        60    107       136     400.0\n",
      "147        60    112       146     361.9\n",
      "148        30    103       127     185.0\n",
      "149        60    110       150     409.4\n",
      "150        60    106       134     343.0\n",
      "151        60    109       129     353.2\n",
      "152        60    109       138     374.0\n",
      "153        30    150       167     275.8\n",
      "154        60    105       128     328.0\n",
      "155        60    111       151     368.5\n",
      "156        60     97       131     270.4\n",
      "157        60    100       120     270.4\n",
      "158        60    114       150     382.8\n",
      "159        30     80       120     240.9\n",
      "160        30     85       120     250.4\n",
      "161        45     90       130     260.4\n",
      "162        45     95       130     270.0\n",
      "163        45    100       140     280.9\n",
      "164        60    105       140     290.8\n",
      "165        60    110       145     300.4\n",
      "166        60    115       145     310.2\n",
      "167        75    120       150     320.4\n",
      "168        75    125       150     330.4\n"
     ]
    }
   ],
   "source": [
    "import pandas as pd\n",
    "\n",
    "\n",
    "# read_csv yerine read json dedik\n",
    "df = pd.read_json('dummyJSON\\dummy.json')\n",
    "\n",
    "\n",
    "\n",
    "print(df.to_string()) "
   ]
  },
  {
   "cell_type": "markdown",
   "metadata": {},
   "source": [
    "# Data Analizi"
   ]
  },
  {
   "cell_type": "markdown",
   "metadata": {},
   "source": [
    "datadan kesitler alarak datayı anlamak için metotlar"
   ]
  },
  {
   "cell_type": "code",
   "execution_count": 31,
   "metadata": {},
   "outputs": [
    {
     "name": "stdout",
     "output_type": "stream",
     "text": [
      "  customerid                         companyname         contactname  \\\n",
      "0      ALFKI                 Alfreds Futterkiste        Maria Anders   \n",
      "1      ANATR  Ana Trujillo Emparedados y helados        Ana Trujillo   \n",
      "2      ANTON             Antonio Moreno Taquería      Antonio Moreno   \n",
      "3      AROUT                     Around the Horn        Thomas Hardy   \n",
      "4      BERGS                  Berglunds snabbköp  Christina Berglund   \n",
      "\n",
      "           contacttitle         city region postalcode  country  \\\n",
      "0  Sales Representative       Berlin    NaN      12209  Germany   \n",
      "1                 Owner  México D.F.    NaN      05021   Mexico   \n",
      "2                 Owner  México D.F.    NaN      05023   Mexico   \n",
      "3  Sales Representative       London    NaN    WA1 1DP       UK   \n",
      "4   Order Administrator        Luleå    NaN   S-958 22   Sweden   \n",
      "\n",
      "            phone             fax  \n",
      "0     030-0074321     030-0076545  \n",
      "1    (5) 555-4729    (5) 555-3745  \n",
      "2    (5) 555-3932             NaN  \n",
      "3  (171) 555-7788  (171) 555-6750  \n",
      "4   0921-12 34 65   0921-12 34 67  \n"
     ]
    }
   ],
   "source": [
    "import pandas as pd\n",
    "\n",
    "pd.options.display.max_rows=15 # deafult değer \n",
    "\n",
    "df = pd.read_csv('northwind\\customers.csv')\n",
    "\n",
    "\n",
    "print(df.head()) "
   ]
  },
  {
   "cell_type": "code",
   "execution_count": 32,
   "metadata": {},
   "outputs": [
    {
     "name": "stdout",
     "output_type": "stream",
     "text": [
      "   customerid             companyname              contactname  \\\n",
      "86      WARTH          Wartian Herkku         Pirkko Koskitalo   \n",
      "87      WELLI  Wellington Importadora            Paula Parente   \n",
      "88      WHITC    White Clover Markets           Karl Jablonski   \n",
      "89      WILMK             Wilman Kala          Matti Karttunen   \n",
      "90      WOLZA          Wolski  Zajazd  Zbyszek Piestrzeniewicz   \n",
      "\n",
      "                 contacttitle      city region postalcode  country  \\\n",
      "86         Accounting Manager      Oulu    NaN      90110  Finland   \n",
      "87              Sales Manager   Resende     SP  08737-363   Brazil   \n",
      "88                      Owner   Seattle     WA      98128      USA   \n",
      "89  Owner/Marketing Assistant  Helsinki    NaN      21240  Finland   \n",
      "90                      Owner  Warszawa    NaN     01-012   Poland   \n",
      "\n",
      "             phone             fax  \n",
      "86      981-443655      981-443655  \n",
      "87   (14) 555-8122             NaN  \n",
      "88  (206) 555-4112  (206) 555-4115  \n",
      "89     90-224 8858     90-224 8858  \n",
      "90   (26) 642-7012   (26) 642-7012  \n"
     ]
    }
   ],
   "source": [
    "print(df.tail()) \n",
    "# tail son öğeleri verir"
   ]
  },
  {
   "cell_type": "code",
   "execution_count": 33,
   "metadata": {},
   "outputs": [
    {
     "name": "stdout",
     "output_type": "stream",
     "text": [
      "<class 'pandas.core.frame.DataFrame'>\n",
      "RangeIndex: 91 entries, 0 to 90\n",
      "Data columns (total 10 columns):\n",
      " #   Column        Non-Null Count  Dtype \n",
      "---  ------        --------------  ----- \n",
      " 0   customerid    91 non-null     object\n",
      " 1   companyname   91 non-null     object\n",
      " 2   contactname   91 non-null     object\n",
      " 3   contacttitle  91 non-null     object\n",
      " 4   city          91 non-null     object\n",
      " 5   region        31 non-null     object\n",
      " 6   postalcode    90 non-null     object\n",
      " 7   country       91 non-null     object\n",
      " 8   phone         91 non-null     object\n",
      " 9   fax           69 non-null     object\n",
      "dtypes: object(10)\n",
      "memory usage: 7.2+ KB\n",
      "None\n"
     ]
    }
   ],
   "source": [
    "print(df.info()) \n",
    "#genel özet al"
   ]
  }
 ],
 "metadata": {
  "kernelspec": {
   "display_name": "Python 3",
   "language": "python",
   "name": "python3"
  },
  "language_info": {
   "codemirror_mode": {
    "name": "ipython",
    "version": 3
   },
   "file_extension": ".py",
   "mimetype": "text/x-python",
   "name": "python",
   "nbconvert_exporter": "python",
   "pygments_lexer": "ipython3",
   "version": "3.11.9"
  }
 },
 "nbformat": 4,
 "nbformat_minor": 2
}
