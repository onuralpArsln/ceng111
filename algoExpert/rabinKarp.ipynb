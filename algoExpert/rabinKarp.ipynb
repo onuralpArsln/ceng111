{
 "cells": [
  {
   "cell_type": "markdown",
   "metadata": {},
   "source": [
    "Rabin Karp algoritması bir pattern eşleştirme algoritmasıdır. Biz bu örnekte bir yazının içinde sözcük araması yapacağız. Ancak iki boyutlu bir sinyalde belli bir örüntü aramak gibi daha kompleks işlemlerde de kullanmak mümkündür. Bunu yapmak için , verilen küme (bu örnkete yazı) ve verilen örüntü (bu örnekte aradığımız küçük sözcük) için hash değeri hesaplayacağız. Hash değeri verilen parçaları matematiksel olarak ifade etmemizi sağlar. hash değerleri kıyaslamak tek tek harf kıyaslamaktan daha verimlidir. "
   ]
  },
  {
   "cell_type": "markdown",
   "metadata": {},
   "source": [
    "text = AAAAAAAAAH  9 A ve 1 H  \n",
    "pattern = AAAAAAAAH  8A ve bir H  \n",
    "\n",
    "eğer direkt olarak ilk sırada harf karşılaştırmaya başlarsak 8 tane a eşleştikten sonra A ve H kıyaslayıp eşit olmadığını görecek bir sonraki sıraya geçip kıayslama yapacak ve 9 karşılaştırmadan sonra eşleşmeyi bulacak.\n",
    "\n",
    "Eğer hash hesabı yaparsak her şey daha rahat olur. \n",
    "\n",
    "Peki hash hesabı nedir?\n"
   ]
  },
  {
   "cell_type": "markdown",
   "metadata": {},
   "source": [
    "## karaktere bağlı değerler üretmek "
   ]
  },
  {
   "cell_type": "markdown",
   "metadata": {},
   "source": [
    "Her karakteri belirten sayısal bir değer vardır "
   ]
  },
  {
   "cell_type": "code",
   "execution_count": null,
   "metadata": {},
   "outputs": [],
   "source": [
    "print(ord('A')) "
   ]
  },
  {
   "cell_type": "code",
   "execution_count": null,
   "metadata": {},
   "outputs": [],
   "source": [
    "print(ord('a'))"
   ]
  },
  {
   "cell_type": "code",
   "execution_count": null,
   "metadata": {},
   "outputs": [],
   "source": [
    "print(ord('1')) "
   ]
  },
  {
   "cell_type": "markdown",
   "metadata": {},
   "source": [
    "stringi oluşturan karakterlerin değerini toplamak basit bir hesap çözümü"
   ]
  },
  {
   "cell_type": "code",
   "execution_count": 1,
   "metadata": {},
   "outputs": [],
   "source": [
    "def simple_hash(string):\n",
    "\n",
    "    hash_value = 0\n",
    "    for char in string:\n",
    "        hash_value += ord(char)  #it returns an integer representing the Unicode code of the character passed to it.\n",
    "    return hash_value"
   ]
  },
  {
   "cell_type": "code",
   "execution_count": 2,
   "metadata": {},
   "outputs": [
    {
     "name": "stdout",
     "output_type": "stream",
     "text": [
      "Hash value of 'hello': 532\n"
     ]
    }
   ],
   "source": [
    "input_string = \"hello\"\n",
    "hash_value = simple_hash(input_string)\n",
    "print(\"Hash value of '{}': {}\".format(input_string, hash_value))"
   ]
  },
  {
   "cell_type": "markdown",
   "metadata": {},
   "source": [
    "peki ama bu bize niye yarasın ki? Rolling hash diye bişi yapcaz"
   ]
  },
  {
   "cell_type": "markdown",
   "metadata": {},
   "source": [
    "ascii de 256 muhtemel değer var bunlar büyük küçük harfler ve semboller için 0dan 255e değişen değerlerdir ."
   ]
  },
  {
   "cell_type": "markdown",
   "metadata": {},
   "source": [
    "bizde arama yaptığımız metin (text) içinde aradığımız örüntümüz(pattern) ile aynı boyutta parçalar alıp hashlarına bakacağız. Eğer hashlar aynı değerdeyse oturup tek tek karakterleri karşılaştıuracağız.\n"
   ]
  },
  {
   "cell_type": "markdown",
   "metadata": {},
   "source": [
    "hashları karşılaştırmak tek tek karakter karşılaştırmaktan çok daha kolaydır. Bu yüzdenbn gereksiz harf karşılaştırmaktan kaçınmak çok önemlidir"
   ]
  },
  {
   "cell_type": "markdown",
   "metadata": {},
   "source": [
    "Gereksiz harf karşılaştırma miktarını en aza indirmek için en iyi yöntem hash değerlerinin olabildiğince farklı olmasından emin olmaktır.\n",
    "\n",
    "örneğin \n",
    "\n",
    "abca texti içinde \n",
    "\n",
    "abc ve bca patternleri,  eğer sadece karkter değerlerini toplarsak aynı hashı üretecek.bu iki kere kontrol demek.\n",
    "\n",
    "bunun yerine  eğer pozisyondan da etkilenen bir hash üretimi yaparsak farklı değerler alınmasını sağlarız."
   ]
  },
  {
   "cell_type": "markdown",
   "metadata": {},
   "source": [
    "Bu mantık aslında rolling hash ve check sum olarakta bilinir. Hatta check sum emthodu interntten yaptığınız büyük indirmelerin ( mesela bir linux distrosu) doğruluğunu kontrol eder. Eğer hatalı bir indirme yaptıysan (indirme sırasında bozuk bir dosya inmesi paket kaybı olabilir düşük bir ihtimal olsada cihazını riske atacak bir indirmede, işletim sistemi güncellemesi gibi, kontrol etmek iyidir.)"
   ]
  },
  {
   "cell_type": "markdown",
   "metadata": {},
   "source": [
    "## posziyona bağlı hash değeri"
   ]
  },
  {
   "cell_type": "markdown",
   "metadata": {},
   "source": [
    "basamağa bağlı hash değeri üreten bir sistem yapalım"
   ]
  },
  {
   "cell_type": "markdown",
   "metadata": {},
   "source": [
    "aşağıda arama yaptığımız patternin basamak sayısına bağlı farklı değerler oluşturan bir sistem yapacağız"
   ]
  },
  {
   "cell_type": "code",
   "execution_count": 8,
   "metadata": {},
   "outputs": [
    {
     "name": "stdout",
     "output_type": "stream",
     "text": [
      "12\n",
      "8\n",
      "11\n",
      "13\n",
      "3\n",
      "2\n",
      "7\n",
      "16\n"
     ]
    }
   ],
   "source": [
    "pattern = \"abcadacac\"\n",
    "q = 17 # bir asal sayı ile hash değerlernin farklılığını arttıracağız \n",
    "d = 29  # mümkün olan eleman sayısı, acii karakterl için 256 ama biz küçük harf bakcaz şuan\n",
    "h=1  # h için bir başlangıc değeri, çarpmada etkisiz eleman 1 seçilir \n",
    "for i in range(len(pattern)-1):\n",
    "\t\th = (h*d) % q\n",
    "\t\tprint(h)"
   ]
  },
  {
   "cell_type": "markdown",
   "metadata": {},
   "source": [
    "Yukarda gördüğün sistem 1 basamak için 12 2 basmak için 8 üç basamak için 11 değerini üretti ve bizim final değerimiz 16 oldu mevcut uzunluk için "
   ]
  },
  {
   "cell_type": "markdown",
   "metadata": {},
   "source": [
    "asal sayı olarak 17 seçmiştik peki ya 13 seçseydik?"
   ]
  },
  {
   "cell_type": "code",
   "execution_count": 10,
   "metadata": {},
   "outputs": [
    {
     "name": "stdout",
     "output_type": "stream",
     "text": [
      "9\n",
      "3\n",
      "1\n",
      "9\n",
      "3\n",
      "1\n",
      "9\n",
      "3\n"
     ]
    }
   ],
   "source": [
    "pattern = \"abcadacac\"\n",
    "q = 13 # bir asal sayı ile hash değerlernin farklılığını arttıracağız \n",
    "d = 29  # mümkün olan eleman sayısı, acii karakterl için 256 ama biz küçük harf bakcaz şuan\n",
    "h=1  # h için bir başlangıc değeri, çarpmada etkisiz eleman 1 seçilir \n",
    "for i in range(len(pattern)):\n",
    "\t\th = (h*d) % q\n",
    "\t\tprint(h)"
   ]
  },
  {
   "cell_type": "markdown",
   "metadata": {},
   "source": [
    "gördüğün gibi hash kendini tekrar etti ancak 17 için özel sayıalar oluştu. asal sayıyı duruma göre seçmek biraz deneyim ister ancak büyük asal sayılar daha başarılı olur\n",
    "farklı basamak uzunlukları için aynı hash değerini veriyor. bu bizim 1 ve 4 basamaklı pattern farkının hasha bakarak anlamamızı engeller çünkü ikiside 9 değerinde\n",
    "\n",
    "biz her basamak için farklı hashler oluşturmayı tercih ediyoruz"
   ]
  },
  {
   "cell_type": "markdown",
   "metadata": {},
   "source": [
    "## karakter ascii değeri ile posizyon değerinin birleştirilmesi "
   ]
  },
  {
   "cell_type": "markdown",
   "metadata": {},
   "source": [
    "bu aşamadan sonra işleri kolaylaştırmak adına daha kısa bir pattern kullanacağız. ama unutma bu sistemin verimliliği pattern büyüdükçe kendini belli edecek"
   ]
  },
  {
   "cell_type": "markdown",
   "metadata": {},
   "source": [
    "şuan 3 karakterlik bir pattern (aradığımız yazı substring) için hash hesaplayacığız ve ardından uzun bir text (arama yaptığımız büyük metin string ) girdisinin patternimizle eşleşen uzunluktaki kısmı için hash değeri arayacağız. \n",
    "\n",
    "Sonuçta 3 karakterli bir pattern, textin 4 karakterlik bir parçasının hash değeri ile eşleşse de biz  pattern ve seçilen 4 karakterli alanın aynı olmadığını biliyoruz. Bu yüzden pattern uzunluğumuz ile eşit miktardaki parçalara bakarak eşleştirme yapacaığız. \n"
   ]
  },
  {
   "cell_type": "code",
   "execution_count": 12,
   "metadata": {},
   "outputs": [
    {
     "name": "stdout",
     "output_type": "stream",
     "text": [
      "karakter: a\n",
      "pozisyona bağlı değer: 3\n",
      "karakterin ascii ifadesine bağlı değer 97\n",
      "pozisyona ve karakterin ascii ifadesine bağlı değer 6\n",
      "\n",
      "************\n",
      "\n",
      "karakter: b\n",
      "pozisyona bağlı değer: 9\n",
      "karakterin ascii ifadesine bağlı değer 98\n",
      "pozisyona ve karakterin ascii ifadesine bağlı değer 12\n",
      "\n",
      "************\n",
      "\n",
      "karakter: c\n",
      "pozisyona bağlı değer: 1\n",
      "karakterin ascii ifadesine bağlı değer 99\n",
      "pozisyona ve karakterin ascii ifadesine bağlı değer 5\n",
      "\n",
      "************\n",
      "\n",
      "karakter: a\n",
      "pozisyona bağlı değer: 3\n",
      "karakterin ascii ifadesine bağlı değer 97\n",
      "pozisyona ve karakterin ascii ifadesine bağlı değer 8\n",
      "\n",
      "************\n",
      "\n"
     ]
    }
   ],
   "source": [
    "pattern = \"abca\"\n",
    "q = 13 # bir asal sayı ile hash değerlernin farklılığını arttıracağız \n",
    "d = 29  # mümkün olan eleman sayısı, acii karakterl için 256 ama biz küçük harf bakcaz şuan\n",
    "h=1  # h için bir başlangıc değeri, çarpmada etkisiz eleman 1 seçilir \n",
    "p=0  # p pattern için hash değeri. toplama ile belirleyeceğimiz için toplamanın etkisiz elamnını kullandık\n",
    "\n",
    "for i in range(len(pattern)):\n",
    "\t\tprint(f\"karakter: {pattern[i]}\")\n",
    "\t\th = (h*d) % q\n",
    "\t\tprint( f\"pozisyona bağlı değer: {h}\")\n",
    "\t\tprint( f\"karakterin ascii ifadesine bağlı değer: {ord(pattern[i])}\")\n",
    "\t\tp = (d*p + ord(pattern[i])) % q\n",
    "\t\tprint( f\"pozisyona ve karakterin ascii ifadesine bağlı değer: {p}\")\n",
    "\n",
    "\t\tprint(\"\")\n",
    "\t\tprint(\"************\")\n",
    "\t\tprint(\"\")"
   ]
  },
  {
   "cell_type": "markdown",
   "metadata": {},
   "source": [
    "##  Arama yapılacak text üzerinde hareket etmek \""
   ]
  },
  {
   "cell_type": "markdown",
   "metadata": {},
   "source": [
    "3 karakterlik bir pattern için bir hash oluşturduk ve bunu textin sıfırnıcı indeksinden başlayıp ilk üç karakteri ile kıyasladık ancak eşleşmedi şimdi birinci indexten başlayarak 3 elemanı kontrol etmemiz lazım "
   ]
  },
  {
   "cell_type": "markdown",
   "metadata": {},
   "source": [
    "örnek ile bakalım\n",
    "text= \"abcde\"\n",
    "pattern = \"cde\"\n",
    "\n",
    "abc için hash hesabı yaptık ve patternin  hashı ile eşleşmedi.\n",
    "bcd ye geçmemiz lazım \n",
    "\n",
    "ancak b ve c için hem poziyona bağlı hemde harf değerine bağlı hesabı abc için yaptık. bcd için hesap yaparken b ve c yi tekrar hesaplama gereği yok \n"
   ]
  },
  {
   "cell_type": "markdown",
   "metadata": {},
   "source": [
    "Window sözcüğü pattern uzhnluğunda seçilen text parçası manasında kıullanılacak.\n",
    "\n",
    "ilk window ve pattern için hash hesabı yapmak "
   ]
  },
  {
   "cell_type": "code",
   "execution_count": 6,
   "metadata": {},
   "outputs": [
    {
     "name": "stdout",
     "output_type": "stream",
     "text": [
      "value for pattern hash : 18   and value for windown hash 22\n"
     ]
    }
   ],
   "source": [
    "# text and pattern\n",
    "text=\"great pattern here\"\n",
    "pattern=\"pattern\"\n",
    "\n",
    "\n",
    "# d is the number of characters in the input alphabet\n",
    "d = 256\n",
    "# q -> A prime number\n",
    "q=101\n",
    "\n",
    "#initial variables to calclate hash\n",
    "p = 0 # hash value for pattern\n",
    "t = 0 # hash value for txt\n",
    "h = 1\n",
    "\n",
    "# initial hash values \n",
    "M = len(pattern) #need to find the pattern length to create window\n",
    "\n",
    "for i in range(M):\n",
    "\t\tp = (d*p + ord(pattern[i])) % q\n",
    "\t\tt = (d*t + ord(text[i])) % q\n",
    "\t\t\n",
    "print(f\"value for pattern hash : {p}   and value for windown hash: {t}\")"
   ]
  },
  {
   "cell_type": "code",
   "execution_count": null,
   "metadata": {},
   "outputs": [],
   "source": [
    "# Following program is the python implementation of\n",
    "# Rabin Karp Algorithm given in CLRS book\n",
    "\n",
    "# d is the number of characters in the input alphabet\n",
    "d = 256\n",
    "\n",
    "# pat -> pattern\n",
    "# txt -> text\n",
    "# q -> A prime number\n",
    "\n",
    "\n",
    "def search(pat, txt, q):\n",
    "\tM = len(pat)\n",
    "\tN = len(txt)\n",
    "\ti = 0\n",
    "\tj = 0\n",
    "\tp = 0 # hash value for pattern\n",
    "\tt = 0 # hash value for txt\n",
    "\th = 1\n",
    "\n",
    "\t# The value of h would be \"pow(d, M-1)%q\"\n",
    "\tfor i in range(M-1):\n",
    "\t\th = (h*d) % q\n",
    "\n",
    "\t# Calculate the hash value of pattern and first window\n",
    "\t# of text\n",
    "\tfor i in range(M):\n",
    "\t\tp = (d*p + ord(pat[i])) % q\n",
    "\t\tt = (d*t + ord(txt[i])) % q\n",
    "\n",
    "\t# Slide the pattern over text one by one\n",
    "\tfor i in range(N-M+1):\n",
    "\t\t# Check the hash values of current window of text and\n",
    "\t\t# pattern if the hash values match then only check\n",
    "\t\t# for characters one by one\n",
    "\t\tif p == t:\n",
    "\t\t\t# Check for characters one by one\n",
    "\t\t\tfor j in range(M):\n",
    "\t\t\t\tif txt[i+j] != pat[j]:\n",
    "\t\t\t\t\tbreak\n",
    "\t\t\t\telse:\n",
    "\t\t\t\t\tj += 1\n",
    "\n",
    "\t\t\t# if p == t and pat[0...M-1] = txt[i, i+1, ...i+M-1]\n",
    "\t\t\tif j == M:\n",
    "\t\t\t\tprint(\"Pattern found at index \" + str(i))\n",
    "\n",
    "\t\t# Calculate hash value for next window of text: Remove\n",
    "\t\t# leading digit, add trailing digit\n",
    "\t\tif i < N-M:\n",
    "\t\t\tt = (d*(t-ord(txt[i])*h) + ord(txt[i+M])) % q\n",
    "\n",
    "\t\t\t# We might get negative values of t, converting it to\n",
    "\t\t\t# positive\n",
    "\t\t\tif t < 0:\n",
    "\t\t\t\tt = t+q\n",
    "\n",
    "\n",
    "# Driver Code\n",
    "if __name__ == '__main__':\n",
    "\ttxt = \"GEEKS FOR GEEKS\"\n",
    "\tpat = \"GEEK\"\n",
    "\n",
    "\t# A prime number\n",
    "\tq = 101\n",
    "\n",
    "\t# Function Call\n",
    "\tsearch(pat, txt, q)\n"
   ]
  }
 ],
 "metadata": {
  "kernelspec": {
   "display_name": "Python 3",
   "language": "python",
   "name": "python3"
  },
  "language_info": {
   "codemirror_mode": {
    "name": "ipython",
    "version": 3
   },
   "file_extension": ".py",
   "mimetype": "text/x-python",
   "name": "python",
   "nbconvert_exporter": "python",
   "pygments_lexer": "ipython3",
   "version": "3.10.11"
  }
 },
 "nbformat": 4,
 "nbformat_minor": 2
}
