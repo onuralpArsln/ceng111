{
 "cells": [
  {
   "cell_type": "markdown",
   "metadata": {},
   "source": [
    "Rabin Karp algoritması bir pattern eşleştirme algoritmasıdır. Biz bu örnekte bir yazının içinde sözcük araması yapacağız. Ancak iki boyutlu bir sinyalde belli bir örüntü aramak gibi daha kompleks işlemlerde de kullanmak mümkündür. Bunu yapmak için , verilen küme (bu örnkete yazı) ve verilen örüntü (bu örnekte aradığımız küçük sözcük) için hash değeri hesaplayacağız. Hash değeri verilen parçaları matematiksel olarak ifade etmemizi sağlar. hash değerleri kıyaslamak tek tek harf kıyaslamaktan daha verimlidir. "
   ]
  },
  {
   "cell_type": "markdown",
   "metadata": {},
   "source": [
    "text = AAAAAAAAAH  9 A ve 1 H  \n",
    "pattern = AAAAAAAAH  8A ve bir H  \n",
    "\n",
    "eğer direkt olarak ilk sırada harf karşılaştırmaya başlarsak 8 tane a eşleştikten sonra A ve H kıyaslayıp eşit olmadığını görecek bir sonraki sıraya geçip kıayslama yapacak ve 9 karşılaştırmadan sonra eşleşmeyi bulacak.\n",
    "\n",
    "Eğer hash hesabı yaparsak her şey daha rahat olur. \n",
    "\n",
    "Peki hash hesabı nedir?\n"
   ]
  },
  {
   "cell_type": "code",
   "execution_count": null,
   "metadata": {},
   "outputs": [],
   "source": []
  }
 ],
 "metadata": {
  "language_info": {
   "name": "python"
  }
 },
 "nbformat": 4,
 "nbformat_minor": 2
}
