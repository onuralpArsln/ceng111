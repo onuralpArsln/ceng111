{
 "cells": [
  {
   "cell_type": "markdown",
   "metadata": {},
   "source": [
    "Rabin Karp algoritması bir pattern eşleştirme algoritmasıdır. Biz bu örnekte bir yazının içinde sözcük araması yapacağız. Ancak iki boyutlu bir sinyalde belli bir örüntü aramak gibi daha kompleks işlemlerde de kullanmak mümkündür. Bunu yapmak için , verilen küme (bu örnkete yazı) ve verilen örüntü (bu örnekte aradığımız küçük sözcük) için hash değeri hesaplayacağız. Hash değeri verilen parçaları matematiksel olarak ifade etmemizi sağlar. hash değerleri kıyaslamak tek tek harf kıyaslamaktan daha verimlidir. "
   ]
  },
  {
   "cell_type": "markdown",
   "metadata": {},
   "source": [
    "text = AAAAAAAAAH  9 A ve 1 H  \n",
    "pattern = AAAAAAAAH  8A ve bir H  \n",
    "\n",
    "eğer direkt olarak ilk sırada harf karşılaştırmaya başlarsak 8 tane a eşleştikten sonra A ve H kıyaslayıp eşit olmadığını görecek bir sonraki sıraya geçip kıayslama yapacak ve 9 karşılaştırmadan sonra eşleşmeyi bulacak.\n",
    "\n",
    "Eğer hash hesabı yaparsak her şey daha rahat olur. \n",
    "\n",
    "Peki hash hesabı nedir?\n"
   ]
  },
  {
   "cell_type": "markdown",
   "metadata": {},
   "source": [
    "a=1\n",
    "h=2\n",
    "c=3\n",
    "f=5\n",
    "\n",
    "aXXXX = 15\n",
    "XXXXh=? 16\n",
    "\n"
   ]
  },
  {
   "cell_type": "markdown",
   "metadata": {},
   "source": [
    "## karaktere bağlı değerler üretmek "
   ]
  },
  {
   "cell_type": "markdown",
   "metadata": {},
   "source": [
    "Her karakteri belirten sayısal bir değer vardır ASCII"
   ]
  },
  {
   "cell_type": "code",
   "execution_count": 6,
   "metadata": {},
   "outputs": [
    {
     "name": "stdout",
     "output_type": "stream",
     "text": [
      "65\n"
     ]
    }
   ],
   "source": [
    "print(ord('A')) "
   ]
  },
  {
   "cell_type": "code",
   "execution_count": 7,
   "metadata": {},
   "outputs": [
    {
     "name": "stdout",
     "output_type": "stream",
     "text": [
      "97\n"
     ]
    }
   ],
   "source": [
    "print(ord('a'))"
   ]
  },
  {
   "cell_type": "code",
   "execution_count": 8,
   "metadata": {},
   "outputs": [
    {
     "name": "stdout",
     "output_type": "stream",
     "text": [
      "49\n"
     ]
    }
   ],
   "source": [
    "print(ord('1')) "
   ]
  },
  {
   "cell_type": "code",
   "execution_count": 9,
   "metadata": {},
   "outputs": [
    {
     "data": {
      "text/plain": [
       "256"
      ]
     },
     "execution_count": 9,
     "metadata": {},
     "output_type": "execute_result"
    }
   ],
   "source": [
    "2**8"
   ]
  },
  {
   "cell_type": "markdown",
   "metadata": {},
   "source": [
    "stringi oluşturan karakterlerin değerini toplamak basit bir hesap çözümü"
   ]
  },
  {
   "cell_type": "code",
   "execution_count": 10,
   "metadata": {},
   "outputs": [],
   "source": [
    "def simple_hash(string):\n",
    "\n",
    "    hash_value = 0\n",
    "    for char in string:\n",
    "        hash_value += ord(char)  #it returns an integer representing the Unicode code of the character passed to it.\n",
    "    return hash_value"
   ]
  },
  {
   "cell_type": "code",
   "execution_count": 11,
   "metadata": {},
   "outputs": [
    {
     "name": "stdout",
     "output_type": "stream",
     "text": [
      "Hash value of 'hello': 532\n"
     ]
    }
   ],
   "source": [
    "input_string = \"hello\"\n",
    "hash_value = simple_hash(input_string)\n",
    "print(\"Hash value of '{}': {}\".format(input_string, hash_value))"
   ]
  },
  {
   "cell_type": "code",
   "execution_count": 13,
   "metadata": {},
   "outputs": [
    {
     "name": "stdout",
     "output_type": "stream",
     "text": [
      "2017\n",
      "752\n",
      "1265\n"
     ]
    }
   ],
   "source": [
    "print(simple_hash(\"merhaba nasılsın\"))\n",
    "print(simple_hash(\"merhaba\"))\n",
    "print(simple_hash(\"nasılsın\"))"
   ]
  },
  {
   "cell_type": "code",
   "execution_count": 14,
   "metadata": {},
   "outputs": [
    {
     "name": "stdout",
     "output_type": "stream",
     "text": [
      "720\n",
      "720\n"
     ]
    }
   ],
   "source": [
    "print(simple_hash(\"merhaba\"))\n",
    "print(simple_hash(\"maarheb\"))"
   ]
  },
  {
   "cell_type": "markdown",
   "metadata": {},
   "source": [
    "peki ama bu bize niye yarasın ki? Rolling hash diye bişi yapcaz"
   ]
  },
  {
   "cell_type": "markdown",
   "metadata": {},
   "source": [
    "ord fonksiyonu ile ascii değeri alırızç ascii de 256 muhtemel değer var bunlar büyük küçük harfler ve semboller için 0dan 255e değişen değerlerdir ."
   ]
  },
  {
   "cell_type": "markdown",
   "metadata": {},
   "source": [
    "bizde arama yaptığımız metin (text) içinde aradığımız örüntümüz(pattern) ile aynı boyutta parçalar alıp hashlarına bakacağız. Eğer hashlar aynı değerdeyse oturup tek tek karakterleri karşılaştıuracağız.\n"
   ]
  },
  {
   "cell_type": "markdown",
   "metadata": {},
   "source": [
    "hashları karşılaştırmak tek tek karakter karşılaştırmaktan çok daha kolaydır. Bu yüzdenbn gereksiz harf karşılaştırmaktan kaçınmak çok önemlidir"
   ]
  },
  {
   "cell_type": "markdown",
   "metadata": {},
   "source": [
    "Gereksiz harf karşılaştırma miktarını en aza indirmek için en iyi yöntem hash değerlerinin olabildiğince farklı olmasından emin olmaktır.\n",
    "\n",
    "örneğin \n",
    "\n",
    "abca texti içinde \n",
    "\n",
    "abc ve bca patternleri,  eğer sadece karkter değerlerini toplarsak aynı hashı üretecek.bu iki kere kontrol demek.\n",
    "\n",
    "bunun yerine  eğer pozisyondan da etkilenen bir hash üretimi yaparsak farklı değerler alınmasını sağlarız."
   ]
  },
  {
   "cell_type": "markdown",
   "metadata": {},
   "source": [
    "Bu mantık aslında rolling hash ve check sum olarakta bilinir. Hatta check sum emthodu interntten yaptığınız büyük indirmelerin ( mesela bir linux distrosu) doğruluğunu kontrol eder. Eğer hatalı bir indirme yaptıysan (indirme sırasında bozuk bir dosya inmesi paket kaybı olabilir düşük bir ihtimal olsada cihazını riske atacak bir indirmede, işletim sistemi güncellemesi gibi, kontrol etmek iyidir.)"
   ]
  },
  {
   "cell_type": "code",
   "execution_count": 15,
   "metadata": {},
   "outputs": [
    {
     "name": "stdout",
     "output_type": "stream",
     "text": [
      "150\n",
      "150\n"
     ]
    }
   ],
   "source": [
    "print(simple_hash(\"123\"))\n",
    "print(simple_hash(\"132\"))"
   ]
  },
  {
   "cell_type": "markdown",
   "metadata": {},
   "source": [
    "## posziyona bağlı hash değeri"
   ]
  },
  {
   "cell_type": "markdown",
   "metadata": {},
   "source": [
    "basamağa bağlı hash değeri üreten bir sistem yapalım"
   ]
  },
  {
   "cell_type": "markdown",
   "metadata": {},
   "source": [
    "aşağıda arama yaptığımız patternin basamak sayısına bağlı farklı değerler oluşturan bir sistem yapacağız"
   ]
  },
  {
   "cell_type": "code",
   "execution_count": 27,
   "metadata": {},
   "outputs": [
    {
     "name": "stdout",
     "output_type": "stream",
     "text": [
      "12\n",
      "8\n",
      "11\n",
      "13\n",
      "3\n",
      "2\n",
      "7\n",
      "16\n"
     ]
    }
   ],
   "source": [
    "pattern = \"abcadacac\"\n",
    "q = 17 # bir asal sayı ile hash değerlernin farklılığını arttıracağız \n",
    "d = 29  # mümkün olan eleman sayısı, acii karakterl için 256 ama biz küçük harf bakcaz şuan\n",
    "h=1  # h için bir başlangıc değeri, çarpmada etkisiz eleman 1 seçilir \n",
    "for i in range(len(pattern)-1):\n",
    "\t\th = (h*d) % 17\n",
    "\t\tprint(h)"
   ]
  },
  {
   "cell_type": "markdown",
   "metadata": {},
   "source": [
    "Yukarda gördüğün sistem 1 basamak için 12 2 basmak için 8 üç basamak için 11 değerini üretti ve bizim final değerimiz 16 oldu mevcut uzunluk için "
   ]
  },
  {
   "cell_type": "markdown",
   "metadata": {},
   "source": [
    "asal sayı olarak 17 seçmiştik peki ya 13 seçseydik?"
   ]
  },
  {
   "cell_type": "code",
   "execution_count": 28,
   "metadata": {},
   "outputs": [
    {
     "name": "stdout",
     "output_type": "stream",
     "text": [
      "3\n",
      "9\n",
      "1\n",
      "3\n",
      "9\n",
      "1\n",
      "3\n",
      "9\n",
      "1\n"
     ]
    }
   ],
   "source": [
    "pattern = \"abcadacac\"\n",
    "q = 13 # bir asal sayı ile hash değerlernin farklılığını arttıracağız \n",
    "d = 29  # mümkün olan eleman sayısı, acii karakterl için 256 ama biz küçük harf bakcaz şuan\n",
    "h=1  # h için bir başlangıc değeri, çarpmada etkisiz eleman 1 seçilir \n",
    "for i in range(len(pattern)):\n",
    "\t\th = (h*d) % q\n",
    "\t\tprint(h)"
   ]
  },
  {
   "cell_type": "markdown",
   "metadata": {},
   "source": [
    "gördüğün gibi hash kendini tekrar etti ancak 17 için özel sayıalar oluştu. asal sayıyı duruma göre seçmek biraz deneyim ister ancak büyük asal sayılar daha başarılı olur\n",
    "farklı basamak uzunlukları için aynı hash değerini veriyor. bu bizim 1 ve 4 basamaklı pattern farkının hasha bakarak anlamamızı engeller çünkü ikiside 9 değerinde\n",
    "\n",
    "biz her basamak için farklı hashler oluşturmayı tercih ediyoruz"
   ]
  },
  {
   "cell_type": "markdown",
   "metadata": {},
   "source": [
    "## karakter ascii değeri ile posizyon değerinin birleştirilmesi "
   ]
  },
  {
   "cell_type": "markdown",
   "metadata": {},
   "source": [
    "bu aşamadan sonra işleri kolaylaştırmak adına daha kısa bir pattern kullanacağız. ama unutma bu sistemin verimliliği pattern büyüdükçe kendini belli edecek"
   ]
  },
  {
   "cell_type": "markdown",
   "metadata": {},
   "source": [
    "şuan 3 karakterlik bir pattern (aradığımız yazı substring) için hash hesaplayacığız ve ardından uzun bir text (arama yaptığımız büyük metin string ) girdisinin patternimizle eşleşen uzunluktaki kısmı için hash değeri arayacağız. \n",
    "\n",
    "Sonuçta 3 karakterli bir pattern, textin 4 karakterlik bir parçasının hash değeri ile eşleşse de biz  pattern ve seçilen 4 karakterli alanın aynı olmadığını biliyoruz. Bu yüzden pattern uzunluğumuz ile eşit miktardaki parçalara bakarak eşleştirme yapacaığız. \n"
   ]
  },
  {
   "cell_type": "code",
   "execution_count": 35,
   "metadata": {},
   "outputs": [
    {
     "name": "stdout",
     "output_type": "stream",
     "text": [
      "karakter: a\n",
      "pozisyona bağlı değer: 3\n",
      "karakterin ascii ifadesine bağlı değer: 97\n",
      "pozisyona ve karakterlerişn ascii ifadesine bağlı pattern hashi değer: 6\n",
      "\n",
      "************\n",
      "\n",
      "karakter: b\n",
      "pozisyona bağlı değer: 9\n",
      "karakterin ascii ifadesine bağlı değer: 98\n",
      "pozisyona ve karakterlerişn ascii ifadesine bağlı pattern hashi değer: 12\n",
      "\n",
      "************\n",
      "\n",
      "karakter: c\n",
      "pozisyona bağlı değer: 1\n",
      "karakterin ascii ifadesine bağlı değer: 99\n",
      "pozisyona ve karakterlerişn ascii ifadesine bağlı pattern hashi değer: 5\n",
      "\n",
      "************\n",
      "\n",
      "karakter: a\n",
      "pozisyona bağlı değer: 3\n",
      "karakterin ascii ifadesine bağlı değer: 97\n",
      "pozisyona ve karakterlerişn ascii ifadesine bağlı pattern hashi değer: 8\n",
      "\n",
      "************\n",
      "\n"
     ]
    }
   ],
   "source": [
    "pattern = \"abca\"\n",
    "q = 13 # bir asal sayı ile hash değerlernin farklılığını arttıracağız \n",
    "d = 29  # mümkün olan eleman sayısı, acii karakterl için 256 ama biz küçük harf bakcaz şuan\n",
    "h=1  # h için bir başlangıc değeri, çarpmada etkisiz eleman 1 seçilir \n",
    "p=0  # p pattern için hash değeri. toplama ile belirleyeceğimiz için toplamanın etkisiz elamnını kullandık\n",
    "\n",
    "for i in range(len(pattern)):\n",
    "\t\tprint(f\"karakter: {pattern[i]}\")\n",
    "\t\th = (h*d) % q\n",
    "\t\tprint( f\"pozisyona bağlı değer: {h}\")\n",
    "\t\tprint( f\"karakterin ascii ifadesine bağlı değer: {ord(pattern[i])}\")\n",
    "\t\tp = (d*p + ord(pattern[i])) % q\n",
    "\t\tprint( f\"pozisyona ve karakterlerin ascii ifadesine bağlı pattern hashi değer: {p}\")\n",
    "\n",
    "\t\tprint(\"\")\n",
    "\t\tprint(\"************\")\n",
    "\t\tprint(\"\")"
   ]
  },
  {
   "cell_type": "markdown",
   "metadata": {},
   "source": [
    "Burada h ve p değerlerinin her for döngüsü için kendisi üzerinden hesaplandığını farketmiş olmamız lazım. aşağıdaki örnekte abca yerine fzea için hash hesapladık. Sondaki a için poziyona ve ascii değerine bağlı olan değişirken pozisyona bağlı olan sabit kaldı çünkü ikisde 3. indexte."
   ]
  },
  {
   "cell_type": "code",
   "execution_count": 36,
   "metadata": {},
   "outputs": [
    {
     "name": "stdout",
     "output_type": "stream",
     "text": [
      "karakter: f\n",
      "pozisyona bağlı değer: 3\n",
      "karakterin ascii ifadesine bağlı değer: 102\n",
      "pozisyona ve karakterin ascii ifadesine bağlı değer: 11\n",
      "\n",
      "************\n",
      "\n",
      "karakter: z\n",
      "pozisyona bağlı değer: 9\n",
      "karakterin ascii ifadesine bağlı değer: 122\n",
      "pozisyona ve karakterin ascii ifadesine bağlı değer: 12\n",
      "\n",
      "************\n",
      "\n",
      "karakter: e\n",
      "pozisyona bağlı değer: 1\n",
      "karakterin ascii ifadesine bağlı değer: 101\n",
      "pozisyona ve karakterin ascii ifadesine bağlı değer: 7\n",
      "\n",
      "************\n",
      "\n",
      "karakter: a\n",
      "pozisyona bağlı değer: 3\n",
      "karakterin ascii ifadesine bağlı değer: 97\n",
      "pozisyona ve karakterin ascii ifadesine bağlı değer: 1\n",
      "\n",
      "************\n",
      "\n"
     ]
    }
   ],
   "source": [
    "pattern = \"fzea\"\n",
    "q = 13 # bir asal sayı ile hash değerlernin farklılığını arttıracağız \n",
    "d = 29  # mümkün olan eleman sayısı, acii karakterl için 256 ama biz küçük harf bakcaz şuan\n",
    "h=1  # h için bir başlangıc değeri, çarpmada etkisiz eleman 1 seçilir \n",
    "p=0  # p pattern için hash değeri. toplama ile belirleyeceğimiz için toplamanın etkisiz elamnını kullandık\n",
    "\n",
    "for i in range(len(pattern)):\n",
    "\t\tprint(f\"karakter: {pattern[i]}\")\n",
    "\t\th = (h*d) % q\n",
    "\t\tprint( f\"pozisyona bağlı değer: {h}\")\n",
    "\t\tprint( f\"karakterin ascii ifadesine bağlı değer: {ord(pattern[i])}\")\n",
    "\t\tp = (d*p + ord(pattern[i])) % q\n",
    "\t\tprint( f\"pozisyona ve karakterlerin ascii ifadesine bağlı pattern hashi değer: {p}\")\n",
    "\n",
    "\t\tprint(\"\")\n",
    "\t\tprint(\"************\")\n",
    "\t\tprint(\"\")"
   ]
  },
  {
   "cell_type": "markdown",
   "metadata": {},
   "source": [
    "## Hash değerleri eşleşince harf karşılaştırma "
   ]
  },
  {
   "cell_type": "markdown",
   "metadata": {},
   "source": [
    "hash değerleri eşleşince artık arakterlere bakma sırası gelir "
   ]
  },
  {
   "cell_type": "code",
   "execution_count": 40,
   "metadata": {},
   "outputs": [
    {
     "name": "stdout",
     "output_type": "stream",
     "text": [
      "Pattern found at index 2\n"
     ]
    }
   ],
   "source": [
    "i = 2 # bu i hashleri kontrol ettiğimiz for döngğsğne ait olacak\n",
    "p,t =10,10 # bunların hash değerleri olduğunu düşün\n",
    "pat =\"abc\"\n",
    "txt=\"aaabc\"\n",
    "M = len(pat)\n",
    "\n",
    "\n",
    "# burayı bir for döngüsünün içi olarak düşün \n",
    "# sırayla text içindeki hashleri tek tek bakıyor \n",
    "# hash değerleri eşit ise  bu if içine girecek\n",
    "if p == t:                    \n",
    "    for j in range(M):  # pattern uzunluğunda bir döngü yapılacak\n",
    "        if txt[i+j] != pat[j]:  # i dış döngünün değeri olacktı i text içindeki pozisyonumuz  \n",
    "              # eğer eşleşme yoksa  eşleşme sayacı sıfırlanır \n",
    "            break\n",
    "        else:                   # eğer değerler aynı isse eşleşme sayacı artar \n",
    "            j += 1\n",
    "    \n",
    "    if j == M:        # eğer pattern uzunluğunda eşleşme olursa başarılı olunmuştur\n",
    "\t    print(\"Pattern found at index \" + str(i))"
   ]
  },
  {
   "cell_type": "markdown",
   "metadata": {},
   "source": [
    "##  Arama yapılacak text üzerinde hareket etmek "
   ]
  },
  {
   "cell_type": "markdown",
   "metadata": {},
   "source": [
    "3 karakterlik bir pattern için bir hash oluşturduk ve bunu textin sıfırnıcı indeksinden başlayıp ilk üç karakteri ile kıyasladık ancak eşleşmedi şimdi birinci indexten başlayarak 3 elemanı kontrol etmemiz lazım "
   ]
  },
  {
   "cell_type": "markdown",
   "metadata": {},
   "source": [
    "örnek ile bakalım\n",
    "text= \"abcde\"\n",
    "pattern = \"cde\"\n",
    "\n",
    "abc için hash hesabı yaptık ve patternin  hashı ile eşleşmedi.\n",
    "bcd ye geçmemiz lazım \n",
    "\n",
    "ancak b ve c için hem poziyona bağlı hemde harf değerine bağlı hesabı abc için yaptık. bcd için hesap yaparken b ve c yi tekrar hesaplama gereği yok \n"
   ]
  },
  {
   "cell_type": "markdown",
   "metadata": {},
   "source": [
    "x leri boş yer tutucu olarak düşünelim \n",
    "\n",
    "\n",
    "kıyaslama bir:   \n",
    "a b c d e     \n",
    "c d e x x       \n",
    "\n",
    "\n",
    "\n",
    "kıyaslama iki:     \n",
    "a b c d e     \n",
    "x c d e x     \n",
    "\n",
    "\n",
    "\n",
    "kıyaslama üç:   \n",
    "a b c d e      \n",
    "x x c d e        \n",
    "\n",
    "\n",
    "5 karakterli bir text üzerinde 3 karakterli bir patterni boydan boya artmak için 3 kıyaslama gerekti \n",
    "\n",
    "yapılacak kıyaslama sayısını hesaplamak için len(text)-len(pattern)+1 diyebiliriz "
   ]
  },
  {
   "cell_type": "markdown",
   "metadata": {},
   "source": [
    "-- kısa bir hatırlatma   \n",
    "\n",
    "elimizde uzun bir yazı var(text)   \n",
    "bu yazı içinde X sayıda karakter içeren bir yazı arıyoruz (pattern)   \n",
    "\n",
    "uzun yazının ilk X sayıda karakteri ve patternimi için hash değerleri hesaplayacağız  \n",
    "\n",
    "eğer değerler eşit ise harflerin eşitliğine bakacağız  \n",
    "\n",
    "eğer hash değerleri farklı ise uzun yazı içinde bir karakter yana kayacağız   \n",
    "\n",
    "\n",
    "peki yana kayınca hash hesabı ne olacak "
   ]
  },
  {
   "cell_type": "markdown",
   "metadata": {},
   "source": [
    "hash hesabımız asında her karakterin konumuna ve ascii karşılığına bağlı değerler toplamı, Z sayıda karakter içeren bir pattern arar iken index 0 dan index Z-1 uzunluğunda bir hash hesabı ile başlanacak sonra index 1den z sonra 2den z+1 olarak gidecek.\n",
    "\n",
    "her bir yan harekette hash değerine yeni giren karakteri eklerken eskisini çıkartıyoruz"
   ]
  },
  {
   "cell_type": "markdown",
   "metadata": {},
   "source": [
    "öncelikle  başlangıç değerlerini hseaplamak lazım. Text üzerinde pattern uzunlıuğunda bir alana bakacağız. Bu alana window denilecek. "
   ]
  },
  {
   "cell_type": "code",
   "execution_count": 54,
   "metadata": {},
   "outputs": [
    {
     "name": "stdout",
     "output_type": "stream",
     "text": [
      "value for pattern hash : 18   and value for windown hash: 91\n"
     ]
    }
   ],
   "source": [
    "# text and pattern\n",
    "text=\"asdasdpatternc b b \"\n",
    "pattern=\"pattern\"\n",
    "\n",
    "\n",
    "# d is the number of characters in the input alphabet\n",
    "d = 256\n",
    "# q -> A prime number\n",
    "q=101\n",
    "\n",
    "#initial variables to calclate hash\n",
    "p = 0 # hash value for pattern\n",
    "t = 0 # hash value for txt\n",
    "h = 1\n",
    "\n",
    "# initial hash values \n",
    "M = len(pattern) #need to find the pattern length to create window\n",
    "\n",
    "for i in range(M):\n",
    "\t\tp = (d*p + ord(pattern[i])) % q\n",
    "\t\tt = (d*t + ord(text[i])) % q\n",
    "\t\t\n",
    "print(f\"value for pattern hash : {p}   and value for windown hash: {t}\")"
   ]
  },
  {
   "cell_type": "markdown",
   "metadata": {},
   "source": [
    "değerler eşlemiyor demekki window ve pattern eşlleşmedi o zaman windowu kaydırmak lazım.\n",
    "bu kaydırma için text uzunluğunu bilmek lazım ki eğer sona gelip bulamadıysak bulamdığımızı fark edelim\n"
   ]
  },
  {
   "cell_type": "code",
   "execution_count": 57,
   "metadata": {},
   "outputs": [
    {
     "name": "stdout",
     "output_type": "stream",
     "text": [
      "Pattern found at index 9\n",
      "Pattern found at index 22\n"
     ]
    }
   ],
   "source": [
    "# text and pattern\n",
    "text=\"asdadas dpatternc b b pattern\"\n",
    "pattern=\"pattern\"\n",
    "\n",
    "d = 256\n",
    "\n",
    "M = len(pattern)\n",
    "N = len(text)\n",
    "i = 0\n",
    "j = 0\n",
    "p = 0 # hash value for pattern\n",
    "t = 0 # hash value for txt\n",
    "h = 1  # konumsal hesap yapıyoruz pattern uzunluğuna bağlı olarak yeni değer ekleyip çıkartmka için \n",
    "\n",
    "# basamk için üretilen değer \"pow(d, M-1)%q\"\n",
    "#logaritmik basamak yapısını oluşturmak için\n",
    "for i in range(M-1):\n",
    "    h = (h*d) % q\n",
    "\n",
    "\n",
    "for i in range(M):\n",
    "\n",
    "    p = (d*p + ord(pattern[i])) % q\n",
    "    \n",
    "    t = (d*t + ord(text[i])) % q\n",
    "\n",
    "    \n",
    "\n",
    "\n",
    "for i in range(N-M+1): #kaç arama yapacağız\n",
    "    \n",
    "\n",
    "    if p == t:\n",
    "        \n",
    "        for j in range(M): # harf eşleştirmesi\n",
    "            if text[i+j] != pattern[j]:\n",
    "                break\n",
    "            else:\n",
    "                j += 1\n",
    "\n",
    "        \n",
    "        if j == M:\n",
    "            print(\"Pattern found at index \" + str(i))\n",
    "\n",
    "    \n",
    "    \n",
    "    if i < N-M: # patternın textin dışına taşmadığından emin ol \n",
    "        t = (d*(t-ord(text[i])*h) + ord(text[i+M])) % q\n",
    "\n",
    "        \n",
    "        if t < 0:\n",
    "            t = t+q\n",
    "\n",
    "\n"
   ]
  },
  {
   "cell_type": "markdown",
   "metadata": {},
   "source": [
    "farklı bir for kullanımı gördük j de onun açıklaması bu \n"
   ]
  },
  {
   "cell_type": "code",
   "execution_count": 49,
   "metadata": {},
   "outputs": [
    {
     "name": "stdout",
     "output_type": "stream",
     "text": [
      "for öncesi j  3\n",
      "0\n",
      "9\n",
      "****\n",
      "1\n",
      "10\n",
      "****\n",
      "2\n",
      "11\n",
      "****\n",
      "for sonrası j   11 \n"
     ]
    }
   ],
   "source": [
    "j=3\n",
    "print( f\"for öncesi j  {j}\")\n",
    "\n",
    "for j in range(3):\n",
    "    print(j)\n",
    "    j +=9\n",
    "    print(j)\n",
    "    print(\"****\")\n",
    "  \n",
    "\n",
    "print(f\"for sonrası j   {j} \")\n"
   ]
  },
  {
   "cell_type": "markdown",
   "metadata": {},
   "source": [
    "aşağıdaki kod çok hata vermez"
   ]
  },
  {
   "cell_type": "code",
   "execution_count": 46,
   "metadata": {},
   "outputs": [
    {
     "name": "stdout",
     "output_type": "stream",
     "text": [
      "[1, 2, 3, 4]\n",
      "[1, 2, 3]\n",
      "[1, 2]\n"
     ]
    }
   ],
   "source": [
    "a=[1,2,3,4,5]\n",
    "\n",
    "for i in a:\n",
    "    a.pop()\n",
    "    print(a)"
   ]
  },
  {
   "cell_type": "code",
   "execution_count": 53,
   "metadata": {},
   "outputs": [
    {
     "name": "stdout",
     "output_type": "stream",
     "text": [
      "3\n"
     ]
    }
   ],
   "source": [
    "c='asd'\n",
    "for j in range(len(c)):\n",
    "    b=0\n",
    "    j+=1\n",
    "\n",
    "\n",
    "print(j)"
   ]
  },
  {
   "cell_type": "code",
   "execution_count": 51,
   "metadata": {},
   "outputs": [
    {
     "data": {
      "text/plain": [
       "3"
      ]
     },
     "execution_count": 51,
     "metadata": {},
     "output_type": "execute_result"
    }
   ],
   "source": [
    "c=\"asd\"\n",
    "len(c)"
   ]
  },
  {
   "cell_type": "markdown",
   "metadata": {},
   "source": [
    "iki rakam kullanarak kaç farklı sayı oluşur "
   ]
  },
  {
   "cell_type": "markdown",
   "metadata": {},
   "source": [
    "09\n",
    "90\n",
    "10 tabanında işlem \n",
    "log10\n",
    "log \n",
    "\n",
    "10**2\n",
    "\n",
    "09 = 9 \n",
    "\"09\" != \"9\"\n",
    " ab ba"
   ]
  },
  {
   "cell_type": "markdown",
   "metadata": {},
   "source": [
    "ascii karakterleri kullanarak 2 basamaklı kaç farklı ifade oluşur\n",
    "\n",
    "\n",
    "256*256\n",
    "\n",
    "256**2"
   ]
  },
  {
   "cell_type": "markdown",
   "metadata": {},
   "source": [
    " başlangıç hesabı\n",
    " t = (d*t + ord(text[i])) % q\n",
    "\n",
    "her adımda eklemeli hesap\n",
    "t = (d*(t-ord(text[i])*h) + ord(text[i+M])) % q"
   ]
  }
 ],
 "metadata": {
  "kernelspec": {
   "display_name": "Python 3",
   "language": "python",
   "name": "python3"
  },
  "language_info": {
   "codemirror_mode": {
    "name": "ipython",
    "version": 3
   },
   "file_extension": ".py",
   "mimetype": "text/x-python",
   "name": "python",
   "nbconvert_exporter": "python",
   "pygments_lexer": "ipython3",
   "version": "3.11.8"
  }
 },
 "nbformat": 4,
 "nbformat_minor": 2
}
