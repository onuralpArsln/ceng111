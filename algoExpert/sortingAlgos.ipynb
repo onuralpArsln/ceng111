{
 "cells": [
  {
   "cell_type": "markdown",
   "metadata": {},
   "source": [
    "# Sıralam algortimaları"
   ]
  },
  {
   "cell_type": "markdown",
   "metadata": {},
   "source": [
    "sıralama işlmeleri python dilinde hazır halde gelmekte, ancak bunların nasıl çalıştığını keşfetmek özel uyuglamalar ve kendimiz geliştirmek için iyidir. Büyük miktarda data ile çalışan biri için datanın durumuna göre sıralama algortimasına kara vermek zorunluluğu doğabilir."
   ]
  },
  {
   "cell_type": "markdown",
   "metadata": {},
   "source": [
    "biz quick sort ve insertion sortu keşfedeceğiz"
   ]
  },
  {
   "cell_type": "code",
   "execution_count": null,
   "metadata": {},
   "outputs": [],
   "source": []
  },
  {
   "cell_type": "markdown",
   "metadata": {},
   "source": [
    "## Insertion Sort"
   ]
  },
  {
   "cell_type": "markdown",
   "metadata": {},
   "source": [
    "![SegmentLocal](images/insertionSort.gif \"segment\")"
   ]
  },
  {
   "cell_type": "markdown",
   "metadata": {},
   "source": [
    "basitçe en baştan başlayarak bir eleman alıp bunu sırayla bir listeye koyduğunu düşün. görselde bu ayrı bir liste yerine listenin başına doğru atıyor.  Küçük bir listeyi sıralarken oldukça hızlı"
   ]
  },
  {
   "cell_type": "code",
   "execution_count": 9,
   "metadata": {},
   "outputs": [],
   "source": [
    "def insertionSort(arr):  # girdi olarak bir array alacak\n",
    " \n",
    "    # ilk elemana bakmaya gerek yok ikinci elemandan başla ve geriye doğru bak\n",
    "    for i in range(1, len(arr)):\n",
    " \n",
    "        key = arr[i] # girdi verilen arrayda sırasıyla elemanlarda ilerliyorsun\n",
    " \n",
    "        \n",
    "        j = i-1 # mevcut elamanın bir arkasından başlayarak mevcut elamanı bunla kıyasla\n",
    "        # bu yüzden 0 yerine 1 den başladık\n",
    "\n",
    "         # döngü j sıfırdan aşağı gitmedikçe (ilk index) ve \n",
    "         # mevcut elemandan büyük sayılar  gördükçe  devam eder\n",
    "         # daha küçüğünü bulunca yerleştirir\n",
    "        print(f\"mevcut liste durumu : {arr}\")\n",
    "\n",
    "        print(f\"şuan key değeri {key}\")\n",
    "        while j >= 0 and key < arr[j] : \n",
    "                arr[j + 1] = arr[j]  # büyük bir şey bulamadıkça denk geldiğini sağa atarsın \n",
    "                print(arr) # sağda keyin değeri kaybolacak ama zaten hafızada\n",
    "                j -= 1 # aramayı sola kaydırdık\n",
    "        arr[j + 1] = key  # keyi geri ekledik mevcut elemanı\n",
    " \n",
    " \n"
   ]
  },
  {
   "cell_type": "code",
   "execution_count": 10,
   "metadata": {},
   "outputs": [
    {
     "name": "stdout",
     "output_type": "stream",
     "text": [
      "mevcut liste durumu : [12, 11, 13, 5, 6]\n",
      "şuan key değeri 11\n",
      "[12, 12, 13, 5, 6]\n",
      "mevcut liste durumu : [11, 12, 13, 5, 6]\n",
      "şuan key değeri 13\n",
      "mevcut liste durumu : [11, 12, 13, 5, 6]\n",
      "şuan key değeri 5\n",
      "[11, 12, 13, 13, 6]\n",
      "[11, 12, 12, 13, 6]\n",
      "[11, 11, 12, 13, 6]\n",
      "mevcut liste durumu : [5, 11, 12, 13, 6]\n",
      "şuan key değeri 6\n",
      "[5, 11, 12, 13, 13]\n",
      "[5, 11, 12, 12, 13]\n",
      "[5, 11, 11, 12, 13]\n",
      " 5\n",
      " 6\n",
      " 11\n",
      " 12\n",
      " 13\n"
     ]
    }
   ],
   "source": [
    "# Driver code to test above\n",
    "arr = [12, 11, 13, 5, 6]\n",
    "insertionSort(arr)\n",
    "for i in range(len(arr)):\n",
    "    print (\"% d\" % arr[i])"
   ]
  }
 ],
 "metadata": {
  "kernelspec": {
   "display_name": "Python 3",
   "language": "python",
   "name": "python3"
  },
  "language_info": {
   "codemirror_mode": {
    "name": "ipython",
    "version": 3
   },
   "file_extension": ".py",
   "mimetype": "text/x-python",
   "name": "python",
   "nbconvert_exporter": "python",
   "pygments_lexer": "ipython3",
   "version": "3.9.6"
  }
 },
 "nbformat": 4,
 "nbformat_minor": 2
}
