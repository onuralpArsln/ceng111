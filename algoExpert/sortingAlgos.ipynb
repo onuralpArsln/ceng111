{
 "cells": [
  {
   "cell_type": "markdown",
   "metadata": {},
   "source": [
    "# Sıralama algortimaları"
   ]
  },
  {
   "cell_type": "markdown",
   "metadata": {},
   "source": [
    "sıralama işlmeleri python dilinde hazır halde gelmekte, ancak bunların nasıl çalıştığını keşfetmek özel uyuglamalar ve kendimiz geliştirmek için iyidir. Büyük miktarda data ile çalışan biri için datanın durumuna göre sıralama algortimasına kara vermek zorunluluğu doğabilir."
   ]
  },
  {
   "cell_type": "markdown",
   "metadata": {},
   "source": [
    "biz quick sort ve insertion sortu keşfedeceğiz"
   ]
  },
  {
   "cell_type": "markdown",
   "metadata": {},
   "source": [
    "## Insertion Sort"
   ]
  },
  {
   "cell_type": "markdown",
   "metadata": {},
   "source": [
    "![SegmentLocal](images/insertionSort.gif \"segment\")"
   ]
  },
  {
   "cell_type": "markdown",
   "metadata": {},
   "source": [
    "basitçe en baştan başlayarak bir eleman alıp bunu sırayla bir listeye koyduğunu düşün. görselde bu ayrı bir liste yerine listenin başına doğru atıyor.  Küçük bir listeyi sıralarken oldukça hızlı"
   ]
  },
  {
   "cell_type": "code",
   "execution_count": 3,
   "metadata": {},
   "outputs": [],
   "source": [
    "def insertionSort(arr):  # girdi olarak bir array alacak\n",
    " \n",
    "    # ilk elemana bakmaya gerek yok ikinci elemandan başla ve geriye doğru bak\n",
    "    for i in range(1, len(arr)):\n",
    " \n",
    "        key = arr[i] # girdi verilen arrayda sırasıyla elemanlarda ilerliyorsun\n",
    " \n",
    "        \n",
    "        j = i-1 # mevcut elamanın bir arkasından başlayarak mevcut elamanı bunla kıyasla\n",
    "        # bu yüzden 0 yerine 1 den başladık\n",
    "\n",
    "         # döngü j sıfırdan aşağı gitmedikçe (ilk index) ve \n",
    "         # mevcut elemandan büyük sayılar  gördükçe  devam eder\n",
    "         # daha küçüğünü bulunca yerleştirir\n",
    "        print(f\"mevcut liste durumu : {arr}\") # süreci görmemiz için \n",
    "\n",
    "        print(f\"şuan key değeri {key}\")\n",
    "        while j >= 0 and key < arr[j] : \n",
    "                arr[j + 1] = arr[j]  # büyük bir şey bulamadıkça denk geldiğini sağa atarsın \n",
    "                print(arr) # sağda keyin değeri kaybolacak ama zaten hafızada\n",
    "                j -= 1 # aramayı sola kaydırdık\n",
    "        arr[j + 1] = key  # keyi geri ekledik mevcut elemanı\n",
    " \n",
    " \n",
    "\n"
   ]
  },
  {
   "cell_type": "code",
   "execution_count": 6,
   "metadata": {},
   "outputs": [
    {
     "name": "stdout",
     "output_type": "stream",
     "text": [
      "mevcut liste durumu : [12, 11, 13, 5, 6]\n",
      "şuan key değeri 11\n",
      "[12, 12, 13, 5, 6]\n",
      "mevcut liste durumu : [11, 12, 13, 5, 6]\n",
      "şuan key değeri 13\n",
      "mevcut liste durumu : [11, 12, 13, 5, 6]\n",
      "şuan key değeri 5\n",
      "[11, 12, 13, 13, 6]\n",
      "[11, 12, 12, 13, 6]\n",
      "[11, 11, 12, 13, 6]\n",
      "mevcut liste durumu : [5, 11, 12, 13, 6]\n",
      "şuan key değeri 6\n",
      "[5, 11, 12, 13, 13]\n",
      "[5, 11, 12, 12, 13]\n",
      "[5, 11, 11, 12, 13]\n",
      " ----  \n",
      "[5, 6, 11, 12, 13]\n"
     ]
    }
   ],
   "source": [
    "# Driver code to test above\n",
    "arr = [12, 11, 13, 5, 6]\n",
    "insertionSort(arr)\n",
    "\n",
    "\n",
    "print(\" ----  \")\n",
    "print(arr)"
   ]
  },
  {
   "cell_type": "markdown",
   "metadata": {},
   "source": [
    "küçük listelerde çok iyi olsada daha uzun bir listede daha hızlı bişi lazım"
   ]
  },
  {
   "cell_type": "markdown",
   "metadata": {},
   "source": [
    "## quick sort "
   ]
  },
  {
   "cell_type": "markdown",
   "metadata": {},
   "source": [
    "![SegmentLocal](images/quickSort.gif \"segment\")"
   ]
  },
  {
   "cell_type": "markdown",
   "metadata": {},
   "source": [
    "önce bir pivot noktası seçer. Örnekte 13 seçili, 13ten büyükleri sağa küçükleri sola atar, her iki grup için buna devam eder en altta artık düzenli sıra kalacaktır en küçük sola en büyük sağa gider hep"
   ]
  },
  {
   "cell_type": "markdown",
   "metadata": {},
   "source": [
    "![SegmentLocal](images/quickSort.png \"segment\")"
   ]
  },
  {
   "cell_type": "code",
   "execution_count": 8,
   "metadata": {},
   "outputs": [],
   "source": [
    "\n",
    "# sıralanacak array \n",
    "# low en düşük index nuamrası \n",
    "# high  en yüksek indeks numarısı \n",
    "\n",
    "def partition(array, low, high):\n",
    " \n",
    "    # hangi elemanaı göre böleceği seçiliyor \n",
    "    pivot = array[high]\n",
    " \n",
    "    # daha büyük eleman için pointer\n",
    "    i = low - 1\n",
    " \n",
    "    # verilen low high aralığında elemanları gez\n",
    "    # her elemanı pivot ile kıyasla  \n",
    "    for j in range(low, high):\n",
    "        if array[j] <= pivot:\n",
    " \n",
    "            # eğer pivottan küçük elamn bulduysak \n",
    "            # i ile gösterilen elemanla değiştircez bunun için i bir arttılıyor \n",
    "            i = i + 1\n",
    " \n",
    "            # pythonda yer değiştirme a,b= b,a ile yapılabilir (swap)\n",
    "            (array[i], array[j]) = (array[j], array[i])\n",
    " \n",
    "    # tüm elemnlar pivottan küçük kalcağı için pivotla son bi swap yapılır\n",
    "      \n",
    "    # döngüde swapten önce i+1 yapıyorduk burda bracket içinde i+1 dedik\n",
    "    (array[i + 1], array[high]) = (array[high], array[i + 1])\n",
    " \n",
    "    # işlemin son yapıldığı pointerr ifade edilir\n",
    "    # yukarda işlem yapıtğımız için pointer bir ileri alınıp returnlernir \n",
    "    return i + 1\n",
    " \n",
    "# bu değiştirme fgonksiyonu ile quicksort kullanılabilir\n",
    " \n",
    " \n",
    "def quickSort(array, low, high):\n",
    "    if low < high:\n",
    "\n",
    "\n",
    "        # incelikle bir parçalama partition yapılıyor \n",
    "        pi = partition(array, low, high)\n",
    "\n",
    "     \n",
    " \n",
    "        #sonrasında sağ vve sol için terkrar quikc sort çağrılır\n",
    "\n",
    "        quickSort(array, low, pi - 1)\n",
    " \n",
    "    \n",
    "        quickSort(array, pi + 1, high)\n",
    " \n",
    " \n"
   ]
  },
  {
   "cell_type": "code",
   "execution_count": 9,
   "metadata": {},
   "outputs": [
    {
     "name": "stdout",
     "output_type": "stream",
     "text": [
      "Unsorted Array\n",
      "[1, 7, 4, 1, 10, 9, -2]\n",
      "[-2, 7, 4, 1, 10, 9, 1]\n",
      "[-2, 1, 1, 7, 10, 9, 4]\n",
      "[-2, 1, 1, 4, 10, 9, 7]\n",
      "[-2, 1, 1, 4, 7, 9, 10]\n",
      "[-2, 1, 1, 4, 7, 9, 10]\n",
      "Sorted Array in Ascending Order:\n",
      "[-2, 1, 1, 4, 7, 9, 10]\n"
     ]
    }
   ],
   "source": [
    "data = [1, 7, 4, 1, 10, 9, -2]\n",
    "print(\"Unsorted Array\")\n",
    "print(data)\n",
    " \n",
    "size = len(data)\n",
    " \n",
    "quickSort(data, 0, size - 1)\n",
    " \n",
    "print('Sorted Array in Ascending Order:')\n",
    "print(data)"
   ]
  }
 ],
 "metadata": {
  "kernelspec": {
   "display_name": "Python 3",
   "language": "python",
   "name": "python3"
  },
  "language_info": {
   "codemirror_mode": {
    "name": "ipython",
    "version": 3
   },
   "file_extension": ".py",
   "mimetype": "text/x-python",
   "name": "python",
   "nbconvert_exporter": "python",
   "pygments_lexer": "ipython3",
   "version": "3.11.8"
  }
 },
 "nbformat": 4,
 "nbformat_minor": 2
}
