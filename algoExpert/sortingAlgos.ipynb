{
 "cells": [
  {
   "cell_type": "markdown",
   "metadata": {},
   "source": [
    "# Sıralam algortimaları"
   ]
  },
  {
   "cell_type": "markdown",
   "metadata": {},
   "source": [
    "sıralama işlmeleri python dilinde hazır halde gelmekte, ancak bunların nasıl çalıştığını keşfetmek özel uyuglamalar ve kendimiz geliştirmek için iyidir. Büyük miktarda data ile çalışan biri için datanın durumuna göre sıralama algortimasına kara vermek zorunluluğu doğabilir."
   ]
  },
  {
   "cell_type": "markdown",
   "metadata": {},
   "source": [
    "biz quick sort ve insertion sortu keşfedeceğiz"
   ]
  }
 ],
 "metadata": {
  "language_info": {
   "name": "python"
  }
 },
 "nbformat": 4,
 "nbformat_minor": 2
}
