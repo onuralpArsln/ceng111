{
 "cells": [
  {
   "cell_type": "markdown",
   "metadata": {},
   "source": [
    "# Sıralam algortimaları"
   ]
  },
  {
   "cell_type": "markdown",
   "metadata": {},
   "source": [
    "sıralama işlmeleri python dilinde hazır halde gelmekte, ancak bunların nasıl çalıştığını keşfetmek özel uyuglamalar ve kendimiz geliştirmek için iyidir. Büyük miktarda data ile çalışan biri için datanın durumuna göre sıralama algortimasına kara vermek zorunluluğu doğabilir."
   ]
  },
  {
   "cell_type": "markdown",
   "metadata": {},
   "source": [
    "biz quick sort ve insertion sortu keşfedeceğiz"
   ]
  },
  {
   "cell_type": "code",
   "execution_count": null,
   "metadata": {
    "vscode": {
     "languageId": "plaintext"
    }
   },
   "outputs": [],
   "source": []
  },
  {
   "cell_type": "markdown",
   "metadata": {},
   "source": [
    "## Insertion Sort"
   ]
  },
  {
   "cell_type": "markdown",
   "metadata": {},
   "source": [
    "![SegmentLocal](images/insertionSort.gif \"segment\")"
   ]
  },
  {
   "cell_type": "markdown",
   "metadata": {},
   "source": [
    "basitçe en baştan başlayarak bir eleman alıp bunu sırayla bir listeye koyduğunu düşün. görselde bu ayrı bir liste yerine listenin başına doğru atıyor.  Küçük bir listeyi sıralarken oldukça hızlı"
   ]
  },
  {
   "cell_type": "code",
   "execution_count": null,
   "metadata": {},
   "outputs": [],
   "source": [
    "def insertionSort(arr):  # girdi olarak bir array alacak\n",
    " \n",
    "    # ilk elemana bakmaya gerek yok ikinci elemandan başla ve geriye doğru bak\n",
    "    \n",
    "\n",
    "    for i in range(1, len(arr)):\n",
    " \n",
    "        key = arr[i]\n",
    " \n",
    "        # Move elements of arr[0..i-1], that are\n",
    "        # greater than key, to one position ahead\n",
    "        # of their current position\n",
    "        j = i-1\n",
    "        while j >= 0 and key < arr[j] :\n",
    "                arr[j + 1] = arr[j]\n",
    "                j -= 1\n",
    "        arr[j + 1] = key\n",
    " \n",
    " \n"
   ]
  },
  {
   "cell_type": "code",
   "execution_count": null,
   "metadata": {},
   "outputs": [],
   "source": [
    "# Driver code to test above\n",
    "arr = [12, 11, 13, 5, 6]\n",
    "insertionSort(arr)\n",
    "for i in range(len(arr)):\n",
    "    print (\"% d\" % arr[i])"
   ]
  }
 ],
 "metadata": {
  "language_info": {
   "name": "python"
  }
 },
 "nbformat": 4,
 "nbformat_minor": 2
}
