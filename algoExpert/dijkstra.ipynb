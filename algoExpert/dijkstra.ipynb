{
 "cells": [
  {
   "cell_type": "markdown",
   "metadata": {},
   "source": [
    "## Dijkstra's Two-Stack Algorithm"
   ]
  },
  {
   "cell_type": "markdown",
   "metadata": {},
   "source": [
    "matematiksel ifadeleri hesaplamak için parantez önceliğini sağlayan bir algoritma "
   ]
  },
  {
   "cell_type": "markdown",
   "metadata": {},
   "source": [
    "öncelikle 4 işlemi kolayca yapan bir fonksiyon yazalım hep string alıp string döndürecek ama arada int ile çalışacak"
   ]
  },
  {
   "cell_type": "code",
   "execution_count": 1,
   "metadata": {},
   "outputs": [],
   "source": [
    "def calc(op, a, b):\n",
    "    c = int(a)\n",
    "    d = int(b)\n",
    "    if op == '/':\n",
    "        return str(c // d)\n",
    "    elif op == '+':\n",
    "        return str(c + d)\n",
    "    elif op == '-':\n",
    "        return str(c - d)\n",
    "    elif op == '*':\n",
    "        return str(c * d)\n",
    "    else:\n",
    "        raise ValueError(op + \" is not recognized\")\n",
    "\n",
    "\n",
    "        "
   ]
  },
  {
   "cell_type": "markdown",
   "metadata": {},
   "source": [
    "artık verilen operatöre göre işlme mümkün artık ifadeye geçebiliriz"
   ]
  },
  {
   "cell_type": "markdown",
   "metadata": {},
   "source": [
    "öncelikle değerleri doğru stacklere atan bir sistem yapalım"
   ]
  },
  {
   "cell_type": "code",
   "execution_count": 2,
   "metadata": {},
   "outputs": [],
   "source": [
    "def stacker(expression):\n",
    "    operand = []\n",
    "    values = []\n",
    "\n",
    "    ops = [\"-\",\"+\",\"/\",\"*\",\"(\", \")\" ]\n",
    "\n",
    "    for i in expression:\n",
    "        if i in ops:\n",
    "            operand.append(i)\n",
    "        else:\n",
    "            values.append(i)\n",
    "\n",
    "    print(operand)\n",
    "    print(values)\n"
   ]
  },
  {
   "cell_type": "markdown",
   "metadata": {},
   "source": [
    "hadi test edelim"
   ]
  },
  {
   "cell_type": "code",
   "execution_count": 13,
   "metadata": {},
   "outputs": [
    {
     "name": "stdout",
     "output_type": "stream",
     "text": [
      "['*', '-']\n",
      "['5', '3']\n"
     ]
    }
   ],
   "source": [
    "stacker(\"5*3-1\")"
   ]
  },
  {
   "cell_type": "markdown",
   "metadata": {},
   "source": [
    "sayıları ve işlmeleri doğru ayırıyor ama bir hatası var"
   ]
  },
  {
   "cell_type": "code",
   "execution_count": 10,
   "metadata": {},
   "outputs": [
    {
     "name": "stdout",
     "output_type": "stream",
     "text": [
      "['(', '-', ')']\n",
      "['35', '7']\n"
     ]
    }
   ],
   "source": [
    "stacker(\"(35-7)\")"
   ]
  },
  {
   "cell_type": "markdown",
   "metadata": {},
   "source": [
    "35 yerine 3 ve 5 kaydetti bunu düzeltelim"
   ]
  },
  {
   "cell_type": "code",
   "execution_count": 6,
   "metadata": {},
   "outputs": [],
   "source": [
    "def stacker(expression):\n",
    "    operand = []\n",
    "    values = []\n",
    "    valueMem =\"\" #bunu yeni ekledik\n",
    "\n",
    "    ops = [\"-\",\"+\",\"/\",\"*\",\"(\", \")\" ]\n",
    "\n",
    "    for i in expression:\n",
    "        if i in ops:\n",
    "            operand.append(i)\n",
    "            if valueMem != \"\": # yani hafızada bir şey varsa \n",
    "                values.append(valueMem)\n",
    "                valueMem =\"\" # hafıza boşalt\n",
    "                \n",
    "        else:   # eğer bir sayı ise \n",
    "            valueMem += i   #acele etme hafızaya\n",
    "\n",
    "    print(operand)\n",
    "    print(values)"
   ]
  },
  {
   "cell_type": "markdown",
   "metadata": {},
   "source": [
    "artık valueMem değişkenimiz var eğer bir sayı üzerinde ise valueMem'e ekler bir işlem operatörü gelince ise operatörü operatör sınıfına valueMemi is değer sınıfına atar ve valueMem sıfırlarnır"
   ]
  },
  {
   "cell_type": "code",
   "execution_count": 18,
   "metadata": {},
   "outputs": [
    {
     "name": "stdout",
     "output_type": "stream",
     "text": [
      "['(', '-', ')']\n",
      "['35', '7']\n"
     ]
    }
   ],
   "source": [
    "stacker(\"(35-7)\")"
   ]
  },
  {
   "cell_type": "markdown",
   "metadata": {},
   "source": [
    "ama sonda işaret olmazsa son karakteri unutuyor "
   ]
  },
  {
   "cell_type": "code",
   "execution_count": 17,
   "metadata": {},
   "outputs": [
    {
     "name": "stdout",
     "output_type": "stream",
     "text": [
      "['*', '-']\n",
      "['5', '3', '1']\n"
     ]
    }
   ],
   "source": [
    "stacker(\"5*3-1\")"
   ]
  },
  {
   "cell_type": "code",
   "execution_count": 15,
   "metadata": {},
   "outputs": [],
   "source": [
    "def stacker(expression):\n",
    "    operand = []\n",
    "    values = []\n",
    "    valueMem =\"\" #bunu yeni ekledik\n",
    "\n",
    "    ops = [\"-\",\"+\",\"/\",\"*\",\"(\", \")\" ]\n",
    "\n",
    "    for i in expression:\n",
    "        if i in ops:\n",
    "            operand.append(i)\n",
    "            if valueMem != \"\": # yani hafızada bir şey varsa \n",
    "                values.append(valueMem)\n",
    "                valueMem =\"\" # hafıza boşalt\n",
    "                \n",
    "        else:   # eğer bir sayı ise \n",
    "            valueMem += i   #acele etme hafızaya\n",
    "    \n",
    "    if valueMem != \"\": # döngü bittiği halde hafızanda kalan bir şey varsa ekle \n",
    "        values.append(valueMem)\n",
    "\n",
    "\n",
    "    print(operand)\n",
    "    print(values)"
   ]
  },
  {
   "cell_type": "markdown",
   "metadata": {},
   "source": [
    "Artık nasıl stack yapacağımızı biliyoruz sırada her kapa parantez görünce işlem yapan ve stack ekleyen bir sistem kurmak lazım"
   ]
  },
  {
   "cell_type": "markdown",
   "metadata": {},
   "source": [
    "bu algoritma için her patantez içinde iki değer ve bir işlme olmalı.. algoritmamız iyi parantezlenmiş ifade de çalışır "
   ]
  },
  {
   "cell_type": "markdown",
   "metadata": {},
   "source": [
    "bir ) görünce stacklerden işlme alıp yapmak istiyoruz algoritmamızı düzenleyelim\n"
   ]
  },
  {
   "cell_type": "code",
   "execution_count": 21,
   "metadata": {},
   "outputs": [],
   "source": [
    "def hesap(expression):\n",
    "    operand = [] # bunları yukardan hatırlarsın \n",
    "    values = [] # işlemleri ve değerleri tutmalık hafıza\n",
    "    valueMem =\"\"\n",
    "\n",
    "    ops = [\"-\",\"+\",\"/\",\"*\"] #artık parantez kapama yok \n",
    "    # ve kapa bizim karar yapımız olacak\n",
    "\n",
    "    for i in expression:\n",
    "        if i in ops:\n",
    "            operand.append(i)\n",
    "            if valueMem != \"\":\n",
    "                values.append(valueMem)\n",
    "                valueMem =\"\"\n",
    "        elif i == \")\":  # hesap yapacağız\n",
    "            if valueMem != \"\":\n",
    "                values.append(valueMem)\n",
    "                valueMem =\"\" # 56-78) gibi bi durumda 78i hafızaya atar\n",
    "\n",
    "          \n",
    "            b = values[-1]\n",
    "            values.pop()\n",
    "            a=values[-1]\n",
    "            values.pop()\n",
    "            # son değer al son değeri listeden çıkart önce a sonra b çünkü a-b olabilir\n",
    "            op = operand[-1]\n",
    "            operand.pop()\n",
    "\n",
    "\n",
    "            \n",
    "            result = calc(op,a,b)\n",
    "            # hesabı yap değere ekle \n",
    "            values.append(str(result))\n",
    "\n",
    "\n",
    "\n",
    "        elif i != \"(\":\n",
    "            valueMem += i\n",
    "\n",
    "    print(result)\n",
    "   "
   ]
  },
  {
   "cell_type": "code",
   "execution_count": 22,
   "metadata": {},
   "outputs": [
    {
     "name": "stdout",
     "output_type": "stream",
     "text": [
      "5\n"
     ]
    }
   ],
   "source": [
    "hesap(\"((2*6)-7)\")"
   ]
  },
  {
   "cell_type": "code",
   "execution_count": 23,
   "metadata": {},
   "outputs": [
    {
     "name": "stdout",
     "output_type": "stream",
     "text": [
      "2\n"
     ]
    }
   ],
   "source": [
    "hesap(\"((12*1)/(36/6))\")"
   ]
  }
 ],
 "metadata": {
  "kernelspec": {
   "display_name": "Python 3",
   "language": "python",
   "name": "python3"
  },
  "language_info": {
   "codemirror_mode": {
    "name": "ipython",
    "version": 3
   },
   "file_extension": ".py",
   "mimetype": "text/x-python",
   "name": "python",
   "nbconvert_exporter": "python",
   "pygments_lexer": "ipython3",
   "version": "3.11.9"
  }
 },
 "nbformat": 4,
 "nbformat_minor": 2
}
