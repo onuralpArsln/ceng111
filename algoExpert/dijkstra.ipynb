{
 "cells": [
  {
   "cell_type": "markdown",
   "metadata": {},
   "source": [
    "Dijkstra's Two-Stack Algorithm"
   ]
  },
  {
   "cell_type": "markdown",
   "metadata": {},
   "source": [
    "matematiksel ifadeleri hesaplamak için parantez önceliğini sağlayan bir algoritma "
   ]
  },
  {
   "cell_type": "markdown",
   "metadata": {},
   "source": [
    "öncelikle 4 işlemi kolayca yapan bir fonksiyon yazalım"
   ]
  },
  {
   "cell_type": "code",
   "execution_count": null,
   "metadata": {},
   "outputs": [],
   "source": [
    "def calc (op,a,b):\n",
    "    match op:\n",
    "        case '/':\n",
    "            return a//b\n",
    "        case '+':\n",
    "            return a+b\n",
    "        case '-':\n",
    "            return a-b\n",
    "        case '*':\n",
    "            return a*b\n",
    "        case _:\n",
    "            raise ValueError(op + \"is not recognized\")\n",
    "        "
   ]
  },
  {
   "cell_type": "markdown",
   "metadata": {},
   "source": [
    "artık verilen operatöre göre işlme mümkün artık ifadeye geçebiliriz"
   ]
  },
  {
   "cell_type": "markdown",
   "metadata": {},
   "source": [
    "öncelikle değerleri doğru stacklere atan bir sistem yapalım"
   ]
  },
  {
   "cell_type": "code",
   "execution_count": 10,
   "metadata": {},
   "outputs": [],
   "source": [
    "def stacker(expression):\n",
    "    operand = []\n",
    "    values = []\n",
    "\n",
    "    ops = [\"-\",\"+\",\"/\",\"*\",\"(\", \")\" ]\n",
    "\n",
    "    for i in expression:\n",
    "        if i in ops:\n",
    "            operand.append(i)\n",
    "        else:\n",
    "            values.append(i)\n",
    "\n",
    "    print(operand)\n",
    "    print(values)\n"
   ]
  },
  {
   "cell_type": "markdown",
   "metadata": {},
   "source": [
    "hadi test edelim"
   ]
  },
  {
   "cell_type": "code",
   "execution_count": 5,
   "metadata": {},
   "outputs": [
    {
     "name": "stdout",
     "output_type": "stream",
     "text": [
      "['*', '-']\n",
      "['5', '3', '1']\n"
     ]
    }
   ],
   "source": [
    "stacker(\"5*3-1\")"
   ]
  },
  {
   "cell_type": "markdown",
   "metadata": {},
   "source": [
    "sayıları ve işlmeleri doğru ayırıyor ama bir hatası var"
   ]
  },
  {
   "cell_type": "code",
   "execution_count": 11,
   "metadata": {},
   "outputs": [
    {
     "name": "stdout",
     "output_type": "stream",
     "text": [
      "['(', '-', ')']\n",
      "['3', '5', '7']\n"
     ]
    }
   ],
   "source": [
    "stacker(\"(35-7)\")"
   ]
  },
  {
   "cell_type": "markdown",
   "metadata": {},
   "source": [
    "35 yerine 3 ve 5 kaydetti bunu düzeltelim"
   ]
  },
  {
   "cell_type": "code",
   "execution_count": 7,
   "metadata": {},
   "outputs": [],
   "source": [
    "def stacker(expression):\n",
    "    operand = []\n",
    "    values = []\n",
    "    valueMem =\"\"\n",
    "\n",
    "    ops = [\"-\",\"+\",\"/\",\"*\",\"(\", \")\" ]\n",
    "\n",
    "    for i in expression:\n",
    "        if i in ops:\n",
    "            operand.append(i)\n",
    "            if valueMem != \"\":\n",
    "                values.append(valueMem)\n",
    "                valueMem =\"\"\n",
    "                \n",
    "        else:\n",
    "            valueMem += i\n",
    "\n",
    "    print(operand)\n",
    "    print(values)"
   ]
  },
  {
   "cell_type": "markdown",
   "metadata": {},
   "source": [
    "artık valueMem değişkenimiz var eğer bir sayı ğzerinde ise valueMeme ekler bir işlem operatörü gelince ise operatörü operatör sınıfına valueMemi is değer sınıfına atar ve valueMem sıfırlarnı"
   ]
  },
  {
   "cell_type": "code",
   "execution_count": 9,
   "metadata": {},
   "outputs": [
    {
     "name": "stdout",
     "output_type": "stream",
     "text": [
      "['(', '-', ')']\n",
      "['35', '7']\n"
     ]
    }
   ],
   "source": [
    "stacker(\"(35-7)\")"
   ]
  },
  {
   "cell_type": "markdown",
   "metadata": {},
   "source": [
    "Artık nasıl stack yapacağımızı biliyoruz sırada her kapa parantez görünce işlem yapan ve stack ekleyen bir sistem kurmak lazım"
   ]
  },
  {
   "cell_type": "markdown",
   "metadata": {},
   "source": [
    "bu algoritma için her patantez içinde iki değer ve bir işlme olmalı.. algoritmamız iyi parantezlenmiş ifade de çalışır "
   ]
  },
  {
   "cell_type": "markdown",
   "metadata": {},
   "source": []
  }
 ],
 "metadata": {
  "kernelspec": {
   "display_name": "Python 3",
   "language": "python",
   "name": "python3"
  },
  "language_info": {
   "codemirror_mode": {
    "name": "ipython",
    "version": 3
   },
   "file_extension": ".py",
   "mimetype": "text/x-python",
   "name": "python",
   "nbconvert_exporter": "python",
   "pygments_lexer": "ipython3",
   "version": "3.9.6"
  }
 },
 "nbformat": 4,
 "nbformat_minor": 2
}
