{
 "cells": [
  {
   "cell_type": "markdown",
   "metadata": {},
   "source": [
    "##  Find Duplicate in an array  "
   ]
  },
  {
   "cell_type": "markdown",
   "metadata": {},
   "source": [
    "hash mapping vs Floyd's Tortoise and Hare ( also knbown as Floyd's Cycle Detection Algorithm)"
   ]
  },
  {
   "cell_type": "markdown",
   "metadata": {},
   "source": [
    "Time Complexity: Both methods have a time complexity of O(n), where n is the number of elements in the array. However, Floyd's algorithm typically has a smaller constant factor compared to hashing. This can make it faster for smaller arrays or arrays with relatively few duplicates.\n",
    "\n",
    "Space Complexity: Floyd's algorithm has a space complexity of O(1) because it doesn't require any additional data structures. On the other hand, using a hash table requires additional space to store the hash table, which could be significant for large arrays or memory-constrained environments.\n",
    "\n",
    "Array Modification: Floyd's algorithm doesn't modify the array, whereas using a hash table may involve modifying the array if you're hashing the elements themselves. If modifying the array is not allowed, Floyd's algorithm would be preferable.\n",
    "\n",
    "Implementation Complexity: Implementing Floyd's algorithm might be more complex compared to using a hash table, especially if you're not familiar with cycle detection algorithms. Hash tables are typically easier to implement and understand.\n",
    "\n",
    "In general, if memory usage is a concern or if you can't modify the array, Floyd's Tortoise and Hare algorithm could be a better choice. However, if you're looking for simplicity and don't have strict memory constraints, using a hash table might be more straightforward and efficient in many cases.\n",
    "\n",
    "https://dev.to/alisabaj/floyd-s-tortoise-and-hare-algorithm-finding-a-cycle-in-a-linked-list-39af"
   ]
  },
  {
   "cell_type": "code",
   "execution_count": null,
   "metadata": {},
   "outputs": [],
   "source": []
  }
 ],
 "metadata": {
  "language_info": {
   "name": "python"
  }
 },
 "nbformat": 4,
 "nbformat_minor": 2
}
