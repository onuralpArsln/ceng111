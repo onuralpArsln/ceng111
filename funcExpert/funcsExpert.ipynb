{
 "cells": [
  {
   "cell_type": "markdown",
   "metadata": {},
   "source": [
    "istenilen kadar çok parametre vermek "
   ]
  },
  {
   "cell_type": "code",
   "execution_count": null,
   "metadata": {},
   "outputs": [],
   "source": [
    "def toplamsayilar(nums1,nums2):\n",
    "    toplam = nums1 + nums2\n",
    "    return toplam"
   ]
  },
  {
   "cell_type": "code",
   "execution_count": null,
   "metadata": {},
   "outputs": [],
   "source": [
    "def toplamsayilar(*nums, nums1):\n",
    "    toplam = 0\n",
    "    for i in nums:\n",
    "        toplam += i\n",
    "    return toplam*nums1\n"
   ]
  },
  {
   "cell_type": "code",
   "execution_count": null,
   "metadata": {},
   "outputs": [],
   "source": [
    "\n",
    "toplamsayilar(100034534500,2,3,4,5,6,7,4, nums1= 0)"
   ]
  },
  {
   "cell_type": "code",
   "execution_count": null,
   "metadata": {},
   "outputs": [],
   "source": [
    "mySozluk={\"ekmek\":\"beyaz\",\"peynir\":\"krem\",\"domates\":\"çeri\"}\n",
    "\n"
   ]
  },
  {
   "cell_type": "code",
   "execution_count": null,
   "metadata": {},
   "outputs": [],
   "source": [
    "for i in mySozluk.keys():\n",
    "    print(i)"
   ]
  },
  {
   "cell_type": "code",
   "execution_count": null,
   "metadata": {},
   "outputs": [],
   "source": [
    "for i in mySozluk.values():\n",
    "    print(i)"
   ]
  },
  {
   "cell_type": "code",
   "execution_count": null,
   "metadata": {},
   "outputs": [],
   "source": [
    "for key,value in mySozluk.items():\n",
    "    print(f\" {key} için seçim {value}\")"
   ]
  },
  {
   "cell_type": "code",
   "execution_count": null,
   "metadata": {},
   "outputs": [],
   "source": [
    "kahvalti=[\"ekmek\",\"peynir\",\"zeytin\"]\n",
    "\n",
    "for index,value in enumerate(kahvalti):\n",
    "    print(f\" {index} için seçim {value}\")"
   ]
  },
  {
   "cell_type": "code",
   "execution_count": null,
   "metadata": {},
   "outputs": [],
   "source": [
    "def myFunc(*args, **kwargs): \n",
    "    for arg in args:\n",
    "        print(\"it is an arg\")\n",
    "        print(arg)\n",
    "\n",
    "    for key,value in kwargs.items():\n",
    "        print(\"kwargs\")\n",
    "        print(\"you given key\")\n",
    "        print(key)\n",
    "        print(\"you given value \")\n",
    "        print(value)\n",
    "    "
   ]
  },
  {
   "cell_type": "code",
   "execution_count": null,
   "metadata": {},
   "outputs": [],
   "source": [
    "myFunc(\"hello\",\" arg\", name=\"mamhmut\",passw=\"123\")"
   ]
  },
  {
   "cell_type": "code",
   "execution_count": null,
   "metadata": {},
   "outputs": [],
   "source": [
    "def pizzaMaker():\n",
    "\n",
    "    toppingList=[]\n",
    "    topping=\"\"\n",
    "    \n",
    "    while topping != \"yeto\":\n",
    "        topping = input(\"ne istersiniz\") \n",
    "        toppingList.append(topping)\n",
    "        \n",
    "    toppingList.pop()\n",
    "    return toppingList\n",
    "\n"
   ]
  },
  {
   "cell_type": "code",
   "execution_count": null,
   "metadata": {},
   "outputs": [],
   "source": [
    "pizzaMaker()"
   ]
  },
  {
   "cell_type": "code",
   "execution_count": null,
   "metadata": {},
   "outputs": [],
   "source": [
    "def vedatMilor( toppings : list): \n",
    "    # eğer 4 üründen fazla varsa beğenmez\n",
    "    # eğer peynir olarak Mozzarella, edam, çedar, colby, gravyer,  en az biri yoksa beğenmez\n",
    "    # domates yoksa beğenmez \n",
    "    # aksi halde beğenir \n",
    "    # beğenmezse false beğenirse true döner\n",
    "    cheese = {\"mozzarella\", \"edam\", \"çedar\", \"colby\", \"gravyer\"}\n",
    "\n",
    "    if len(toppings) >  4:\n",
    "        print(\"çorba olmuş bu yav\")\n",
    "        return False\n",
    "    \n",
    "    elif len(cheese.intersection(toppings))<=0:\n",
    "        print(\"bu peynir küflenmiş\")\n",
    "        return False\n",
    "    \n",
    "    elif \"tomato\" not in toppings:\n",
    "        print(\"hani domat yok mu menemen soğanlı yenir\")\n",
    "        return False\n",
    "    \n",
    "    \n",
    "    return True\n",
    "    \n",
    "\n"
   ]
  },
  {
   "cell_type": "code",
   "execution_count": null,
   "metadata": {},
   "outputs": [],
   "source": [
    "\n",
    "\n",
    "vedatMilor(pizzaMaker())"
   ]
  },
  {
   "cell_type": "code",
   "execution_count": null,
   "metadata": {},
   "outputs": [],
   "source": [
    "cheese = {\"mozzarella\", \"edam\", \"çedar\", \"colby\", \"gravyer\"}\n",
    "cheese.intersection([\"\",\"\",\"krem\"])"
   ]
  },
  {
   "cell_type": "code",
   "execution_count": null,
   "metadata": {},
   "outputs": [],
   "source": [
    "num = 5\n",
    "\n",
    "print(num)\n",
    "\n",
    "print(id(num))\n"
   ]
  },
  {
   "cell_type": "markdown",
   "metadata": {},
   "source": [
    "yield keywordu return gibidir ama next ile kullanım sağlar ve aynı değişkenler üzerinde işlem olanağı verir"
   ]
  },
  {
   "cell_type": "code",
   "execution_count": null,
   "metadata": {},
   "outputs": [],
   "source": [
    "def fibonacci():\n",
    "    a, b = 0, 1\n",
    "    while True:\n",
    "        yield a\n",
    "        a, b = b, a                  "
   ]
  },
  {
   "cell_type": "code",
   "execution_count": null,
   "metadata": {},
   "outputs": [],
   "source": [
    "a=5\n",
    "b=7\n",
    "\n",
    "# a=7    b = 5 olsun ama başka değişkne olmasın \n",
    "\n",
    "a,b=b,a\n",
    "print(a)\n",
    "\n"
   ]
  },
  {
   "cell_type": "code",
   "execution_count": null,
   "metadata": {},
   "outputs": [],
   "source": [
    "fib = fibonacci()\n",
    "print(next(fib))  "
   ]
  },
  {
   "cell_type": "code",
   "execution_count": null,
   "metadata": {},
   "outputs": [],
   "source": [
    "print(next(fib))  "
   ]
  },
  {
   "cell_type": "markdown",
   "metadata": {},
   "source": [
    "dekoratörler"
   ]
  },
  {
   "cell_type": "markdown",
   "metadata": {},
   "source": [
    "returnu olmayan bir fonksiyon dekoratorü"
   ]
  },
  {
   "cell_type": "code",
   "execution_count": null,
   "metadata": {},
   "outputs": [],
   "source": [
    "def my_decorator(func):\n",
    "    def wrapper():\n",
    "        print(\"merhaba\")\n",
    "        func()\n",
    "        print(\"dünya\")\n",
    "    return wrapper\n"
   ]
  },
  {
   "cell_type": "code",
   "execution_count": null,
   "metadata": {},
   "outputs": [],
   "source": [
    "@my_decorator\n",
    "def say_hello():\n",
    "    print(\"Hello World!\")"
   ]
  },
  {
   "cell_type": "code",
   "execution_count": null,
   "metadata": {},
   "outputs": [],
   "source": [
    "say_hello()"
   ]
  },
  {
   "cell_type": "markdown",
   "metadata": {},
   "source": [
    "returnu olna bir funcdecoratoru "
   ]
  },
  {
   "cell_type": "code",
   "execution_count": null,
   "metadata": {},
   "outputs": [],
   "source": [
    "def doubler(y):\n",
    "    return y*2"
   ]
  },
  {
   "cell_type": "code",
   "execution_count": null,
   "metadata": {},
   "outputs": [],
   "source": [
    "# returnu olan bir functu returnu olan bir fonksiyonla editlicez\n",
    "# inner istediğimiz davranışı temsil ediyor\n",
    "#innerin bir returnu ve decoratorün returnu olmalı\n",
    "def makeOdd(func):\n",
    "    def inner(x):\n",
    "        if func(x) %2 == 0:\n",
    "            return func(x)-1\n",
    "        else:\n",
    "            return func(x)\n",
    "    return inner"
   ]
  },
  {
   "cell_type": "code",
   "execution_count": null,
   "metadata": {},
   "outputs": [],
   "source": [
    "\n",
    "\n",
    "@makeOdd\n",
    "def doubler(x):\n",
    "    return x*2\n",
    "\n",
    "\n"
   ]
  },
  {
   "cell_type": "code",
   "execution_count": null,
   "metadata": {},
   "outputs": [],
   "source": [
    "doubler(9)"
   ]
  },
  {
   "cell_type": "code",
   "execution_count": null,
   "metadata": {},
   "outputs": [],
   "source": [
    "@makeOdd\n",
    "def tripler(x):\n",
    "    return x*3"
   ]
  },
  {
   "cell_type": "code",
   "execution_count": null,
   "metadata": {},
   "outputs": [],
   "source": [
    "tripler(2)"
   ]
  },
  {
   "cell_type": "markdown",
   "metadata": {},
   "source": [
    "closure"
   ]
  },
  {
   "cell_type": "code",
   "execution_count": null,
   "metadata": {},
   "outputs": [],
   "source": [
    "def outer_function(x):\n",
    "    def inner_function(y):\n",
    "        return x + y\n",
    "    return inner_function\n",
    "\n",
    "closure = outer_function(10)\n",
    "print(closure(9)) "
   ]
  },
  {
   "cell_type": "code",
   "execution_count": null,
   "metadata": {},
   "outputs": [],
   "source": [
    "def  exponent(a):\n",
    "    def valuegetter(b):\n",
    "        return b**a\n",
    "    return valuegetter\n",
    "\n"
   ]
  },
  {
   "cell_type": "code",
   "execution_count": null,
   "metadata": {},
   "outputs": [],
   "source": [
    "square = exponent(2)\n",
    "\n"
   ]
  },
  {
   "cell_type": "code",
   "execution_count": null,
   "metadata": {},
   "outputs": [],
   "source": [
    "cube = exponent(3)"
   ]
  },
  {
   "cell_type": "code",
   "execution_count": null,
   "metadata": {},
   "outputs": [],
   "source": [
    "square(10)"
   ]
  },
  {
   "cell_type": "code",
   "execution_count": null,
   "metadata": {},
   "outputs": [],
   "source": [
    "cube(5)"
   ]
  },
  {
   "cell_type": "markdown",
   "metadata": {},
   "source": [
    "optional parameter / default parameter"
   ]
  },
  {
   "cell_type": "code",
   "execution_count": 81,
   "metadata": {},
   "outputs": [],
   "source": [
    "def selam(name=\"alp\" ,  day=None):\n",
    "    print(f\"Hello {name}\")\n",
    "    if day is not None:\n",
    "        print(f\"what a beatiful {day}\")\n",
    "        if day == \"cuma\":\n",
    "            print(\"hatırlı cumalar\")\n",
    "\n"
   ]
  },
  {
   "cell_type": "code",
   "execution_count": 82,
   "metadata": {},
   "outputs": [
    {
     "name": "stdout",
     "output_type": "stream",
     "text": [
      "Hello alp\n",
      "what a beatiful cuma\n",
      "hatırlı cumalar\n"
     ]
    }
   ],
   "source": [
    "selam(day=\"cuma\")"
   ]
  },
  {
   "cell_type": "code",
   "execution_count": null,
   "metadata": {},
   "outputs": [],
   "source": [
    "selam(name=\"friday\")"
   ]
  },
  {
   "cell_type": "code",
   "execution_count": 84,
   "metadata": {},
   "outputs": [
    {
     "name": "stdout",
     "output_type": "stream",
     "text": [
      "Hello \n"
     ]
    }
   ],
   "source": [
    "selam(\"\")"
   ]
  }
 ],
 "metadata": {
  "kernelspec": {
   "display_name": "Python 3",
   "language": "python",
   "name": "python3"
  },
  "language_info": {
   "codemirror_mode": {
    "name": "ipython",
    "version": 3
   },
   "file_extension": ".py",
   "mimetype": "text/x-python",
   "name": "python",
   "nbconvert_exporter": "python",
   "pygments_lexer": "ipython3",
   "version": "3.11.9"
  }
 },
 "nbformat": 4,
 "nbformat_minor": 2
}
