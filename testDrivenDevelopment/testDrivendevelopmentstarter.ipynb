{
 "cells": [
  {
   "cell_type": "markdown",
   "metadata": {},
   "source": [
    "<img src=\"tdd.png\" style=\"height: 400px;\">"
   ]
  },
  {
   "cell_type": "markdown",
   "metadata": {},
   "source": [
    "Test Driven development is principle of regulating development with employing test.  \n",
    "\n",
    "Syntax mistakes can be detected by ide but you must catch your logical mistakes.\n",
    "\n",
    "TDD makes you write slower at ffirst yet it preventes hard to solve bugs to occur in long run making you faster on complex projects.\n",
    "\n",
    "TDD prevents new bugs during maintenance. "
   ]
  },
  {
   "cell_type": "markdown",
   "metadata": {},
   "source": [
    "<div style=\"color:red\"   > Given ttd explanation is hard to understand on purpose </div>"
   ]
  },
  {
   "cell_type": "markdown",
   "metadata": {},
   "source": [
    "Rule 1 states that you can only write production code ( code that works for your project ) if that code makes a failing test pass\n",
    "\n",
    "That means do not write code for the parts that their test codes are not prepared. Just aim to pass current test.\n",
    "\n"
   ]
  },
  {
   "cell_type": "markdown",
   "metadata": {},
   "source": [
    "Rule 2 do not write test that testing many steps ahead. Just write test for your next goal. Keep goals in reach of few lines of code."
   ]
  },
  {
   "cell_type": "markdown",
   "metadata": {},
   "source": [
    "Rule 3 do not write production code that goes beyond your test.\n"
   ]
  },
  {
   "cell_type": "markdown",
   "metadata": {},
   "source": [
    "Simply you have two fronts test and production.   \n",
    "\n",
    "production is yourt project\n",
    "\n",
    "test is your testing \n",
    "\n",
    "make them go same pace with test code being one step ahead.\n",
    "\n",
    "lets see a simple example"
   ]
  },
  {
   "cell_type": "markdown",
   "metadata": {},
   "source": [
    "### example time "
   ]
  },
  {
   "cell_type": "code",
   "execution_count": null,
   "metadata": {},
   "outputs": [],
   "source": [
    "### create a class that hold a workers wage name and bank account number \n",
    "### wage can not be smaller than minimum wage and cannot be more then ten times of min wage\n",
    "### names must be integer in format of  name starting with capital and then lower letters + empty space + capital initial of surname and dot.\n",
    "###  bank account number must be 6  digits starting with \"123\"\n",
    "###  you class hould not generate any object that is not compatible with given rules\n",
    "### or else you will be sent to jail"
   ]
  },
  {
   "cell_type": "markdown",
   "metadata": {},
   "source": [
    "<img src=\"parksandrecs.gif\" style=\"height: 400px;\">"
   ]
  },
  {
   "cell_type": "code",
   "execution_count": 4,
   "metadata": {},
   "outputs": [],
   "source": [
    "### test step 1 \n",
    "\n",
    "# see if there is a object generation works \n",
    "\n",
    "testWorker = Worker()\n",
    "\n",
    "def unitTest():\n",
    "    \n",
    "    assert isinstance(testWorker, Worker)"
   ]
  },
  {
   "cell_type": "code",
   "execution_count": 3,
   "metadata": {},
   "outputs": [],
   "source": [
    "### development step 1\n",
    "\n",
    "# define class to pass test\n",
    "# altough pass is not good to in general current development focus is on worker so we wont skip and forget its inside.\n",
    "# if you going to work with something else dont leave a pass\n",
    "\n",
    "class Worker() :\n",
    "    pass"
   ]
  }
 ],
 "metadata": {
  "kernelspec": {
   "display_name": "Python 3",
   "language": "python",
   "name": "python3"
  },
  "language_info": {
   "codemirror_mode": {
    "name": "ipython",
    "version": 3
   },
   "file_extension": ".py",
   "mimetype": "text/x-python",
   "name": "python",
   "nbconvert_exporter": "python",
   "pygments_lexer": "ipython3",
   "version": "3.11.9"
  }
 },
 "nbformat": 4,
 "nbformat_minor": 2
}
