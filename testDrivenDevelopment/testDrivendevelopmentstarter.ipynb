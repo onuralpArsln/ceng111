{
 "cells": [
  {
   "cell_type": "markdown",
   "metadata": {},
   "source": [
    "<img src=\"tdd.png\" style=\"height: 400px;\">"
   ]
  },
  {
   "cell_type": "markdown",
   "metadata": {},
   "source": [
    "Test Driven development is principle of regulating development with employing test.  \n",
    "\n",
    "Syntax mistakes can be detected by ide but you must catch your logical mistakes.\n",
    "\n",
    "TDD makes you write slower at ffirst yet it preventes hard to solve bugs to occur in long run making you faster on complex projects.\n",
    "\n",
    "TDD prevents new bugs during maintenance. "
   ]
  },
  {
   "cell_type": "markdown",
   "metadata": {},
   "source": [
    "<div style=\"color:red\"   > Given ttd explanation is hard to understand on purpose </div>"
   ]
  },
  {
   "cell_type": "markdown",
   "metadata": {},
   "source": [
    "Rule 1 states that you can only write production code ( code that works for your project ) if that code makes a failing test pass\n",
    "\n",
    "That means do not write code for the parts that their test codes are not prepared. Just aim to pass current test.\n",
    "\n"
   ]
  },
  {
   "cell_type": "markdown",
   "metadata": {},
   "source": [
    "Rule 2 do not write test that testing many steps ahead. Just write test for your next goal. Keep goals in reach of few lines of code."
   ]
  },
  {
   "cell_type": "markdown",
   "metadata": {},
   "source": [
    "Rule 3 do not write production code that goes beyond your test.\n"
   ]
  },
  {
   "cell_type": "markdown",
   "metadata": {},
   "source": [
    "Simply you have two fronts test and production.   \n",
    "\n",
    "production is yourt project\n",
    "\n",
    "test is your testing \n",
    "\n",
    "make them go same pace with test code being one step ahead.\n",
    "\n",
    "lets see a simple example"
   ]
  },
  {
   "cell_type": "markdown",
   "metadata": {},
   "source": [
    "### example time "
   ]
  },
  {
   "cell_type": "code",
   "execution_count": null,
   "metadata": {},
   "outputs": [],
   "source": [
    "### create a class that hold a workers wage name and bank account number\n",
    "### names must be string \n",
    "###   name must start with capital \n",
    "### and then lower letters \n",
    "### empty space in middle + \n",
    "### capital initial of surname \n",
    "### and dot. \n",
    "\n",
    "\n",
    "###  you class should not generate any object that is not compatible with given rules\n",
    "### or else you will be sent to jail"
   ]
  },
  {
   "cell_type": "markdown",
   "metadata": {},
   "source": [
    "<img src=\"parksandrecs.gif\" style=\"height: 400px;\">"
   ]
  },
  {
   "cell_type": "code",
   "execution_count": 12,
   "metadata": {},
   "outputs": [],
   "source": [
    "### test step 1 \n",
    "\n",
    "# see if there is a object generation works \n",
    "\n",
    "\n",
    "\n",
    "def unitTest():\n",
    "    testWorker = Worker()\n",
    "    assert isinstance(testWorker, Worker)\n",
    "\n",
    "unitTest()"
   ]
  },
  {
   "cell_type": "code",
   "execution_count": 3,
   "metadata": {},
   "outputs": [],
   "source": [
    "### development step 1\n",
    "\n",
    "# define class to pass test\n",
    "# altough pass is not good to in general current development focus is on worker so we wont skip and forget its inside.\n",
    "# if you going to work with something else dont leave a pass\n",
    "\n",
    "class Worker() :\n",
    "    pass"
   ]
  },
  {
   "cell_type": "code",
   "execution_count": 7,
   "metadata": {},
   "outputs": [],
   "source": [
    "### test step 2 \n",
    "\n",
    "# lets create name part, yet it is  complicated so we do in many parts\n",
    "\n",
    "# lets first ensure it takes a value as name \n",
    "\n",
    "testWorker = Worker(name=0)\n",
    "\n",
    "def unitTest():\n",
    "    \n",
    "    assert isinstance(testWorker, Worker)\n",
    "    assert testWorker.name != None\n",
    "\n",
    "unitTest()"
   ]
  },
  {
   "cell_type": "code",
   "execution_count": 6,
   "metadata": {},
   "outputs": [],
   "source": [
    "### development step 2\n",
    "\n",
    "# lets make it take a name argument\n",
    "\n",
    "class Worker() :\n",
    "    def __init__(self,name):\n",
    "        self.name = name"
   ]
  },
  {
   "cell_type": "code",
   "execution_count": 10,
   "metadata": {},
   "outputs": [],
   "source": [
    "### test step 3 \n",
    "\n",
    "# lets create name part, yet it is  complicated so we do in many parts\n",
    "\n",
    "# make it only works with strşngs or it raises error \n",
    "\n",
    "# adjust worker as expexted in here \n",
    "\n",
    "#passed because type errorlu except creates a pass\n",
    "\n",
    "\n",
    "\n",
    "def unitTest():\n",
    "    testWorker = Worker(name=\"Name\")\n",
    "    assert isinstance(testWorker, Worker)\n",
    "    assert testWorker.name != None\n",
    "    ## it tries to create with non-string name it except and error or else creates a problem with assert\n",
    "    try:\n",
    "        testWorker = Worker(name=0)\n",
    "    except TypeError:\n",
    "        pass\n",
    "    else:\n",
    "        assert False, \"Expected TypeError\"\n",
    "\n",
    "unitTest()"
   ]
  },
  {
   "cell_type": "code",
   "execution_count": 8,
   "metadata": {},
   "outputs": [],
   "source": [
    "### development step 3\n",
    "\n",
    "# define class to pass test\n",
    "# altough pass is not good to in general current development focus is on worker so we wont skip and forget its inside.\n",
    "# if you going to work with something else dont leave a pass\n",
    "\n",
    "class Worker() :\n",
    "    def __init__(self,name):\n",
    "        if type(name) != str:\n",
    "            raise TypeError(\"Names Must be String\")\n",
    "        self.name = name\n",
    "\n"
   ]
  },
  {
   "cell_type": "code",
   "execution_count": 14,
   "metadata": {},
   "outputs": [],
   "source": [
    "### test step 4\n",
    "\n",
    "# ensure the format fisrt letter is capital\n",
    "\n",
    "\n",
    "\n",
    "def unitTest():\n",
    "    testWorker = Worker(name=\"Name\")\n",
    "    assert isinstance(testWorker, Worker)\n",
    "    assert testWorker.name != None\n",
    "    try:\n",
    "        testWorker = Worker(name=0)\n",
    "    except TypeError:\n",
    "        pass\n",
    "    else:\n",
    "        assert False, \"Expected TypeError\"\n",
    "    # ensure the format fisrt letter is capital\n",
    "    try:\n",
    "        testWorker = Worker(name=\"name\")\n",
    "    except :\n",
    "        pass\n",
    "    else:\n",
    "        assert False, \"Expected Capital Initial Error\"\n",
    "    \n",
    "unitTest()"
   ]
  },
  {
   "cell_type": "code",
   "execution_count": 13,
   "metadata": {},
   "outputs": [],
   "source": [
    "### development step 4\n",
    "\n",
    "# ensure the first letter is capital\n",
    "\n",
    "class Worker() :\n",
    "    def __init__(self,name):\n",
    "        if type(name) != str:\n",
    "            raise TypeError(\"Names Must be String\")\n",
    "        elif not name[0].isupper():\n",
    "            raise TypeError(\"Names Must start With capital\")\n",
    "        self.name = name"
   ]
  },
  {
   "cell_type": "code",
   "execution_count": 16,
   "metadata": {},
   "outputs": [],
   "source": [
    "### test step 5\n",
    "\n",
    "# easiest to test is to make last digit is dot \n",
    "\n",
    "\n",
    "\n",
    "def unitTest():\n",
    "    testWorker = Worker(name=\"Name.\")\n",
    "    \n",
    "    assert isinstance(testWorker, Worker)\n",
    "    assert testWorker.name != None\n",
    "    try:\n",
    "        testWorker = Worker(name=0)\n",
    "    except TypeError:\n",
    "        pass\n",
    "    else:\n",
    "        assert False, \"Expected TypeError\"\n",
    "    \n",
    "    try:\n",
    "        testWorker = Worker(name=\"name\")\n",
    "    except TypeError :\n",
    "        pass\n",
    "    else:\n",
    "        assert False, \"Expected Capital Initial Error\"\n",
    "    # ensure the format fisrt letter is capital\n",
    "\n",
    "    try:\n",
    "        testWorker = Worker(name=\"Name\")\n",
    "    except TypeError :\n",
    "        pass\n",
    "    else:\n",
    "        assert False, \"Expected expected dot at the end error\"\n",
    "\n",
    "unitTest()"
   ]
  },
  {
   "cell_type": "code",
   "execution_count": 15,
   "metadata": {},
   "outputs": [],
   "source": [
    "### development step 5\n",
    "\n",
    "# ensure the first letter is capital\n",
    "\n",
    "class Worker() :\n",
    "    def __init__(self,name):\n",
    "        if type(name) != str:\n",
    "            raise TypeError(\"Names Must be String\")\n",
    "        elif not name[0].isupper():\n",
    "            raise TypeError(\"Names Must start With capital\")\n",
    "        if not name[-1]== \".\":\n",
    "            raise TypeError(\"Names Must start With capital\")\n",
    "        self.name = name"
   ]
  },
  {
   "cell_type": "code",
   "execution_count": 17,
   "metadata": {},
   "outputs": [
    {
     "ename": "AssertionError",
     "evalue": "Expected capital surname  error",
     "output_type": "error",
     "traceback": [
      "\u001b[1;31m---------------------------------------------------------------------------\u001b[0m",
      "\u001b[1;31mAssertionError\u001b[0m                            Traceback (most recent call last)",
      "Cell \u001b[1;32mIn[17], line 41\u001b[0m\n\u001b[0;32m     38\u001b[0m     \u001b[38;5;28;01melse\u001b[39;00m:\n\u001b[0;32m     39\u001b[0m         \u001b[38;5;28;01massert\u001b[39;00m \u001b[38;5;28;01mFalse\u001b[39;00m, \u001b[38;5;124m\"\u001b[39m\u001b[38;5;124mExpected capital surname  error\u001b[39m\u001b[38;5;124m\"\u001b[39m\n\u001b[1;32m---> 41\u001b[0m \u001b[43munitTest\u001b[49m\u001b[43m(\u001b[49m\u001b[43m)\u001b[49m\n",
      "Cell \u001b[1;32mIn[17], line 39\u001b[0m, in \u001b[0;36munitTest\u001b[1;34m()\u001b[0m\n\u001b[0;32m     37\u001b[0m     \u001b[38;5;28;01mpass\u001b[39;00m\n\u001b[0;32m     38\u001b[0m \u001b[38;5;28;01melse\u001b[39;00m:\n\u001b[1;32m---> 39\u001b[0m     \u001b[38;5;28;01massert\u001b[39;00m \u001b[38;5;28;01mFalse\u001b[39;00m, \u001b[38;5;124m\"\u001b[39m\u001b[38;5;124mExpected capital surname  error\u001b[39m\u001b[38;5;124m\"\u001b[39m\n",
      "\u001b[1;31mAssertionError\u001b[0m: Expected capital surname  error"
     ]
    }
   ],
   "source": [
    "### test step 6\n",
    "\n",
    "# there must be a capital letter before the dot \n",
    "\n",
    "\n",
    "\n",
    "def unitTest():\n",
    "    testWorker = Worker(name=\"Name.\")\n",
    "    \n",
    "    assert isinstance(testWorker, Worker)\n",
    "    assert testWorker.name != None\n",
    "    try:\n",
    "        testWorker = Worker(name=0)\n",
    "    except TypeError:\n",
    "        pass\n",
    "    else:\n",
    "        assert False, \"Expected TypeError\"\n",
    "    \n",
    "    try:\n",
    "        testWorker = Worker(name=\"name\")\n",
    "    except TypeError :\n",
    "        pass\n",
    "    else:\n",
    "        assert False, \"Expected Capital Initial Error\"\n",
    "    # ensure the format fisrt letter is capital\n",
    "\n",
    "    try:\n",
    "        testWorker = Worker(name=\"Name\")\n",
    "    except TypeError :\n",
    "        pass\n",
    "    else:\n",
    "        assert False, \"Expected expected dot at the end error\"\n",
    "\n",
    "    try:\n",
    "        testWorker = Worker(name=\"Names.\")\n",
    "    except TypeError :\n",
    "        pass\n",
    "    else:\n",
    "        assert False, \"Expected capital surname  error\"\n",
    "\n",
    "unitTest()"
   ]
  },
  {
   "cell_type": "code",
   "execution_count": null,
   "metadata": {},
   "outputs": [],
   "source": [
    "### development step 6\n",
    "\n",
    "# ensure capital surname\n",
    "\n",
    "class Worker() :\n",
    "    def __init__(self,name):\n",
    "        if type(name) != str:\n",
    "            raise TypeError(\"Names Must be String\")\n",
    "        elif not name[0].isupper():\n",
    "            raise TypeError(\"Names Must start With capital\")\n",
    "        elif not name[-1]== \".\":\n",
    "            raise TypeError(\"Must end with dot \")\n",
    "        elif not name[-2].isupper():\n",
    "            raise TypeError(\"Surnames Must start With capital\")\n",
    "        self.name = name"
   ]
  }
 ],
 "metadata": {
  "kernelspec": {
   "display_name": "Python 3",
   "language": "python",
   "name": "python3"
  },
  "language_info": {
   "codemirror_mode": {
    "name": "ipython",
    "version": 3
   },
   "file_extension": ".py",
   "mimetype": "text/x-python",
   "name": "python",
   "nbconvert_exporter": "python",
   "pygments_lexer": "ipython3",
   "version": "3.11.9"
  }
 },
 "nbformat": 4,
 "nbformat_minor": 2
}
