{
 "cells": [
  {
   "cell_type": "markdown",
   "metadata": {},
   "source": [
    "Define a function that returns triple of the input if one is given and summ of inputs if two are given"
   ]
  },
  {
   "cell_type": "code",
   "execution_count": null,
   "metadata": {},
   "outputs": [],
   "source": []
  },
  {
   "cell_type": "markdown",
   "metadata": {},
   "source": [
    "define a recursive function that asks for an input until you put in \"stop\" "
   ]
  },
  {
   "cell_type": "code",
   "execution_count": null,
   "metadata": {},
   "outputs": [],
   "source": []
  },
  {
   "cell_type": "markdown",
   "metadata": {},
   "source": [
    "create a  loop that prints prime numbers  that are between 0 and 300"
   ]
  },
  {
   "cell_type": "code",
   "execution_count": null,
   "metadata": {},
   "outputs": [],
   "source": []
  },
  {
   "cell_type": "markdown",
   "metadata": {},
   "source": [
    "use list comprehension to make a list of positive numbers that are divisible by 7, up to 400"
   ]
  },
  {
   "cell_type": "code",
   "execution_count": null,
   "metadata": {},
   "outputs": [],
   "source": []
  },
  {
   "cell_type": "markdown",
   "metadata": {},
   "source": [
    "ask user their age and double it,  use try except raise final to detect and prevent problems "
   ]
  },
  {
   "cell_type": "code",
   "execution_count": null,
   "metadata": {},
   "outputs": [],
   "source": []
  },
  {
   "cell_type": "markdown",
   "metadata": {},
   "source": [
    "create a class for a human object with fixed value (what is the correct term for fixed value in class) of life expectancy (100 years) and a function (what is the name of functions of objects?) to get name during object creation"
   ]
  },
  {
   "cell_type": "code",
   "execution_count": null,
   "metadata": {},
   "outputs": [],
   "source": []
  },
  {
   "cell_type": "markdown",
   "metadata": {},
   "source": [
    "use inheritence from human to create engineer and add a  new function to it also add fixed value of experience (3 years) also create an instance of it during creation also change init function to add major (ex civil,mechanical,electrical) (hint use super)"
   ]
  },
  {
   "cell_type": "code",
   "execution_count": null,
   "metadata": {},
   "outputs": [],
   "source": []
  },
  {
   "cell_type": "markdown",
   "metadata": {},
   "source": [
    "use inheritance from engineer to create senior engineer and increase it experince to 5 years"
   ]
  },
  {
   "cell_type": "code",
   "execution_count": null,
   "metadata": {},
   "outputs": [],
   "source": []
  },
  {
   "cell_type": "markdown",
   "metadata": {},
   "source": [
    "explain multilevel inheritance, Hybrid , Hierarchical Inheritance"
   ]
  },
  {
   "cell_type": "markdown",
   "metadata": {},
   "source": [
    "create a canine and pet class and use hybrid class to create dog "
   ]
  },
  {
   "cell_type": "code",
   "execution_count": null,
   "metadata": {},
   "outputs": [],
   "source": []
  },
  {
   "cell_type": "markdown",
   "metadata": {},
   "source": [
    "# Functions that return functions"
   ]
  },
  {
   "cell_type": "code",
   "execution_count": 1,
   "metadata": {},
   "outputs": [],
   "source": [
    "def candyMakerMaker(candy):\n",
    "    print(\"building your candy maker\")\n",
    "\n",
    "    def maker():\n",
    "        print(f\"here is your {candy}\")\n",
    "\n",
    "    return maker"
   ]
  },
  {
   "cell_type": "code",
   "execution_count": 2,
   "metadata": {},
   "outputs": [
    {
     "name": "stdout",
     "output_type": "stream",
     "text": [
      "building your candy maker\n",
      "here is your jelly\n"
     ]
    }
   ],
   "source": [
    "jellyMaker = candyMakerMaker(\"jelly\")\n",
    "\n"
   ]
  },
  {
   "cell_type": "code",
   "execution_count": null,
   "metadata": {},
   "outputs": [],
   "source": [
    "jellyMaker()"
   ]
  },
  {
   "cell_type": "markdown",
   "metadata": {},
   "source": [
    "artık içinde \"jelly\" bilgisi olana bir fonksiyon var ver bu parametre tekrara ihtiyaç duymuyor"
   ]
  },
  {
   "cell_type": "markdown",
   "metadata": {},
   "source": [
    "# functions that use functions as parameters"
   ]
  },
  {
   "cell_type": "code",
   "execution_count": 4,
   "metadata": {},
   "outputs": [],
   "source": [
    "def doubleUse(func,param):\n",
    "    func(param)\n",
    "    func(param)\n",
    "\n",
    "# gets a function and parameter uses function with parameter twice"
   ]
  },
  {
   "cell_type": "code",
   "execution_count": 3,
   "metadata": {},
   "outputs": [],
   "source": [
    "def simpleFunc(param):\n",
    "    print(param+param)"
   ]
  },
  {
   "cell_type": "code",
   "execution_count": 5,
   "metadata": {},
   "outputs": [
    {
     "name": "stdout",
     "output_type": "stream",
     "text": [
      "helllohelllo\n",
      "helllohelllo\n"
     ]
    }
   ],
   "source": [
    "doubleUse(simpleFunc,\"helllo\")"
   ]
  },
  {
   "cell_type": "markdown",
   "metadata": {},
   "source": [
    "remember candy maker lets develop it "
   ]
  },
  {
   "cell_type": "code",
   "execution_count": 6,
   "metadata": {},
   "outputs": [],
   "source": [
    "def addExtraCandy(maker):\n",
    "    def developed():\n",
    "        maker()\n",
    "        print(\"here is your extra candy\")\n",
    "\n",
    "    return developed"
   ]
  },
  {
   "cell_type": "code",
   "execution_count": 7,
   "metadata": {},
   "outputs": [
    {
     "name": "stdout",
     "output_type": "stream",
     "text": [
      "building your candy maker\n"
     ]
    }
   ],
   "source": [
    "# remember the candy maker\n",
    "jellyMaker = candyMakerMaker(\"jelly\")"
   ]
  },
  {
   "cell_type": "code",
   "execution_count": 8,
   "metadata": {},
   "outputs": [],
   "source": [
    "betterJellyMaker= addExtraCandy(jellyMaker)"
   ]
  },
  {
   "cell_type": "code",
   "execution_count": 9,
   "metadata": {},
   "outputs": [
    {
     "name": "stdout",
     "output_type": "stream",
     "text": [
      "here is your jelly\n",
      "here is your extra candy\n"
     ]
    }
   ],
   "source": [
    "betterJellyMaker()\n",
    "# now your jelly maker is developed and gives extra candy"
   ]
  },
  {
   "cell_type": "markdown",
   "metadata": {},
   "source": [
    "we have extra candy maker and now we want to add a cool package maker"
   ]
  },
  {
   "cell_type": "code",
   "execution_count": 2,
   "metadata": {},
   "outputs": [],
   "source": [
    "def addPackageMaker(func):\n",
    "\n",
    "    def coolPackageMaker():\n",
    "        print(\"here is your candy in cool package\")\n",
    "        func()\n",
    "\n",
    "    return coolPackageMaker"
   ]
  },
  {
   "cell_type": "markdown",
   "metadata": {},
   "source": [
    "lets use  cool package maker on our jelly maker "
   ]
  },
  {
   "cell_type": "code",
   "execution_count": 11,
   "metadata": {},
   "outputs": [],
   "source": [
    "coolPackageJellyMaker = addPackageMaker(jellyMaker)"
   ]
  },
  {
   "cell_type": "code",
   "execution_count": 13,
   "metadata": {},
   "outputs": [
    {
     "name": "stdout",
     "output_type": "stream",
     "text": [
      "here is your candy in cool package\n",
      "here is your jelly\n"
     ]
    }
   ],
   "source": [
    "coolPackageJellyMaker()"
   ]
  },
  {
   "cell_type": "markdown",
   "metadata": {},
   "source": [
    "here is the problem you have a main function jellyMaker and you have two versions with extra candy and package maker"
   ]
  },
  {
   "cell_type": "markdown",
   "metadata": {},
   "source": [
    "using that many names makes things harder luckily we have a special trick"
   ]
  },
  {
   "cell_type": "markdown",
   "metadata": {},
   "source": [
    "lets create a marshmallow maker and add a package maker"
   ]
  },
  {
   "cell_type": "code",
   "execution_count": null,
   "metadata": {},
   "outputs": [],
   "source": [
    "def addPackageMaker(func):\n",
    "\n",
    "    def coolPackageMaker():\n",
    "        print(\"here is your candy in cool package\")\n",
    "        func()\n",
    "\n",
    "    return coolPackageMaker\n",
    "\n",
    " # remember  this function"
   ]
  },
  {
   "cell_type": "code",
   "execution_count": 3,
   "metadata": {},
   "outputs": [],
   "source": [
    "@addPackageMaker\n",
    "def marshMaker():\n",
    "    print(\"here is your marshmallow\")"
   ]
  },
  {
   "cell_type": "code",
   "execution_count": 4,
   "metadata": {},
   "outputs": [
    {
     "name": "stdout",
     "output_type": "stream",
     "text": [
      "here is your candy in cool package\n",
      "here is your marshmallow\n"
     ]
    }
   ],
   "source": [
    "marshMaker()"
   ]
  },
  {
   "cell_type": "markdown",
   "metadata": {},
   "source": [
    "with @ symbol you use a function that takes a function and returns a function before your definiton to decorate your function"
   ]
  },
  {
   "cell_type": "markdown",
   "metadata": {},
   "source": [
    "# getter and setter"
   ]
  },
  {
   "cell_type": "markdown",
   "metadata": {},
   "source": [
    "using _ before attribute makes it protected. why proetect?"
   ]
  },
  {
   "cell_type": "code",
   "execution_count": 6,
   "metadata": {},
   "outputs": [],
   "source": [
    "class Airplane:\n",
    "    flightSpeed = 60\n",
    "\n",
    "# planes need around 50km/h to keep flying"
   ]
  },
  {
   "cell_type": "code",
   "execution_count": 7,
   "metadata": {},
   "outputs": [
    {
     "name": "stdout",
     "output_type": "stream",
     "text": [
      "60\n"
     ]
    }
   ],
   "source": [
    "boeing = Airplane()\n",
    "\n",
    "print(boeing.flightSpeed)"
   ]
  },
  {
   "cell_type": "code",
   "execution_count": 8,
   "metadata": {},
   "outputs": [
    {
     "name": "stdout",
     "output_type": "stream",
     "text": [
      "10\n"
     ]
    }
   ],
   "source": [
    "boeing.flightSpeed=10\n",
    "print(boeing.flightSpeed)\n",
    "# your plane fails "
   ]
  },
  {
   "cell_type": "code",
   "execution_count": 42,
   "metadata": {},
   "outputs": [],
   "source": [
    "class SafeAirplane:\n",
    "    __flightSpeed = 60\n",
    "\n",
    "    def get_speed(self):\n",
    "        print(self.__flightSpeed)\n",
    "\n",
    "    def set_speed(self,newSpeed):\n",
    "        if newSpeed < 50:\n",
    "            print(\"it is not safe to be that slow\")\n",
    "        elif newSpeed > 3700:\n",
    "            print(\"cant do that\")\n",
    "             #Lockheed SR-71 Blackbird can do that\n",
    "        else:\n",
    "            self.__flightSpeed=newSpeed\n",
    "            print(f\"going with {newSpeed}\")\n",
    "\n",
    "# planes need around 50km/h to keep flying"
   ]
  },
  {
   "cell_type": "code",
   "execution_count": 43,
   "metadata": {},
   "outputs": [],
   "source": [
    "Airbus = SafeAirplane()"
   ]
  },
  {
   "cell_type": "code",
   "execution_count": 44,
   "metadata": {},
   "outputs": [
    {
     "ename": "AttributeError",
     "evalue": "'SafeAirplane' object has no attribute '__flightSpeed'",
     "output_type": "error",
     "traceback": [
      "\u001b[0;31m---------------------------------------------------------------------------\u001b[0m",
      "\u001b[0;31mAttributeError\u001b[0m                            Traceback (most recent call last)",
      "Cell \u001b[0;32mIn[44], line 1\u001b[0m\n\u001b[0;32m----> 1\u001b[0m \u001b[38;5;28mprint\u001b[39m(\u001b[43mAirbus\u001b[49m\u001b[38;5;241;43m.\u001b[39;49m\u001b[43m__flightSpeed\u001b[49m)\n",
      "\u001b[0;31mAttributeError\u001b[0m: 'SafeAirplane' object has no attribute '__flightSpeed'"
     ]
    }
   ],
   "source": [
    "print(Airbus.__flightSpeed)"
   ]
  },
  {
   "cell_type": "code",
   "execution_count": 45,
   "metadata": {},
   "outputs": [],
   "source": [
    "Airbus.__flightSpeed=10"
   ]
  },
  {
   "cell_type": "code",
   "execution_count": 46,
   "metadata": {},
   "outputs": [
    {
     "name": "stdout",
     "output_type": "stream",
     "text": [
      "10\n"
     ]
    }
   ],
   "source": [
    "print(Airbus.__flightSpeed)"
   ]
  },
  {
   "cell_type": "code",
   "execution_count": 47,
   "metadata": {},
   "outputs": [
    {
     "name": "stdout",
     "output_type": "stream",
     "text": [
      "60\n"
     ]
    }
   ],
   "source": [
    "Airbus.get_speed()"
   ]
  },
  {
   "cell_type": "markdown",
   "metadata": {},
   "source": [
    "as you can see when double underscore is used  altthoug we tried to change value it persisted on starting value and attribute erro before we try to reach it is a private"
   ]
  },
  {
   "cell_type": "code",
   "execution_count": 48,
   "metadata": {},
   "outputs": [
    {
     "name": "stdout",
     "output_type": "stream",
     "text": [
      "it is not safe to be that slow\n"
     ]
    }
   ],
   "source": [
    "Airbus.set_speed(10)"
   ]
  },
  {
   "cell_type": "code",
   "execution_count": 49,
   "metadata": {},
   "outputs": [
    {
     "name": "stdout",
     "output_type": "stream",
     "text": [
      "60\n"
     ]
    }
   ],
   "source": [
    "Airbus.get_speed()"
   ]
  },
  {
   "cell_type": "code",
   "execution_count": 50,
   "metadata": {},
   "outputs": [
    {
     "name": "stdout",
     "output_type": "stream",
     "text": [
      "cant do that\n"
     ]
    }
   ],
   "source": [
    "Airbus.set_speed(1000000)"
   ]
  },
  {
   "cell_type": "code",
   "execution_count": 51,
   "metadata": {},
   "outputs": [
    {
     "name": "stdout",
     "output_type": "stream",
     "text": [
      "60\n"
     ]
    }
   ],
   "source": [
    "Airbus.get_speed()"
   ]
  },
  {
   "cell_type": "code",
   "execution_count": 52,
   "metadata": {},
   "outputs": [
    {
     "name": "stdout",
     "output_type": "stream",
     "text": [
      "going with 100\n"
     ]
    }
   ],
   "source": [
    "Airbus.set_speed(100)"
   ]
  },
  {
   "cell_type": "code",
   "execution_count": 53,
   "metadata": {},
   "outputs": [
    {
     "name": "stdout",
     "output_type": "stream",
     "text": [
      "100\n"
     ]
    }
   ],
   "source": [
    "Airbus.get_speed()"
   ]
  },
  {
   "cell_type": "markdown",
   "metadata": {},
   "source": [
    "we use speed in kilometers per hour  lets try a method to convert it to miles per hour "
   ]
  },
  {
   "cell_type": "code",
   "execution_count": 64,
   "metadata": {},
   "outputs": [],
   "source": [
    "class SafeAirplane:\n",
    "    __flightSpeed = 60\n",
    "\n",
    "    def get_speed(self):\n",
    "        print(self.__flightSpeed)\n",
    "\n",
    "    def set_speed(self,newSpeed):\n",
    "        if newSpeed < 50:\n",
    "            print(\"it is not safe to be that slow\")\n",
    "        elif newSpeed > 3700:\n",
    "            print(\"cant do that\")\n",
    "             #Lockheed SR-71 Blackbird can do that\n",
    "        else:\n",
    "            self.__flightSpeed=newSpeed\n",
    "            print(f\"going with {newSpeed}\")\n",
    "\n",
    "   \n",
    "\n",
    "   # property decorator creates method that is able to reach protected value and return value\n",
    "    \n",
    "    def miles(self):\n",
    "        return self.__flightSpeed * 0.621371192\n",
    "    \n",
    "    @property\n",
    "    def miles_value(self):\n",
    "        return self.__flightSpeed * 0.621371192\n",
    "        \n",
    "\n",
    "# planes need around 50km/h to keep flying"
   ]
  },
  {
   "cell_type": "code",
   "execution_count": 65,
   "metadata": {},
   "outputs": [],
   "source": [
    "newPlane= SafeAirplane()"
   ]
  },
  {
   "cell_type": "code",
   "execution_count": 67,
   "metadata": {},
   "outputs": [
    {
     "name": "stdout",
     "output_type": "stream",
     "text": [
      "<bound method SafeAirplane.miles of <__main__.SafeAirplane object at 0x10d2b8fd0>>\n"
     ]
    }
   ],
   "source": [
    "print(newPlane.miles)"
   ]
  },
  {
   "cell_type": "code",
   "execution_count": 66,
   "metadata": {},
   "outputs": [
    {
     "name": "stdout",
     "output_type": "stream",
     "text": [
      "37.28227152\n"
     ]
    }
   ],
   "source": [
    "print(newPlane.miles_value)"
   ]
  },
  {
   "cell_type": "markdown",
   "metadata": {},
   "source": [
    "# veri tipi"
   ]
  },
  {
   "cell_type": "markdown",
   "metadata": {},
   "source": [
    "programing is all about data and data processing  \n",
    "\n",
    "classes are great to store data \n",
    "\n"
   ]
  },
  {
   "cell_type": "code",
   "execution_count": 69,
   "metadata": {},
   "outputs": [],
   "source": [
    "class PC:\n",
    "    def __init__(self,cpu,gpu,memory,storage):\n",
    "        self.cpu=cpu\n",
    "        self.gpu=gpu\n",
    "        self.memory= memory\n",
    "        self.storage = storage"
   ]
  },
  {
   "cell_type": "code",
   "execution_count": 72,
   "metadata": {},
   "outputs": [
    {
     "name": "stdout",
     "output_type": "stream",
     "text": [
      "PC(cpu='i7 Comet Lake', gpu='3090RTX', memory='32GB', storage='1TB')\n"
     ]
    }
   ],
   "source": [
    "myPc= PC(\"i7 Comet Lake\",\"3090RTX\",\"32GB\",\"1TB\")\n",
    "print(myPc)"
   ]
  },
  {
   "cell_type": "markdown",
   "metadata": {},
   "source": [
    "it is quite cumbersome to use it like that so "
   ]
  },
  {
   "cell_type": "code",
   "execution_count": 71,
   "metadata": {},
   "outputs": [
    {
     "name": "stdout",
     "output_type": "stream",
     "text": [
      "PC(cpu='i7 Comet Lake', gpu='3090RTX', memory='32GB', storage='1TB')\n"
     ]
    }
   ],
   "source": [
    "from dataclasses import dataclass\n",
    "\n",
    "\n",
    "@dataclass\n",
    "class PC:\n",
    "    cpu: str\n",
    "    gpu: str\n",
    "    memory: int \n",
    "    storage : int\n",
    "\n",
    "\n",
    "\n",
    "print(PC(\"i7 Comet Lake\",\"3090RTX\",\"32GB\",\"1TB\"))\n",
    "# easier to declare \n"
   ]
  }
 ],
 "metadata": {
  "kernelspec": {
   "display_name": "Python 3",
   "language": "python",
   "name": "python3"
  },
  "language_info": {
   "codemirror_mode": {
    "name": "ipython",
    "version": 3
   },
   "file_extension": ".py",
   "mimetype": "text/x-python",
   "name": "python",
   "nbconvert_exporter": "python",
   "pygments_lexer": "ipython3",
   "version": "3.9.6"
  }
 },
 "nbformat": 4,
 "nbformat_minor": 2
}
