{
 "cells": [
  {
   "cell_type": "markdown",
   "id": "b2ff3082",
   "metadata": {
    "id": "b2ff3082"
   },
   "source": [
    "# CENG 111 Computer Programming I [Fall 2023 - 2024]\n",
    "## Week 14 - Other types of classes\n",
    "\n",
    "## Objectives of the fourteenth week's lecture.\n",
    "\n",
    "- *Introduction to the Python Dataclass*\n",
    "- *Default values*\n",
    "- *Convert to a tuple or dictionary*\n",
    "- *Create immutable objects*\n",
    "- *Customize attribute behaviours*\n",
    "- *Sort objects*\n",
    "- *Less code to define a class*\n",
    "- *Support for default values*\n",
    "- *Custom representations of the objects*\n",
    "- *Easy conversion to a tuple or a dictionary*\n",
    "- *Frozen instances / immutable objects*\n",
    "- *No need to write comparison methods*\n",
    "- *Custom attribute behaviour with the field function*\n",
    "- *The \\_\\_post\\_init\\_\\_ hook*\n",
    "- *Compare objects and sort them*"
   ]
  },
  {
   "cell_type": "markdown",
   "id": "14497ce6",
   "metadata": {},
   "source": [
    "## Introduction to the Python Dataclass\n"
   ]
  },
  {
   "cell_type": "markdown",
   "id": "7cf7a9af",
   "metadata": {},
   "source": [
    "Python introduced the dataclass in version 3.7 ([PEP 557](https://peps.python.org/pep-0557/)). The dataclass allows you to define classes with less code and more functionality out of the box.\n",
    "\n",
    "The following defines a regular **Person** class with two instance attributes **name** and **age**:\n"
   ]
  },
  {
   "cell_type": "code",
   "execution_count": 1,
   "id": "2915923a",
   "metadata": {},
   "outputs": [],
   "source": [
    "class Person:\n",
    "    def __init__(self, name, age):\n",
    "        self.name = name\n",
    "        self.age = age\n"
   ]
  },
  {
   "cell_type": "markdown",
   "id": "9256b09d",
   "metadata": {},
   "source": [
    "This Person class has the \\_\\_init\\_\\_ method that initializes the **name** and **age** attributes.\n",
    "\n",
    "If you want to have a string representation of the **Person** object, you need to implement the \\_\\_str\\_\\_ or \\_\\_repr\\_\\_ method. Also, if you want to compare two instances of the Person class by an attribute, you need to implement the \\_\\_eq\\_\\_ method.\n",
    "\n",
    "However, if you use the dataclass, you’ll have all of these features (and even more) without implementing these dunder methods.\n",
    "\n",
    "To make the **Person** class a data class, you follow these steps:\n",
    "\n",
    "First, import the **dataclass** decorator from the **dataclasses** module:\n"
   ]
  },
  {
   "cell_type": "code",
   "execution_count": 2,
   "id": "e6b91022",
   "metadata": {},
   "outputs": [],
   "source": [
    "from dataclasses import dataclass"
   ]
  },
  {
   "cell_type": "markdown",
   "id": "5ea9f9ce",
   "metadata": {},
   "source": [
    "Second, decorate the **Person** class with the **dataclass** decorator and declare the attributes:\n"
   ]
  },
  {
   "cell_type": "code",
   "execution_count": 3,
   "id": "32974309",
   "metadata": {},
   "outputs": [],
   "source": [
    "@dataclass\n",
    "class Person:\n",
    "    name: str\n",
    "    age: int\n"
   ]
  },
  {
   "cell_type": "markdown",
   "id": "56847182",
   "metadata": {},
   "source": [
    "In this example, the **Person** class has two attributes **name** with the type **str** and **age** with the type **int**. By doing this, the **@dataclass** decorator implicitly creates the \\_\\_init\\_\\_ method like this:\n"
   ]
  },
  {
   "cell_type": "code",
   "execution_count": 4,
   "id": "c5573e79",
   "metadata": {},
   "outputs": [],
   "source": [
    "def __init__(name: str, age: int):\n",
    "    pass\n"
   ]
  },
  {
   "cell_type": "markdown",
   "id": "acfdb2ce",
   "metadata": {},
   "source": [
    "Note that the order of the attributes declared in the class will determine the orders of the parameters in the \\_\\_init\\_\\_ method.\n",
    "\n",
    "And you can create the **Person‘s** object:\n"
   ]
  },
  {
   "cell_type": "code",
   "execution_count": 5,
   "id": "c8fcf497",
   "metadata": {},
   "outputs": [],
   "source": [
    "p1 = Person('John', 25)"
   ]
  },
  {
   "cell_type": "markdown",
   "id": "f18d825f",
   "metadata": {},
   "source": [
    "When printing out the **Person‘s** object, you’ll get a readable format:\n"
   ]
  },
  {
   "cell_type": "code",
   "execution_count": 6,
   "id": "063d9d41",
   "metadata": {},
   "outputs": [
    {
     "name": "stdout",
     "output_type": "stream",
     "text": [
      "Person(name='John', age=25)\n"
     ]
    }
   ],
   "source": [
    "print(p1)\n"
   ]
  },
  {
   "cell_type": "markdown",
   "id": "f54799bd",
   "metadata": {},
   "source": [
    "Also, if you compare two **Person‘s** objects with the same attribute value, it’ll return **True**. For example:\n"
   ]
  },
  {
   "cell_type": "code",
   "execution_count": 7,
   "id": "341cf1fc",
   "metadata": {},
   "outputs": [
    {
     "name": "stdout",
     "output_type": "stream",
     "text": [
      "True\n"
     ]
    }
   ],
   "source": [
    "p1 = Person('John', 25)\n",
    "p2 = Person('John', 25)\n",
    "print(p1 == p2)\n"
   ]
  },
  {
   "cell_type": "markdown",
   "id": "c446d198",
   "metadata": {},
   "source": [
    "The following discusses other functions that a data class provides.\n"
   ]
  },
  {
   "cell_type": "markdown",
   "id": "420ea865",
   "metadata": {},
   "source": [
    "## Default values\n"
   ]
  },
  {
   "cell_type": "markdown",
   "id": "e957649a",
   "metadata": {},
   "source": [
    "When using a regular class, you can define default values for attributes. For example, the following **Person** class has the **iq** parameter with the default value of **100**.\n"
   ]
  },
  {
   "cell_type": "code",
   "execution_count": 8,
   "id": "67a4a3da",
   "metadata": {},
   "outputs": [],
   "source": [
    "class Person:\n",
    "    def __init__(self, name, age, iq=100):\n",
    "        self.name = name\n",
    "        self.age = age\n",
    "        self.iq = iq\n"
   ]
  },
  {
   "cell_type": "markdown",
   "id": "009977d2",
   "metadata": {},
   "source": [
    "To define a default value for an attribute in the dataclass, you assign it to the attribute like this:\n"
   ]
  },
  {
   "cell_type": "code",
   "execution_count": 9,
   "id": "67bef380",
   "metadata": {},
   "outputs": [
    {
     "name": "stdout",
     "output_type": "stream",
     "text": [
      "Person(name='John Doe', age=25, iq=100)\n"
     ]
    }
   ],
   "source": [
    "from dataclasses import dataclass\n",
    "\n",
    "\n",
    "@dataclass\n",
    "class Person:\n",
    "    name: str\n",
    "    age: int\n",
    "    iq: int = 100\n",
    "\n",
    "\n",
    "print(Person('John Doe', 25))\n"
   ]
  },
  {
   "cell_type": "markdown",
   "id": "0321f2db",
   "metadata": {},
   "source": [
    "Like the parameter rules, the attributes with the default values must appear after the ones without default values. Therefore, the following code will not work:\n"
   ]
  },
  {
   "cell_type": "code",
   "execution_count": 10,
   "id": "e86e0cd9",
   "metadata": {},
   "outputs": [
    {
     "ename": "TypeError",
     "evalue": "non-default argument 'name' follows default argument",
     "output_type": "error",
     "traceback": [
      "\u001b[1;31m---------------------------------------------------------------------------\u001b[0m",
      "\u001b[1;31mTypeError\u001b[0m                                 Traceback (most recent call last)",
      "Cell \u001b[1;32mIn[10], line 5\u001b[0m\n\u001b[0;32m      1\u001b[0m \u001b[38;5;28;01mfrom\u001b[39;00m \u001b[38;5;21;01mdataclasses\u001b[39;00m \u001b[38;5;28;01mimport\u001b[39;00m dataclass\n\u001b[0;32m      4\u001b[0m \u001b[38;5;129;43m@dataclass\u001b[39;49m\n\u001b[1;32m----> 5\u001b[0m \u001b[38;5;28;43;01mclass\u001b[39;49;00m\u001b[43m \u001b[49m\u001b[38;5;21;43;01mPerson\u001b[39;49;00m\u001b[43m:\u001b[49m\n\u001b[0;32m      6\u001b[0m \u001b[43m    \u001b[49m\u001b[43miq\u001b[49m\u001b[43m:\u001b[49m\u001b[43m \u001b[49m\u001b[38;5;28;43mint\u001b[39;49m\u001b[43m \u001b[49m\u001b[38;5;241;43m=\u001b[39;49m\u001b[43m \u001b[49m\u001b[38;5;241;43m100\u001b[39;49m\n\u001b[0;32m      7\u001b[0m \u001b[43m    \u001b[49m\u001b[43mname\u001b[49m\u001b[43m:\u001b[49m\u001b[43m \u001b[49m\u001b[38;5;28;43mstr\u001b[39;49m\n",
      "File \u001b[1;32m~\\anaconda3\\lib\\dataclasses.py:1184\u001b[0m, in \u001b[0;36mdataclass\u001b[1;34m(cls, init, repr, eq, order, unsafe_hash, frozen, match_args, kw_only, slots)\u001b[0m\n\u001b[0;32m   1181\u001b[0m     \u001b[38;5;28;01mreturn\u001b[39;00m wrap\n\u001b[0;32m   1183\u001b[0m \u001b[38;5;66;03m# We're called as @dataclass without parens.\u001b[39;00m\n\u001b[1;32m-> 1184\u001b[0m \u001b[38;5;28;01mreturn\u001b[39;00m \u001b[43mwrap\u001b[49m\u001b[43m(\u001b[49m\u001b[38;5;28;43mcls\u001b[39;49m\u001b[43m)\u001b[49m\n",
      "File \u001b[1;32m~\\anaconda3\\lib\\dataclasses.py:1175\u001b[0m, in \u001b[0;36mdataclass.<locals>.wrap\u001b[1;34m(cls)\u001b[0m\n\u001b[0;32m   1174\u001b[0m \u001b[38;5;28;01mdef\u001b[39;00m \u001b[38;5;21mwrap\u001b[39m(\u001b[38;5;28mcls\u001b[39m):\n\u001b[1;32m-> 1175\u001b[0m     \u001b[38;5;28;01mreturn\u001b[39;00m \u001b[43m_process_class\u001b[49m\u001b[43m(\u001b[49m\u001b[38;5;28;43mcls\u001b[39;49m\u001b[43m,\u001b[49m\u001b[43m \u001b[49m\u001b[43minit\u001b[49m\u001b[43m,\u001b[49m\u001b[43m \u001b[49m\u001b[38;5;28;43mrepr\u001b[39;49m\u001b[43m,\u001b[49m\u001b[43m \u001b[49m\u001b[43meq\u001b[49m\u001b[43m,\u001b[49m\u001b[43m \u001b[49m\u001b[43morder\u001b[49m\u001b[43m,\u001b[49m\u001b[43m \u001b[49m\u001b[43munsafe_hash\u001b[49m\u001b[43m,\u001b[49m\n\u001b[0;32m   1176\u001b[0m \u001b[43m                          \u001b[49m\u001b[43mfrozen\u001b[49m\u001b[43m,\u001b[49m\u001b[43m \u001b[49m\u001b[43mmatch_args\u001b[49m\u001b[43m,\u001b[49m\u001b[43m \u001b[49m\u001b[43mkw_only\u001b[49m\u001b[43m,\u001b[49m\u001b[43m \u001b[49m\u001b[43mslots\u001b[49m\u001b[43m)\u001b[49m\n",
      "File \u001b[1;32m~\\anaconda3\\lib\\dataclasses.py:1024\u001b[0m, in \u001b[0;36m_process_class\u001b[1;34m(cls, init, repr, eq, order, unsafe_hash, frozen, match_args, kw_only, slots)\u001b[0m\n\u001b[0;32m   1019\u001b[0m \u001b[38;5;28;01mif\u001b[39;00m init:\n\u001b[0;32m   1020\u001b[0m     \u001b[38;5;66;03m# Does this class have a post-init function?\u001b[39;00m\n\u001b[0;32m   1021\u001b[0m     has_post_init \u001b[38;5;241m=\u001b[39m \u001b[38;5;28mhasattr\u001b[39m(\u001b[38;5;28mcls\u001b[39m, _POST_INIT_NAME)\n\u001b[0;32m   1023\u001b[0m     _set_new_attribute(\u001b[38;5;28mcls\u001b[39m, \u001b[38;5;124m'\u001b[39m\u001b[38;5;124m__init__\u001b[39m\u001b[38;5;124m'\u001b[39m,\n\u001b[1;32m-> 1024\u001b[0m                        \u001b[43m_init_fn\u001b[49m\u001b[43m(\u001b[49m\u001b[43mall_init_fields\u001b[49m\u001b[43m,\u001b[49m\n\u001b[0;32m   1025\u001b[0m \u001b[43m                                \u001b[49m\u001b[43mstd_init_fields\u001b[49m\u001b[43m,\u001b[49m\n\u001b[0;32m   1026\u001b[0m \u001b[43m                                \u001b[49m\u001b[43mkw_only_init_fields\u001b[49m\u001b[43m,\u001b[49m\n\u001b[0;32m   1027\u001b[0m \u001b[43m                                \u001b[49m\u001b[43mfrozen\u001b[49m\u001b[43m,\u001b[49m\n\u001b[0;32m   1028\u001b[0m \u001b[43m                                \u001b[49m\u001b[43mhas_post_init\u001b[49m\u001b[43m,\u001b[49m\n\u001b[0;32m   1029\u001b[0m \u001b[43m                                \u001b[49m\u001b[38;5;66;43;03m# The name to use for the \"self\"\u001b[39;49;00m\n\u001b[0;32m   1030\u001b[0m \u001b[43m                                \u001b[49m\u001b[38;5;66;43;03m# param in __init__.  Use \"self\"\u001b[39;49;00m\n\u001b[0;32m   1031\u001b[0m \u001b[43m                                \u001b[49m\u001b[38;5;66;43;03m# if possible.\u001b[39;49;00m\n\u001b[0;32m   1032\u001b[0m \u001b[43m                                \u001b[49m\u001b[38;5;124;43m'\u001b[39;49m\u001b[38;5;124;43m__dataclass_self__\u001b[39;49m\u001b[38;5;124;43m'\u001b[39;49m\u001b[43m \u001b[49m\u001b[38;5;28;43;01mif\u001b[39;49;00m\u001b[43m \u001b[49m\u001b[38;5;124;43m'\u001b[39;49m\u001b[38;5;124;43mself\u001b[39;49m\u001b[38;5;124;43m'\u001b[39;49m\u001b[43m \u001b[49m\u001b[38;5;129;43;01min\u001b[39;49;00m\u001b[43m \u001b[49m\u001b[43mfields\u001b[49m\n\u001b[0;32m   1033\u001b[0m \u001b[43m                                        \u001b[49m\u001b[38;5;28;43;01melse\u001b[39;49;00m\u001b[43m \u001b[49m\u001b[38;5;124;43m'\u001b[39;49m\u001b[38;5;124;43mself\u001b[39;49m\u001b[38;5;124;43m'\u001b[39;49m\u001b[43m,\u001b[49m\n\u001b[0;32m   1034\u001b[0m \u001b[43m                                \u001b[49m\u001b[38;5;28;43mglobals\u001b[39;49m\u001b[43m,\u001b[49m\n\u001b[0;32m   1035\u001b[0m \u001b[43m                                \u001b[49m\u001b[43mslots\u001b[49m\u001b[43m,\u001b[49m\n\u001b[0;32m   1036\u001b[0m \u001b[43m                      \u001b[49m\u001b[43m)\u001b[49m)\n\u001b[0;32m   1038\u001b[0m \u001b[38;5;66;03m# Get the fields as a list, and include only real fields.  This is\u001b[39;00m\n\u001b[0;32m   1039\u001b[0m \u001b[38;5;66;03m# used in all of the following methods.\u001b[39;00m\n\u001b[0;32m   1040\u001b[0m field_list \u001b[38;5;241m=\u001b[39m [f \u001b[38;5;28;01mfor\u001b[39;00m f \u001b[38;5;129;01min\u001b[39;00m fields\u001b[38;5;241m.\u001b[39mvalues() \u001b[38;5;28;01mif\u001b[39;00m f\u001b[38;5;241m.\u001b[39m_field_type \u001b[38;5;129;01mis\u001b[39;00m _FIELD]\n",
      "File \u001b[1;32m~\\anaconda3\\lib\\dataclasses.py:544\u001b[0m, in \u001b[0;36m_init_fn\u001b[1;34m(fields, std_fields, kw_only_fields, frozen, has_post_init, self_name, globals, slots)\u001b[0m\n\u001b[0;32m    542\u001b[0m             seen_default \u001b[38;5;241m=\u001b[39m \u001b[38;5;28;01mTrue\u001b[39;00m\n\u001b[0;32m    543\u001b[0m         \u001b[38;5;28;01melif\u001b[39;00m seen_default:\n\u001b[1;32m--> 544\u001b[0m             \u001b[38;5;28;01mraise\u001b[39;00m \u001b[38;5;167;01mTypeError\u001b[39;00m(\u001b[38;5;124mf\u001b[39m\u001b[38;5;124m'\u001b[39m\u001b[38;5;124mnon-default argument \u001b[39m\u001b[38;5;132;01m{\u001b[39;00mf\u001b[38;5;241m.\u001b[39mname\u001b[38;5;132;01m!r}\u001b[39;00m\u001b[38;5;124m \u001b[39m\u001b[38;5;124m'\u001b[39m\n\u001b[0;32m    545\u001b[0m                             \u001b[38;5;124m'\u001b[39m\u001b[38;5;124mfollows default argument\u001b[39m\u001b[38;5;124m'\u001b[39m)\n\u001b[0;32m    547\u001b[0m \u001b[38;5;28mlocals\u001b[39m \u001b[38;5;241m=\u001b[39m {\u001b[38;5;124mf\u001b[39m\u001b[38;5;124m'\u001b[39m\u001b[38;5;124m_type_\u001b[39m\u001b[38;5;132;01m{\u001b[39;00mf\u001b[38;5;241m.\u001b[39mname\u001b[38;5;132;01m}\u001b[39;00m\u001b[38;5;124m'\u001b[39m: f\u001b[38;5;241m.\u001b[39mtype \u001b[38;5;28;01mfor\u001b[39;00m f \u001b[38;5;129;01min\u001b[39;00m fields}\n\u001b[0;32m    548\u001b[0m \u001b[38;5;28mlocals\u001b[39m\u001b[38;5;241m.\u001b[39mupdate({\n\u001b[0;32m    549\u001b[0m     \u001b[38;5;124m'\u001b[39m\u001b[38;5;124mMISSING\u001b[39m\u001b[38;5;124m'\u001b[39m: MISSING,\n\u001b[0;32m    550\u001b[0m     \u001b[38;5;124m'\u001b[39m\u001b[38;5;124m_HAS_DEFAULT_FACTORY\u001b[39m\u001b[38;5;124m'\u001b[39m: _HAS_DEFAULT_FACTORY,\n\u001b[0;32m    551\u001b[0m     \u001b[38;5;124m'\u001b[39m\u001b[38;5;124m__dataclass_builtins_object__\u001b[39m\u001b[38;5;124m'\u001b[39m: \u001b[38;5;28mobject\u001b[39m,\n\u001b[0;32m    552\u001b[0m })\n",
      "\u001b[1;31mTypeError\u001b[0m: non-default argument 'name' follows default argument"
     ]
    }
   ],
   "source": [
    "from dataclasses import dataclass\n",
    "\n",
    "\n",
    "@dataclass\n",
    "class Person:\n",
    "    iq: int = 100\n",
    "    name: str\n",
    "    age: int\n"
   ]
  },
  {
   "cell_type": "markdown",
   "id": "59f5cdf6",
   "metadata": {},
   "source": [
    "## Convert to a tuple or dictionary\n"
   ]
  },
  {
   "cell_type": "markdown",
   "id": "bd566765",
   "metadata": {},
   "source": [
    "The dataclasses module has the **astuple()** and **asdict()** functions that convert an instance of the dataclass to a tuple and a dictionary. For example:\n"
   ]
  },
  {
   "cell_type": "code",
   "execution_count": 11,
   "id": "d6d20a9e",
   "metadata": {},
   "outputs": [],
   "source": [
    "from dataclasses import dataclass, astuple, asdict\n",
    "\n",
    "\n",
    "@dataclass\n",
    "class Person:\n",
    "    name: str\n",
    "    age: int\n",
    "    iq: int = 100\n",
    "\n",
    "\n",
    "p = Person('John Doe', 25)\n"
   ]
  },
  {
   "cell_type": "code",
   "execution_count": 12,
   "id": "83750075",
   "metadata": {},
   "outputs": [
    {
     "name": "stdout",
     "output_type": "stream",
     "text": [
      "('John Doe', 25, 100)\n",
      "{'name': 'John Doe', 'age': 25, 'iq': 100}\n"
     ]
    }
   ],
   "source": [
    "print(astuple(p))\n",
    "print(asdict(p))"
   ]
  },
  {
   "cell_type": "markdown",
   "id": "5ae2b654",
   "metadata": {},
   "source": [
    "## Create immutable objects\n"
   ]
  },
  {
   "cell_type": "markdown",
   "id": "9e80d9d8",
   "metadata": {},
   "source": [
    "To create readonly objects from a dataclass, you can set the frozen argument of the dataclass decorator to **True**. For example:\n"
   ]
  },
  {
   "cell_type": "code",
   "execution_count": 13,
   "id": "363518e6",
   "metadata": {},
   "outputs": [],
   "source": [
    "from dataclasses import dataclass, astuple, asdict\n",
    "\n",
    "\n",
    "@dataclass(frozen=True)\n",
    "class Person:\n",
    "    name: str\n",
    "    age: int\n",
    "    iq: int = 100\n"
   ]
  },
  {
   "cell_type": "markdown",
   "id": "fb9a7c38",
   "metadata": {},
   "source": [
    "If you attempt to change the attributes of the object after it is created, you’ll get an error. For example:\n"
   ]
  },
  {
   "cell_type": "code",
   "execution_count": 14,
   "id": "30a69e4e",
   "metadata": {},
   "outputs": [
    {
     "ename": "FrozenInstanceError",
     "evalue": "cannot assign to field 'iq'",
     "output_type": "error",
     "traceback": [
      "\u001b[1;31m---------------------------------------------------------------------------\u001b[0m",
      "\u001b[1;31mFrozenInstanceError\u001b[0m                       Traceback (most recent call last)",
      "Cell \u001b[1;32mIn[14], line 2\u001b[0m\n\u001b[0;32m      1\u001b[0m p \u001b[38;5;241m=\u001b[39m Person(\u001b[38;5;124m'\u001b[39m\u001b[38;5;124mJane Doe\u001b[39m\u001b[38;5;124m'\u001b[39m, \u001b[38;5;241m25\u001b[39m)\n\u001b[1;32m----> 2\u001b[0m p\u001b[38;5;241m.\u001b[39miq \u001b[38;5;241m=\u001b[39m \u001b[38;5;241m120\u001b[39m\n",
      "File \u001b[1;32m<string>:4\u001b[0m, in \u001b[0;36m__setattr__\u001b[1;34m(self, name, value)\u001b[0m\n",
      "\u001b[1;31mFrozenInstanceError\u001b[0m: cannot assign to field 'iq'"
     ]
    }
   ],
   "source": [
    "p = Person('Jane Doe', 25)\n",
    "p.iq = 120\n"
   ]
  },
  {
   "cell_type": "markdown",
   "id": "ea5b05e7",
   "metadata": {},
   "source": [
    "## Customize attribute behaviours\n"
   ]
  },
  {
   "cell_type": "markdown",
   "id": "fa93d12f",
   "metadata": {},
   "source": [
    "If don’t want to initialize an attribute in the \\_\\_init\\_\\_ method, you can use the field() function from the **dataclasses** module.\n",
    "\n",
    "The following example defines the **can_vote** attribute that is initialized using the \\_\\_init\\_\\_ method:\n"
   ]
  },
  {
   "cell_type": "code",
   "execution_count": 15,
   "id": "2a0d46c8",
   "metadata": {},
   "outputs": [],
   "source": [
    "from dataclasses import dataclass, field\n",
    "\n",
    "\n",
    "class Person:\n",
    "    name: str\n",
    "    age: int\n",
    "    iq: int = 100\n",
    "    can_vote: bool = field(init=False)\n"
   ]
  },
  {
   "cell_type": "markdown",
   "id": "0b09bb68",
   "metadata": {},
   "source": [
    "The **field()** function has multiple interesting parameters such as **repr**, **hash**, **compare**, and **metadata**.\n",
    "\n",
    "If you want to initialize an attribute that depends on the value of another attribute, you can use the \\_\\_post_init\\_\\_ method. As its name implies, Python calls the \\_\\_post_init\\_\\_ method after the \\_\\_init\\_\\_ method.\n",
    "\n",
    "The following use the \\_\\_post_init\\_\\_ method to initialize the can_vote attribute based on the **age** attribute:\n"
   ]
  },
  {
   "cell_type": "code",
   "execution_count": 16,
   "id": "18e3c211",
   "metadata": {},
   "outputs": [
    {
     "name": "stdout",
     "output_type": "stream",
     "text": [
      "called __post_init__ method\n",
      "Person(name='Jane Doe', age=25, iq=100, can_vote=True)\n"
     ]
    }
   ],
   "source": [
    "from dataclasses import dataclass, field\n",
    "\n",
    "\n",
    "@dataclass\n",
    "class Person:\n",
    "    name: str\n",
    "    age: int\n",
    "    iq: int = 100\n",
    "    can_vote: bool = field(init=False)\n",
    "\n",
    "    def __post_init__(self):\n",
    "        print('called __post_init__ method')\n",
    "        self.can_vote = 18 <= self.age <= 70\n",
    "\n",
    "\n",
    "p = Person('Jane Doe', 25)\n",
    "print(p)\n"
   ]
  },
  {
   "cell_type": "markdown",
   "id": "f5ce33b7",
   "metadata": {},
   "source": [
    "## Sort objects\n"
   ]
  },
  {
   "cell_type": "markdown",
   "id": "3c482fbb",
   "metadata": {},
   "source": [
    "By default, a dataclass implements the \\_\\_eq\\_\\_ method.\n",
    "\n",
    "To allow different types of comparisons like \\_\\_lt\\_\\_, \\_\\_lte\\_\\_, \\_\\*\\_gt\\_\\_, \\_\\_gte\\_\\_, you can set the order argument of the **@dataclass** decorator to **True**:\n"
   ]
  },
  {
   "cell_type": "code",
   "execution_count": 17,
   "id": "516b4f25",
   "metadata": {},
   "outputs": [
    {
     "ename": "SyntaxError",
     "evalue": "incomplete input (3498210946.py, line 1)",
     "output_type": "error",
     "traceback": [
      "\u001b[1;36m  Cell \u001b[1;32mIn[17], line 1\u001b[1;36m\u001b[0m\n\u001b[1;33m    @dataclass(order=True)\u001b[0m\n\u001b[1;37m                          ^\u001b[0m\n\u001b[1;31mSyntaxError\u001b[0m\u001b[1;31m:\u001b[0m incomplete input\n"
     ]
    }
   ],
   "source": [
    "@dataclass(order=True)"
   ]
  },
  {
   "cell_type": "markdown",
   "id": "f745bc60",
   "metadata": {},
   "source": [
    "By doing this, the dataclass will sort the objects by every field until it finds a value that’s not equal.\n",
    "\n",
    "In practice, you often want to compare objects by a particular attribute, not all attributes. To do that, you need to define a field called **sort_index** and set its value to the attribute that you want to sort.\n",
    "\n",
    "For example, suppose you have a list of **Person‘s** objects and want to sort them by **age**:\n"
   ]
  },
  {
   "cell_type": "code",
   "execution_count": 18,
   "id": "25058834",
   "metadata": {},
   "outputs": [
    {
     "name": "stdout",
     "output_type": "stream",
     "text": [
      "called __post_init__ method\n",
      "called __post_init__ method\n",
      "called __post_init__ method\n"
     ]
    }
   ],
   "source": [
    "members = [\n",
    "    Person('John', 25),\n",
    "    Person('Bob', 35),\n",
    "    Person('Alice', 30)\n",
    "]\n"
   ]
  },
  {
   "cell_type": "markdown",
   "id": "53d07be2",
   "metadata": {},
   "source": [
    "To do that, you need to:\n",
    "\n",
    "- First, pass the **order=True** parameter to the **@dataclass** decorator.\n",
    "- Second, define the **sort_index** attribute and set its **init** parameter to **False**.\n",
    "- Third, set the **sort_index** to the **age** attribute in the \\_\\_post_init\\_\\_ method to sort the **Person‘s** object by **age**.\n",
    "\n",
    "The following shows the code for sorting **Person‘s** objects by **age**:\n"
   ]
  },
  {
   "cell_type": "code",
   "execution_count": 19,
   "id": "db1ecdf0",
   "metadata": {},
   "outputs": [
    {
     "name": "stdout",
     "output_type": "stream",
     "text": [
      "Name: John, Age: 25\n",
      "Name: Alice, Age: 30\n",
      "Name: Bob, Age: 35\n"
     ]
    }
   ],
   "source": [
    "from dataclasses import dataclass, field\n",
    "\n",
    "\n",
    "@dataclass(order=True)\n",
    "class Person:\n",
    "    sort_index: int = field(init=False, repr=False)\n",
    "\n",
    "    name: str\n",
    "    age: int\n",
    "    iq: int = 100\n",
    "    can_vote: bool = field(init=False)\n",
    "\n",
    "    def __post_init__(self):\n",
    "        self.can_vote = 18 <= self.age <= 70\n",
    "        self.sort_index = self.age\n",
    "\n",
    "\n",
    "members = [\n",
    "    Person(name='John', age=25),\n",
    "    Person(name='Bob', age=35),\n",
    "    Person(name='Alice', age=30)\n",
    "]\n",
    "\n",
    "sorted_members = sorted(members)\n",
    "for member in sorted_members:\n",
    "    print(f'Name: {member.name}, Age: {member.age}')\n"
   ]
  },
  {
   "cell_type": "markdown",
   "id": "98e5f6ab",
   "metadata": {},
   "source": [
    "## Less code to define a class\n"
   ]
  },
  {
   "cell_type": "markdown",
   "id": "6c32fb7e",
   "metadata": {},
   "source": [
    "When we define a class to store some attributes, it usually goes something like this.\n"
   ]
  },
  {
   "cell_type": "code",
   "execution_count": 19,
   "id": "c77861c1",
   "metadata": {},
   "outputs": [],
   "source": [
    "class Person():\n",
    "    def __init__(self, first_name, last_name, age, job):\n",
    "        self.first_name = first_name\n",
    "        self.last_name = last_name\n",
    "        self.age = age\n",
    "        self.job = job\n"
   ]
  },
  {
   "cell_type": "markdown",
   "id": "f196d608",
   "metadata": {},
   "source": [
    "This is the standard Python syntax.\n",
    "\n",
    "When you use dataclasses, you first have to import **dataclass** and then use it as a decorator before the class you define.\n",
    "\n",
    "And here’s what the previous code looks like using dataclasses.\n"
   ]
  },
  {
   "cell_type": "code",
   "execution_count": 20,
   "id": "f339fa2a",
   "metadata": {},
   "outputs": [],
   "source": [
    "from dataclasses import dataclass\n",
    "\n",
    "\n",
    "@dataclass\n",
    "class Person:\n",
    "    first_name: str\n",
    "    last_name: str\n",
    "    age: int\n",
    "    job: str\n"
   ]
  },
  {
   "cell_type": "markdown",
   "id": "cfcfc483",
   "metadata": {},
   "source": [
    "A few things to notice about this syntax:\n",
    "\n",
    "- There is less boilerplate code: we define each attribute once and we don’t repeat ourselves\n",
    "- We use type annotation for each attribute. Although this doesn’t enforce type validation, it helps your text editor provide better linting if you use a type checker like mypy.\n",
    "- Your code would still work if you don’t respect the types but your code editor will signal the inconsistencies.\n",
    "- dataclasses doesn’t just allow you to write more compact code. The dataclass decorator is actually a code generator that automatically adds other methods under the hood. If we use the inspectmodule to check what methods have been added to the Person class, we can see the \\_\\_init\\_\\_ , \\_\\_eq\\_\\_ and \\_\\_repr\\_\\_ methods: these methods are responsible for setting the attribute values, testing for equality and representing objects in a nice string format\n",
    "\n",
    "If we allowed the Personclass to support order, we’d have these methods as well.\n",
    "\n",
    "- \\_\\_ge\\_\\_ : greater or equal\n",
    "- \\_\\_gt\\_\\_ : greater than\n",
    "- \\_\\_le\\_\\_ : lower or equal\n",
    "- \\_\\_lt\\_\\_ : lower than\n"
   ]
  },
  {
   "cell_type": "markdown",
   "id": "fe43aa9b",
   "metadata": {},
   "source": [
    "## Support for default values\n"
   ]
  },
  {
   "cell_type": "markdown",
   "id": "1b14b1ac",
   "metadata": {},
   "source": [
    "You can add default values to each attribute while preserving the annotation.\n"
   ]
  },
  {
   "cell_type": "code",
   "execution_count": 21,
   "id": "823f5378",
   "metadata": {},
   "outputs": [],
   "source": [
    "from dataclasses import dataclass\n",
    "\n",
    "\n",
    "@dataclass\n",
    "class Person:\n",
    "    first_name: str = \"Guido\"\n",
    "    last_name: str = \"van Rossum\"\n",
    "    age: int = 66\n",
    "    job: str = \"Benevolent Dictator for Life (BDFL)\"\n"
   ]
  },
  {
   "cell_type": "markdown",
   "id": "2b68ace5",
   "metadata": {},
   "source": [
    "Keep in mind that fields without default values cannot appear after fields with default values. For example, the following code won’t work:\n"
   ]
  },
  {
   "cell_type": "code",
   "execution_count": 22,
   "id": "8c247304",
   "metadata": {},
   "outputs": [
    {
     "ename": "TypeError",
     "evalue": "non-default argument 'hobbies' follows default argument",
     "output_type": "error",
     "traceback": [
      "\u001b[1;31m---------------------------------------------------------------------------\u001b[0m",
      "\u001b[1;31mTypeError\u001b[0m                                 Traceback (most recent call last)",
      "Cell \u001b[1;32mIn[22], line 5\u001b[0m\n\u001b[0;32m      1\u001b[0m \u001b[38;5;28;01mfrom\u001b[39;00m \u001b[38;5;21;01mdataclasses\u001b[39;00m \u001b[38;5;28;01mimport\u001b[39;00m dataclass\n\u001b[0;32m      4\u001b[0m \u001b[38;5;129;43m@dataclass\u001b[39;49m\n\u001b[1;32m----> 5\u001b[0m \u001b[38;5;28;43;01mclass\u001b[39;49;00m\u001b[43m \u001b[49m\u001b[38;5;21;43;01mPerson\u001b[39;49;00m\u001b[43m:\u001b[49m\n\u001b[0;32m      6\u001b[0m \u001b[43m    \u001b[49m\u001b[43mfirst_name\u001b[49m\u001b[43m:\u001b[49m\u001b[43m \u001b[49m\u001b[38;5;28;43mstr\u001b[39;49m\u001b[43m \u001b[49m\u001b[38;5;241;43m=\u001b[39;49m\u001b[43m \u001b[49m\u001b[38;5;124;43m\"\u001b[39;49m\u001b[38;5;124;43mGuido\u001b[39;49m\u001b[38;5;124;43m\"\u001b[39;49m\n\u001b[0;32m      7\u001b[0m \u001b[43m    \u001b[49m\u001b[43mlast_name\u001b[49m\u001b[43m:\u001b[49m\u001b[43m \u001b[49m\u001b[38;5;28;43mstr\u001b[39;49m\u001b[43m \u001b[49m\u001b[38;5;241;43m=\u001b[39;49m\u001b[43m \u001b[49m\u001b[38;5;124;43m\"\u001b[39;49m\u001b[38;5;124;43mvan Rossum\u001b[39;49m\u001b[38;5;124;43m\"\u001b[39;49m\n",
      "File \u001b[1;32m~\\anaconda3\\lib\\dataclasses.py:1184\u001b[0m, in \u001b[0;36mdataclass\u001b[1;34m(cls, init, repr, eq, order, unsafe_hash, frozen, match_args, kw_only, slots)\u001b[0m\n\u001b[0;32m   1181\u001b[0m     \u001b[38;5;28;01mreturn\u001b[39;00m wrap\n\u001b[0;32m   1183\u001b[0m \u001b[38;5;66;03m# We're called as @dataclass without parens.\u001b[39;00m\n\u001b[1;32m-> 1184\u001b[0m \u001b[38;5;28;01mreturn\u001b[39;00m \u001b[43mwrap\u001b[49m\u001b[43m(\u001b[49m\u001b[38;5;28;43mcls\u001b[39;49m\u001b[43m)\u001b[49m\n",
      "File \u001b[1;32m~\\anaconda3\\lib\\dataclasses.py:1175\u001b[0m, in \u001b[0;36mdataclass.<locals>.wrap\u001b[1;34m(cls)\u001b[0m\n\u001b[0;32m   1174\u001b[0m \u001b[38;5;28;01mdef\u001b[39;00m \u001b[38;5;21mwrap\u001b[39m(\u001b[38;5;28mcls\u001b[39m):\n\u001b[1;32m-> 1175\u001b[0m     \u001b[38;5;28;01mreturn\u001b[39;00m \u001b[43m_process_class\u001b[49m\u001b[43m(\u001b[49m\u001b[38;5;28;43mcls\u001b[39;49m\u001b[43m,\u001b[49m\u001b[43m \u001b[49m\u001b[43minit\u001b[49m\u001b[43m,\u001b[49m\u001b[43m \u001b[49m\u001b[38;5;28;43mrepr\u001b[39;49m\u001b[43m,\u001b[49m\u001b[43m \u001b[49m\u001b[43meq\u001b[49m\u001b[43m,\u001b[49m\u001b[43m \u001b[49m\u001b[43morder\u001b[49m\u001b[43m,\u001b[49m\u001b[43m \u001b[49m\u001b[43munsafe_hash\u001b[49m\u001b[43m,\u001b[49m\n\u001b[0;32m   1176\u001b[0m \u001b[43m                          \u001b[49m\u001b[43mfrozen\u001b[49m\u001b[43m,\u001b[49m\u001b[43m \u001b[49m\u001b[43mmatch_args\u001b[49m\u001b[43m,\u001b[49m\u001b[43m \u001b[49m\u001b[43mkw_only\u001b[49m\u001b[43m,\u001b[49m\u001b[43m \u001b[49m\u001b[43mslots\u001b[49m\u001b[43m)\u001b[49m\n",
      "File \u001b[1;32m~\\anaconda3\\lib\\dataclasses.py:1024\u001b[0m, in \u001b[0;36m_process_class\u001b[1;34m(cls, init, repr, eq, order, unsafe_hash, frozen, match_args, kw_only, slots)\u001b[0m\n\u001b[0;32m   1019\u001b[0m \u001b[38;5;28;01mif\u001b[39;00m init:\n\u001b[0;32m   1020\u001b[0m     \u001b[38;5;66;03m# Does this class have a post-init function?\u001b[39;00m\n\u001b[0;32m   1021\u001b[0m     has_post_init \u001b[38;5;241m=\u001b[39m \u001b[38;5;28mhasattr\u001b[39m(\u001b[38;5;28mcls\u001b[39m, _POST_INIT_NAME)\n\u001b[0;32m   1023\u001b[0m     _set_new_attribute(\u001b[38;5;28mcls\u001b[39m, \u001b[38;5;124m'\u001b[39m\u001b[38;5;124m__init__\u001b[39m\u001b[38;5;124m'\u001b[39m,\n\u001b[1;32m-> 1024\u001b[0m                        \u001b[43m_init_fn\u001b[49m\u001b[43m(\u001b[49m\u001b[43mall_init_fields\u001b[49m\u001b[43m,\u001b[49m\n\u001b[0;32m   1025\u001b[0m \u001b[43m                                \u001b[49m\u001b[43mstd_init_fields\u001b[49m\u001b[43m,\u001b[49m\n\u001b[0;32m   1026\u001b[0m \u001b[43m                                \u001b[49m\u001b[43mkw_only_init_fields\u001b[49m\u001b[43m,\u001b[49m\n\u001b[0;32m   1027\u001b[0m \u001b[43m                                \u001b[49m\u001b[43mfrozen\u001b[49m\u001b[43m,\u001b[49m\n\u001b[0;32m   1028\u001b[0m \u001b[43m                                \u001b[49m\u001b[43mhas_post_init\u001b[49m\u001b[43m,\u001b[49m\n\u001b[0;32m   1029\u001b[0m \u001b[43m                                \u001b[49m\u001b[38;5;66;43;03m# The name to use for the \"self\"\u001b[39;49;00m\n\u001b[0;32m   1030\u001b[0m \u001b[43m                                \u001b[49m\u001b[38;5;66;43;03m# param in __init__.  Use \"self\"\u001b[39;49;00m\n\u001b[0;32m   1031\u001b[0m \u001b[43m                                \u001b[49m\u001b[38;5;66;43;03m# if possible.\u001b[39;49;00m\n\u001b[0;32m   1032\u001b[0m \u001b[43m                                \u001b[49m\u001b[38;5;124;43m'\u001b[39;49m\u001b[38;5;124;43m__dataclass_self__\u001b[39;49m\u001b[38;5;124;43m'\u001b[39;49m\u001b[43m \u001b[49m\u001b[38;5;28;43;01mif\u001b[39;49;00m\u001b[43m \u001b[49m\u001b[38;5;124;43m'\u001b[39;49m\u001b[38;5;124;43mself\u001b[39;49m\u001b[38;5;124;43m'\u001b[39;49m\u001b[43m \u001b[49m\u001b[38;5;129;43;01min\u001b[39;49;00m\u001b[43m \u001b[49m\u001b[43mfields\u001b[49m\n\u001b[0;32m   1033\u001b[0m \u001b[43m                                        \u001b[49m\u001b[38;5;28;43;01melse\u001b[39;49;00m\u001b[43m \u001b[49m\u001b[38;5;124;43m'\u001b[39;49m\u001b[38;5;124;43mself\u001b[39;49m\u001b[38;5;124;43m'\u001b[39;49m\u001b[43m,\u001b[49m\n\u001b[0;32m   1034\u001b[0m \u001b[43m                                \u001b[49m\u001b[38;5;28;43mglobals\u001b[39;49m\u001b[43m,\u001b[49m\n\u001b[0;32m   1035\u001b[0m \u001b[43m                                \u001b[49m\u001b[43mslots\u001b[49m\u001b[43m,\u001b[49m\n\u001b[0;32m   1036\u001b[0m \u001b[43m                      \u001b[49m\u001b[43m)\u001b[49m)\n\u001b[0;32m   1038\u001b[0m \u001b[38;5;66;03m# Get the fields as a list, and include only real fields.  This is\u001b[39;00m\n\u001b[0;32m   1039\u001b[0m \u001b[38;5;66;03m# used in all of the following methods.\u001b[39;00m\n\u001b[0;32m   1040\u001b[0m field_list \u001b[38;5;241m=\u001b[39m [f \u001b[38;5;28;01mfor\u001b[39;00m f \u001b[38;5;129;01min\u001b[39;00m fields\u001b[38;5;241m.\u001b[39mvalues() \u001b[38;5;28;01mif\u001b[39;00m f\u001b[38;5;241m.\u001b[39m_field_type \u001b[38;5;129;01mis\u001b[39;00m _FIELD]\n",
      "File \u001b[1;32m~\\anaconda3\\lib\\dataclasses.py:544\u001b[0m, in \u001b[0;36m_init_fn\u001b[1;34m(fields, std_fields, kw_only_fields, frozen, has_post_init, self_name, globals, slots)\u001b[0m\n\u001b[0;32m    542\u001b[0m             seen_default \u001b[38;5;241m=\u001b[39m \u001b[38;5;28;01mTrue\u001b[39;00m\n\u001b[0;32m    543\u001b[0m         \u001b[38;5;28;01melif\u001b[39;00m seen_default:\n\u001b[1;32m--> 544\u001b[0m             \u001b[38;5;28;01mraise\u001b[39;00m \u001b[38;5;167;01mTypeError\u001b[39;00m(\u001b[38;5;124mf\u001b[39m\u001b[38;5;124m'\u001b[39m\u001b[38;5;124mnon-default argument \u001b[39m\u001b[38;5;132;01m{\u001b[39;00mf\u001b[38;5;241m.\u001b[39mname\u001b[38;5;132;01m!r}\u001b[39;00m\u001b[38;5;124m \u001b[39m\u001b[38;5;124m'\u001b[39m\n\u001b[0;32m    545\u001b[0m                             \u001b[38;5;124m'\u001b[39m\u001b[38;5;124mfollows default argument\u001b[39m\u001b[38;5;124m'\u001b[39m)\n\u001b[0;32m    547\u001b[0m \u001b[38;5;28mlocals\u001b[39m \u001b[38;5;241m=\u001b[39m {\u001b[38;5;124mf\u001b[39m\u001b[38;5;124m'\u001b[39m\u001b[38;5;124m_type_\u001b[39m\u001b[38;5;132;01m{\u001b[39;00mf\u001b[38;5;241m.\u001b[39mname\u001b[38;5;132;01m}\u001b[39;00m\u001b[38;5;124m'\u001b[39m: f\u001b[38;5;241m.\u001b[39mtype \u001b[38;5;28;01mfor\u001b[39;00m f \u001b[38;5;129;01min\u001b[39;00m fields}\n\u001b[0;32m    548\u001b[0m \u001b[38;5;28mlocals\u001b[39m\u001b[38;5;241m.\u001b[39mupdate({\n\u001b[0;32m    549\u001b[0m     \u001b[38;5;124m'\u001b[39m\u001b[38;5;124mMISSING\u001b[39m\u001b[38;5;124m'\u001b[39m: MISSING,\n\u001b[0;32m    550\u001b[0m     \u001b[38;5;124m'\u001b[39m\u001b[38;5;124m_HAS_DEFAULT_FACTORY\u001b[39m\u001b[38;5;124m'\u001b[39m: _HAS_DEFAULT_FACTORY,\n\u001b[0;32m    551\u001b[0m     \u001b[38;5;124m'\u001b[39m\u001b[38;5;124m__dataclass_builtins_object__\u001b[39m\u001b[38;5;124m'\u001b[39m: \u001b[38;5;28mobject\u001b[39m,\n\u001b[0;32m    552\u001b[0m })\n",
      "\u001b[1;31mTypeError\u001b[0m: non-default argument 'hobbies' follows default argument"
     ]
    }
   ],
   "source": [
    "from dataclasses import dataclass\n",
    "\n",
    "\n",
    "@dataclass\n",
    "class Person:\n",
    "    first_name: str = \"Guido\"\n",
    "    last_name: str = \"van Rossum\"\n",
    "    age: int = 66\n",
    "    job: str = \"Benevolent Dictator for Life (BDFL)\"\n",
    "    hobbies: str\n"
   ]
  },
  {
   "cell_type": "markdown",
   "id": "268650a3",
   "metadata": {},
   "source": [
    "## Custom representations of the objects\n"
   ]
  },
  {
   "cell_type": "markdown",
   "id": "760f5025",
   "metadata": {},
   "source": [
    "Thanks to the \\_\\_repr\\_\\_ method already added by dataclasses, instances have a nice, human-readable representation when they are printed to the screen.\n",
    "\n",
    "This makes it easier for debugging.\n"
   ]
  },
  {
   "cell_type": "code",
   "execution_count": 24,
   "id": "2833cba5",
   "metadata": {},
   "outputs": [
    {
     "name": "stdout",
     "output_type": "stream",
     "text": [
      "Person(first_name='Guido', last_name='van Rossum', age=66, job='Benevolent Dictator for Life (BDFL)')\n"
     ]
    }
   ],
   "source": [
    "@dataclass\n",
    "class Person:\n",
    "    first_name: str = \"Guido\"\n",
    "    last_name: str = \"van Rossum\"\n",
    "    age: int = 66\n",
    "    job: str = \"Benevolent Dictator for Life (BDFL)\"\n",
    "\n",
    "\n",
    "guido = Person()\n",
    "print(guido)\n"
   ]
  },
  {
   "cell_type": "markdown",
   "id": "9dbd7111",
   "metadata": {},
   "source": [
    "This representation can be overridden to implement any custom message you want.\n"
   ]
  },
  {
   "cell_type": "code",
   "execution_count": 24,
   "id": "a5df20c4",
   "metadata": {},
   "outputs": [
    {
     "name": "stdout",
     "output_type": "stream",
     "text": [
      "Guido van Rossum (66)\n"
     ]
    }
   ],
   "source": [
    "@dataclass\n",
    "class Person:\n",
    "    first_name: str = \"Guido\"\n",
    "    last_name: str = \"van Rossum\"\n",
    "    age: int = 66\n",
    "    job: str = \"Benevolent Dictator for Life (BDFL)\"\n",
    "\n",
    "    def __repr__(self):\n",
    "        return f\"{self.first_name} {self.last_name} ({self.age})\"\n",
    "\n",
    "\n",
    "guido = Person()\n",
    "print(guido)\n"
   ]
  },
  {
   "cell_type": "markdown",
   "id": "3c3c85ed",
   "metadata": {},
   "source": [
    "## Easy conversion to a tuple or a dictionary\n"
   ]
  },
  {
   "cell_type": "markdown",
   "id": "fa429b78",
   "metadata": {},
   "source": [
    "Instances can easily be serialized into dicts or tuples. This is very useful when your code interacts with other programs that expect these formats.\n"
   ]
  },
  {
   "cell_type": "code",
   "execution_count": 26,
   "id": "38645a3b",
   "metadata": {},
   "outputs": [
    {
     "name": "stdout",
     "output_type": "stream",
     "text": [
      "Person(first_name='Guido', last_name='van Rossum', age=66, job='Benevolent Dictator for Life (BDFL)')\n",
      "{'first_name': 'Guido', 'last_name': 'van Rossum', 'age': 66, 'job': 'Benevolent Dictator for Life (BDFL)'}\n",
      "('Guido', 'van Rossum', 66, 'Benevolent Dictator for Life (BDFL)')\n"
     ]
    }
   ],
   "source": [
    "from dataclasses import astuple, asdict\n",
    "\n",
    "guido = Person()\n",
    "print(guido)\n",
    "print(asdict(guido))\n",
    "print(astuple(guido))\n"
   ]
  },
  {
   "cell_type": "markdown",
   "id": "c5c8d136",
   "metadata": {},
   "source": [
    "## Frozen instances / immutable objects\n"
   ]
  },
  {
   "cell_type": "markdown",
   "id": "c34afa74",
   "metadata": {},
   "source": [
    "Using dataclasses, you can create objects that are read-only. All you have to do is set the **frozen** argument to **True** inside the **@dataclass** decorator.\n"
   ]
  },
  {
   "cell_type": "code",
   "execution_count": 27,
   "id": "ff704c68",
   "metadata": {},
   "outputs": [],
   "source": [
    "@dataclass(frozen=True)\n",
    "class Person:\n",
    "    first_name: str = \"Guido\"\n",
    "    last_name: str = \"van Rossum\"\n",
    "    age: int = 66\n",
    "    job: str = \"Benevolent Dictator for Life (BDFL)\"\n"
   ]
  },
  {
   "cell_type": "markdown",
   "id": "78515cb5",
   "metadata": {},
   "source": [
    "When you do this, you prevent anyone from modifying the values of the attributes once the object is instantiated.\n",
    "\n",
    "If you try to set a frozen object’s attribute to a new value, a **FrozenInstanceError** error will be raised.\n"
   ]
  },
  {
   "cell_type": "markdown",
   "id": "f6d9a0f1",
   "metadata": {},
   "source": [
    "## No need to write comparison methods\n"
   ]
  },
  {
   "cell_type": "markdown",
   "id": "4af43033",
   "metadata": {},
   "source": [
    "When you define a class using the standard Python syntax and test for the equality between two instances that have the same attribute values, here’s what you’d get:\n"
   ]
  },
  {
   "cell_type": "code",
   "execution_count": 28,
   "id": "0bccf779",
   "metadata": {},
   "outputs": [
    {
     "name": "stdout",
     "output_type": "stream",
     "text": [
      "False\n"
     ]
    }
   ],
   "source": [
    "class Person():\n",
    "    def __init__(self, first_name, last_name, age, job):\n",
    "        self.first_name = first_name\n",
    "        self.last_name = last_name\n",
    "        self.age = age\n",
    "        self.job = job\n",
    "\n",
    "\n",
    "first_person = Person(\"Guido\", \"van Rossum\", 66, \"Benevolent Dictator for Life (BDFL)\")\n",
    "second_person = Person(\"Guido\", \"van Rossum\", 66, \"Benevolent Dictator for Life (BDFL)\")\n",
    "\n",
    "print(first_person == second_person)\n"
   ]
  },
  {
   "cell_type": "markdown",
   "id": "dc3cdb4d",
   "metadata": {},
   "source": [
    "These two objects are not equal, which is normal because the **Person** class doesn’t actually implement a method for testing equality. To add equality, you’d have to implement the \\_\\_eq\\_\\_ method yourself. And this may look like this:"
   ]
  },
  {
   "cell_type": "code",
   "execution_count": 29,
   "id": "840da1ab",
   "metadata": {},
   "outputs": [],
   "source": [
    "class Person():\n",
    "    def __init__(self, first_name, last_name, age, job):\n",
    "        self.first_name = first_name\n",
    "        self.last_name = last_name\n",
    "        self.age = age\n",
    "        self.job = job\n",
    "\n",
    "    def __eq__(self, other):\n",
    "        if other.__class__ is not self.__class__:\n",
    "            return NotImplemented\n",
    "        return (self.first_name,\n",
    "                self.last_name,\n",
    "                self.age,\n",
    "                self.job) == (other.first_name,\n",
    "                              other.last_name,\n",
    "                              other.age,\n",
    "                              other.job)\n"
   ]
  },
  {
   "cell_type": "markdown",
   "id": "0f0c3e49",
   "metadata": {},
   "source": [
    "This method first checks that the two objects are instances of the same class and then tests the equality between tuples of attributes.\n",
    "\n",
    "Now if you decide to add new attributes to your class, you’d have to update the \\_\\_eq\\_\\_ method again. The same goes for \\_\\_ge\\_\\_ , \\_\\_gt\\_\\_ ,\\_\\_le\\_\\_ and \\_\\_lt\\_\\_ if they’re used.\n",
    "\n",
    "This seems like unnecessary code typing, right? Fortunately, dataclasses removes this struggle."
   ]
  },
  {
   "cell_type": "code",
   "execution_count": 30,
   "id": "985f1d24",
   "metadata": {},
   "outputs": [
    {
     "name": "stdout",
     "output_type": "stream",
     "text": [
      "True\n"
     ]
    }
   ],
   "source": [
    "@dataclass\n",
    "class Person:\n",
    "    first_name: str = \"Guido\"\n",
    "    last_name: str = \"van Rossum\"\n",
    "    age: int = 66\n",
    "    job: str = \"Benevolent Dictator for Life (BDFL)\"\n",
    "\n",
    "first_person = Person()\n",
    "second_person = Person()\n",
    "\n",
    "print(first_person == second_person)"
   ]
  },
  {
   "cell_type": "markdown",
   "id": "bd9d4e25",
   "metadata": {},
   "source": [
    "## Custom attribute behaviour with the field function\n"
   ]
  },
  {
   "cell_type": "markdown",
   "id": "197f71e2",
   "metadata": {},
   "source": [
    "In some situations, you may need to create an attribute that is only defined internally, not when the class is instantiated. This may be the case when the attribute has a value that depends on previously-set attributes.\n",
    "\n",
    "Here’s where you’d use the **field** function from dataclasses.\n",
    "\n",
    "By using this function and setting its **init** and **repr** arguments to **False** to create a new field called **full\\_name**, we can still instantiate the **Person** class without setting the **full\\_name** attribute."
   ]
  },
  {
   "cell_type": "code",
   "execution_count": 32,
   "id": "46d131b0",
   "metadata": {},
   "outputs": [],
   "source": [
    "from dataclasses import dataclass, field\n",
    "\n",
    "@dataclass\n",
    "class Person:\n",
    "    first_name: str = \"Guido\"\n",
    "    last_name: str = \"van Rossum\"\n",
    "    age: int = 66\n",
    "    job: str = \"Benevolent Dictator for Life (BDFL)\"\n",
    "    full_name: str = field(init=False, repr=False)"
   ]
  },
  {
   "cell_type": "markdown",
   "id": "a72e7402",
   "metadata": {},
   "source": [
    "This attribute doesn’t exist yet in the instance. If we try to access it, an **AttributeError** is thrown.\n",
    "\n",
    "How can we set the value of full_name and still keep it out of the constructor of the class? To do this, we’ll have to use the \\_\\_post\\_init\\_\\_ method."
   ]
  },
  {
   "cell_type": "markdown",
   "id": "432cbf75",
   "metadata": {},
   "source": [
    "## The \\_\\_post\\_init\\_\\_ hook\n"
   ]
  },
  {
   "cell_type": "markdown",
   "id": "164077ce",
   "metadata": {},
   "source": [
    "dataclasses has a special method called \\_\\_post\\_init\\_\\_.\n",
    "\n",
    "As the name clearly suggests, this method is called right after the \\_\\_init\\_\\_ method is called.\n",
    "\n",
    "Going back to the previous example, we can see how this method can be called to initialize an internal attribute that depends on previously set attributes."
   ]
  },
  {
   "cell_type": "code",
   "execution_count": 33,
   "id": "e606c6ac",
   "metadata": {},
   "outputs": [
    {
     "name": "stdout",
     "output_type": "stream",
     "text": [
      "Person(first_name='Guido', last_name='van Rossum', age=66, job='Benevolent Dictator for Life (BDFL)', full_name='Guido van Rossum')\n"
     ]
    }
   ],
   "source": [
    "@dataclass\n",
    "class Person:\n",
    "    first_name: str = \"Guido\"\n",
    "    last_name: str = \"van Rossum\"\n",
    "    age: int = 66\n",
    "    job: str = \"Benevolent Dictator for Life (BDFL)\"\n",
    "    full_name: str = field(init=False, repr=True)\n",
    "    \n",
    "    def __post_init__(self):\n",
    "        self.full_name = self.first_name + \" \" + self.last_name\n",
    "\n",
    "guido = Person()\n",
    "print(guido)"
   ]
  },
  {
   "cell_type": "code",
   "execution_count": 34,
   "id": "a842a15b",
   "metadata": {},
   "outputs": [
    {
     "data": {
      "text/plain": [
       "'Guido van Rossum'"
      ]
     },
     "execution_count": 34,
     "metadata": {},
     "output_type": "execute_result"
    }
   ],
   "source": [
    "guido.full_name"
   ]
  },
  {
   "cell_type": "markdown",
   "id": "77c8b916",
   "metadata": {},
   "source": [
    "Note that the repr argument inside the **field** function has been set to **True** to make it visible when the object is printed. We couldn’t set this argument to **True** in the previous example because the attribute **full\\_name** has not been created yet."
   ]
  },
  {
   "cell_type": "markdown",
   "id": "958f0fa4",
   "metadata": {},
   "source": [
    "## Compare objects and sort them\n"
   ]
  },
  {
   "cell_type": "markdown",
   "id": "eb62a516",
   "metadata": {},
   "source": [
    "One useful feature to have when you deal with objects that contain data is the ability to compare them and sort them in any order you intend.\n",
    "\n",
    "By default, dataclasses implements \\_\\_eq\\_\\_. \n",
    "\n",
    "To allow the other types of comparison (\\_\\_lt\\_\\_ (less than), \\_\\_le\\_\\_ (less or equal), \\_\\_gt\\_\\_ (greater than) and \\_\\_ge\\_\\_ (greater or equal)), we have to set the **order** argument to **True** in the **@dataclass** decorator."
   ]
  },
  {
   "cell_type": "code",
   "execution_count": 33,
   "id": "98623034",
   "metadata": {},
   "outputs": [
    {
     "ename": "SyntaxError",
     "evalue": "incomplete input (2644099477.py, line 1)",
     "output_type": "error",
     "traceback": [
      "\u001b[0;36m  Cell \u001b[0;32mIn[33], line 1\u001b[0;36m\u001b[0m\n\u001b[0;31m    @dataclasses(order=True)\u001b[0m\n\u001b[0m                            ^\u001b[0m\n\u001b[0;31mSyntaxError\u001b[0m\u001b[0;31m:\u001b[0m incomplete input\n"
     ]
    }
   ],
   "source": [
    "@dataclasses(order=True)"
   ]
  },
  {
   "cell_type": "markdown",
   "id": "1917d001",
   "metadata": {},
   "source": [
    "The way these comparison methods are implemented take every defined field and compare them in the order they are defined until there’s a value that’s not equal.\n",
    "\n",
    "Let’s get back to the **Person** class. Say we want to compare the instances of this class based on the age attribute (which makes sense, right?).\n",
    "\n",
    "To do this, we’ll have to add a field, which we’ll call **sort\\_index** and set its value to the ageattribute’s value.\n",
    "\n",
    "And the way we’d do this is by calling the \\_\\_post\\_init\\_\\_ method we saw in the previous example."
   ]
  },
  {
   "cell_type": "code",
   "execution_count": 35,
   "id": "583d1a2d",
   "metadata": {},
   "outputs": [
    {
     "name": "stdout",
     "output_type": "stream",
     "text": [
      "True\n"
     ]
    }
   ],
   "source": [
    "from dataclasses import dataclass, field\n",
    "\n",
    "\n",
    "@dataclass(order=True)\n",
    "class Person:\n",
    "    first_name: str = \"Guido\"\n",
    "    last_name: str = \"van Rossum\"\n",
    "    age: int = 66\n",
    "    job: str = \"Benevolent Dictator for Life (BDFL)\"\n",
    "    sort_index: int = field(init=False, repr=False)\n",
    "\n",
    "    def __post_init__(self):\n",
    "        self.sort_index = self.age\n",
    "\n",
    "\n",
    "p1 = Person(age=30)\n",
    "p2 = Person(age=20)\n",
    "\n",
    "print(p1 > p2)\n"
   ]
  },
  {
   "cell_type": "markdown",
   "id": "dd71990e",
   "metadata": {},
   "source": [
    "Now instances from the Person a class can be sorted with respect to the age attribute."
   ]
  }
 ],
 "metadata": {
  "colab": {
   "collapsed_sections": [],
   "provenance": []
  },
  "kernelspec": {
   "display_name": "Python 3 (ipykernel)",
   "language": "python",
   "name": "python3"
  },
  "language_info": {
   "codemirror_mode": {
    "name": "ipython",
    "version": 3
   },
   "file_extension": ".py",
   "mimetype": "text/x-python",
   "name": "python",
   "nbconvert_exporter": "python",
   "pygments_lexer": "ipython3",
   "version": "3.10.9"
  }
 },
 "nbformat": 4,
 "nbformat_minor": 5
}
