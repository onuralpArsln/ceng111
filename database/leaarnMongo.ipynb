{
 "cells": [
  {
   "cell_type": "markdown",
   "metadata": {},
   "source": [
    "# MongoDB"
   ]
  },
  {
   "cell_type": "markdown",
   "metadata": {},
   "source": [
    "It is a noSQL database. but what is that mean\n",
    "\n",
    "database holds values even we stop our program so you can save your data between diffrent runs. it also known as persistance.   \n",
    "think it like saving text files but better   \n",
    "\n",
    "SQL (Structured Query Language)  is a common standart language for managining databases.  \n",
    "\n",
    "Mongo uses its own language to store data with json like documents.  \n",
    "\n",
    "What is JSON   \n",
    "\n",
    "javascript object notation is a best method to transfer object data especially in web. also you can store your python objects as json whch is called serialization. \n"
   ]
  },
  {
   "cell_type": "markdown",
   "metadata": {},
   "source": [
    "go to  https://www.mongodb.com/pricing \n",
    "\n",
    "as you can see there is a free tier with limited capacity. It is not suitable for commercial use but it is enough for us to learn it. \n",
    "\n",
    "MongoDB is common with web stacks like MEAN and MERN. \n",
    "\n",
    "\n",
    "create your cluster \n",
    "\n",
    "\n",
    "iUjfHoCY8IKu3eh1\n",
    "\n",
    "\n",
    "and add your ip to secure connectşon list "
   ]
  },
  {
   "cell_type": "markdown",
   "metadata": {},
   "source": [
    "to use with pytyhon we need some packages\n",
    "\n",
    "pip install pymongo"
   ]
  },
  {
   "cell_type": "code",
   "execution_count": null,
   "metadata": {},
   "outputs": [],
   "source": []
  }
 ],
 "metadata": {
  "language_info": {
   "name": "python"
  }
 },
 "nbformat": 4,
 "nbformat_minor": 2
}
